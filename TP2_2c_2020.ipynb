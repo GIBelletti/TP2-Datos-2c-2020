{
  "nbformat": 4,
  "nbformat_minor": 0,
  "metadata": {
    "colab": {
      "name": "TP2 2c 2020.ipynb",
      "provenance": [],
      "collapsed_sections": [
        "5NvRrhUOrEpv",
        "xKefRXXOFaXI",
        "9ewHMS-ygNPS",
        "O5HEIBMXmxps",
        "lP_c0s_PgPKn",
        "YjCt76D_rHMn",
        "GJYpToCYrfnk",
        "hyRdoRPf5wSN",
        "knmx6tPo01QZ",
        "q8JeolJN08kJ",
        "1xfzMbqiZrue",
        "MtY8vcczJZDx",
        "zVBNOzCKY0VD",
        "J983upopKwQx",
        "I-rXEcxr-Nns",
        "eXu5RWvjWtP-",
        "onKsrVr1lwas",
        "baxdAoAzfwxz",
        "fUJPG4lVu_9K"
      ],
      "toc_visible": true
    },
    "kernelspec": {
      "display_name": "Python 3",
      "name": "python3"
    }
  },
  "cells": [
    {
      "cell_type": "markdown",
      "metadata": {
        "id": "LaZMud-2rKuY"
      },
      "source": [
        "# TP 2"
      ]
    },
    {
      "cell_type": "markdown",
      "metadata": {
        "id": "5NvRrhUOrEpv"
      },
      "source": [
        "## Imports"
      ]
    },
    {
      "cell_type": "markdown",
      "metadata": {
        "id": "xKefRXXOFaXI"
      },
      "source": [
        "### imports base"
      ]
    },
    {
      "cell_type": "code",
      "metadata": {
        "id": "ksz2M8HorAfb"
      },
      "source": [
        "import pandas as pd\r\n",
        "import numpy as np\r\n",
        "import matplotlib.pyplot as plt\r\n",
        "import seaborn as sns\r\n",
        "import plotly.graph_objects as go\r\n",
        "import matplotlib\r\n",
        "import plotly as py\r\n",
        "import plotly.express as px \r\n",
        "import matplotlib.ticker as ticker\r\n",
        "plt.style.use('default')\r\n",
        "import plotly.offline as opy\r\n",
        "import plotly.figure_factory as ff\r\n",
        "import plotly.io as pio\r\n",
        "from wordcloud import WordCloud\r\n",
        "from datetime import datetime\r\n",
        "from datetime import timedelta\r\n",
        "\r\n",
        "import math\r\n",
        "\r\n",
        "sns.set(style=\"whitegrid\")\r\n",
        "\r\n",
        "pd.options.display.float_format = '{:20,.2f}'.format \r\n",
        "\r\n",
        "import warnings\r\n",
        "warnings.filterwarnings('ignore')"
      ],
      "execution_count": null,
      "outputs": []
    },
    {
      "cell_type": "code",
      "metadata": {
        "id": "FXsLMcASl6Nj"
      },
      "source": [
        "from sklearn.datasets import make_classification\r\n",
        "from sklearn.model_selection import cross_val_score\r\n",
        "from sklearn.model_selection import RepeatedStratifiedKFold\r\n",
        "\r\n",
        "from sklearn.preprocessing import LabelEncoder\r\n",
        "from sklearn.metrics import make_scorer, accuracy_score\r\n",
        "from sklearn.model_selection import train_test_split, GridSearchCV\r\n",
        "\r\n",
        "from sklearn.preprocessing import LabelBinarizer\r\n",
        "from sklearn.preprocessing import OneHotEncoder\r\n",
        "from sklearn.preprocessing import MultiLabelBinarizer\r\n",
        "\r\n",
        "from sklearn.metrics import log_loss"
      ],
      "execution_count": null,
      "outputs": []
    },
    {
      "cell_type": "code",
      "metadata": {
        "colab": {
          "base_uri": "https://localhost:8080/"
        },
        "id": "IIqx2rkhPyQc",
        "outputId": "52c11003-5269-441a-e773-f1e6b587f5b3"
      },
      "source": [
        "!pip3 install category_encoders"
      ],
      "execution_count": null,
      "outputs": [
        {
          "output_type": "stream",
          "text": [
            "Collecting category_encoders\n",
            "\u001b[?25l  Downloading https://files.pythonhosted.org/packages/44/57/fcef41c248701ee62e8325026b90c432adea35555cbc870aff9cfba23727/category_encoders-2.2.2-py2.py3-none-any.whl (80kB)\n",
            "\r\u001b[K     |████                            | 10kB 18.4MB/s eta 0:00:01\r\u001b[K     |████████▏                       | 20kB 10.4MB/s eta 0:00:01\r\u001b[K     |████████████▏                   | 30kB 7.3MB/s eta 0:00:01\r\u001b[K     |████████████████▎               | 40kB 6.4MB/s eta 0:00:01\r\u001b[K     |████████████████████▎           | 51kB 4.4MB/s eta 0:00:01\r\u001b[K     |████████████████████████▍       | 61kB 4.4MB/s eta 0:00:01\r\u001b[K     |████████████████████████████▍   | 71kB 5.0MB/s eta 0:00:01\r\u001b[K     |████████████████████████████████| 81kB 3.4MB/s \n",
            "\u001b[?25hRequirement already satisfied: patsy>=0.5.1 in /usr/local/lib/python3.6/dist-packages (from category_encoders) (0.5.1)\n",
            "Requirement already satisfied: statsmodels>=0.9.0 in /usr/local/lib/python3.6/dist-packages (from category_encoders) (0.10.2)\n",
            "Requirement already satisfied: pandas>=0.21.1 in /usr/local/lib/python3.6/dist-packages (from category_encoders) (1.1.5)\n",
            "Requirement already satisfied: scikit-learn>=0.20.0 in /usr/local/lib/python3.6/dist-packages (from category_encoders) (0.22.2.post1)\n",
            "Requirement already satisfied: numpy>=1.14.0 in /usr/local/lib/python3.6/dist-packages (from category_encoders) (1.19.5)\n",
            "Requirement already satisfied: scipy>=1.0.0 in /usr/local/lib/python3.6/dist-packages (from category_encoders) (1.4.1)\n",
            "Requirement already satisfied: six in /usr/local/lib/python3.6/dist-packages (from patsy>=0.5.1->category_encoders) (1.15.0)\n",
            "Requirement already satisfied: python-dateutil>=2.7.3 in /usr/local/lib/python3.6/dist-packages (from pandas>=0.21.1->category_encoders) (2.8.1)\n",
            "Requirement already satisfied: pytz>=2017.2 in /usr/local/lib/python3.6/dist-packages (from pandas>=0.21.1->category_encoders) (2018.9)\n",
            "Requirement already satisfied: joblib>=0.11 in /usr/local/lib/python3.6/dist-packages (from scikit-learn>=0.20.0->category_encoders) (1.0.0)\n",
            "Installing collected packages: category-encoders\n",
            "Successfully installed category-encoders-2.2.2\n"
          ],
          "name": "stdout"
        }
      ]
    },
    {
      "cell_type": "code",
      "metadata": {
        "id": "hnkHcErvPxSA"
      },
      "source": [
        "import category_encoders as ce"
      ],
      "execution_count": null,
      "outputs": []
    },
    {
      "cell_type": "code",
      "metadata": {
        "colab": {
          "base_uri": "https://localhost:8080/"
        },
        "id": "lsdRoO9XWT6i",
        "outputId": "300a27f0-1468-4633-d978-c03137773f24"
      },
      "source": [
        "!pip3 install bayesian-optimization"
      ],
      "execution_count": null,
      "outputs": [
        {
          "output_type": "stream",
          "text": [
            "Collecting bayesian-optimization\n",
            "  Downloading https://files.pythonhosted.org/packages/bb/7a/fd8059a3881d3ab37ac8f72f56b73937a14e8bb14a9733e68cc8b17dbe3c/bayesian-optimization-1.2.0.tar.gz\n",
            "Requirement already satisfied: numpy>=1.9.0 in /usr/local/lib/python3.6/dist-packages (from bayesian-optimization) (1.19.5)\n",
            "Requirement already satisfied: scipy>=0.14.0 in /usr/local/lib/python3.6/dist-packages (from bayesian-optimization) (1.4.1)\n",
            "Requirement already satisfied: scikit-learn>=0.18.0 in /usr/local/lib/python3.6/dist-packages (from bayesian-optimization) (0.22.2.post1)\n",
            "Requirement already satisfied: joblib>=0.11 in /usr/local/lib/python3.6/dist-packages (from scikit-learn>=0.18.0->bayesian-optimization) (1.0.0)\n",
            "Building wheels for collected packages: bayesian-optimization\n",
            "  Building wheel for bayesian-optimization (setup.py) ... \u001b[?25l\u001b[?25hdone\n",
            "  Created wheel for bayesian-optimization: filename=bayesian_optimization-1.2.0-cp36-none-any.whl size=11685 sha256=2ee3ec096d97372943601067e7ecfc45dc2303530f452bee0d3751fc4f752d62\n",
            "  Stored in directory: /root/.cache/pip/wheels/5a/56/ae/e0e3c1fc1954dc3ec712e2df547235ed072b448094d8f94aec\n",
            "Successfully built bayesian-optimization\n",
            "Installing collected packages: bayesian-optimization\n",
            "Successfully installed bayesian-optimization-1.2.0\n"
          ],
          "name": "stdout"
        }
      ]
    },
    {
      "cell_type": "code",
      "metadata": {
        "id": "7M6WrwvaWVeP"
      },
      "source": [
        "from bayes_opt import BayesianOptimization"
      ],
      "execution_count": null,
      "outputs": []
    },
    {
      "cell_type": "markdown",
      "metadata": {
        "id": "9ewHMS-ygNPS"
      },
      "source": [
        "### catboost"
      ]
    },
    {
      "cell_type": "code",
      "metadata": {
        "colab": {
          "base_uri": "https://localhost:8080/"
        },
        "id": "cpEGbEgDKgny",
        "outputId": "6162bfef-9a42-4a43-ed5d-91d0de8b10cb"
      },
      "source": [
        "#Ejecutar si no funciona el import\r\n",
        "!pip3 install catboost"
      ],
      "execution_count": null,
      "outputs": [
        {
          "output_type": "stream",
          "text": [
            "Collecting catboost\n",
            "\u001b[?25l  Downloading https://files.pythonhosted.org/packages/20/37/bc4e0ddc30c07a96482abf1de7ed1ca54e59bba2026a33bca6d2ef286e5b/catboost-0.24.4-cp36-none-manylinux1_x86_64.whl (65.7MB)\n",
            "\u001b[K     |████████████████████████████████| 65.8MB 63kB/s \n",
            "\u001b[?25hRequirement already satisfied: scipy in /usr/local/lib/python3.6/dist-packages (from catboost) (1.4.1)\n",
            "Requirement already satisfied: matplotlib in /usr/local/lib/python3.6/dist-packages (from catboost) (3.2.2)\n",
            "Requirement already satisfied: numpy>=1.16.0 in /usr/local/lib/python3.6/dist-packages (from catboost) (1.19.5)\n",
            "Requirement already satisfied: six in /usr/local/lib/python3.6/dist-packages (from catboost) (1.15.0)\n",
            "Requirement already satisfied: graphviz in /usr/local/lib/python3.6/dist-packages (from catboost) (0.10.1)\n",
            "Requirement already satisfied: plotly in /usr/local/lib/python3.6/dist-packages (from catboost) (4.4.1)\n",
            "Requirement already satisfied: pandas>=0.24.0 in /usr/local/lib/python3.6/dist-packages (from catboost) (1.1.5)\n",
            "Requirement already satisfied: pyparsing!=2.0.4,!=2.1.2,!=2.1.6,>=2.0.1 in /usr/local/lib/python3.6/dist-packages (from matplotlib->catboost) (2.4.7)\n",
            "Requirement already satisfied: python-dateutil>=2.1 in /usr/local/lib/python3.6/dist-packages (from matplotlib->catboost) (2.8.1)\n",
            "Requirement already satisfied: kiwisolver>=1.0.1 in /usr/local/lib/python3.6/dist-packages (from matplotlib->catboost) (1.3.1)\n",
            "Requirement already satisfied: cycler>=0.10 in /usr/local/lib/python3.6/dist-packages (from matplotlib->catboost) (0.10.0)\n",
            "Requirement already satisfied: retrying>=1.3.3 in /usr/local/lib/python3.6/dist-packages (from plotly->catboost) (1.3.3)\n",
            "Requirement already satisfied: pytz>=2017.2 in /usr/local/lib/python3.6/dist-packages (from pandas>=0.24.0->catboost) (2018.9)\n",
            "Installing collected packages: catboost\n",
            "Successfully installed catboost-0.24.4\n"
          ],
          "name": "stdout"
        }
      ]
    },
    {
      "cell_type": "code",
      "metadata": {
        "id": "g-eobQ2dKOwu"
      },
      "source": [
        "from catboost import CatBoostClassifier, Pool, cv"
      ],
      "execution_count": null,
      "outputs": []
    },
    {
      "cell_type": "markdown",
      "metadata": {
        "id": "O5HEIBMXmxps"
      },
      "source": [
        "### xgboost"
      ]
    },
    {
      "cell_type": "code",
      "metadata": {
        "colab": {
          "base_uri": "https://localhost:8080/"
        },
        "id": "FJbpcCs5m0E8",
        "outputId": "0327ef20-f1b6-40ad-b098-e7f2b748b728"
      },
      "source": [
        "!pip3 install xgboost"
      ],
      "execution_count": null,
      "outputs": [
        {
          "output_type": "stream",
          "text": [
            "Requirement already satisfied: xgboost in /usr/local/lib/python3.6/dist-packages (0.90)\n",
            "Requirement already satisfied: numpy in /usr/local/lib/python3.6/dist-packages (from xgboost) (1.19.5)\n",
            "Requirement already satisfied: scipy in /usr/local/lib/python3.6/dist-packages (from xgboost) (1.4.1)\n"
          ],
          "name": "stdout"
        }
      ]
    },
    {
      "cell_type": "code",
      "metadata": {
        "id": "MNXqp5z4nOOD"
      },
      "source": [
        "import xgboost as xgb"
      ],
      "execution_count": null,
      "outputs": []
    },
    {
      "cell_type": "markdown",
      "metadata": {
        "id": "lP_c0s_PgPKn"
      },
      "source": [
        "### lightgbm"
      ]
    },
    {
      "cell_type": "code",
      "metadata": {
        "colab": {
          "base_uri": "https://localhost:8080/"
        },
        "id": "vaGQFz-MgCbh",
        "outputId": "bea5d23b-7b1c-409a-8a36-9b61ecc0ad06"
      },
      "source": [
        "!pip3 install lightgbm"
      ],
      "execution_count": null,
      "outputs": [
        {
          "output_type": "stream",
          "text": [
            "Requirement already satisfied: lightgbm in /usr/local/lib/python3.6/dist-packages (2.2.3)\n",
            "Requirement already satisfied: scikit-learn in /usr/local/lib/python3.6/dist-packages (from lightgbm) (0.22.2.post1)\n",
            "Requirement already satisfied: numpy in /usr/local/lib/python3.6/dist-packages (from lightgbm) (1.19.5)\n",
            "Requirement already satisfied: scipy in /usr/local/lib/python3.6/dist-packages (from lightgbm) (1.4.1)\n",
            "Requirement already satisfied: joblib>=0.11 in /usr/local/lib/python3.6/dist-packages (from scikit-learn->lightgbm) (1.0.0)\n"
          ],
          "name": "stdout"
        }
      ]
    },
    {
      "cell_type": "code",
      "metadata": {
        "id": "NDBZ9QETgLFz"
      },
      "source": [
        "import lightgbm as lgb\r\n",
        "#from lightgbm import LGBMClassifier"
      ],
      "execution_count": null,
      "outputs": []
    },
    {
      "cell_type": "markdown",
      "metadata": {
        "id": "qB5aPacbW0b9"
      },
      "source": [
        "### ramdom forest"
      ]
    },
    {
      "cell_type": "code",
      "metadata": {
        "id": "khyk5Vq_Wzfi"
      },
      "source": [
        "from sklearn.ensemble import RandomForestClassifier"
      ],
      "execution_count": null,
      "outputs": []
    },
    {
      "cell_type": "markdown",
      "metadata": {
        "id": "cY876Ig-zWyN"
      },
      "source": [
        "### perceptron"
      ]
    },
    {
      "cell_type": "code",
      "metadata": {
        "id": "3kecRF8ezZ5c"
      },
      "source": [
        "\tfrom sklearn.linear_model import Perceptron"
      ],
      "execution_count": null,
      "outputs": []
    },
    {
      "cell_type": "markdown",
      "metadata": {
        "id": "YjCt76D_rHMn"
      },
      "source": [
        "## lectura de datos"
      ]
    },
    {
      "cell_type": "code",
      "metadata": {
        "colab": {
          "base_uri": "https://localhost:8080/"
        },
        "id": "2MXb46VjrCnX",
        "outputId": "64288d62-923a-4e0d-822f-40bb664d430d"
      },
      "source": [
        "entrenamiento = pd.read_csv('Training.csv')\r\n",
        "entrenamiento.info()"
      ],
      "execution_count": null,
      "outputs": [
        {
          "output_type": "stream",
          "text": [
            "<class 'pandas.core.frame.DataFrame'>\n",
            "RangeIndex: 16947 entries, 0 to 16946\n",
            "Data columns (total 52 columns):\n",
            " #   Column                              Non-Null Count  Dtype  \n",
            "---  ------                              --------------  -----  \n",
            " 0   ID                                  16947 non-null  int64  \n",
            " 1   Region                              16947 non-null  object \n",
            " 2   Territory                           16947 non-null  object \n",
            " 3   Pricing, Delivery_Terms_Quote_Appr  16947 non-null  int64  \n",
            " 4   Pricing, Delivery_Terms_Approved    16947 non-null  int64  \n",
            " 5   Bureaucratic_Code_0_Approval        16947 non-null  int64  \n",
            " 6   Bureaucratic_Code_0_Approved        16947 non-null  int64  \n",
            " 7   Submitted_for_Approval              16947 non-null  int64  \n",
            " 8   Bureaucratic_Code                   16947 non-null  object \n",
            " 9   Account_Created_Date                16947 non-null  object \n",
            " 10  Source                              16947 non-null  object \n",
            " 11  Billing_Country                     16947 non-null  object \n",
            " 12  Account_Name                        16947 non-null  object \n",
            " 13  Opportunity_Name                    16947 non-null  object \n",
            " 14  Opportunity_ID                      16947 non-null  int64  \n",
            " 15  Sales_Contract_No                   16947 non-null  object \n",
            " 16  Account_Owner                       16947 non-null  object \n",
            " 17  Opportunity_Owner                   16947 non-null  object \n",
            " 18  Account_Type                        16947 non-null  object \n",
            " 19  Opportunity_Type                    16947 non-null  object \n",
            " 20  Quote_Type                          16947 non-null  object \n",
            " 21  Delivery_Terms                      16947 non-null  object \n",
            " 22  Opportunity_Created_Date            16947 non-null  object \n",
            " 23  Brand                               16947 non-null  object \n",
            " 24  Product_Type                        16947 non-null  object \n",
            " 25  Size                                16947 non-null  object \n",
            " 26  Product_Category_B                  16947 non-null  object \n",
            " 27  Price                               16947 non-null  object \n",
            " 28  Currency                            16947 non-null  object \n",
            " 29  Last_Activity                       16947 non-null  object \n",
            " 30  Quote_Expiry_Date                   16947 non-null  object \n",
            " 31  Last_Modified_Date                  16947 non-null  object \n",
            " 32  Last_Modified_By                    16947 non-null  object \n",
            " 33  Product_Family                      16947 non-null  object \n",
            " 34  Product_Name                        16947 non-null  object \n",
            " 35  ASP_Currency                        16947 non-null  object \n",
            " 36  ASP                                 13738 non-null  float64\n",
            " 37  ASP_(converted)_Currency            16947 non-null  object \n",
            " 38  ASP_(converted)                     13738 non-null  float64\n",
            " 39  Planned_Delivery_Start_Date         16947 non-null  object \n",
            " 40  Planned_Delivery_End_Date           16947 non-null  object \n",
            " 41  Month                               16947 non-null  object \n",
            " 42  Delivery_Quarter                    16947 non-null  object \n",
            " 43  Delivery_Year                       16947 non-null  int64  \n",
            " 44  Actual_Delivery_Date                16947 non-null  object \n",
            " 45  TRF                                 16947 non-null  int64  \n",
            " 46  Total_Amount_Currency               16947 non-null  object \n",
            " 47  Total_Amount                        16888 non-null  float64\n",
            " 48  Total_Taxable_Amount_Currency       16947 non-null  object \n",
            " 49  Total_Taxable_Amount                16947 non-null  float64\n",
            " 50  Stage                               16947 non-null  object \n",
            " 51  Prod_Category_A                     16947 non-null  object \n",
            "dtypes: float64(4), int64(9), object(39)\n",
            "memory usage: 6.7+ MB\n"
          ],
          "name": "stdout"
        }
      ]
    },
    {
      "cell_type": "code",
      "metadata": {
        "colab": {
          "base_uri": "https://localhost:8080/"
        },
        "id": "iqDzZndMrUDu",
        "outputId": "e18074b1-69db-4800-d614-59eaf18bd7ba"
      },
      "source": [
        "testeo = pd.read_csv('Test.csv')\r\n",
        "testeo.info()"
      ],
      "execution_count": null,
      "outputs": [
        {
          "output_type": "stream",
          "text": [
            "<class 'pandas.core.frame.DataFrame'>\n",
            "RangeIndex: 2551 entries, 0 to 2550\n",
            "Data columns (total 51 columns):\n",
            " #   Column                              Non-Null Count  Dtype  \n",
            "---  ------                              --------------  -----  \n",
            " 0   ID                                  2551 non-null   int64  \n",
            " 1   Region                              2551 non-null   object \n",
            " 2   Territory                           2551 non-null   object \n",
            " 3   Pricing, Delivery_Terms_Quote_Appr  2551 non-null   int64  \n",
            " 4   Pricing, Delivery_Terms_Approved    2551 non-null   int64  \n",
            " 5   Bureaucratic_Code_0_Approval        2551 non-null   int64  \n",
            " 6   Bureaucratic_Code_0_Approved        2551 non-null   int64  \n",
            " 7   Submitted_for_Approval              2551 non-null   int64  \n",
            " 8   Bureaucratic_Code                   2551 non-null   object \n",
            " 9   Account_Created_Date                2551 non-null   object \n",
            " 10  Source                              2551 non-null   object \n",
            " 11  Billing_Country                     2551 non-null   object \n",
            " 12  Account_Name                        2551 non-null   object \n",
            " 13  Opportunity_Name                    2551 non-null   object \n",
            " 14  Opportunity_ID                      2551 non-null   int64  \n",
            " 15  Sales_Contract_No                   2551 non-null   object \n",
            " 16  Account_Owner                       2551 non-null   object \n",
            " 17  Opportunity_Owner                   2551 non-null   object \n",
            " 18  Account_Type                        2551 non-null   object \n",
            " 19  Opportunity_Type                    2551 non-null   object \n",
            " 20  Quote_Type                          2551 non-null   object \n",
            " 21  Delivery_Terms                      2551 non-null   object \n",
            " 22  Opportunity_Created_Date            2551 non-null   object \n",
            " 23  Brand                               2551 non-null   object \n",
            " 24  Product_Type                        2551 non-null   object \n",
            " 25  Size                                2551 non-null   object \n",
            " 26  Product_Category_B                  2551 non-null   object \n",
            " 27  Price                               2551 non-null   object \n",
            " 28  Currency                            2551 non-null   object \n",
            " 29  Last_Activity                       2551 non-null   object \n",
            " 30  Quote_Expiry_Date                   2551 non-null   object \n",
            " 31  Last_Modified_Date                  2551 non-null   object \n",
            " 32  Last_Modified_By                    2551 non-null   object \n",
            " 33  Product_Family                      2551 non-null   object \n",
            " 34  Product_Name                        2551 non-null   object \n",
            " 35  ASP_Currency                        2551 non-null   object \n",
            " 36  ASP                                 2467 non-null   float64\n",
            " 37  ASP_(converted)_Currency            2551 non-null   object \n",
            " 38  ASP_(converted)                     2467 non-null   float64\n",
            " 39  Planned_Delivery_Start_Date         2551 non-null   object \n",
            " 40  Planned_Delivery_End_Date           2551 non-null   object \n",
            " 41  Month                               2551 non-null   object \n",
            " 42  Delivery_Quarter                    2551 non-null   object \n",
            " 43  Delivery_Year                       2551 non-null   int64  \n",
            " 44  Actual_Delivery_Date                2551 non-null   object \n",
            " 45  TRF                                 2551 non-null   int64  \n",
            " 46  Total_Amount_Currency               2551 non-null   object \n",
            " 47  Total_Amount                        2551 non-null   float64\n",
            " 48  Total_Taxable_Amount_Currency       2551 non-null   object \n",
            " 49  Total_Taxable_Amount                2551 non-null   float64\n",
            " 50  Prod_Category_A                     2551 non-null   object \n",
            "dtypes: float64(4), int64(9), object(38)\n",
            "memory usage: 1016.5+ KB\n"
          ],
          "name": "stdout"
        }
      ]
    },
    {
      "cell_type": "code",
      "metadata": {
        "id": "ENwraghDdDLY"
      },
      "source": [
        "#hemisferios = pd.read_csv('hemisferios.csv')\r\n",
        "#hemisferios = convertirATipo(hemisferios,['Billing_Country','hemisferio'],'category')\r\n",
        "#hemisferios.info()"
      ],
      "execution_count": null,
      "outputs": []
    },
    {
      "cell_type": "code",
      "metadata": {
        "colab": {
          "base_uri": "https://localhost:8080/"
        },
        "id": "wiejksz3DUMi",
        "outputId": "14c76b9b-b7cb-4d70-99a6-2df77f8a0e21"
      },
      "source": [
        "#prueva de supuestos\r\n",
        "supuestos = pd.read_csv('EvaluacionTemporal.csv',index_col='Opportunity_ID')\r\n",
        "supuestos.info()"
      ],
      "execution_count": null,
      "outputs": [
        {
          "output_type": "stream",
          "text": [
            "<class 'pandas.core.frame.DataFrame'>\n",
            "Int64Index: 1567 entries, 10689 to 12368\n",
            "Data columns (total 1 columns):\n",
            " #   Column  Non-Null Count  Dtype\n",
            "---  ------  --------------  -----\n",
            " 0   Target  1567 non-null   int64\n",
            "dtypes: int64(1)\n",
            "memory usage: 24.5 KB\n"
          ],
          "name": "stdout"
        }
      ]
    },
    {
      "cell_type": "markdown",
      "metadata": {
        "id": "GJYpToCYrfnk"
      },
      "source": [
        "## Preprocesamiento de ambos DF"
      ]
    },
    {
      "cell_type": "markdown",
      "metadata": {
        "id": "hyRdoRPf5wSN"
      },
      "source": [
        "### Modificaciones de oportunidad"
      ]
    },
    {
      "cell_type": "code",
      "metadata": {
        "id": "Eno4a-uBFHOa"
      },
      "source": [
        "def convertirATiempo(df,lista):\r\n",
        "    for columna in lista:\r\n",
        "        df[columna] = pd.to_datetime(df[columna])\r\n",
        "    return df\r\n",
        "\r\n",
        "def convertirATipo(df,lista,tipo):\r\n",
        "    for columna in lista:\r\n",
        "        df[columna] = df[columna].astype(tipo)\r\n",
        "    return df\r\n",
        "\r\n",
        "def convertirAFlotante(df,lista):\r\n",
        "    for columna in lista:\r\n",
        "        df[columna] = df[columna].apply(lambda x: None if (x == \"None\" or x == \"Other\") else float(x))\r\n",
        "    return df\r\n",
        "\r\n",
        "def establecerTipos(df):\r\n",
        "    \"\"\"cambia los tipos de las columnas\"\"\"\r\n",
        "    \r\n",
        "    #fechas\r\n",
        "    listaDeColumnasFechas = ['Account_Created_Date','Opportunity_Created_Date','Quote_Expiry_Date','Last_Modified_Date','Delivery_Year','Planned_Delivery_End_Date','Planned_Delivery_Start_Date']\r\n",
        "    df = convertirATiempo(df,listaDeColumnasFechas)\r\n",
        "    #enteros\r\n",
        "    listaDeColumnasEnteras = ['ID','Opportunity_ID']\r\n",
        "    convertirATipo(df,listaDeColumnasEnteras,'int')\r\n",
        "    #decimales\r\n",
        "    listaDeColumnasEnteras = ['Price','ASP','ASP_(converted)','Total_Taxable_Amount','Total_Amount']\r\n",
        "    convertirAFlotante(df,listaDeColumnasEnteras)\r\n",
        "    #booleanos\r\n",
        "    listaDeColumnasBooleanas = ['Pricing, Delivery_Terms_Quote_Appr','Pricing, Delivery_Terms_Approved','Bureaucratic_Code_0_Approval','Bureaucratic_Code_0_Approved']\r\n",
        "    convertirATipo(df,listaDeColumnasBooleanas,'bool')\r\n",
        "    #categoricas\r\n",
        "    listaDeColumnasCategoricas = ['Product_Category_B','Product_Family','Region','Territory','Bureaucratic_Code','Source ','Billing_Country','Account_Name','Opportunity_Name']\r\n",
        "    convertirATipo(df,listaDeColumnasCategoricas,'category')\r\n",
        "    return df"
      ],
      "execution_count": null,
      "outputs": []
    },
    {
      "cell_type": "code",
      "metadata": {
        "id": "1afBmnwDE9AT"
      },
      "source": [
        "def agregarHemisferios(df):\r\n",
        "  #df.reset_index()\r\n",
        "  df = df.merge(hemisferios,how='left',on='Billing_Country')\r\n",
        "  df['hemisferio'] = df['hemisferio'].apply(lambda x: 'Desconocido' if (x != 'Norte' and x != 'Sur') else x)\r\n",
        "  convertirATipo(df,['hemisferio','Billing_Country'],'category')\r\n",
        "  #df.set_index('Opportunity_ID')\r\n",
        "  return df"
      ],
      "execution_count": null,
      "outputs": []
    },
    {
      "cell_type": "code",
      "metadata": {
        "id": "b6B7RcbRrqRk"
      },
      "source": [
        "def eliminarColumnasSinImportancia(df):\r\n",
        "    #\"Last_Activity\" y \"Actual_Delivery_Date\" son puros nulos\r\n",
        "    #\"Submitted_for_Approval\" puros valores nulos\r\n",
        "    #\"Prod_Category_A\" tiene todos sus valores iguales\r\n",
        "    df = df.drop(['Submitted_for_Approval','Last_Activity','Actual_Delivery_Date','Prod_Category_A'], axis=1)\r\n",
        "    return df\r\n",
        "\r\n",
        "def agregarColumnas(df):\r\n",
        "    df['Closed'] = df['Stage'].replace({'Closed Won': True, 'Closed Lost': True, 'Negotiation':False,'Proposal':False,'Qualification':False})#REVISAR\r\n",
        "    df['Won'] = df['Stage'].replace({'Closed Won': True, 'Closed Lost': False, 'Negotiation':False,'Proposal':False,'Qualification':False})\r\n",
        "    convertirATipo(df,['Stage'],'category')\r\n",
        "    return df\r\n",
        "\r\n",
        "def correccionDeTerritorios(df):\r\n",
        "    #se refiere a diferentes partes de usa\r\n",
        "    df = df.replace({'Territory':{'Central US':'USA','NE America':'USA', 'NW America':'USA','SW America':'USA','SE America':'USA'}})\r\n",
        "    #\r\n",
        "    df = df.replace({'Territory':{'KSA':'Saudi Arabia'}})\r\n",
        "    #No se ha encontrado la dorma de los siguientes datos 'Kosovo','South America', 'South East Asia', 'UAE (Dubai)', 'UAE (Others)' (en el caso de kosovo no lo grafica)\r\n",
        "    return df\r\n",
        "\r\n",
        "def preparacionDelDataFrame(df,entrenamiento=True):\r\n",
        "    df = eliminarColumnasSinImportancia(df)\r\n",
        "    df = establecerTipos(df)\r\n",
        "    df = correccionDeTerritorios(df)\r\n",
        "    df.rename(columns = {'Source ':'Source'}, inplace = True)\r\n",
        "    #df = agregarHemisferios(df)#desactivado desde el readcsv\r\n",
        "    if (entrenamiento):\r\n",
        "      df = agregarColumnas(df)\r\n",
        "    return df"
      ],
      "execution_count": null,
      "outputs": []
    },
    {
      "cell_type": "markdown",
      "metadata": {
        "id": "6b4gZg-W52iy"
      },
      "source": [
        "### por oportunidad"
      ]
    },
    {
      "cell_type": "code",
      "metadata": {
        "id": "W1BeGQYEAcMp"
      },
      "source": [
        "def desacerseDeNulosDateTime(df,columna):\r\n",
        "  df[columna] = df[columna].apply(lambda x: datetime.max if (x is None or x is np.NaN or x is pd.NaT) else x)\r\n",
        "  return df\r\n",
        "\r\n",
        "def descomposicionDeFechas(df,lista):\r\n",
        "  \"\"\"se nesesitan enteros no fechas\"\"\"\r\n",
        "  for columna in lista:\r\n",
        "    anio = columna + '_anio'\r\n",
        "    df[anio] = df[columna].apply(lambda x: x if x is None else x.year)\r\n",
        "    mes = columna + '_mes'\r\n",
        "    df[mes] = df[columna].apply(lambda x: x if x is None else x.month)\r\n",
        "    dia = columna + '_dia'\r\n",
        "    df[dia] = df[columna].apply(lambda x: x if (x is None) else x.day)\r\n",
        "  df = df.drop(lista, axis=1)\r\n",
        "  return df\r\n",
        "\r\n",
        "def establecerEstacion(df,columnaFecha):\r\n",
        "  estacion = columnaFecha + '_Estacion'\r\n",
        "  df[estacion] = 'Desconocido'\r\n",
        "  df['temporalEstaciones'] = df[columnaFecha].apply(lambda x: 'Desconocido' if x is None else estaciones(x,True))\r\n",
        "  df.loc[df['hemisferio'] == 'Norte' , estacion] = df['temporalEstaciones']\r\n",
        "  df['temporalEstaciones'] = df[columnaFecha].apply(lambda x: 'Desconocido' if x is None else estaciones(x,False))\r\n",
        "  df.loc[df['hemisferio'] == 'Sur' , estacion] = df['temporalEstaciones']\r\n",
        "  df = df.drop(['temporalEstaciones'], axis=1)\r\n",
        "  convertirATipo(df,[estacion],'category')\r\n",
        "  return df\r\n",
        "\r\n",
        "def estaciones(fecha,norte):\r\n",
        "  if (norte):\r\n",
        "    estaciones = ['primavera','verano','otoño','invierno']\r\n",
        "  else:\r\n",
        "    estaciones = ['otoño','invierno','primavera','verano']\r\n",
        "  if (fecha.month == 12 and fecha.day >= 21 or fecha.month <= 3 and fecha.day < 21):\r\n",
        "    return estaciones[3]\r\n",
        "  elif (fecha.month == 9 and fecha.day >= 21 or fecha.month > 9):\r\n",
        "    return estaciones[2]\r\n",
        "  elif (fecha.month == 6 and fecha.day >= 21 or fecha.month > 6):\r\n",
        "    return estaciones[1]\r\n",
        "  elif (fecha.month == 3 and fecha.day >= 21 or fecha.month > 3):\r\n",
        "    return estaciones[0]\r\n",
        "  else:\r\n",
        "    return 'Desconocido'\r\n",
        "\r\n",
        "def diferenciaEntreFechas(df,colFechaInicial,colFechaFinal):\r\n",
        "  df['TiempoDeDiferencia'] = (df[colFechaFinal] - df[colFechaInicial])\r\n",
        "  df['TiempoDeDiferencia'] = pd.to_numeric(df['TiempoDeDiferencia'].dt.days, downcast='integer')#revisar si se conviete totalmente a dias\r\n",
        "  df = df.drop([colFechaInicial,colFechaFinal], axis=1)\r\n",
        "  return df"
      ],
      "execution_count": null,
      "outputs": []
    },
    {
      "cell_type": "code",
      "metadata": {
        "id": "hEXKmCHir-T4"
      },
      "source": [
        "def dataEntrenamiento(df):\r\n",
        "  data = df.groupby('Opportunity_ID').agg({'Won':'sum','Closed':'sum',\r\n",
        "                                           'modificaciones':'sum',\r\n",
        "                                           #'Won':'sum','modificaciones':'sum',\r\n",
        "                                           'Last_Modified_Date':'max','Opportunity_Created_Date':'min',\r\n",
        "                                           #'Price':'mean',#Demaciados nulos\r\n",
        "                                           #'Quote_Expiry_Date':'max',\r\n",
        "                                           'Pricing, Delivery_Terms_Quote_Appr':'sum',\r\n",
        "                                           'Pricing, Delivery_Terms_Approved':'sum',\r\n",
        "                                           'Bureaucratic_Code_0_Approval':'sum',\r\n",
        "                                           'Bureaucratic_Code_0_Approved':'sum',\r\n",
        "                                           'Account_Created_Date':'min',\r\n",
        "                                           'Total_Amount':'sum','Region':'first',\r\n",
        "                                           #'Total_Taxable_Amount':'sum',\r\n",
        "                                           'Territory':'first',\r\n",
        "                                           'ASP_(converted)':'sum',\r\n",
        "                                           'Account_Type':'first',\r\n",
        "                                           'Delivery_Quarter':'first',\r\n",
        "                                           'Product_Type':'first',\r\n",
        "                                           'Product_Category_B':'first',\r\n",
        "                                           'Billing_Country':'first',\r\n",
        "                                           'Planned_Delivery_End_Date':'max',\r\n",
        "                                           'Planned_Delivery_Start_Date':'min',\r\n",
        "                                           'Delivery_Terms':'first',\r\n",
        "                                           'Product_Family':'first',\r\n",
        "                                           #'ASP_(converted)_Currency':'first',\r\n",
        "                                           'TRF':'mean'\r\n",
        "                                           #'hemisferio':'first'\r\n",
        "                                           })#hay que seguir agregando cosas que son importantes\r\n",
        "  return data\r\n",
        "\r\n",
        "def dataTesteo(df):\r\n",
        "  data = df.groupby('Opportunity_ID').agg({'modificaciones':'sum',\r\n",
        "                                           'Last_Modified_Date':'max','Opportunity_Created_Date':'min',\r\n",
        "                                           #'Price':'mean',#Demaciados nulos\r\n",
        "                                           #'Quote_Expiry_Date':'max',\r\n",
        "                                           'Pricing, Delivery_Terms_Quote_Appr':'sum',\r\n",
        "                                           'Pricing, Delivery_Terms_Approved':'sum',\r\n",
        "                                           'Bureaucratic_Code_0_Approval':'sum',\r\n",
        "                                           'Bureaucratic_Code_0_Approved':'sum',\r\n",
        "                                           'Account_Created_Date':'min',\r\n",
        "                                           'Total_Amount':'sum','Region':'first',\r\n",
        "                                           #'Total_Taxable_Amount':'sum',\r\n",
        "                                           'Territory':'first',\r\n",
        "                                           'ASP_(converted)':'sum',\r\n",
        "                                           'Account_Type':'first',\r\n",
        "                                           'Delivery_Quarter':'first',\r\n",
        "                                           'Product_Type':'first',\r\n",
        "                                           'Product_Category_B':'first',\r\n",
        "                                           'Billing_Country':'first',\r\n",
        "                                           'Planned_Delivery_End_Date':'max',\r\n",
        "                                           'Planned_Delivery_Start_Date':'min',\r\n",
        "                                           'Delivery_Terms':'first',\r\n",
        "                                           'Product_Family':'first',\r\n",
        "                                           #'ASP_(converted)_Currency':'first',\r\n",
        "                                           'TRF':'mean'\r\n",
        "                                           #'hemisferio':'first'\r\n",
        "                                           })#hay que seguir agregando cosas que son importantes\r\n",
        "  return data  \r\n",
        "\r\n",
        "def agrupacionDeOportunidades(df,entrenamiento=True):\r\n",
        "  df['modificaciones'] = 1\r\n",
        "  if (entrenamiento):\r\n",
        "    data = dataEntrenamiento(df)\r\n",
        "    #Solo me interesa saber si se cerro con exito\r\n",
        "    #data['Closed'] = data['Closed'].agg(lambda x: 1 if x > 0 else 0)\r\n",
        "    data['Won'] = data['Won'].agg(lambda x: 1 if x > 0 else 0)\r\n",
        "    #data['Lost'] = data['Closed'] - data['Won']#si es won es closed pero si es closed y no es won es perdido\r\n",
        "    #data['Lost'] = data['Lost'].agg(lambda x: 1 if x > 0 else 0)\r\n",
        "\r\n",
        "    #Los casos NO cerrados del set de entrenamiento se desconocen si tendran exito o no\r\n",
        "    #por lo que englobarlos como triunfos o fracasos es un error deben ser retirados del set\r\n",
        "    data = data[data['Closed'] > 0]\r\n",
        "    data = data.drop(['Closed'], axis=1)\r\n",
        "  else:\r\n",
        "    data = dataTesteo(df)\r\n",
        "\r\n",
        "  #data['Pricing, Delivery_Terms_Quote_Appr'] = data['Pricing, Delivery_Terms_Quote_Appr'].agg(lambda x: None if x == 0 else x)\r\n",
        "  #data['Pricing, Delivery_Terms_Approved'] = data['Pricing, Delivery_Terms_Approved'].agg(lambda x: None if x == 0 else x)\r\n",
        "  #data['Bureaucratic_Code_0_Approval'] = data['Bureaucratic_Code_0_Approval'].agg(lambda x: None if x == 0 else x)\r\n",
        "  #data['Bureaucratic_Code_0_Approved'] = data['Bureaucratic_Code_0_Approved'].agg(lambda x: None if x == 0 else x)\r\n",
        "  \"\"\"\r\n",
        "  data['Pricing, Delivery_Terms_Quote_Appr'] = data['Pricing, Delivery_Terms_Quote_Appr'].agg(lambda x: 1 if x > 0 else 0)\r\n",
        "  data['Pricing, Delivery_Terms_Approved'] = data['Pricing, Delivery_Terms_Approved'].agg(lambda x: 1 if x > 0 else 0)\r\n",
        "  data['Bureaucratic_Code_0_Approval'] = data['Bureaucratic_Code_0_Approval'].agg(lambda x: 1 if x > 0 else 0)\r\n",
        "  data['Bureaucratic_Code_0_Approved'] = data['Bureaucratic_Code_0_Approved'].agg(lambda x: 1 if x > 0 else 0)\r\n",
        "\r\n",
        "  #Condensando columnas\r\n",
        "  data['Pricing, Delivery_Terms_Approved'] = data['Pricing, Delivery_Terms_Quote_Appr'] + data['Pricing, Delivery_Terms_Approved']\r\n",
        "  data['Bureaucratic_Code_0_Approved'] = data['Bureaucratic_Code_0_Approval'] + data['Bureaucratic_Code_0_Approved']\r\n",
        "  data = data.drop(['Bureaucratic_Code_0_Approval','Pricing, Delivery_Terms_Quote_Appr'], axis=1)\r\n",
        "\r\n",
        "  data['Pricing, Delivery_Terms_Condensado'] = data['Pricing, Delivery_Terms_Quote_Appr'] + data['Pricing, Delivery_Terms_Approved']\r\n",
        "  data['Pricing, Delivery_Terms_Condensado'] = data['Pricing, Delivery_Terms_Condensado'].agg(lambda x: 1 if x > 1 else 0)\r\n",
        "  data = data.drop(['Pricing, Delivery_Terms_Quote_Appr','Pricing, Delivery_Terms_Approved'], axis=1)\r\n",
        "\r\n",
        "  data['Bureaucratic_Code_0_Condensado'] = data['Bureaucratic_Code_0_Approval'] + data['Bureaucratic_Code_0_Approved']\r\n",
        "  data['Bureaucratic_Code_0_Condensado'] = data['Bureaucratic_Code_0_Condensado'].agg(lambda x: 1 if x > 1 else 0)\r\n",
        "  data = data.drop(['Bureaucratic_Code_0_Approval','Bureaucratic_Code_0_Approved'], axis=1)\r\n",
        "  #data = data.replace({'Won':})\r\n",
        "\r\n",
        "  data['aprobacion'] = data['Pricing, Delivery_Terms_Condensado'] + data['Bureaucratic_Code_0_Condensado']\r\n",
        "  data['aprobacion'] = data['aprobacion'].agg(lambda x: 1 if x > 1 else 0)\r\n",
        "  data = data.drop(['Pricing, Delivery_Terms_Condensado','Bureaucratic_Code_0_Condensado'], axis=1)\r\n",
        "\r\n",
        "  \"\"\"\r\n",
        "\r\n",
        "  #categoricas\r\n",
        "  #listaDeColumnasCategoricas = ['Account_Type','Region','Territory','Billing_Country',\r\n",
        "  #                              'Delivery_Quarter','Product_Type','Product_Category_B',\r\n",
        "  #                              'Delivery_Terms','Product_Family','ASP_(converted)_Currency']\r\n",
        "  listaDeColumnasCategoricas = ['Account_Type','Region','Territory','Billing_Country',\r\n",
        "                                'Delivery_Quarter','Product_Type','Product_Category_B',\r\n",
        "                                'Delivery_Terms','Product_Family']\r\n",
        "  convertirATipo(data,listaDeColumnasCategoricas,'category')\r\n",
        "\r\n",
        "  #data = establecerEstacion(data,'Opportunity_Created_Date')\r\n",
        "  #data = establecerEstacion(data,'Quote_Expiry_Date')\r\n",
        "  #data = desacerseDeNulosDateTime(data,'Quote_Expiry_Date')#si no hay fecha de expiracion se pre supone que es infinita\r\n",
        "\r\n",
        "  listaDeValoresDeFechas = ['Last_Modified_Date','Opportunity_Created_Date',\r\n",
        "                            'Account_Created_Date','Planned_Delivery_Start_Date','Planned_Delivery_End_Date']\r\n",
        "  data = descomposicionDeFechas(data,listaDeValoresDeFechas)\r\n",
        "\r\n",
        "  #data['Diferencia_Amount'] = data['Total_Amount'] - data['Total_Amount'].mean()\r\n",
        "  #data['Diferencia_Amount'] = data['Diferencia_Amount'].agg(lambda x: -x if x<0 else x)\r\n",
        "\r\n",
        "  #data['Total_Amount'] = data['Total_Amount'].agg(lambda x: math.log(x,10))\r\n",
        "  #enteros\r\n",
        "  #listaDeColumnasEnteras = ['Quote_Expiry_Date_anio','Quote_Expiry_Date_mes','Quote_Expiry_Date_dia']\r\n",
        "  #convertirATipo(data,listaDeColumnasEnteras,'int')\r\n",
        "  #data = agregarHemisferios(data)\r\n",
        "\r\n",
        "  #data = data.drop(['hemisferio'], axis=1)\r\n",
        "\r\n",
        "  #data = diferenciaEntreFechas(data,'Planned_Delivery_Start_Date','Planned_Delivery_End_Date')\r\n",
        "\r\n",
        "  return data"
      ],
      "execution_count": null,
      "outputs": []
    },
    {
      "cell_type": "markdown",
      "metadata": {
        "id": "vI8bOMI2wcR0"
      },
      "source": [
        "las siguientes columnas no fueron probadas hay que analizarlas\r\n",
        "\r\n",
        "Posibles columnas a usar:\r\n",
        "\r\n",
        "- Bureaucratic_Code\r\n",
        "- Delivery_Year (posibles datos repetidos)\r\n",
        "- Month (posibles datos repetidos)\r\n",
        "- Opportunity_Owner\r\n",
        "- Opportunity_Type\r\n",
        "- Product_Family\r\n",
        "- Product_Name\r\n",
        "- Quote_Type (muy desbalanceado)\r\n",
        "\r\n",
        "Revisar el contexto\r\n",
        "\r\n",
        "- Total_Amount_Currency\r\n",
        "- Total_Taxable_Amount\r\n",
        "- Total_Taxable_Amount_Currency\r\n",
        "- ASP\r\n",
        "- ASP_(converted)_Currency\r\n",
        "- ASP_Currency\r\n",
        "\r\n",
        "\r\n",
        "las columnas con gran catidad de nones parecen afectar positivamente el resultado hay que revisarlas una por una\r\n",
        "\r\n",
        "- Currency: Segun prueba de supuestos empeora el resultado\r\n",
        "- Brand: Segun prueba de supuestos empeora el resultado ligeramente\r\n",
        "- Size: Segun prueba de supuestos empeora el resultado ligeramente\r\n",
        "- Source: Segun prueba de supuestos empeora el resultado"
      ]
    },
    {
      "cell_type": "markdown",
      "metadata": {
        "id": "a_oK2tNOrgdr"
      },
      "source": [
        "### categoricas a enteros (caso de que el sistema predictor no reconosca category)"
      ]
    },
    {
      "cell_type": "code",
      "metadata": {
        "id": "zV3o96K3rqy_"
      },
      "source": [
        "def convertirCategoryEnEnteros(df1,df2,columna):\r\n",
        "  encoder = ce.BinaryEncoder(cols=[columna])\r\n",
        "  encoder.fit(df1)\r\n",
        "  #encoder.fit(df2)\r\n",
        "  df1 = encoder.transform(df1)\r\n",
        "  df2 = encoder.transform(df2)\r\n",
        "  return df1,df2\r\n"
      ],
      "execution_count": null,
      "outputs": []
    },
    {
      "cell_type": "markdown",
      "metadata": {
        "id": "kYzRJPBRvMs5"
      },
      "source": [
        "## Ejecucion de cambios"
      ]
    },
    {
      "cell_type": "markdown",
      "metadata": {
        "id": "knmx6tPo01QZ"
      },
      "source": [
        "### ejecucion por modificaciones de oportunidad"
      ]
    },
    {
      "cell_type": "code",
      "metadata": {
        "colab": {
          "base_uri": "https://localhost:8080/"
        },
        "id": "PaAnTWGor1uy",
        "outputId": "894e9d89-acef-49d7-d77a-d9ebb8edb1d1"
      },
      "source": [
        "entrenamientoProcesado = preparacionDelDataFrame(entrenamiento)\r\n",
        "entrenamientoProcesado.info()"
      ],
      "execution_count": null,
      "outputs": [
        {
          "output_type": "stream",
          "text": [
            "<class 'pandas.core.frame.DataFrame'>\n",
            "RangeIndex: 16947 entries, 0 to 16946\n",
            "Data columns (total 50 columns):\n",
            " #   Column                              Non-Null Count  Dtype         \n",
            "---  ------                              --------------  -----         \n",
            " 0   ID                                  16947 non-null  int64         \n",
            " 1   Region                              16947 non-null  category      \n",
            " 2   Territory                           16947 non-null  object        \n",
            " 3   Pricing, Delivery_Terms_Quote_Appr  16947 non-null  bool          \n",
            " 4   Pricing, Delivery_Terms_Approved    16947 non-null  bool          \n",
            " 5   Bureaucratic_Code_0_Approval        16947 non-null  bool          \n",
            " 6   Bureaucratic_Code_0_Approved        16947 non-null  bool          \n",
            " 7   Bureaucratic_Code                   16947 non-null  category      \n",
            " 8   Account_Created_Date                16947 non-null  datetime64[ns]\n",
            " 9   Source                              16947 non-null  category      \n",
            " 10  Billing_Country                     16947 non-null  category      \n",
            " 11  Account_Name                        16947 non-null  category      \n",
            " 12  Opportunity_Name                    16947 non-null  category      \n",
            " 13  Opportunity_ID                      16947 non-null  int64         \n",
            " 14  Sales_Contract_No                   16947 non-null  object        \n",
            " 15  Account_Owner                       16947 non-null  object        \n",
            " 16  Opportunity_Owner                   16947 non-null  object        \n",
            " 17  Account_Type                        16947 non-null  object        \n",
            " 18  Opportunity_Type                    16947 non-null  object        \n",
            " 19  Quote_Type                          16947 non-null  object        \n",
            " 20  Delivery_Terms                      16947 non-null  object        \n",
            " 21  Opportunity_Created_Date            16947 non-null  datetime64[ns]\n",
            " 22  Brand                               16947 non-null  object        \n",
            " 23  Product_Type                        16947 non-null  object        \n",
            " 24  Size                                16947 non-null  object        \n",
            " 25  Product_Category_B                  16947 non-null  category      \n",
            " 26  Price                               356 non-null    float64       \n",
            " 27  Currency                            16947 non-null  object        \n",
            " 28  Quote_Expiry_Date                   12322 non-null  datetime64[ns]\n",
            " 29  Last_Modified_Date                  16947 non-null  datetime64[ns]\n",
            " 30  Last_Modified_By                    16947 non-null  object        \n",
            " 31  Product_Family                      16947 non-null  category      \n",
            " 32  Product_Name                        16947 non-null  object        \n",
            " 33  ASP_Currency                        16947 non-null  object        \n",
            " 34  ASP                                 13738 non-null  float64       \n",
            " 35  ASP_(converted)_Currency            16947 non-null  object        \n",
            " 36  ASP_(converted)                     13738 non-null  float64       \n",
            " 37  Planned_Delivery_Start_Date         16947 non-null  datetime64[ns]\n",
            " 38  Planned_Delivery_End_Date           16872 non-null  datetime64[ns]\n",
            " 39  Month                               16947 non-null  object        \n",
            " 40  Delivery_Quarter                    16947 non-null  object        \n",
            " 41  Delivery_Year                       16947 non-null  datetime64[ns]\n",
            " 42  TRF                                 16947 non-null  int64         \n",
            " 43  Total_Amount_Currency               16947 non-null  object        \n",
            " 44  Total_Amount                        16888 non-null  float64       \n",
            " 45  Total_Taxable_Amount_Currency       16947 non-null  object        \n",
            " 46  Total_Taxable_Amount                16947 non-null  float64       \n",
            " 47  Stage                               16947 non-null  category      \n",
            " 48  Closed                              16947 non-null  bool          \n",
            " 49  Won                                 16947 non-null  bool          \n",
            "dtypes: bool(6), category(9), datetime64[ns](7), float64(5), int64(3), object(20)\n",
            "memory usage: 5.3+ MB\n"
          ],
          "name": "stdout"
        }
      ]
    },
    {
      "cell_type": "code",
      "metadata": {
        "colab": {
          "base_uri": "https://localhost:8080/"
        },
        "id": "HsNznYyLr21Z",
        "outputId": "a86cc997-3042-4c6f-bd20-46101c815715"
      },
      "source": [
        "testeoProsesado = preparacionDelDataFrame(testeo,False)\r\n",
        "testeoProsesado.info()"
      ],
      "execution_count": null,
      "outputs": [
        {
          "output_type": "stream",
          "text": [
            "<class 'pandas.core.frame.DataFrame'>\n",
            "RangeIndex: 2551 entries, 0 to 2550\n",
            "Data columns (total 47 columns):\n",
            " #   Column                              Non-Null Count  Dtype         \n",
            "---  ------                              --------------  -----         \n",
            " 0   ID                                  2551 non-null   int64         \n",
            " 1   Region                              2551 non-null   category      \n",
            " 2   Territory                           2551 non-null   object        \n",
            " 3   Pricing, Delivery_Terms_Quote_Appr  2551 non-null   bool          \n",
            " 4   Pricing, Delivery_Terms_Approved    2551 non-null   bool          \n",
            " 5   Bureaucratic_Code_0_Approval        2551 non-null   bool          \n",
            " 6   Bureaucratic_Code_0_Approved        2551 non-null   bool          \n",
            " 7   Bureaucratic_Code                   2551 non-null   category      \n",
            " 8   Account_Created_Date                2551 non-null   datetime64[ns]\n",
            " 9   Source                              2551 non-null   category      \n",
            " 10  Billing_Country                     2551 non-null   category      \n",
            " 11  Account_Name                        2551 non-null   category      \n",
            " 12  Opportunity_Name                    2551 non-null   category      \n",
            " 13  Opportunity_ID                      2551 non-null   int64         \n",
            " 14  Sales_Contract_No                   2551 non-null   object        \n",
            " 15  Account_Owner                       2551 non-null   object        \n",
            " 16  Opportunity_Owner                   2551 non-null   object        \n",
            " 17  Account_Type                        2551 non-null   object        \n",
            " 18  Opportunity_Type                    2551 non-null   object        \n",
            " 19  Quote_Type                          2551 non-null   object        \n",
            " 20  Delivery_Terms                      2551 non-null   object        \n",
            " 21  Opportunity_Created_Date            2551 non-null   datetime64[ns]\n",
            " 22  Brand                               2551 non-null   object        \n",
            " 23  Product_Type                        2551 non-null   object        \n",
            " 24  Size                                2551 non-null   object        \n",
            " 25  Product_Category_B                  2551 non-null   category      \n",
            " 26  Price                               160 non-null    float64       \n",
            " 27  Currency                            2551 non-null   object        \n",
            " 28  Quote_Expiry_Date                   1315 non-null   datetime64[ns]\n",
            " 29  Last_Modified_Date                  2551 non-null   datetime64[ns]\n",
            " 30  Last_Modified_By                    2551 non-null   object        \n",
            " 31  Product_Family                      2551 non-null   category      \n",
            " 32  Product_Name                        2551 non-null   object        \n",
            " 33  ASP_Currency                        2551 non-null   object        \n",
            " 34  ASP                                 2467 non-null   float64       \n",
            " 35  ASP_(converted)_Currency            2551 non-null   object        \n",
            " 36  ASP_(converted)                     2467 non-null   float64       \n",
            " 37  Planned_Delivery_Start_Date         2551 non-null   datetime64[ns]\n",
            " 38  Planned_Delivery_End_Date           2500 non-null   datetime64[ns]\n",
            " 39  Month                               2551 non-null   object        \n",
            " 40  Delivery_Quarter                    2551 non-null   object        \n",
            " 41  Delivery_Year                       2551 non-null   datetime64[ns]\n",
            " 42  TRF                                 2551 non-null   int64         \n",
            " 43  Total_Amount_Currency               2551 non-null   object        \n",
            " 44  Total_Amount                        2551 non-null   float64       \n",
            " 45  Total_Taxable_Amount_Currency       2551 non-null   object        \n",
            " 46  Total_Taxable_Amount                2551 non-null   float64       \n",
            "dtypes: bool(4), category(8), datetime64[ns](7), float64(5), int64(3), object(20)\n",
            "memory usage: 815.8+ KB\n"
          ],
          "name": "stdout"
        }
      ]
    },
    {
      "cell_type": "markdown",
      "metadata": {
        "id": "q8JeolJN08kJ"
      },
      "source": [
        "### ejecucion por oportunidad"
      ]
    },
    {
      "cell_type": "code",
      "metadata": {
        "colab": {
          "base_uri": "https://localhost:8080/"
        },
        "id": "4FaCKA1_1ANL",
        "outputId": "c9438461-bdac-4710-8da5-28d69d0359c8"
      },
      "source": [
        "agrupacionEntrenamiento = agrupacionDeOportunidades(entrenamientoProcesado)\r\n",
        "agrupacionEntrenamiento.info()"
      ],
      "execution_count": null,
      "outputs": [
        {
          "output_type": "stream",
          "text": [
            "<class 'pandas.core.frame.DataFrame'>\n",
            "Int64Index: 9791 entries, 0 to 12803\n",
            "Data columns (total 33 columns):\n",
            " #   Column                              Non-Null Count  Dtype   \n",
            "---  ------                              --------------  -----   \n",
            " 0   Won                                 9791 non-null   int64   \n",
            " 1   modificaciones                      9791 non-null   int64   \n",
            " 2   Pricing, Delivery_Terms_Quote_Appr  9791 non-null   int64   \n",
            " 3   Pricing, Delivery_Terms_Approved    9791 non-null   int64   \n",
            " 4   Bureaucratic_Code_0_Approval        9791 non-null   int64   \n",
            " 5   Bureaucratic_Code_0_Approved        9791 non-null   int64   \n",
            " 6   Total_Amount                        9791 non-null   float64 \n",
            " 7   Region                              9791 non-null   category\n",
            " 8   Territory                           9791 non-null   category\n",
            " 9   ASP_(converted)                     9791 non-null   float64 \n",
            " 10  Account_Type                        9791 non-null   category\n",
            " 11  Delivery_Quarter                    9791 non-null   category\n",
            " 12  Product_Type                        9791 non-null   category\n",
            " 13  Product_Category_B                  9791 non-null   category\n",
            " 14  Billing_Country                     9791 non-null   category\n",
            " 15  Delivery_Terms                      9791 non-null   category\n",
            " 16  Product_Family                      9791 non-null   category\n",
            " 17  TRF                                 9791 non-null   float64 \n",
            " 18  Last_Modified_Date_anio             9791 non-null   int64   \n",
            " 19  Last_Modified_Date_mes              9791 non-null   int64   \n",
            " 20  Last_Modified_Date_dia              9791 non-null   int64   \n",
            " 21  Opportunity_Created_Date_anio       9791 non-null   int64   \n",
            " 22  Opportunity_Created_Date_mes        9791 non-null   int64   \n",
            " 23  Opportunity_Created_Date_dia        9791 non-null   int64   \n",
            " 24  Account_Created_Date_anio           9791 non-null   int64   \n",
            " 25  Account_Created_Date_mes            9791 non-null   int64   \n",
            " 26  Account_Created_Date_dia            9791 non-null   int64   \n",
            " 27  Planned_Delivery_Start_Date_anio    9791 non-null   int64   \n",
            " 28  Planned_Delivery_Start_Date_mes     9791 non-null   int64   \n",
            " 29  Planned_Delivery_Start_Date_dia     9791 non-null   int64   \n",
            " 30  Planned_Delivery_End_Date_anio      9734 non-null   float64 \n",
            " 31  Planned_Delivery_End_Date_mes       9734 non-null   float64 \n",
            " 32  Planned_Delivery_End_Date_dia       9734 non-null   float64 \n",
            "dtypes: category(9), float64(6), int64(18)\n",
            "memory usage: 2.0 MB\n"
          ],
          "name": "stdout"
        }
      ]
    },
    {
      "cell_type": "code",
      "metadata": {
        "colab": {
          "base_uri": "https://localhost:8080/"
        },
        "id": "u45CZJXV1Flo",
        "outputId": "bdd8d519-cb96-4566-9076-9f1b816d0d5c"
      },
      "source": [
        "agrupacionTesteo = agrupacionDeOportunidades(testeoProsesado,False)\r\n",
        "agrupacionTesteo.info()"
      ],
      "execution_count": null,
      "outputs": [
        {
          "output_type": "stream",
          "text": [
            "<class 'pandas.core.frame.DataFrame'>\n",
            "Int64Index: 1567 entries, 10689 to 12368\n",
            "Data columns (total 32 columns):\n",
            " #   Column                              Non-Null Count  Dtype   \n",
            "---  ------                              --------------  -----   \n",
            " 0   modificaciones                      1567 non-null   int64   \n",
            " 1   Pricing, Delivery_Terms_Quote_Appr  1567 non-null   int64   \n",
            " 2   Pricing, Delivery_Terms_Approved    1567 non-null   int64   \n",
            " 3   Bureaucratic_Code_0_Approval        1567 non-null   int64   \n",
            " 4   Bureaucratic_Code_0_Approved        1567 non-null   int64   \n",
            " 5   Total_Amount                        1567 non-null   float64 \n",
            " 6   Region                              1567 non-null   category\n",
            " 7   Territory                           1567 non-null   category\n",
            " 8   ASP_(converted)                     1567 non-null   float64 \n",
            " 9   Account_Type                        1567 non-null   category\n",
            " 10  Delivery_Quarter                    1567 non-null   category\n",
            " 11  Product_Type                        1567 non-null   category\n",
            " 12  Product_Category_B                  1567 non-null   category\n",
            " 13  Billing_Country                     1567 non-null   category\n",
            " 14  Delivery_Terms                      1567 non-null   category\n",
            " 15  Product_Family                      1567 non-null   category\n",
            " 16  TRF                                 1567 non-null   float64 \n",
            " 17  Last_Modified_Date_anio             1567 non-null   int64   \n",
            " 18  Last_Modified_Date_mes              1567 non-null   int64   \n",
            " 19  Last_Modified_Date_dia              1567 non-null   int64   \n",
            " 20  Opportunity_Created_Date_anio       1567 non-null   int64   \n",
            " 21  Opportunity_Created_Date_mes        1567 non-null   int64   \n",
            " 22  Opportunity_Created_Date_dia        1567 non-null   int64   \n",
            " 23  Account_Created_Date_anio           1567 non-null   int64   \n",
            " 24  Account_Created_Date_mes            1567 non-null   int64   \n",
            " 25  Account_Created_Date_dia            1567 non-null   int64   \n",
            " 26  Planned_Delivery_Start_Date_anio    1567 non-null   int64   \n",
            " 27  Planned_Delivery_Start_Date_mes     1567 non-null   int64   \n",
            " 28  Planned_Delivery_Start_Date_dia     1567 non-null   int64   \n",
            " 29  Planned_Delivery_End_Date_anio      1524 non-null   float64 \n",
            " 30  Planned_Delivery_End_Date_mes       1524 non-null   float64 \n",
            " 31  Planned_Delivery_End_Date_dia       1524 non-null   float64 \n",
            "dtypes: category(9), float64(6), int64(17)\n",
            "memory usage: 316.6 KB\n"
          ],
          "name": "stdout"
        }
      ]
    },
    {
      "cell_type": "markdown",
      "metadata": {
        "id": "1xfzMbqiZrue"
      },
      "source": [
        "### separacion de resultados de entrenamiento"
      ]
    },
    {
      "cell_type": "code",
      "metadata": {
        "colab": {
          "base_uri": "https://localhost:8080/"
        },
        "id": "3_W40iRfZ0e9",
        "outputId": "c01fa648-16d8-4f45-f627-74021a077155"
      },
      "source": [
        "entrenamientoResultado = agrupacionEntrenamiento[['Won']]\r\n",
        "entrenamientoResultado.info()"
      ],
      "execution_count": null,
      "outputs": [
        {
          "output_type": "stream",
          "text": [
            "<class 'pandas.core.frame.DataFrame'>\n",
            "Int64Index: 9791 entries, 0 to 12803\n",
            "Data columns (total 1 columns):\n",
            " #   Column  Non-Null Count  Dtype\n",
            "---  ------  --------------  -----\n",
            " 0   Won     9791 non-null   int64\n",
            "dtypes: int64(1)\n",
            "memory usage: 153.0 KB\n"
          ],
          "name": "stdout"
        }
      ]
    },
    {
      "cell_type": "code",
      "metadata": {
        "colab": {
          "base_uri": "https://localhost:8080/"
        },
        "id": "8-ZrGbyfaHH1",
        "outputId": "70866cf1-4e62-4299-828c-d7026fa394b8"
      },
      "source": [
        "agrupacionEntrenamiento = agrupacionEntrenamiento.drop(['Won'], axis=1)\r\n",
        "agrupacionEntrenamiento.info()"
      ],
      "execution_count": null,
      "outputs": [
        {
          "output_type": "stream",
          "text": [
            "<class 'pandas.core.frame.DataFrame'>\n",
            "Int64Index: 9791 entries, 0 to 12803\n",
            "Data columns (total 32 columns):\n",
            " #   Column                              Non-Null Count  Dtype   \n",
            "---  ------                              --------------  -----   \n",
            " 0   modificaciones                      9791 non-null   int64   \n",
            " 1   Pricing, Delivery_Terms_Quote_Appr  9791 non-null   int64   \n",
            " 2   Pricing, Delivery_Terms_Approved    9791 non-null   int64   \n",
            " 3   Bureaucratic_Code_0_Approval        9791 non-null   int64   \n",
            " 4   Bureaucratic_Code_0_Approved        9791 non-null   int64   \n",
            " 5   Total_Amount                        9791 non-null   float64 \n",
            " 6   Region                              9791 non-null   category\n",
            " 7   Territory                           9791 non-null   category\n",
            " 8   ASP_(converted)                     9791 non-null   float64 \n",
            " 9   Account_Type                        9791 non-null   category\n",
            " 10  Delivery_Quarter                    9791 non-null   category\n",
            " 11  Product_Type                        9791 non-null   category\n",
            " 12  Product_Category_B                  9791 non-null   category\n",
            " 13  Billing_Country                     9791 non-null   category\n",
            " 14  Delivery_Terms                      9791 non-null   category\n",
            " 15  Product_Family                      9791 non-null   category\n",
            " 16  TRF                                 9791 non-null   float64 \n",
            " 17  Last_Modified_Date_anio             9791 non-null   int64   \n",
            " 18  Last_Modified_Date_mes              9791 non-null   int64   \n",
            " 19  Last_Modified_Date_dia              9791 non-null   int64   \n",
            " 20  Opportunity_Created_Date_anio       9791 non-null   int64   \n",
            " 21  Opportunity_Created_Date_mes        9791 non-null   int64   \n",
            " 22  Opportunity_Created_Date_dia        9791 non-null   int64   \n",
            " 23  Account_Created_Date_anio           9791 non-null   int64   \n",
            " 24  Account_Created_Date_mes            9791 non-null   int64   \n",
            " 25  Account_Created_Date_dia            9791 non-null   int64   \n",
            " 26  Planned_Delivery_Start_Date_anio    9791 non-null   int64   \n",
            " 27  Planned_Delivery_Start_Date_mes     9791 non-null   int64   \n",
            " 28  Planned_Delivery_Start_Date_dia     9791 non-null   int64   \n",
            " 29  Planned_Delivery_End_Date_anio      9734 non-null   float64 \n",
            " 30  Planned_Delivery_End_Date_mes       9734 non-null   float64 \n",
            " 31  Planned_Delivery_End_Date_dia       9734 non-null   float64 \n",
            "dtypes: category(9), float64(6), int64(17)\n",
            "memory usage: 1.9 MB\n"
          ],
          "name": "stdout"
        }
      ]
    },
    {
      "cell_type": "markdown",
      "metadata": {
        "id": "S7uqV5xvL6Zo"
      },
      "source": [
        "## Prueva"
      ]
    },
    {
      "cell_type": "markdown",
      "metadata": {
        "id": "6JZVeYsgJcg4"
      },
      "source": [
        "### prueba supuestamete bien (arbitraria con un error aprox de +0.04 en logloss)"
      ]
    },
    {
      "cell_type": "code",
      "metadata": {
        "colab": {
          "base_uri": "https://localhost:8080/"
        },
        "id": "yeLzHmGeEo3t",
        "outputId": "455dab86-506e-4393-b1c2-2fc0909bd173"
      },
      "source": [
        "def pruebaArbitraria():\r\n",
        "  serieDiferenciasDeSupuestos = dataResultante['Target'] - supuestos['Target']\r\n",
        "  serieDiferenciasDeSupuestos = serieDiferenciasDeSupuestos.agg(lambda x: abs(x))\r\n",
        "  #valores a vencer\r\n",
        "  #0.29328282239325076 0.066288348418729 0.25746523730152193\r\n",
        "  #0.31706383931591736 0.05312227841294053 0.23048270740543753 ramdom forest\r\n",
        "  #0.289665541459807 0.07066249882454302 0.26582418780942985 catboost\r\n",
        "  #0.29650158086984807 0.06760957650563981 0.2600184157048108 //0.42\r\n",
        "  print(serieDiferenciasDeSupuestos.mean(),serieDiferenciasDeSupuestos.var(),serieDiferenciasDeSupuestos.std())\r\n",
        "  log_loss(supuestos['Target'],dataResultante['Target'])#predijo 0.4774430257846605 mientras el resultado dio 0.43117\r\n",
        "#pruebaArbitraria()"
      ],
      "execution_count": null,
      "outputs": [
        {
          "output_type": "stream",
          "text": [
            "0.29554548477095083 0.06262130712858385 0.2502424966479192\n"
          ],
          "name": "stdout"
        },
        {
          "output_type": "execute_result",
          "data": {
            "text/plain": [
              "0.4628022823299211"
            ]
          },
          "metadata": {
            "tags": []
          },
          "execution_count": 139
        }
      ]
    },
    {
      "cell_type": "code",
      "metadata": {
        "id": "T_eJk_tByPDK"
      },
      "source": [
        "#dataResultante['Target'].agg(lambda x: 1 if x < 0.55 and x > 0.45 else 0).value_counts()"
      ],
      "execution_count": null,
      "outputs": []
    },
    {
      "cell_type": "code",
      "metadata": {
        "id": "SvnqKkWyEOej"
      },
      "source": [
        "#dataResultante['Target'].agg(lambda x: 1 if x > 0.95 or x < 0.05 else 0).value_counts()"
      ],
      "execution_count": null,
      "outputs": []
    },
    {
      "cell_type": "code",
      "metadata": {
        "id": "0CGnX0XD4JqQ"
      },
      "source": [
        "def pruebaTestDeEliminacion():\r\n",
        "  #Prueba de eliminacion de columnas\r\n",
        "  listaDeCategoricas = ['Region','Territory','Product_Type','Product_Category_B',\r\n",
        "                        'Account_Type','Delivery_Quarter','Billing_Country',\r\n",
        "                        'Delivery_Terms','Product_Family']\r\n",
        "\r\n",
        "  maxData = pd.DataFrame()\r\n",
        "  maxValor = -9999\r\n",
        "  for col in agrupacionEntrenamiento.columns:\r\n",
        "    desacerse = [col]\r\n",
        "    agrupacionEntrenamientoCat = agrupacionEntrenamiento.drop(desacerse,axis=1)\r\n",
        "    agrupacionTesteoCat = agrupacionTesteo.drop(desacerse,axis=1)\r\n",
        "    print(col)\r\n",
        "\r\n",
        "    llistaAux = []\r\n",
        "    for elemento in listaDeCategoricas:\r\n",
        "      if (elemento in desacerse):\r\n",
        "        continue\r\n",
        "      llistaAux.append(elemento)\r\n",
        "    #listaDeCategoricas = []\r\n",
        "    res,importancia = catboost(agrupacionEntrenamientoCat,entrenamientoResultado,llistaAux,agrupacionTesteoCat)\r\n",
        "    valor = testeoRes(agrupacionTesteoCat,res)\r\n",
        "    if (valor > maxValor):\r\n",
        "      print(\"--------------\")\r\n",
        "      print(valor)\r\n",
        "      print(\"--------------\")\r\n",
        "      maxValor = valor\r\n",
        "      maxData = res\r\n",
        "  print(maxValor)\r\n",
        "  #0.4628022823299211 cat\r\n",
        "  return maxData"
      ],
      "execution_count": null,
      "outputs": []
    },
    {
      "cell_type": "markdown",
      "metadata": {
        "id": "zVBNOzCKY0VD"
      },
      "source": [
        "## Resultado"
      ]
    },
    {
      "cell_type": "code",
      "metadata": {
        "id": "bU-Rs00eY2ix"
      },
      "source": [
        "def generarResultado(df,prediccion):\r\n",
        "  resultado = df.copy(True)\r\n",
        "  resultado['Target'] = prediccion\r\n",
        "  resultado = resultado[['Target']]\r\n",
        "  resultado.to_csv('resultado.csv')\r\n",
        "  return resultado"
      ],
      "execution_count": null,
      "outputs": []
    },
    {
      "cell_type": "code",
      "metadata": {
        "id": "YqPqyX1ihs-Q"
      },
      "source": [
        "def auxiliarUnificarValor(arreglo):\r\n",
        "  return arreglo[:,0]"
      ],
      "execution_count": null,
      "outputs": []
    },
    {
      "cell_type": "markdown",
      "metadata": {
        "id": "J983upopKwQx"
      },
      "source": [
        "## Catboost"
      ]
    },
    {
      "cell_type": "markdown",
      "metadata": {
        "id": "I-rXEcxr-Nns"
      },
      "source": [
        "### grid search"
      ]
    },
    {
      "cell_type": "code",
      "metadata": {
        "id": "_fzOaeis953k"
      },
      "source": [
        "def GridSearchCatboost(train_data_o,train_labels,cat_features):\r\n",
        "  \"\"\"clf = CatBoostClassifier()\r\n",
        "  params = {'iterations': [500],\r\n",
        "            'depth': [4, 5, 6],\r\n",
        "            #'loss_function': ['Logloss', 'CrossEntropy'],\r\n",
        "            'l2_leaf_reg': np.logspace(-10, 1, 50),\r\n",
        "            'leaf_estimation_iterations': [10],\r\n",
        "            'learning_rate': [0.5,0.25,0.05],\r\n",
        "            'rsm' : [0.7,0.5]\r\n",
        "            #'eval_metric': ['Accuracy'],\r\n",
        "            #'use_best_model': ['True'],\r\n",
        "            #'logging_level':['Silent'],\r\n",
        "            #'random_seed': [42]\r\n",
        "          }\r\n",
        "  scorer = make_scorer(accuracy_score)\r\n",
        "  clf_grid = GridSearchCV(estimator=clf, param_grid=params, scoring=scorer, cv=5)\r\n",
        "  clf_grid.fit(X_train_enc, y_train,cat_features)\r\n",
        "  best_param = clf_grid.best_params_\r\n",
        "  return best_param\"\"\"\r\n",
        "  model = CatBoostClassifier(loss_function='Logloss')\r\n",
        "  #model = CatBoostClassifier(loss_function='CrossEntropy')\r\n",
        "\r\n",
        "  train_data = train_data_o\r\n",
        "  # convert categorical columns to integers\r\n",
        "  for header in cat_features:\r\n",
        "    train_data[header] = train_data[header].astype('category').cat.codes\r\n",
        "\r\n",
        "  grid = {'learning_rate': list(np.arange(0.05,0.51,0.05)),\r\n",
        "          'depth': list(range(6,13,2)),\r\n",
        "          'l2_leaf_reg': list(np.arange(2,5.1,0.5)),\r\n",
        "          'iterations': list(range(10,101,15)),\r\n",
        "          'rsm':list(np.arange(0.1,1.1,0.1))\r\n",
        "          }\r\n",
        "\r\n",
        "  grid_search_result = model.grid_search(grid, \r\n",
        "                                        X=train_data, \r\n",
        "                                        y=train_labels,\r\n",
        "                                        cv=10,\r\n",
        "                                        plot=True)\r\n",
        "  \r\n",
        "  return grid_search_result"
      ],
      "execution_count": null,
      "outputs": []
    },
    {
      "cell_type": "code",
      "metadata": {
        "id": "Pf2F-A-IBfPH"
      },
      "source": [
        "listaDeCategoricas = ['Region','Territory','Product_Type','Product_Category_B',\r\n",
        "                      'Account_Type','Delivery_Quarter','Billing_Country']\r\n",
        "#comentado para evitar ejecucion erronea\r\n",
        "#valores = GridSearchCatboost(agrupacionEntrenamiento,entrenamientoResultado,listaDeCategoricas)\r\n",
        "#valores"
      ],
      "execution_count": null,
      "outputs": []
    },
    {
      "cell_type": "markdown",
      "metadata": {
        "id": "eXu5RWvjWtP-"
      },
      "source": [
        "### bayesian"
      ]
    },
    {
      "cell_type": "code",
      "metadata": {
        "id": "sAAZRp5tWwS-"
      },
      "source": [
        "def catboost_classifier(learning_rate, depth, l2_leaf_reg,iterations,rsm):\r\n",
        "    params = {\r\n",
        "        \"loss_function\": \"Logloss\",\r\n",
        "        #\"eval_metric\" : \"AUC\", \r\n",
        "        \"depth\" : int(depth),\r\n",
        "        \"l2_leaf_reg\" : l2_leaf_reg,\r\n",
        "        \"learning_rate\" : learning_rate,\r\n",
        "        #\"random_state\" : 42,\r\n",
        "        \"rsm\" : rsm,\r\n",
        "        \"iterations\": int(iterations)\r\n",
        "        #\"logging_level\" : \"Silent\",\r\n",
        "        #\"thread_count\": 24,\r\n",
        "        #\"num_boost_round\": int(num_boost_round)\r\n",
        "    }\r\n",
        "    X_train = agrupacionEntrenamiento\r\n",
        "    y_train = entrenamientoResultado\r\n",
        "    categorical_features = ['Region','Territory','Product_Type','Product_Category_B',\r\n",
        "                            'Account_Type','Delivery_Quarter','Billing_Country']\r\n",
        "\r\n",
        "    train_data = Pool(data=X_train, label=y_train, \r\n",
        "                               cat_features=categorical_features)\r\n",
        "    \r\n",
        "    cv_result = cv(train_data,\r\n",
        "                       params,\r\n",
        "                       early_stopping_rounds=100,\r\n",
        "                       stratified=True,\r\n",
        "                       nfold=3)\r\n",
        "    return cv_result['train-Logloss-mean'].iloc[-1]\r\n",
        "\r\n",
        "def bayesianoCatboost():\r\n",
        "  grid = {'learning_rate': (0.01,0.10),\r\n",
        "          'depth': (8,14),\r\n",
        "          'l2_leaf_reg': (0.1,3.0),\r\n",
        "          'iterations': (10,100),\r\n",
        "          'rsm':(0.01,1.0)\r\n",
        "          }\r\n",
        "  catboostBO = BayesianOptimization(catboost_classifier, grid)\r\n",
        "\r\n",
        "  return catboostBO.maximize(n_iter=15, init_points=2)"
      ],
      "execution_count": null,
      "outputs": []
    },
    {
      "cell_type": "code",
      "metadata": {
        "id": "hRhmFXIFXlLU"
      },
      "source": [
        "#bayesianoCatboost()\r\n",
        "#catboost_classifier(0.05,10,3.5,20,0.5)"
      ],
      "execution_count": null,
      "outputs": []
    },
    {
      "cell_type": "markdown",
      "metadata": {
        "id": "mNQ7QI9D-VCT"
      },
      "source": [
        "### prediccion"
      ]
    },
    {
      "cell_type": "code",
      "metadata": {
        "id": "4fhBQZdlK0xf"
      },
      "source": [
        "def catboost(train_data,train_labels,cat_features,eval_data):\r\n",
        "  # Inicializador de CatBoostClassifier\r\n",
        "  model = CatBoostClassifier(iterations=100,\r\n",
        "                             learning_rate=0.4,#0.5\r\n",
        "                             depth=7,#8\r\n",
        "                             l2_leaf_reg=4,#3\r\n",
        "                             rsm=0.7,#0.5\r\n",
        "                             #random_strength=0.75,\r\n",
        "                             grow_policy='SymmetricTree'#'SymmetricTree', 'Depthwise' y 'Lossguide'\r\n",
        "                             #random_seed=2\r\n",
        "                             #use_best_model=True,#Requiere data de evalucion\r\n",
        "                             #eval_set=supuestos\r\n",
        "                             )\r\n",
        "  #parametros importantes por agregar: l2_leaf_reg, rsm\r\n",
        "  #para tipos de category: cat_features, one_hot_max_size\r\n",
        "\r\n",
        "  # Entrenamiento del modelo\r\n",
        "  #model.fit(train_data, train_labels, cat_features)\r\n",
        "\r\n",
        "  eval_dataset = Pool(data=eval_data,\r\n",
        "                      label=supuestos[['Target']],\r\n",
        "                      cat_features=cat_features)\r\n",
        "  model.fit(train_data, train_labels, cat_features, use_best_model=True, eval_set=eval_dataset)\r\n",
        "\r\n",
        "  # obtener prediccion\r\n",
        "  #preds_class = model.predict(eval_data)\r\n",
        "\r\n",
        "  # obtener probabilidad de prediccion\r\n",
        "  preds_proba = model.predict_proba(eval_data)\r\n",
        "\r\n",
        "  # obtener RawFormulaVal de la prediccion\r\n",
        "  #preds_raw = model.predict(eval_data, prediction_type='RawFormulaVal')\r\n",
        "\r\n",
        "  #return resultado(eval_data,preds_proba)\r\n",
        "  importancia = model.get_feature_importance(type= \"FeatureImportance\",prettified=True)\r\n",
        "  return preds_proba,importancia"
      ],
      "execution_count": null,
      "outputs": []
    },
    {
      "cell_type": "code",
      "metadata": {
        "id": "DgznGL-LaXIz"
      },
      "source": [
        "listaDeCategoricas = ['Region','Territory','Product_Type','Product_Category_B',\r\n",
        "                      'Account_Type','Delivery_Quarter','Billing_Country',\r\n",
        "                      'Delivery_Terms','Product_Family']\r\n",
        "res,importancia = catboost(agrupacionEntrenamiento.copy(deep=True),entrenamientoResultado.copy(deep=True),listaDeCategoricas,agrupacionTesteo.copy(deep=True))\r\n",
        "res"
      ],
      "execution_count": null,
      "outputs": []
    },
    {
      "cell_type": "code",
      "metadata": {
        "colab": {
          "base_uri": "https://localhost:8080/"
        },
        "id": "Bgabwh58hq77",
        "outputId": "d337fbd5-e1ff-40d0-c869-59ef99e75d19"
      },
      "source": [
        "resultado = auxiliarUnificarValor(res)\r\n",
        "#resultado = res\r\n",
        "resultado = (resultado - 1) * (-1)#En las ultimas pruevas es el opuesto el que genera mejor resultado\r\n",
        "resultado"
      ],
      "execution_count": null,
      "outputs": [
        {
          "output_type": "execute_result",
          "data": {
            "text/plain": [
              "array([0.52206345, 0.42744145, 0.60402653, ..., 0.20138953, 0.3453228 ,\n",
              "       0.26537745])"
            ]
          },
          "metadata": {
            "tags": []
          },
          "execution_count": 137
        }
      ]
    },
    {
      "cell_type": "code",
      "metadata": {
        "colab": {
          "base_uri": "https://localhost:8080/",
          "height": 238
        },
        "id": "cv9IaH_CjpoN",
        "outputId": "e228dc1e-4984-4c84-c693-08cfb63e62fc"
      },
      "source": [
        "dataResultante = generarResultado(agrupacionTesteo,resultado)\r\n",
        "dataResultante.head()"
      ],
      "execution_count": null,
      "outputs": [
        {
          "output_type": "execute_result",
          "data": {
            "text/html": [
              "<div>\n",
              "<style scoped>\n",
              "    .dataframe tbody tr th:only-of-type {\n",
              "        vertical-align: middle;\n",
              "    }\n",
              "\n",
              "    .dataframe tbody tr th {\n",
              "        vertical-align: top;\n",
              "    }\n",
              "\n",
              "    .dataframe thead th {\n",
              "        text-align: right;\n",
              "    }\n",
              "</style>\n",
              "<table border=\"1\" class=\"dataframe\">\n",
              "  <thead>\n",
              "    <tr style=\"text-align: right;\">\n",
              "      <th></th>\n",
              "      <th>Target</th>\n",
              "    </tr>\n",
              "    <tr>\n",
              "      <th>Opportunity_ID</th>\n",
              "      <th></th>\n",
              "    </tr>\n",
              "  </thead>\n",
              "  <tbody>\n",
              "    <tr>\n",
              "      <th>10689</th>\n",
              "      <td>0.52</td>\n",
              "    </tr>\n",
              "    <tr>\n",
              "      <th>10690</th>\n",
              "      <td>0.43</td>\n",
              "    </tr>\n",
              "    <tr>\n",
              "      <th>10691</th>\n",
              "      <td>0.60</td>\n",
              "    </tr>\n",
              "    <tr>\n",
              "      <th>10692</th>\n",
              "      <td>0.45</td>\n",
              "    </tr>\n",
              "    <tr>\n",
              "      <th>10693</th>\n",
              "      <td>0.77</td>\n",
              "    </tr>\n",
              "  </tbody>\n",
              "</table>\n",
              "</div>"
            ],
            "text/plain": [
              "                             Target\n",
              "Opportunity_ID                     \n",
              "10689                          0.52\n",
              "10690                          0.43\n",
              "10691                          0.60\n",
              "10692                          0.45\n",
              "10693                          0.77"
            ]
          },
          "metadata": {
            "tags": []
          },
          "execution_count": 138
        }
      ]
    },
    {
      "cell_type": "code",
      "metadata": {
        "colab": {
          "base_uri": "https://localhost:8080/",
          "height": 1000
        },
        "id": "TjaNnyRAySZv",
        "outputId": "1557681b-4ed7-480e-cb69-81fd71c41dd0"
      },
      "source": [
        "importancia"
      ],
      "execution_count": null,
      "outputs": [
        {
          "output_type": "execute_result",
          "data": {
            "text/html": [
              "<div>\n",
              "<style scoped>\n",
              "    .dataframe tbody tr th:only-of-type {\n",
              "        vertical-align: middle;\n",
              "    }\n",
              "\n",
              "    .dataframe tbody tr th {\n",
              "        vertical-align: top;\n",
              "    }\n",
              "\n",
              "    .dataframe thead th {\n",
              "        text-align: right;\n",
              "    }\n",
              "</style>\n",
              "<table border=\"1\" class=\"dataframe\">\n",
              "  <thead>\n",
              "    <tr style=\"text-align: right;\">\n",
              "      <th></th>\n",
              "      <th>Feature Id</th>\n",
              "      <th>Importances</th>\n",
              "    </tr>\n",
              "  </thead>\n",
              "  <tbody>\n",
              "    <tr>\n",
              "      <th>0</th>\n",
              "      <td>Product_Type</td>\n",
              "      <td>19.21</td>\n",
              "    </tr>\n",
              "    <tr>\n",
              "      <th>1</th>\n",
              "      <td>TRF</td>\n",
              "      <td>8.59</td>\n",
              "    </tr>\n",
              "    <tr>\n",
              "      <th>2</th>\n",
              "      <td>Region</td>\n",
              "      <td>6.57</td>\n",
              "    </tr>\n",
              "    <tr>\n",
              "      <th>3</th>\n",
              "      <td>Planned_Delivery_Start_Date_dia</td>\n",
              "      <td>5.29</td>\n",
              "    </tr>\n",
              "    <tr>\n",
              "      <th>4</th>\n",
              "      <td>Account_Created_Date_anio</td>\n",
              "      <td>4.86</td>\n",
              "    </tr>\n",
              "    <tr>\n",
              "      <th>5</th>\n",
              "      <td>Account_Type</td>\n",
              "      <td>4.81</td>\n",
              "    </tr>\n",
              "    <tr>\n",
              "      <th>6</th>\n",
              "      <td>Planned_Delivery_Start_Date_mes</td>\n",
              "      <td>4.43</td>\n",
              "    </tr>\n",
              "    <tr>\n",
              "      <th>7</th>\n",
              "      <td>Opportunity_Created_Date_mes</td>\n",
              "      <td>4.29</td>\n",
              "    </tr>\n",
              "    <tr>\n",
              "      <th>8</th>\n",
              "      <td>Opportunity_Created_Date_anio</td>\n",
              "      <td>3.68</td>\n",
              "    </tr>\n",
              "    <tr>\n",
              "      <th>9</th>\n",
              "      <td>Pricing, Delivery_Terms_Approved</td>\n",
              "      <td>3.62</td>\n",
              "    </tr>\n",
              "    <tr>\n",
              "      <th>10</th>\n",
              "      <td>Billing_Country</td>\n",
              "      <td>3.56</td>\n",
              "    </tr>\n",
              "    <tr>\n",
              "      <th>11</th>\n",
              "      <td>Planned_Delivery_End_Date_dia</td>\n",
              "      <td>3.29</td>\n",
              "    </tr>\n",
              "    <tr>\n",
              "      <th>12</th>\n",
              "      <td>Product_Family</td>\n",
              "      <td>3.13</td>\n",
              "    </tr>\n",
              "    <tr>\n",
              "      <th>13</th>\n",
              "      <td>Total_Amount</td>\n",
              "      <td>3.05</td>\n",
              "    </tr>\n",
              "    <tr>\n",
              "      <th>14</th>\n",
              "      <td>Planned_Delivery_End_Date_anio</td>\n",
              "      <td>2.96</td>\n",
              "    </tr>\n",
              "    <tr>\n",
              "      <th>15</th>\n",
              "      <td>Last_Modified_Date_anio</td>\n",
              "      <td>2.77</td>\n",
              "    </tr>\n",
              "    <tr>\n",
              "      <th>16</th>\n",
              "      <td>ASP_(converted)</td>\n",
              "      <td>2.76</td>\n",
              "    </tr>\n",
              "    <tr>\n",
              "      <th>17</th>\n",
              "      <td>Last_Modified_Date_dia</td>\n",
              "      <td>2.67</td>\n",
              "    </tr>\n",
              "    <tr>\n",
              "      <th>18</th>\n",
              "      <td>Total_Taxable_Amount</td>\n",
              "      <td>1.59</td>\n",
              "    </tr>\n",
              "    <tr>\n",
              "      <th>19</th>\n",
              "      <td>Planned_Delivery_End_Date_mes</td>\n",
              "      <td>1.47</td>\n",
              "    </tr>\n",
              "    <tr>\n",
              "      <th>20</th>\n",
              "      <td>Bureaucratic_Code_0_Approved</td>\n",
              "      <td>1.29</td>\n",
              "    </tr>\n",
              "    <tr>\n",
              "      <th>21</th>\n",
              "      <td>Bureaucratic_Code_0_Approval</td>\n",
              "      <td>1.20</td>\n",
              "    </tr>\n",
              "    <tr>\n",
              "      <th>22</th>\n",
              "      <td>Territory</td>\n",
              "      <td>0.93</td>\n",
              "    </tr>\n",
              "    <tr>\n",
              "      <th>23</th>\n",
              "      <td>Last_Modified_Date_mes</td>\n",
              "      <td>0.93</td>\n",
              "    </tr>\n",
              "    <tr>\n",
              "      <th>24</th>\n",
              "      <td>Opportunity_Created_Date_dia</td>\n",
              "      <td>0.80</td>\n",
              "    </tr>\n",
              "    <tr>\n",
              "      <th>25</th>\n",
              "      <td>Planned_Delivery_Start_Date_anio</td>\n",
              "      <td>0.78</td>\n",
              "    </tr>\n",
              "    <tr>\n",
              "      <th>26</th>\n",
              "      <td>Account_Created_Date_dia</td>\n",
              "      <td>0.63</td>\n",
              "    </tr>\n",
              "    <tr>\n",
              "      <th>27</th>\n",
              "      <td>modificaciones</td>\n",
              "      <td>0.57</td>\n",
              "    </tr>\n",
              "    <tr>\n",
              "      <th>28</th>\n",
              "      <td>Account_Created_Date_mes</td>\n",
              "      <td>0.28</td>\n",
              "    </tr>\n",
              "    <tr>\n",
              "      <th>29</th>\n",
              "      <td>Delivery_Terms</td>\n",
              "      <td>0.01</td>\n",
              "    </tr>\n",
              "    <tr>\n",
              "      <th>30</th>\n",
              "      <td>Delivery_Quarter</td>\n",
              "      <td>0.00</td>\n",
              "    </tr>\n",
              "    <tr>\n",
              "      <th>31</th>\n",
              "      <td>Pricing, Delivery_Terms_Quote_Appr</td>\n",
              "      <td>0.00</td>\n",
              "    </tr>\n",
              "    <tr>\n",
              "      <th>32</th>\n",
              "      <td>Product_Category_B</td>\n",
              "      <td>0.00</td>\n",
              "    </tr>\n",
              "    <tr>\n",
              "      <th>33</th>\n",
              "      <td>ASP_(converted)_Currency</td>\n",
              "      <td>0.00</td>\n",
              "    </tr>\n",
              "  </tbody>\n",
              "</table>\n",
              "</div>"
            ],
            "text/plain": [
              "                            Feature Id          Importances\n",
              "0                         Product_Type                19.21\n",
              "1                                  TRF                 8.59\n",
              "2                               Region                 6.57\n",
              "3      Planned_Delivery_Start_Date_dia                 5.29\n",
              "4            Account_Created_Date_anio                 4.86\n",
              "5                         Account_Type                 4.81\n",
              "6      Planned_Delivery_Start_Date_mes                 4.43\n",
              "7         Opportunity_Created_Date_mes                 4.29\n",
              "8        Opportunity_Created_Date_anio                 3.68\n",
              "9     Pricing, Delivery_Terms_Approved                 3.62\n",
              "10                     Billing_Country                 3.56\n",
              "11       Planned_Delivery_End_Date_dia                 3.29\n",
              "12                      Product_Family                 3.13\n",
              "13                        Total_Amount                 3.05\n",
              "14      Planned_Delivery_End_Date_anio                 2.96\n",
              "15             Last_Modified_Date_anio                 2.77\n",
              "16                     ASP_(converted)                 2.76\n",
              "17              Last_Modified_Date_dia                 2.67\n",
              "18                Total_Taxable_Amount                 1.59\n",
              "19       Planned_Delivery_End_Date_mes                 1.47\n",
              "20        Bureaucratic_Code_0_Approved                 1.29\n",
              "21        Bureaucratic_Code_0_Approval                 1.20\n",
              "22                           Territory                 0.93\n",
              "23              Last_Modified_Date_mes                 0.93\n",
              "24        Opportunity_Created_Date_dia                 0.80\n",
              "25    Planned_Delivery_Start_Date_anio                 0.78\n",
              "26            Account_Created_Date_dia                 0.63\n",
              "27                      modificaciones                 0.57\n",
              "28            Account_Created_Date_mes                 0.28\n",
              "29                      Delivery_Terms                 0.01\n",
              "30                    Delivery_Quarter                 0.00\n",
              "31  Pricing, Delivery_Terms_Quote_Appr                 0.00\n",
              "32                  Product_Category_B                 0.00\n",
              "33            ASP_(converted)_Currency                 0.00"
            ]
          },
          "metadata": {
            "tags": []
          },
          "execution_count": 66
        }
      ]
    },
    {
      "cell_type": "markdown",
      "metadata": {
        "id": "onKsrVr1lwas"
      },
      "source": [
        "## XGBoost"
      ]
    },
    {
      "cell_type": "code",
      "metadata": {
        "id": "uAJLnCXIl1eQ"
      },
      "source": [
        "def xgboost(train_set, train_label,listaCategorica,test_set,masImportantes=0):\r\n",
        "  xgb_reg = xgb.XGBClassifier(max_depth = 8, \r\n",
        "                           colsample_bytree = 0.5, \r\n",
        "                           learning_rate = 0.3, \r\n",
        "                           alpha = 8,\r\n",
        "                           min_child_weight = 0.5,\r\n",
        "                           n_estimators = 200,\r\n",
        "                           objetive = 'reg:squarederror')\r\n",
        "  xgb_reg.fit(train_set, train_label)\r\n",
        "  predicts = xgb_reg.predict_proba(test_set)\r\n",
        "  if (masImportantes > 0):\r\n",
        "    xgb.plot_importance(xg_reg, max_num_features=masImportantes)\r\n",
        "  return predicts\r\n",
        "\r\n",
        "\r\n"
      ],
      "execution_count": null,
      "outputs": []
    },
    {
      "cell_type": "code",
      "metadata": {
        "colab": {
          "base_uri": "https://localhost:8080/"
        },
        "id": "viXhlcxFonZc",
        "outputId": "25817508-18da-40b3-ba98-c0c02c042d83"
      },
      "source": [
        "#listaDeCategoricas = ['Region','Territory','Product_Type','Product_Category_B']\r\n",
        "#listaDeCategoricas = ['Region','Territory','Product_Type','Product_Category_B','Account_Type','Delivery_Quarter']\r\n",
        "listaDeCategoricas = ['Region','Territory','Product_Type','Product_Category_B',\r\n",
        "                      'Account_Type','Delivery_Quarter','Billing_Country',\r\n",
        "                      'Delivery_Terms','Product_Family','ASP_(converted)_Currency']\r\n",
        "#listaDeCategoricas = []\r\n",
        "agrupacionEntrenamientoXGB = agrupacionEntrenamiento.copy(True)\r\n",
        "agrupacionTesteoXGB = agrupacionTesteo.copy(True)\r\n",
        "\r\n",
        "# convert categorical columns to integers \r\n",
        "#usando la funcion de catboost\r\n",
        "for header in listaDeCategoricas:\r\n",
        "  agrupacionEntrenamientoXGB[header] = agrupacionEntrenamientoXGB[header].astype('category').cat.codes\r\n",
        "  agrupacionTesteoXGB[header] = agrupacionTesteoXGB[header].astype('category').cat.codes\r\n",
        "#usando metodo personalizado\r\n",
        "#for columna in listaDeCategoricas:\r\n",
        "#  agrupacionEntrenamientoXGB,agrupacionTesteoXGB = convertirCategoryEnEnteros(agrupacionEntrenamientoXGB,agrupacionTesteoXGB,columna)\r\n",
        "\r\n",
        "\r\n",
        "agrupacionEntrenamientoXGB.info()"
      ],
      "execution_count": null,
      "outputs": [
        {
          "output_type": "stream",
          "text": [
            "<class 'pandas.core.frame.DataFrame'>\n",
            "Int64Index: 9791 entries, 0 to 12803\n",
            "Data columns (total 34 columns):\n",
            " #   Column                              Non-Null Count  Dtype  \n",
            "---  ------                              --------------  -----  \n",
            " 0   modificaciones                      9791 non-null   int64  \n",
            " 1   Pricing, Delivery_Terms_Quote_Appr  9791 non-null   int64  \n",
            " 2   Pricing, Delivery_Terms_Approved    9791 non-null   int64  \n",
            " 3   Bureaucratic_Code_0_Approval        9791 non-null   int64  \n",
            " 4   Bureaucratic_Code_0_Approved        9791 non-null   int64  \n",
            " 5   Total_Amount                        9791 non-null   float64\n",
            " 6   Region                              9791 non-null   int8   \n",
            " 7   Total_Taxable_Amount                9791 non-null   float64\n",
            " 8   Territory                           9791 non-null   int8   \n",
            " 9   ASP_(converted)                     9791 non-null   float64\n",
            " 10  Account_Type                        9791 non-null   int8   \n",
            " 11  Delivery_Quarter                    9791 non-null   int8   \n",
            " 12  Product_Type                        9791 non-null   int8   \n",
            " 13  Product_Category_B                  9791 non-null   int8   \n",
            " 14  Billing_Country                     9791 non-null   int8   \n",
            " 15  Delivery_Terms                      9791 non-null   int8   \n",
            " 16  Product_Family                      9791 non-null   int16  \n",
            " 17  ASP_(converted)_Currency            9791 non-null   int8   \n",
            " 18  TRF                                 9791 non-null   float64\n",
            " 19  Last_Modified_Date_anio             9791 non-null   int64  \n",
            " 20  Last_Modified_Date_mes              9791 non-null   int64  \n",
            " 21  Last_Modified_Date_dia              9791 non-null   int64  \n",
            " 22  Opportunity_Created_Date_anio       9791 non-null   int64  \n",
            " 23  Opportunity_Created_Date_mes        9791 non-null   int64  \n",
            " 24  Opportunity_Created_Date_dia        9791 non-null   int64  \n",
            " 25  Account_Created_Date_anio           9791 non-null   int64  \n",
            " 26  Account_Created_Date_mes            9791 non-null   int64  \n",
            " 27  Account_Created_Date_dia            9791 non-null   int64  \n",
            " 28  Planned_Delivery_Start_Date_anio    9791 non-null   int64  \n",
            " 29  Planned_Delivery_Start_Date_mes     9791 non-null   int64  \n",
            " 30  Planned_Delivery_Start_Date_dia     9791 non-null   int64  \n",
            " 31  Planned_Delivery_End_Date_anio      9734 non-null   float64\n",
            " 32  Planned_Delivery_End_Date_mes       9734 non-null   float64\n",
            " 33  Planned_Delivery_End_Date_dia       9734 non-null   float64\n",
            "dtypes: float64(7), int16(1), int64(17), int8(9)\n",
            "memory usage: 2.0 MB\n"
          ],
          "name": "stdout"
        }
      ]
    },
    {
      "cell_type": "code",
      "metadata": {
        "colab": {
          "base_uri": "https://localhost:8080/"
        },
        "id": "UmyatqVjIIP2",
        "outputId": "41b05f07-29d9-46e5-f042-d64753483201"
      },
      "source": [
        "\r\n",
        "agrupacionTesteoXGB.info()"
      ],
      "execution_count": null,
      "outputs": [
        {
          "output_type": "stream",
          "text": [
            "<class 'pandas.core.frame.DataFrame'>\n",
            "Int64Index: 1567 entries, 10689 to 12368\n",
            "Data columns (total 34 columns):\n",
            " #   Column                              Non-Null Count  Dtype  \n",
            "---  ------                              --------------  -----  \n",
            " 0   modificaciones                      1567 non-null   int64  \n",
            " 1   Pricing, Delivery_Terms_Quote_Appr  1567 non-null   int64  \n",
            " 2   Pricing, Delivery_Terms_Approved    1567 non-null   int64  \n",
            " 3   Bureaucratic_Code_0_Approval        1567 non-null   int64  \n",
            " 4   Bureaucratic_Code_0_Approved        1567 non-null   int64  \n",
            " 5   Total_Amount                        1567 non-null   float64\n",
            " 6   Region                              1567 non-null   int8   \n",
            " 7   Total_Taxable_Amount                1567 non-null   float64\n",
            " 8   Territory                           1567 non-null   int8   \n",
            " 9   ASP_(converted)                     1567 non-null   float64\n",
            " 10  Account_Type                        1567 non-null   int8   \n",
            " 11  Delivery_Quarter                    1567 non-null   int8   \n",
            " 12  Product_Type                        1567 non-null   int8   \n",
            " 13  Product_Category_B                  1567 non-null   int8   \n",
            " 14  Billing_Country                     1567 non-null   int8   \n",
            " 15  Delivery_Terms                      1567 non-null   int8   \n",
            " 16  Product_Family                      1567 non-null   int8   \n",
            " 17  ASP_(converted)_Currency            1567 non-null   int8   \n",
            " 18  TRF                                 1567 non-null   float64\n",
            " 19  Last_Modified_Date_anio             1567 non-null   int64  \n",
            " 20  Last_Modified_Date_mes              1567 non-null   int64  \n",
            " 21  Last_Modified_Date_dia              1567 non-null   int64  \n",
            " 22  Opportunity_Created_Date_anio       1567 non-null   int64  \n",
            " 23  Opportunity_Created_Date_mes        1567 non-null   int64  \n",
            " 24  Opportunity_Created_Date_dia        1567 non-null   int64  \n",
            " 25  Account_Created_Date_anio           1567 non-null   int64  \n",
            " 26  Account_Created_Date_mes            1567 non-null   int64  \n",
            " 27  Account_Created_Date_dia            1567 non-null   int64  \n",
            " 28  Planned_Delivery_Start_Date_anio    1567 non-null   int64  \n",
            " 29  Planned_Delivery_Start_Date_mes     1567 non-null   int64  \n",
            " 30  Planned_Delivery_Start_Date_dia     1567 non-null   int64  \n",
            " 31  Planned_Delivery_End_Date_anio      1524 non-null   float64\n",
            " 32  Planned_Delivery_End_Date_mes       1524 non-null   float64\n",
            " 33  Planned_Delivery_End_Date_dia       1524 non-null   float64\n",
            "dtypes: float64(7), int64(17), int8(10)\n",
            "memory usage: 321.4 KB\n"
          ],
          "name": "stdout"
        }
      ]
    },
    {
      "cell_type": "code",
      "metadata": {
        "colab": {
          "base_uri": "https://localhost:8080/"
        },
        "id": "HHZouTYbv07j",
        "outputId": "01e96ded-989b-49f1-caa4-6546f121dc62"
      },
      "source": [
        "\r\n",
        "res = xgboost(agrupacionEntrenamientoXGB,entrenamientoResultado,listaDeCategoricas,agrupacionTesteoXGB)\r\n",
        "res"
      ],
      "execution_count": null,
      "outputs": [
        {
          "output_type": "execute_result",
          "data": {
            "text/plain": [
              "array([[0.2085638 , 0.7914362 ],\n",
              "       [0.73569804, 0.26430196],\n",
              "       [0.08843356, 0.91156644],\n",
              "       ...,\n",
              "       [0.990908  , 0.00909197],\n",
              "       [0.00688678, 0.9931132 ],\n",
              "       [0.9187886 , 0.0812114 ]], dtype=float32)"
            ]
          },
          "metadata": {
            "tags": []
          },
          "execution_count": 52
        }
      ]
    },
    {
      "cell_type": "code",
      "metadata": {
        "id": "ne_Bb8L6QuXg",
        "colab": {
          "base_uri": "https://localhost:8080/"
        },
        "outputId": "1c20b67d-9f95-4cd6-d274-440048e61ac7"
      },
      "source": [
        "resultado = auxiliarUnificarValor(res)\r\n",
        "resultado = (resultado - 1) * (-1)#En las ultimas pruevas es el opuesto el que genera mejor resultado\r\n",
        "resultado"
      ],
      "execution_count": null,
      "outputs": [
        {
          "output_type": "execute_result",
          "data": {
            "text/plain": [
              "array([0.7914362 , 0.26430196, 0.91156644, ..., 0.00909197, 0.9931132 ,\n",
              "       0.08121139], dtype=float32)"
            ]
          },
          "metadata": {
            "tags": []
          },
          "execution_count": 53
        }
      ]
    },
    {
      "cell_type": "code",
      "metadata": {
        "id": "hHUrCcTgosNz",
        "colab": {
          "base_uri": "https://localhost:8080/",
          "height": 238
        },
        "outputId": "82e989f0-f99d-4d62-8882-9a7f548445fe"
      },
      "source": [
        "dataResultante = generarResultado(agrupacionTesteo,resultado)\r\n",
        "dataResultante.head()"
      ],
      "execution_count": null,
      "outputs": [
        {
          "output_type": "execute_result",
          "data": {
            "text/html": [
              "<div>\n",
              "<style scoped>\n",
              "    .dataframe tbody tr th:only-of-type {\n",
              "        vertical-align: middle;\n",
              "    }\n",
              "\n",
              "    .dataframe tbody tr th {\n",
              "        vertical-align: top;\n",
              "    }\n",
              "\n",
              "    .dataframe thead th {\n",
              "        text-align: right;\n",
              "    }\n",
              "</style>\n",
              "<table border=\"1\" class=\"dataframe\">\n",
              "  <thead>\n",
              "    <tr style=\"text-align: right;\">\n",
              "      <th></th>\n",
              "      <th>Target</th>\n",
              "    </tr>\n",
              "    <tr>\n",
              "      <th>Opportunity_ID</th>\n",
              "      <th></th>\n",
              "    </tr>\n",
              "  </thead>\n",
              "  <tbody>\n",
              "    <tr>\n",
              "      <th>10689</th>\n",
              "      <td>0.79</td>\n",
              "    </tr>\n",
              "    <tr>\n",
              "      <th>10690</th>\n",
              "      <td>0.26</td>\n",
              "    </tr>\n",
              "    <tr>\n",
              "      <th>10691</th>\n",
              "      <td>0.91</td>\n",
              "    </tr>\n",
              "    <tr>\n",
              "      <th>10692</th>\n",
              "      <td>0.51</td>\n",
              "    </tr>\n",
              "    <tr>\n",
              "      <th>10693</th>\n",
              "      <td>1.00</td>\n",
              "    </tr>\n",
              "  </tbody>\n",
              "</table>\n",
              "</div>"
            ],
            "text/plain": [
              "                             Target\n",
              "Opportunity_ID                     \n",
              "10689                          0.79\n",
              "10690                          0.26\n",
              "10691                          0.91\n",
              "10692                          0.51\n",
              "10693                          1.00"
            ]
          },
          "metadata": {
            "tags": []
          },
          "execution_count": 54
        }
      ]
    },
    {
      "cell_type": "markdown",
      "metadata": {
        "id": "baxdAoAzfwxz"
      },
      "source": [
        "## LightGBM"
      ]
    },
    {
      "cell_type": "code",
      "metadata": {
        "id": "nZVOGGgFgU3H"
      },
      "source": [
        "def lightGBM(train_data,train_labels,cat_features,eval_data):\r\n",
        "  \"\"\"# evaluate the model\r\n",
        "  model = lgb.LGBMClassifier()\r\n",
        "  cv = RepeatedStratifiedKFold(n_splits=10, n_repeats=3, random_state=1)\r\n",
        "  n_scores = cross_val_score(model,\r\n",
        "                             train_data,\r\n",
        "                             train_labels,\r\n",
        "                             scoring='accuracy',\r\n",
        "                             cv=cv,\r\n",
        "                             n_jobs=-1,\r\n",
        "                             categorical_feature=cat_features,\r\n",
        "                             error_score='raise')\r\n",
        "  print('Accuracy: %.3f (%.3f)' % (mean(n_scores), std(n_scores)))\r\n",
        "  # fit the model on the whole dataset\r\n",
        "  model.fit(X, y)\r\n",
        "  # make a single prediction\r\n",
        "  yhat = model.predict(eval_data)\r\n",
        "  return yhat\"\"\"\r\n",
        "\r\n",
        "  #\r\n",
        "  # Create training and validation sets\r\n",
        "  #\r\n",
        "  x, x_test, y, y_test = train_test_split(train_data,train_labels, test_size=0.2, random_state=42, stratify=train_labels)\r\n",
        "\r\n",
        "  #\r\n",
        "  # Create the LightGBM data containers\r\n",
        "  #\r\n",
        "  #categorical_features = [c for c, col in enumerate(train.columns) if 'cat' in col]\r\n",
        "  categorical_features = cat_features\r\n",
        "  train_data = lgb.Dataset(x, label=y, categorical_feature=categorical_features)\r\n",
        "  test_data = lgb.Dataset(x_test, label=y_test)\r\n",
        "\r\n",
        "\r\n",
        "  #\r\n",
        "  # Train the model\r\n",
        "  #\r\n",
        "\r\n",
        "  parameters = {\r\n",
        "      'application': 'binary',\r\n",
        "      'objective': 'binary',\r\n",
        "      'metric': 'auc',\r\n",
        "      'is_unbalance': 'true',\r\n",
        "      'boosting': 'gbdt',\r\n",
        "      'num_leaves': 31,\r\n",
        "      'feature_fraction': 0.5,\r\n",
        "      'bagging_fraction': 0.5,\r\n",
        "      'bagging_freq': 20,\r\n",
        "      'learning_rate': 0.05,\r\n",
        "      'verbose': 0\r\n",
        "  }\r\n",
        "\r\n",
        "  model = lgb.train(parameters,\r\n",
        "                    train_data,\r\n",
        "                    valid_sets=test_data,\r\n",
        "                    num_boost_round=5000,\r\n",
        "                    early_stopping_rounds=100)\r\n",
        "\r\n",
        "\r\n",
        "  submission = eval_data\r\n",
        "  ids = submission.index.values\r\n",
        "  #submission.drop('id', inplace=True, axis=1)\r\n",
        "\r\n",
        "\r\n",
        "  x = submission.values\r\n",
        "  y = model.predict(x)\r\n",
        "\r\n",
        "  output = pd.DataFrame({'id': ids, 'target': y})\r\n",
        "  output.to_csv(\"submission.csv\", index=False)\r\n",
        "\r\n",
        "  prediccion = model.predict(y)\r\n",
        "\r\n",
        "  #ids = eval_data['Opportunity_ID'].values\r\n",
        "  #output = pd.DataFrame({'Opportunity_ID': ids, 'target': y})\r\n",
        "  return prediccion"
      ],
      "execution_count": null,
      "outputs": []
    },
    {
      "cell_type": "code",
      "metadata": {
        "colab": {
          "base_uri": "https://localhost:8080/",
          "height": 1000
        },
        "id": "2UVA9vOQjN2o",
        "outputId": "45462fea-fc78-4dbe-8fef-221712ae8500"
      },
      "source": [
        "listaDeCategoricas = ['Region','Territory','Product_Type','Product_Category_B','Account_Type','Delivery_Quarter','Billing_Country']\r\n",
        "res = lightGBM(agrupacionEntrenamiento,entrenamientoResultado,listaDeCategoricas,agrupacionTesteo)\r\n",
        "res"
      ],
      "execution_count": null,
      "outputs": [
        {
          "output_type": "stream",
          "text": [
            "[1]\tvalid_0's auc: 0.79851\n",
            "Training until validation scores don't improve for 100 rounds.\n",
            "[2]\tvalid_0's auc: 0.863986\n",
            "[3]\tvalid_0's auc: 0.869374\n",
            "[4]\tvalid_0's auc: 0.877967\n",
            "[5]\tvalid_0's auc: 0.880718\n",
            "[6]\tvalid_0's auc: 0.88335\n",
            "[7]\tvalid_0's auc: 0.885716\n",
            "[8]\tvalid_0's auc: 0.882643\n",
            "[9]\tvalid_0's auc: 0.882596\n",
            "[10]\tvalid_0's auc: 0.884059\n",
            "[11]\tvalid_0's auc: 0.883799\n",
            "[12]\tvalid_0's auc: 0.884385\n",
            "[13]\tvalid_0's auc: 0.886554\n",
            "[14]\tvalid_0's auc: 0.885845\n",
            "[15]\tvalid_0's auc: 0.885445\n",
            "[16]\tvalid_0's auc: 0.886275\n",
            "[17]\tvalid_0's auc: 0.885326\n",
            "[18]\tvalid_0's auc: 0.886202\n",
            "[19]\tvalid_0's auc: 0.887516\n",
            "[20]\tvalid_0's auc: 0.888453\n",
            "[21]\tvalid_0's auc: 0.889643\n",
            "[22]\tvalid_0's auc: 0.890854\n",
            "[23]\tvalid_0's auc: 0.891974\n",
            "[24]\tvalid_0's auc: 0.892554\n",
            "[25]\tvalid_0's auc: 0.893594\n",
            "[26]\tvalid_0's auc: 0.893797\n",
            "[27]\tvalid_0's auc: 0.894586\n",
            "[28]\tvalid_0's auc: 0.896922\n",
            "[29]\tvalid_0's auc: 0.898042\n",
            "[30]\tvalid_0's auc: 0.898728\n",
            "[31]\tvalid_0's auc: 0.899502\n",
            "[32]\tvalid_0's auc: 0.90003\n",
            "[33]\tvalid_0's auc: 0.900674\n",
            "[34]\tvalid_0's auc: 0.901471\n",
            "[35]\tvalid_0's auc: 0.901943\n",
            "[36]\tvalid_0's auc: 0.902361\n",
            "[37]\tvalid_0's auc: 0.902564\n",
            "[38]\tvalid_0's auc: 0.902598\n",
            "[39]\tvalid_0's auc: 0.902888\n",
            "[40]\tvalid_0's auc: 0.903573\n",
            "[41]\tvalid_0's auc: 0.904156\n",
            "[42]\tvalid_0's auc: 0.905056\n",
            "[43]\tvalid_0's auc: 0.905758\n",
            "[44]\tvalid_0's auc: 0.906244\n",
            "[45]\tvalid_0's auc: 0.906084\n",
            "[46]\tvalid_0's auc: 0.906383\n",
            "[47]\tvalid_0's auc: 0.907077\n",
            "[48]\tvalid_0's auc: 0.906914\n",
            "[49]\tvalid_0's auc: 0.907068\n",
            "[50]\tvalid_0's auc: 0.907244\n",
            "[51]\tvalid_0's auc: 0.908153\n",
            "[52]\tvalid_0's auc: 0.908493\n",
            "[53]\tvalid_0's auc: 0.908722\n",
            "[54]\tvalid_0's auc: 0.909002\n",
            "[55]\tvalid_0's auc: 0.909259\n",
            "[56]\tvalid_0's auc: 0.909453\n",
            "[57]\tvalid_0's auc: 0.909671\n",
            "[58]\tvalid_0's auc: 0.909811\n",
            "[59]\tvalid_0's auc: 0.910104\n",
            "[60]\tvalid_0's auc: 0.910362\n",
            "[61]\tvalid_0's auc: 0.91093\n",
            "[62]\tvalid_0's auc: 0.911416\n",
            "[63]\tvalid_0's auc: 0.911565\n",
            "[64]\tvalid_0's auc: 0.911932\n",
            "[65]\tvalid_0's auc: 0.912076\n",
            "[66]\tvalid_0's auc: 0.912503\n",
            "[67]\tvalid_0's auc: 0.912719\n",
            "[68]\tvalid_0's auc: 0.912828\n",
            "[69]\tvalid_0's auc: 0.913435\n",
            "[70]\tvalid_0's auc: 0.913369\n",
            "[71]\tvalid_0's auc: 0.913696\n",
            "[72]\tvalid_0's auc: 0.913914\n",
            "[73]\tvalid_0's auc: 0.913805\n",
            "[74]\tvalid_0's auc: 0.914148\n",
            "[75]\tvalid_0's auc: 0.914322\n",
            "[76]\tvalid_0's auc: 0.914564\n",
            "[77]\tvalid_0's auc: 0.914901\n",
            "[78]\tvalid_0's auc: 0.914921\n",
            "[79]\tvalid_0's auc: 0.914874\n",
            "[80]\tvalid_0's auc: 0.915436\n",
            "[81]\tvalid_0's auc: 0.915603\n",
            "[82]\tvalid_0's auc: 0.915864\n",
            "[83]\tvalid_0's auc: 0.916194\n",
            "[84]\tvalid_0's auc: 0.916372\n",
            "[85]\tvalid_0's auc: 0.916351\n",
            "[86]\tvalid_0's auc: 0.916711\n",
            "[87]\tvalid_0's auc: 0.916564\n",
            "[88]\tvalid_0's auc: 0.916794\n",
            "[89]\tvalid_0's auc: 0.916832\n",
            "[90]\tvalid_0's auc: 0.917234\n",
            "[91]\tvalid_0's auc: 0.917415\n",
            "[92]\tvalid_0's auc: 0.917405\n",
            "[93]\tvalid_0's auc: 0.917527\n",
            "[94]\tvalid_0's auc: 0.917667\n",
            "[95]\tvalid_0's auc: 0.917588\n",
            "[96]\tvalid_0's auc: 0.917648\n",
            "[97]\tvalid_0's auc: 0.917444\n",
            "[98]\tvalid_0's auc: 0.917678\n",
            "[99]\tvalid_0's auc: 0.917835\n",
            "[100]\tvalid_0's auc: 0.918247\n",
            "[101]\tvalid_0's auc: 0.918528\n",
            "[102]\tvalid_0's auc: 0.918736\n",
            "[103]\tvalid_0's auc: 0.918901\n",
            "[104]\tvalid_0's auc: 0.919251\n",
            "[105]\tvalid_0's auc: 0.919435\n",
            "[106]\tvalid_0's auc: 0.919547\n",
            "[107]\tvalid_0's auc: 0.919641\n",
            "[108]\tvalid_0's auc: 0.91958\n",
            "[109]\tvalid_0's auc: 0.919872\n",
            "[110]\tvalid_0's auc: 0.920124\n",
            "[111]\tvalid_0's auc: 0.920105\n",
            "[112]\tvalid_0's auc: 0.920302\n",
            "[113]\tvalid_0's auc: 0.920382\n",
            "[114]\tvalid_0's auc: 0.920491\n",
            "[115]\tvalid_0's auc: 0.920828\n",
            "[116]\tvalid_0's auc: 0.921341\n",
            "[117]\tvalid_0's auc: 0.921561\n",
            "[118]\tvalid_0's auc: 0.921677\n",
            "[119]\tvalid_0's auc: 0.921839\n",
            "[120]\tvalid_0's auc: 0.92207\n",
            "[121]\tvalid_0's auc: 0.922161\n",
            "[122]\tvalid_0's auc: 0.922519\n",
            "[123]\tvalid_0's auc: 0.922659\n",
            "[124]\tvalid_0's auc: 0.922556\n",
            "[125]\tvalid_0's auc: 0.922557\n",
            "[126]\tvalid_0's auc: 0.922677\n",
            "[127]\tvalid_0's auc: 0.922739\n",
            "[128]\tvalid_0's auc: 0.922719\n",
            "[129]\tvalid_0's auc: 0.922555\n",
            "[130]\tvalid_0's auc: 0.922445\n",
            "[131]\tvalid_0's auc: 0.922633\n",
            "[132]\tvalid_0's auc: 0.922405\n",
            "[133]\tvalid_0's auc: 0.922138\n",
            "[134]\tvalid_0's auc: 0.922171\n",
            "[135]\tvalid_0's auc: 0.922037\n",
            "[136]\tvalid_0's auc: 0.921963\n",
            "[137]\tvalid_0's auc: 0.922246\n",
            "[138]\tvalid_0's auc: 0.922102\n",
            "[139]\tvalid_0's auc: 0.921863\n",
            "[140]\tvalid_0's auc: 0.92175\n",
            "[141]\tvalid_0's auc: 0.921644\n",
            "[142]\tvalid_0's auc: 0.921721\n",
            "[143]\tvalid_0's auc: 0.921873\n",
            "[144]\tvalid_0's auc: 0.921855\n",
            "[145]\tvalid_0's auc: 0.92191\n",
            "[146]\tvalid_0's auc: 0.922051\n",
            "[147]\tvalid_0's auc: 0.922182\n",
            "[148]\tvalid_0's auc: 0.922177\n",
            "[149]\tvalid_0's auc: 0.922189\n",
            "[150]\tvalid_0's auc: 0.922101\n",
            "[151]\tvalid_0's auc: 0.922174\n",
            "[152]\tvalid_0's auc: 0.922321\n",
            "[153]\tvalid_0's auc: 0.922423\n",
            "[154]\tvalid_0's auc: 0.922591\n",
            "[155]\tvalid_0's auc: 0.9225\n",
            "[156]\tvalid_0's auc: 0.922555\n",
            "[157]\tvalid_0's auc: 0.922493\n",
            "[158]\tvalid_0's auc: 0.922351\n",
            "[159]\tvalid_0's auc: 0.922361\n",
            "[160]\tvalid_0's auc: 0.922578\n",
            "[161]\tvalid_0's auc: 0.922531\n",
            "[162]\tvalid_0's auc: 0.922676\n",
            "[163]\tvalid_0's auc: 0.922704\n",
            "[164]\tvalid_0's auc: 0.922811\n",
            "[165]\tvalid_0's auc: 0.922838\n",
            "[166]\tvalid_0's auc: 0.922742\n",
            "[167]\tvalid_0's auc: 0.922742\n",
            "[168]\tvalid_0's auc: 0.922708\n",
            "[169]\tvalid_0's auc: 0.922786\n",
            "[170]\tvalid_0's auc: 0.922811\n",
            "[171]\tvalid_0's auc: 0.922886\n",
            "[172]\tvalid_0's auc: 0.922892\n",
            "[173]\tvalid_0's auc: 0.922946\n",
            "[174]\tvalid_0's auc: 0.92306\n",
            "[175]\tvalid_0's auc: 0.92289\n",
            "[176]\tvalid_0's auc: 0.923062\n",
            "[177]\tvalid_0's auc: 0.92302\n",
            "[178]\tvalid_0's auc: 0.922806\n",
            "[179]\tvalid_0's auc: 0.922715\n",
            "[180]\tvalid_0's auc: 0.922549\n",
            "[181]\tvalid_0's auc: 0.922724\n",
            "[182]\tvalid_0's auc: 0.92312\n",
            "[183]\tvalid_0's auc: 0.923165\n",
            "[184]\tvalid_0's auc: 0.923307\n",
            "[185]\tvalid_0's auc: 0.923403\n",
            "[186]\tvalid_0's auc: 0.923398\n",
            "[187]\tvalid_0's auc: 0.923557\n",
            "[188]\tvalid_0's auc: 0.923741\n",
            "[189]\tvalid_0's auc: 0.923993\n",
            "[190]\tvalid_0's auc: 0.924174\n",
            "[191]\tvalid_0's auc: 0.924263\n",
            "[192]\tvalid_0's auc: 0.924345\n",
            "[193]\tvalid_0's auc: 0.924333\n",
            "[194]\tvalid_0's auc: 0.924161\n",
            "[195]\tvalid_0's auc: 0.924373\n",
            "[196]\tvalid_0's auc: 0.924382\n",
            "[197]\tvalid_0's auc: 0.924236\n",
            "[198]\tvalid_0's auc: 0.924327\n",
            "[199]\tvalid_0's auc: 0.924469\n",
            "[200]\tvalid_0's auc: 0.92443\n",
            "[201]\tvalid_0's auc: 0.924419\n",
            "[202]\tvalid_0's auc: 0.924467\n",
            "[203]\tvalid_0's auc: 0.924598\n",
            "[204]\tvalid_0's auc: 0.924681\n",
            "[205]\tvalid_0's auc: 0.924755\n",
            "[206]\tvalid_0's auc: 0.924706\n",
            "[207]\tvalid_0's auc: 0.924645\n",
            "[208]\tvalid_0's auc: 0.924645\n",
            "[209]\tvalid_0's auc: 0.924783\n",
            "[210]\tvalid_0's auc: 0.924837\n",
            "[211]\tvalid_0's auc: 0.924791\n",
            "[212]\tvalid_0's auc: 0.92483\n",
            "[213]\tvalid_0's auc: 0.924755\n",
            "[214]\tvalid_0's auc: 0.924853\n",
            "[215]\tvalid_0's auc: 0.924796\n",
            "[216]\tvalid_0's auc: 0.924698\n",
            "[217]\tvalid_0's auc: 0.924662\n",
            "[218]\tvalid_0's auc: 0.92452\n",
            "[219]\tvalid_0's auc: 0.924482\n",
            "[220]\tvalid_0's auc: 0.924729\n",
            "[221]\tvalid_0's auc: 0.924888\n",
            "[222]\tvalid_0's auc: 0.924775\n",
            "[223]\tvalid_0's auc: 0.924974\n",
            "[224]\tvalid_0's auc: 0.92487\n",
            "[225]\tvalid_0's auc: 0.924999\n",
            "[226]\tvalid_0's auc: 0.925105\n",
            "[227]\tvalid_0's auc: 0.925181\n",
            "[228]\tvalid_0's auc: 0.925172\n",
            "[229]\tvalid_0's auc: 0.925229\n",
            "[230]\tvalid_0's auc: 0.925284\n",
            "[231]\tvalid_0's auc: 0.925369\n",
            "[232]\tvalid_0's auc: 0.925497\n",
            "[233]\tvalid_0's auc: 0.925697\n",
            "[234]\tvalid_0's auc: 0.925704\n",
            "[235]\tvalid_0's auc: 0.925592\n",
            "[236]\tvalid_0's auc: 0.925563\n",
            "[237]\tvalid_0's auc: 0.925517\n",
            "[238]\tvalid_0's auc: 0.925571\n",
            "[239]\tvalid_0's auc: 0.925757\n",
            "[240]\tvalid_0's auc: 0.925642\n",
            "[241]\tvalid_0's auc: 0.925911\n",
            "[242]\tvalid_0's auc: 0.926076\n",
            "[243]\tvalid_0's auc: 0.926099\n",
            "[244]\tvalid_0's auc: 0.926154\n",
            "[245]\tvalid_0's auc: 0.926118\n",
            "[246]\tvalid_0's auc: 0.926229\n",
            "[247]\tvalid_0's auc: 0.926311\n",
            "[248]\tvalid_0's auc: 0.926415\n",
            "[249]\tvalid_0's auc: 0.926513\n",
            "[250]\tvalid_0's auc: 0.92664\n",
            "[251]\tvalid_0's auc: 0.926673\n",
            "[252]\tvalid_0's auc: 0.92676\n",
            "[253]\tvalid_0's auc: 0.926854\n",
            "[254]\tvalid_0's auc: 0.926909\n",
            "[255]\tvalid_0's auc: 0.92706\n",
            "[256]\tvalid_0's auc: 0.92698\n",
            "[257]\tvalid_0's auc: 0.927015\n",
            "[258]\tvalid_0's auc: 0.927086\n",
            "[259]\tvalid_0's auc: 0.927201\n",
            "[260]\tvalid_0's auc: 0.927362\n",
            "[261]\tvalid_0's auc: 0.92757\n",
            "[262]\tvalid_0's auc: 0.927608\n",
            "[263]\tvalid_0's auc: 0.927441\n",
            "[264]\tvalid_0's auc: 0.927515\n",
            "[265]\tvalid_0's auc: 0.927494\n",
            "[266]\tvalid_0's auc: 0.927388\n",
            "[267]\tvalid_0's auc: 0.927452\n",
            "[268]\tvalid_0's auc: 0.927326\n",
            "[269]\tvalid_0's auc: 0.927468\n",
            "[270]\tvalid_0's auc: 0.927632\n",
            "[271]\tvalid_0's auc: 0.927797\n",
            "[272]\tvalid_0's auc: 0.927752\n",
            "[273]\tvalid_0's auc: 0.927732\n",
            "[274]\tvalid_0's auc: 0.927611\n",
            "[275]\tvalid_0's auc: 0.927695\n",
            "[276]\tvalid_0's auc: 0.92787\n",
            "[277]\tvalid_0's auc: 0.927845\n",
            "[278]\tvalid_0's auc: 0.928005\n",
            "[279]\tvalid_0's auc: 0.92796\n",
            "[280]\tvalid_0's auc: 0.927858\n",
            "[281]\tvalid_0's auc: 0.928108\n",
            "[282]\tvalid_0's auc: 0.928271\n",
            "[283]\tvalid_0's auc: 0.928203\n",
            "[284]\tvalid_0's auc: 0.927989\n",
            "[285]\tvalid_0's auc: 0.928114\n",
            "[286]\tvalid_0's auc: 0.928152\n",
            "[287]\tvalid_0's auc: 0.927964\n",
            "[288]\tvalid_0's auc: 0.927946\n",
            "[289]\tvalid_0's auc: 0.927954\n",
            "[290]\tvalid_0's auc: 0.927902\n",
            "[291]\tvalid_0's auc: 0.927796\n",
            "[292]\tvalid_0's auc: 0.927673\n",
            "[293]\tvalid_0's auc: 0.927878\n",
            "[294]\tvalid_0's auc: 0.927733\n",
            "[295]\tvalid_0's auc: 0.927747\n",
            "[296]\tvalid_0's auc: 0.927716\n",
            "[297]\tvalid_0's auc: 0.927688\n",
            "[298]\tvalid_0's auc: 0.927703\n",
            "[299]\tvalid_0's auc: 0.927786\n",
            "[300]\tvalid_0's auc: 0.92776\n",
            "[301]\tvalid_0's auc: 0.927621\n",
            "[302]\tvalid_0's auc: 0.927821\n",
            "[303]\tvalid_0's auc: 0.927859\n",
            "[304]\tvalid_0's auc: 0.927874\n",
            "[305]\tvalid_0's auc: 0.927939\n",
            "[306]\tvalid_0's auc: 0.928049\n",
            "[307]\tvalid_0's auc: 0.928181\n",
            "[308]\tvalid_0's auc: 0.928293\n",
            "[309]\tvalid_0's auc: 0.928296\n",
            "[310]\tvalid_0's auc: 0.928258\n",
            "[311]\tvalid_0's auc: 0.928221\n",
            "[312]\tvalid_0's auc: 0.928216\n",
            "[313]\tvalid_0's auc: 0.9283\n",
            "[314]\tvalid_0's auc: 0.92834\n",
            "[315]\tvalid_0's auc: 0.928363\n",
            "[316]\tvalid_0's auc: 0.928249\n",
            "[317]\tvalid_0's auc: 0.92833\n",
            "[318]\tvalid_0's auc: 0.92822\n",
            "[319]\tvalid_0's auc: 0.928233\n",
            "[320]\tvalid_0's auc: 0.928176\n",
            "[321]\tvalid_0's auc: 0.928097\n",
            "[322]\tvalid_0's auc: 0.928054\n",
            "[323]\tvalid_0's auc: 0.928097\n",
            "[324]\tvalid_0's auc: 0.928235\n",
            "[325]\tvalid_0's auc: 0.928165\n",
            "[326]\tvalid_0's auc: 0.928144\n",
            "[327]\tvalid_0's auc: 0.928177\n",
            "[328]\tvalid_0's auc: 0.928296\n",
            "[329]\tvalid_0's auc: 0.928217\n",
            "[330]\tvalid_0's auc: 0.928034\n",
            "[331]\tvalid_0's auc: 0.928063\n",
            "[332]\tvalid_0's auc: 0.928024\n",
            "[333]\tvalid_0's auc: 0.927983\n",
            "[334]\tvalid_0's auc: 0.928036\n",
            "[335]\tvalid_0's auc: 0.928081\n",
            "[336]\tvalid_0's auc: 0.92809\n",
            "[337]\tvalid_0's auc: 0.928056\n",
            "[338]\tvalid_0's auc: 0.928133\n",
            "[339]\tvalid_0's auc: 0.928096\n",
            "[340]\tvalid_0's auc: 0.928076\n",
            "[341]\tvalid_0's auc: 0.928181\n",
            "[342]\tvalid_0's auc: 0.928185\n",
            "[343]\tvalid_0's auc: 0.928235\n",
            "[344]\tvalid_0's auc: 0.928179\n",
            "[345]\tvalid_0's auc: 0.928056\n",
            "[346]\tvalid_0's auc: 0.928241\n",
            "[347]\tvalid_0's auc: 0.92841\n",
            "[348]\tvalid_0's auc: 0.928443\n",
            "[349]\tvalid_0's auc: 0.928469\n",
            "[350]\tvalid_0's auc: 0.928563\n",
            "[351]\tvalid_0's auc: 0.92865\n",
            "[352]\tvalid_0's auc: 0.928772\n",
            "[353]\tvalid_0's auc: 0.92882\n",
            "[354]\tvalid_0's auc: 0.928943\n",
            "[355]\tvalid_0's auc: 0.928879\n",
            "[356]\tvalid_0's auc: 0.928895\n",
            "[357]\tvalid_0's auc: 0.929025\n",
            "[358]\tvalid_0's auc: 0.929132\n",
            "[359]\tvalid_0's auc: 0.929184\n",
            "[360]\tvalid_0's auc: 0.929283\n",
            "[361]\tvalid_0's auc: 0.929459\n",
            "[362]\tvalid_0's auc: 0.929495\n",
            "[363]\tvalid_0's auc: 0.929421\n",
            "[364]\tvalid_0's auc: 0.929595\n",
            "[365]\tvalid_0's auc: 0.929656\n",
            "[366]\tvalid_0's auc: 0.929644\n",
            "[367]\tvalid_0's auc: 0.929743\n",
            "[368]\tvalid_0's auc: 0.929707\n",
            "[369]\tvalid_0's auc: 0.929547\n",
            "[370]\tvalid_0's auc: 0.929661\n",
            "[371]\tvalid_0's auc: 0.929689\n",
            "[372]\tvalid_0's auc: 0.929742\n",
            "[373]\tvalid_0's auc: 0.929668\n",
            "[374]\tvalid_0's auc: 0.929891\n",
            "[375]\tvalid_0's auc: 0.929942\n",
            "[376]\tvalid_0's auc: 0.930028\n",
            "[377]\tvalid_0's auc: 0.930066\n",
            "[378]\tvalid_0's auc: 0.930123\n",
            "[379]\tvalid_0's auc: 0.930228\n",
            "[380]\tvalid_0's auc: 0.930231\n",
            "[381]\tvalid_0's auc: 0.930322\n",
            "[382]\tvalid_0's auc: 0.930323\n",
            "[383]\tvalid_0's auc: 0.930215\n",
            "[384]\tvalid_0's auc: 0.930216\n",
            "[385]\tvalid_0's auc: 0.930199\n",
            "[386]\tvalid_0's auc: 0.930137\n",
            "[387]\tvalid_0's auc: 0.930192\n",
            "[388]\tvalid_0's auc: 0.930169\n",
            "[389]\tvalid_0's auc: 0.93019\n",
            "[390]\tvalid_0's auc: 0.930289\n",
            "[391]\tvalid_0's auc: 0.930269\n",
            "[392]\tvalid_0's auc: 0.930331\n",
            "[393]\tvalid_0's auc: 0.930244\n",
            "[394]\tvalid_0's auc: 0.930182\n",
            "[395]\tvalid_0's auc: 0.93022\n",
            "[396]\tvalid_0's auc: 0.930188\n",
            "[397]\tvalid_0's auc: 0.930166\n",
            "[398]\tvalid_0's auc: 0.930182\n",
            "[399]\tvalid_0's auc: 0.930196\n",
            "[400]\tvalid_0's auc: 0.930185\n",
            "[401]\tvalid_0's auc: 0.930139\n",
            "[402]\tvalid_0's auc: 0.930165\n",
            "[403]\tvalid_0's auc: 0.930143\n",
            "[404]\tvalid_0's auc: 0.930002\n",
            "[405]\tvalid_0's auc: 0.930107\n",
            "[406]\tvalid_0's auc: 0.930037\n",
            "[407]\tvalid_0's auc: 0.930101\n",
            "[408]\tvalid_0's auc: 0.930038\n",
            "[409]\tvalid_0's auc: 0.929986\n",
            "[410]\tvalid_0's auc: 0.929953\n",
            "[411]\tvalid_0's auc: 0.930042\n",
            "[412]\tvalid_0's auc: 0.93017\n",
            "[413]\tvalid_0's auc: 0.930264\n",
            "[414]\tvalid_0's auc: 0.930329\n",
            "[415]\tvalid_0's auc: 0.93043\n",
            "[416]\tvalid_0's auc: 0.93041\n",
            "[417]\tvalid_0's auc: 0.930414\n",
            "[418]\tvalid_0's auc: 0.930487\n",
            "[419]\tvalid_0's auc: 0.930429\n",
            "[420]\tvalid_0's auc: 0.930472\n",
            "[421]\tvalid_0's auc: 0.930464\n",
            "[422]\tvalid_0's auc: 0.930403\n",
            "[423]\tvalid_0's auc: 0.930379\n",
            "[424]\tvalid_0's auc: 0.93056\n",
            "[425]\tvalid_0's auc: 0.930526\n",
            "[426]\tvalid_0's auc: 0.930544\n",
            "[427]\tvalid_0's auc: 0.93063\n",
            "[428]\tvalid_0's auc: 0.930524\n",
            "[429]\tvalid_0's auc: 0.930502\n",
            "[430]\tvalid_0's auc: 0.930702\n",
            "[431]\tvalid_0's auc: 0.930795\n",
            "[432]\tvalid_0's auc: 0.930743\n",
            "[433]\tvalid_0's auc: 0.930794\n",
            "[434]\tvalid_0's auc: 0.930828\n",
            "[435]\tvalid_0's auc: 0.930903\n",
            "[436]\tvalid_0's auc: 0.930912\n",
            "[437]\tvalid_0's auc: 0.930819\n",
            "[438]\tvalid_0's auc: 0.930845\n",
            "[439]\tvalid_0's auc: 0.930931\n",
            "[440]\tvalid_0's auc: 0.93093\n",
            "[441]\tvalid_0's auc: 0.931053\n",
            "[442]\tvalid_0's auc: 0.931008\n",
            "[443]\tvalid_0's auc: 0.930979\n",
            "[444]\tvalid_0's auc: 0.930926\n",
            "[445]\tvalid_0's auc: 0.930949\n",
            "[446]\tvalid_0's auc: 0.93081\n",
            "[447]\tvalid_0's auc: 0.930802\n",
            "[448]\tvalid_0's auc: 0.930855\n",
            "[449]\tvalid_0's auc: 0.930832\n",
            "[450]\tvalid_0's auc: 0.930907\n",
            "[451]\tvalid_0's auc: 0.930887\n",
            "[452]\tvalid_0's auc: 0.930955\n",
            "[453]\tvalid_0's auc: 0.931012\n",
            "[454]\tvalid_0's auc: 0.931074\n",
            "[455]\tvalid_0's auc: 0.93111\n",
            "[456]\tvalid_0's auc: 0.931235\n",
            "[457]\tvalid_0's auc: 0.931136\n",
            "[458]\tvalid_0's auc: 0.931204\n",
            "[459]\tvalid_0's auc: 0.931156\n",
            "[460]\tvalid_0's auc: 0.93112\n",
            "[461]\tvalid_0's auc: 0.931177\n",
            "[462]\tvalid_0's auc: 0.931199\n",
            "[463]\tvalid_0's auc: 0.931211\n",
            "[464]\tvalid_0's auc: 0.931207\n",
            "[465]\tvalid_0's auc: 0.931198\n",
            "[466]\tvalid_0's auc: 0.931262\n",
            "[467]\tvalid_0's auc: 0.931304\n",
            "[468]\tvalid_0's auc: 0.931292\n",
            "[469]\tvalid_0's auc: 0.931433\n",
            "[470]\tvalid_0's auc: 0.931407\n",
            "[471]\tvalid_0's auc: 0.931408\n",
            "[472]\tvalid_0's auc: 0.931479\n",
            "[473]\tvalid_0's auc: 0.931424\n",
            "[474]\tvalid_0's auc: 0.931482\n",
            "[475]\tvalid_0's auc: 0.931559\n",
            "[476]\tvalid_0's auc: 0.931553\n",
            "[477]\tvalid_0's auc: 0.931531\n",
            "[478]\tvalid_0's auc: 0.931516\n",
            "[479]\tvalid_0's auc: 0.931612\n",
            "[480]\tvalid_0's auc: 0.931697\n",
            "[481]\tvalid_0's auc: 0.931745\n",
            "[482]\tvalid_0's auc: 0.931686\n",
            "[483]\tvalid_0's auc: 0.931694\n",
            "[484]\tvalid_0's auc: 0.931801\n",
            "[485]\tvalid_0's auc: 0.931891\n",
            "[486]\tvalid_0's auc: 0.931872\n",
            "[487]\tvalid_0's auc: 0.931844\n",
            "[488]\tvalid_0's auc: 0.931837\n",
            "[489]\tvalid_0's auc: 0.931887\n",
            "[490]\tvalid_0's auc: 0.931841\n",
            "[491]\tvalid_0's auc: 0.931846\n",
            "[492]\tvalid_0's auc: 0.931952\n",
            "[493]\tvalid_0's auc: 0.931885\n",
            "[494]\tvalid_0's auc: 0.931934\n",
            "[495]\tvalid_0's auc: 0.931963\n",
            "[496]\tvalid_0's auc: 0.93205\n",
            "[497]\tvalid_0's auc: 0.932124\n",
            "[498]\tvalid_0's auc: 0.932108\n",
            "[499]\tvalid_0's auc: 0.931959\n",
            "[500]\tvalid_0's auc: 0.93188\n",
            "[501]\tvalid_0's auc: 0.931834\n",
            "[502]\tvalid_0's auc: 0.931869\n",
            "[503]\tvalid_0's auc: 0.931814\n",
            "[504]\tvalid_0's auc: 0.931814\n",
            "[505]\tvalid_0's auc: 0.931761\n",
            "[506]\tvalid_0's auc: 0.931781\n",
            "[507]\tvalid_0's auc: 0.93186\n",
            "[508]\tvalid_0's auc: 0.931826\n",
            "[509]\tvalid_0's auc: 0.931706\n",
            "[510]\tvalid_0's auc: 0.931686\n",
            "[511]\tvalid_0's auc: 0.931721\n",
            "[512]\tvalid_0's auc: 0.931629\n",
            "[513]\tvalid_0's auc: 0.931628\n",
            "[514]\tvalid_0's auc: 0.931617\n",
            "[515]\tvalid_0's auc: 0.931527\n",
            "[516]\tvalid_0's auc: 0.931512\n",
            "[517]\tvalid_0's auc: 0.93148\n",
            "[518]\tvalid_0's auc: 0.931473\n",
            "[519]\tvalid_0's auc: 0.931578\n",
            "[520]\tvalid_0's auc: 0.931606\n",
            "[521]\tvalid_0's auc: 0.931647\n",
            "[522]\tvalid_0's auc: 0.931621\n",
            "[523]\tvalid_0's auc: 0.931679\n",
            "[524]\tvalid_0's auc: 0.931663\n",
            "[525]\tvalid_0's auc: 0.931688\n",
            "[526]\tvalid_0's auc: 0.931638\n",
            "[527]\tvalid_0's auc: 0.931672\n",
            "[528]\tvalid_0's auc: 0.931731\n",
            "[529]\tvalid_0's auc: 0.931746\n",
            "[530]\tvalid_0's auc: 0.931748\n",
            "[531]\tvalid_0's auc: 0.931863\n",
            "[532]\tvalid_0's auc: 0.931841\n",
            "[533]\tvalid_0's auc: 0.931885\n",
            "[534]\tvalid_0's auc: 0.931948\n",
            "[535]\tvalid_0's auc: 0.931982\n",
            "[536]\tvalid_0's auc: 0.931906\n",
            "[537]\tvalid_0's auc: 0.931951\n",
            "[538]\tvalid_0's auc: 0.931969\n",
            "[539]\tvalid_0's auc: 0.931886\n",
            "[540]\tvalid_0's auc: 0.931861\n",
            "[541]\tvalid_0's auc: 0.931793\n",
            "[542]\tvalid_0's auc: 0.931845\n",
            "[543]\tvalid_0's auc: 0.931758\n",
            "[544]\tvalid_0's auc: 0.931739\n",
            "[545]\tvalid_0's auc: 0.931713\n",
            "[546]\tvalid_0's auc: 0.931682\n",
            "[547]\tvalid_0's auc: 0.931754\n",
            "[548]\tvalid_0's auc: 0.931771\n",
            "[549]\tvalid_0's auc: 0.931787\n",
            "[550]\tvalid_0's auc: 0.931716\n",
            "[551]\tvalid_0's auc: 0.931651\n",
            "[552]\tvalid_0's auc: 0.931596\n",
            "[553]\tvalid_0's auc: 0.931624\n",
            "[554]\tvalid_0's auc: 0.931671\n",
            "[555]\tvalid_0's auc: 0.931591\n",
            "[556]\tvalid_0's auc: 0.931692\n",
            "[557]\tvalid_0's auc: 0.931615\n",
            "[558]\tvalid_0's auc: 0.931577\n",
            "[559]\tvalid_0's auc: 0.931528\n",
            "[560]\tvalid_0's auc: 0.931592\n",
            "[561]\tvalid_0's auc: 0.931531\n",
            "[562]\tvalid_0's auc: 0.931533\n",
            "[563]\tvalid_0's auc: 0.931463\n",
            "[564]\tvalid_0's auc: 0.93145\n",
            "[565]\tvalid_0's auc: 0.931459\n",
            "[566]\tvalid_0's auc: 0.931447\n",
            "[567]\tvalid_0's auc: 0.931405\n",
            "[568]\tvalid_0's auc: 0.931383\n",
            "[569]\tvalid_0's auc: 0.931305\n",
            "[570]\tvalid_0's auc: 0.93126\n",
            "[571]\tvalid_0's auc: 0.931257\n",
            "[572]\tvalid_0's auc: 0.931239\n",
            "[573]\tvalid_0's auc: 0.931324\n",
            "[574]\tvalid_0's auc: 0.931296\n",
            "[575]\tvalid_0's auc: 0.931206\n",
            "[576]\tvalid_0's auc: 0.931181\n",
            "[577]\tvalid_0's auc: 0.931129\n",
            "[578]\tvalid_0's auc: 0.931091\n",
            "[579]\tvalid_0's auc: 0.931063\n",
            "[580]\tvalid_0's auc: 0.93108\n",
            "[581]\tvalid_0's auc: 0.931117\n",
            "[582]\tvalid_0's auc: 0.93108\n",
            "[583]\tvalid_0's auc: 0.931\n",
            "[584]\tvalid_0's auc: 0.930984\n",
            "[585]\tvalid_0's auc: 0.93103\n",
            "[586]\tvalid_0's auc: 0.931022\n",
            "[587]\tvalid_0's auc: 0.931041\n",
            "[588]\tvalid_0's auc: 0.931151\n",
            "[589]\tvalid_0's auc: 0.931157\n",
            "[590]\tvalid_0's auc: 0.931149\n",
            "[591]\tvalid_0's auc: 0.931121\n",
            "[592]\tvalid_0's auc: 0.931118\n",
            "[593]\tvalid_0's auc: 0.931012\n",
            "[594]\tvalid_0's auc: 0.930878\n",
            "[595]\tvalid_0's auc: 0.930817\n",
            "[596]\tvalid_0's auc: 0.930775\n",
            "[597]\tvalid_0's auc: 0.930801\n",
            "Early stopping, best iteration is:\n",
            "[497]\tvalid_0's auc: 0.932124\n"
          ],
          "name": "stdout"
        },
        {
          "output_type": "error",
          "ename": "ValueError",
          "evalue": "ignored",
          "traceback": [
            "\u001b[0;31m---------------------------------------------------------------------------\u001b[0m",
            "\u001b[0;31mValueError\u001b[0m                                Traceback (most recent call last)",
            "\u001b[0;32m<ipython-input-50-2e60bb2b8016>\u001b[0m in \u001b[0;36m<module>\u001b[0;34m()\u001b[0m\n\u001b[1;32m      1\u001b[0m \u001b[0mlistaDeCategoricas\u001b[0m \u001b[0;34m=\u001b[0m \u001b[0;34m[\u001b[0m\u001b[0;34m'Region'\u001b[0m\u001b[0;34m,\u001b[0m\u001b[0;34m'Territory'\u001b[0m\u001b[0;34m,\u001b[0m\u001b[0;34m'Product_Type'\u001b[0m\u001b[0;34m,\u001b[0m\u001b[0;34m'Product_Category_B'\u001b[0m\u001b[0;34m,\u001b[0m\u001b[0;34m'Account_Type'\u001b[0m\u001b[0;34m,\u001b[0m\u001b[0;34m'Delivery_Quarter'\u001b[0m\u001b[0;34m,\u001b[0m\u001b[0;34m'Billing_Country'\u001b[0m\u001b[0;34m]\u001b[0m\u001b[0;34m\u001b[0m\u001b[0;34m\u001b[0m\u001b[0m\n\u001b[0;32m----> 2\u001b[0;31m \u001b[0mres\u001b[0m \u001b[0;34m=\u001b[0m \u001b[0mlightGBM\u001b[0m\u001b[0;34m(\u001b[0m\u001b[0magrupacionEntrenamiento\u001b[0m\u001b[0;34m,\u001b[0m\u001b[0mentrenamientoResultado\u001b[0m\u001b[0;34m,\u001b[0m\u001b[0mlistaDeCategoricas\u001b[0m\u001b[0;34m,\u001b[0m\u001b[0magrupacionTesteo\u001b[0m\u001b[0;34m)\u001b[0m\u001b[0;34m\u001b[0m\u001b[0;34m\u001b[0m\u001b[0m\n\u001b[0m\u001b[1;32m      3\u001b[0m \u001b[0mres\u001b[0m\u001b[0;34m\u001b[0m\u001b[0;34m\u001b[0m\u001b[0m\n",
            "\u001b[0;32m<ipython-input-49-5928b1e8ba15>\u001b[0m in \u001b[0;36mlightGBM\u001b[0;34m(train_data, train_labels, cat_features, eval_data)\u001b[0m\n\u001b[1;32m     63\u001b[0m \u001b[0;34m\u001b[0m\u001b[0m\n\u001b[1;32m     64\u001b[0m   \u001b[0mx\u001b[0m \u001b[0;34m=\u001b[0m \u001b[0msubmission\u001b[0m\u001b[0;34m.\u001b[0m\u001b[0mvalues\u001b[0m\u001b[0;34m\u001b[0m\u001b[0;34m\u001b[0m\u001b[0m\n\u001b[0;32m---> 65\u001b[0;31m   \u001b[0my\u001b[0m \u001b[0;34m=\u001b[0m \u001b[0mmodel\u001b[0m\u001b[0;34m.\u001b[0m\u001b[0mpredict\u001b[0m\u001b[0;34m(\u001b[0m\u001b[0mx\u001b[0m\u001b[0;34m)\u001b[0m\u001b[0;34m\u001b[0m\u001b[0;34m\u001b[0m\u001b[0m\n\u001b[0m\u001b[1;32m     66\u001b[0m \u001b[0;34m\u001b[0m\u001b[0m\n\u001b[1;32m     67\u001b[0m   \u001b[0moutput\u001b[0m \u001b[0;34m=\u001b[0m \u001b[0mpd\u001b[0m\u001b[0;34m.\u001b[0m\u001b[0mDataFrame\u001b[0m\u001b[0;34m(\u001b[0m\u001b[0;34m{\u001b[0m\u001b[0;34m'id'\u001b[0m\u001b[0;34m:\u001b[0m \u001b[0mids\u001b[0m\u001b[0;34m,\u001b[0m \u001b[0;34m'target'\u001b[0m\u001b[0;34m:\u001b[0m \u001b[0my\u001b[0m\u001b[0;34m}\u001b[0m\u001b[0;34m)\u001b[0m\u001b[0;34m\u001b[0m\u001b[0;34m\u001b[0m\u001b[0m\n",
            "\u001b[0;32m/usr/local/lib/python3.6/dist-packages/lightgbm/basic.py\u001b[0m in \u001b[0;36mpredict\u001b[0;34m(self, data, num_iteration, raw_score, pred_leaf, pred_contrib, data_has_header, is_reshape, **kwargs)\u001b[0m\n\u001b[1;32m   2201\u001b[0m         return predictor.predict(data, num_iteration,\n\u001b[1;32m   2202\u001b[0m                                  \u001b[0mraw_score\u001b[0m\u001b[0;34m,\u001b[0m \u001b[0mpred_leaf\u001b[0m\u001b[0;34m,\u001b[0m \u001b[0mpred_contrib\u001b[0m\u001b[0;34m,\u001b[0m\u001b[0;34m\u001b[0m\u001b[0;34m\u001b[0m\u001b[0m\n\u001b[0;32m-> 2203\u001b[0;31m                                  data_has_header, is_reshape)\n\u001b[0m\u001b[1;32m   2204\u001b[0m \u001b[0;34m\u001b[0m\u001b[0m\n\u001b[1;32m   2205\u001b[0m     \u001b[0;32mdef\u001b[0m \u001b[0mrefit\u001b[0m\u001b[0;34m(\u001b[0m\u001b[0mself\u001b[0m\u001b[0;34m,\u001b[0m \u001b[0mdata\u001b[0m\u001b[0;34m,\u001b[0m \u001b[0mlabel\u001b[0m\u001b[0;34m,\u001b[0m \u001b[0mdecay_rate\u001b[0m\u001b[0;34m=\u001b[0m\u001b[0;36m0.9\u001b[0m\u001b[0;34m,\u001b[0m \u001b[0;34m**\u001b[0m\u001b[0mkwargs\u001b[0m\u001b[0;34m)\u001b[0m\u001b[0;34m:\u001b[0m\u001b[0;34m\u001b[0m\u001b[0;34m\u001b[0m\u001b[0m\n",
            "\u001b[0;32m/usr/local/lib/python3.6/dist-packages/lightgbm/basic.py\u001b[0m in \u001b[0;36mpredict\u001b[0;34m(self, data, num_iteration, raw_score, pred_leaf, pred_contrib, data_has_header, is_reshape)\u001b[0m\n\u001b[1;32m    465\u001b[0m             \u001b[0mpreds\u001b[0m\u001b[0;34m,\u001b[0m \u001b[0mnrow\u001b[0m \u001b[0;34m=\u001b[0m \u001b[0mself\u001b[0m\u001b[0;34m.\u001b[0m\u001b[0m__pred_for_csc\u001b[0m\u001b[0;34m(\u001b[0m\u001b[0mdata\u001b[0m\u001b[0;34m,\u001b[0m \u001b[0mnum_iteration\u001b[0m\u001b[0;34m,\u001b[0m \u001b[0mpredict_type\u001b[0m\u001b[0;34m)\u001b[0m\u001b[0;34m\u001b[0m\u001b[0;34m\u001b[0m\u001b[0m\n\u001b[1;32m    466\u001b[0m         \u001b[0;32melif\u001b[0m \u001b[0misinstance\u001b[0m\u001b[0;34m(\u001b[0m\u001b[0mdata\u001b[0m\u001b[0;34m,\u001b[0m \u001b[0mnp\u001b[0m\u001b[0;34m.\u001b[0m\u001b[0mndarray\u001b[0m\u001b[0;34m)\u001b[0m\u001b[0;34m:\u001b[0m\u001b[0;34m\u001b[0m\u001b[0;34m\u001b[0m\u001b[0m\n\u001b[0;32m--> 467\u001b[0;31m             \u001b[0mpreds\u001b[0m\u001b[0;34m,\u001b[0m \u001b[0mnrow\u001b[0m \u001b[0;34m=\u001b[0m \u001b[0mself\u001b[0m\u001b[0;34m.\u001b[0m\u001b[0m__pred_for_np2d\u001b[0m\u001b[0;34m(\u001b[0m\u001b[0mdata\u001b[0m\u001b[0;34m,\u001b[0m \u001b[0mnum_iteration\u001b[0m\u001b[0;34m,\u001b[0m \u001b[0mpredict_type\u001b[0m\u001b[0;34m)\u001b[0m\u001b[0;34m\u001b[0m\u001b[0;34m\u001b[0m\u001b[0m\n\u001b[0m\u001b[1;32m    468\u001b[0m         \u001b[0;32melif\u001b[0m \u001b[0misinstance\u001b[0m\u001b[0;34m(\u001b[0m\u001b[0mdata\u001b[0m\u001b[0;34m,\u001b[0m \u001b[0mlist\u001b[0m\u001b[0;34m)\u001b[0m\u001b[0;34m:\u001b[0m\u001b[0;34m\u001b[0m\u001b[0;34m\u001b[0m\u001b[0m\n\u001b[1;32m    469\u001b[0m             \u001b[0;32mtry\u001b[0m\u001b[0;34m:\u001b[0m\u001b[0;34m\u001b[0m\u001b[0;34m\u001b[0m\u001b[0m\n",
            "\u001b[0;32m/usr/local/lib/python3.6/dist-packages/lightgbm/basic.py\u001b[0m in \u001b[0;36m__pred_for_np2d\u001b[0;34m(self, mat, num_iteration, predict_type)\u001b[0m\n\u001b[1;32m    554\u001b[0m             \u001b[0;32mreturn\u001b[0m \u001b[0mpreds\u001b[0m\u001b[0;34m,\u001b[0m \u001b[0mnrow\u001b[0m\u001b[0;34m\u001b[0m\u001b[0;34m\u001b[0m\u001b[0m\n\u001b[1;32m    555\u001b[0m         \u001b[0;32melse\u001b[0m\u001b[0;34m:\u001b[0m\u001b[0;34m\u001b[0m\u001b[0;34m\u001b[0m\u001b[0m\n\u001b[0;32m--> 556\u001b[0;31m             \u001b[0;32mreturn\u001b[0m \u001b[0minner_predict\u001b[0m\u001b[0;34m(\u001b[0m\u001b[0mmat\u001b[0m\u001b[0;34m,\u001b[0m \u001b[0mnum_iteration\u001b[0m\u001b[0;34m,\u001b[0m \u001b[0mpredict_type\u001b[0m\u001b[0;34m)\u001b[0m\u001b[0;34m\u001b[0m\u001b[0;34m\u001b[0m\u001b[0m\n\u001b[0m\u001b[1;32m    557\u001b[0m \u001b[0;34m\u001b[0m\u001b[0m\n\u001b[1;32m    558\u001b[0m     \u001b[0;32mdef\u001b[0m \u001b[0m__pred_for_csr\u001b[0m\u001b[0;34m(\u001b[0m\u001b[0mself\u001b[0m\u001b[0;34m,\u001b[0m \u001b[0mcsr\u001b[0m\u001b[0;34m,\u001b[0m \u001b[0mnum_iteration\u001b[0m\u001b[0;34m,\u001b[0m \u001b[0mpredict_type\u001b[0m\u001b[0;34m)\u001b[0m\u001b[0;34m:\u001b[0m\u001b[0;34m\u001b[0m\u001b[0;34m\u001b[0m\u001b[0m\n",
            "\u001b[0;32m/usr/local/lib/python3.6/dist-packages/lightgbm/basic.py\u001b[0m in \u001b[0;36minner_predict\u001b[0;34m(mat, num_iteration, predict_type, preds)\u001b[0m\n\u001b[1;32m    517\u001b[0m             \u001b[0;32melse\u001b[0m\u001b[0;34m:\u001b[0m\u001b[0;34m\u001b[0m\u001b[0;34m\u001b[0m\u001b[0m\n\u001b[1;32m    518\u001b[0m                 \u001b[0;34m\"\"\"change non-float data to float data, need to copy\"\"\"\u001b[0m\u001b[0;34m\u001b[0m\u001b[0;34m\u001b[0m\u001b[0m\n\u001b[0;32m--> 519\u001b[0;31m                 \u001b[0mdata\u001b[0m \u001b[0;34m=\u001b[0m \u001b[0mnp\u001b[0m\u001b[0;34m.\u001b[0m\u001b[0marray\u001b[0m\u001b[0;34m(\u001b[0m\u001b[0mmat\u001b[0m\u001b[0;34m.\u001b[0m\u001b[0mreshape\u001b[0m\u001b[0;34m(\u001b[0m\u001b[0mmat\u001b[0m\u001b[0;34m.\u001b[0m\u001b[0msize\u001b[0m\u001b[0;34m)\u001b[0m\u001b[0;34m,\u001b[0m \u001b[0mdtype\u001b[0m\u001b[0;34m=\u001b[0m\u001b[0mnp\u001b[0m\u001b[0;34m.\u001b[0m\u001b[0mfloat32\u001b[0m\u001b[0;34m)\u001b[0m\u001b[0;34m\u001b[0m\u001b[0;34m\u001b[0m\u001b[0m\n\u001b[0m\u001b[1;32m    520\u001b[0m             \u001b[0mptr_data\u001b[0m\u001b[0;34m,\u001b[0m \u001b[0mtype_ptr_data\u001b[0m\u001b[0;34m,\u001b[0m \u001b[0m_\u001b[0m \u001b[0;34m=\u001b[0m \u001b[0mc_float_array\u001b[0m\u001b[0;34m(\u001b[0m\u001b[0mdata\u001b[0m\u001b[0;34m)\u001b[0m\u001b[0;34m\u001b[0m\u001b[0;34m\u001b[0m\u001b[0m\n\u001b[1;32m    521\u001b[0m             \u001b[0mn_preds\u001b[0m \u001b[0;34m=\u001b[0m \u001b[0mself\u001b[0m\u001b[0;34m.\u001b[0m\u001b[0m__get_num_preds\u001b[0m\u001b[0;34m(\u001b[0m\u001b[0mnum_iteration\u001b[0m\u001b[0;34m,\u001b[0m \u001b[0mmat\u001b[0m\u001b[0;34m.\u001b[0m\u001b[0mshape\u001b[0m\u001b[0;34m[\u001b[0m\u001b[0;36m0\u001b[0m\u001b[0;34m]\u001b[0m\u001b[0;34m,\u001b[0m \u001b[0mpredict_type\u001b[0m\u001b[0;34m)\u001b[0m\u001b[0;34m\u001b[0m\u001b[0;34m\u001b[0m\u001b[0m\n",
            "\u001b[0;31mValueError\u001b[0m: could not convert string to float: 'EMEA'"
          ]
        }
      ]
    },
    {
      "cell_type": "code",
      "metadata": {
        "colab": {
          "base_uri": "https://localhost:8080/"
        },
        "id": "jbSKn0N3339Z",
        "outputId": "e6d7bff5-9331-4f9f-f4d9-e7b37838ba7d"
      },
      "source": [
        "resultado = pd.Series(res)\r\n",
        "\r\n",
        "#ids = eval_data['Opportunity_ID'].values\r\n",
        "#resultado = pd.DataFrame({'Opportunity_ID': ids, 'target': resultado})\r\n",
        "#resultado = (resultado - 1) * (-1)#En las ultimas pruevas es el opuesto el que genera mejor resultado\r\n",
        "resultado"
      ],
      "execution_count": null,
      "outputs": [
        {
          "output_type": "execute_result",
          "data": {
            "text/plain": [
              "0                      0.95\n",
              "1                      0.21\n",
              "2                      0.92\n",
              "3                      0.80\n",
              "4                      0.02\n",
              "               ...         \n",
              "7827                   0.02\n",
              "7828                   0.90\n",
              "7829                   1.00\n",
              "7830                   0.06\n",
              "7831                   0.00\n",
              "Length: 7832, dtype: float64"
            ]
          },
          "metadata": {
            "tags": []
          },
          "execution_count": 63
        }
      ]
    },
    {
      "cell_type": "code",
      "metadata": {
        "colab": {
          "base_uri": "https://localhost:8080/",
          "height": 238
        },
        "id": "oHGMiETH37st",
        "outputId": "286c2b34-01f4-4741-8427-1b80bc99ba23"
      },
      "source": [
        "dataResultante = generarResultado(agrupacionTesteo,resultado)\r\n",
        "dataResultante.head()"
      ],
      "execution_count": null,
      "outputs": [
        {
          "output_type": "execute_result",
          "data": {
            "text/html": [
              "<div>\n",
              "<style scoped>\n",
              "    .dataframe tbody tr th:only-of-type {\n",
              "        vertical-align: middle;\n",
              "    }\n",
              "\n",
              "    .dataframe tbody tr th {\n",
              "        vertical-align: top;\n",
              "    }\n",
              "\n",
              "    .dataframe thead th {\n",
              "        text-align: right;\n",
              "    }\n",
              "</style>\n",
              "<table border=\"1\" class=\"dataframe\">\n",
              "  <thead>\n",
              "    <tr style=\"text-align: right;\">\n",
              "      <th></th>\n",
              "      <th>Target</th>\n",
              "    </tr>\n",
              "    <tr>\n",
              "      <th>Opportunity_ID</th>\n",
              "      <th></th>\n",
              "    </tr>\n",
              "  </thead>\n",
              "  <tbody>\n",
              "    <tr>\n",
              "      <th>10689</th>\n",
              "      <td>nan</td>\n",
              "    </tr>\n",
              "    <tr>\n",
              "      <th>10690</th>\n",
              "      <td>nan</td>\n",
              "    </tr>\n",
              "    <tr>\n",
              "      <th>10691</th>\n",
              "      <td>nan</td>\n",
              "    </tr>\n",
              "    <tr>\n",
              "      <th>10692</th>\n",
              "      <td>nan</td>\n",
              "    </tr>\n",
              "    <tr>\n",
              "      <th>10693</th>\n",
              "      <td>nan</td>\n",
              "    </tr>\n",
              "  </tbody>\n",
              "</table>\n",
              "</div>"
            ],
            "text/plain": [
              "                             Target\n",
              "Opportunity_ID                     \n",
              "10689                           nan\n",
              "10690                           nan\n",
              "10691                           nan\n",
              "10692                           nan\n",
              "10693                           nan"
            ]
          },
          "metadata": {
            "tags": []
          },
          "execution_count": 62
        }
      ]
    },
    {
      "cell_type": "markdown",
      "metadata": {
        "id": "MgACrmv2aNIz"
      },
      "source": [
        "## Ramdom forest"
      ]
    },
    {
      "cell_type": "markdown",
      "metadata": {
        "id": "fUJPG4lVu_9K"
      },
      "source": [
        "### bayesiano"
      ]
    },
    {
      "cell_type": "code",
      "metadata": {
        "id": "6OrprTgvvB96"
      },
      "source": [
        "#Bayesian optimization\r\n",
        "def bayesian_optimization(dataset, function, parameters):\r\n",
        "   X_train, y_train, X_test, y_test = dataset\r\n",
        "   n_iterations = 10\r\n",
        "   gp_params = {\"alpha\": 1e-4}\r\n",
        "\r\n",
        "   BO = BayesianOptimization(function, parameters)\r\n",
        "   BO.maximize(n_iter=n_iterations, **gp_params)\r\n",
        "\r\n",
        "   return BO.max\r\n",
        "\r\n",
        "def rfc_optimization(cv_splits):\r\n",
        "    def function(n_estimators, oob_score, min_samples_split):\r\n",
        "        desacerse = ['Planned_Delivery_End_Date_anio','Planned_Delivery_End_Date_mes','Planned_Delivery_End_Date_dia','Last_Modified_Date_dia']\r\n",
        "        X_train = agrupacionEntrenamientoXGB.drop(desacerse,axis=1)\r\n",
        "        y_train = entrenamientoResultado\r\n",
        "        return cross_val_score(\r\n",
        "               RandomForestClassifier(\r\n",
        "                   n_estimators=int(max(n_estimators,0)),\r\n",
        "                   #max_depth=int(max(max_depth,1)),\r\n",
        "                   min_samples_split=int(max(min_samples_split,2)),\r\n",
        "                   n_jobs=-1,\r\n",
        "                   #random_state=42,\r\n",
        "                   oob_score=(max(oob_score,1)),\r\n",
        "                   bootstrap=True,\r\n",
        "                   #class_weight=\"balanced\"\r\n",
        "                   max_features='sqrt'\r\n",
        "                  ),\r\n",
        "               X=X_train, \r\n",
        "               y=y_train, \r\n",
        "               cv=cv_splits,\r\n",
        "               scoring=\"roc_auc\",\r\n",
        "               n_jobs=-1).mean()\r\n",
        "\r\n",
        "    parameters = {\"n_estimators\": (200, 1000),\r\n",
        "                  \"oob_score\": (5, 30),\r\n",
        "                  \"min_samples_split\": (2, 10)}\r\n",
        "    \r\n",
        "    return function, parameters\r\n",
        "\r\n",
        "#Train model\r\n",
        "def ramdomForestBayesiano(X_train, y_train, X_test, y_test):\r\n",
        "    dataset = (X_train, y_train, X_test, y_test)\r\n",
        "    cv_splits = 4\r\n",
        "\r\n",
        "    function, parameters = rfc_optimization(cv_splits)\r\n",
        "    \r\n",
        "    best_solution = bayesian_optimization(dataset, function, parameters)      \r\n",
        "    params = best_solution[\"params\"]\r\n",
        "\r\n",
        "    model = RandomForestClassifier(\r\n",
        "             n_estimators=int(max(params[\"n_estimators\"], 0)),\r\n",
        "             #max_depth=int(max(params[\"max_depth\"], 1)),\r\n",
        "             oob_score=(max('oob_score',1)),\r\n",
        "             min_samples_split=int(max(params[\"min_samples_split\"], 2)), \r\n",
        "             n_jobs=-1, \r\n",
        "             random_state=42,   \r\n",
        "             class_weight=\"balanced\")\r\n",
        "\r\n",
        "    model.fit(X_train, y_train)\r\n",
        "    predictions = model.predict_proba(X_test)\r\n",
        "    return predictions"
      ],
      "execution_count": null,
      "outputs": []
    },
    {
      "cell_type": "code",
      "metadata": {
        "colab": {
          "base_uri": "https://localhost:8080/",
          "height": 686
        },
        "id": "ECcWjKEuy13F",
        "outputId": "a3e46afb-2cb3-46f9-961c-685467092e71"
      },
      "source": [
        "#Uso los mismos valores de XGB para las variables categoricas ya que no las soporta\r\n",
        "desacerse = ['Planned_Delivery_End_Date_anio','Planned_Delivery_End_Date_mes','Planned_Delivery_End_Date_dia','Last_Modified_Date_dia']\r\n",
        "#comentado para evitar ejecucion erronea\r\n",
        "#res = ramdomForestBayesiano(agrupacionEntrenamientoXGB.drop(desacerse,axis=1),\r\n",
        "#                            entrenamientoResultado,\r\n",
        "#                            agrupacionTesteoXGB.drop(desacerse,axis=1),\r\n",
        "#                            supuestos[['TargetBinario']])\r\n",
        "#res"
      ],
      "execution_count": null,
      "outputs": [
        {
          "output_type": "stream",
          "text": [
            "|   iter    |  target   | min_sa... | n_esti... | oob_score |\n",
            "-------------------------------------------------------------\n",
            "| \u001b[0m 1       \u001b[0m | \u001b[0m 0.8754  \u001b[0m | \u001b[0m 5.516   \u001b[0m | \u001b[0m 919.3   \u001b[0m | \u001b[0m 16.95   \u001b[0m |\n",
            "| \u001b[0m 2       \u001b[0m | \u001b[0m 0.8742  \u001b[0m | \u001b[0m 5.209   \u001b[0m | \u001b[0m 219.3   \u001b[0m | \u001b[0m 13.67   \u001b[0m |\n",
            "| \u001b[0m 3       \u001b[0m | \u001b[0m 0.8752  \u001b[0m | \u001b[0m 4.422   \u001b[0m | \u001b[0m 555.0   \u001b[0m | \u001b[0m 16.9    \u001b[0m |\n",
            "| \u001b[0m 4       \u001b[0m | \u001b[0m 0.8752  \u001b[0m | \u001b[0m 8.854   \u001b[0m | \u001b[0m 393.1   \u001b[0m | \u001b[0m 24.81   \u001b[0m |\n",
            "| \u001b[95m 5       \u001b[0m | \u001b[95m 0.8755  \u001b[0m | \u001b[95m 6.257   \u001b[0m | \u001b[95m 571.6   \u001b[0m | \u001b[95m 14.75   \u001b[0m |\n",
            "| \u001b[0m 6       \u001b[0m | \u001b[0m 0.8748  \u001b[0m | \u001b[0m 8.591   \u001b[0m | \u001b[0m 1e+03   \u001b[0m | \u001b[0m 7.999   \u001b[0m |\n",
            "| \u001b[0m 7       \u001b[0m | \u001b[0m 0.8743  \u001b[0m | \u001b[0m 7.239   \u001b[0m | \u001b[0m 200.1   \u001b[0m | \u001b[0m 29.67   \u001b[0m |\n",
            "| \u001b[0m 8       \u001b[0m | \u001b[0m 0.8747  \u001b[0m | \u001b[0m 6.585   \u001b[0m | \u001b[0m 1e+03   \u001b[0m | \u001b[0m 25.98   \u001b[0m |\n",
            "| \u001b[0m 9       \u001b[0m | \u001b[0m 0.8753  \u001b[0m | \u001b[0m 4.613   \u001b[0m | \u001b[0m 999.8   \u001b[0m | \u001b[0m 29.7    \u001b[0m |\n",
            "| \u001b[0m 10      \u001b[0m | \u001b[0m 0.8729  \u001b[0m | \u001b[0m 7.116   \u001b[0m | \u001b[0m 200.1   \u001b[0m | \u001b[0m 29.46   \u001b[0m |\n",
            "| \u001b[0m 11      \u001b[0m | \u001b[0m 0.8752  \u001b[0m | \u001b[0m 3.324   \u001b[0m | \u001b[0m 999.8   \u001b[0m | \u001b[0m 14.0    \u001b[0m |\n",
            "| \u001b[0m 12      \u001b[0m | \u001b[0m 0.8735  \u001b[0m | \u001b[0m 7.286   \u001b[0m | \u001b[0m 200.1   \u001b[0m | \u001b[0m 5.075   \u001b[0m |\n",
            "| \u001b[0m 13      \u001b[0m | \u001b[0m 0.8751  \u001b[0m | \u001b[0m 8.459   \u001b[0m | \u001b[0m 999.9   \u001b[0m | \u001b[0m 26.34   \u001b[0m |\n",
            "| \u001b[0m 14      \u001b[0m | \u001b[0m 0.8732  \u001b[0m | \u001b[0m 6.593   \u001b[0m | \u001b[0m 200.1   \u001b[0m | \u001b[0m 9.143   \u001b[0m |\n",
            "| \u001b[95m 15      \u001b[0m | \u001b[95m 0.8756  \u001b[0m | \u001b[95m 9.036   \u001b[0m | \u001b[95m 999.9   \u001b[0m | \u001b[95m 7.227   \u001b[0m |\n",
            "=============================================================\n"
          ],
          "name": "stdout"
        },
        {
          "output_type": "error",
          "ename": "TypeError",
          "evalue": "ignored",
          "traceback": [
            "\u001b[0;31m---------------------------------------------------------------------------\u001b[0m",
            "\u001b[0;31mTypeError\u001b[0m                                 Traceback (most recent call last)",
            "\u001b[0;32m<ipython-input-64-7922d84f35e0>\u001b[0m in \u001b[0;36m<module>\u001b[0;34m()\u001b[0m\n\u001b[1;32m      4\u001b[0m                             \u001b[0mentrenamientoResultado\u001b[0m\u001b[0;34m,\u001b[0m\u001b[0;34m\u001b[0m\u001b[0;34m\u001b[0m\u001b[0m\n\u001b[1;32m      5\u001b[0m                             \u001b[0magrupacionTesteoXGB\u001b[0m\u001b[0;34m.\u001b[0m\u001b[0mdrop\u001b[0m\u001b[0;34m(\u001b[0m\u001b[0mdesacerse\u001b[0m\u001b[0;34m,\u001b[0m\u001b[0maxis\u001b[0m\u001b[0;34m=\u001b[0m\u001b[0;36m1\u001b[0m\u001b[0;34m)\u001b[0m\u001b[0;34m,\u001b[0m\u001b[0;34m\u001b[0m\u001b[0;34m\u001b[0m\u001b[0m\n\u001b[0;32m----> 6\u001b[0;31m                             supuestos[['TargetBinario']])\n\u001b[0m\u001b[1;32m      7\u001b[0m \u001b[0mres\u001b[0m\u001b[0;34m\u001b[0m\u001b[0;34m\u001b[0m\u001b[0m\n",
            "\u001b[0;32m<ipython-input-63-793ba7a3b1ee>\u001b[0m in \u001b[0;36mramdomForestBayesiano\u001b[0;34m(X_train, y_train, X_test, y_test)\u001b[0m\n\u001b[1;32m     52\u001b[0m              \u001b[0mn_estimators\u001b[0m\u001b[0;34m=\u001b[0m\u001b[0mint\u001b[0m\u001b[0;34m(\u001b[0m\u001b[0mmax\u001b[0m\u001b[0;34m(\u001b[0m\u001b[0mparams\u001b[0m\u001b[0;34m[\u001b[0m\u001b[0;34m\"n_estimators\"\u001b[0m\u001b[0;34m]\u001b[0m\u001b[0;34m,\u001b[0m \u001b[0;36m0\u001b[0m\u001b[0;34m)\u001b[0m\u001b[0;34m)\u001b[0m\u001b[0;34m,\u001b[0m\u001b[0;34m\u001b[0m\u001b[0;34m\u001b[0m\u001b[0m\n\u001b[1;32m     53\u001b[0m              \u001b[0;31m#max_depth=int(max(params[\"max_depth\"], 1)),\u001b[0m\u001b[0;34m\u001b[0m\u001b[0;34m\u001b[0m\u001b[0;34m\u001b[0m\u001b[0m\n\u001b[0;32m---> 54\u001b[0;31m              \u001b[0moob_score\u001b[0m\u001b[0;34m=\u001b[0m\u001b[0;34m(\u001b[0m\u001b[0mmax\u001b[0m\u001b[0;34m(\u001b[0m\u001b[0;34m'oob_score'\u001b[0m\u001b[0;34m,\u001b[0m\u001b[0;36m1\u001b[0m\u001b[0;34m)\u001b[0m\u001b[0;34m)\u001b[0m\u001b[0;34m,\u001b[0m\u001b[0;34m\u001b[0m\u001b[0;34m\u001b[0m\u001b[0m\n\u001b[0m\u001b[1;32m     55\u001b[0m              \u001b[0mmin_samples_split\u001b[0m\u001b[0;34m=\u001b[0m\u001b[0mint\u001b[0m\u001b[0;34m(\u001b[0m\u001b[0mmax\u001b[0m\u001b[0;34m(\u001b[0m\u001b[0mparams\u001b[0m\u001b[0;34m[\u001b[0m\u001b[0;34m\"min_samples_split\"\u001b[0m\u001b[0;34m]\u001b[0m\u001b[0;34m,\u001b[0m \u001b[0;36m2\u001b[0m\u001b[0;34m)\u001b[0m\u001b[0;34m)\u001b[0m\u001b[0;34m,\u001b[0m\u001b[0;34m\u001b[0m\u001b[0;34m\u001b[0m\u001b[0m\n\u001b[1;32m     56\u001b[0m              \u001b[0mn_jobs\u001b[0m\u001b[0;34m=\u001b[0m\u001b[0;34m-\u001b[0m\u001b[0;36m1\u001b[0m\u001b[0;34m,\u001b[0m\u001b[0;34m\u001b[0m\u001b[0;34m\u001b[0m\u001b[0m\n",
            "\u001b[0;31mTypeError\u001b[0m: '>' not supported between instances of 'int' and 'str'"
          ]
        }
      ]
    },
    {
      "cell_type": "markdown",
      "metadata": {
        "id": "h3pm9ZR5u-VS"
      },
      "source": [
        "### prediccion"
      ]
    },
    {
      "cell_type": "code",
      "metadata": {
        "id": "YlUrE3BRaQQL"
      },
      "source": [
        "def ramdomForest(train_data,train_labels,eval_data):\r\n",
        "  # Crear el modelo\r\n",
        "  #Si no se le coloca un valor de max depth lo toma por min_samples_leaf a la creacion de hojas\r\n",
        "  model = RandomForestClassifier(n_estimators=1000,\r\n",
        "                                 #max_features=5,\r\n",
        "                                 min_samples_leaf=9,\r\n",
        "                                 oob_score=9,#7\r\n",
        "                                 bootstrap=True,\r\n",
        "                                 verbose=0,\r\n",
        "                                 #max_leaf_nodes=20,\r\n",
        "                                 #min_weight_fraction_leaf=0.01,\r\n",
        "                                 max_features=7#7\r\n",
        "                                 )\r\n",
        "  #parametros importantes\r\n",
        "  #  n_estimators: será la cantidad de árboles que generaremos.\r\n",
        "  #  max_features: la manera de seleccionar la cantidad máxima de features para cada árbol.\r\n",
        "  #  min_sample_leaf: número mínimo de elementos en las hojas para permitir un nuevo split (división) del nodo.\r\n",
        "  #  oob_score: es un método que emula el cross-validation en árboles y permite mejorar la precisión y evitar overfitting.\r\n",
        "  #  boostrap: para utilizar diversos tamaños de muestras para entrenar. Si se pone en falso, utilizará siempre el dataset completo.\r\n",
        "  #  n_jobs: si tienes multiples cores en tu CPU, puedes indicar cuantos puede usar el modelo al entrenar para acelerar el entrenamiento.\r\n",
        "  # a entrenar!\r\n",
        "  model.fit(train_data, train_labels)\r\n",
        "  predictions = model.predict_proba(eval_data)\r\n",
        "  return predictions\r\n",
        "  "
      ],
      "execution_count": null,
      "outputs": []
    },
    {
      "cell_type": "code",
      "metadata": {
        "colab": {
          "base_uri": "https://localhost:8080/"
        },
        "id": "hTbwSHLIHgCw",
        "outputId": "00b09459-ed83-4d92-b4b7-79015236f199"
      },
      "source": [
        "#Uso los mismos valores de XGB para las variables categoricas ya que no las soporta\r\n",
        "desacerse = ['Planned_Delivery_End_Date_anio','Planned_Delivery_End_Date_mes','Planned_Delivery_End_Date_dia','Last_Modified_Date_dia','Total_Taxable_Amount','ASP_(converted)_Currency']\r\n",
        "agrupacionEntrenamientoRF = agrupacionEntrenamientoXGB.drop(desacerse,axis=1)\r\n",
        "agrupacionTesteoRF = agrupacionTesteoXGB.drop(desacerse,axis=1)\r\n",
        "#agrupacionTesteoRF = agrupacionTesteoXGB.drop(['Target'],axis=1)\r\n",
        "print(len(agrupacionEntrenamientoRF.columns) - len(agrupacionTesteoRF.columns))"
      ],
      "execution_count": null,
      "outputs": [
        {
          "output_type": "stream",
          "text": [
            "0\n"
          ],
          "name": "stdout"
        }
      ]
    },
    {
      "cell_type": "code",
      "metadata": {
        "colab": {
          "base_uri": "https://localhost:8080/"
        },
        "id": "bTRkXyDHt6XU",
        "outputId": "0d0a1b9b-1eaf-438e-b1b9-1569cb51adb2"
      },
      "source": [
        "res = ramdomForest(agrupacionEntrenamientoRF,\r\n",
        "                   entrenamientoResultado,\r\n",
        "                   agrupacionTesteoRF)\r\n",
        "res"
      ],
      "execution_count": null,
      "outputs": [
        {
          "output_type": "execute_result",
          "data": {
            "text/plain": [
              "array([[0.27503331, 0.72496669],\n",
              "       [0.39253994, 0.60746006],\n",
              "       [0.40023432, 0.59976568],\n",
              "       ...,\n",
              "       [0.54602135, 0.45397865],\n",
              "       [0.42050524, 0.57949476],\n",
              "       [0.71256341, 0.28743659]])"
            ]
          },
          "metadata": {
            "tags": []
          },
          "execution_count": 123
        }
      ]
    },
    {
      "cell_type": "code",
      "metadata": {
        "colab": {
          "base_uri": "https://localhost:8080/"
        },
        "id": "CB1dArfLt6aS",
        "outputId": "0c3a8f9b-1cc0-4093-aade-32f3f075ca0e"
      },
      "source": [
        "resultado = auxiliarUnificarValor(res)\r\n",
        "resultado = (resultado - 1) * (-1)#En las ultimas pruevas es el opuesto el que genera mejor resultado\r\n",
        "resultado"
      ],
      "execution_count": null,
      "outputs": [
        {
          "output_type": "execute_result",
          "data": {
            "text/plain": [
              "array([0.72496669, 0.60746006, 0.59976568, ..., 0.45397865, 0.57949476,\n",
              "       0.28743659])"
            ]
          },
          "metadata": {
            "tags": []
          },
          "execution_count": 124
        }
      ]
    },
    {
      "cell_type": "code",
      "metadata": {
        "colab": {
          "base_uri": "https://localhost:8080/",
          "height": 238
        },
        "id": "xrH7YJ87t8QJ",
        "outputId": "d8bc62fc-4689-475e-f752-f5c186dc5946"
      },
      "source": [
        "dataResultante = generarResultado(agrupacionTesteo,resultado)\r\n",
        "dataResultante.head()"
      ],
      "execution_count": null,
      "outputs": [
        {
          "output_type": "execute_result",
          "data": {
            "text/html": [
              "<div>\n",
              "<style scoped>\n",
              "    .dataframe tbody tr th:only-of-type {\n",
              "        vertical-align: middle;\n",
              "    }\n",
              "\n",
              "    .dataframe tbody tr th {\n",
              "        vertical-align: top;\n",
              "    }\n",
              "\n",
              "    .dataframe thead th {\n",
              "        text-align: right;\n",
              "    }\n",
              "</style>\n",
              "<table border=\"1\" class=\"dataframe\">\n",
              "  <thead>\n",
              "    <tr style=\"text-align: right;\">\n",
              "      <th></th>\n",
              "      <th>Target</th>\n",
              "    </tr>\n",
              "    <tr>\n",
              "      <th>Opportunity_ID</th>\n",
              "      <th></th>\n",
              "    </tr>\n",
              "  </thead>\n",
              "  <tbody>\n",
              "    <tr>\n",
              "      <th>10689</th>\n",
              "      <td>0.72</td>\n",
              "    </tr>\n",
              "    <tr>\n",
              "      <th>10690</th>\n",
              "      <td>0.61</td>\n",
              "    </tr>\n",
              "    <tr>\n",
              "      <th>10691</th>\n",
              "      <td>0.60</td>\n",
              "    </tr>\n",
              "    <tr>\n",
              "      <th>10692</th>\n",
              "      <td>0.47</td>\n",
              "    </tr>\n",
              "    <tr>\n",
              "      <th>10693</th>\n",
              "      <td>0.77</td>\n",
              "    </tr>\n",
              "  </tbody>\n",
              "</table>\n",
              "</div>"
            ],
            "text/plain": [
              "                             Target\n",
              "Opportunity_ID                     \n",
              "10689                          0.72\n",
              "10690                          0.61\n",
              "10691                          0.60\n",
              "10692                          0.47\n",
              "10693                          0.77"
            ]
          },
          "metadata": {
            "tags": []
          },
          "execution_count": 125
        }
      ]
    },
    {
      "cell_type": "markdown",
      "metadata": {
        "id": "mvlnUVJqzO-5"
      },
      "source": [
        "## Perceptron"
      ]
    },
    {
      "cell_type": "code",
      "metadata": {
        "id": "zvIHumigzlsc"
      },
      "source": [
        "for header in cat_features:\r\n",
        "    agrupacionEntrenamiento[header] = agrupacionEntrenamiento[header].astype('category').cat.codes"
      ],
      "execution_count": null,
      "outputs": []
    },
    {
      "cell_type": "code",
      "metadata": {
        "id": "1eOVbSR7zmnL"
      },
      "source": [
        "def perceptron(train_set, train_label, listaDeCategoricas, test_set):\r\n",
        "  perceptron_mod = Perceptron(tol=1e-3, random_state=0)\r\n",
        "  for header in listaDeCategoricas:\r\n",
        "    train_set[header] = train_set[header].astype('category').cat.codes\r\n",
        "  \r\n",
        "  for header in listaDeCategoricas:\r\n",
        "    test_set[header] = test_set[header].astype('category').cat.codes\r\n",
        "  perceptron_mod.fit(train_set, train_label)\r\n",
        "    \r\n",
        "  predicts = perceptron_mod.predict(test_set)\r\n",
        "  return predicts\r\n"
      ],
      "execution_count": null,
      "outputs": []
    },
    {
      "cell_type": "code",
      "metadata": {
        "id": "O9K3dI-vzuHb"
      },
      "source": [
        "desacerse = ['Planned_Delivery_End_Date_anio','Planned_Delivery_End_Date_mes','Planned_Delivery_End_Date_dia','Last_Modified_Date_dia']\r\n",
        "agrupacionEntrenamientoPerceptron = agrupacionEntrenamiento.drop(desacerse,axis=1)\r\n",
        "agrupacionTesteoPerceptron = agrupacionTesteo.drop(desacerse,axis=1)"
      ],
      "execution_count": null,
      "outputs": []
    },
    {
      "cell_type": "code",
      "metadata": {
        "colab": {
          "base_uri": "https://localhost:8080/"
        },
        "id": "jMb10qyVzz3K",
        "outputId": "fa281060-d356-4731-9c23-f7193e1b8884"
      },
      "source": [
        "listaDeCategoricas = ['Region',\r\n",
        "                      'Territory', \r\n",
        "                      'Product_Family', \r\n",
        "                      'Delivery_Terms', \r\n",
        "                      'Product_Type',\r\n",
        "                      'Product_Category_B',\r\n",
        "                      'Account_Type',\r\n",
        "                      'Delivery_Quarter',\r\n",
        "                      'Billing_Country',\r\n",
        "                      'ASP_(converted)_Currency']\r\n",
        "resPerceptron = perceptron(agrupacionEntrenamientoPerceptron, entrenamientoResultado, listaDeCategoricas, agrupacionTesteoPerceptron)\r\n",
        "resPerceptron"
      ],
      "execution_count": null,
      "outputs": [
        {
          "output_type": "execute_result",
          "data": {
            "text/plain": [
              "array([0, 0, 1, ..., 1, 1, 1])"
            ]
          },
          "metadata": {
            "tags": []
          },
          "execution_count": 41
        }
      ]
    },
    {
      "cell_type": "code",
      "metadata": {
        "colab": {
          "base_uri": "https://localhost:8080/",
          "height": 238
        },
        "id": "CyiWlGzlz26x",
        "outputId": "8f1158a9-e57e-4328-82a1-3329bca993ba"
      },
      "source": [
        "dataResultante = generarResultado(agrupacionTesteo,resPerceptron)\r\n",
        "dataResultante.head()"
      ],
      "execution_count": null,
      "outputs": [
        {
          "output_type": "execute_result",
          "data": {
            "text/html": [
              "<div>\n",
              "<style scoped>\n",
              "    .dataframe tbody tr th:only-of-type {\n",
              "        vertical-align: middle;\n",
              "    }\n",
              "\n",
              "    .dataframe tbody tr th {\n",
              "        vertical-align: top;\n",
              "    }\n",
              "\n",
              "    .dataframe thead th {\n",
              "        text-align: right;\n",
              "    }\n",
              "</style>\n",
              "<table border=\"1\" class=\"dataframe\">\n",
              "  <thead>\n",
              "    <tr style=\"text-align: right;\">\n",
              "      <th></th>\n",
              "      <th>Target</th>\n",
              "    </tr>\n",
              "    <tr>\n",
              "      <th>Opportunity_ID</th>\n",
              "      <th></th>\n",
              "    </tr>\n",
              "  </thead>\n",
              "  <tbody>\n",
              "    <tr>\n",
              "      <th>10689</th>\n",
              "      <td>0</td>\n",
              "    </tr>\n",
              "    <tr>\n",
              "      <th>10690</th>\n",
              "      <td>0</td>\n",
              "    </tr>\n",
              "    <tr>\n",
              "      <th>10691</th>\n",
              "      <td>1</td>\n",
              "    </tr>\n",
              "    <tr>\n",
              "      <th>10692</th>\n",
              "      <td>0</td>\n",
              "    </tr>\n",
              "    <tr>\n",
              "      <th>10693</th>\n",
              "      <td>1</td>\n",
              "    </tr>\n",
              "  </tbody>\n",
              "</table>\n",
              "</div>"
            ],
            "text/plain": [
              "                Target\n",
              "Opportunity_ID        \n",
              "10689                0\n",
              "10690                0\n",
              "10691                1\n",
              "10692                0\n",
              "10693                1"
            ]
          },
          "metadata": {
            "tags": []
          },
          "execution_count": 42
        }
      ]
    }
  ]
}