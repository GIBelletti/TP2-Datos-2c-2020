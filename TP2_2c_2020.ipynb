{
  "nbformat": 4,
  "nbformat_minor": 0,
  "metadata": {
    "colab": {
      "name": "TP2 2c 2020.ipynb",
      "provenance": [],
      "collapsed_sections": [
        "5NvRrhUOrEpv",
        "9ewHMS-ygNPS",
        "O5HEIBMXmxps",
        "lP_c0s_PgPKn",
        "YjCt76D_rHMn",
        "GJYpToCYrfnk",
        "hyRdoRPf5wSN",
        "knmx6tPo01QZ",
        "q8JeolJN08kJ",
        "1xfzMbqiZrue",
        "S7uqV5xvL6Zo",
        "zVBNOzCKY0VD",
        "I-rXEcxr-Nns"
      ],
      "toc_visible": true
    },
    "kernelspec": {
      "display_name": "Python 3",
      "name": "python3"
    }
  },
  "cells": [
    {
      "cell_type": "markdown",
      "metadata": {
        "id": "LaZMud-2rKuY"
      },
      "source": [
        "# TP 2"
      ]
    },
    {
      "cell_type": "markdown",
      "metadata": {
        "id": "5NvRrhUOrEpv"
      },
      "source": [
        "## Imports"
      ]
    },
    {
      "cell_type": "markdown",
      "metadata": {
        "id": "xKefRXXOFaXI"
      },
      "source": [
        "### imports base"
      ]
    },
    {
      "cell_type": "code",
      "metadata": {
        "id": "ksz2M8HorAfb"
      },
      "source": [
        "import pandas as pd\r\n",
        "import numpy as np\r\n",
        "import matplotlib.pyplot as plt\r\n",
        "import seaborn as sns\r\n",
        "import plotly.graph_objects as go\r\n",
        "import matplotlib\r\n",
        "import plotly as py\r\n",
        "import plotly.express as px \r\n",
        "import matplotlib.ticker as ticker\r\n",
        "plt.style.use('default')\r\n",
        "import plotly.offline as opy\r\n",
        "import plotly.figure_factory as ff\r\n",
        "import plotly.io as pio\r\n",
        "from wordcloud import WordCloud\r\n",
        "from datetime import datetime\r\n",
        "from datetime import timedelta\r\n",
        "\r\n",
        "import math\r\n",
        "\r\n",
        "sns.set(style=\"whitegrid\")\r\n",
        "\r\n",
        "pd.options.display.float_format = '{:20,.2f}'.format \r\n",
        "\r\n",
        "import warnings\r\n",
        "warnings.filterwarnings('ignore')"
      ],
      "execution_count": null,
      "outputs": []
    },
    {
      "cell_type": "code",
      "metadata": {
        "id": "FXsLMcASl6Nj"
      },
      "source": [
        "from sklearn.datasets import make_classification\r\n",
        "from sklearn.model_selection import cross_val_score\r\n",
        "from sklearn.model_selection import RepeatedStratifiedKFold\r\n",
        "\r\n",
        "from sklearn.preprocessing import LabelEncoder\r\n",
        "from sklearn.metrics import make_scorer, accuracy_score\r\n",
        "from sklearn.model_selection import train_test_split, GridSearchCV\r\n",
        "\r\n",
        "from sklearn.preprocessing import LabelBinarizer\r\n",
        "from sklearn.preprocessing import OneHotEncoder\r\n",
        "from sklearn.preprocessing import MultiLabelBinarizer"
      ],
      "execution_count": null,
      "outputs": []
    },
    {
      "cell_type": "code",
      "metadata": {
        "colab": {
          "base_uri": "https://localhost:8080/"
        },
        "id": "IIqx2rkhPyQc",
        "outputId": "93ac0bcf-adb5-493a-9141-e5f640e2d83d"
      },
      "source": [
        "!pip3 install category_encoders"
      ],
      "execution_count": null,
      "outputs": [
        {
          "output_type": "stream",
          "text": [
            "Collecting category_encoders\n",
            "\u001b[?25l  Downloading https://files.pythonhosted.org/packages/44/57/fcef41c248701ee62e8325026b90c432adea35555cbc870aff9cfba23727/category_encoders-2.2.2-py2.py3-none-any.whl (80kB)\n",
            "\r\u001b[K     |████                            | 10kB 16.8MB/s eta 0:00:01\r\u001b[K     |████████▏                       | 20kB 18.5MB/s eta 0:00:01\r\u001b[K     |████████████▏                   | 30kB 11.3MB/s eta 0:00:01\r\u001b[K     |████████████████▎               | 40kB 9.2MB/s eta 0:00:01\r\u001b[K     |████████████████████▎           | 51kB 8.0MB/s eta 0:00:01\r\u001b[K     |████████████████████████▍       | 61kB 8.2MB/s eta 0:00:01\r\u001b[K     |████████████████████████████▍   | 71kB 8.5MB/s eta 0:00:01\r\u001b[K     |████████████████████████████████| 81kB 4.7MB/s \n",
            "\u001b[?25hRequirement already satisfied: numpy>=1.14.0 in /usr/local/lib/python3.6/dist-packages (from category_encoders) (1.19.5)\n",
            "Requirement already satisfied: patsy>=0.5.1 in /usr/local/lib/python3.6/dist-packages (from category_encoders) (0.5.1)\n",
            "Requirement already satisfied: scikit-learn>=0.20.0 in /usr/local/lib/python3.6/dist-packages (from category_encoders) (0.22.2.post1)\n",
            "Requirement already satisfied: pandas>=0.21.1 in /usr/local/lib/python3.6/dist-packages (from category_encoders) (1.1.5)\n",
            "Requirement already satisfied: scipy>=1.0.0 in /usr/local/lib/python3.6/dist-packages (from category_encoders) (1.4.1)\n",
            "Requirement already satisfied: statsmodels>=0.9.0 in /usr/local/lib/python3.6/dist-packages (from category_encoders) (0.10.2)\n",
            "Requirement already satisfied: six in /usr/local/lib/python3.6/dist-packages (from patsy>=0.5.1->category_encoders) (1.15.0)\n",
            "Requirement already satisfied: joblib>=0.11 in /usr/local/lib/python3.6/dist-packages (from scikit-learn>=0.20.0->category_encoders) (1.0.0)\n",
            "Requirement already satisfied: pytz>=2017.2 in /usr/local/lib/python3.6/dist-packages (from pandas>=0.21.1->category_encoders) (2018.9)\n",
            "Requirement already satisfied: python-dateutil>=2.7.3 in /usr/local/lib/python3.6/dist-packages (from pandas>=0.21.1->category_encoders) (2.8.1)\n",
            "Installing collected packages: category-encoders\n",
            "Successfully installed category-encoders-2.2.2\n"
          ],
          "name": "stdout"
        }
      ]
    },
    {
      "cell_type": "code",
      "metadata": {
        "id": "hnkHcErvPxSA"
      },
      "source": [
        "import category_encoders as ce"
      ],
      "execution_count": null,
      "outputs": []
    },
    {
      "cell_type": "code",
      "metadata": {
        "colab": {
          "base_uri": "https://localhost:8080/"
        },
        "id": "lsdRoO9XWT6i",
        "outputId": "3aff617a-2411-4f05-cc52-ca019cec824a"
      },
      "source": [
        "!pip3 install bayesian-optimization"
      ],
      "execution_count": null,
      "outputs": [
        {
          "output_type": "stream",
          "text": [
            "Collecting bayesian-optimization\n",
            "  Downloading https://files.pythonhosted.org/packages/bb/7a/fd8059a3881d3ab37ac8f72f56b73937a14e8bb14a9733e68cc8b17dbe3c/bayesian-optimization-1.2.0.tar.gz\n",
            "Requirement already satisfied: numpy>=1.9.0 in /usr/local/lib/python3.6/dist-packages (from bayesian-optimization) (1.19.5)\n",
            "Requirement already satisfied: scipy>=0.14.0 in /usr/local/lib/python3.6/dist-packages (from bayesian-optimization) (1.4.1)\n",
            "Requirement already satisfied: scikit-learn>=0.18.0 in /usr/local/lib/python3.6/dist-packages (from bayesian-optimization) (0.22.2.post1)\n",
            "Requirement already satisfied: joblib>=0.11 in /usr/local/lib/python3.6/dist-packages (from scikit-learn>=0.18.0->bayesian-optimization) (1.0.0)\n",
            "Building wheels for collected packages: bayesian-optimization\n",
            "  Building wheel for bayesian-optimization (setup.py) ... \u001b[?25l\u001b[?25hdone\n",
            "  Created wheel for bayesian-optimization: filename=bayesian_optimization-1.2.0-cp36-none-any.whl size=11685 sha256=89767499baaea403012fc2ea70ce564faaceef5dfb4e34036bf520c80a16ae82\n",
            "  Stored in directory: /root/.cache/pip/wheels/5a/56/ae/e0e3c1fc1954dc3ec712e2df547235ed072b448094d8f94aec\n",
            "Successfully built bayesian-optimization\n",
            "Installing collected packages: bayesian-optimization\n",
            "Successfully installed bayesian-optimization-1.2.0\n"
          ],
          "name": "stdout"
        }
      ]
    },
    {
      "cell_type": "code",
      "metadata": {
        "id": "7M6WrwvaWVeP"
      },
      "source": [
        "from bayes_opt import BayesianOptimization"
      ],
      "execution_count": null,
      "outputs": []
    },
    {
      "cell_type": "markdown",
      "metadata": {
        "id": "9ewHMS-ygNPS"
      },
      "source": [
        "### catboost"
      ]
    },
    {
      "cell_type": "code",
      "metadata": {
        "colab": {
          "base_uri": "https://localhost:8080/"
        },
        "id": "cpEGbEgDKgny",
        "outputId": "77313127-bec3-4880-bacf-abbe5ad7578f"
      },
      "source": [
        "#Ejecutar si no funciona el import\r\n",
        "!pip3 install catboost"
      ],
      "execution_count": null,
      "outputs": [
        {
          "output_type": "stream",
          "text": [
            "Collecting catboost\n",
            "\u001b[?25l  Downloading https://files.pythonhosted.org/packages/20/37/bc4e0ddc30c07a96482abf1de7ed1ca54e59bba2026a33bca6d2ef286e5b/catboost-0.24.4-cp36-none-manylinux1_x86_64.whl (65.7MB)\n",
            "\u001b[K     |████████████████████████████████| 65.8MB 69kB/s \n",
            "\u001b[?25hRequirement already satisfied: scipy in /usr/local/lib/python3.6/dist-packages (from catboost) (1.4.1)\n",
            "Requirement already satisfied: plotly in /usr/local/lib/python3.6/dist-packages (from catboost) (4.4.1)\n",
            "Requirement already satisfied: matplotlib in /usr/local/lib/python3.6/dist-packages (from catboost) (3.2.2)\n",
            "Requirement already satisfied: pandas>=0.24.0 in /usr/local/lib/python3.6/dist-packages (from catboost) (1.1.5)\n",
            "Requirement already satisfied: graphviz in /usr/local/lib/python3.6/dist-packages (from catboost) (0.10.1)\n",
            "Requirement already satisfied: six in /usr/local/lib/python3.6/dist-packages (from catboost) (1.15.0)\n",
            "Requirement already satisfied: numpy>=1.16.0 in /usr/local/lib/python3.6/dist-packages (from catboost) (1.19.5)\n",
            "Requirement already satisfied: retrying>=1.3.3 in /usr/local/lib/python3.6/dist-packages (from plotly->catboost) (1.3.3)\n",
            "Requirement already satisfied: python-dateutil>=2.1 in /usr/local/lib/python3.6/dist-packages (from matplotlib->catboost) (2.8.1)\n",
            "Requirement already satisfied: pyparsing!=2.0.4,!=2.1.2,!=2.1.6,>=2.0.1 in /usr/local/lib/python3.6/dist-packages (from matplotlib->catboost) (2.4.7)\n",
            "Requirement already satisfied: cycler>=0.10 in /usr/local/lib/python3.6/dist-packages (from matplotlib->catboost) (0.10.0)\n",
            "Requirement already satisfied: kiwisolver>=1.0.1 in /usr/local/lib/python3.6/dist-packages (from matplotlib->catboost) (1.3.1)\n",
            "Requirement already satisfied: pytz>=2017.2 in /usr/local/lib/python3.6/dist-packages (from pandas>=0.24.0->catboost) (2018.9)\n",
            "Installing collected packages: catboost\n",
            "Successfully installed catboost-0.24.4\n"
          ],
          "name": "stdout"
        }
      ]
    },
    {
      "cell_type": "code",
      "metadata": {
        "id": "g-eobQ2dKOwu"
      },
      "source": [
        "from catboost import CatBoostClassifier, Pool, cv"
      ],
      "execution_count": null,
      "outputs": []
    },
    {
      "cell_type": "markdown",
      "metadata": {
        "id": "O5HEIBMXmxps"
      },
      "source": [
        "### xgboost"
      ]
    },
    {
      "cell_type": "code",
      "metadata": {
        "colab": {
          "background_save": true,
          "base_uri": "https://localhost:8080/"
        },
        "id": "FJbpcCs5m0E8",
        "outputId": "39acd29c-35de-4690-a8f1-04c030e4ca97"
      },
      "source": [
        "!pip3 install xgboost"
      ],
      "execution_count": null,
      "outputs": [
        {
          "output_type": "stream",
          "text": [
            "Requirement already satisfied: xgboost in /usr/local/lib/python3.6/dist-packages (0.90)\n",
            "Requirement already satisfied: scipy in /usr/local/lib/python3.6/dist-packages (from xgboost) (1.4.1)\n",
            "Requirement already satisfied: numpy in /usr/local/lib/python3.6/dist-packages (from xgboost) (1.19.5)\n"
          ],
          "name": "stdout"
        }
      ]
    },
    {
      "cell_type": "code",
      "metadata": {
        "colab": {
          "background_save": true
        },
        "id": "MNXqp5z4nOOD"
      },
      "source": [
        "import xgboost as xgb"
      ],
      "execution_count": null,
      "outputs": []
    },
    {
      "cell_type": "markdown",
      "metadata": {
        "id": "lP_c0s_PgPKn"
      },
      "source": [
        "### lightgbm"
      ]
    },
    {
      "cell_type": "code",
      "metadata": {
        "colab": {
          "base_uri": "https://localhost:8080/"
        },
        "id": "vaGQFz-MgCbh",
        "outputId": "84f3a830-c23a-401b-da2e-9307b5221baa"
      },
      "source": [
        "!pip3 install lightgbm"
      ],
      "execution_count": null,
      "outputs": [
        {
          "output_type": "stream",
          "text": [
            "Requirement already satisfied: lightgbm in /usr/local/lib/python3.6/dist-packages (2.2.3)\n",
            "Requirement already satisfied: scipy in /usr/local/lib/python3.6/dist-packages (from lightgbm) (1.4.1)\n",
            "Requirement already satisfied: scikit-learn in /usr/local/lib/python3.6/dist-packages (from lightgbm) (0.22.2.post1)\n",
            "Requirement already satisfied: numpy in /usr/local/lib/python3.6/dist-packages (from lightgbm) (1.19.5)\n",
            "Requirement already satisfied: joblib>=0.11 in /usr/local/lib/python3.6/dist-packages (from scikit-learn->lightgbm) (1.0.0)\n"
          ],
          "name": "stdout"
        }
      ]
    },
    {
      "cell_type": "code",
      "metadata": {
        "id": "NDBZ9QETgLFz"
      },
      "source": [
        "import lightgbm as lgb\r\n",
        "#from lightgbm import LGBMClassifier"
      ],
      "execution_count": null,
      "outputs": []
    },
    {
      "cell_type": "markdown",
      "metadata": {
        "id": "qB5aPacbW0b9"
      },
      "source": [
        "### ramdom forest"
      ]
    },
    {
      "cell_type": "code",
      "metadata": {
        "colab": {
          "background_save": true
        },
        "id": "khyk5Vq_Wzfi"
      },
      "source": [
        "from sklearn.ensemble import RandomForestClassifier"
      ],
      "execution_count": null,
      "outputs": []
    },
    {
      "cell_type": "markdown",
      "metadata": {
        "id": "YjCt76D_rHMn"
      },
      "source": [
        "## lectura de datos"
      ]
    },
    {
      "cell_type": "code",
      "metadata": {
        "colab": {
          "base_uri": "https://localhost:8080/"
        },
        "id": "2MXb46VjrCnX",
        "outputId": "486ab68f-6bc3-4c74-d1ca-15549cf94e80"
      },
      "source": [
        "entrenamiento = pd.read_csv('Training.csv')\r\n",
        "entrenamiento.info()"
      ],
      "execution_count": null,
      "outputs": [
        {
          "output_type": "stream",
          "text": [
            "<class 'pandas.core.frame.DataFrame'>\n",
            "RangeIndex: 16947 entries, 0 to 16946\n",
            "Data columns (total 52 columns):\n",
            " #   Column                              Non-Null Count  Dtype  \n",
            "---  ------                              --------------  -----  \n",
            " 0   ID                                  16947 non-null  int64  \n",
            " 1   Region                              16947 non-null  object \n",
            " 2   Territory                           16947 non-null  object \n",
            " 3   Pricing, Delivery_Terms_Quote_Appr  16947 non-null  int64  \n",
            " 4   Pricing, Delivery_Terms_Approved    16947 non-null  int64  \n",
            " 5   Bureaucratic_Code_0_Approval        16947 non-null  int64  \n",
            " 6   Bureaucratic_Code_0_Approved        16947 non-null  int64  \n",
            " 7   Submitted_for_Approval              16947 non-null  int64  \n",
            " 8   Bureaucratic_Code                   16947 non-null  object \n",
            " 9   Account_Created_Date                16947 non-null  object \n",
            " 10  Source                              16947 non-null  object \n",
            " 11  Billing_Country                     16947 non-null  object \n",
            " 12  Account_Name                        16947 non-null  object \n",
            " 13  Opportunity_Name                    16947 non-null  object \n",
            " 14  Opportunity_ID                      16947 non-null  int64  \n",
            " 15  Sales_Contract_No                   16947 non-null  object \n",
            " 16  Account_Owner                       16947 non-null  object \n",
            " 17  Opportunity_Owner                   16947 non-null  object \n",
            " 18  Account_Type                        16947 non-null  object \n",
            " 19  Opportunity_Type                    16947 non-null  object \n",
            " 20  Quote_Type                          16947 non-null  object \n",
            " 21  Delivery_Terms                      16947 non-null  object \n",
            " 22  Opportunity_Created_Date            16947 non-null  object \n",
            " 23  Brand                               16947 non-null  object \n",
            " 24  Product_Type                        16947 non-null  object \n",
            " 25  Size                                16947 non-null  object \n",
            " 26  Product_Category_B                  16947 non-null  object \n",
            " 27  Price                               16947 non-null  object \n",
            " 28  Currency                            16947 non-null  object \n",
            " 29  Last_Activity                       16947 non-null  object \n",
            " 30  Quote_Expiry_Date                   16947 non-null  object \n",
            " 31  Last_Modified_Date                  16947 non-null  object \n",
            " 32  Last_Modified_By                    16947 non-null  object \n",
            " 33  Product_Family                      16947 non-null  object \n",
            " 34  Product_Name                        16947 non-null  object \n",
            " 35  ASP_Currency                        16947 non-null  object \n",
            " 36  ASP                                 13738 non-null  float64\n",
            " 37  ASP_(converted)_Currency            16947 non-null  object \n",
            " 38  ASP_(converted)                     13738 non-null  float64\n",
            " 39  Planned_Delivery_Start_Date         16947 non-null  object \n",
            " 40  Planned_Delivery_End_Date           16947 non-null  object \n",
            " 41  Month                               16947 non-null  object \n",
            " 42  Delivery_Quarter                    16947 non-null  object \n",
            " 43  Delivery_Year                       16947 non-null  int64  \n",
            " 44  Actual_Delivery_Date                16947 non-null  object \n",
            " 45  TRF                                 16947 non-null  int64  \n",
            " 46  Total_Amount_Currency               16947 non-null  object \n",
            " 47  Total_Amount                        16888 non-null  float64\n",
            " 48  Total_Taxable_Amount_Currency       16947 non-null  object \n",
            " 49  Total_Taxable_Amount                16947 non-null  float64\n",
            " 50  Stage                               16947 non-null  object \n",
            " 51  Prod_Category_A                     16947 non-null  object \n",
            "dtypes: float64(4), int64(9), object(39)\n",
            "memory usage: 6.7+ MB\n"
          ],
          "name": "stdout"
        }
      ]
    },
    {
      "cell_type": "code",
      "metadata": {
        "colab": {
          "base_uri": "https://localhost:8080/"
        },
        "id": "iqDzZndMrUDu",
        "outputId": "aa9760f3-20a6-4fb4-bb19-aabaf76f6460"
      },
      "source": [
        "testeo = pd.read_csv('Test.csv')\r\n",
        "testeo.info()"
      ],
      "execution_count": null,
      "outputs": [
        {
          "output_type": "stream",
          "text": [
            "<class 'pandas.core.frame.DataFrame'>\n",
            "RangeIndex: 2551 entries, 0 to 2550\n",
            "Data columns (total 51 columns):\n",
            " #   Column                              Non-Null Count  Dtype  \n",
            "---  ------                              --------------  -----  \n",
            " 0   ID                                  2551 non-null   int64  \n",
            " 1   Region                              2551 non-null   object \n",
            " 2   Territory                           2551 non-null   object \n",
            " 3   Pricing, Delivery_Terms_Quote_Appr  2551 non-null   int64  \n",
            " 4   Pricing, Delivery_Terms_Approved    2551 non-null   int64  \n",
            " 5   Bureaucratic_Code_0_Approval        2551 non-null   int64  \n",
            " 6   Bureaucratic_Code_0_Approved        2551 non-null   int64  \n",
            " 7   Submitted_for_Approval              2551 non-null   int64  \n",
            " 8   Bureaucratic_Code                   2551 non-null   object \n",
            " 9   Account_Created_Date                2551 non-null   object \n",
            " 10  Source                              2551 non-null   object \n",
            " 11  Billing_Country                     2551 non-null   object \n",
            " 12  Account_Name                        2551 non-null   object \n",
            " 13  Opportunity_Name                    2551 non-null   object \n",
            " 14  Opportunity_ID                      2551 non-null   int64  \n",
            " 15  Sales_Contract_No                   2551 non-null   object \n",
            " 16  Account_Owner                       2551 non-null   object \n",
            " 17  Opportunity_Owner                   2551 non-null   object \n",
            " 18  Account_Type                        2551 non-null   object \n",
            " 19  Opportunity_Type                    2551 non-null   object \n",
            " 20  Quote_Type                          2551 non-null   object \n",
            " 21  Delivery_Terms                      2551 non-null   object \n",
            " 22  Opportunity_Created_Date            2551 non-null   object \n",
            " 23  Brand                               2551 non-null   object \n",
            " 24  Product_Type                        2551 non-null   object \n",
            " 25  Size                                2551 non-null   object \n",
            " 26  Product_Category_B                  2551 non-null   object \n",
            " 27  Price                               2551 non-null   object \n",
            " 28  Currency                            2551 non-null   object \n",
            " 29  Last_Activity                       2551 non-null   object \n",
            " 30  Quote_Expiry_Date                   2551 non-null   object \n",
            " 31  Last_Modified_Date                  2551 non-null   object \n",
            " 32  Last_Modified_By                    2551 non-null   object \n",
            " 33  Product_Family                      2551 non-null   object \n",
            " 34  Product_Name                        2551 non-null   object \n",
            " 35  ASP_Currency                        2551 non-null   object \n",
            " 36  ASP                                 2467 non-null   float64\n",
            " 37  ASP_(converted)_Currency            2551 non-null   object \n",
            " 38  ASP_(converted)                     2467 non-null   float64\n",
            " 39  Planned_Delivery_Start_Date         2551 non-null   object \n",
            " 40  Planned_Delivery_End_Date           2551 non-null   object \n",
            " 41  Month                               2551 non-null   object \n",
            " 42  Delivery_Quarter                    2551 non-null   object \n",
            " 43  Delivery_Year                       2551 non-null   int64  \n",
            " 44  Actual_Delivery_Date                2551 non-null   object \n",
            " 45  TRF                                 2551 non-null   int64  \n",
            " 46  Total_Amount_Currency               2551 non-null   object \n",
            " 47  Total_Amount                        2551 non-null   float64\n",
            " 48  Total_Taxable_Amount_Currency       2551 non-null   object \n",
            " 49  Total_Taxable_Amount                2551 non-null   float64\n",
            " 50  Prod_Category_A                     2551 non-null   object \n",
            "dtypes: float64(4), int64(9), object(38)\n",
            "memory usage: 1016.5+ KB\n"
          ],
          "name": "stdout"
        }
      ]
    },
    {
      "cell_type": "code",
      "metadata": {
        "id": "ENwraghDdDLY"
      },
      "source": [
        "#hemisferios = pd.read_csv('hemisferios.csv')\r\n",
        "#hemisferios = convertirATipo(hemisferios,['Billing_Country','hemisferio'],'category')\r\n",
        "#hemisferios.info()"
      ],
      "execution_count": null,
      "outputs": []
    },
    {
      "cell_type": "code",
      "metadata": {
        "colab": {
          "base_uri": "https://localhost:8080/"
        },
        "id": "wiejksz3DUMi",
        "outputId": "87129c41-3686-4781-e20c-fda98e1b3730"
      },
      "source": [
        "#prueva de supuestos\r\n",
        "supuestos = pd.read_csv('EvaluacionTemporal.csv',index_col='Opportunity_ID')\r\n",
        "supuestos.info()"
      ],
      "execution_count": null,
      "outputs": [
        {
          "output_type": "stream",
          "text": [
            "<class 'pandas.core.frame.DataFrame'>\n",
            "Int64Index: 1567 entries, 10689 to 12368\n",
            "Data columns (total 1 columns):\n",
            " #   Column  Non-Null Count  Dtype  \n",
            "---  ------  --------------  -----  \n",
            " 0   Target  1567 non-null   float64\n",
            "dtypes: float64(1)\n",
            "memory usage: 24.5 KB\n"
          ],
          "name": "stdout"
        }
      ]
    },
    {
      "cell_type": "markdown",
      "metadata": {
        "id": "GJYpToCYrfnk"
      },
      "source": [
        "## prosesamiento de los df"
      ]
    },
    {
      "cell_type": "markdown",
      "metadata": {
        "id": "hyRdoRPf5wSN"
      },
      "source": [
        "### modificaciones de oportunidad"
      ]
    },
    {
      "cell_type": "code",
      "metadata": {
        "id": "Eno4a-uBFHOa"
      },
      "source": [
        "def convertirATiempo(df,lista):\r\n",
        "    for columna in lista:\r\n",
        "        df[columna] = pd.to_datetime(df[columna])\r\n",
        "    return df\r\n",
        "\r\n",
        "def convertirATipo(df,lista,tipo):\r\n",
        "    for columna in lista:\r\n",
        "        df[columna] = df[columna].astype(tipo)\r\n",
        "    return df\r\n",
        "\r\n",
        "def convertirAFlotante(df,lista):\r\n",
        "    for columna in lista:\r\n",
        "        df[columna] = df[columna].apply(lambda x: None if (x == \"None\" or x == \"Other\") else float(x))\r\n",
        "    return df\r\n",
        "\r\n",
        "def establecerTipos(df):\r\n",
        "    \"\"\"cambia los tipos de las columnas\"\"\"\r\n",
        "    \r\n",
        "    #fechas\r\n",
        "    listaDeColumnasFechas = ['Account_Created_Date','Opportunity_Created_Date','Quote_Expiry_Date','Last_Modified_Date','Delivery_Year','Planned_Delivery_End_Date','Planned_Delivery_Start_Date']\r\n",
        "    df = convertirATiempo(df,listaDeColumnasFechas)\r\n",
        "    #enteros\r\n",
        "    listaDeColumnasEnteras = ['ID','Opportunity_ID']\r\n",
        "    convertirATipo(df,listaDeColumnasEnteras,'int')\r\n",
        "    #decimales\r\n",
        "    listaDeColumnasEnteras = ['Price','ASP','ASP_(converted)','Total_Taxable_Amount','Total_Amount']\r\n",
        "    convertirAFlotante(df,listaDeColumnasEnteras)\r\n",
        "    #booleanos\r\n",
        "    listaDeColumnasBooleanas = ['Pricing, Delivery_Terms_Quote_Appr','Pricing, Delivery_Terms_Approved','Bureaucratic_Code_0_Approval','Bureaucratic_Code_0_Approved']\r\n",
        "    convertirATipo(df,listaDeColumnasBooleanas,'bool')\r\n",
        "    #categoricas\r\n",
        "    listaDeColumnasCategoricas = ['Product_Category_B','Product_Family','Region','Territory','Bureaucratic_Code','Source ','Billing_Country','Account_Name','Opportunity_Name']\r\n",
        "    convertirATipo(df,listaDeColumnasCategoricas,'category')\r\n",
        "    return df"
      ],
      "execution_count": null,
      "outputs": []
    },
    {
      "cell_type": "code",
      "metadata": {
        "id": "1afBmnwDE9AT"
      },
      "source": [
        "def agregarHemisferios(df):\r\n",
        "  #df.reset_index()\r\n",
        "  df = df.merge(hemisferios,how='left',on='Billing_Country')\r\n",
        "  df['hemisferio'] = df['hemisferio'].apply(lambda x: 'Desconocido' if (x != 'Norte' and x != 'Sur') else x)\r\n",
        "  convertirATipo(df,['hemisferio','Billing_Country'],'category')\r\n",
        "  #df.set_index('Opportunity_ID')\r\n",
        "  return df"
      ],
      "execution_count": null,
      "outputs": []
    },
    {
      "cell_type": "code",
      "metadata": {
        "id": "b6B7RcbRrqRk"
      },
      "source": [
        "def eliminarColumnasSinImportancia(df):\r\n",
        "    #\"Last_Activity\" y \"Actual_Delivery_Date\" son puros nulos\r\n",
        "    #\"Submitted_for_Approval\" puros valores nulos\r\n",
        "    #\"Prod_Category_A\" tiene todos sus valores iguales\r\n",
        "    df = df.drop(['Submitted_for_Approval','Last_Activity','Actual_Delivery_Date','Prod_Category_A'], axis=1)\r\n",
        "    return df\r\n",
        "\r\n",
        "def agregarColumnas(df):\r\n",
        "    df['Closed'] = df['Stage'].replace({'Closed Won': True, 'Closed Lost': True, 'Negotiation':False,'Proposal':False,'Qualification':False})#REVISAR\r\n",
        "    df['Won'] = df['Stage'].replace({'Closed Won': True, 'Closed Lost': False, 'Negotiation':False,'Proposal':False,'Qualification':False})\r\n",
        "    convertirATipo(df,['Stage'],'category')\r\n",
        "    return df\r\n",
        "\r\n",
        "def correccionDeTerritorios(df):\r\n",
        "    #se refiere a diferentes partes de usa\r\n",
        "    df = df.replace({'Territory':{'Central US':'USA','NE America':'USA', 'NW America':'USA','SW America':'USA','SE America':'USA'}})\r\n",
        "    #\r\n",
        "    df = df.replace({'Territory':{'KSA':'Saudi Arabia'}})\r\n",
        "    #No se ha encontrado la dorma de los siguientes datos 'Kosovo','South America', 'South East Asia', 'UAE (Dubai)', 'UAE (Others)' (en el caso de kosovo no lo grafica)\r\n",
        "    return df\r\n",
        "\r\n",
        "def preparacionDelDataFrame(df,entrenamiento=True):\r\n",
        "    df = eliminarColumnasSinImportancia(df)\r\n",
        "    df = establecerTipos(df)\r\n",
        "    df = correccionDeTerritorios(df)\r\n",
        "    df.rename(columns = {'Source ':'Source'}, inplace = True)\r\n",
        "    #df = agregarHemisferios(df)#desactivado desde el readcsv\r\n",
        "    if (entrenamiento):\r\n",
        "      df = agregarColumnas(df)\r\n",
        "    return df"
      ],
      "execution_count": null,
      "outputs": []
    },
    {
      "cell_type": "markdown",
      "metadata": {
        "id": "6b4gZg-W52iy"
      },
      "source": [
        "### por oportunidad"
      ]
    },
    {
      "cell_type": "code",
      "metadata": {
        "id": "W1BeGQYEAcMp"
      },
      "source": [
        "def desacerseDeNulosDateTime(df,columna):\r\n",
        "  df[columna] = df[columna].apply(lambda x: datetime.max if (x is None or x is np.NaN or x is pd.NaT) else x)\r\n",
        "  return df\r\n",
        "\r\n",
        "def descomposicionDeFechas(df,lista):\r\n",
        "  \"\"\"se nesesitan enteros no fechas\"\"\"\r\n",
        "  for columna in lista:\r\n",
        "    anio = columna + '_anio'\r\n",
        "    df[anio] = df[columna].apply(lambda x: x if x is None else x.year)\r\n",
        "    mes = columna + '_mes'\r\n",
        "    df[mes] = df[columna].apply(lambda x: x if x is None else x.month)\r\n",
        "    dia = columna + '_dia'\r\n",
        "    df[dia] = df[columna].apply(lambda x: x if (x is None) else x.day)\r\n",
        "  df = df.drop(lista, axis=1)\r\n",
        "  return df\r\n",
        "\r\n",
        "def establecerEstacion(df,columnaFecha):\r\n",
        "  estacion = columnaFecha + '_Estacion'\r\n",
        "  df[estacion] = 'Desconocido'\r\n",
        "  df['temporalEstaciones'] = df[columnaFecha].apply(lambda x: 'Desconocido' if x is None else estaciones(x,True))\r\n",
        "  df.loc[df['hemisferio'] == 'Norte' , estacion] = df['temporalEstaciones']\r\n",
        "  df['temporalEstaciones'] = df[columnaFecha].apply(lambda x: 'Desconocido' if x is None else estaciones(x,False))\r\n",
        "  df.loc[df['hemisferio'] == 'Sur' , estacion] = df['temporalEstaciones']\r\n",
        "  df = df.drop(['temporalEstaciones'], axis=1)\r\n",
        "  convertirATipo(df,[estacion],'category')\r\n",
        "  return df\r\n",
        "\r\n",
        "def estaciones(fecha,norte):\r\n",
        "  if (norte):\r\n",
        "    estaciones = ['primavera','verano','otoño','invierno']\r\n",
        "  else:\r\n",
        "    estaciones = ['otoño','invierno','primavera','verano']\r\n",
        "  if (fecha.month == 12 and fecha.day >= 21 or fecha.month <= 3 and fecha.day < 21):\r\n",
        "    return estaciones[3]\r\n",
        "  elif (fecha.month == 9 and fecha.day >= 21 or fecha.month > 9):\r\n",
        "    return estaciones[2]\r\n",
        "  elif (fecha.month == 6 and fecha.day >= 21 or fecha.month > 6):\r\n",
        "    return estaciones[1]\r\n",
        "  elif (fecha.month == 3 and fecha.day >= 21 or fecha.month > 3):\r\n",
        "    return estaciones[0]\r\n",
        "  else:\r\n",
        "    return 'Desconocido'\r\n",
        "\r\n",
        "def diferenciaDeFechasEnDias(diferenciaDeFechas):\r\n",
        "  return (diferenciaDeFechas.year * 365 + diferenciaDeFechas.month * 30 + diferenciaDeFechas.day)\r\n",
        "\r\n",
        "def diferenciaEntreFechas(df,colFechaInicial,colFechaFinal):\r\n",
        "  df['TiempoDeDiferencia'] = (df[colFechaFinal] - df[colFechaInicial])\r\n",
        "  df['TiempoDeDiferencia'] = pd.to_numeric(df['TiempoDeDiferencia'].dt.days, downcast='integer')#revisar si se conviete totalmente a dias\r\n",
        "  #df['TiempoDeDiferencia'] = df['TiempoDeDiferencia'].apply(lambda x: diferenciaDeFechasEnDias(x))\r\n",
        "  df = df.drop([colFechaInicial,colFechaFinal], axis=1)\r\n",
        "  return df"
      ],
      "execution_count": null,
      "outputs": []
    },
    {
      "cell_type": "code",
      "metadata": {
        "id": "hEXKmCHir-T4"
      },
      "source": [
        "def dataEntrenamiento(df):\r\n",
        "  data = df.groupby('Opportunity_ID').agg({'Won':'sum','Closed':'sum',\r\n",
        "                                           'modificaciones':'sum',\r\n",
        "                                           #'Won':'sum','modificaciones':'sum',\r\n",
        "                                           'Last_Modified_Date':'max','Opportunity_Created_Date':'min',\r\n",
        "                                           #'Price':'mean',#Demaciados nulos\r\n",
        "                                           #'Quote_Expiry_Date':'max',\r\n",
        "                                           'Pricing, Delivery_Terms_Quote_Appr':'sum',\r\n",
        "                                           'Pricing, Delivery_Terms_Approved':'sum',\r\n",
        "                                           'Bureaucratic_Code_0_Approval':'sum',\r\n",
        "                                           'Bureaucratic_Code_0_Approved':'sum',\r\n",
        "                                           'Account_Created_Date':'min',\r\n",
        "                                           'Total_Amount':'sum','Region':'first',\r\n",
        "                                           'Territory':'first',\r\n",
        "                                           'ASP_(converted)':'sum',\r\n",
        "                                           'Account_Type':'first',\r\n",
        "                                           'Delivery_Quarter':'first',\r\n",
        "                                           'Product_Type':'first',\r\n",
        "                                           'Product_Category_B':'first',\r\n",
        "                                           'Billing_Country':'first',\r\n",
        "                                           'Planned_Delivery_End_Date':'max',\r\n",
        "                                           'Planned_Delivery_Start_Date':'min',\r\n",
        "                                           'Delivery_Terms':'first',\r\n",
        "                                           'Product_Family':'first',\r\n",
        "                                           'TRF':'mean'\r\n",
        "                                           #'hemisferio':'first'\r\n",
        "                                           })#hay que seguir agregando cosas que son importantes\r\n",
        "  return data\r\n",
        "\r\n",
        "def dataTesteo(df):\r\n",
        "  data = df.groupby('Opportunity_ID').agg({'modificaciones':'sum',\r\n",
        "                                           'Last_Modified_Date':'max','Opportunity_Created_Date':'min',\r\n",
        "                                           #'Price':'mean',#Demaciados nulos\r\n",
        "                                           #'Quote_Expiry_Date':'max',\r\n",
        "                                           'Pricing, Delivery_Terms_Quote_Appr':'sum',\r\n",
        "                                           'Pricing, Delivery_Terms_Approved':'sum',\r\n",
        "                                           'Bureaucratic_Code_0_Approval':'sum',\r\n",
        "                                           'Bureaucratic_Code_0_Approved':'sum',\r\n",
        "                                           'Account_Created_Date':'min',\r\n",
        "                                           'Total_Amount':'sum','Region':'first',\r\n",
        "                                           'Territory':'first',\r\n",
        "                                           'ASP_(converted)':'sum',\r\n",
        "                                           'Account_Type':'first',\r\n",
        "                                           'Delivery_Quarter':'first',\r\n",
        "                                           'Product_Type':'first',\r\n",
        "                                           'Product_Category_B':'first',\r\n",
        "                                           'Billing_Country':'first',\r\n",
        "                                           'Planned_Delivery_End_Date':'max',\r\n",
        "                                           'Planned_Delivery_Start_Date':'min',\r\n",
        "                                           'Delivery_Terms':'first',\r\n",
        "                                           'Product_Family':'first',\r\n",
        "                                           'TRF':'mean'\r\n",
        "                                           #'hemisferio':'first'\r\n",
        "                                           })#hay que seguir agregando cosas que son importantes\r\n",
        "  return data  \r\n",
        "\r\n",
        "def agrupacionDeOportunidades(df,entrenamiento=True):\r\n",
        "  df['modificaciones'] = 1\r\n",
        "  if (entrenamiento):\r\n",
        "    data = dataEntrenamiento(df)\r\n",
        "    #Solo me interesa saber si se cerro con exito\r\n",
        "    #data['Closed'] = data['Closed'].agg(lambda x: 1 if x > 0 else 0)\r\n",
        "    data['Won'] = data['Won'].agg(lambda x: 1 if x > 0 else 0)\r\n",
        "    #data['Lost'] = data['Closed'] - data['Won']#si es won es closed pero si es closed y no es won es perdido\r\n",
        "    #data['Lost'] = data['Lost'].agg(lambda x: 1 if x > 0 else 0)\r\n",
        "\r\n",
        "    #REVISAR la importancia del caso no cerrado\r\n",
        "    data = data[data['Closed'] > 0]#no interesan los que no se cerraron, dado que no se cerraron no aportan\r\n",
        "    data = data.drop(['Closed'], axis=1)\r\n",
        "  else:\r\n",
        "    data = dataTesteo(df)\r\n",
        "\r\n",
        "  #data['Pricing, Delivery_Terms_Quote_Appr'] = data['Pricing, Delivery_Terms_Quote_Appr'].agg(lambda x: None if x == 0 else x)\r\n",
        "  #data['Pricing, Delivery_Terms_Approved'] = data['Pricing, Delivery_Terms_Approved'].agg(lambda x: None if x == 0 else x)\r\n",
        "  #data['Bureaucratic_Code_0_Approval'] = data['Bureaucratic_Code_0_Approval'].agg(lambda x: None if x == 0 else x)\r\n",
        "  #data['Bureaucratic_Code_0_Approved'] = data['Bureaucratic_Code_0_Approved'].agg(lambda x: None if x == 0 else x)\r\n",
        "  \"\"\"\r\n",
        "  data['Pricing, Delivery_Terms_Quote_Appr'] = data['Pricing, Delivery_Terms_Quote_Appr'].agg(lambda x: 1 if x > 0 else 0)\r\n",
        "  data['Pricing, Delivery_Terms_Approved'] = data['Pricing, Delivery_Terms_Approved'].agg(lambda x: 1 if x > 0 else 0)\r\n",
        "  data['Bureaucratic_Code_0_Approval'] = data['Bureaucratic_Code_0_Approval'].agg(lambda x: 1 if x > 0 else 0)\r\n",
        "  data['Bureaucratic_Code_0_Approved'] = data['Bureaucratic_Code_0_Approved'].agg(lambda x: 1 if x > 0 else 0)\r\n",
        "\r\n",
        "  #Condensando columnas\r\n",
        "  data['Pricing, Delivery_Terms_Approved'] = data['Pricing, Delivery_Terms_Quote_Appr'] + data['Pricing, Delivery_Terms_Approved']\r\n",
        "  data['Bureaucratic_Code_0_Approved'] = data['Bureaucratic_Code_0_Approval'] + data['Bureaucratic_Code_0_Approved']\r\n",
        "  data = data.drop(['Bureaucratic_Code_0_Approval','Pricing, Delivery_Terms_Quote_Appr'], axis=1)\r\n",
        "\r\n",
        "  data['Pricing, Delivery_Terms_Condensado'] = data['Pricing, Delivery_Terms_Quote_Appr'] + data['Pricing, Delivery_Terms_Approved']\r\n",
        "  data['Pricing, Delivery_Terms_Condensado'] = data['Pricing, Delivery_Terms_Condensado'].agg(lambda x: 1 if x > 1 else 0)\r\n",
        "  data = data.drop(['Pricing, Delivery_Terms_Quote_Appr','Pricing, Delivery_Terms_Approved'], axis=1)\r\n",
        "\r\n",
        "  data['Bureaucratic_Code_0_Condensado'] = data['Bureaucratic_Code_0_Approval'] + data['Bureaucratic_Code_0_Approved']\r\n",
        "  data['Bureaucratic_Code_0_Condensado'] = data['Bureaucratic_Code_0_Condensado'].agg(lambda x: 1 if x > 1 else 0)\r\n",
        "  data = data.drop(['Bureaucratic_Code_0_Approval','Bureaucratic_Code_0_Approved'], axis=1)\r\n",
        "  #data = data.replace({'Won':})\r\n",
        "\r\n",
        "  data['aprobacion'] = data['Pricing, Delivery_Terms_Condensado'] + data['Bureaucratic_Code_0_Condensado']\r\n",
        "  data['aprobacion'] = data['aprobacion'].agg(lambda x: 1 if x > 1 else 0)\r\n",
        "  data = data.drop(['Pricing, Delivery_Terms_Condensado','Bureaucratic_Code_0_Condensado'], axis=1)\r\n",
        "\r\n",
        "  \"\"\"\r\n",
        "\r\n",
        "  #categoricas\r\n",
        "  #listaDeColumnasCategoricas = ['Account_Type','Region','Territory','Delivery_Quarter']\r\n",
        "  listaDeColumnasCategoricas = ['Account_Type','Region','Territory','Billing_Country',\r\n",
        "                                'Delivery_Quarter','Product_Type','Product_Category_B',\r\n",
        "                                'Delivery_Terms','Product_Family']\r\n",
        "  convertirATipo(data,listaDeColumnasCategoricas,'category')\r\n",
        "\r\n",
        "  #data = establecerEstacion(data,'Opportunity_Created_Date')\r\n",
        "  #data = establecerEstacion(data,'Quote_Expiry_Date')\r\n",
        "  #data = desacerseDeNulosDateTime(data,'Quote_Expiry_Date')#si no hay fecha de expiracion se pre supone que es infinita\r\n",
        "\r\n",
        "  listaDeValoresDeFechas = ['Last_Modified_Date','Opportunity_Created_Date',\r\n",
        "                            'Account_Created_Date','Planned_Delivery_Start_Date','Planned_Delivery_End_Date']\r\n",
        "  data = descomposicionDeFechas(data,listaDeValoresDeFechas)\r\n",
        "\r\n",
        "  #enteros\r\n",
        "  #listaDeColumnasEnteras = ['Quote_Expiry_Date_anio','Quote_Expiry_Date_mes','Quote_Expiry_Date_dia']\r\n",
        "  #convertirATipo(data,listaDeColumnasEnteras,'int')\r\n",
        "  #data = agregarHemisferios(data)\r\n",
        "\r\n",
        "  #data = data.drop(['hemisferio'], axis=1)\r\n",
        "\r\n",
        "  #data = diferenciaEntreFechas(data,'Planned_Delivery_Start_Date','Planned_Delivery_End_Date')\r\n",
        "\r\n",
        "  return data"
      ],
      "execution_count": null,
      "outputs": []
    },
    {
      "cell_type": "markdown",
      "metadata": {
        "id": "vI8bOMI2wcR0"
      },
      "source": [
        "las siguientes columnas no fueron probadas hay que analizarlas\r\n",
        "\r\n",
        "Posibles columnas a usar:\r\n",
        "\r\n",
        "- Bureaucratic_Code\r\n",
        "- Delivery_Year (posibles datos repetidos)\r\n",
        "- Month (posibles datos repetidos)\r\n",
        "- Opportunity_Owner\r\n",
        "- Opportunity_Type\r\n",
        "- Product_Family\r\n",
        "- Product_Name\r\n",
        "- Quote_Type (muy desbalanceado)\r\n",
        "\r\n",
        "Revisar el contexto\r\n",
        "\r\n",
        "- Total_Amount_Currency\r\n",
        "- Total_Taxable_Amount\r\n",
        "- Total_Taxable_Amount_Currency\r\n",
        "- ASP\r\n",
        "- ASP_(converted)_Currency\r\n",
        "- ASP_Currency\r\n",
        "\r\n",
        "\r\n",
        "las columnas con gran catidad de nones parecen afectar positivamente el resultado hay que revisarlas una por una\r\n",
        "\r\n",
        "- Currency: Segun prueba de supuestos empeora el resultado\r\n",
        "- Brand: Segun prueba de supuestos empeora el resultado ligeramente\r\n",
        "- Size: Segun prueba de supuestos empeora el resultado ligeramente\r\n",
        "- Source: Segun prueba de supuestos empeora el resultado"
      ]
    },
    {
      "cell_type": "markdown",
      "metadata": {
        "id": "a_oK2tNOrgdr"
      },
      "source": [
        "### categoricas a enteros (caso de que el sistema predictor no reconosca category)"
      ]
    },
    {
      "cell_type": "code",
      "metadata": {
        "id": "zV3o96K3rqy_"
      },
      "source": [
        "def convertirCategoryEnEnteros(df1,df2,columna):\r\n",
        "  encoder = ce.BinaryEncoder(cols=[columna])\r\n",
        "  encoder.fit(df1)\r\n",
        "  #encoder.fit(df2)\r\n",
        "  df1 = encoder.transform(df1)\r\n",
        "  df2 = encoder.transform(df2)\r\n",
        "  return df1,df2\r\n"
      ],
      "execution_count": null,
      "outputs": []
    },
    {
      "cell_type": "markdown",
      "metadata": {
        "id": "kYzRJPBRvMs5"
      },
      "source": [
        "## Ejecucion de cambios"
      ]
    },
    {
      "cell_type": "markdown",
      "metadata": {
        "id": "knmx6tPo01QZ"
      },
      "source": [
        "### ejecucion por modificaciones de oportunidad"
      ]
    },
    {
      "cell_type": "code",
      "metadata": {
        "colab": {
          "base_uri": "https://localhost:8080/"
        },
        "id": "PaAnTWGor1uy",
        "outputId": "855738e6-3bbe-4fd5-a31f-e8ae907b50fa"
      },
      "source": [
        "entrenamientoProcesado = preparacionDelDataFrame(entrenamiento)\r\n",
        "entrenamientoProcesado.info()"
      ],
      "execution_count": null,
      "outputs": [
        {
          "output_type": "stream",
          "text": [
            "<class 'pandas.core.frame.DataFrame'>\n",
            "RangeIndex: 16947 entries, 0 to 16946\n",
            "Data columns (total 50 columns):\n",
            " #   Column                              Non-Null Count  Dtype         \n",
            "---  ------                              --------------  -----         \n",
            " 0   ID                                  16947 non-null  int64         \n",
            " 1   Region                              16947 non-null  category      \n",
            " 2   Territory                           16947 non-null  object        \n",
            " 3   Pricing, Delivery_Terms_Quote_Appr  16947 non-null  bool          \n",
            " 4   Pricing, Delivery_Terms_Approved    16947 non-null  bool          \n",
            " 5   Bureaucratic_Code_0_Approval        16947 non-null  bool          \n",
            " 6   Bureaucratic_Code_0_Approved        16947 non-null  bool          \n",
            " 7   Bureaucratic_Code                   16947 non-null  category      \n",
            " 8   Account_Created_Date                16947 non-null  datetime64[ns]\n",
            " 9   Source                              16947 non-null  category      \n",
            " 10  Billing_Country                     16947 non-null  category      \n",
            " 11  Account_Name                        16947 non-null  category      \n",
            " 12  Opportunity_Name                    16947 non-null  category      \n",
            " 13  Opportunity_ID                      16947 non-null  int64         \n",
            " 14  Sales_Contract_No                   16947 non-null  object        \n",
            " 15  Account_Owner                       16947 non-null  object        \n",
            " 16  Opportunity_Owner                   16947 non-null  object        \n",
            " 17  Account_Type                        16947 non-null  object        \n",
            " 18  Opportunity_Type                    16947 non-null  object        \n",
            " 19  Quote_Type                          16947 non-null  object        \n",
            " 20  Delivery_Terms                      16947 non-null  object        \n",
            " 21  Opportunity_Created_Date            16947 non-null  datetime64[ns]\n",
            " 22  Brand                               16947 non-null  object        \n",
            " 23  Product_Type                        16947 non-null  object        \n",
            " 24  Size                                16947 non-null  object        \n",
            " 25  Product_Category_B                  16947 non-null  category      \n",
            " 26  Price                               356 non-null    float64       \n",
            " 27  Currency                            16947 non-null  object        \n",
            " 28  Quote_Expiry_Date                   12322 non-null  datetime64[ns]\n",
            " 29  Last_Modified_Date                  16947 non-null  datetime64[ns]\n",
            " 30  Last_Modified_By                    16947 non-null  object        \n",
            " 31  Product_Family                      16947 non-null  category      \n",
            " 32  Product_Name                        16947 non-null  object        \n",
            " 33  ASP_Currency                        16947 non-null  object        \n",
            " 34  ASP                                 13738 non-null  float64       \n",
            " 35  ASP_(converted)_Currency            16947 non-null  object        \n",
            " 36  ASP_(converted)                     13738 non-null  float64       \n",
            " 37  Planned_Delivery_Start_Date         16947 non-null  datetime64[ns]\n",
            " 38  Planned_Delivery_End_Date           16872 non-null  datetime64[ns]\n",
            " 39  Month                               16947 non-null  object        \n",
            " 40  Delivery_Quarter                    16947 non-null  object        \n",
            " 41  Delivery_Year                       16947 non-null  datetime64[ns]\n",
            " 42  TRF                                 16947 non-null  int64         \n",
            " 43  Total_Amount_Currency               16947 non-null  object        \n",
            " 44  Total_Amount                        16888 non-null  float64       \n",
            " 45  Total_Taxable_Amount_Currency       16947 non-null  object        \n",
            " 46  Total_Taxable_Amount                16947 non-null  float64       \n",
            " 47  Stage                               16947 non-null  category      \n",
            " 48  Closed                              16947 non-null  bool          \n",
            " 49  Won                                 16947 non-null  bool          \n",
            "dtypes: bool(6), category(9), datetime64[ns](7), float64(5), int64(3), object(20)\n",
            "memory usage: 5.3+ MB\n"
          ],
          "name": "stdout"
        }
      ]
    },
    {
      "cell_type": "code",
      "metadata": {
        "colab": {
          "base_uri": "https://localhost:8080/"
        },
        "id": "HsNznYyLr21Z",
        "outputId": "bea49afa-95ee-4245-9cc9-d014e6b6b72e"
      },
      "source": [
        "testeoProsesado = preparacionDelDataFrame(testeo,False)\r\n",
        "testeoProsesado.info()"
      ],
      "execution_count": null,
      "outputs": [
        {
          "output_type": "stream",
          "text": [
            "<class 'pandas.core.frame.DataFrame'>\n",
            "RangeIndex: 2551 entries, 0 to 2550\n",
            "Data columns (total 47 columns):\n",
            " #   Column                              Non-Null Count  Dtype         \n",
            "---  ------                              --------------  -----         \n",
            " 0   ID                                  2551 non-null   int64         \n",
            " 1   Region                              2551 non-null   category      \n",
            " 2   Territory                           2551 non-null   object        \n",
            " 3   Pricing, Delivery_Terms_Quote_Appr  2551 non-null   bool          \n",
            " 4   Pricing, Delivery_Terms_Approved    2551 non-null   bool          \n",
            " 5   Bureaucratic_Code_0_Approval        2551 non-null   bool          \n",
            " 6   Bureaucratic_Code_0_Approved        2551 non-null   bool          \n",
            " 7   Bureaucratic_Code                   2551 non-null   category      \n",
            " 8   Account_Created_Date                2551 non-null   datetime64[ns]\n",
            " 9   Source                              2551 non-null   category      \n",
            " 10  Billing_Country                     2551 non-null   category      \n",
            " 11  Account_Name                        2551 non-null   category      \n",
            " 12  Opportunity_Name                    2551 non-null   category      \n",
            " 13  Opportunity_ID                      2551 non-null   int64         \n",
            " 14  Sales_Contract_No                   2551 non-null   object        \n",
            " 15  Account_Owner                       2551 non-null   object        \n",
            " 16  Opportunity_Owner                   2551 non-null   object        \n",
            " 17  Account_Type                        2551 non-null   object        \n",
            " 18  Opportunity_Type                    2551 non-null   object        \n",
            " 19  Quote_Type                          2551 non-null   object        \n",
            " 20  Delivery_Terms                      2551 non-null   object        \n",
            " 21  Opportunity_Created_Date            2551 non-null   datetime64[ns]\n",
            " 22  Brand                               2551 non-null   object        \n",
            " 23  Product_Type                        2551 non-null   object        \n",
            " 24  Size                                2551 non-null   object        \n",
            " 25  Product_Category_B                  2551 non-null   category      \n",
            " 26  Price                               160 non-null    float64       \n",
            " 27  Currency                            2551 non-null   object        \n",
            " 28  Quote_Expiry_Date                   1315 non-null   datetime64[ns]\n",
            " 29  Last_Modified_Date                  2551 non-null   datetime64[ns]\n",
            " 30  Last_Modified_By                    2551 non-null   object        \n",
            " 31  Product_Family                      2551 non-null   category      \n",
            " 32  Product_Name                        2551 non-null   object        \n",
            " 33  ASP_Currency                        2551 non-null   object        \n",
            " 34  ASP                                 2467 non-null   float64       \n",
            " 35  ASP_(converted)_Currency            2551 non-null   object        \n",
            " 36  ASP_(converted)                     2467 non-null   float64       \n",
            " 37  Planned_Delivery_Start_Date         2551 non-null   datetime64[ns]\n",
            " 38  Planned_Delivery_End_Date           2500 non-null   datetime64[ns]\n",
            " 39  Month                               2551 non-null   object        \n",
            " 40  Delivery_Quarter                    2551 non-null   object        \n",
            " 41  Delivery_Year                       2551 non-null   datetime64[ns]\n",
            " 42  TRF                                 2551 non-null   int64         \n",
            " 43  Total_Amount_Currency               2551 non-null   object        \n",
            " 44  Total_Amount                        2551 non-null   float64       \n",
            " 45  Total_Taxable_Amount_Currency       2551 non-null   object        \n",
            " 46  Total_Taxable_Amount                2551 non-null   float64       \n",
            "dtypes: bool(4), category(8), datetime64[ns](7), float64(5), int64(3), object(20)\n",
            "memory usage: 815.8+ KB\n"
          ],
          "name": "stdout"
        }
      ]
    },
    {
      "cell_type": "markdown",
      "metadata": {
        "id": "q8JeolJN08kJ"
      },
      "source": [
        "### ejecucion por oportunidad"
      ]
    },
    {
      "cell_type": "code",
      "metadata": {
        "colab": {
          "base_uri": "https://localhost:8080/"
        },
        "id": "4FaCKA1_1ANL",
        "outputId": "0f598103-87fb-452e-8c13-491d82702204"
      },
      "source": [
        "agrupacionEntrenamiento = agrupacionDeOportunidades(entrenamientoProcesado)\r\n",
        "agrupacionEntrenamiento.info()"
      ],
      "execution_count": 77,
      "outputs": [
        {
          "output_type": "stream",
          "text": [
            "<class 'pandas.core.frame.DataFrame'>\n",
            "Int64Index: 9791 entries, 0 to 12803\n",
            "Data columns (total 33 columns):\n",
            " #   Column                              Non-Null Count  Dtype   \n",
            "---  ------                              --------------  -----   \n",
            " 0   Won                                 9791 non-null   int64   \n",
            " 1   modificaciones                      9791 non-null   int64   \n",
            " 2   Pricing, Delivery_Terms_Quote_Appr  9791 non-null   int64   \n",
            " 3   Pricing, Delivery_Terms_Approved    9791 non-null   int64   \n",
            " 4   Bureaucratic_Code_0_Approval        9791 non-null   int64   \n",
            " 5   Bureaucratic_Code_0_Approved        9791 non-null   int64   \n",
            " 6   Total_Amount                        9791 non-null   float64 \n",
            " 7   Region                              9791 non-null   category\n",
            " 8   Territory                           9791 non-null   category\n",
            " 9   ASP_(converted)                     9791 non-null   float64 \n",
            " 10  Account_Type                        9791 non-null   category\n",
            " 11  Delivery_Quarter                    9791 non-null   category\n",
            " 12  Product_Type                        9791 non-null   category\n",
            " 13  Product_Category_B                  9791 non-null   category\n",
            " 14  Billing_Country                     9791 non-null   category\n",
            " 15  Delivery_Terms                      9791 non-null   category\n",
            " 16  Product_Family                      9791 non-null   category\n",
            " 17  TRF                                 9791 non-null   float64 \n",
            " 18  Last_Modified_Date_anio             9791 non-null   int64   \n",
            " 19  Last_Modified_Date_mes              9791 non-null   int64   \n",
            " 20  Last_Modified_Date_dia              9791 non-null   int64   \n",
            " 21  Opportunity_Created_Date_anio       9791 non-null   int64   \n",
            " 22  Opportunity_Created_Date_mes        9791 non-null   int64   \n",
            " 23  Opportunity_Created_Date_dia        9791 non-null   int64   \n",
            " 24  Account_Created_Date_anio           9791 non-null   int64   \n",
            " 25  Account_Created_Date_mes            9791 non-null   int64   \n",
            " 26  Account_Created_Date_dia            9791 non-null   int64   \n",
            " 27  Planned_Delivery_Start_Date_anio    9791 non-null   int64   \n",
            " 28  Planned_Delivery_Start_Date_mes     9791 non-null   int64   \n",
            " 29  Planned_Delivery_Start_Date_dia     9791 non-null   int64   \n",
            " 30  Planned_Delivery_End_Date_anio      9734 non-null   float64 \n",
            " 31  Planned_Delivery_End_Date_mes       9734 non-null   float64 \n",
            " 32  Planned_Delivery_End_Date_dia       9734 non-null   float64 \n",
            "dtypes: category(9), float64(6), int64(18)\n",
            "memory usage: 2.0 MB\n"
          ],
          "name": "stdout"
        }
      ]
    },
    {
      "cell_type": "code",
      "metadata": {
        "colab": {
          "base_uri": "https://localhost:8080/"
        },
        "id": "u45CZJXV1Flo",
        "outputId": "e03d5fb3-f8a3-4d06-c05a-a5556cd86df3"
      },
      "source": [
        "agrupacionTesteo = agrupacionDeOportunidades(testeoProsesado,False)\r\n",
        "agrupacionTesteo.info()"
      ],
      "execution_count": 78,
      "outputs": [
        {
          "output_type": "stream",
          "text": [
            "<class 'pandas.core.frame.DataFrame'>\n",
            "Int64Index: 1567 entries, 10689 to 12368\n",
            "Data columns (total 32 columns):\n",
            " #   Column                              Non-Null Count  Dtype   \n",
            "---  ------                              --------------  -----   \n",
            " 0   modificaciones                      1567 non-null   int64   \n",
            " 1   Pricing, Delivery_Terms_Quote_Appr  1567 non-null   int64   \n",
            " 2   Pricing, Delivery_Terms_Approved    1567 non-null   int64   \n",
            " 3   Bureaucratic_Code_0_Approval        1567 non-null   int64   \n",
            " 4   Bureaucratic_Code_0_Approved        1567 non-null   int64   \n",
            " 5   Total_Amount                        1567 non-null   float64 \n",
            " 6   Region                              1567 non-null   category\n",
            " 7   Territory                           1567 non-null   category\n",
            " 8   ASP_(converted)                     1567 non-null   float64 \n",
            " 9   Account_Type                        1567 non-null   category\n",
            " 10  Delivery_Quarter                    1567 non-null   category\n",
            " 11  Product_Type                        1567 non-null   category\n",
            " 12  Product_Category_B                  1567 non-null   category\n",
            " 13  Billing_Country                     1567 non-null   category\n",
            " 14  Delivery_Terms                      1567 non-null   category\n",
            " 15  Product_Family                      1567 non-null   category\n",
            " 16  TRF                                 1567 non-null   float64 \n",
            " 17  Last_Modified_Date_anio             1567 non-null   int64   \n",
            " 18  Last_Modified_Date_mes              1567 non-null   int64   \n",
            " 19  Last_Modified_Date_dia              1567 non-null   int64   \n",
            " 20  Opportunity_Created_Date_anio       1567 non-null   int64   \n",
            " 21  Opportunity_Created_Date_mes        1567 non-null   int64   \n",
            " 22  Opportunity_Created_Date_dia        1567 non-null   int64   \n",
            " 23  Account_Created_Date_anio           1567 non-null   int64   \n",
            " 24  Account_Created_Date_mes            1567 non-null   int64   \n",
            " 25  Account_Created_Date_dia            1567 non-null   int64   \n",
            " 26  Planned_Delivery_Start_Date_anio    1567 non-null   int64   \n",
            " 27  Planned_Delivery_Start_Date_mes     1567 non-null   int64   \n",
            " 28  Planned_Delivery_Start_Date_dia     1567 non-null   int64   \n",
            " 29  Planned_Delivery_End_Date_anio      1524 non-null   float64 \n",
            " 30  Planned_Delivery_End_Date_mes       1524 non-null   float64 \n",
            " 31  Planned_Delivery_End_Date_dia       1524 non-null   float64 \n",
            "dtypes: category(9), float64(6), int64(17)\n",
            "memory usage: 316.6 KB\n"
          ],
          "name": "stdout"
        }
      ]
    },
    {
      "cell_type": "markdown",
      "metadata": {
        "id": "1xfzMbqiZrue"
      },
      "source": [
        "### separacion de resultados de entrenamiento"
      ]
    },
    {
      "cell_type": "code",
      "metadata": {
        "colab": {
          "base_uri": "https://localhost:8080/"
        },
        "id": "3_W40iRfZ0e9",
        "outputId": "d432aa41-7a35-4657-eaf2-998b0e21a373"
      },
      "source": [
        "entrenamientoResultado = agrupacionEntrenamiento[['Won']]\r\n",
        "entrenamientoResultado.info()"
      ],
      "execution_count": 79,
      "outputs": [
        {
          "output_type": "stream",
          "text": [
            "<class 'pandas.core.frame.DataFrame'>\n",
            "Int64Index: 9791 entries, 0 to 12803\n",
            "Data columns (total 1 columns):\n",
            " #   Column  Non-Null Count  Dtype\n",
            "---  ------  --------------  -----\n",
            " 0   Won     9791 non-null   int64\n",
            "dtypes: int64(1)\n",
            "memory usage: 153.0 KB\n"
          ],
          "name": "stdout"
        }
      ]
    },
    {
      "cell_type": "code",
      "metadata": {
        "colab": {
          "base_uri": "https://localhost:8080/"
        },
        "id": "8-ZrGbyfaHH1",
        "outputId": "92ce06c2-7720-4dae-e8ed-5066e2d78be7"
      },
      "source": [
        "agrupacionEntrenamiento = agrupacionEntrenamiento.drop(['Won'], axis=1)\r\n",
        "agrupacionEntrenamiento.info()"
      ],
      "execution_count": 80,
      "outputs": [
        {
          "output_type": "stream",
          "text": [
            "<class 'pandas.core.frame.DataFrame'>\n",
            "Int64Index: 9791 entries, 0 to 12803\n",
            "Data columns (total 32 columns):\n",
            " #   Column                              Non-Null Count  Dtype   \n",
            "---  ------                              --------------  -----   \n",
            " 0   modificaciones                      9791 non-null   int64   \n",
            " 1   Pricing, Delivery_Terms_Quote_Appr  9791 non-null   int64   \n",
            " 2   Pricing, Delivery_Terms_Approved    9791 non-null   int64   \n",
            " 3   Bureaucratic_Code_0_Approval        9791 non-null   int64   \n",
            " 4   Bureaucratic_Code_0_Approved        9791 non-null   int64   \n",
            " 5   Total_Amount                        9791 non-null   float64 \n",
            " 6   Region                              9791 non-null   category\n",
            " 7   Territory                           9791 non-null   category\n",
            " 8   ASP_(converted)                     9791 non-null   float64 \n",
            " 9   Account_Type                        9791 non-null   category\n",
            " 10  Delivery_Quarter                    9791 non-null   category\n",
            " 11  Product_Type                        9791 non-null   category\n",
            " 12  Product_Category_B                  9791 non-null   category\n",
            " 13  Billing_Country                     9791 non-null   category\n",
            " 14  Delivery_Terms                      9791 non-null   category\n",
            " 15  Product_Family                      9791 non-null   category\n",
            " 16  TRF                                 9791 non-null   float64 \n",
            " 17  Last_Modified_Date_anio             9791 non-null   int64   \n",
            " 18  Last_Modified_Date_mes              9791 non-null   int64   \n",
            " 19  Last_Modified_Date_dia              9791 non-null   int64   \n",
            " 20  Opportunity_Created_Date_anio       9791 non-null   int64   \n",
            " 21  Opportunity_Created_Date_mes        9791 non-null   int64   \n",
            " 22  Opportunity_Created_Date_dia        9791 non-null   int64   \n",
            " 23  Account_Created_Date_anio           9791 non-null   int64   \n",
            " 24  Account_Created_Date_mes            9791 non-null   int64   \n",
            " 25  Account_Created_Date_dia            9791 non-null   int64   \n",
            " 26  Planned_Delivery_Start_Date_anio    9791 non-null   int64   \n",
            " 27  Planned_Delivery_Start_Date_mes     9791 non-null   int64   \n",
            " 28  Planned_Delivery_Start_Date_dia     9791 non-null   int64   \n",
            " 29  Planned_Delivery_End_Date_anio      9734 non-null   float64 \n",
            " 30  Planned_Delivery_End_Date_mes       9734 non-null   float64 \n",
            " 31  Planned_Delivery_End_Date_dia       9734 non-null   float64 \n",
            "dtypes: category(9), float64(6), int64(17)\n",
            "memory usage: 1.9 MB\n"
          ],
          "name": "stdout"
        }
      ]
    },
    {
      "cell_type": "markdown",
      "metadata": {
        "id": "S7uqV5xvL6Zo"
      },
      "source": [
        "## Prueva"
      ]
    },
    {
      "cell_type": "markdown",
      "metadata": {
        "id": "MtY8vcczJZDx"
      },
      "source": [
        "### prueva todo igual"
      ]
    },
    {
      "cell_type": "code",
      "metadata": {
        "colab": {
          "base_uri": "https://localhost:8080/"
        },
        "id": "NunGAz88MAbb",
        "outputId": "5170d3a3-8f8c-49da-8639-bedfcf41853f"
      },
      "source": [
        "prueva = agrupacionTesteo.reset_index()\r\n",
        "prueva = prueva[['Opportunity_ID']]\r\n",
        "prueva['prediccion'] = 0.5\r\n",
        "prueva\r\n",
        "prueva.info()"
      ],
      "execution_count": null,
      "outputs": [
        {
          "output_type": "stream",
          "text": [
            "<class 'pandas.core.frame.DataFrame'>\n",
            "RangeIndex: 1567 entries, 0 to 1566\n",
            "Data columns (total 2 columns):\n",
            " #   Column          Non-Null Count  Dtype\n",
            "---  ------          --------------  -----\n",
            " 0   Opportunity_ID  1567 non-null   int64\n",
            " 1   prediccion      1567 non-null   int64\n",
            "dtypes: int64(2)\n",
            "memory usage: 24.6 KB\n"
          ],
          "name": "stdout"
        }
      ]
    },
    {
      "cell_type": "code",
      "metadata": {
        "colab": {
          "base_uri": "https://localhost:8080/"
        },
        "id": "awlnBfcMPa1n",
        "outputId": "1d302155-3c1f-42b6-f583-659c772ce562"
      },
      "source": [
        "prueva = agrupacionTesteo\r\n",
        "prueva['Target'] = 0.5\r\n",
        "prueva = prueva[['Target']]\r\n",
        "prueva.info()"
      ],
      "execution_count": null,
      "outputs": [
        {
          "output_type": "stream",
          "text": [
            "<class 'pandas.core.frame.DataFrame'>\n",
            "Int64Index: 1567 entries, 10689 to 12368\n",
            "Data columns (total 1 columns):\n",
            " #   Column  Non-Null Count  Dtype  \n",
            "---  ------  --------------  -----  \n",
            " 0   Target  1567 non-null   float64\n",
            "dtypes: float64(1)\n",
            "memory usage: 24.5 KB\n"
          ],
          "name": "stdout"
        }
      ]
    },
    {
      "cell_type": "code",
      "metadata": {
        "id": "r0aMgBvBPDCg"
      },
      "source": [
        "from google.colab import files\r\n",
        "\r\n",
        "prueva.to_csv('prueva.csv')\r\n",
        "#files.download('resultado.csv')"
      ],
      "execution_count": null,
      "outputs": []
    },
    {
      "cell_type": "markdown",
      "metadata": {
        "id": "6JZVeYsgJcg4"
      },
      "source": [
        "### prueva supuestamete bien (demasiado arbitraria para funcionar)"
      ]
    },
    {
      "cell_type": "code",
      "metadata": {
        "colab": {
          "base_uri": "https://localhost:8080/"
        },
        "id": "yeLzHmGeEo3t",
        "outputId": "391052ae-7a10-4fc4-de00-c80ec23c62dd"
      },
      "source": [
        "serieDiferenciasDeSupuestos = dataResultante['Target'] - supuestos['Target']\r\n",
        "serieDiferenciasDeSupuestos = serieDiferenciasDeSupuestos.agg(lambda x: abs(x))\r\n",
        "#valores a vencer\r\n",
        "#0.2570274780297901 0.06006494971598539 0.24508151647153115\r\n",
        "#0.2507114153988768 0.06688690577185248 0.25862502928342507\r\n",
        "#0.25239717054295296 0.06270391586504633 0.25040749961821496\r\n",
        "print(serieDiferenciasDeSupuestos.mean(),serieDiferenciasDeSupuestos.var(),serieDiferenciasDeSupuestos.std())"
      ],
      "execution_count": 192,
      "outputs": [
        {
          "output_type": "stream",
          "text": [
            "0.2834110466187937 0.0455177037706077 0.21334878431949805\n"
          ],
          "name": "stdout"
        }
      ]
    },
    {
      "cell_type": "code",
      "metadata": {
        "colab": {
          "base_uri": "https://localhost:8080/"
        },
        "id": "E7LA9XW1EU6G",
        "outputId": "09b3210b-f163-43d8-c7c9-91facaa1da14"
      },
      "source": [
        "\r\n",
        "print(serieDiferenciasDeSupuestos.mean(),serieDiferenciasDeSupuestos.var(),serieDiferenciasDeSupuestos.std())"
      ],
      "execution_count": null,
      "outputs": [
        {
          "output_type": "stream",
          "text": [
            "0.2507114153988768 0.06688690577185248 0.25862502928342507\n"
          ],
          "name": "stdout"
        }
      ]
    },
    {
      "cell_type": "code",
      "metadata": {
        "id": "_xJF8IyS1ebN"
      },
      "source": [
        "supuestos['TargetBinario'] = supuestos['Target'].agg(lambda x: 1 if x > 0.5 else 0)"
      ],
      "execution_count": null,
      "outputs": []
    },
    {
      "cell_type": "code",
      "metadata": {
        "colab": {
          "base_uri": "https://localhost:8080/"
        },
        "id": "yOyesMcn1tgY",
        "outputId": "f986a725-cb2d-433b-fd6d-36170930d2b1"
      },
      "source": [
        "serieDiferenciasDeSupuestos = dataResultante['Target'] - supuestos['TargetBinario']\r\n",
        "serieDiferenciasDeSupuestos = serieDiferenciasDeSupuestos.agg(lambda x: abs(x))\r\n",
        "#0.29328282239325076 0.066288348418729 0.25746523730152193\r\n",
        "print(serieDiferenciasDeSupuestos.mean(),serieDiferenciasDeSupuestos.var(),serieDiferenciasDeSupuestos.std())"
      ],
      "execution_count": 193,
      "outputs": [
        {
          "output_type": "stream",
          "text": [
            "0.327814826632631 0.04688975465941205 0.21654042269149668\n"
          ],
          "name": "stdout"
        }
      ]
    },
    {
      "cell_type": "code",
      "metadata": {
        "colab": {
          "base_uri": "https://localhost:8080/"
        },
        "id": "T_eJk_tByPDK",
        "outputId": "0a9a639a-d481-4e83-8a48-7799a43ff4e7"
      },
      "source": [
        "dataResultante['Target'].agg(lambda x: 1 if x < 0.55 and x > 0.45 else 0).value_counts()"
      ],
      "execution_count": 194,
      "outputs": [
        {
          "output_type": "execute_result",
          "data": {
            "text/plain": [
              "0    1419\n",
              "1     148\n",
              "Name: Target, dtype: int64"
            ]
          },
          "metadata": {
            "tags": []
          },
          "execution_count": 194
        }
      ]
    },
    {
      "cell_type": "code",
      "metadata": {
        "colab": {
          "base_uri": "https://localhost:8080/"
        },
        "id": "hSt4jpEWFP03",
        "outputId": "4d35a3e7-0e48-436d-d39e-314d8b484274"
      },
      "source": [
        "#prueva de supuestos\r\n",
        "#vencer = pd.read_csv('valoresAVencer.csv',index_col='Opportunity_ID')\r\n",
        "#vencer.info()"
      ],
      "execution_count": null,
      "outputs": [
        {
          "output_type": "stream",
          "text": [
            "<class 'pandas.core.frame.DataFrame'>\n",
            "Int64Index: 1567 entries, 10689 to 12368\n",
            "Data columns (total 1 columns):\n",
            " #   Column  Non-Null Count  Dtype  \n",
            "---  ------  --------------  -----  \n",
            " 0   Target  1567 non-null   float64\n",
            "dtypes: float64(1)\n",
            "memory usage: 24.5 KB\n"
          ],
          "name": "stdout"
        }
      ]
    },
    {
      "cell_type": "markdown",
      "metadata": {
        "id": "zVBNOzCKY0VD"
      },
      "source": [
        "## Resultado"
      ]
    },
    {
      "cell_type": "code",
      "metadata": {
        "id": "bU-Rs00eY2ix"
      },
      "source": [
        "def generarResultado(df,prediccion):\r\n",
        "  resultado = df\r\n",
        "  resultado['Target'] = prediccion\r\n",
        "  resultado = resultado[['Target']]\r\n",
        "  resultado.to_csv('resultado.csv')\r\n",
        "  return resultado"
      ],
      "execution_count": null,
      "outputs": []
    },
    {
      "cell_type": "code",
      "metadata": {
        "id": "YqPqyX1ihs-Q"
      },
      "source": [
        "def auxiliarUnificarValor(arreglo):\r\n",
        "  return arreglo[:,0]"
      ],
      "execution_count": null,
      "outputs": []
    },
    {
      "cell_type": "markdown",
      "metadata": {
        "id": "J983upopKwQx"
      },
      "source": [
        "## Catboost"
      ]
    },
    {
      "cell_type": "markdown",
      "metadata": {
        "id": "I-rXEcxr-Nns"
      },
      "source": [
        "### grid search"
      ]
    },
    {
      "cell_type": "code",
      "metadata": {
        "id": "_fzOaeis953k"
      },
      "source": [
        "def GridSearchCatboost(train_data_o,train_labels,cat_features):\r\n",
        "  \"\"\"clf = CatBoostClassifier()\r\n",
        "  params = {'iterations': [500],\r\n",
        "            'depth': [4, 5, 6],\r\n",
        "            #'loss_function': ['Logloss', 'CrossEntropy'],\r\n",
        "            'l2_leaf_reg': np.logspace(-10, 1, 50),\r\n",
        "            'leaf_estimation_iterations': [10],\r\n",
        "            'learning_rate': [0.5,0.25,0.05],\r\n",
        "            'rsm' : [0.7,0.5]\r\n",
        "            #'eval_metric': ['Accuracy'],\r\n",
        "            #'use_best_model': ['True'],\r\n",
        "            #'logging_level':['Silent'],\r\n",
        "            #'random_seed': [42]\r\n",
        "          }\r\n",
        "  scorer = make_scorer(accuracy_score)\r\n",
        "  clf_grid = GridSearchCV(estimator=clf, param_grid=params, scoring=scorer, cv=5)\r\n",
        "  clf_grid.fit(X_train_enc, y_train,cat_features)\r\n",
        "  best_param = clf_grid.best_params_\r\n",
        "  return best_param\"\"\"\r\n",
        "  model = CatBoostClassifier(loss_function='Logloss')\r\n",
        "  #model = CatBoostClassifier(loss_function='CrossEntropy')\r\n",
        "\r\n",
        "  train_data = train_data_o\r\n",
        "  # convert categorical columns to integers\r\n",
        "  for header in cat_features:\r\n",
        "    train_data[header] = train_data[header].astype('category').cat.codes\r\n",
        "\r\n",
        "  grid = {'learning_rate': list(np.arange(0.05,0.51,0.05)),\r\n",
        "          'depth': list(range(6,13,2)),\r\n",
        "          'l2_leaf_reg': list(np.arange(2,5.1,0.5)),\r\n",
        "          'iterations': list(range(10,101,15)),\r\n",
        "          'rsm':list(np.arange(0.1,1.1,0.1))\r\n",
        "          }\r\n",
        "\r\n",
        "  grid_search_result = model.grid_search(grid, \r\n",
        "                                        X=train_data, \r\n",
        "                                        y=train_labels,\r\n",
        "                                        cv=10,\r\n",
        "                                        plot=True)\r\n",
        "  \r\n",
        "  return grid_search_result"
      ],
      "execution_count": null,
      "outputs": []
    },
    {
      "cell_type": "code",
      "metadata": {
        "id": "Pf2F-A-IBfPH"
      },
      "source": [
        "listaDeCategoricas = ['Region','Territory','Product_Type','Product_Category_B',\r\n",
        "                      'Account_Type','Delivery_Quarter','Billing_Country']\r\n",
        "#listaDeCategoricas = []\r\n",
        "valores = GridSearchCatboost(agrupacionEntrenamiento,entrenamientoResultado,listaDeCategoricas)\r\n",
        "valores"
      ],
      "execution_count": null,
      "outputs": []
    },
    {
      "cell_type": "markdown",
      "metadata": {
        "id": "eXu5RWvjWtP-"
      },
      "source": [
        "### bayesian"
      ]
    },
    {
      "cell_type": "code",
      "metadata": {
        "id": "sAAZRp5tWwS-"
      },
      "source": [
        "def catboost_classifier(learning_rate, depth, l2_leaf_reg,iterations,rsm):\r\n",
        "    params = {\r\n",
        "        \"loss_function\": \"Logloss\",\r\n",
        "        #\"eval_metric\" : \"AUC\", \r\n",
        "        \"depth\" : int(depth),\r\n",
        "        \"l2_leaf_reg\" : l2_leaf_reg,\r\n",
        "        \"learning_rate\" : learning_rate,\r\n",
        "        #\"random_state\" : 42,\r\n",
        "        \"rsm\" : rsm,\r\n",
        "        \"iterations\": int(iterations)\r\n",
        "        #\"logging_level\" : \"Silent\",\r\n",
        "        #\"thread_count\": 24,\r\n",
        "        #\"num_boost_round\": int(num_boost_round)\r\n",
        "    }\r\n",
        "    X_train = agrupacionEntrenamiento\r\n",
        "    y_train = entrenamientoResultado\r\n",
        "    categorical_features = ['Region','Territory','Product_Type','Product_Category_B',\r\n",
        "                            'Account_Type','Delivery_Quarter','Billing_Country']\r\n",
        "\r\n",
        "    train_data = Pool(data=X_train, label=y_train, \r\n",
        "                               cat_features=categorical_features)\r\n",
        "    \r\n",
        "    cv_result = cv(train_data,\r\n",
        "                       params,\r\n",
        "                       early_stopping_rounds=100,\r\n",
        "                       stratified=True,\r\n",
        "                       nfold=3)\r\n",
        "    return cv_result['train-Logloss-mean'].iloc[-1]\r\n",
        "\r\n",
        "def bayesianoCatboost():\r\n",
        "  grid = {'learning_rate': (0.01,0.10),\r\n",
        "          'depth': (8,14),\r\n",
        "          'l2_leaf_reg': (0.1,3.0),\r\n",
        "          'iterations': (10,100),\r\n",
        "          'rsm':(0.01,1.0)\r\n",
        "          }\r\n",
        "  catboostBO = BayesianOptimization(catboost_classifier, grid)\r\n",
        "\r\n",
        "  return catboostBO.maximize(n_iter=15, init_points=2)"
      ],
      "execution_count": null,
      "outputs": []
    },
    {
      "cell_type": "code",
      "metadata": {
        "colab": {
          "base_uri": "https://localhost:8080/"
        },
        "id": "hRhmFXIFXlLU",
        "outputId": "ad37e4d4-defb-40c6-ba86-13595911aabb"
      },
      "source": [
        "bayesianoCatboost()\r\n",
        "#catboost_classifier(0.05,10,3.5,20,0.5)"
      ],
      "execution_count": null,
      "outputs": [
        {
          "output_type": "stream",
          "text": [
            "|   iter    |  target   |   depth   | iterat... | l2_lea... | learni... |    rsm    |\n",
            "-------------------------------------------------------------------------------------\n",
            "0:\tlearn: 0.6794059\ttest: 0.6801177\tbest: 0.6801177 (0)\ttotal: 154ms\tremaining: 12.2s\n",
            "1:\tlearn: 0.6666912\ttest: 0.6682458\tbest: 0.6682458 (1)\ttotal: 319ms\tremaining: 12.5s\n",
            "2:\tlearn: 0.6540947\ttest: 0.6565980\tbest: 0.6565980 (2)\ttotal: 475ms\tremaining: 12.2s\n",
            "3:\tlearn: 0.6418077\ttest: 0.6448695\tbest: 0.6448695 (3)\ttotal: 635ms\tremaining: 12.1s\n",
            "4:\tlearn: 0.6289087\ttest: 0.6325313\tbest: 0.6325313 (4)\ttotal: 791ms\tremaining: 11.9s\n",
            "5:\tlearn: 0.6171969\ttest: 0.6210287\tbest: 0.6210287 (5)\ttotal: 930ms\tremaining: 11.5s\n",
            "6:\tlearn: 0.6061907\ttest: 0.6105018\tbest: 0.6105018 (6)\ttotal: 1.08s\tremaining: 11.3s\n",
            "7:\tlearn: 0.5972383\ttest: 0.6014687\tbest: 0.6014687 (7)\ttotal: 1.24s\tremaining: 11.2s\n",
            "8:\tlearn: 0.5875914\ttest: 0.5920759\tbest: 0.5920759 (8)\ttotal: 1.4s\tremaining: 11.1s\n",
            "9:\tlearn: 0.5771851\ttest: 0.5821646\tbest: 0.5821646 (9)\ttotal: 1.55s\tremaining: 10.9s\n",
            "10:\tlearn: 0.5688640\ttest: 0.5740710\tbest: 0.5740710 (10)\ttotal: 1.71s\tremaining: 10.7s\n",
            "11:\tlearn: 0.5599564\ttest: 0.5654103\tbest: 0.5654103 (11)\ttotal: 1.86s\tremaining: 10.6s\n",
            "12:\tlearn: 0.5511958\ttest: 0.5571288\tbest: 0.5571288 (12)\ttotal: 2.04s\tremaining: 10.5s\n",
            "13:\tlearn: 0.5437942\ttest: 0.5503559\tbest: 0.5503559 (13)\ttotal: 2.19s\tremaining: 10.3s\n",
            "14:\tlearn: 0.5373351\ttest: 0.5443761\tbest: 0.5443761 (14)\ttotal: 2.33s\tremaining: 10.1s\n",
            "15:\tlearn: 0.5305582\ttest: 0.5378230\tbest: 0.5378230 (15)\ttotal: 2.5s\tremaining: 10s\n",
            "16:\tlearn: 0.5253740\ttest: 0.5328839\tbest: 0.5328839 (16)\ttotal: 2.66s\tremaining: 9.87s\n",
            "17:\tlearn: 0.5188627\ttest: 0.5265735\tbest: 0.5265735 (17)\ttotal: 2.82s\tremaining: 9.72s\n",
            "18:\tlearn: 0.5132479\ttest: 0.5214086\tbest: 0.5214086 (18)\ttotal: 2.97s\tremaining: 9.55s\n",
            "19:\tlearn: 0.5081883\ttest: 0.5165941\tbest: 0.5165941 (19)\ttotal: 3.13s\tremaining: 9.38s\n",
            "20:\tlearn: 0.5030523\ttest: 0.5120616\tbest: 0.5120616 (20)\ttotal: 3.28s\tremaining: 9.22s\n",
            "21:\tlearn: 0.4984942\ttest: 0.5080675\tbest: 0.5080675 (21)\ttotal: 3.43s\tremaining: 9.05s\n",
            "22:\tlearn: 0.4934801\ttest: 0.5034576\tbest: 0.5034576 (22)\ttotal: 3.58s\tremaining: 8.88s\n",
            "23:\tlearn: 0.4887284\ttest: 0.4990367\tbest: 0.4990367 (23)\ttotal: 3.75s\tremaining: 8.74s\n",
            "24:\tlearn: 0.4845451\ttest: 0.4952819\tbest: 0.4952819 (24)\ttotal: 3.91s\tremaining: 8.6s\n",
            "25:\tlearn: 0.4798344\ttest: 0.4913627\tbest: 0.4913627 (25)\ttotal: 4.07s\tremaining: 8.45s\n",
            "26:\tlearn: 0.4755569\ttest: 0.4875373\tbest: 0.4875373 (26)\ttotal: 4.22s\tremaining: 8.29s\n",
            "27:\tlearn: 0.4719317\ttest: 0.4844017\tbest: 0.4844017 (27)\ttotal: 4.37s\tremaining: 8.11s\n",
            "28:\tlearn: 0.4688024\ttest: 0.4817446\tbest: 0.4817446 (28)\ttotal: 4.51s\tremaining: 7.93s\n",
            "29:\tlearn: 0.4649249\ttest: 0.4783141\tbest: 0.4783141 (29)\ttotal: 4.66s\tremaining: 7.77s\n",
            "30:\tlearn: 0.4614393\ttest: 0.4751217\tbest: 0.4751217 (30)\ttotal: 4.82s\tremaining: 7.62s\n",
            "31:\tlearn: 0.4579297\ttest: 0.4721720\tbest: 0.4721720 (31)\ttotal: 4.97s\tremaining: 7.46s\n",
            "32:\tlearn: 0.4550589\ttest: 0.4696284\tbest: 0.4696284 (32)\ttotal: 5.12s\tremaining: 7.3s\n",
            "33:\tlearn: 0.4521700\ttest: 0.4672730\tbest: 0.4672730 (33)\ttotal: 5.28s\tremaining: 7.14s\n",
            "34:\tlearn: 0.4490809\ttest: 0.4644406\tbest: 0.4644406 (34)\ttotal: 5.42s\tremaining: 6.96s\n",
            "35:\tlearn: 0.4468386\ttest: 0.4625154\tbest: 0.4625154 (35)\ttotal: 5.56s\tremaining: 6.8s\n",
            "36:\tlearn: 0.4442391\ttest: 0.4603391\tbest: 0.4603391 (36)\ttotal: 5.72s\tremaining: 6.65s\n",
            "37:\tlearn: 0.4411228\ttest: 0.4578972\tbest: 0.4578972 (37)\ttotal: 5.89s\tremaining: 6.51s\n",
            "38:\tlearn: 0.4387341\ttest: 0.4559152\tbest: 0.4559152 (38)\ttotal: 6.04s\tremaining: 6.35s\n",
            "39:\tlearn: 0.4364577\ttest: 0.4539801\tbest: 0.4539801 (39)\ttotal: 6.19s\tremaining: 6.19s\n",
            "40:\tlearn: 0.4345963\ttest: 0.4524817\tbest: 0.4524817 (40)\ttotal: 6.34s\tremaining: 6.03s\n",
            "41:\tlearn: 0.4327644\ttest: 0.4508849\tbest: 0.4508849 (41)\ttotal: 6.5s\tremaining: 5.88s\n",
            "42:\tlearn: 0.4308627\ttest: 0.4492904\tbest: 0.4492904 (42)\ttotal: 6.64s\tremaining: 5.71s\n",
            "43:\tlearn: 0.4294892\ttest: 0.4481650\tbest: 0.4481650 (43)\ttotal: 6.79s\tremaining: 5.55s\n",
            "44:\tlearn: 0.4276049\ttest: 0.4466579\tbest: 0.4466579 (44)\ttotal: 6.95s\tremaining: 5.4s\n",
            "45:\tlearn: 0.4259457\ttest: 0.4453406\tbest: 0.4453406 (45)\ttotal: 7.11s\tremaining: 5.26s\n",
            "46:\tlearn: 0.4243655\ttest: 0.4440484\tbest: 0.4440484 (46)\ttotal: 7.25s\tremaining: 5.09s\n",
            "47:\tlearn: 0.4229439\ttest: 0.4426239\tbest: 0.4426239 (47)\ttotal: 7.4s\tremaining: 4.93s\n",
            "48:\tlearn: 0.4208711\ttest: 0.4407839\tbest: 0.4407839 (48)\ttotal: 7.55s\tremaining: 4.78s\n",
            "49:\tlearn: 0.4187447\ttest: 0.4391081\tbest: 0.4391081 (49)\ttotal: 7.69s\tremaining: 4.62s\n",
            "50:\tlearn: 0.4168905\ttest: 0.4378143\tbest: 0.4378143 (50)\ttotal: 7.83s\tremaining: 4.46s\n",
            "51:\tlearn: 0.4149180\ttest: 0.4361666\tbest: 0.4361666 (51)\ttotal: 8s\tremaining: 4.3s\n",
            "52:\tlearn: 0.4134438\ttest: 0.4350837\tbest: 0.4350837 (52)\ttotal: 8.15s\tremaining: 4.15s\n",
            "53:\tlearn: 0.4117801\ttest: 0.4338646\tbest: 0.4338646 (53)\ttotal: 8.3s\tremaining: 4s\n",
            "54:\tlearn: 0.4107424\ttest: 0.4330748\tbest: 0.4330748 (54)\ttotal: 8.44s\tremaining: 3.83s\n",
            "55:\tlearn: 0.4094117\ttest: 0.4320186\tbest: 0.4320186 (55)\ttotal: 8.58s\tremaining: 3.68s\n",
            "56:\tlearn: 0.4076834\ttest: 0.4307561\tbest: 0.4307561 (56)\ttotal: 8.72s\tremaining: 3.52s\n",
            "57:\tlearn: 0.4059860\ttest: 0.4296707\tbest: 0.4296707 (57)\ttotal: 8.88s\tremaining: 3.37s\n",
            "58:\tlearn: 0.4045447\ttest: 0.4286233\tbest: 0.4286233 (58)\ttotal: 9.04s\tremaining: 3.22s\n",
            "59:\tlearn: 0.4028561\ttest: 0.4274568\tbest: 0.4274568 (59)\ttotal: 9.2s\tremaining: 3.06s\n",
            "60:\tlearn: 0.4016437\ttest: 0.4266355\tbest: 0.4266355 (60)\ttotal: 9.34s\tremaining: 2.91s\n",
            "61:\tlearn: 0.4003194\ttest: 0.4255932\tbest: 0.4255932 (61)\ttotal: 9.49s\tremaining: 2.75s\n",
            "62:\tlearn: 0.3990402\ttest: 0.4247288\tbest: 0.4247288 (62)\ttotal: 9.64s\tremaining: 2.6s\n",
            "63:\tlearn: 0.3980706\ttest: 0.4240182\tbest: 0.4240182 (63)\ttotal: 9.79s\tremaining: 2.45s\n",
            "64:\tlearn: 0.3964711\ttest: 0.4229883\tbest: 0.4229883 (64)\ttotal: 9.93s\tremaining: 2.29s\n",
            "65:\tlearn: 0.3955935\ttest: 0.4224212\tbest: 0.4224212 (65)\ttotal: 10.1s\tremaining: 2.14s\n",
            "66:\tlearn: 0.3943593\ttest: 0.4216817\tbest: 0.4216817 (66)\ttotal: 10.2s\tremaining: 1.98s\n",
            "67:\tlearn: 0.3934328\ttest: 0.4210181\tbest: 0.4210181 (67)\ttotal: 10.4s\tremaining: 1.83s\n",
            "68:\tlearn: 0.3917560\ttest: 0.4200346\tbest: 0.4200346 (68)\ttotal: 10.5s\tremaining: 1.68s\n",
            "69:\tlearn: 0.3906074\ttest: 0.4193228\tbest: 0.4193228 (69)\ttotal: 10.7s\tremaining: 1.52s\n",
            "70:\tlearn: 0.3893462\ttest: 0.4185285\tbest: 0.4185285 (70)\ttotal: 10.8s\tremaining: 1.37s\n",
            "71:\tlearn: 0.3881354\ttest: 0.4175201\tbest: 0.4175201 (71)\ttotal: 11s\tremaining: 1.22s\n",
            "72:\tlearn: 0.3868315\ttest: 0.4165752\tbest: 0.4165752 (72)\ttotal: 11.1s\tremaining: 1.07s\n",
            "73:\tlearn: 0.3855402\ttest: 0.4157642\tbest: 0.4157642 (73)\ttotal: 11.3s\tremaining: 916ms\n",
            "74:\tlearn: 0.3844619\ttest: 0.4150505\tbest: 0.4150505 (74)\ttotal: 11.4s\tremaining: 762ms\n",
            "75:\tlearn: 0.3832697\ttest: 0.4143251\tbest: 0.4143251 (75)\ttotal: 11.6s\tremaining: 610ms\n",
            "76:\tlearn: 0.3820002\ttest: 0.4135469\tbest: 0.4135469 (76)\ttotal: 11.7s\tremaining: 457ms\n",
            "77:\tlearn: 0.3807356\ttest: 0.4128701\tbest: 0.4128701 (77)\ttotal: 11.9s\tremaining: 304ms\n",
            "78:\tlearn: 0.3795974\ttest: 0.4123087\tbest: 0.4123087 (78)\ttotal: 12s\tremaining: 152ms\n",
            "79:\tlearn: 0.3782884\ttest: 0.4112777\tbest: 0.4112777 (79)\ttotal: 12.2s\tremaining: 0us\n",
            "| \u001b[0m 1       \u001b[0m | \u001b[0m 0.3783  \u001b[0m | \u001b[0m 8.333   \u001b[0m | \u001b[0m 80.19   \u001b[0m | \u001b[0m 2.674   \u001b[0m | \u001b[0m 0.03217 \u001b[0m | \u001b[0m 0.3096  \u001b[0m |\n",
            "0:\tlearn: 0.6397778\ttest: 0.6450029\tbest: 0.6450029 (0)\ttotal: 187ms\tremaining: 9.94s\n",
            "1:\tlearn: 0.5960103\ttest: 0.6053278\tbest: 0.6053278 (1)\ttotal: 358ms\tremaining: 9.31s\n",
            "2:\tlearn: 0.5661581\ttest: 0.5764188\tbest: 0.5764188 (2)\ttotal: 503ms\tremaining: 8.55s\n",
            "3:\tlearn: 0.5369288\ttest: 0.5504122\tbest: 0.5504122 (3)\ttotal: 674ms\tremaining: 8.42s\n",
            "4:\tlearn: 0.5105985\ttest: 0.5277466\tbest: 0.5277466 (4)\ttotal: 847ms\tremaining: 8.3s\n",
            "5:\tlearn: 0.4893532\ttest: 0.5107225\tbest: 0.5107225 (5)\ttotal: 1s\tremaining: 8.05s\n",
            "6:\tlearn: 0.4666888\ttest: 0.4936736\tbest: 0.4936736 (6)\ttotal: 1.18s\tremaining: 7.93s\n",
            "7:\tlearn: 0.4526158\ttest: 0.4819139\tbest: 0.4819139 (7)\ttotal: 1.36s\tremaining: 7.8s\n",
            "8:\tlearn: 0.4365443\ttest: 0.4703190\tbest: 0.4703190 (8)\ttotal: 1.53s\tremaining: 7.64s\n",
            "9:\tlearn: 0.4228884\ttest: 0.4617193\tbest: 0.4617193 (9)\ttotal: 1.7s\tremaining: 7.46s\n",
            "10:\tlearn: 0.4082197\ttest: 0.4515598\tbest: 0.4515598 (10)\ttotal: 1.86s\tremaining: 7.29s\n",
            "11:\tlearn: 0.3990049\ttest: 0.4451128\tbest: 0.4451128 (11)\ttotal: 2.04s\tremaining: 7.14s\n",
            "12:\tlearn: 0.3899259\ttest: 0.4394868\tbest: 0.4394868 (12)\ttotal: 2.21s\tremaining: 6.96s\n",
            "13:\tlearn: 0.3805339\ttest: 0.4335730\tbest: 0.4335730 (13)\ttotal: 2.38s\tremaining: 6.79s\n",
            "14:\tlearn: 0.3729206\ttest: 0.4294898\tbest: 0.4294898 (14)\ttotal: 2.55s\tremaining: 6.63s\n",
            "15:\tlearn: 0.3662055\ttest: 0.4255298\tbest: 0.4255298 (15)\ttotal: 2.72s\tremaining: 6.46s\n",
            "16:\tlearn: 0.3578054\ttest: 0.4211509\tbest: 0.4211509 (16)\ttotal: 2.88s\tremaining: 6.28s\n",
            "17:\tlearn: 0.3498293\ttest: 0.4171986\tbest: 0.4171986 (17)\ttotal: 3.05s\tremaining: 6.1s\n",
            "18:\tlearn: 0.3450965\ttest: 0.4145905\tbest: 0.4145905 (18)\ttotal: 3.22s\tremaining: 5.93s\n",
            "19:\tlearn: 0.3395328\ttest: 0.4110117\tbest: 0.4110117 (19)\ttotal: 3.39s\tremaining: 5.77s\n",
            "20:\tlearn: 0.3351382\ttest: 0.4086232\tbest: 0.4086232 (20)\ttotal: 3.56s\tremaining: 5.59s\n",
            "21:\tlearn: 0.3313064\ttest: 0.4071507\tbest: 0.4071507 (21)\ttotal: 3.73s\tremaining: 5.43s\n",
            "22:\tlearn: 0.3248421\ttest: 0.4043232\tbest: 0.4043232 (22)\ttotal: 3.9s\tremaining: 5.25s\n",
            "23:\tlearn: 0.3203026\ttest: 0.4025385\tbest: 0.4025385 (23)\ttotal: 4.06s\tremaining: 5.07s\n",
            "24:\tlearn: 0.3161711\ttest: 0.4001774\tbest: 0.4001774 (24)\ttotal: 4.23s\tremaining: 4.91s\n",
            "25:\tlearn: 0.3105991\ttest: 0.3971587\tbest: 0.3971587 (25)\ttotal: 4.41s\tremaining: 4.75s\n",
            "26:\tlearn: 0.3074044\ttest: 0.3951336\tbest: 0.3951336 (26)\ttotal: 4.6s\tremaining: 4.6s\n",
            "27:\tlearn: 0.3046969\ttest: 0.3940136\tbest: 0.3940136 (27)\ttotal: 4.76s\tremaining: 4.42s\n",
            "28:\tlearn: 0.3017614\ttest: 0.3929459\tbest: 0.3929459 (28)\ttotal: 4.95s\tremaining: 4.27s\n",
            "29:\tlearn: 0.2970671\ttest: 0.3912166\tbest: 0.3912166 (29)\ttotal: 5.14s\tremaining: 4.11s\n",
            "30:\tlearn: 0.2937792\ttest: 0.3895100\tbest: 0.3895100 (30)\ttotal: 5.33s\tremaining: 3.95s\n",
            "31:\tlearn: 0.2898829\ttest: 0.3883216\tbest: 0.3883216 (31)\ttotal: 5.49s\tremaining: 3.77s\n",
            "32:\tlearn: 0.2869287\ttest: 0.3868264\tbest: 0.3868264 (32)\ttotal: 5.66s\tremaining: 3.6s\n",
            "33:\tlearn: 0.2838673\ttest: 0.3856636\tbest: 0.3856636 (33)\ttotal: 5.84s\tremaining: 3.44s\n",
            "34:\tlearn: 0.2804693\ttest: 0.3844517\tbest: 0.3844517 (34)\ttotal: 6s\tremaining: 3.26s\n",
            "35:\tlearn: 0.2764558\ttest: 0.3833322\tbest: 0.3833322 (35)\ttotal: 6.2s\tremaining: 3.1s\n",
            "36:\tlearn: 0.2748697\ttest: 0.3824818\tbest: 0.3824818 (36)\ttotal: 6.37s\tremaining: 2.92s\n",
            "37:\tlearn: 0.2723410\ttest: 0.3814389\tbest: 0.3814389 (37)\ttotal: 6.55s\tremaining: 2.76s\n",
            "38:\tlearn: 0.2700074\ttest: 0.3803870\tbest: 0.3803870 (38)\ttotal: 6.73s\tremaining: 2.59s\n",
            "39:\tlearn: 0.2672485\ttest: 0.3792500\tbest: 0.3792500 (39)\ttotal: 6.9s\tremaining: 2.42s\n",
            "40:\tlearn: 0.2658059\ttest: 0.3787642\tbest: 0.3787642 (40)\ttotal: 7.06s\tremaining: 2.24s\n",
            "41:\tlearn: 0.2610414\ttest: 0.3773505\tbest: 0.3773505 (41)\ttotal: 7.24s\tremaining: 2.07s\n",
            "42:\tlearn: 0.2565884\ttest: 0.3761282\tbest: 0.3761282 (42)\ttotal: 7.42s\tremaining: 1.9s\n",
            "43:\tlearn: 0.2541430\ttest: 0.3755580\tbest: 0.3755580 (43)\ttotal: 7.59s\tremaining: 1.72s\n",
            "44:\tlearn: 0.2521400\ttest: 0.3749705\tbest: 0.3749705 (44)\ttotal: 7.74s\tremaining: 1.55s\n",
            "45:\tlearn: 0.2503464\ttest: 0.3742872\tbest: 0.3742872 (45)\ttotal: 7.92s\tremaining: 1.38s\n",
            "46:\tlearn: 0.2487281\ttest: 0.3739038\tbest: 0.3739038 (46)\ttotal: 8.09s\tremaining: 1.2s\n",
            "47:\tlearn: 0.2469596\ttest: 0.3734756\tbest: 0.3734756 (47)\ttotal: 8.25s\tremaining: 1.03s\n",
            "48:\tlearn: 0.2443558\ttest: 0.3730373\tbest: 0.3730373 (48)\ttotal: 8.4s\tremaining: 857ms\n",
            "49:\tlearn: 0.2412933\ttest: 0.3721711\tbest: 0.3721711 (49)\ttotal: 8.56s\tremaining: 685ms\n",
            "50:\tlearn: 0.2389146\ttest: 0.3715061\tbest: 0.3715061 (50)\ttotal: 8.75s\tremaining: 514ms\n",
            "51:\tlearn: 0.2367969\ttest: 0.3710382\tbest: 0.3710382 (51)\ttotal: 8.91s\tremaining: 343ms\n",
            "52:\tlearn: 0.2344852\ttest: 0.3701576\tbest: 0.3701576 (52)\ttotal: 9.11s\tremaining: 172ms\n",
            "53:\tlearn: 0.2313613\ttest: 0.3696966\tbest: 0.3696966 (53)\ttotal: 9.28s\tremaining: 0us\n",
            "| \u001b[0m 2       \u001b[0m | \u001b[0m 0.2314  \u001b[0m | \u001b[0m 10.71   \u001b[0m | \u001b[0m 54.67   \u001b[0m | \u001b[0m 1.544   \u001b[0m | \u001b[0m 0.09759 \u001b[0m | \u001b[0m 0.5363  \u001b[0m |\n",
            "0:\tlearn: 0.5787415\ttest: 0.6159485\tbest: 0.6159485 (0)\ttotal: 992ms\tremaining: 1m 38s\n",
            "1:\tlearn: 0.4954806\ttest: 0.5609503\tbest: 0.5609503 (1)\ttotal: 1.91s\tremaining: 1m 33s\n",
            "2:\tlearn: 0.4283721\ttest: 0.5215394\tbest: 0.5215394 (2)\ttotal: 2.72s\tremaining: 1m 27s\n",
            "3:\tlearn: 0.3898445\ttest: 0.4944329\tbest: 0.4944329 (3)\ttotal: 3.37s\tremaining: 1m 20s\n",
            "4:\tlearn: 0.3422706\ttest: 0.4710051\tbest: 0.4710051 (4)\ttotal: 4.29s\tremaining: 1m 21s\n",
            "5:\tlearn: 0.3128345\ttest: 0.4547135\tbest: 0.4547135 (5)\ttotal: 4.96s\tremaining: 1m 17s\n",
            "6:\tlearn: 0.2839962\ttest: 0.4398877\tbest: 0.4398877 (6)\ttotal: 5.63s\tremaining: 1m 14s\n",
            "7:\tlearn: 0.2516493\ttest: 0.4287572\tbest: 0.4287572 (7)\ttotal: 6.57s\tremaining: 1m 15s\n",
            "8:\tlearn: 0.2435875\ttest: 0.4252365\tbest: 0.4252365 (8)\ttotal: 6.94s\tremaining: 1m 10s\n",
            "9:\tlearn: 0.2193729\ttest: 0.4183666\tbest: 0.4183666 (9)\ttotal: 7.87s\tremaining: 1m 10s\n",
            "10:\tlearn: 0.1971565\ttest: 0.4117917\tbest: 0.4117917 (10)\ttotal: 8.83s\tremaining: 1m 11s\n",
            "11:\tlearn: 0.1766867\ttest: 0.4083680\tbest: 0.4083680 (11)\ttotal: 9.74s\tremaining: 1m 11s\n",
            "12:\tlearn: 0.1644541\ttest: 0.4044507\tbest: 0.4044507 (12)\ttotal: 10.4s\tremaining: 1m 9s\n",
            "13:\tlearn: 0.1547263\ttest: 0.4014564\tbest: 0.4014564 (13)\ttotal: 11s\tremaining: 1m 7s\n",
            "14:\tlearn: 0.1456336\ttest: 0.3983941\tbest: 0.3983941 (14)\ttotal: 11.9s\tremaining: 1m 7s\n",
            "15:\tlearn: 0.1379082\ttest: 0.3952222\tbest: 0.3952222 (15)\ttotal: 12.8s\tremaining: 1m 7s\n",
            "16:\tlearn: 0.1298025\ttest: 0.3926298\tbest: 0.3926298 (16)\ttotal: 13.7s\tremaining: 1m 6s\n",
            "17:\tlearn: 0.1255704\ttest: 0.3908440\tbest: 0.3908440 (17)\ttotal: 14.4s\tremaining: 1m 5s\n",
            "18:\tlearn: 0.1147652\ttest: 0.3895379\tbest: 0.3895379 (18)\ttotal: 15.3s\tremaining: 1m 5s\n",
            "19:\tlearn: 0.1098314\ttest: 0.3889670\tbest: 0.3889670 (19)\ttotal: 15.9s\tremaining: 1m 3s\n",
            "20:\tlearn: 0.1074866\ttest: 0.3876105\tbest: 0.3876105 (20)\ttotal: 16.6s\tremaining: 1m 2s\n",
            "21:\tlearn: 0.1046653\ttest: 0.3869426\tbest: 0.3869426 (21)\ttotal: 17.2s\tremaining: 1m\n",
            "22:\tlearn: 0.0969220\ttest: 0.3870362\tbest: 0.3869426 (21)\ttotal: 18.1s\tremaining: 1m\n",
            "23:\tlearn: 0.0912783\ttest: 0.3860632\tbest: 0.3860632 (23)\ttotal: 19s\tremaining: 1m\n",
            "24:\tlearn: 0.0859127\ttest: 0.3858334\tbest: 0.3858334 (24)\ttotal: 19.9s\tremaining: 59.6s\n",
            "25:\tlearn: 0.0824953\ttest: 0.3857440\tbest: 0.3857440 (25)\ttotal: 20.5s\tremaining: 58.4s\n",
            "26:\tlearn: 0.0783104\ttest: 0.3845153\tbest: 0.3845153 (26)\ttotal: 21.4s\tremaining: 57.9s\n",
            "27:\tlearn: 0.0745408\ttest: 0.3853298\tbest: 0.3845153 (26)\ttotal: 22.4s\tremaining: 57.5s\n",
            "28:\tlearn: 0.0695401\ttest: 0.3852937\tbest: 0.3845153 (26)\ttotal: 23.3s\tremaining: 57s\n",
            "29:\tlearn: 0.0687414\ttest: 0.3847774\tbest: 0.3845153 (26)\ttotal: 23.7s\tremaining: 55.3s\n",
            "30:\tlearn: 0.0668466\ttest: 0.3847574\tbest: 0.3845153 (26)\ttotal: 24.6s\tremaining: 54.8s\n",
            "31:\tlearn: 0.0635251\ttest: 0.3849098\tbest: 0.3845153 (26)\ttotal: 25.5s\tremaining: 54.3s\n",
            "32:\tlearn: 0.0614882\ttest: 0.3856477\tbest: 0.3845153 (26)\ttotal: 26.2s\tremaining: 53.2s\n",
            "33:\tlearn: 0.0586208\ttest: 0.3856407\tbest: 0.3845153 (26)\ttotal: 27.1s\tremaining: 52.7s\n",
            "34:\tlearn: 0.0577129\ttest: 0.3855207\tbest: 0.3845153 (26)\ttotal: 27.8s\tremaining: 51.6s\n",
            "35:\tlearn: 0.0560452\ttest: 0.3858780\tbest: 0.3845153 (26)\ttotal: 28.2s\tremaining: 50.1s\n",
            "36:\tlearn: 0.0542585\ttest: 0.3861001\tbest: 0.3845153 (26)\ttotal: 28.9s\tremaining: 49.1s\n",
            "37:\tlearn: 0.0510452\ttest: 0.3859499\tbest: 0.3845153 (26)\ttotal: 29.7s\tremaining: 48.4s\n",
            "38:\tlearn: 0.0492781\ttest: 0.3857476\tbest: 0.3845153 (26)\ttotal: 30.4s\tremaining: 47.5s\n",
            "39:\tlearn: 0.0483906\ttest: 0.3855158\tbest: 0.3845153 (26)\ttotal: 30.8s\tremaining: 46.2s\n",
            "40:\tlearn: 0.0470787\ttest: 0.3855856\tbest: 0.3845153 (26)\ttotal: 31.5s\tremaining: 45.3s\n",
            "41:\tlearn: 0.0456250\ttest: 0.3856208\tbest: 0.3845153 (26)\ttotal: 32.2s\tremaining: 44.5s\n",
            "42:\tlearn: 0.0440677\ttest: 0.3863050\tbest: 0.3845153 (26)\ttotal: 32.8s\tremaining: 43.5s\n",
            "43:\tlearn: 0.0431569\ttest: 0.3856489\tbest: 0.3845153 (26)\ttotal: 33.8s\tremaining: 43s\n",
            "44:\tlearn: 0.0424091\ttest: 0.3856454\tbest: 0.3845153 (26)\ttotal: 34.4s\tremaining: 42.1s\n",
            "45:\tlearn: 0.0403589\ttest: 0.3863687\tbest: 0.3845153 (26)\ttotal: 35.3s\tremaining: 41.4s\n",
            "46:\tlearn: 0.0385869\ttest: 0.3870856\tbest: 0.3845153 (26)\ttotal: 36.2s\tremaining: 40.9s\n",
            "47:\tlearn: 0.0374598\ttest: 0.3872241\tbest: 0.3845153 (26)\ttotal: 37.1s\tremaining: 40.2s\n",
            "48:\tlearn: 0.0359864\ttest: 0.3876685\tbest: 0.3845153 (26)\ttotal: 37.8s\tremaining: 39.4s\n",
            "49:\tlearn: 0.0347761\ttest: 0.3884248\tbest: 0.3845153 (26)\ttotal: 38.7s\tremaining: 38.7s\n",
            "50:\tlearn: 0.0342650\ttest: 0.3889315\tbest: 0.3845153 (26)\ttotal: 39.4s\tremaining: 37.9s\n",
            "51:\tlearn: 0.0336684\ttest: 0.3891567\tbest: 0.3845153 (26)\ttotal: 40.1s\tremaining: 37s\n",
            "52:\tlearn: 0.0327123\ttest: 0.3892972\tbest: 0.3845153 (26)\ttotal: 40.8s\tremaining: 36.2s\n",
            "53:\tlearn: 0.0320691\ttest: 0.3893592\tbest: 0.3845153 (26)\ttotal: 41.7s\tremaining: 35.6s\n",
            "54:\tlearn: 0.0311754\ttest: 0.3896627\tbest: 0.3845153 (26)\ttotal: 42.4s\tremaining: 34.7s\n",
            "55:\tlearn: 0.0297145\ttest: 0.3911734\tbest: 0.3845153 (26)\ttotal: 43.4s\tremaining: 34.1s\n",
            "56:\tlearn: 0.0291158\ttest: 0.3914559\tbest: 0.3845153 (26)\ttotal: 44.1s\tremaining: 33.3s\n",
            "57:\tlearn: 0.0287621\ttest: 0.3914695\tbest: 0.3845153 (26)\ttotal: 44.5s\tremaining: 32.3s\n",
            "58:\tlearn: 0.0281738\ttest: 0.3917960\tbest: 0.3845153 (26)\ttotal: 45.2s\tremaining: 31.4s\n",
            "59:\tlearn: 0.0276927\ttest: 0.3919372\tbest: 0.3845153 (26)\ttotal: 45.9s\tremaining: 30.6s\n",
            "60:\tlearn: 0.0271248\ttest: 0.3921890\tbest: 0.3845153 (26)\ttotal: 46.9s\tremaining: 30s\n",
            "61:\tlearn: 0.0265578\ttest: 0.3923805\tbest: 0.3845153 (26)\ttotal: 47.6s\tremaining: 29.1s\n",
            "62:\tlearn: 0.0263071\ttest: 0.3923848\tbest: 0.3845153 (26)\ttotal: 48.2s\tremaining: 28.3s\n",
            "63:\tlearn: 0.0259189\ttest: 0.3925317\tbest: 0.3845153 (26)\ttotal: 48.9s\tremaining: 27.5s\n",
            "64:\tlearn: 0.0254604\ttest: 0.3926968\tbest: 0.3845153 (26)\ttotal: 49.5s\tremaining: 26.7s\n",
            "65:\tlearn: 0.0246166\ttest: 0.3932084\tbest: 0.3845153 (26)\ttotal: 50.4s\tremaining: 26s\n",
            "66:\tlearn: 0.0236117\ttest: 0.3942142\tbest: 0.3845153 (26)\ttotal: 51.3s\tremaining: 25.3s\n",
            "67:\tlearn: 0.0234263\ttest: 0.3944184\tbest: 0.3845153 (26)\ttotal: 51.9s\tremaining: 24.4s\n",
            "68:\tlearn: 0.0230384\ttest: 0.3943400\tbest: 0.3845153 (26)\ttotal: 52.6s\tremaining: 23.6s\n",
            "69:\tlearn: 0.0222790\ttest: 0.3944162\tbest: 0.3845153 (26)\ttotal: 53.5s\tremaining: 22.9s\n",
            "70:\tlearn: 0.0216581\ttest: 0.3950418\tbest: 0.3845153 (26)\ttotal: 54.2s\tremaining: 22.1s\n",
            "71:\tlearn: 0.0209196\ttest: 0.3954755\tbest: 0.3845153 (26)\ttotal: 55.1s\tremaining: 21.4s\n",
            "72:\tlearn: 0.0205430\ttest: 0.3958974\tbest: 0.3845153 (26)\ttotal: 55.7s\tremaining: 20.6s\n",
            "73:\tlearn: 0.0201306\ttest: 0.3964815\tbest: 0.3845153 (26)\ttotal: 56.6s\tremaining: 19.9s\n",
            "74:\tlearn: 0.0198012\ttest: 0.3971383\tbest: 0.3845153 (26)\ttotal: 57.3s\tremaining: 19.1s\n",
            "75:\tlearn: 0.0189707\ttest: 0.3979284\tbest: 0.3845153 (26)\ttotal: 58.2s\tremaining: 18.4s\n",
            "76:\tlearn: 0.0183552\ttest: 0.3985653\tbest: 0.3845153 (26)\ttotal: 59.1s\tremaining: 17.7s\n",
            "77:\tlearn: 0.0181963\ttest: 0.3985316\tbest: 0.3845153 (26)\ttotal: 59.5s\tremaining: 16.8s\n",
            "78:\tlearn: 0.0178636\ttest: 0.3987221\tbest: 0.3845153 (26)\ttotal: 1m\tremaining: 16s\n",
            "79:\tlearn: 0.0171666\ttest: 0.3995843\tbest: 0.3845153 (26)\ttotal: 1m\tremaining: 15.2s\n",
            "80:\tlearn: 0.0165467\ttest: 0.4005561\tbest: 0.3845153 (26)\ttotal: 1m 1s\tremaining: 14.4s\n",
            "81:\tlearn: 0.0161515\ttest: 0.4012625\tbest: 0.3845153 (26)\ttotal: 1m 2s\tremaining: 13.7s\n",
            "82:\tlearn: 0.0157612\ttest: 0.4024302\tbest: 0.3845153 (26)\ttotal: 1m 3s\tremaining: 13s\n",
            "83:\tlearn: 0.0153538\ttest: 0.4031308\tbest: 0.3845153 (26)\ttotal: 1m 3s\tremaining: 12.2s\n",
            "84:\tlearn: 0.0151908\ttest: 0.4033667\tbest: 0.3845153 (26)\ttotal: 1m 4s\tremaining: 11.3s\n",
            "85:\tlearn: 0.0146872\ttest: 0.4039827\tbest: 0.3845153 (26)\ttotal: 1m 5s\tremaining: 10.6s\n",
            "86:\tlearn: 0.0144886\ttest: 0.4042495\tbest: 0.3845153 (26)\ttotal: 1m 5s\tremaining: 9.85s\n",
            "87:\tlearn: 0.0141404\ttest: 0.4048787\tbest: 0.3845153 (26)\ttotal: 1m 6s\tremaining: 9.11s\n",
            "88:\tlearn: 0.0139077\ttest: 0.4053605\tbest: 0.3845153 (26)\ttotal: 1m 7s\tremaining: 8.37s\n",
            "89:\tlearn: 0.0134596\ttest: 0.4059490\tbest: 0.3845153 (26)\ttotal: 1m 8s\tremaining: 7.63s\n",
            "90:\tlearn: 0.0130231\ttest: 0.4065908\tbest: 0.3845153 (26)\ttotal: 1m 9s\tremaining: 6.87s\n",
            "91:\tlearn: 0.0127028\ttest: 0.4071577\tbest: 0.3845153 (26)\ttotal: 1m 10s\tremaining: 6.11s\n",
            "92:\tlearn: 0.0123702\ttest: 0.4074685\tbest: 0.3845153 (26)\ttotal: 1m 11s\tremaining: 5.36s\n",
            "93:\tlearn: 0.0120824\ttest: 0.4076862\tbest: 0.3845153 (26)\ttotal: 1m 12s\tremaining: 4.6s\n",
            "94:\tlearn: 0.0116579\ttest: 0.4088018\tbest: 0.3845153 (26)\ttotal: 1m 13s\tremaining: 3.84s\n",
            "95:\tlearn: 0.0112961\ttest: 0.4092642\tbest: 0.3845153 (26)\ttotal: 1m 13s\tremaining: 3.08s\n",
            "96:\tlearn: 0.0110338\ttest: 0.4098005\tbest: 0.3845153 (26)\ttotal: 1m 14s\tremaining: 2.31s\n",
            "97:\tlearn: 0.0107321\ttest: 0.4101294\tbest: 0.3845153 (26)\ttotal: 1m 15s\tremaining: 1.54s\n",
            "98:\tlearn: 0.0103602\ttest: 0.4107300\tbest: 0.3845153 (26)\ttotal: 1m 16s\tremaining: 774ms\n",
            "99:\tlearn: 0.0100895\ttest: 0.4112893\tbest: 0.3845153 (26)\ttotal: 1m 17s\tremaining: 0us\n",
            "| \u001b[0m 3       \u001b[0m | \u001b[0m 0.01009 \u001b[0m | \u001b[0m 14.0    \u001b[0m | \u001b[0m 100.0   \u001b[0m | \u001b[0m 0.1     \u001b[0m | \u001b[0m 0.1     \u001b[0m | \u001b[0m 1.0     \u001b[0m |\n",
            "0:\tlearn: 0.6779234\ttest: 0.6788620\tbest: 0.6788620 (0)\ttotal: 176ms\tremaining: 13.9s\n",
            "1:\tlearn: 0.6644496\ttest: 0.6658777\tbest: 0.6658777 (1)\ttotal: 335ms\tremaining: 13.1s\n",
            "2:\tlearn: 0.6535934\ttest: 0.6550969\tbest: 0.6550969 (2)\ttotal: 487ms\tremaining: 12.5s\n",
            "3:\tlearn: 0.6398997\ttest: 0.6425284\tbest: 0.6425284 (3)\ttotal: 633ms\tremaining: 12s\n",
            "4:\tlearn: 0.6276399\ttest: 0.6307457\tbest: 0.6307457 (4)\ttotal: 789ms\tremaining: 11.8s\n",
            "5:\tlearn: 0.6171361\ttest: 0.6212018\tbest: 0.6212018 (5)\ttotal: 943ms\tremaining: 11.6s\n",
            "6:\tlearn: 0.6065042\ttest: 0.6111817\tbest: 0.6111817 (6)\ttotal: 1.11s\tremaining: 11.5s\n",
            "7:\tlearn: 0.5980743\ttest: 0.6032705\tbest: 0.6032705 (7)\ttotal: 1.27s\tremaining: 11.4s\n",
            "8:\tlearn: 0.5884111\ttest: 0.5939129\tbest: 0.5939129 (8)\ttotal: 1.43s\tremaining: 11.3s\n",
            "9:\tlearn: 0.5799232\ttest: 0.5860081\tbest: 0.5860081 (9)\ttotal: 1.59s\tremaining: 11.2s\n",
            "10:\tlearn: 0.5710423\ttest: 0.5780058\tbest: 0.5780058 (10)\ttotal: 1.75s\tremaining: 11s\n",
            "11:\tlearn: 0.5627030\ttest: 0.5700734\tbest: 0.5700734 (11)\ttotal: 1.91s\tremaining: 10.8s\n",
            "12:\tlearn: 0.5552766\ttest: 0.5634710\tbest: 0.5634710 (12)\ttotal: 2.07s\tremaining: 10.7s\n",
            "13:\tlearn: 0.5475517\ttest: 0.5565942\tbest: 0.5565942 (13)\ttotal: 2.22s\tremaining: 10.5s\n",
            "14:\tlearn: 0.5400208\ttest: 0.5504152\tbest: 0.5504152 (14)\ttotal: 2.38s\tremaining: 10.3s\n",
            "15:\tlearn: 0.5337856\ttest: 0.5445774\tbest: 0.5445774 (15)\ttotal: 2.52s\tremaining: 10.1s\n",
            "16:\tlearn: 0.5271739\ttest: 0.5385087\tbest: 0.5385087 (16)\ttotal: 2.69s\tremaining: 9.96s\n",
            "17:\tlearn: 0.5207166\ttest: 0.5325903\tbest: 0.5325903 (17)\ttotal: 2.84s\tremaining: 9.79s\n",
            "18:\tlearn: 0.5141202\ttest: 0.5272028\tbest: 0.5272028 (18)\ttotal: 2.99s\tremaining: 9.61s\n",
            "19:\tlearn: 0.5082002\ttest: 0.5220409\tbest: 0.5220409 (19)\ttotal: 3.15s\tremaining: 9.46s\n",
            "20:\tlearn: 0.5028096\ttest: 0.5172798\tbest: 0.5172798 (20)\ttotal: 3.32s\tremaining: 9.33s\n",
            "21:\tlearn: 0.4975564\ttest: 0.5124482\tbest: 0.5124482 (21)\ttotal: 3.48s\tremaining: 9.19s\n",
            "22:\tlearn: 0.4927530\ttest: 0.5083555\tbest: 0.5083555 (22)\ttotal: 3.65s\tremaining: 9.04s\n",
            "23:\tlearn: 0.4874586\ttest: 0.5040023\tbest: 0.5040023 (23)\ttotal: 3.8s\tremaining: 8.87s\n",
            "24:\tlearn: 0.4827518\ttest: 0.4999214\tbest: 0.4999214 (24)\ttotal: 3.96s\tremaining: 8.7s\n",
            "25:\tlearn: 0.4786773\ttest: 0.4962999\tbest: 0.4962999 (25)\ttotal: 4.12s\tremaining: 8.56s\n",
            "26:\tlearn: 0.4746069\ttest: 0.4930444\tbest: 0.4930444 (26)\ttotal: 4.28s\tremaining: 8.4s\n",
            "27:\tlearn: 0.4708833\ttest: 0.4900058\tbest: 0.4900058 (27)\ttotal: 4.42s\tremaining: 8.22s\n",
            "28:\tlearn: 0.4663884\ttest: 0.4864311\tbest: 0.4864311 (28)\ttotal: 4.58s\tremaining: 8.06s\n",
            "29:\tlearn: 0.4628533\ttest: 0.4835981\tbest: 0.4835981 (29)\ttotal: 4.74s\tremaining: 7.9s\n",
            "30:\tlearn: 0.4590203\ttest: 0.4807137\tbest: 0.4807137 (30)\ttotal: 4.89s\tremaining: 7.73s\n",
            "31:\tlearn: 0.4556088\ttest: 0.4781560\tbest: 0.4781560 (31)\ttotal: 5.05s\tremaining: 7.57s\n",
            "32:\tlearn: 0.4522200\ttest: 0.4754113\tbest: 0.4754113 (32)\ttotal: 5.2s\tremaining: 7.41s\n",
            "33:\tlearn: 0.4491273\ttest: 0.4727154\tbest: 0.4727154 (33)\ttotal: 5.36s\tremaining: 7.25s\n",
            "34:\tlearn: 0.4463154\ttest: 0.4702587\tbest: 0.4702587 (34)\ttotal: 5.52s\tremaining: 7.1s\n",
            "35:\tlearn: 0.4430108\ttest: 0.4675868\tbest: 0.4675868 (35)\ttotal: 5.68s\tremaining: 6.94s\n",
            "36:\tlearn: 0.4397666\ttest: 0.4651424\tbest: 0.4651424 (36)\ttotal: 5.84s\tremaining: 6.79s\n",
            "37:\tlearn: 0.4354042\ttest: 0.4621508\tbest: 0.4621508 (37)\ttotal: 6.02s\tremaining: 6.65s\n",
            "38:\tlearn: 0.4323030\ttest: 0.4597354\tbest: 0.4597354 (38)\ttotal: 6.19s\tremaining: 6.51s\n",
            "39:\tlearn: 0.4294949\ttest: 0.4575593\tbest: 0.4575593 (39)\ttotal: 6.35s\tremaining: 6.35s\n",
            "40:\tlearn: 0.4264294\ttest: 0.4555604\tbest: 0.4555604 (40)\ttotal: 6.51s\tremaining: 6.19s\n",
            "41:\tlearn: 0.4239999\ttest: 0.4538191\tbest: 0.4538191 (41)\ttotal: 6.66s\tremaining: 6.02s\n",
            "42:\tlearn: 0.4211186\ttest: 0.4519779\tbest: 0.4519779 (42)\ttotal: 6.82s\tremaining: 5.87s\n",
            "43:\tlearn: 0.4185943\ttest: 0.4500699\tbest: 0.4500699 (43)\ttotal: 6.99s\tremaining: 5.72s\n",
            "44:\tlearn: 0.4166313\ttest: 0.4486649\tbest: 0.4486649 (44)\ttotal: 7.15s\tremaining: 5.56s\n",
            "45:\tlearn: 0.4136135\ttest: 0.4468073\tbest: 0.4468073 (45)\ttotal: 7.29s\tremaining: 5.39s\n",
            "46:\tlearn: 0.4111242\ttest: 0.4448239\tbest: 0.4448239 (46)\ttotal: 7.45s\tremaining: 5.23s\n",
            "47:\tlearn: 0.4088434\ttest: 0.4433852\tbest: 0.4433852 (47)\ttotal: 7.62s\tremaining: 5.08s\n",
            "48:\tlearn: 0.4067026\ttest: 0.4419317\tbest: 0.4419317 (48)\ttotal: 7.78s\tremaining: 4.92s\n",
            "49:\tlearn: 0.4042755\ttest: 0.4403025\tbest: 0.4403025 (49)\ttotal: 7.95s\tremaining: 4.77s\n",
            "50:\tlearn: 0.4020374\ttest: 0.4386722\tbest: 0.4386722 (50)\ttotal: 8.11s\tremaining: 4.61s\n",
            "51:\tlearn: 0.4003798\ttest: 0.4374144\tbest: 0.4374144 (51)\ttotal: 8.27s\tremaining: 4.46s\n",
            "52:\tlearn: 0.3978462\ttest: 0.4357889\tbest: 0.4357889 (52)\ttotal: 8.44s\tremaining: 4.3s\n",
            "53:\tlearn: 0.3956471\ttest: 0.4343722\tbest: 0.4343722 (53)\ttotal: 8.61s\tremaining: 4.15s\n",
            "54:\tlearn: 0.3928043\ttest: 0.4325008\tbest: 0.4325008 (54)\ttotal: 8.79s\tremaining: 3.99s\n",
            "55:\tlearn: 0.3906837\ttest: 0.4312142\tbest: 0.4312142 (55)\ttotal: 8.95s\tremaining: 3.84s\n",
            "56:\tlearn: 0.3883972\ttest: 0.4297514\tbest: 0.4297514 (56)\ttotal: 9.11s\tremaining: 3.67s\n",
            "57:\tlearn: 0.3860217\ttest: 0.4280206\tbest: 0.4280206 (57)\ttotal: 9.27s\tremaining: 3.52s\n",
            "58:\tlearn: 0.3840470\ttest: 0.4267207\tbest: 0.4267207 (58)\ttotal: 9.43s\tremaining: 3.36s\n",
            "59:\tlearn: 0.3817717\ttest: 0.4255128\tbest: 0.4255128 (59)\ttotal: 9.58s\tremaining: 3.19s\n",
            "60:\tlearn: 0.3797506\ttest: 0.4242909\tbest: 0.4242909 (60)\ttotal: 9.74s\tremaining: 3.03s\n",
            "61:\tlearn: 0.3781452\ttest: 0.4233577\tbest: 0.4233577 (61)\ttotal: 9.9s\tremaining: 2.87s\n",
            "62:\tlearn: 0.3766088\ttest: 0.4223271\tbest: 0.4223271 (62)\ttotal: 10.1s\tremaining: 2.72s\n",
            "63:\tlearn: 0.3745304\ttest: 0.4210653\tbest: 0.4210653 (63)\ttotal: 10.2s\tremaining: 2.56s\n",
            "64:\tlearn: 0.3722320\ttest: 0.4196544\tbest: 0.4196544 (64)\ttotal: 10.4s\tremaining: 2.39s\n",
            "65:\tlearn: 0.3704835\ttest: 0.4184951\tbest: 0.4184951 (65)\ttotal: 10.5s\tremaining: 2.23s\n",
            "66:\tlearn: 0.3687727\ttest: 0.4174915\tbest: 0.4174915 (66)\ttotal: 10.7s\tremaining: 2.08s\n",
            "67:\tlearn: 0.3673445\ttest: 0.4166802\tbest: 0.4166802 (67)\ttotal: 10.9s\tremaining: 1.92s\n",
            "68:\tlearn: 0.3661682\ttest: 0.4159565\tbest: 0.4159565 (68)\ttotal: 11.1s\tremaining: 1.76s\n",
            "69:\tlearn: 0.3642095\ttest: 0.4148714\tbest: 0.4148714 (69)\ttotal: 11.2s\tremaining: 1.6s\n",
            "70:\tlearn: 0.3624747\ttest: 0.4140729\tbest: 0.4140729 (70)\ttotal: 11.4s\tremaining: 1.44s\n",
            "71:\tlearn: 0.3608956\ttest: 0.4132472\tbest: 0.4132472 (71)\ttotal: 11.5s\tremaining: 1.28s\n",
            "72:\tlearn: 0.3590658\ttest: 0.4121181\tbest: 0.4121181 (72)\ttotal: 11.7s\tremaining: 1.12s\n",
            "73:\tlearn: 0.3571577\ttest: 0.4110781\tbest: 0.4110781 (73)\ttotal: 11.9s\tremaining: 963ms\n",
            "74:\tlearn: 0.3561215\ttest: 0.4104466\tbest: 0.4104466 (74)\ttotal: 12s\tremaining: 803ms\n",
            "75:\tlearn: 0.3548643\ttest: 0.4096539\tbest: 0.4096539 (75)\ttotal: 12.2s\tremaining: 642ms\n",
            "76:\tlearn: 0.3535158\ttest: 0.4089024\tbest: 0.4089024 (76)\ttotal: 12.4s\tremaining: 482ms\n",
            "77:\tlearn: 0.3521765\ttest: 0.4081593\tbest: 0.4081593 (77)\ttotal: 12.5s\tremaining: 321ms\n",
            "78:\tlearn: 0.3510093\ttest: 0.4075062\tbest: 0.4075062 (78)\ttotal: 12.7s\tremaining: 161ms\n",
            "79:\tlearn: 0.3504213\ttest: 0.4070142\tbest: 0.4070142 (79)\ttotal: 12.8s\tremaining: 0us\n",
            "| \u001b[0m 4       \u001b[0m | \u001b[0m 0.3504  \u001b[0m | \u001b[0m 9.299   \u001b[0m | \u001b[0m 80.22   \u001b[0m | \u001b[0m 0.4075  \u001b[0m | \u001b[0m 0.02419 \u001b[0m | \u001b[0m 0.5257  \u001b[0m |\n",
            "0:\tlearn: 0.6924929\ttest: 0.6925025\tbest: 0.6925025 (0)\ttotal: 142ms\tremaining: 1.27s\n",
            "1:\tlearn: 0.6914265\ttest: 0.6913603\tbest: 0.6913603 (1)\ttotal: 274ms\tremaining: 1.1s\n",
            "2:\tlearn: 0.6914136\ttest: 0.6913474\tbest: 0.6913474 (2)\ttotal: 400ms\tremaining: 932ms\n",
            "3:\tlearn: 0.6912411\ttest: 0.6911626\tbest: 0.6911626 (3)\ttotal: 522ms\tremaining: 783ms\n",
            "4:\tlearn: 0.6912288\ttest: 0.6911502\tbest: 0.6911502 (4)\ttotal: 653ms\tremaining: 653ms\n",
            "5:\tlearn: 0.6911395\ttest: 0.6910592\tbest: 0.6910592 (5)\ttotal: 785ms\tremaining: 523ms\n",
            "6:\tlearn: 0.6911276\ttest: 0.6910473\tbest: 0.6910473 (6)\ttotal: 912ms\tremaining: 391ms\n",
            "7:\tlearn: 0.6911160\ttest: 0.6910356\tbest: 0.6910356 (7)\ttotal: 1.06s\tremaining: 266ms\n",
            "8:\tlearn: 0.6911046\ttest: 0.6910242\tbest: 0.6910242 (8)\ttotal: 1.2s\tremaining: 133ms\n",
            "9:\tlearn: 0.6910935\ttest: 0.6910130\tbest: 0.6910130 (9)\ttotal: 1.33s\tremaining: 0us\n",
            "| \u001b[95m 5       \u001b[0m | \u001b[95m 0.6911  \u001b[0m | \u001b[95m 8.0     \u001b[0m | \u001b[95m 10.0    \u001b[0m | \u001b[95m 3.0     \u001b[0m | \u001b[95m 0.01    \u001b[0m | \u001b[95m 0.01    \u001b[0m |\n",
            "0:\tlearn: 0.5787415\ttest: 0.6159485\tbest: 0.6159485 (0)\ttotal: 936ms\tremaining: 8.43s\n",
            "1:\tlearn: 0.4954806\ttest: 0.5609503\tbest: 0.5609503 (1)\ttotal: 1.87s\tremaining: 7.48s\n",
            "2:\tlearn: 0.4283721\ttest: 0.5215394\tbest: 0.5215394 (2)\ttotal: 2.79s\tremaining: 6.52s\n",
            "3:\tlearn: 0.3898445\ttest: 0.4944329\tbest: 0.4944329 (3)\ttotal: 3.44s\tremaining: 5.16s\n",
            "4:\tlearn: 0.3422706\ttest: 0.4710051\tbest: 0.4710051 (4)\ttotal: 4.37s\tremaining: 4.37s\n",
            "5:\tlearn: 0.3128345\ttest: 0.4547135\tbest: 0.4547135 (5)\ttotal: 5.02s\tremaining: 3.35s\n",
            "6:\tlearn: 0.2839962\ttest: 0.4398877\tbest: 0.4398877 (6)\ttotal: 5.69s\tremaining: 2.44s\n",
            "7:\tlearn: 0.2516493\ttest: 0.4287572\tbest: 0.4287572 (7)\ttotal: 6.63s\tremaining: 1.66s\n",
            "8:\tlearn: 0.2435875\ttest: 0.4252365\tbest: 0.4252365 (8)\ttotal: 7.04s\tremaining: 782ms\n",
            "9:\tlearn: 0.2193729\ttest: 0.4183666\tbest: 0.4183666 (9)\ttotal: 7.95s\tremaining: 0us\n",
            "| \u001b[0m 6       \u001b[0m | \u001b[0m 0.2194  \u001b[0m | \u001b[0m 14.0    \u001b[0m | \u001b[0m 10.0    \u001b[0m | \u001b[0m 0.1     \u001b[0m | \u001b[0m 0.1     \u001b[0m | \u001b[0m 1.0     \u001b[0m |\n",
            "0:\tlearn: 0.6924929\ttest: 0.6925025\tbest: 0.6925025 (0)\ttotal: 140ms\tremaining: 3.78s\n",
            "1:\tlearn: 0.6914265\ttest: 0.6913603\tbest: 0.6913603 (1)\ttotal: 275ms\tremaining: 3.58s\n",
            "2:\tlearn: 0.6914136\ttest: 0.6913474\tbest: 0.6913474 (2)\ttotal: 403ms\tremaining: 3.36s\n",
            "3:\tlearn: 0.6912411\ttest: 0.6911626\tbest: 0.6911626 (3)\ttotal: 544ms\tremaining: 3.26s\n",
            "4:\tlearn: 0.6912288\ttest: 0.6911502\tbest: 0.6911502 (4)\ttotal: 672ms\tremaining: 3.09s\n",
            "5:\tlearn: 0.6911395\ttest: 0.6910592\tbest: 0.6910592 (5)\ttotal: 802ms\tremaining: 2.94s\n",
            "6:\tlearn: 0.6911276\ttest: 0.6910473\tbest: 0.6910473 (6)\ttotal: 931ms\tremaining: 2.79s\n",
            "7:\tlearn: 0.6911160\ttest: 0.6910356\tbest: 0.6910356 (7)\ttotal: 1.06s\tremaining: 2.65s\n",
            "8:\tlearn: 0.6911046\ttest: 0.6910242\tbest: 0.6910242 (8)\ttotal: 1.2s\tremaining: 2.52s\n",
            "9:\tlearn: 0.6910935\ttest: 0.6910130\tbest: 0.6910130 (9)\ttotal: 1.33s\tremaining: 2.4s\n",
            "10:\tlearn: 0.6910825\ttest: 0.6910021\tbest: 0.6910021 (10)\ttotal: 1.45s\tremaining: 2.24s\n",
            "11:\tlearn: 0.6903141\ttest: 0.6902314\tbest: 0.6902314 (11)\ttotal: 1.58s\tremaining: 2.1s\n",
            "12:\tlearn: 0.6903036\ttest: 0.6902209\tbest: 0.6902209 (12)\ttotal: 1.7s\tremaining: 1.96s\n",
            "13:\tlearn: 0.6902933\ttest: 0.6902105\tbest: 0.6902105 (13)\ttotal: 1.8s\tremaining: 1.8s\n",
            "14:\tlearn: 0.6902832\ttest: 0.6902004\tbest: 0.6902004 (14)\ttotal: 1.93s\tremaining: 1.68s\n",
            "15:\tlearn: 0.6902732\ttest: 0.6901904\tbest: 0.6901904 (15)\ttotal: 2.07s\tremaining: 1.55s\n",
            "16:\tlearn: 0.6902635\ttest: 0.6901807\tbest: 0.6901807 (16)\ttotal: 2.2s\tremaining: 1.42s\n",
            "17:\tlearn: 0.6900485\ttest: 0.6899737\tbest: 0.6899737 (17)\ttotal: 2.33s\tremaining: 1.29s\n",
            "18:\tlearn: 0.6896951\ttest: 0.6896369\tbest: 0.6896369 (18)\ttotal: 2.45s\tremaining: 1.16s\n",
            "19:\tlearn: 0.6894913\ttest: 0.6894378\tbest: 0.6894378 (19)\ttotal: 2.57s\tremaining: 1.03s\n",
            "20:\tlearn: 0.6889692\ttest: 0.6888880\tbest: 0.6888880 (20)\ttotal: 2.7s\tremaining: 899ms\n",
            "21:\tlearn: 0.6889603\ttest: 0.6888791\tbest: 0.6888791 (21)\ttotal: 2.82s\tremaining: 770ms\n",
            "22:\tlearn: 0.6889516\ttest: 0.6888703\tbest: 0.6888703 (22)\ttotal: 2.94s\tremaining: 640ms\n",
            "23:\tlearn: 0.6889430\ttest: 0.6888617\tbest: 0.6888617 (23)\ttotal: 3.07s\tremaining: 511ms\n",
            "24:\tlearn: 0.6889346\ttest: 0.6888533\tbest: 0.6888533 (24)\ttotal: 3.2s\tremaining: 384ms\n",
            "25:\tlearn: 0.6887254\ttest: 0.6886500\tbest: 0.6886500 (25)\ttotal: 3.33s\tremaining: 256ms\n",
            "26:\tlearn: 0.6885335\ttest: 0.6884686\tbest: 0.6884686 (26)\ttotal: 3.46s\tremaining: 128ms\n",
            "27:\tlearn: 0.6884754\ttest: 0.6884226\tbest: 0.6884226 (27)\ttotal: 3.58s\tremaining: 0us\n",
            "| \u001b[0m 7       \u001b[0m | \u001b[0m 0.6885  \u001b[0m | \u001b[0m 8.0     \u001b[0m | \u001b[0m 28.99   \u001b[0m | \u001b[0m 3.0     \u001b[0m | \u001b[0m 0.01    \u001b[0m | \u001b[0m 0.01    \u001b[0m |\n",
            "0:\tlearn: 0.6863935\ttest: 0.6867189\tbest: 0.6867189 (0)\ttotal: 186ms\tremaining: 3.35s\n",
            "1:\tlearn: 0.6804729\ttest: 0.6809083\tbest: 0.6809083 (1)\ttotal: 355ms\tremaining: 3.02s\n",
            "2:\tlearn: 0.6741580\ttest: 0.6750195\tbest: 0.6750195 (2)\ttotal: 523ms\tremaining: 2.79s\n",
            "3:\tlearn: 0.6680359\ttest: 0.6693093\tbest: 0.6693093 (3)\ttotal: 681ms\tremaining: 2.55s\n",
            "4:\tlearn: 0.6623885\ttest: 0.6638670\tbest: 0.6638670 (4)\ttotal: 842ms\tremaining: 2.36s\n",
            "5:\tlearn: 0.6566693\ttest: 0.6584423\tbest: 0.6584423 (5)\ttotal: 1s\tremaining: 2.17s\n",
            "6:\tlearn: 0.6518405\ttest: 0.6536048\tbest: 0.6536048 (6)\ttotal: 1.13s\tremaining: 1.95s\n",
            "7:\tlearn: 0.6464828\ttest: 0.6484951\tbest: 0.6484951 (7)\ttotal: 1.29s\tremaining: 1.78s\n",
            "8:\tlearn: 0.6411935\ttest: 0.6434340\tbest: 0.6434340 (8)\ttotal: 1.44s\tremaining: 1.6s\n",
            "9:\tlearn: 0.6359322\ttest: 0.6384921\tbest: 0.6384921 (9)\ttotal: 1.59s\tremaining: 1.43s\n",
            "10:\tlearn: 0.6312454\ttest: 0.6340285\tbest: 0.6340285 (10)\ttotal: 1.75s\tremaining: 1.27s\n",
            "11:\tlearn: 0.6266758\ttest: 0.6297958\tbest: 0.6297958 (11)\ttotal: 1.91s\tremaining: 1.11s\n",
            "12:\tlearn: 0.6220333\ttest: 0.6254200\tbest: 0.6254200 (12)\ttotal: 2.06s\tremaining: 952ms\n",
            "13:\tlearn: 0.6178029\ttest: 0.6211896\tbest: 0.6211896 (13)\ttotal: 2.22s\tremaining: 792ms\n",
            "14:\tlearn: 0.6130074\ttest: 0.6166099\tbest: 0.6166099 (14)\ttotal: 2.38s\tremaining: 634ms\n",
            "15:\tlearn: 0.6083068\ttest: 0.6120498\tbest: 0.6120498 (15)\ttotal: 2.56s\tremaining: 479ms\n",
            "16:\tlearn: 0.6045184\ttest: 0.6083439\tbest: 0.6083439 (16)\ttotal: 2.72s\tremaining: 320ms\n",
            "17:\tlearn: 0.6003622\ttest: 0.6042985\tbest: 0.6042985 (17)\ttotal: 2.89s\tremaining: 160ms\n",
            "18:\tlearn: 0.5964939\ttest: 0.6005789\tbest: 0.6005789 (18)\ttotal: 3.06s\tremaining: 0us\n",
            "| \u001b[0m 8       \u001b[0m | \u001b[0m 0.5965  \u001b[0m | \u001b[0m 8.0     \u001b[0m | \u001b[0m 19.72   \u001b[0m | \u001b[0m 0.1     \u001b[0m | \u001b[0m 0.01    \u001b[0m | \u001b[0m 1.0     \u001b[0m |\n",
            "0:\tlearn: 0.6924929\ttest: 0.6925025\tbest: 0.6925025 (0)\ttotal: 153ms\tremaining: 2.76s\n",
            "1:\tlearn: 0.6914265\ttest: 0.6913603\tbest: 0.6913603 (1)\ttotal: 283ms\tremaining: 2.41s\n",
            "2:\tlearn: 0.6914136\ttest: 0.6913474\tbest: 0.6913474 (2)\ttotal: 416ms\tremaining: 2.22s\n",
            "3:\tlearn: 0.6912411\ttest: 0.6911626\tbest: 0.6911626 (3)\ttotal: 548ms\tremaining: 2.05s\n",
            "4:\tlearn: 0.6912288\ttest: 0.6911502\tbest: 0.6911502 (4)\ttotal: 679ms\tremaining: 1.9s\n",
            "5:\tlearn: 0.6911395\ttest: 0.6910592\tbest: 0.6910592 (5)\ttotal: 809ms\tremaining: 1.75s\n",
            "6:\tlearn: 0.6911276\ttest: 0.6910473\tbest: 0.6910473 (6)\ttotal: 928ms\tremaining: 1.59s\n",
            "7:\tlearn: 0.6911160\ttest: 0.6910356\tbest: 0.6910356 (7)\ttotal: 1.06s\tremaining: 1.46s\n",
            "8:\tlearn: 0.6911046\ttest: 0.6910242\tbest: 0.6910242 (8)\ttotal: 1.19s\tremaining: 1.32s\n",
            "9:\tlearn: 0.6910935\ttest: 0.6910130\tbest: 0.6910130 (9)\ttotal: 1.33s\tremaining: 1.2s\n",
            "10:\tlearn: 0.6910825\ttest: 0.6910021\tbest: 0.6910021 (10)\ttotal: 1.46s\tremaining: 1.06s\n",
            "11:\tlearn: 0.6903141\ttest: 0.6902314\tbest: 0.6902314 (11)\ttotal: 1.58s\tremaining: 920ms\n",
            "12:\tlearn: 0.6903036\ttest: 0.6902209\tbest: 0.6902209 (12)\ttotal: 1.72s\tremaining: 795ms\n",
            "13:\tlearn: 0.6902933\ttest: 0.6902105\tbest: 0.6902105 (13)\ttotal: 1.86s\tremaining: 665ms\n",
            "14:\tlearn: 0.6902832\ttest: 0.6902004\tbest: 0.6902004 (14)\ttotal: 1.99s\tremaining: 531ms\n",
            "15:\tlearn: 0.6902732\ttest: 0.6901904\tbest: 0.6901904 (15)\ttotal: 2.12s\tremaining: 397ms\n",
            "16:\tlearn: 0.6902635\ttest: 0.6901807\tbest: 0.6901807 (16)\ttotal: 2.23s\tremaining: 262ms\n",
            "17:\tlearn: 0.6900485\ttest: 0.6899737\tbest: 0.6899737 (17)\ttotal: 2.37s\tremaining: 132ms\n",
            "18:\tlearn: 0.6896951\ttest: 0.6896369\tbest: 0.6896369 (18)\ttotal: 2.52s\tremaining: 0us\n",
            "| \u001b[0m 9       \u001b[0m | \u001b[0m 0.6897  \u001b[0m | \u001b[0m 8.0     \u001b[0m | \u001b[0m 19.22   \u001b[0m | \u001b[0m 3.0     \u001b[0m | \u001b[0m 0.01    \u001b[0m | \u001b[0m 0.01    \u001b[0m |\n",
            "0:\tlearn: 0.6875586\ttest: 0.6877670\tbest: 0.6877670 (0)\ttotal: 177ms\tremaining: 4.08s\n",
            "1:\tlearn: 0.6826052\ttest: 0.6829105\tbest: 0.6829105 (1)\ttotal: 348ms\tremaining: 3.83s\n",
            "2:\tlearn: 0.6775030\ttest: 0.6780943\tbest: 0.6780943 (2)\ttotal: 504ms\tremaining: 3.53s\n",
            "3:\tlearn: 0.6724946\ttest: 0.6733349\tbest: 0.6733349 (3)\ttotal: 671ms\tremaining: 3.36s\n",
            "4:\tlearn: 0.6677936\ttest: 0.6687963\tbest: 0.6687963 (4)\ttotal: 831ms\tremaining: 3.16s\n",
            "5:\tlearn: 0.6628902\ttest: 0.6641265\tbest: 0.6641265 (5)\ttotal: 989ms\tremaining: 2.97s\n",
            "6:\tlearn: 0.6586147\ttest: 0.6598271\tbest: 0.6598271 (6)\ttotal: 1.14s\tremaining: 2.78s\n",
            "7:\tlearn: 0.6540804\ttest: 0.6553664\tbest: 0.6553664 (7)\ttotal: 1.32s\tremaining: 2.63s\n",
            "8:\tlearn: 0.6498632\ttest: 0.6513089\tbest: 0.6513089 (8)\ttotal: 1.48s\tremaining: 2.47s\n",
            "9:\tlearn: 0.6452307\ttest: 0.6467224\tbest: 0.6467224 (9)\ttotal: 1.66s\tremaining: 2.33s\n",
            "10:\tlearn: 0.6410817\ttest: 0.6426911\tbest: 0.6426911 (10)\ttotal: 1.82s\tremaining: 2.15s\n",
            "11:\tlearn: 0.6366830\ttest: 0.6384516\tbest: 0.6384516 (11)\ttotal: 1.97s\tremaining: 1.97s\n",
            "12:\tlearn: 0.6327203\ttest: 0.6345873\tbest: 0.6345873 (12)\ttotal: 2.12s\tremaining: 1.79s\n",
            "13:\tlearn: 0.6286182\ttest: 0.6306989\tbest: 0.6306989 (13)\ttotal: 2.27s\tremaining: 1.62s\n",
            "14:\tlearn: 0.6245740\ttest: 0.6268279\tbest: 0.6268279 (14)\ttotal: 2.44s\tremaining: 1.46s\n",
            "15:\tlearn: 0.6209237\ttest: 0.6233924\tbest: 0.6233924 (15)\ttotal: 2.61s\tremaining: 1.3s\n",
            "16:\tlearn: 0.6173376\ttest: 0.6199750\tbest: 0.6199750 (16)\ttotal: 2.78s\tremaining: 1.15s\n",
            "17:\tlearn: 0.6137633\ttest: 0.6164763\tbest: 0.6164763 (17)\ttotal: 2.94s\tremaining: 980ms\n",
            "18:\tlearn: 0.6101278\ttest: 0.6129736\tbest: 0.6129736 (18)\ttotal: 3.12s\tremaining: 820ms\n",
            "19:\tlearn: 0.6063990\ttest: 0.6093787\tbest: 0.6093787 (19)\ttotal: 3.29s\tremaining: 658ms\n",
            "20:\tlearn: 0.6025731\ttest: 0.6056550\tbest: 0.6056550 (20)\ttotal: 3.46s\tremaining: 494ms\n",
            "21:\tlearn: 0.5992134\ttest: 0.6024715\tbest: 0.6024715 (21)\ttotal: 3.62s\tremaining: 329ms\n",
            "22:\tlearn: 0.5956302\ttest: 0.5990571\tbest: 0.5990571 (22)\ttotal: 3.78s\tremaining: 164ms\n",
            "23:\tlearn: 0.5924802\ttest: 0.5961283\tbest: 0.5961283 (23)\ttotal: 3.95s\tremaining: 0us\n",
            "| \u001b[0m 10      \u001b[0m | \u001b[0m 0.5925  \u001b[0m | \u001b[0m 8.0     \u001b[0m | \u001b[0m 24.76   \u001b[0m | \u001b[0m 3.0     \u001b[0m | \u001b[0m 0.01    \u001b[0m | \u001b[0m 1.0     \u001b[0m |\n",
            "0:\tlearn: 0.6208955\ttest: 0.6383104\tbest: 0.6383104 (0)\ttotal: 232ms\tremaining: 8.36s\n",
            "1:\tlearn: 0.5667535\ttest: 0.5988476\tbest: 0.5988476 (1)\ttotal: 537ms\tremaining: 9.4s\n",
            "2:\tlearn: 0.5188972\ttest: 0.5649418\tbest: 0.5649418 (2)\ttotal: 818ms\tremaining: 9.27s\n",
            "3:\tlearn: 0.4793947\ttest: 0.5363505\tbest: 0.5363505 (3)\ttotal: 1.05s\tremaining: 8.71s\n",
            "4:\tlearn: 0.4506476\ttest: 0.5131241\tbest: 0.5131241 (4)\ttotal: 1.32s\tremaining: 8.44s\n",
            "5:\tlearn: 0.4218659\ttest: 0.4939162\tbest: 0.4939162 (5)\ttotal: 1.55s\tremaining: 7.99s\n",
            "6:\tlearn: 0.4010965\ttest: 0.4786445\tbest: 0.4786445 (6)\ttotal: 1.8s\tremaining: 7.71s\n",
            "7:\tlearn: 0.3889668\ttest: 0.4687540\tbest: 0.4687540 (7)\ttotal: 1.96s\tremaining: 7.12s\n",
            "8:\tlearn: 0.3739306\ttest: 0.4567062\tbest: 0.4567062 (8)\ttotal: 2.2s\tremaining: 6.83s\n",
            "9:\tlearn: 0.3616558\ttest: 0.4483678\tbest: 0.4483678 (9)\ttotal: 2.41s\tremaining: 6.51s\n",
            "10:\tlearn: 0.3473567\ttest: 0.4391228\tbest: 0.4391228 (10)\ttotal: 2.69s\tremaining: 6.36s\n",
            "11:\tlearn: 0.3332857\ttest: 0.4313184\tbest: 0.4313184 (11)\ttotal: 2.91s\tremaining: 6.06s\n",
            "12:\tlearn: 0.3189926\ttest: 0.4235866\tbest: 0.4235866 (12)\ttotal: 3.15s\tremaining: 5.82s\n",
            "13:\tlearn: 0.3058188\ttest: 0.4172264\tbest: 0.4172264 (13)\ttotal: 3.45s\tremaining: 5.67s\n",
            "14:\tlearn: 0.2914573\ttest: 0.4119519\tbest: 0.4119519 (14)\ttotal: 3.71s\tremaining: 5.45s\n",
            "15:\tlearn: 0.2824659\ttest: 0.4080714\tbest: 0.4080714 (15)\ttotal: 3.94s\tremaining: 5.17s\n",
            "16:\tlearn: 0.2765058\ttest: 0.4050284\tbest: 0.4050284 (16)\ttotal: 4.14s\tremaining: 4.87s\n",
            "17:\tlearn: 0.2637671\ttest: 0.4005123\tbest: 0.4005123 (17)\ttotal: 4.36s\tremaining: 4.6s\n",
            "18:\tlearn: 0.2571597\ttest: 0.3976473\tbest: 0.3976473 (18)\ttotal: 4.59s\tremaining: 4.35s\n",
            "19:\tlearn: 0.2456197\ttest: 0.3937188\tbest: 0.3937188 (19)\ttotal: 4.88s\tremaining: 4.15s\n",
            "20:\tlearn: 0.2406775\ttest: 0.3914258\tbest: 0.3914258 (20)\ttotal: 5.11s\tremaining: 3.89s\n",
            "21:\tlearn: 0.2323735\ttest: 0.3896577\tbest: 0.3896577 (21)\ttotal: 5.38s\tremaining: 3.67s\n",
            "22:\tlearn: 0.2280359\ttest: 0.3878406\tbest: 0.3878406 (22)\ttotal: 5.61s\tremaining: 3.42s\n",
            "23:\tlearn: 0.2212453\ttest: 0.3861622\tbest: 0.3861622 (23)\ttotal: 5.85s\tremaining: 3.17s\n",
            "24:\tlearn: 0.2133506\ttest: 0.3842013\tbest: 0.3842013 (24)\ttotal: 6.09s\tremaining: 2.92s\n",
            "25:\tlearn: 0.2064640\ttest: 0.3819529\tbest: 0.3819529 (25)\ttotal: 6.32s\tremaining: 2.67s\n",
            "26:\tlearn: 0.2009245\ttest: 0.3802578\tbest: 0.3802578 (26)\ttotal: 6.58s\tremaining: 2.44s\n",
            "27:\tlearn: 0.1985097\ttest: 0.3791210\tbest: 0.3791210 (27)\ttotal: 6.76s\tremaining: 2.17s\n",
            "28:\tlearn: 0.1940144\ttest: 0.3777250\tbest: 0.3777250 (28)\ttotal: 7s\tremaining: 1.93s\n",
            "29:\tlearn: 0.1859130\ttest: 0.3757356\tbest: 0.3757356 (29)\ttotal: 7.28s\tremaining: 1.7s\n",
            "30:\tlearn: 0.1839346\ttest: 0.3752319\tbest: 0.3752319 (30)\ttotal: 7.48s\tremaining: 1.45s\n",
            "31:\tlearn: 0.1804437\ttest: 0.3745301\tbest: 0.3745301 (31)\ttotal: 7.7s\tremaining: 1.2s\n",
            "32:\tlearn: 0.1755315\ttest: 0.3735040\tbest: 0.3735040 (32)\ttotal: 7.97s\tremaining: 966ms\n",
            "33:\tlearn: 0.1720443\ttest: 0.3729617\tbest: 0.3729617 (33)\ttotal: 8.25s\tremaining: 728ms\n",
            "34:\tlearn: 0.1687216\ttest: 0.3727729\tbest: 0.3727729 (34)\ttotal: 8.45s\tremaining: 483ms\n",
            "35:\tlearn: 0.1670906\ttest: 0.3719456\tbest: 0.3719456 (35)\ttotal: 8.68s\tremaining: 241ms\n",
            "36:\tlearn: 0.1650759\ttest: 0.3711600\tbest: 0.3711600 (36)\ttotal: 8.88s\tremaining: 0us\n",
            "| \u001b[0m 11      \u001b[0m | \u001b[0m 0.1651  \u001b[0m | \u001b[0m 13.89   \u001b[0m | \u001b[0m 37.02   \u001b[0m | \u001b[0m 0.3802  \u001b[0m | \u001b[0m 0.08094 \u001b[0m | \u001b[0m 0.2218  \u001b[0m |\n",
            "0:\tlearn: 0.6924951\ttest: 0.6925048\tbest: 0.6925048 (0)\ttotal: 141ms\tremaining: 5.49s\n",
            "1:\tlearn: 0.6923231\ttest: 0.6923046\tbest: 0.6923046 (1)\ttotal: 271ms\tremaining: 5.16s\n",
            "2:\tlearn: 0.6923107\ttest: 0.6922922\tbest: 0.6922922 (2)\ttotal: 410ms\tremaining: 5.06s\n",
            "3:\tlearn: 0.6914894\ttest: 0.6914574\tbest: 0.6914574 (3)\ttotal: 546ms\tremaining: 4.91s\n",
            "4:\tlearn: 0.6914775\ttest: 0.6914454\tbest: 0.6914454 (4)\ttotal: 691ms\tremaining: 4.83s\n",
            "5:\tlearn: 0.6909294\ttest: 0.6909198\tbest: 0.6909198 (5)\ttotal: 830ms\tremaining: 4.7s\n",
            "6:\tlearn: 0.6909179\ttest: 0.6909083\tbest: 0.6909083 (6)\ttotal: 959ms\tremaining: 4.52s\n",
            "7:\tlearn: 0.6909067\ttest: 0.6908971\tbest: 0.6908971 (7)\ttotal: 1.1s\tremaining: 4.39s\n",
            "8:\tlearn: 0.6908956\ttest: 0.6908860\tbest: 0.6908860 (8)\ttotal: 1.23s\tremaining: 4.23s\n",
            "9:\tlearn: 0.6908848\ttest: 0.6908752\tbest: 0.6908752 (9)\ttotal: 1.35s\tremaining: 4.06s\n",
            "10:\tlearn: 0.6908742\ttest: 0.6908646\tbest: 0.6908646 (10)\ttotal: 1.49s\tremaining: 3.93s\n",
            "11:\tlearn: 0.6907272\ttest: 0.6907387\tbest: 0.6907387 (11)\ttotal: 1.64s\tremaining: 3.82s\n",
            "12:\tlearn: 0.6907170\ttest: 0.6907286\tbest: 0.6907286 (12)\ttotal: 1.78s\tremaining: 3.7s\n",
            "13:\tlearn: 0.6900553\ttest: 0.6900732\tbest: 0.6900732 (13)\ttotal: 1.91s\tremaining: 3.55s\n",
            "14:\tlearn: 0.6900455\ttest: 0.6900634\tbest: 0.6900634 (14)\ttotal: 2.05s\tremaining: 3.42s\n",
            "15:\tlearn: 0.6900360\ttest: 0.6900539\tbest: 0.6900539 (15)\ttotal: 2.2s\tremaining: 3.29s\n",
            "16:\tlearn: 0.6889792\ttest: 0.6889624\tbest: 0.6889624 (16)\ttotal: 2.34s\tremaining: 3.16s\n",
            "17:\tlearn: 0.6889698\ttest: 0.6889529\tbest: 0.6889529 (17)\ttotal: 2.47s\tremaining: 3.02s\n",
            "18:\tlearn: 0.6887981\ttest: 0.6887673\tbest: 0.6887673 (18)\ttotal: 2.59s\tremaining: 2.87s\n",
            "19:\tlearn: 0.6887840\ttest: 0.6887524\tbest: 0.6887524 (19)\ttotal: 2.72s\tremaining: 2.72s\n",
            "20:\tlearn: 0.6887751\ttest: 0.6887435\tbest: 0.6887435 (20)\ttotal: 2.85s\tremaining: 2.58s\n",
            "21:\tlearn: 0.6886139\ttest: 0.6885858\tbest: 0.6885858 (21)\ttotal: 2.99s\tremaining: 2.45s\n",
            "22:\tlearn: 0.6886054\ttest: 0.6885772\tbest: 0.6885772 (22)\ttotal: 3.12s\tremaining: 2.31s\n",
            "23:\tlearn: 0.6885970\ttest: 0.6885688\tbest: 0.6885688 (23)\ttotal: 3.25s\tremaining: 2.17s\n",
            "24:\tlearn: 0.6884412\ttest: 0.6883826\tbest: 0.6883826 (24)\ttotal: 3.38s\tremaining: 2.03s\n",
            "25:\tlearn: 0.6884332\ttest: 0.6883745\tbest: 0.6883745 (25)\ttotal: 3.5s\tremaining: 1.89s\n",
            "26:\tlearn: 0.6883840\ttest: 0.6883255\tbest: 0.6883255 (26)\ttotal: 3.64s\tremaining: 1.75s\n",
            "27:\tlearn: 0.6872951\ttest: 0.6873271\tbest: 0.6873271 (27)\ttotal: 3.78s\tremaining: 1.62s\n",
            "28:\tlearn: 0.6872870\ttest: 0.6873190\tbest: 0.6873190 (28)\ttotal: 3.93s\tremaining: 1.49s\n",
            "29:\tlearn: 0.6872194\ttest: 0.6872380\tbest: 0.6872380 (29)\ttotal: 4.08s\tremaining: 1.36s\n",
            "30:\tlearn: 0.6864618\ttest: 0.6864515\tbest: 0.6864515 (30)\ttotal: 4.24s\tremaining: 1.23s\n",
            "31:\tlearn: 0.6863733\ttest: 0.6863531\tbest: 0.6863531 (31)\ttotal: 4.4s\tremaining: 1.1s\n",
            "32:\tlearn: 0.6862835\ttest: 0.6862825\tbest: 0.6862825 (32)\ttotal: 4.53s\tremaining: 961ms\n",
            "33:\tlearn: 0.6861958\ttest: 0.6862041\tbest: 0.6862041 (33)\ttotal: 4.64s\tremaining: 819ms\n",
            "34:\tlearn: 0.6860236\ttest: 0.6860399\tbest: 0.6860399 (34)\ttotal: 4.78s\tremaining: 683ms\n",
            "35:\tlearn: 0.6855920\ttest: 0.6855706\tbest: 0.6855706 (35)\ttotal: 4.92s\tremaining: 546ms\n",
            "36:\tlearn: 0.6854220\ttest: 0.6853982\tbest: 0.6853982 (36)\ttotal: 5.04s\tremaining: 409ms\n",
            "37:\tlearn: 0.6843704\ttest: 0.6843677\tbest: 0.6843677 (37)\ttotal: 5.18s\tremaining: 272ms\n",
            "38:\tlearn: 0.6843636\ttest: 0.6843609\tbest: 0.6843609 (38)\ttotal: 5.31s\tremaining: 136ms\n",
            "39:\tlearn: 0.6843568\ttest: 0.6843542\tbest: 0.6843542 (39)\ttotal: 5.46s\tremaining: 0us\n",
            "| \u001b[0m 12      \u001b[0m | \u001b[0m 0.6844  \u001b[0m | \u001b[0m 8.0     \u001b[0m | \u001b[0m 40.75   \u001b[0m | \u001b[0m 0.1     \u001b[0m | \u001b[0m 0.01    \u001b[0m | \u001b[0m 0.01    \u001b[0m |\n",
            "0:\tlearn: 0.6869095\ttest: 0.6870071\tbest: 0.6870071 (0)\ttotal: 121ms\tremaining: 4.71s\n",
            "1:\tlearn: 0.6775670\ttest: 0.6769570\tbest: 0.6769570 (1)\ttotal: 265ms\tremaining: 5.03s\n",
            "2:\tlearn: 0.6774477\ttest: 0.6768344\tbest: 0.6768344 (2)\ttotal: 398ms\tremaining: 4.91s\n",
            "3:\tlearn: 0.6730146\ttest: 0.6723510\tbest: 0.6723510 (3)\ttotal: 532ms\tremaining: 4.79s\n",
            "4:\tlearn: 0.6729354\ttest: 0.6722731\tbest: 0.6722731 (4)\ttotal: 665ms\tremaining: 4.65s\n",
            "5:\tlearn: 0.6709759\ttest: 0.6704953\tbest: 0.6704953 (5)\ttotal: 806ms\tremaining: 4.57s\n",
            "6:\tlearn: 0.6709244\ttest: 0.6704448\tbest: 0.6704448 (6)\ttotal: 944ms\tremaining: 4.45s\n",
            "7:\tlearn: 0.6708826\ttest: 0.6704040\tbest: 0.6704040 (7)\ttotal: 1.08s\tremaining: 4.31s\n",
            "8:\tlearn: 0.6708488\ttest: 0.6703711\tbest: 0.6703711 (8)\ttotal: 1.22s\tremaining: 4.19s\n",
            "9:\tlearn: 0.6708214\ttest: 0.6703445\tbest: 0.6703445 (9)\ttotal: 1.33s\tremaining: 4.01s\n",
            "10:\tlearn: 0.6707992\ttest: 0.6703230\tbest: 0.6703230 (10)\ttotal: 1.45s\tremaining: 3.83s\n",
            "11:\tlearn: 0.6604103\ttest: 0.6604426\tbest: 0.6604426 (11)\ttotal: 1.56s\tremaining: 3.65s\n",
            "12:\tlearn: 0.6603955\ttest: 0.6604280\tbest: 0.6604280 (12)\ttotal: 1.68s\tremaining: 3.5s\n",
            "13:\tlearn: 0.6575171\ttest: 0.6576713\tbest: 0.6576713 (13)\ttotal: 1.81s\tremaining: 3.37s\n",
            "14:\tlearn: 0.6575077\ttest: 0.6576624\tbest: 0.6576624 (14)\ttotal: 1.95s\tremaining: 3.24s\n",
            "15:\tlearn: 0.6575001\ttest: 0.6576552\tbest: 0.6576552 (15)\ttotal: 2.06s\tremaining: 3.1s\n",
            "16:\tlearn: 0.6572720\ttest: 0.6574528\tbest: 0.6574528 (16)\ttotal: 2.2s\tremaining: 2.98s\n",
            "17:\tlearn: 0.6561794\ttest: 0.6565377\tbest: 0.6565377 (17)\ttotal: 2.32s\tremaining: 2.84s\n",
            "18:\tlearn: 0.6553654\ttest: 0.6557003\tbest: 0.6557003 (18)\ttotal: 2.45s\tremaining: 2.71s\n",
            "19:\tlearn: 0.6537264\ttest: 0.6541609\tbest: 0.6541609 (19)\ttotal: 2.57s\tremaining: 2.57s\n",
            "20:\tlearn: 0.6537240\ttest: 0.6541587\tbest: 0.6541587 (20)\ttotal: 2.7s\tremaining: 2.44s\n",
            "21:\tlearn: 0.6537220\ttest: 0.6541570\tbest: 0.6541570 (21)\ttotal: 2.83s\tremaining: 2.31s\n",
            "22:\tlearn: 0.6537204\ttest: 0.6541556\tbest: 0.6541556 (22)\ttotal: 2.96s\tremaining: 2.19s\n",
            "23:\tlearn: 0.6537191\ttest: 0.6541545\tbest: 0.6541545 (23)\ttotal: 3.07s\tremaining: 2.05s\n",
            "24:\tlearn: 0.6515409\ttest: 0.6520214\tbest: 0.6520214 (24)\ttotal: 3.19s\tremaining: 1.92s\n",
            "25:\tlearn: 0.6467953\ttest: 0.6470933\tbest: 0.6470933 (25)\ttotal: 3.31s\tremaining: 1.78s\n",
            "26:\tlearn: 0.6402271\ttest: 0.6409308\tbest: 0.6409308 (26)\ttotal: 3.45s\tremaining: 1.66s\n",
            "27:\tlearn: 0.6402150\ttest: 0.6409203\tbest: 0.6409203 (27)\ttotal: 3.58s\tremaining: 1.53s\n",
            "28:\tlearn: 0.6401547\ttest: 0.6408889\tbest: 0.6408889 (28)\ttotal: 3.7s\tremaining: 1.4s\n",
            "29:\tlearn: 0.6401465\ttest: 0.6408819\tbest: 0.6408819 (29)\ttotal: 3.82s\tremaining: 1.27s\n",
            "30:\tlearn: 0.6401400\ttest: 0.6408766\tbest: 0.6408766 (30)\ttotal: 3.94s\tremaining: 1.14s\n",
            "31:\tlearn: 0.6397348\ttest: 0.6404585\tbest: 0.6404585 (31)\ttotal: 4.06s\tremaining: 1.01s\n",
            "32:\tlearn: 0.6397306\ttest: 0.6404550\tbest: 0.6404550 (32)\ttotal: 4.19s\tremaining: 889ms\n",
            "33:\tlearn: 0.6397270\ttest: 0.6404521\tbest: 0.6404521 (33)\ttotal: 4.31s\tremaining: 761ms\n",
            "34:\tlearn: 0.6339259\ttest: 0.6346589\tbest: 0.6346589 (34)\ttotal: 4.43s\tremaining: 633ms\n",
            "35:\tlearn: 0.6339235\ttest: 0.6346569\tbest: 0.6346569 (35)\ttotal: 4.54s\tremaining: 505ms\n",
            "36:\tlearn: 0.6336999\ttest: 0.6344726\tbest: 0.6344726 (36)\ttotal: 4.66s\tremaining: 378ms\n",
            "37:\tlearn: 0.6336985\ttest: 0.6344716\tbest: 0.6344716 (37)\ttotal: 4.8s\tremaining: 253ms\n",
            "38:\tlearn: 0.6336973\ttest: 0.6344708\tbest: 0.6344708 (38)\ttotal: 4.92s\tremaining: 126ms\n",
            "39:\tlearn: 0.6322256\ttest: 0.6328361\tbest: 0.6328361 (39)\ttotal: 5.05s\tremaining: 0us\n",
            "| \u001b[0m 13      \u001b[0m | \u001b[0m 0.6322  \u001b[0m | \u001b[0m 8.0     \u001b[0m | \u001b[0m 40.0    \u001b[0m | \u001b[0m 3.0     \u001b[0m | \u001b[0m 0.1     \u001b[0m | \u001b[0m 0.01    \u001b[0m |\n",
            "0:\tlearn: 0.6892429\ttest: 0.6893069\tbest: 0.6893069 (0)\ttotal: 130ms\tremaining: 4.17s\n",
            "1:\tlearn: 0.6891431\ttest: 0.6892213\tbest: 0.6892213 (1)\ttotal: 249ms\tremaining: 3.86s\n",
            "2:\tlearn: 0.6881723\ttest: 0.6881568\tbest: 0.6881568 (2)\ttotal: 375ms\tremaining: 3.75s\n",
            "3:\tlearn: 0.6846703\ttest: 0.6846287\tbest: 0.6846287 (3)\ttotal: 489ms\tremaining: 3.54s\n",
            "4:\tlearn: 0.6835347\ttest: 0.6833832\tbest: 0.6833832 (4)\ttotal: 611ms\tremaining: 3.42s\n",
            "5:\tlearn: 0.6832824\ttest: 0.6831872\tbest: 0.6831872 (5)\ttotal: 748ms\tremaining: 3.36s\n",
            "6:\tlearn: 0.6787868\ttest: 0.6784550\tbest: 0.6784550 (6)\ttotal: 885ms\tremaining: 3.29s\n",
            "7:\tlearn: 0.6727050\ttest: 0.6724996\tbest: 0.6724996 (7)\ttotal: 1.03s\tremaining: 3.22s\n",
            "8:\tlearn: 0.6664356\ttest: 0.6660383\tbest: 0.6660383 (8)\ttotal: 1.17s\tremaining: 3.12s\n",
            "9:\tlearn: 0.6662990\ttest: 0.6659229\tbest: 0.6659229 (9)\ttotal: 1.3s\tremaining: 2.99s\n",
            "10:\tlearn: 0.6654854\ttest: 0.6651533\tbest: 0.6651533 (10)\ttotal: 1.41s\tremaining: 2.82s\n",
            "11:\tlearn: 0.6652951\ttest: 0.6649940\tbest: 0.6649940 (11)\ttotal: 1.53s\tremaining: 2.67s\n",
            "12:\tlearn: 0.6558392\ttest: 0.6560641\tbest: 0.6560641 (12)\ttotal: 1.66s\tremaining: 2.55s\n",
            "13:\tlearn: 0.6545655\ttest: 0.6548601\tbest: 0.6548601 (13)\ttotal: 1.77s\tremaining: 2.41s\n",
            "14:\tlearn: 0.6538027\ttest: 0.6540032\tbest: 0.6540032 (14)\ttotal: 1.91s\tremaining: 2.29s\n",
            "15:\tlearn: 0.6484187\ttest: 0.6490725\tbest: 0.6490725 (15)\ttotal: 2.04s\tremaining: 2.16s\n",
            "16:\tlearn: 0.6453072\ttest: 0.6461978\tbest: 0.6461978 (16)\ttotal: 2.16s\tremaining: 2.03s\n",
            "17:\tlearn: 0.6452687\ttest: 0.6461583\tbest: 0.6461583 (17)\ttotal: 2.29s\tremaining: 1.91s\n",
            "18:\tlearn: 0.6372355\ttest: 0.6375782\tbest: 0.6375782 (18)\ttotal: 2.42s\tremaining: 1.78s\n",
            "19:\tlearn: 0.6325619\ttest: 0.6328202\tbest: 0.6328202 (19)\ttotal: 2.55s\tremaining: 1.66s\n",
            "20:\tlearn: 0.6302251\ttest: 0.6306813\tbest: 0.6306813 (20)\ttotal: 2.67s\tremaining: 1.53s\n",
            "21:\tlearn: 0.6270529\ttest: 0.6277081\tbest: 0.6277081 (21)\ttotal: 2.8s\tremaining: 1.4s\n",
            "22:\tlearn: 0.6247475\ttest: 0.6253887\tbest: 0.6253887 (22)\ttotal: 2.93s\tremaining: 1.27s\n",
            "23:\tlearn: 0.6215984\ttest: 0.6223212\tbest: 0.6223212 (23)\ttotal: 3.06s\tremaining: 1.15s\n",
            "24:\tlearn: 0.6205334\ttest: 0.6211200\tbest: 0.6211200 (24)\ttotal: 3.2s\tremaining: 1.02s\n",
            "25:\tlearn: 0.6202985\ttest: 0.6208540\tbest: 0.6208540 (25)\ttotal: 3.32s\tremaining: 894ms\n",
            "26:\tlearn: 0.6164876\ttest: 0.6167868\tbest: 0.6167868 (26)\ttotal: 3.46s\tremaining: 768ms\n",
            "27:\tlearn: 0.6164611\ttest: 0.6167607\tbest: 0.6167607 (27)\ttotal: 3.58s\tremaining: 640ms\n",
            "28:\tlearn: 0.6164279\ttest: 0.6167160\tbest: 0.6167160 (28)\ttotal: 3.71s\tremaining: 512ms\n",
            "29:\tlearn: 0.6137853\ttest: 0.6141893\tbest: 0.6141893 (29)\ttotal: 3.84s\tremaining: 384ms\n",
            "30:\tlearn: 0.6101404\ttest: 0.6104894\tbest: 0.6104894 (30)\ttotal: 3.97s\tremaining: 256ms\n",
            "31:\tlearn: 0.6101190\ttest: 0.6104687\tbest: 0.6104687 (31)\ttotal: 4.09s\tremaining: 128ms\n",
            "32:\tlearn: 0.6094456\ttest: 0.6098221\tbest: 0.6098221 (32)\ttotal: 4.22s\tremaining: 0us\n",
            "| \u001b[0m 14      \u001b[0m | \u001b[0m 0.6094  \u001b[0m | \u001b[0m 8.102   \u001b[0m | \u001b[0m 33.91   \u001b[0m | \u001b[0m 0.4356  \u001b[0m | \u001b[0m 0.05252 \u001b[0m | \u001b[0m 0.0286  \u001b[0m |\n",
            "0:\tlearn: 0.6689066\ttest: 0.6694904\tbest: 0.6694904 (0)\ttotal: 170ms\tremaining: 11.2s\n",
            "1:\tlearn: 0.6469662\ttest: 0.6485859\tbest: 0.6485859 (1)\ttotal: 335ms\tremaining: 10.9s\n",
            "2:\tlearn: 0.6253998\ttest: 0.6278110\tbest: 0.6278110 (2)\ttotal: 508ms\tremaining: 10.8s\n",
            "3:\tlearn: 0.6080998\ttest: 0.6110433\tbest: 0.6110433 (3)\ttotal: 663ms\tremaining: 10.4s\n",
            "4:\tlearn: 0.5927137\ttest: 0.5962906\tbest: 0.5962906 (4)\ttotal: 817ms\tremaining: 10.1s\n",
            "5:\tlearn: 0.5802813\ttest: 0.5842615\tbest: 0.5842615 (5)\ttotal: 973ms\tremaining: 9.89s\n",
            "6:\tlearn: 0.5647349\ttest: 0.5692994\tbest: 0.5692994 (6)\ttotal: 1.14s\tremaining: 9.74s\n",
            "7:\tlearn: 0.5521625\ttest: 0.5580357\tbest: 0.5580357 (7)\ttotal: 1.3s\tremaining: 9.59s\n",
            "8:\tlearn: 0.5421145\ttest: 0.5485695\tbest: 0.5485695 (8)\ttotal: 1.46s\tremaining: 9.42s\n",
            "9:\tlearn: 0.5336995\ttest: 0.5404704\tbest: 0.5404704 (9)\ttotal: 1.61s\tremaining: 9.18s\n",
            "10:\tlearn: 0.5237602\ttest: 0.5312882\tbest: 0.5312882 (10)\ttotal: 1.77s\tremaining: 9.02s\n",
            "11:\tlearn: 0.5139183\ttest: 0.5225047\tbest: 0.5225047 (11)\ttotal: 1.93s\tremaining: 8.85s\n",
            "12:\tlearn: 0.5052940\ttest: 0.5147820\tbest: 0.5147820 (12)\ttotal: 2.08s\tremaining: 8.64s\n",
            "13:\tlearn: 0.4969450\ttest: 0.5080299\tbest: 0.5080299 (13)\ttotal: 2.24s\tremaining: 8.46s\n",
            "14:\tlearn: 0.4899662\ttest: 0.5020113\tbest: 0.5020113 (14)\ttotal: 2.38s\tremaining: 8.24s\n",
            "15:\tlearn: 0.4823011\ttest: 0.4954136\tbest: 0.4954136 (15)\ttotal: 2.54s\tremaining: 8.08s\n",
            "16:\tlearn: 0.4759052\ttest: 0.4900778\tbest: 0.4900778 (16)\ttotal: 2.7s\tremaining: 7.94s\n",
            "17:\tlearn: 0.4696969\ttest: 0.4849205\tbest: 0.4849205 (17)\ttotal: 2.85s\tremaining: 7.76s\n",
            "18:\tlearn: 0.4645769\ttest: 0.4804683\tbest: 0.4804683 (18)\ttotal: 3s\tremaining: 7.59s\n",
            "19:\tlearn: 0.4599105\ttest: 0.4762666\tbest: 0.4762666 (19)\ttotal: 3.16s\tremaining: 7.42s\n",
            "20:\tlearn: 0.4534237\ttest: 0.4714324\tbest: 0.4714324 (20)\ttotal: 3.3s\tremaining: 7.24s\n",
            "21:\tlearn: 0.4482129\ttest: 0.4674603\tbest: 0.4674603 (21)\ttotal: 3.46s\tremaining: 7.07s\n",
            "22:\tlearn: 0.4430721\ttest: 0.4633896\tbest: 0.4633896 (22)\ttotal: 3.62s\tremaining: 6.92s\n",
            "23:\tlearn: 0.4386543\ttest: 0.4601004\tbest: 0.4601004 (23)\ttotal: 3.78s\tremaining: 6.78s\n",
            "24:\tlearn: 0.4342642\ttest: 0.4566791\tbest: 0.4566791 (24)\ttotal: 3.94s\tremaining: 6.61s\n",
            "25:\tlearn: 0.4299280\ttest: 0.4533529\tbest: 0.4533529 (25)\ttotal: 4.09s\tremaining: 6.45s\n",
            "26:\tlearn: 0.4258501\ttest: 0.4502643\tbest: 0.4502643 (26)\ttotal: 4.25s\tremaining: 6.3s\n",
            "27:\tlearn: 0.4223301\ttest: 0.4479878\tbest: 0.4479878 (27)\ttotal: 4.41s\tremaining: 6.14s\n",
            "28:\tlearn: 0.4191287\ttest: 0.4456835\tbest: 0.4456835 (28)\ttotal: 4.58s\tremaining: 6s\n",
            "29:\tlearn: 0.4155053\ttest: 0.4429351\tbest: 0.4429351 (29)\ttotal: 4.74s\tremaining: 5.84s\n",
            "30:\tlearn: 0.4117686\ttest: 0.4401072\tbest: 0.4401072 (30)\ttotal: 4.9s\tremaining: 5.68s\n",
            "31:\tlearn: 0.4086501\ttest: 0.4381386\tbest: 0.4381386 (31)\ttotal: 5.06s\tremaining: 5.53s\n",
            "32:\tlearn: 0.4058279\ttest: 0.4363129\tbest: 0.4363129 (32)\ttotal: 5.21s\tremaining: 5.37s\n",
            "33:\tlearn: 0.4037042\ttest: 0.4347592\tbest: 0.4347592 (33)\ttotal: 5.36s\tremaining: 5.2s\n",
            "34:\tlearn: 0.4008149\ttest: 0.4329808\tbest: 0.4329808 (34)\ttotal: 5.52s\tremaining: 5.04s\n",
            "35:\tlearn: 0.3973774\ttest: 0.4309928\tbest: 0.4309928 (35)\ttotal: 5.68s\tremaining: 4.89s\n",
            "36:\tlearn: 0.3952716\ttest: 0.4295097\tbest: 0.4295097 (36)\ttotal: 5.85s\tremaining: 4.74s\n",
            "37:\tlearn: 0.3930229\ttest: 0.4279831\tbest: 0.4279831 (37)\ttotal: 6.01s\tremaining: 4.59s\n",
            "38:\tlearn: 0.3902964\ttest: 0.4264664\tbest: 0.4264664 (38)\ttotal: 6.17s\tremaining: 4.43s\n",
            "39:\tlearn: 0.3873025\ttest: 0.4243306\tbest: 0.4243306 (39)\ttotal: 6.32s\tremaining: 4.27s\n",
            "40:\tlearn: 0.3849570\ttest: 0.4227167\tbest: 0.4227167 (40)\ttotal: 6.47s\tremaining: 4.11s\n",
            "41:\tlearn: 0.3824012\ttest: 0.4209896\tbest: 0.4209896 (41)\ttotal: 6.64s\tremaining: 3.95s\n",
            "42:\tlearn: 0.3806737\ttest: 0.4199522\tbest: 0.4199522 (42)\ttotal: 6.8s\tremaining: 3.79s\n",
            "43:\tlearn: 0.3784399\ttest: 0.4186974\tbest: 0.4186974 (43)\ttotal: 6.96s\tremaining: 3.64s\n",
            "44:\tlearn: 0.3759518\ttest: 0.4171618\tbest: 0.4171618 (44)\ttotal: 7.12s\tremaining: 3.48s\n",
            "45:\tlearn: 0.3739348\ttest: 0.4158056\tbest: 0.4158056 (45)\ttotal: 7.27s\tremaining: 3.32s\n",
            "46:\tlearn: 0.3722490\ttest: 0.4145740\tbest: 0.4145740 (46)\ttotal: 7.42s\tremaining: 3.16s\n",
            "47:\tlearn: 0.3703998\ttest: 0.4133588\tbest: 0.4133588 (47)\ttotal: 7.57s\tremaining: 2.99s\n",
            "48:\tlearn: 0.3674875\ttest: 0.4116180\tbest: 0.4116180 (48)\ttotal: 7.74s\tremaining: 2.84s\n",
            "49:\tlearn: 0.3657434\ttest: 0.4105499\tbest: 0.4105499 (49)\ttotal: 7.9s\tremaining: 2.69s\n",
            "50:\tlearn: 0.3638659\ttest: 0.4095525\tbest: 0.4095525 (50)\ttotal: 8.07s\tremaining: 2.53s\n",
            "51:\tlearn: 0.3620007\ttest: 0.4085450\tbest: 0.4085450 (51)\ttotal: 8.24s\tremaining: 2.38s\n",
            "52:\tlearn: 0.3601075\ttest: 0.4076588\tbest: 0.4076588 (52)\ttotal: 8.41s\tremaining: 2.22s\n",
            "53:\tlearn: 0.3576043\ttest: 0.4066555\tbest: 0.4066555 (53)\ttotal: 8.58s\tremaining: 2.06s\n",
            "54:\tlearn: 0.3556564\ttest: 0.4053111\tbest: 0.4053111 (54)\ttotal: 8.76s\tremaining: 1.91s\n",
            "55:\tlearn: 0.3540878\ttest: 0.4043900\tbest: 0.4043900 (55)\ttotal: 8.92s\tremaining: 1.75s\n",
            "56:\tlearn: 0.3525680\ttest: 0.4036223\tbest: 0.4036223 (56)\ttotal: 9.1s\tremaining: 1.59s\n",
            "57:\tlearn: 0.3512523\ttest: 0.4028551\tbest: 0.4028551 (57)\ttotal: 9.26s\tremaining: 1.44s\n",
            "58:\tlearn: 0.3493806\ttest: 0.4020911\tbest: 0.4020911 (58)\ttotal: 9.42s\tremaining: 1.28s\n",
            "59:\tlearn: 0.3483609\ttest: 0.4015438\tbest: 0.4015438 (59)\ttotal: 9.58s\tremaining: 1.12s\n",
            "60:\tlearn: 0.3463465\ttest: 0.4005916\tbest: 0.4005916 (60)\ttotal: 9.75s\tremaining: 959ms\n",
            "61:\tlearn: 0.3447619\ttest: 0.3998103\tbest: 0.3998103 (61)\ttotal: 9.91s\tremaining: 799ms\n",
            "62:\tlearn: 0.3434658\ttest: 0.3991127\tbest: 0.3991127 (62)\ttotal: 10.1s\tremaining: 640ms\n",
            "63:\tlearn: 0.3424525\ttest: 0.3987054\tbest: 0.3987054 (63)\ttotal: 10.2s\tremaining: 480ms\n",
            "64:\tlearn: 0.3413679\ttest: 0.3981741\tbest: 0.3981741 (64)\ttotal: 10.4s\tremaining: 320ms\n",
            "65:\tlearn: 0.3397306\ttest: 0.3971325\tbest: 0.3971325 (65)\ttotal: 10.6s\tremaining: 160ms\n",
            "66:\tlearn: 0.3385487\ttest: 0.3965973\tbest: 0.3965973 (66)\ttotal: 10.8s\tremaining: 0us\n",
            "| \u001b[0m 15      \u001b[0m | \u001b[0m 0.3385  \u001b[0m | \u001b[0m 8.02    \u001b[0m | \u001b[0m 67.37   \u001b[0m | \u001b[0m 0.1596  \u001b[0m | \u001b[0m 0.04227 \u001b[0m | \u001b[0m 0.7183  \u001b[0m |\n",
            "0:\tlearn: 0.6869291\ttest: 0.6870279\tbest: 0.6870279 (0)\ttotal: 145ms\tremaining: 1.31s\n",
            "1:\tlearn: 0.6853427\ttest: 0.6851697\tbest: 0.6851697 (1)\ttotal: 278ms\tremaining: 1.11s\n",
            "2:\tlearn: 0.6852621\ttest: 0.6850883\tbest: 0.6850883 (2)\ttotal: 410ms\tremaining: 958ms\n",
            "3:\tlearn: 0.6826516\ttest: 0.6824889\tbest: 0.6824889 (3)\ttotal: 555ms\tremaining: 832ms\n",
            "4:\tlearn: 0.6825995\ttest: 0.6824403\tbest: 0.6824403 (4)\ttotal: 696ms\tremaining: 696ms\n",
            "5:\tlearn: 0.6821025\ttest: 0.6820550\tbest: 0.6820550 (5)\ttotal: 837ms\tremaining: 558ms\n",
            "6:\tlearn: 0.6820683\ttest: 0.6820238\tbest: 0.6820238 (6)\ttotal: 975ms\tremaining: 418ms\n",
            "7:\tlearn: 0.6820406\ttest: 0.6819988\tbest: 0.6819988 (7)\ttotal: 1.12s\tremaining: 280ms\n",
            "8:\tlearn: 0.6820182\ttest: 0.6819788\tbest: 0.6819788 (8)\ttotal: 1.25s\tremaining: 139ms\n",
            "9:\tlearn: 0.6820000\ttest: 0.6819628\tbest: 0.6819628 (9)\ttotal: 1.39s\tremaining: 0us\n",
            "| \u001b[0m 16      \u001b[0m | \u001b[0m 0.682   \u001b[0m | \u001b[0m 8.0     \u001b[0m | \u001b[0m 10.0    \u001b[0m | \u001b[0m 0.1     \u001b[0m | \u001b[0m 0.1     \u001b[0m | \u001b[0m 0.01    \u001b[0m |\n",
            "0:\tlearn: 0.6924951\ttest: 0.6925048\tbest: 0.6925048 (0)\ttotal: 148ms\tremaining: 6.82s\n",
            "1:\tlearn: 0.6923231\ttest: 0.6923046\tbest: 0.6923046 (1)\ttotal: 289ms\tremaining: 6.51s\n",
            "2:\tlearn: 0.6923107\ttest: 0.6922922\tbest: 0.6922922 (2)\ttotal: 432ms\tremaining: 6.34s\n",
            "3:\tlearn: 0.6914894\ttest: 0.6914574\tbest: 0.6914574 (3)\ttotal: 578ms\tremaining: 6.22s\n",
            "4:\tlearn: 0.6914775\ttest: 0.6914454\tbest: 0.6914454 (4)\ttotal: 724ms\tremaining: 6.08s\n",
            "5:\tlearn: 0.6909294\ttest: 0.6909198\tbest: 0.6909198 (5)\ttotal: 867ms\tremaining: 5.93s\n",
            "6:\tlearn: 0.6909179\ttest: 0.6909083\tbest: 0.6909083 (6)\ttotal: 1.02s\tremaining: 5.81s\n",
            "7:\tlearn: 0.6909067\ttest: 0.6908971\tbest: 0.6908971 (7)\ttotal: 1.15s\tremaining: 5.6s\n",
            "8:\tlearn: 0.6908956\ttest: 0.6908860\tbest: 0.6908860 (8)\ttotal: 1.27s\tremaining: 5.38s\n",
            "9:\tlearn: 0.6908848\ttest: 0.6908752\tbest: 0.6908752 (9)\ttotal: 1.41s\tremaining: 5.22s\n",
            "10:\tlearn: 0.6908742\ttest: 0.6908646\tbest: 0.6908646 (10)\ttotal: 1.55s\tremaining: 5.07s\n",
            "11:\tlearn: 0.6907272\ttest: 0.6907387\tbest: 0.6907387 (11)\ttotal: 1.69s\tremaining: 4.94s\n",
            "12:\tlearn: 0.6907170\ttest: 0.6907286\tbest: 0.6907286 (12)\ttotal: 1.82s\tremaining: 4.77s\n",
            "13:\tlearn: 0.6900553\ttest: 0.6900732\tbest: 0.6900732 (13)\ttotal: 1.96s\tremaining: 4.62s\n",
            "14:\tlearn: 0.6900455\ttest: 0.6900634\tbest: 0.6900634 (14)\ttotal: 2.11s\tremaining: 4.49s\n",
            "15:\tlearn: 0.6900360\ttest: 0.6900539\tbest: 0.6900539 (15)\ttotal: 2.24s\tremaining: 4.34s\n",
            "16:\tlearn: 0.6889792\ttest: 0.6889624\tbest: 0.6889624 (16)\ttotal: 2.38s\tremaining: 4.2s\n",
            "17:\tlearn: 0.6889698\ttest: 0.6889529\tbest: 0.6889529 (17)\ttotal: 2.51s\tremaining: 4.05s\n",
            "18:\tlearn: 0.6887981\ttest: 0.6887673\tbest: 0.6887673 (18)\ttotal: 2.65s\tremaining: 3.9s\n",
            "19:\tlearn: 0.6887840\ttest: 0.6887524\tbest: 0.6887524 (19)\ttotal: 2.78s\tremaining: 3.76s\n",
            "20:\tlearn: 0.6887751\ttest: 0.6887435\tbest: 0.6887435 (20)\ttotal: 2.91s\tremaining: 3.61s\n",
            "21:\tlearn: 0.6886139\ttest: 0.6885858\tbest: 0.6885858 (21)\ttotal: 3.05s\tremaining: 3.47s\n",
            "22:\tlearn: 0.6886054\ttest: 0.6885772\tbest: 0.6885772 (22)\ttotal: 3.19s\tremaining: 3.33s\n",
            "23:\tlearn: 0.6885970\ttest: 0.6885688\tbest: 0.6885688 (23)\ttotal: 3.31s\tremaining: 3.17s\n",
            "24:\tlearn: 0.6884412\ttest: 0.6883826\tbest: 0.6883826 (24)\ttotal: 3.44s\tremaining: 3.03s\n",
            "25:\tlearn: 0.6884332\ttest: 0.6883745\tbest: 0.6883745 (25)\ttotal: 3.58s\tremaining: 2.89s\n",
            "26:\tlearn: 0.6883840\ttest: 0.6883255\tbest: 0.6883255 (26)\ttotal: 3.72s\tremaining: 2.76s\n",
            "27:\tlearn: 0.6872951\ttest: 0.6873271\tbest: 0.6873271 (27)\ttotal: 3.86s\tremaining: 2.62s\n",
            "28:\tlearn: 0.6872870\ttest: 0.6873190\tbest: 0.6873190 (28)\ttotal: 4.01s\tremaining: 2.49s\n",
            "29:\tlearn: 0.6872194\ttest: 0.6872380\tbest: 0.6872380 (29)\ttotal: 4.16s\tremaining: 2.36s\n",
            "30:\tlearn: 0.6864618\ttest: 0.6864515\tbest: 0.6864515 (30)\ttotal: 4.32s\tremaining: 2.23s\n",
            "31:\tlearn: 0.6863733\ttest: 0.6863531\tbest: 0.6863531 (31)\ttotal: 4.46s\tremaining: 2.09s\n",
            "32:\tlearn: 0.6862835\ttest: 0.6862825\tbest: 0.6862825 (32)\ttotal: 4.61s\tremaining: 1.96s\n",
            "33:\tlearn: 0.6861958\ttest: 0.6862041\tbest: 0.6862041 (33)\ttotal: 4.77s\tremaining: 1.82s\n",
            "34:\tlearn: 0.6860236\ttest: 0.6860399\tbest: 0.6860399 (34)\ttotal: 4.93s\tremaining: 1.69s\n",
            "35:\tlearn: 0.6855920\ttest: 0.6855706\tbest: 0.6855706 (35)\ttotal: 5.1s\tremaining: 1.56s\n",
            "36:\tlearn: 0.6854220\ttest: 0.6853982\tbest: 0.6853982 (36)\ttotal: 5.26s\tremaining: 1.42s\n",
            "37:\tlearn: 0.6843704\ttest: 0.6843677\tbest: 0.6843677 (37)\ttotal: 5.41s\tremaining: 1.28s\n",
            "38:\tlearn: 0.6843636\ttest: 0.6843609\tbest: 0.6843609 (38)\ttotal: 5.56s\tremaining: 1.14s\n",
            "39:\tlearn: 0.6843568\ttest: 0.6843542\tbest: 0.6843542 (39)\ttotal: 5.71s\tremaining: 1000ms\n",
            "40:\tlearn: 0.6838730\ttest: 0.6838638\tbest: 0.6838638 (40)\ttotal: 5.88s\tremaining: 860ms\n",
            "41:\tlearn: 0.6838211\ttest: 0.6838161\tbest: 0.6838161 (41)\ttotal: 6.02s\tremaining: 717ms\n",
            "42:\tlearn: 0.6827964\ttest: 0.6828865\tbest: 0.6828865 (42)\ttotal: 6.17s\tremaining: 574ms\n",
            "43:\tlearn: 0.6827898\ttest: 0.6828799\tbest: 0.6828799 (43)\ttotal: 6.32s\tremaining: 431ms\n",
            "44:\tlearn: 0.6827832\ttest: 0.6828734\tbest: 0.6828734 (44)\ttotal: 6.48s\tremaining: 288ms\n",
            "45:\tlearn: 0.6822398\ttest: 0.6823101\tbest: 0.6823101 (45)\ttotal: 6.64s\tremaining: 144ms\n",
            "46:\tlearn: 0.6812729\ttest: 0.6814241\tbest: 0.6814241 (46)\ttotal: 6.82s\tremaining: 0us\n",
            "| \u001b[0m 17      \u001b[0m | \u001b[0m 0.6813  \u001b[0m | \u001b[0m 8.0     \u001b[0m | \u001b[0m 47.31   \u001b[0m | \u001b[0m 0.1     \u001b[0m | \u001b[0m 0.01    \u001b[0m | \u001b[0m 0.01    \u001b[0m |\n",
            "=====================================================================================\n"
          ],
          "name": "stdout"
        }
      ]
    },
    {
      "cell_type": "markdown",
      "metadata": {
        "id": "mNQ7QI9D-VCT"
      },
      "source": [
        "### prediccion"
      ]
    },
    {
      "cell_type": "code",
      "metadata": {
        "id": "4fhBQZdlK0xf"
      },
      "source": [
        "def catboost(train_data_original,train_labels_original,cat_features,eval_data_original):\r\n",
        "  # Inicializador de CatBoostClassifier\r\n",
        "  model = CatBoostClassifier(iterations=80,\r\n",
        "                             learning_rate=0.5,\r\n",
        "                             depth=8,\r\n",
        "                             l2_leaf_reg=3,\r\n",
        "                             rsm=0.5,\r\n",
        "                             grow_policy='SymmetricTree'#'SymmetricTree', 'Depthwise' y 'Lossguide'\r\n",
        "                             #random_seed=2\r\n",
        "                             #use_best_model=True,#Requiere data de evalucion\r\n",
        "                             #eval_set=supuestos\r\n",
        "                             )\r\n",
        "  #parametros importantes por agregar: l2_leaf_reg, rsm\r\n",
        "  #para tipos de category: cat_features, one_hot_max_size\r\n",
        "  train_data = train_data_original.copy(True)\r\n",
        "  eval_data = eval_data_original.copy(True)\r\n",
        "  train_labels = train_labels_original.copy(True)\r\n",
        "\r\n",
        "  # Entrenamiento del modelo\r\n",
        "  #model.fit(train_data, train_labels, cat_features)\r\n",
        "\r\n",
        "  eval_dataset = Pool(data=eval_data,\r\n",
        "                      label=supuestos[['TargetBinario']],\r\n",
        "                      cat_features=cat_features)\r\n",
        "  model.fit(train_data, train_labels, cat_features, use_best_model=True, eval_set=eval_dataset)\r\n",
        "\r\n",
        "  # obtener prediccion\r\n",
        "  preds_class = model.predict(eval_data)\r\n",
        "\r\n",
        "  # obtener probabilidad de prediccion\r\n",
        "  #preds_proba = model.predict_proba(eval_data)\r\n",
        "\r\n",
        "  # obtener RawFormulaVal de la prediccion\r\n",
        "  #preds_raw = model.predict(eval_data, prediction_type='RawFormulaVal')\r\n",
        "\r\n",
        "  #return resultado(eval_data,preds_proba)\r\n",
        "  importancia = model.get_feature_importance(type= \"FeatureImportance\",prettified=True)\r\n",
        "  return preds_class,importancia"
      ],
      "execution_count": null,
      "outputs": []
    },
    {
      "cell_type": "code",
      "metadata": {
        "colab": {
          "base_uri": "https://localhost:8080/"
        },
        "id": "DgznGL-LaXIz",
        "outputId": "b8874aff-c28c-4b4a-8e60-1c83e28e0c9c"
      },
      "source": [
        "#listaDeCategoricas = ['Region','Territory','Product_Type','Product_Category_B']\r\n",
        "#listaDeCategoricas = ['Region','Territory','Product_Type','Product_Category_B','Account_Type','Delivery_Quarter']\r\n",
        "listaDeCategoricas = ['Region','Territory','Product_Type','Product_Category_B',\r\n",
        "                      'Account_Type','Delivery_Quarter','Billing_Country',\r\n",
        "                      'Delivery_Terms','Product_Family']\r\n",
        "#listaDeCategoricas = []\r\n",
        "res,importancia = catboost(agrupacionEntrenamiento,entrenamientoResultado,listaDeCategoricas,agrupacionTesteo)\r\n",
        "res"
      ],
      "execution_count": null,
      "outputs": [
        {
          "output_type": "stream",
          "text": [
            "0:\tlearn: 0.5209898\ttest: 0.5233887\tbest: 0.5233887 (0)\ttotal: 16.9ms\tremaining: 1.33s\n",
            "1:\tlearn: 0.4724866\ttest: 0.4994176\tbest: 0.4994176 (1)\ttotal: 33.5ms\tremaining: 1.31s\n",
            "2:\tlearn: 0.4367016\ttest: 0.4936629\tbest: 0.4936629 (2)\ttotal: 49ms\tremaining: 1.26s\n",
            "3:\tlearn: 0.4085372\ttest: 0.4836845\tbest: 0.4836845 (3)\ttotal: 64.4ms\tremaining: 1.22s\n",
            "4:\tlearn: 0.3901452\ttest: 0.4718065\tbest: 0.4718065 (4)\ttotal: 80.7ms\tremaining: 1.21s\n",
            "5:\tlearn: 0.3769580\ttest: 0.4606440\tbest: 0.4606440 (5)\ttotal: 94.6ms\tremaining: 1.17s\n",
            "6:\tlearn: 0.3645165\ttest: 0.4627431\tbest: 0.4606440 (5)\ttotal: 110ms\tremaining: 1.15s\n",
            "7:\tlearn: 0.3567527\ttest: 0.4604855\tbest: 0.4604855 (7)\ttotal: 127ms\tremaining: 1.14s\n",
            "8:\tlearn: 0.3446983\ttest: 0.4780993\tbest: 0.4604855 (7)\ttotal: 142ms\tremaining: 1.12s\n",
            "9:\tlearn: 0.3317255\ttest: 0.4901607\tbest: 0.4604855 (7)\ttotal: 158ms\tremaining: 1.1s\n",
            "10:\tlearn: 0.3231400\ttest: 0.4992002\tbest: 0.4604855 (7)\ttotal: 174ms\tremaining: 1.09s\n",
            "11:\tlearn: 0.3166112\ttest: 0.5069198\tbest: 0.4604855 (7)\ttotal: 188ms\tremaining: 1.06s\n",
            "12:\tlearn: 0.3108393\ttest: 0.5140151\tbest: 0.4604855 (7)\ttotal: 202ms\tremaining: 1.04s\n",
            "13:\tlearn: 0.3055426\ttest: 0.5158104\tbest: 0.4604855 (7)\ttotal: 217ms\tremaining: 1.02s\n",
            "14:\tlearn: 0.3014732\ttest: 0.5194558\tbest: 0.4604855 (7)\ttotal: 234ms\tremaining: 1.01s\n",
            "15:\tlearn: 0.2968199\ttest: 0.5300452\tbest: 0.4604855 (7)\ttotal: 248ms\tremaining: 991ms\n",
            "16:\tlearn: 0.2910281\ttest: 0.5546186\tbest: 0.4604855 (7)\ttotal: 262ms\tremaining: 969ms\n",
            "17:\tlearn: 0.2813901\ttest: 0.5610694\tbest: 0.4604855 (7)\ttotal: 278ms\tremaining: 958ms\n",
            "18:\tlearn: 0.2734446\ttest: 0.5555275\tbest: 0.4604855 (7)\ttotal: 293ms\tremaining: 940ms\n",
            "19:\tlearn: 0.2701924\ttest: 0.5546814\tbest: 0.4604855 (7)\ttotal: 307ms\tremaining: 921ms\n",
            "20:\tlearn: 0.2660695\ttest: 0.5539730\tbest: 0.4604855 (7)\ttotal: 325ms\tremaining: 913ms\n",
            "21:\tlearn: 0.2583880\ttest: 0.5512133\tbest: 0.4604855 (7)\ttotal: 339ms\tremaining: 894ms\n",
            "22:\tlearn: 0.2529936\ttest: 0.5524415\tbest: 0.4604855 (7)\ttotal: 354ms\tremaining: 876ms\n",
            "23:\tlearn: 0.2462897\ttest: 0.5520066\tbest: 0.4604855 (7)\ttotal: 369ms\tremaining: 860ms\n",
            "24:\tlearn: 0.2396298\ttest: 0.5563105\tbest: 0.4604855 (7)\ttotal: 383ms\tremaining: 843ms\n",
            "25:\tlearn: 0.2352969\ttest: 0.5579209\tbest: 0.4604855 (7)\ttotal: 399ms\tremaining: 829ms\n",
            "26:\tlearn: 0.2283450\ttest: 0.5607166\tbest: 0.4604855 (7)\ttotal: 413ms\tremaining: 811ms\n",
            "27:\tlearn: 0.2240793\ttest: 0.5803273\tbest: 0.4604855 (7)\ttotal: 433ms\tremaining: 805ms\n",
            "28:\tlearn: 0.2208876\ttest: 0.5780746\tbest: 0.4604855 (7)\ttotal: 448ms\tremaining: 788ms\n",
            "29:\tlearn: 0.2145326\ttest: 0.5847842\tbest: 0.4604855 (7)\ttotal: 462ms\tremaining: 770ms\n",
            "30:\tlearn: 0.2116146\ttest: 0.5890598\tbest: 0.4604855 (7)\ttotal: 478ms\tremaining: 755ms\n",
            "31:\tlearn: 0.2045996\ttest: 0.5911160\tbest: 0.4604855 (7)\ttotal: 494ms\tremaining: 740ms\n",
            "32:\tlearn: 0.1981711\ttest: 0.5949029\tbest: 0.4604855 (7)\ttotal: 508ms\tremaining: 723ms\n",
            "33:\tlearn: 0.1949840\ttest: 0.6017853\tbest: 0.4604855 (7)\ttotal: 521ms\tremaining: 705ms\n",
            "34:\tlearn: 0.1911906\ttest: 0.6057095\tbest: 0.4604855 (7)\ttotal: 536ms\tremaining: 689ms\n",
            "35:\tlearn: 0.1873690\ttest: 0.6068871\tbest: 0.4604855 (7)\ttotal: 549ms\tremaining: 671ms\n",
            "36:\tlearn: 0.1850829\ttest: 0.6135300\tbest: 0.4604855 (7)\ttotal: 564ms\tremaining: 655ms\n",
            "37:\tlearn: 0.1838765\ttest: 0.6132699\tbest: 0.4604855 (7)\ttotal: 580ms\tremaining: 641ms\n",
            "38:\tlearn: 0.1816611\ttest: 0.6166399\tbest: 0.4604855 (7)\ttotal: 596ms\tremaining: 627ms\n",
            "39:\tlearn: 0.1790587\ttest: 0.6184569\tbest: 0.4604855 (7)\ttotal: 611ms\tremaining: 611ms\n",
            "40:\tlearn: 0.1755631\ttest: 0.6280015\tbest: 0.4604855 (7)\ttotal: 626ms\tremaining: 595ms\n",
            "41:\tlearn: 0.1754131\ttest: 0.6279109\tbest: 0.4604855 (7)\ttotal: 642ms\tremaining: 581ms\n",
            "42:\tlearn: 0.1702570\ttest: 0.6326718\tbest: 0.4604855 (7)\ttotal: 658ms\tremaining: 566ms\n",
            "43:\tlearn: 0.1675204\ttest: 0.6320154\tbest: 0.4604855 (7)\ttotal: 672ms\tremaining: 550ms\n",
            "44:\tlearn: 0.1639886\ttest: 0.6413878\tbest: 0.4604855 (7)\ttotal: 686ms\tremaining: 533ms\n",
            "45:\tlearn: 0.1612803\ttest: 0.6392720\tbest: 0.4604855 (7)\ttotal: 700ms\tremaining: 517ms\n",
            "46:\tlearn: 0.1587832\ttest: 0.6416042\tbest: 0.4604855 (7)\ttotal: 715ms\tremaining: 502ms\n",
            "47:\tlearn: 0.1569770\ttest: 0.6469273\tbest: 0.4604855 (7)\ttotal: 730ms\tremaining: 486ms\n",
            "48:\tlearn: 0.1541441\ttest: 0.6472340\tbest: 0.4604855 (7)\ttotal: 744ms\tremaining: 471ms\n",
            "49:\tlearn: 0.1531752\ttest: 0.6470563\tbest: 0.4604855 (7)\ttotal: 758ms\tremaining: 455ms\n",
            "50:\tlearn: 0.1498961\ttest: 0.6516944\tbest: 0.4604855 (7)\ttotal: 783ms\tremaining: 445ms\n",
            "51:\tlearn: 0.1485441\ttest: 0.6546183\tbest: 0.4604855 (7)\ttotal: 797ms\tremaining: 429ms\n",
            "52:\tlearn: 0.1480087\ttest: 0.6558795\tbest: 0.4604855 (7)\ttotal: 812ms\tremaining: 414ms\n",
            "53:\tlearn: 0.1453690\ttest: 0.6617830\tbest: 0.4604855 (7)\ttotal: 827ms\tremaining: 398ms\n",
            "54:\tlearn: 0.1427906\ttest: 0.6670191\tbest: 0.4604855 (7)\ttotal: 849ms\tremaining: 386ms\n",
            "55:\tlearn: 0.1405731\ttest: 0.6709797\tbest: 0.4604855 (7)\ttotal: 864ms\tremaining: 370ms\n",
            "56:\tlearn: 0.1397454\ttest: 0.6712221\tbest: 0.4604855 (7)\ttotal: 877ms\tremaining: 354ms\n",
            "57:\tlearn: 0.1374637\ttest: 0.6783024\tbest: 0.4604855 (7)\ttotal: 894ms\tremaining: 339ms\n",
            "58:\tlearn: 0.1358507\ttest: 0.6774672\tbest: 0.4604855 (7)\ttotal: 910ms\tremaining: 324ms\n",
            "59:\tlearn: 0.1341389\ttest: 0.6765769\tbest: 0.4604855 (7)\ttotal: 924ms\tremaining: 308ms\n",
            "60:\tlearn: 0.1322218\ttest: 0.6805056\tbest: 0.4604855 (7)\ttotal: 939ms\tremaining: 293ms\n",
            "61:\tlearn: 0.1297480\ttest: 0.6849996\tbest: 0.4604855 (7)\ttotal: 956ms\tremaining: 278ms\n",
            "62:\tlearn: 0.1280582\ttest: 0.6858638\tbest: 0.4604855 (7)\ttotal: 970ms\tremaining: 262ms\n",
            "63:\tlearn: 0.1269489\ttest: 0.6842849\tbest: 0.4604855 (7)\ttotal: 985ms\tremaining: 246ms\n",
            "64:\tlearn: 0.1262126\ttest: 0.6857361\tbest: 0.4604855 (7)\ttotal: 1s\tremaining: 231ms\n",
            "65:\tlearn: 0.1242524\ttest: 0.6830648\tbest: 0.4604855 (7)\ttotal: 1.01s\tremaining: 215ms\n",
            "66:\tlearn: 0.1230286\ttest: 0.6839467\tbest: 0.4604855 (7)\ttotal: 1.03s\tremaining: 200ms\n",
            "67:\tlearn: 0.1216062\ttest: 0.6814223\tbest: 0.4604855 (7)\ttotal: 1.05s\tremaining: 185ms\n",
            "68:\tlearn: 0.1200446\ttest: 0.6829891\tbest: 0.4604855 (7)\ttotal: 1.07s\tremaining: 170ms\n",
            "69:\tlearn: 0.1188254\ttest: 0.6838974\tbest: 0.4604855 (7)\ttotal: 1.08s\tremaining: 155ms\n",
            "70:\tlearn: 0.1181057\ttest: 0.6856848\tbest: 0.4604855 (7)\ttotal: 1.1s\tremaining: 139ms\n",
            "71:\tlearn: 0.1159376\ttest: 0.6867171\tbest: 0.4604855 (7)\ttotal: 1.11s\tremaining: 124ms\n",
            "72:\tlearn: 0.1134677\ttest: 0.6908976\tbest: 0.4604855 (7)\ttotal: 1.13s\tremaining: 108ms\n",
            "73:\tlearn: 0.1130498\ttest: 0.6903618\tbest: 0.4604855 (7)\ttotal: 1.14s\tremaining: 92.6ms\n",
            "74:\tlearn: 0.1121982\ttest: 0.6888951\tbest: 0.4604855 (7)\ttotal: 1.16s\tremaining: 77.1ms\n",
            "75:\tlearn: 0.1116665\ttest: 0.6894794\tbest: 0.4604855 (7)\ttotal: 1.17s\tremaining: 61.5ms\n",
            "76:\tlearn: 0.1104212\ttest: 0.6912860\tbest: 0.4604855 (7)\ttotal: 1.18s\tremaining: 46.1ms\n",
            "77:\tlearn: 0.1103263\ttest: 0.6897697\tbest: 0.4604855 (7)\ttotal: 1.2s\tremaining: 30.8ms\n",
            "78:\tlearn: 0.1074857\ttest: 0.6943157\tbest: 0.4604855 (7)\ttotal: 1.22s\tremaining: 15.4ms\n",
            "79:\tlearn: 0.1056367\ttest: 0.6941833\tbest: 0.4604855 (7)\ttotal: 1.23s\tremaining: 0us\n",
            "\n",
            "bestTest = 0.460485528\n",
            "bestIteration = 7\n",
            "\n",
            "Shrink model to first 8 iterations.\n"
          ],
          "name": "stdout"
        },
        {
          "output_type": "execute_result",
          "data": {
            "text/plain": [
              "array([0, 0, 1, ..., 0, 1, 0])"
            ]
          },
          "metadata": {
            "tags": []
          },
          "execution_count": 66
        }
      ]
    },
    {
      "cell_type": "code",
      "metadata": {
        "colab": {
          "base_uri": "https://localhost:8080/"
        },
        "id": "Bgabwh58hq77",
        "outputId": "65c9578c-3fc2-42e5-9b66-5de7aa823fba"
      },
      "source": [
        "resultado = auxiliarUnificarValor(res)\r\n",
        "#resultado = res\r\n",
        "resultado = (resultado - 1) * (-1)#En las ultimas pruevas es el opuesto el que genera mejor resultado\r\n",
        "resultado"
      ],
      "execution_count": null,
      "outputs": [
        {
          "output_type": "execute_result",
          "data": {
            "text/plain": [
              "array([0.41593382, 0.3370681 , 0.63055812, ..., 0.30270279, 0.71528178,\n",
              "       0.16628556])"
            ]
          },
          "metadata": {
            "tags": []
          },
          "execution_count": 45
        }
      ]
    },
    {
      "cell_type": "code",
      "metadata": {
        "colab": {
          "base_uri": "https://localhost:8080/",
          "height": 238
        },
        "id": "cv9IaH_CjpoN",
        "outputId": "a60c3018-04cf-4ad6-ee4a-11b3b2056e60"
      },
      "source": [
        "dataResultante = generarResultado(agrupacionTesteo,resultado)\r\n",
        "dataResultante.head()"
      ],
      "execution_count": null,
      "outputs": [
        {
          "output_type": "execute_result",
          "data": {
            "text/html": [
              "<div>\n",
              "<style scoped>\n",
              "    .dataframe tbody tr th:only-of-type {\n",
              "        vertical-align: middle;\n",
              "    }\n",
              "\n",
              "    .dataframe tbody tr th {\n",
              "        vertical-align: top;\n",
              "    }\n",
              "\n",
              "    .dataframe thead th {\n",
              "        text-align: right;\n",
              "    }\n",
              "</style>\n",
              "<table border=\"1\" class=\"dataframe\">\n",
              "  <thead>\n",
              "    <tr style=\"text-align: right;\">\n",
              "      <th></th>\n",
              "      <th>Target</th>\n",
              "    </tr>\n",
              "    <tr>\n",
              "      <th>Opportunity_ID</th>\n",
              "      <th></th>\n",
              "    </tr>\n",
              "  </thead>\n",
              "  <tbody>\n",
              "    <tr>\n",
              "      <th>10689</th>\n",
              "      <td>0</td>\n",
              "    </tr>\n",
              "    <tr>\n",
              "      <th>10690</th>\n",
              "      <td>0</td>\n",
              "    </tr>\n",
              "    <tr>\n",
              "      <th>10691</th>\n",
              "      <td>1</td>\n",
              "    </tr>\n",
              "    <tr>\n",
              "      <th>10692</th>\n",
              "      <td>1</td>\n",
              "    </tr>\n",
              "    <tr>\n",
              "      <th>10693</th>\n",
              "      <td>1</td>\n",
              "    </tr>\n",
              "  </tbody>\n",
              "</table>\n",
              "</div>"
            ],
            "text/plain": [
              "                Target\n",
              "Opportunity_ID        \n",
              "10689                0\n",
              "10690                0\n",
              "10691                1\n",
              "10692                1\n",
              "10693                1"
            ]
          },
          "metadata": {
            "tags": []
          },
          "execution_count": 67
        }
      ]
    },
    {
      "cell_type": "code",
      "metadata": {
        "colab": {
          "base_uri": "https://localhost:8080/",
          "height": 1000
        },
        "id": "TjaNnyRAySZv",
        "outputId": "11235259-a8c0-42a3-d941-48ea8dd6045e"
      },
      "source": [
        "importancia"
      ],
      "execution_count": 170,
      "outputs": [
        {
          "output_type": "execute_result",
          "data": {
            "text/html": [
              "<div>\n",
              "<style scoped>\n",
              "    .dataframe tbody tr th:only-of-type {\n",
              "        vertical-align: middle;\n",
              "    }\n",
              "\n",
              "    .dataframe tbody tr th {\n",
              "        vertical-align: top;\n",
              "    }\n",
              "\n",
              "    .dataframe thead th {\n",
              "        text-align: right;\n",
              "    }\n",
              "</style>\n",
              "<table border=\"1\" class=\"dataframe\">\n",
              "  <thead>\n",
              "    <tr style=\"text-align: right;\">\n",
              "      <th></th>\n",
              "      <th>Feature Id</th>\n",
              "      <th>Importances</th>\n",
              "    </tr>\n",
              "  </thead>\n",
              "  <tbody>\n",
              "    <tr>\n",
              "      <th>0</th>\n",
              "      <td>TRF</td>\n",
              "      <td>14.65</td>\n",
              "    </tr>\n",
              "    <tr>\n",
              "      <th>1</th>\n",
              "      <td>Product_Type</td>\n",
              "      <td>10.33</td>\n",
              "    </tr>\n",
              "    <tr>\n",
              "      <th>2</th>\n",
              "      <td>Pricing, Delivery_Terms_Approved</td>\n",
              "      <td>9.03</td>\n",
              "    </tr>\n",
              "    <tr>\n",
              "      <th>3</th>\n",
              "      <td>Product_Category_B</td>\n",
              "      <td>7.26</td>\n",
              "    </tr>\n",
              "    <tr>\n",
              "      <th>4</th>\n",
              "      <td>Region</td>\n",
              "      <td>6.44</td>\n",
              "    </tr>\n",
              "    <tr>\n",
              "      <th>5</th>\n",
              "      <td>Planned_Delivery_End_Date_dia</td>\n",
              "      <td>5.60</td>\n",
              "    </tr>\n",
              "    <tr>\n",
              "      <th>6</th>\n",
              "      <td>Account_Created_Date_dia</td>\n",
              "      <td>3.96</td>\n",
              "    </tr>\n",
              "    <tr>\n",
              "      <th>7</th>\n",
              "      <td>Product_Family</td>\n",
              "      <td>3.82</td>\n",
              "    </tr>\n",
              "    <tr>\n",
              "      <th>8</th>\n",
              "      <td>Planned_Delivery_Start_Date_anio</td>\n",
              "      <td>3.81</td>\n",
              "    </tr>\n",
              "    <tr>\n",
              "      <th>9</th>\n",
              "      <td>Opportunity_Created_Date_anio</td>\n",
              "      <td>3.41</td>\n",
              "    </tr>\n",
              "    <tr>\n",
              "      <th>10</th>\n",
              "      <td>Opportunity_Created_Date_mes</td>\n",
              "      <td>3.30</td>\n",
              "    </tr>\n",
              "    <tr>\n",
              "      <th>11</th>\n",
              "      <td>Account_Created_Date_anio</td>\n",
              "      <td>3.03</td>\n",
              "    </tr>\n",
              "    <tr>\n",
              "      <th>12</th>\n",
              "      <td>Account_Type</td>\n",
              "      <td>2.98</td>\n",
              "    </tr>\n",
              "    <tr>\n",
              "      <th>13</th>\n",
              "      <td>Total_Amount</td>\n",
              "      <td>2.91</td>\n",
              "    </tr>\n",
              "    <tr>\n",
              "      <th>14</th>\n",
              "      <td>Planned_Delivery_Start_Date_mes</td>\n",
              "      <td>2.84</td>\n",
              "    </tr>\n",
              "    <tr>\n",
              "      <th>15</th>\n",
              "      <td>Planned_Delivery_Start_Date_dia</td>\n",
              "      <td>2.57</td>\n",
              "    </tr>\n",
              "    <tr>\n",
              "      <th>16</th>\n",
              "      <td>ASP_(converted)</td>\n",
              "      <td>2.57</td>\n",
              "    </tr>\n",
              "    <tr>\n",
              "      <th>17</th>\n",
              "      <td>Opportunity_Created_Date_dia</td>\n",
              "      <td>2.21</td>\n",
              "    </tr>\n",
              "    <tr>\n",
              "      <th>18</th>\n",
              "      <td>Last_Modified_Date_mes</td>\n",
              "      <td>2.11</td>\n",
              "    </tr>\n",
              "    <tr>\n",
              "      <th>19</th>\n",
              "      <td>Billing_Country</td>\n",
              "      <td>2.06</td>\n",
              "    </tr>\n",
              "    <tr>\n",
              "      <th>20</th>\n",
              "      <td>Bureaucratic_Code_0_Approval</td>\n",
              "      <td>1.86</td>\n",
              "    </tr>\n",
              "    <tr>\n",
              "      <th>21</th>\n",
              "      <td>Last_Modified_Date_dia</td>\n",
              "      <td>1.31</td>\n",
              "    </tr>\n",
              "    <tr>\n",
              "      <th>22</th>\n",
              "      <td>Planned_Delivery_End_Date_mes</td>\n",
              "      <td>1.09</td>\n",
              "    </tr>\n",
              "    <tr>\n",
              "      <th>23</th>\n",
              "      <td>Delivery_Terms</td>\n",
              "      <td>0.88</td>\n",
              "    </tr>\n",
              "    <tr>\n",
              "      <th>24</th>\n",
              "      <td>modificaciones</td>\n",
              "      <td>0.00</td>\n",
              "    </tr>\n",
              "    <tr>\n",
              "      <th>25</th>\n",
              "      <td>Pricing, Delivery_Terms_Quote_Appr</td>\n",
              "      <td>0.00</td>\n",
              "    </tr>\n",
              "    <tr>\n",
              "      <th>26</th>\n",
              "      <td>Bureaucratic_Code_0_Approved</td>\n",
              "      <td>0.00</td>\n",
              "    </tr>\n",
              "    <tr>\n",
              "      <th>27</th>\n",
              "      <td>Territory</td>\n",
              "      <td>0.00</td>\n",
              "    </tr>\n",
              "    <tr>\n",
              "      <th>28</th>\n",
              "      <td>Delivery_Quarter</td>\n",
              "      <td>0.00</td>\n",
              "    </tr>\n",
              "    <tr>\n",
              "      <th>29</th>\n",
              "      <td>Last_Modified_Date_anio</td>\n",
              "      <td>0.00</td>\n",
              "    </tr>\n",
              "    <tr>\n",
              "      <th>30</th>\n",
              "      <td>Account_Created_Date_mes</td>\n",
              "      <td>0.00</td>\n",
              "    </tr>\n",
              "    <tr>\n",
              "      <th>31</th>\n",
              "      <td>Planned_Delivery_End_Date_anio</td>\n",
              "      <td>0.00</td>\n",
              "    </tr>\n",
              "  </tbody>\n",
              "</table>\n",
              "</div>"
            ],
            "text/plain": [
              "                            Feature Id          Importances\n",
              "0                                  TRF                14.65\n",
              "1                         Product_Type                10.33\n",
              "2     Pricing, Delivery_Terms_Approved                 9.03\n",
              "3                   Product_Category_B                 7.26\n",
              "4                               Region                 6.44\n",
              "5        Planned_Delivery_End_Date_dia                 5.60\n",
              "6             Account_Created_Date_dia                 3.96\n",
              "7                       Product_Family                 3.82\n",
              "8     Planned_Delivery_Start_Date_anio                 3.81\n",
              "9        Opportunity_Created_Date_anio                 3.41\n",
              "10        Opportunity_Created_Date_mes                 3.30\n",
              "11           Account_Created_Date_anio                 3.03\n",
              "12                        Account_Type                 2.98\n",
              "13                        Total_Amount                 2.91\n",
              "14     Planned_Delivery_Start_Date_mes                 2.84\n",
              "15     Planned_Delivery_Start_Date_dia                 2.57\n",
              "16                     ASP_(converted)                 2.57\n",
              "17        Opportunity_Created_Date_dia                 2.21\n",
              "18              Last_Modified_Date_mes                 2.11\n",
              "19                     Billing_Country                 2.06\n",
              "20        Bureaucratic_Code_0_Approval                 1.86\n",
              "21              Last_Modified_Date_dia                 1.31\n",
              "22       Planned_Delivery_End_Date_mes                 1.09\n",
              "23                      Delivery_Terms                 0.88\n",
              "24                      modificaciones                 0.00\n",
              "25  Pricing, Delivery_Terms_Quote_Appr                 0.00\n",
              "26        Bureaucratic_Code_0_Approved                 0.00\n",
              "27                           Territory                 0.00\n",
              "28                    Delivery_Quarter                 0.00\n",
              "29             Last_Modified_Date_anio                 0.00\n",
              "30            Account_Created_Date_mes                 0.00\n",
              "31      Planned_Delivery_End_Date_anio                 0.00"
            ]
          },
          "metadata": {
            "tags": []
          },
          "execution_count": 170
        }
      ]
    },
    {
      "cell_type": "markdown",
      "metadata": {
        "id": "onKsrVr1lwas"
      },
      "source": [
        "## XGBoost"
      ]
    },
    {
      "cell_type": "code",
      "metadata": {
        "id": "uAJLnCXIl1eQ"
      },
      "source": [
        "def xgboost(train_set, train_label,listaCategorica,test_set,masImportantes=0):\r\n",
        "  xgb_reg = xgb.XGBClassifier(max_depth = 8, \r\n",
        "                           colsample_bytree = 0.5, \r\n",
        "                           learning_rate = 0.3, \r\n",
        "                           alpha = 8,\r\n",
        "                           min_child_weight = 0.5,\r\n",
        "                           n_estimators = 200,\r\n",
        "                           objetive = 'reg:squarederror')\r\n",
        "  xgb_reg.fit(train_set, train_label)\r\n",
        "  predicts = xgb_reg.predict_proba(test_set)\r\n",
        "  if (masImportantes > 0):\r\n",
        "    xgb.plot_importance(xg_reg, max_num_features=masImportantes)\r\n",
        "  return predicts\r\n",
        "\r\n",
        "\r\n"
      ],
      "execution_count": 76,
      "outputs": []
    },
    {
      "cell_type": "code",
      "metadata": {
        "colab": {
          "base_uri": "https://localhost:8080/"
        },
        "id": "viXhlcxFonZc",
        "outputId": "3f931c2b-03a1-4a8f-e1c5-6313965cdbd6"
      },
      "source": [
        "#listaDeCategoricas = ['Region','Territory','Product_Type','Product_Category_B']\r\n",
        "#listaDeCategoricas = ['Region','Territory','Product_Type','Product_Category_B','Account_Type','Delivery_Quarter']\r\n",
        "listaDeCategoricas = ['Region','Territory','Product_Type','Product_Category_B',\r\n",
        "                      'Account_Type','Delivery_Quarter','Billing_Country',\r\n",
        "                      'Delivery_Terms','Product_Family']\r\n",
        "#listaDeCategoricas = []\r\n",
        "agrupacionEntrenamientoXGB = agrupacionEntrenamiento.copy(True)\r\n",
        "agrupacionTesteoXGB = agrupacionTesteo.copy(True)\r\n",
        "\r\n",
        "# convert categorical columns to integers \r\n",
        "#usando la funcion de catboost\r\n",
        "for header in listaDeCategoricas:\r\n",
        "  agrupacionEntrenamientoXGB[header] = agrupacionEntrenamientoXGB[header].astype('category').cat.codes\r\n",
        "  agrupacionTesteoXGB[header] = agrupacionTesteoXGB[header].astype('category').cat.codes\r\n",
        "#usando metodo personalizado\r\n",
        "#for columna in listaDeCategoricas:\r\n",
        "#  agrupacionEntrenamientoXGB,agrupacionTesteoXGB = convertirCategoryEnEnteros(agrupacionEntrenamientoXGB,agrupacionTesteoXGB,columna)\r\n",
        "\r\n",
        "\r\n",
        "agrupacionEntrenamientoXGB.info()"
      ],
      "execution_count": 82,
      "outputs": [
        {
          "output_type": "stream",
          "text": [
            "<class 'pandas.core.frame.DataFrame'>\n",
            "Int64Index: 9791 entries, 0 to 12803\n",
            "Data columns (total 32 columns):\n",
            " #   Column                              Non-Null Count  Dtype  \n",
            "---  ------                              --------------  -----  \n",
            " 0   modificaciones                      9791 non-null   int64  \n",
            " 1   Pricing, Delivery_Terms_Quote_Appr  9791 non-null   int64  \n",
            " 2   Pricing, Delivery_Terms_Approved    9791 non-null   int64  \n",
            " 3   Bureaucratic_Code_0_Approval        9791 non-null   int64  \n",
            " 4   Bureaucratic_Code_0_Approved        9791 non-null   int64  \n",
            " 5   Total_Amount                        9791 non-null   float64\n",
            " 6   Region                              9791 non-null   int8   \n",
            " 7   Territory                           9791 non-null   int8   \n",
            " 8   ASP_(converted)                     9791 non-null   float64\n",
            " 9   Account_Type                        9791 non-null   int8   \n",
            " 10  Delivery_Quarter                    9791 non-null   int8   \n",
            " 11  Product_Type                        9791 non-null   int8   \n",
            " 12  Product_Category_B                  9791 non-null   int8   \n",
            " 13  Billing_Country                     9791 non-null   int8   \n",
            " 14  Delivery_Terms                      9791 non-null   int8   \n",
            " 15  Product_Family                      9791 non-null   int16  \n",
            " 16  TRF                                 9791 non-null   float64\n",
            " 17  Last_Modified_Date_anio             9791 non-null   int64  \n",
            " 18  Last_Modified_Date_mes              9791 non-null   int64  \n",
            " 19  Last_Modified_Date_dia              9791 non-null   int64  \n",
            " 20  Opportunity_Created_Date_anio       9791 non-null   int64  \n",
            " 21  Opportunity_Created_Date_mes        9791 non-null   int64  \n",
            " 22  Opportunity_Created_Date_dia        9791 non-null   int64  \n",
            " 23  Account_Created_Date_anio           9791 non-null   int64  \n",
            " 24  Account_Created_Date_mes            9791 non-null   int64  \n",
            " 25  Account_Created_Date_dia            9791 non-null   int64  \n",
            " 26  Planned_Delivery_Start_Date_anio    9791 non-null   int64  \n",
            " 27  Planned_Delivery_Start_Date_mes     9791 non-null   int64  \n",
            " 28  Planned_Delivery_Start_Date_dia     9791 non-null   int64  \n",
            " 29  Planned_Delivery_End_Date_anio      9734 non-null   float64\n",
            " 30  Planned_Delivery_End_Date_mes       9734 non-null   float64\n",
            " 31  Planned_Delivery_End_Date_dia       9734 non-null   float64\n",
            "dtypes: float64(6), int16(1), int64(17), int8(8)\n",
            "memory usage: 1.9 MB\n"
          ],
          "name": "stdout"
        }
      ]
    },
    {
      "cell_type": "code",
      "metadata": {
        "colab": {
          "base_uri": "https://localhost:8080/"
        },
        "id": "HHZouTYbv07j",
        "outputId": "53d38c14-2058-45dd-e8c5-6c396a1203b8"
      },
      "source": [
        "\r\n",
        "res = xgboost(agrupacionEntrenamientoXGB,entrenamientoResultado,listaDeCategoricas,agrupacionTesteoXGB)\r\n",
        "res"
      ],
      "execution_count": 83,
      "outputs": [
        {
          "output_type": "execute_result",
          "data": {
            "text/plain": [
              "array([[0.06901902, 0.930981  ],\n",
              "       [0.38701797, 0.61298203],\n",
              "       [0.0403347 , 0.9596653 ],\n",
              "       ...,\n",
              "       [0.92158395, 0.07841606],\n",
              "       [0.01706135, 0.98293865],\n",
              "       [0.8929871 , 0.10701291]], dtype=float32)"
            ]
          },
          "metadata": {
            "tags": []
          },
          "execution_count": 83
        }
      ]
    },
    {
      "cell_type": "code",
      "metadata": {
        "colab": {
          "base_uri": "https://localhost:8080/"
        },
        "id": "ne_Bb8L6QuXg",
        "outputId": "48221fbf-4b4d-41a2-e8ab-c75df341917d"
      },
      "source": [
        "resultado = auxiliarUnificarValor(res)\r\n",
        "resultado = (resultado - 1) * (-1)#En las ultimas pruevas es el opuesto el que genera mejor resultado\r\n",
        "resultado"
      ],
      "execution_count": 84,
      "outputs": [
        {
          "output_type": "execute_result",
          "data": {
            "text/plain": [
              "array([0.930981  , 0.61298203, 0.9596653 , ..., 0.07841605, 0.98293865,\n",
              "       0.10701293], dtype=float32)"
            ]
          },
          "metadata": {
            "tags": []
          },
          "execution_count": 84
        }
      ]
    },
    {
      "cell_type": "code",
      "metadata": {
        "colab": {
          "base_uri": "https://localhost:8080/",
          "height": 238
        },
        "id": "hHUrCcTgosNz",
        "outputId": "f363578d-58c2-4fc4-db8b-72d5e8b946c8"
      },
      "source": [
        "dataResultante = generarResultado(agrupacionTesteo,resultado)\r\n",
        "dataResultante.head()"
      ],
      "execution_count": 85,
      "outputs": [
        {
          "output_type": "execute_result",
          "data": {
            "text/html": [
              "<div>\n",
              "<style scoped>\n",
              "    .dataframe tbody tr th:only-of-type {\n",
              "        vertical-align: middle;\n",
              "    }\n",
              "\n",
              "    .dataframe tbody tr th {\n",
              "        vertical-align: top;\n",
              "    }\n",
              "\n",
              "    .dataframe thead th {\n",
              "        text-align: right;\n",
              "    }\n",
              "</style>\n",
              "<table border=\"1\" class=\"dataframe\">\n",
              "  <thead>\n",
              "    <tr style=\"text-align: right;\">\n",
              "      <th></th>\n",
              "      <th>Target</th>\n",
              "    </tr>\n",
              "    <tr>\n",
              "      <th>Opportunity_ID</th>\n",
              "      <th></th>\n",
              "    </tr>\n",
              "  </thead>\n",
              "  <tbody>\n",
              "    <tr>\n",
              "      <th>10689</th>\n",
              "      <td>0.93</td>\n",
              "    </tr>\n",
              "    <tr>\n",
              "      <th>10690</th>\n",
              "      <td>0.61</td>\n",
              "    </tr>\n",
              "    <tr>\n",
              "      <th>10691</th>\n",
              "      <td>0.96</td>\n",
              "    </tr>\n",
              "    <tr>\n",
              "      <th>10692</th>\n",
              "      <td>0.44</td>\n",
              "    </tr>\n",
              "    <tr>\n",
              "      <th>10693</th>\n",
              "      <td>1.00</td>\n",
              "    </tr>\n",
              "  </tbody>\n",
              "</table>\n",
              "</div>"
            ],
            "text/plain": [
              "                             Target\n",
              "Opportunity_ID                     \n",
              "10689                          0.93\n",
              "10690                          0.61\n",
              "10691                          0.96\n",
              "10692                          0.44\n",
              "10693                          1.00"
            ]
          },
          "metadata": {
            "tags": []
          },
          "execution_count": 85
        }
      ]
    },
    {
      "cell_type": "markdown",
      "metadata": {
        "id": "baxdAoAzfwxz"
      },
      "source": [
        "## LightGBM"
      ]
    },
    {
      "cell_type": "code",
      "metadata": {
        "colab": {
          "base_uri": "https://localhost:8080/",
          "height": 91
        },
        "id": "nZVOGGgFgU3H",
        "outputId": "dc3f4ef1-5192-414a-c69f-ac268dd4247f"
      },
      "source": [
        "def lightGBM(train_data,train_labels,cat_features,eval_data):\r\n",
        "  # evaluate the model\r\n",
        "  model = lgb.LGBMClassifier()\r\n",
        "  cv = RepeatedStratifiedKFold(n_splits=10, n_repeats=3, random_state=1)\r\n",
        "  n_scores = cross_val_score(model,\r\n",
        "                             train_data,\r\n",
        "                             train_labels,\r\n",
        "                             scoring='accuracy',\r\n",
        "                             cv=cv,\r\n",
        "                             n_jobs=-1,\r\n",
        "                             categorical_feature=cat_features,\r\n",
        "                             error_score='raise')\r\n",
        "  print('Accuracy: %.3f (%.3f)' % (mean(n_scores), std(n_scores)))\r\n",
        "  # fit the model on the whole dataset\r\n",
        "  model = lgb.LGBMClassifier()\r\n",
        "  model.fit(X, y)\r\n",
        "  # make a single prediction\r\n",
        "  yhat = model.predict(eval_data)\r\n",
        "  return yhat\r\n",
        "\"\"\"\r\n",
        "  parameters = {\r\n",
        "      'application': 'binary',\r\n",
        "      'objective': 'binary',\r\n",
        "      'metric': 'auc',\r\n",
        "      'is_unbalance': 'true',\r\n",
        "      'boosting': 'gbdt',\r\n",
        "      'num_leaves': 31,\r\n",
        "      'feature_fraction': 0.5,\r\n",
        "      'bagging_fraction': 0.5,\r\n",
        "      'bagging_freq': 20,\r\n",
        "      'learning_rate': 0.05,\r\n",
        "      'verbose': 0,\r\n",
        "      'categorical_feature':cat_features\r\n",
        "  }\r\n",
        "\r\n",
        "  model = lgb.train(parameters,\r\n",
        "                        train_data,\r\n",
        "                        valid_sets=train_labels,\r\n",
        "                        num_boost_round=5000,\r\n",
        "                        early_stopping_rounds=100)\r\n",
        "\r\n",
        "  x = eval_data\r\n",
        "  y = model.predict(x)\r\n",
        "  output = pd.DataFrame({'id': ids, 'target': y})\r\n",
        "\"\"\"\r\n",
        "  #output.to_csv(\"submission.csv\", index=False)\r\n",
        "  # save model to file\r\n",
        "  #gbm.save_model('model.txt')"
      ],
      "execution_count": null,
      "outputs": [
        {
          "output_type": "execute_result",
          "data": {
            "application/vnd.google.colaboratory.intrinsic+json": {
              "type": "string"
            },
            "text/plain": [
              "\"\\n  parameters = {\\n      'application': 'binary',\\n      'objective': 'binary',\\n      'metric': 'auc',\\n      'is_unbalance': 'true',\\n      'boosting': 'gbdt',\\n      'num_leaves': 31,\\n      'feature_fraction': 0.5,\\n      'bagging_fraction': 0.5,\\n      'bagging_freq': 20,\\n      'learning_rate': 0.05,\\n      'verbose': 0,\\n      'categorical_feature':cat_features\\n  }\\n\\n  model = lgb.train(parameters,\\n                        train_data,\\n                        valid_sets=train_labels,\\n                        num_boost_round=5000,\\n                        early_stopping_rounds=100)\\n\\n  x = eval_data\\n  y = model.predict(x)\\n  output = pd.DataFrame({'id': ids, 'target': y})\\n\""
            ]
          },
          "metadata": {
            "tags": []
          },
          "execution_count": 43
        }
      ]
    },
    {
      "cell_type": "code",
      "metadata": {
        "colab": {
          "base_uri": "https://localhost:8080/",
          "height": 338
        },
        "id": "2UVA9vOQjN2o",
        "outputId": "eb2f3aaf-3606-49d3-9d1d-889b21e3f86c"
      },
      "source": [
        "listaDeCategoricas = ['Region','Territory','Product_Type','Product_Category_B','Account_Type','Delivery_Quarter','Billing_Country']\r\n",
        "res = lightGBM(agrupacionEntrenamiento,entrenamientoResultado,listaDeCategoricas,agrupacionTesteo)\r\n",
        "res"
      ],
      "execution_count": null,
      "outputs": [
        {
          "output_type": "error",
          "ename": "TypeError",
          "evalue": "ignored",
          "traceback": [
            "\u001b[0;31m---------------------------------------------------------------------------\u001b[0m",
            "\u001b[0;31mTypeError\u001b[0m                                 Traceback (most recent call last)",
            "\u001b[0;32m<ipython-input-44-2e60bb2b8016>\u001b[0m in \u001b[0;36m<module>\u001b[0;34m()\u001b[0m\n\u001b[1;32m      1\u001b[0m \u001b[0mlistaDeCategoricas\u001b[0m \u001b[0;34m=\u001b[0m \u001b[0;34m[\u001b[0m\u001b[0;34m'Region'\u001b[0m\u001b[0;34m,\u001b[0m\u001b[0;34m'Territory'\u001b[0m\u001b[0;34m,\u001b[0m\u001b[0;34m'Product_Type'\u001b[0m\u001b[0;34m,\u001b[0m\u001b[0;34m'Product_Category_B'\u001b[0m\u001b[0;34m,\u001b[0m\u001b[0;34m'Account_Type'\u001b[0m\u001b[0;34m,\u001b[0m\u001b[0;34m'Delivery_Quarter'\u001b[0m\u001b[0;34m,\u001b[0m\u001b[0;34m'Billing_Country'\u001b[0m\u001b[0;34m]\u001b[0m\u001b[0;34m\u001b[0m\u001b[0;34m\u001b[0m\u001b[0m\n\u001b[0;32m----> 2\u001b[0;31m \u001b[0mres\u001b[0m \u001b[0;34m=\u001b[0m \u001b[0mlightGBM\u001b[0m\u001b[0;34m(\u001b[0m\u001b[0magrupacionEntrenamiento\u001b[0m\u001b[0;34m,\u001b[0m\u001b[0mentrenamientoResultado\u001b[0m\u001b[0;34m,\u001b[0m\u001b[0mlistaDeCategoricas\u001b[0m\u001b[0;34m,\u001b[0m\u001b[0magrupacionTesteo\u001b[0m\u001b[0;34m)\u001b[0m\u001b[0;34m\u001b[0m\u001b[0;34m\u001b[0m\u001b[0m\n\u001b[0m\u001b[1;32m      3\u001b[0m \u001b[0mres\u001b[0m\u001b[0;34m\u001b[0m\u001b[0;34m\u001b[0m\u001b[0m\n",
            "\u001b[0;32m<ipython-input-43-cb5285d6728d>\u001b[0m in \u001b[0;36mlightGBM\u001b[0;34m(train_data, train_labels, cat_features, eval_data)\u001b[0m\n\u001b[1;32m     10\u001b[0m                              \u001b[0mn_jobs\u001b[0m\u001b[0;34m=\u001b[0m\u001b[0;34m-\u001b[0m\u001b[0;36m1\u001b[0m\u001b[0;34m,\u001b[0m\u001b[0;34m\u001b[0m\u001b[0;34m\u001b[0m\u001b[0m\n\u001b[1;32m     11\u001b[0m                              \u001b[0mcategorical_feature\u001b[0m\u001b[0;34m=\u001b[0m\u001b[0mcat_features\u001b[0m\u001b[0;34m,\u001b[0m\u001b[0;34m\u001b[0m\u001b[0;34m\u001b[0m\u001b[0m\n\u001b[0;32m---> 12\u001b[0;31m                              error_score='raise')\n\u001b[0m\u001b[1;32m     13\u001b[0m   \u001b[0mprint\u001b[0m\u001b[0;34m(\u001b[0m\u001b[0;34m'Accuracy: %.3f (%.3f)'\u001b[0m \u001b[0;34m%\u001b[0m \u001b[0;34m(\u001b[0m\u001b[0mmean\u001b[0m\u001b[0;34m(\u001b[0m\u001b[0mn_scores\u001b[0m\u001b[0;34m)\u001b[0m\u001b[0;34m,\u001b[0m \u001b[0mstd\u001b[0m\u001b[0;34m(\u001b[0m\u001b[0mn_scores\u001b[0m\u001b[0;34m)\u001b[0m\u001b[0;34m)\u001b[0m\u001b[0;34m)\u001b[0m\u001b[0;34m\u001b[0m\u001b[0;34m\u001b[0m\u001b[0m\n\u001b[1;32m     14\u001b[0m   \u001b[0;31m# fit the model on the whole dataset\u001b[0m\u001b[0;34m\u001b[0m\u001b[0;34m\u001b[0m\u001b[0;34m\u001b[0m\u001b[0m\n",
            "\u001b[0;31mTypeError\u001b[0m: cross_val_score() got an unexpected keyword argument 'categorical_feature'"
          ]
        }
      ]
    },
    {
      "cell_type": "markdown",
      "metadata": {
        "id": "MgACrmv2aNIz"
      },
      "source": [
        "## Ramdom forest"
      ]
    },
    {
      "cell_type": "code",
      "metadata": {
        "id": "YlUrE3BRaQQL"
      },
      "source": [
        "def ramdomForest(train_data,train_labels,eval_data):\r\n",
        "  # Crear el modelo\r\n",
        "  model = RandomForestClassifier(n_estimators=200,\r\n",
        "                                 #max_features=5,\r\n",
        "                                 min_samples_leaf=1,\r\n",
        "                                 oob_score=10,\r\n",
        "                                 bootstrap=True,\r\n",
        "                                 verbose=3,\r\n",
        "                                 max_features='sqrt')\r\n",
        "  #parametros importantes\r\n",
        "  #  n_estimators: será la cantidad de árboles que generaremos.\r\n",
        "  #  max_features: la manera de seleccionar la cantidad máxima de features para cada árbol.\r\n",
        "  #  min_sample_leaf: número mínimo de elementos en las hojas para permitir un nuevo split (división) del nodo.\r\n",
        "  #  oob_score: es un método que emula el cross-validation en árboles y permite mejorar la precisión y evitar overfitting.\r\n",
        "  #  boostrap: para utilizar diversos tamaños de muestras para entrenar. Si se pone en falso, utilizará siempre el dataset completo.\r\n",
        "  #  n_jobs: si tienes multiples cores en tu CPU, puedes indicar cuantos puede usar el modelo al entrenar para acelerar el entrenamiento.\r\n",
        "  # a entrenar!\r\n",
        "  model.fit(train_data, train_labels)\r\n",
        "  predictions = model.predict_proba(eval_data)\r\n",
        "  return predictions\r\n",
        "  "
      ],
      "execution_count": 169,
      "outputs": []
    },
    {
      "cell_type": "code",
      "metadata": {
        "colab": {
          "base_uri": "https://localhost:8080/"
        },
        "id": "bTRkXyDHt6XU",
        "outputId": "4772b03f-c84b-41c0-ff6a-a81ba9eb3a24"
      },
      "source": [
        "#Uso los mismos valores de XGB para las variables categoricas ya que no las soporta\r\n",
        "desacerse = ['Planned_Delivery_End_Date_anio','Planned_Delivery_End_Date_mes','Planned_Delivery_End_Date_dia','Last_Modified_Date_dia']\r\n",
        "res = ramdomForest(agrupacionEntrenamientoXGB.drop(desacerse,axis=1),\r\n",
        "                   entrenamientoResultado,\r\n",
        "                   agrupacionTesteoXGB.drop(desacerse,axis=1))\r\n",
        "res"
      ],
      "execution_count": 189,
      "outputs": [
        {
          "output_type": "stream",
          "text": [
            "[Parallel(n_jobs=1)]: Using backend SequentialBackend with 1 concurrent workers.\n",
            "[Parallel(n_jobs=1)]: Done   1 out of   1 | elapsed:    0.0s remaining:    0.0s\n",
            "[Parallel(n_jobs=1)]: Done   2 out of   2 | elapsed:    0.0s remaining:    0.0s\n"
          ],
          "name": "stderr"
        },
        {
          "output_type": "stream",
          "text": [
            "building tree 1 of 200\n",
            "building tree 2 of 200\n",
            "building tree 3 of 200\n",
            "building tree 4 of 200\n",
            "building tree 5 of 200\n",
            "building tree 6 of 200\n",
            "building tree 7 of 200\n",
            "building tree 8 of 200\n",
            "building tree 9 of 200\n",
            "building tree 10 of 200\n",
            "building tree 11 of 200\n",
            "building tree 12 of 200\n",
            "building tree 13 of 200\n",
            "building tree 14 of 200\n",
            "building tree 15 of 200\n",
            "building tree 16 of 200\n",
            "building tree 17 of 200\n",
            "building tree 18 of 200\n",
            "building tree 19 of 200\n",
            "building tree 20 of 200\n",
            "building tree 21 of 200\n",
            "building tree 22 of 200\n",
            "building tree 23 of 200\n",
            "building tree 24 of 200\n",
            "building tree 25 of 200\n",
            "building tree 26 of 200\n",
            "building tree 27 of 200\n",
            "building tree 28 of 200\n",
            "building tree 29 of 200\n",
            "building tree 30 of 200\n",
            "building tree 31 of 200\n",
            "building tree 32 of 200\n",
            "building tree 33 of 200\n",
            "building tree 34 of 200\n",
            "building tree 35 of 200\n",
            "building tree 36 of 200\n",
            "building tree 37 of 200\n",
            "building tree 38 of 200\n",
            "building tree 39 of 200\n",
            "building tree 40 of 200\n",
            "building tree 41 of 200\n",
            "building tree 42 of 200\n",
            "building tree 43 of 200\n",
            "building tree 44 of 200\n",
            "building tree 45 of 200\n",
            "building tree 46 of 200\n",
            "building tree 47 of 200\n",
            "building tree 48 of 200\n",
            "building tree 49 of 200\n",
            "building tree 50 of 200\n",
            "building tree 51 of 200\n",
            "building tree 52 of 200\n",
            "building tree 53 of 200\n",
            "building tree 54 of 200\n",
            "building tree 55 of 200\n",
            "building tree 56 of 200\n",
            "building tree 57 of 200\n",
            "building tree 58 of 200\n",
            "building tree 59 of 200\n",
            "building tree 60 of 200\n",
            "building tree 61 of 200\n",
            "building tree 62 of 200\n",
            "building tree 63 of 200\n",
            "building tree 64 of 200\n",
            "building tree 65 of 200\n",
            "building tree 66 of 200\n",
            "building tree 67 of 200\n",
            "building tree 68 of 200\n",
            "building tree 69 of 200\n",
            "building tree 70 of 200\n",
            "building tree 71 of 200\n",
            "building tree 72 of 200\n",
            "building tree 73 of 200\n",
            "building tree 74 of 200\n",
            "building tree 75 of 200\n",
            "building tree 76 of 200\n",
            "building tree 77 of 200\n",
            "building tree 78 of 200\n",
            "building tree 79 of 200\n",
            "building tree 80 of 200\n",
            "building tree 81 of 200\n",
            "building tree 82 of 200\n",
            "building tree 83 of 200\n",
            "building tree 84 of 200\n",
            "building tree 85 of 200\n",
            "building tree 86 of 200\n",
            "building tree 87 of 200\n",
            "building tree 88 of 200\n",
            "building tree 89 of 200\n",
            "building tree 90 of 200\n",
            "building tree 91 of 200\n",
            "building tree 92 of 200\n",
            "building tree 93 of 200\n",
            "building tree 94 of 200\n",
            "building tree 95 of 200\n",
            "building tree 96 of 200\n",
            "building tree 97 of 200\n",
            "building tree 98 of 200\n",
            "building tree 99 of 200\n",
            "building tree 100 of 200\n",
            "building tree 101 of 200\n",
            "building tree 102 of 200\n",
            "building tree 103 of 200\n",
            "building tree 104 of 200\n",
            "building tree 105 of 200\n",
            "building tree 106 of 200\n",
            "building tree 107 of 200\n",
            "building tree 108 of 200\n",
            "building tree 109 of 200\n",
            "building tree 110 of 200\n",
            "building tree 111 of 200\n",
            "building tree 112 of 200\n",
            "building tree 113 of 200\n",
            "building tree 114 of 200\n",
            "building tree 115 of 200\n",
            "building tree 116 of 200\n",
            "building tree 117 of 200\n",
            "building tree 118 of 200\n",
            "building tree 119 of 200\n",
            "building tree 120 of 200\n",
            "building tree 121 of 200\n",
            "building tree 122 of 200\n",
            "building tree 123 of 200\n",
            "building tree 124 of 200\n",
            "building tree 125 of 200\n",
            "building tree 126 of 200\n",
            "building tree 127 of 200\n",
            "building tree 128 of 200\n",
            "building tree 129 of 200\n",
            "building tree 130 of 200\n",
            "building tree 131 of 200\n",
            "building tree 132 of 200\n",
            "building tree 133 of 200\n",
            "building tree 134 of 200\n",
            "building tree 135 of 200\n",
            "building tree 136 of 200\n",
            "building tree 137 of 200\n",
            "building tree 138 of 200\n",
            "building tree 139 of 200\n",
            "building tree 140 of 200\n",
            "building tree 141 of 200\n",
            "building tree 142 of 200\n",
            "building tree 143 of 200\n",
            "building tree 144 of 200\n",
            "building tree 145 of 200\n",
            "building tree 146 of 200\n",
            "building tree 147 of 200\n",
            "building tree 148 of 200\n",
            "building tree 149 of 200\n",
            "building tree 150 of 200\n",
            "building tree 151 of 200\n",
            "building tree 152 of 200\n",
            "building tree 153 of 200\n",
            "building tree 154 of 200\n",
            "building tree 155 of 200\n",
            "building tree 156 of 200\n",
            "building tree 157 of 200\n",
            "building tree 158 of 200\n",
            "building tree 159 of 200\n",
            "building tree 160 of 200\n",
            "building tree 161 of 200\n",
            "building tree 162 of 200\n",
            "building tree 163 of 200\n",
            "building tree 164 of 200\n",
            "building tree 165 of 200\n",
            "building tree 166 of 200\n",
            "building tree 167 of 200\n",
            "building tree 168 of 200\n",
            "building tree 169 of 200\n",
            "building tree 170 of 200\n",
            "building tree 171 of 200\n",
            "building tree 172 of 200\n",
            "building tree 173 of 200\n",
            "building tree 174 of 200\n",
            "building tree 175 of 200\n",
            "building tree 176 of 200\n",
            "building tree 177 of 200\n",
            "building tree 178 of 200\n",
            "building tree 179 of 200\n",
            "building tree 180 of 200\n",
            "building tree 181 of 200\n",
            "building tree 182 of 200\n",
            "building tree 183 of 200\n",
            "building tree 184 of 200\n",
            "building tree 185 of 200\n",
            "building tree 186 of 200\n",
            "building tree 187 of 200\n",
            "building tree 188 of 200\n",
            "building tree 189 of 200\n",
            "building tree 190 of 200\n",
            "building tree 191 of 200\n",
            "building tree 192 of 200\n",
            "building tree 193 of 200\n",
            "building tree 194 of 200\n",
            "building tree 195 of 200\n",
            "building tree 196 of 200\n",
            "building tree 197 of 200\n",
            "building tree 198 of 200\n",
            "building tree 199 of 200\n",
            "building tree 200 of 200\n"
          ],
          "name": "stdout"
        },
        {
          "output_type": "stream",
          "text": [
            "[Parallel(n_jobs=1)]: Done 200 out of 200 | elapsed:    3.4s finished\n",
            "[Parallel(n_jobs=1)]: Using backend SequentialBackend with 1 concurrent workers.\n",
            "[Parallel(n_jobs=1)]: Done   1 out of   1 | elapsed:    0.0s remaining:    0.0s\n",
            "[Parallel(n_jobs=1)]: Done   2 out of   2 | elapsed:    0.0s remaining:    0.0s\n",
            "[Parallel(n_jobs=1)]: Done 200 out of 200 | elapsed:    0.1s finished\n"
          ],
          "name": "stderr"
        },
        {
          "output_type": "execute_result",
          "data": {
            "text/plain": [
              "array([[0.325, 0.675],\n",
              "       [0.43 , 0.57 ],\n",
              "       [0.47 , 0.53 ],\n",
              "       ...,\n",
              "       [0.565, 0.435],\n",
              "       [0.445, 0.555],\n",
              "       [0.73 , 0.27 ]])"
            ]
          },
          "metadata": {
            "tags": []
          },
          "execution_count": 189
        }
      ]
    },
    {
      "cell_type": "code",
      "metadata": {
        "colab": {
          "base_uri": "https://localhost:8080/"
        },
        "id": "CB1dArfLt6aS",
        "outputId": "f63ee4b6-af99-4b11-e5a5-dfae6c4f331c"
      },
      "source": [
        "resultado = auxiliarUnificarValor(res)\r\n",
        "resultado = (resultado - 1) * (-1)#En las ultimas pruevas es el opuesto el que genera mejor resultado\r\n",
        "resultado"
      ],
      "execution_count": 190,
      "outputs": [
        {
          "output_type": "execute_result",
          "data": {
            "text/plain": [
              "array([0.675, 0.57 , 0.53 , ..., 0.435, 0.555, 0.27 ])"
            ]
          },
          "metadata": {
            "tags": []
          },
          "execution_count": 190
        }
      ]
    },
    {
      "cell_type": "code",
      "metadata": {
        "colab": {
          "base_uri": "https://localhost:8080/",
          "height": 238
        },
        "id": "xrH7YJ87t8QJ",
        "outputId": "424ce595-d8ad-454c-faff-312ad21cfe60"
      },
      "source": [
        "dataResultante = generarResultado(agrupacionTesteo,resultado)\r\n",
        "dataResultante.head()"
      ],
      "execution_count": 191,
      "outputs": [
        {
          "output_type": "execute_result",
          "data": {
            "text/html": [
              "<div>\n",
              "<style scoped>\n",
              "    .dataframe tbody tr th:only-of-type {\n",
              "        vertical-align: middle;\n",
              "    }\n",
              "\n",
              "    .dataframe tbody tr th {\n",
              "        vertical-align: top;\n",
              "    }\n",
              "\n",
              "    .dataframe thead th {\n",
              "        text-align: right;\n",
              "    }\n",
              "</style>\n",
              "<table border=\"1\" class=\"dataframe\">\n",
              "  <thead>\n",
              "    <tr style=\"text-align: right;\">\n",
              "      <th></th>\n",
              "      <th>Target</th>\n",
              "    </tr>\n",
              "    <tr>\n",
              "      <th>Opportunity_ID</th>\n",
              "      <th></th>\n",
              "    </tr>\n",
              "  </thead>\n",
              "  <tbody>\n",
              "    <tr>\n",
              "      <th>10689</th>\n",
              "      <td>0.68</td>\n",
              "    </tr>\n",
              "    <tr>\n",
              "      <th>10690</th>\n",
              "      <td>0.57</td>\n",
              "    </tr>\n",
              "    <tr>\n",
              "      <th>10691</th>\n",
              "      <td>0.53</td>\n",
              "    </tr>\n",
              "    <tr>\n",
              "      <th>10692</th>\n",
              "      <td>0.54</td>\n",
              "    </tr>\n",
              "    <tr>\n",
              "      <th>10693</th>\n",
              "      <td>0.68</td>\n",
              "    </tr>\n",
              "  </tbody>\n",
              "</table>\n",
              "</div>"
            ],
            "text/plain": [
              "                             Target\n",
              "Opportunity_ID                     \n",
              "10689                          0.68\n",
              "10690                          0.57\n",
              "10691                          0.53\n",
              "10692                          0.54\n",
              "10693                          0.68"
            ]
          },
          "metadata": {
            "tags": []
          },
          "execution_count": 191
        }
      ]
    }
  ]
}