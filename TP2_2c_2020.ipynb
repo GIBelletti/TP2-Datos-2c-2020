{
 "cells": [
  {
   "cell_type": "markdown",
   "metadata": {
    "id": "LaZMud-2rKuY"
   },
   "source": [
    "# TP 2"
   ]
  },
  {
   "cell_type": "markdown",
   "metadata": {
    "id": "5NvRrhUOrEpv"
   },
   "source": [
    "## Imports"
   ]
  },
  {
   "cell_type": "markdown",
   "metadata": {
    "id": "xKefRXXOFaXI"
   },
   "source": [
    "### imports base"
   ]
  },
  {
   "cell_type": "code",
   "execution_count": 1,
   "metadata": {
    "id": "ksz2M8HorAfb"
   },
   "outputs": [],
   "source": [
    "import pandas as pd\n",
    "import numpy as np\n",
    "import matplotlib.pyplot as plt\n",
    "import seaborn as sns\n",
    "import plotly.graph_objects as go\n",
    "import matplotlib\n",
    "import plotly as py\n",
    "import plotly.express as px \n",
    "import matplotlib.ticker as ticker\n",
    "plt.style.use('default')\n",
    "import plotly.offline as opy\n",
    "import plotly.figure_factory as ff\n",
    "import plotly.io as pio\n",
    "from wordcloud import WordCloud\n",
    "from datetime import datetime\n",
    "from datetime import timedelta\n",
    "\n",
    "import math\n",
    "\n",
    "sns.set(style=\"whitegrid\")\n",
    "\n",
    "pd.options.display.float_format = '{:20,.2f}'.format \n",
    "\n",
    "import warnings\n",
    "warnings.filterwarnings('ignore')"
   ]
  },
  {
   "cell_type": "code",
   "execution_count": 2,
   "metadata": {
    "id": "FXsLMcASl6Nj"
   },
   "outputs": [],
   "source": [
    "from sklearn.datasets import make_classification\n",
    "from sklearn.model_selection import cross_val_score\n",
    "from sklearn.model_selection import RepeatedStratifiedKFold\n",
    "\n",
    "from sklearn.preprocessing import LabelEncoder\n",
    "from sklearn.metrics import make_scorer, accuracy_score\n",
    "from sklearn.model_selection import train_test_split, GridSearchCV\n",
    "\n",
    "from sklearn.preprocessing import LabelBinarizer\n",
    "from sklearn.preprocessing import OneHotEncoder\n",
    "from sklearn.preprocessing import MultiLabelBinarizer\n",
    "\n",
    "from sklearn.metrics import log_loss"
   ]
  },
  {
   "cell_type": "code",
   "execution_count": 3,
   "metadata": {
    "colab": {
     "base_uri": "https://localhost:8080/"
    },
    "id": "IIqx2rkhPyQc",
    "outputId": "0d4f03f2-4a5e-40d4-ea4f-c974372312f7"
   },
   "outputs": [
    {
     "name": "stdout",
     "output_type": "stream",
     "text": [
      "Collecting category_encoders\n",
      "\u001b[?25l  Downloading https://files.pythonhosted.org/packages/44/57/fcef41c248701ee62e8325026b90c432adea35555cbc870aff9cfba23727/category_encoders-2.2.2-py2.py3-none-any.whl (80kB)\n",
      "\r",
      "\u001b[K     |████                            | 10kB 17.7MB/s eta 0:00:01\r",
      "\u001b[K     |████████▏                       | 20kB 22.7MB/s eta 0:00:01\r",
      "\u001b[K     |████████████▏                   | 30kB 13.0MB/s eta 0:00:01\r",
      "\u001b[K     |████████████████▎               | 40kB 12.6MB/s eta 0:00:01\r",
      "\u001b[K     |████████████████████▎           | 51kB 9.0MB/s eta 0:00:01\r",
      "\u001b[K     |████████████████████████▍       | 61kB 7.7MB/s eta 0:00:01\r",
      "\u001b[K     |████████████████████████████▍   | 71kB 8.0MB/s eta 0:00:01\r",
      "\u001b[K     |████████████████████████████████| 81kB 4.9MB/s \n",
      "\u001b[?25hRequirement already satisfied: scipy>=1.0.0 in /usr/local/lib/python3.6/dist-packages (from category_encoders) (1.4.1)\n",
      "Requirement already satisfied: patsy>=0.5.1 in /usr/local/lib/python3.6/dist-packages (from category_encoders) (0.5.1)\n",
      "Requirement already satisfied: pandas>=0.21.1 in /usr/local/lib/python3.6/dist-packages (from category_encoders) (1.1.5)\n",
      "Requirement already satisfied: scikit-learn>=0.20.0 in /usr/local/lib/python3.6/dist-packages (from category_encoders) (0.22.2.post1)\n",
      "Requirement already satisfied: statsmodels>=0.9.0 in /usr/local/lib/python3.6/dist-packages (from category_encoders) (0.10.2)\n",
      "Requirement already satisfied: numpy>=1.14.0 in /usr/local/lib/python3.6/dist-packages (from category_encoders) (1.19.5)\n",
      "Requirement already satisfied: six in /usr/local/lib/python3.6/dist-packages (from patsy>=0.5.1->category_encoders) (1.15.0)\n",
      "Requirement already satisfied: python-dateutil>=2.7.3 in /usr/local/lib/python3.6/dist-packages (from pandas>=0.21.1->category_encoders) (2.8.1)\n",
      "Requirement already satisfied: pytz>=2017.2 in /usr/local/lib/python3.6/dist-packages (from pandas>=0.21.1->category_encoders) (2018.9)\n",
      "Requirement already satisfied: joblib>=0.11 in /usr/local/lib/python3.6/dist-packages (from scikit-learn>=0.20.0->category_encoders) (1.0.0)\n",
      "Installing collected packages: category-encoders\n",
      "Successfully installed category-encoders-2.2.2\n"
     ]
    }
   ],
   "source": [
    "!pip3 install category_encoders"
   ]
  },
  {
   "cell_type": "code",
   "execution_count": 4,
   "metadata": {
    "id": "hnkHcErvPxSA"
   },
   "outputs": [],
   "source": [
    "import category_encoders as ce"
   ]
  },
  {
   "cell_type": "code",
   "execution_count": 5,
   "metadata": {
    "colab": {
     "base_uri": "https://localhost:8080/"
    },
    "id": "lsdRoO9XWT6i",
    "outputId": "a49227b1-b16c-40e3-abf7-e460f387f9b3"
   },
   "outputs": [
    {
     "name": "stdout",
     "output_type": "stream",
     "text": [
      "Collecting bayesian-optimization\n",
      "  Downloading https://files.pythonhosted.org/packages/bb/7a/fd8059a3881d3ab37ac8f72f56b73937a14e8bb14a9733e68cc8b17dbe3c/bayesian-optimization-1.2.0.tar.gz\n",
      "Requirement already satisfied: numpy>=1.9.0 in /usr/local/lib/python3.6/dist-packages (from bayesian-optimization) (1.19.5)\n",
      "Requirement already satisfied: scipy>=0.14.0 in /usr/local/lib/python3.6/dist-packages (from bayesian-optimization) (1.4.1)\n",
      "Requirement already satisfied: scikit-learn>=0.18.0 in /usr/local/lib/python3.6/dist-packages (from bayesian-optimization) (0.22.2.post1)\n",
      "Requirement already satisfied: joblib>=0.11 in /usr/local/lib/python3.6/dist-packages (from scikit-learn>=0.18.0->bayesian-optimization) (1.0.0)\n",
      "Building wheels for collected packages: bayesian-optimization\n",
      "  Building wheel for bayesian-optimization (setup.py) ... \u001b[?25l\u001b[?25hdone\n",
      "  Created wheel for bayesian-optimization: filename=bayesian_optimization-1.2.0-cp36-none-any.whl size=11685 sha256=02dddc2d783d76c4ba497490b6c9b367ac236704b86bb9422df5ae9dc62f77ab\n",
      "  Stored in directory: /root/.cache/pip/wheels/5a/56/ae/e0e3c1fc1954dc3ec712e2df547235ed072b448094d8f94aec\n",
      "Successfully built bayesian-optimization\n",
      "Installing collected packages: bayesian-optimization\n",
      "Successfully installed bayesian-optimization-1.2.0\n"
     ]
    }
   ],
   "source": [
    "!pip3 install bayesian-optimization"
   ]
  },
  {
   "cell_type": "code",
   "execution_count": 6,
   "metadata": {
    "id": "7M6WrwvaWVeP"
   },
   "outputs": [],
   "source": [
    "from bayes_opt import BayesianOptimization"
   ]
  },
  {
   "cell_type": "markdown",
   "metadata": {
    "id": "9ewHMS-ygNPS"
   },
   "source": [
    "### catboost"
   ]
  },
  {
   "cell_type": "code",
   "execution_count": 7,
   "metadata": {
    "colab": {
     "base_uri": "https://localhost:8080/"
    },
    "id": "cpEGbEgDKgny",
    "outputId": "aeddd623-4597-4fd3-c35f-f8f36224a2b2"
   },
   "outputs": [
    {
     "name": "stdout",
     "output_type": "stream",
     "text": [
      "Collecting catboost\n",
      "\u001b[?25l  Downloading https://files.pythonhosted.org/packages/20/37/bc4e0ddc30c07a96482abf1de7ed1ca54e59bba2026a33bca6d2ef286e5b/catboost-0.24.4-cp36-none-manylinux1_x86_64.whl (65.7MB)\n",
      "\u001b[K     |████████████████████████████████| 65.8MB 56kB/s \n",
      "\u001b[?25hRequirement already satisfied: matplotlib in /usr/local/lib/python3.6/dist-packages (from catboost) (3.2.2)\n",
      "Requirement already satisfied: plotly in /usr/local/lib/python3.6/dist-packages (from catboost) (4.4.1)\n",
      "Requirement already satisfied: pandas>=0.24.0 in /usr/local/lib/python3.6/dist-packages (from catboost) (1.1.5)\n",
      "Requirement already satisfied: scipy in /usr/local/lib/python3.6/dist-packages (from catboost) (1.4.1)\n",
      "Requirement already satisfied: graphviz in /usr/local/lib/python3.6/dist-packages (from catboost) (0.10.1)\n",
      "Requirement already satisfied: numpy>=1.16.0 in /usr/local/lib/python3.6/dist-packages (from catboost) (1.19.5)\n",
      "Requirement already satisfied: six in /usr/local/lib/python3.6/dist-packages (from catboost) (1.15.0)\n",
      "Requirement already satisfied: pyparsing!=2.0.4,!=2.1.2,!=2.1.6,>=2.0.1 in /usr/local/lib/python3.6/dist-packages (from matplotlib->catboost) (2.4.7)\n",
      "Requirement already satisfied: python-dateutil>=2.1 in /usr/local/lib/python3.6/dist-packages (from matplotlib->catboost) (2.8.1)\n",
      "Requirement already satisfied: kiwisolver>=1.0.1 in /usr/local/lib/python3.6/dist-packages (from matplotlib->catboost) (1.3.1)\n",
      "Requirement already satisfied: cycler>=0.10 in /usr/local/lib/python3.6/dist-packages (from matplotlib->catboost) (0.10.0)\n",
      "Requirement already satisfied: retrying>=1.3.3 in /usr/local/lib/python3.6/dist-packages (from plotly->catboost) (1.3.3)\n",
      "Requirement already satisfied: pytz>=2017.2 in /usr/local/lib/python3.6/dist-packages (from pandas>=0.24.0->catboost) (2018.9)\n",
      "Installing collected packages: catboost\n",
      "Successfully installed catboost-0.24.4\n"
     ]
    }
   ],
   "source": [
    "#Ejecutar si no funciona el import\n",
    "!pip3 install catboost"
   ]
  },
  {
   "cell_type": "code",
   "execution_count": 8,
   "metadata": {
    "id": "g-eobQ2dKOwu"
   },
   "outputs": [],
   "source": [
    "from catboost import CatBoostClassifier, Pool, cv"
   ]
  },
  {
   "cell_type": "markdown",
   "metadata": {
    "id": "O5HEIBMXmxps"
   },
   "source": [
    "### xgboost"
   ]
  },
  {
   "cell_type": "code",
   "execution_count": 9,
   "metadata": {
    "colab": {
     "base_uri": "https://localhost:8080/"
    },
    "id": "FJbpcCs5m0E8",
    "outputId": "51314a18-09a5-4951-c159-6a9876628245"
   },
   "outputs": [
    {
     "name": "stdout",
     "output_type": "stream",
     "text": [
      "Requirement already satisfied: xgboost in /usr/local/lib/python3.6/dist-packages (0.90)\n",
      "Requirement already satisfied: scipy in /usr/local/lib/python3.6/dist-packages (from xgboost) (1.4.1)\n",
      "Requirement already satisfied: numpy in /usr/local/lib/python3.6/dist-packages (from xgboost) (1.19.5)\n"
     ]
    }
   ],
   "source": [
    "!pip3 install xgboost"
   ]
  },
  {
   "cell_type": "code",
   "execution_count": 10,
   "metadata": {
    "id": "MNXqp5z4nOOD"
   },
   "outputs": [],
   "source": [
    "import xgboost as xgb"
   ]
  },
  {
   "cell_type": "markdown",
   "metadata": {
    "id": "lP_c0s_PgPKn"
   },
   "source": [
    "### lightgbm"
   ]
  },
  {
   "cell_type": "code",
   "execution_count": 11,
   "metadata": {
    "colab": {
     "base_uri": "https://localhost:8080/"
    },
    "id": "vaGQFz-MgCbh",
    "outputId": "14a24c17-a350-4e08-82ed-149a9bd4ab21"
   },
   "outputs": [
    {
     "name": "stdout",
     "output_type": "stream",
     "text": [
      "Requirement already satisfied: lightgbm in /usr/local/lib/python3.6/dist-packages (2.2.3)\n",
      "Requirement already satisfied: scipy in /usr/local/lib/python3.6/dist-packages (from lightgbm) (1.4.1)\n",
      "Requirement already satisfied: numpy in /usr/local/lib/python3.6/dist-packages (from lightgbm) (1.19.5)\n",
      "Requirement already satisfied: scikit-learn in /usr/local/lib/python3.6/dist-packages (from lightgbm) (0.22.2.post1)\n",
      "Requirement already satisfied: joblib>=0.11 in /usr/local/lib/python3.6/dist-packages (from scikit-learn->lightgbm) (1.0.0)\n"
     ]
    }
   ],
   "source": [
    "!pip3 install lightgbm"
   ]
  },
  {
   "cell_type": "code",
   "execution_count": 12,
   "metadata": {
    "id": "NDBZ9QETgLFz"
   },
   "outputs": [],
   "source": [
    "import lightgbm as lgb\n",
    "#from lightgbm import LGBMClassifier"
   ]
  },
  {
   "cell_type": "markdown",
   "metadata": {
    "id": "qB5aPacbW0b9"
   },
   "source": [
    "### ramdom forest"
   ]
  },
  {
   "cell_type": "code",
   "execution_count": 13,
   "metadata": {
    "id": "khyk5Vq_Wzfi"
   },
   "outputs": [],
   "source": [
    "from sklearn.ensemble import RandomForestClassifier"
   ]
  },
  {
   "cell_type": "markdown",
   "metadata": {
    "id": "cY876Ig-zWyN"
   },
   "source": [
    "### perceptron"
   ]
  },
  {
   "cell_type": "code",
   "execution_count": 14,
   "metadata": {
    "id": "3kecRF8ezZ5c"
   },
   "outputs": [],
   "source": [
    "\tfrom sklearn.linear_model import Perceptron"
   ]
  },
  {
   "cell_type": "markdown",
   "metadata": {
    "id": "YjCt76D_rHMn"
   },
   "source": [
    "## lectura de datos"
   ]
  },
  {
   "cell_type": "code",
   "execution_count": 15,
   "metadata": {
    "colab": {
     "base_uri": "https://localhost:8080/"
    },
    "id": "2MXb46VjrCnX",
    "outputId": "29dd404c-caeb-4500-816f-a9985c591de2"
   },
   "outputs": [
    {
     "name": "stdout",
     "output_type": "stream",
     "text": [
      "<class 'pandas.core.frame.DataFrame'>\n",
      "RangeIndex: 16947 entries, 0 to 16946\n",
      "Data columns (total 52 columns):\n",
      " #   Column                              Non-Null Count  Dtype  \n",
      "---  ------                              --------------  -----  \n",
      " 0   ID                                  16947 non-null  int64  \n",
      " 1   Region                              16947 non-null  object \n",
      " 2   Territory                           16947 non-null  object \n",
      " 3   Pricing, Delivery_Terms_Quote_Appr  16947 non-null  int64  \n",
      " 4   Pricing, Delivery_Terms_Approved    16947 non-null  int64  \n",
      " 5   Bureaucratic_Code_0_Approval        16947 non-null  int64  \n",
      " 6   Bureaucratic_Code_0_Approved        16947 non-null  int64  \n",
      " 7   Submitted_for_Approval              16947 non-null  int64  \n",
      " 8   Bureaucratic_Code                   16947 non-null  object \n",
      " 9   Account_Created_Date                16947 non-null  object \n",
      " 10  Source                              16947 non-null  object \n",
      " 11  Billing_Country                     16947 non-null  object \n",
      " 12  Account_Name                        16947 non-null  object \n",
      " 13  Opportunity_Name                    16947 non-null  object \n",
      " 14  Opportunity_ID                      16947 non-null  int64  \n",
      " 15  Sales_Contract_No                   16947 non-null  object \n",
      " 16  Account_Owner                       16947 non-null  object \n",
      " 17  Opportunity_Owner                   16947 non-null  object \n",
      " 18  Account_Type                        16947 non-null  object \n",
      " 19  Opportunity_Type                    16947 non-null  object \n",
      " 20  Quote_Type                          16947 non-null  object \n",
      " 21  Delivery_Terms                      16947 non-null  object \n",
      " 22  Opportunity_Created_Date            16947 non-null  object \n",
      " 23  Brand                               16947 non-null  object \n",
      " 24  Product_Type                        16947 non-null  object \n",
      " 25  Size                                16947 non-null  object \n",
      " 26  Product_Category_B                  16947 non-null  object \n",
      " 27  Price                               16947 non-null  object \n",
      " 28  Currency                            16947 non-null  object \n",
      " 29  Last_Activity                       16947 non-null  object \n",
      " 30  Quote_Expiry_Date                   16947 non-null  object \n",
      " 31  Last_Modified_Date                  16947 non-null  object \n",
      " 32  Last_Modified_By                    16947 non-null  object \n",
      " 33  Product_Family                      16947 non-null  object \n",
      " 34  Product_Name                        16947 non-null  object \n",
      " 35  ASP_Currency                        16947 non-null  object \n",
      " 36  ASP                                 13738 non-null  float64\n",
      " 37  ASP_(converted)_Currency            16947 non-null  object \n",
      " 38  ASP_(converted)                     13738 non-null  float64\n",
      " 39  Planned_Delivery_Start_Date         16947 non-null  object \n",
      " 40  Planned_Delivery_End_Date           16947 non-null  object \n",
      " 41  Month                               16947 non-null  object \n",
      " 42  Delivery_Quarter                    16947 non-null  object \n",
      " 43  Delivery_Year                       16947 non-null  int64  \n",
      " 44  Actual_Delivery_Date                16947 non-null  object \n",
      " 45  TRF                                 16947 non-null  int64  \n",
      " 46  Total_Amount_Currency               16947 non-null  object \n",
      " 47  Total_Amount                        16888 non-null  float64\n",
      " 48  Total_Taxable_Amount_Currency       16947 non-null  object \n",
      " 49  Total_Taxable_Amount                16947 non-null  float64\n",
      " 50  Stage                               16947 non-null  object \n",
      " 51  Prod_Category_A                     16947 non-null  object \n",
      "dtypes: float64(4), int64(9), object(39)\n",
      "memory usage: 6.7+ MB\n"
     ]
    }
   ],
   "source": [
    "entrenamiento = pd.read_csv('Training.csv')\n",
    "entrenamiento.info()"
   ]
  },
  {
   "cell_type": "code",
   "execution_count": 16,
   "metadata": {
    "colab": {
     "base_uri": "https://localhost:8080/"
    },
    "id": "iqDzZndMrUDu",
    "outputId": "9effb126-273d-4d44-9b19-84873351685a"
   },
   "outputs": [
    {
     "name": "stdout",
     "output_type": "stream",
     "text": [
      "<class 'pandas.core.frame.DataFrame'>\n",
      "RangeIndex: 2551 entries, 0 to 2550\n",
      "Data columns (total 51 columns):\n",
      " #   Column                              Non-Null Count  Dtype  \n",
      "---  ------                              --------------  -----  \n",
      " 0   ID                                  2551 non-null   int64  \n",
      " 1   Region                              2551 non-null   object \n",
      " 2   Territory                           2551 non-null   object \n",
      " 3   Pricing, Delivery_Terms_Quote_Appr  2551 non-null   int64  \n",
      " 4   Pricing, Delivery_Terms_Approved    2551 non-null   int64  \n",
      " 5   Bureaucratic_Code_0_Approval        2551 non-null   int64  \n",
      " 6   Bureaucratic_Code_0_Approved        2551 non-null   int64  \n",
      " 7   Submitted_for_Approval              2551 non-null   int64  \n",
      " 8   Bureaucratic_Code                   2551 non-null   object \n",
      " 9   Account_Created_Date                2551 non-null   object \n",
      " 10  Source                              2551 non-null   object \n",
      " 11  Billing_Country                     2551 non-null   object \n",
      " 12  Account_Name                        2551 non-null   object \n",
      " 13  Opportunity_Name                    2551 non-null   object \n",
      " 14  Opportunity_ID                      2551 non-null   int64  \n",
      " 15  Sales_Contract_No                   2551 non-null   object \n",
      " 16  Account_Owner                       2551 non-null   object \n",
      " 17  Opportunity_Owner                   2551 non-null   object \n",
      " 18  Account_Type                        2551 non-null   object \n",
      " 19  Opportunity_Type                    2551 non-null   object \n",
      " 20  Quote_Type                          2551 non-null   object \n",
      " 21  Delivery_Terms                      2551 non-null   object \n",
      " 22  Opportunity_Created_Date            2551 non-null   object \n",
      " 23  Brand                               2551 non-null   object \n",
      " 24  Product_Type                        2551 non-null   object \n",
      " 25  Size                                2551 non-null   object \n",
      " 26  Product_Category_B                  2551 non-null   object \n",
      " 27  Price                               2551 non-null   object \n",
      " 28  Currency                            2551 non-null   object \n",
      " 29  Last_Activity                       2551 non-null   object \n",
      " 30  Quote_Expiry_Date                   2551 non-null   object \n",
      " 31  Last_Modified_Date                  2551 non-null   object \n",
      " 32  Last_Modified_By                    2551 non-null   object \n",
      " 33  Product_Family                      2551 non-null   object \n",
      " 34  Product_Name                        2551 non-null   object \n",
      " 35  ASP_Currency                        2551 non-null   object \n",
      " 36  ASP                                 2467 non-null   float64\n",
      " 37  ASP_(converted)_Currency            2551 non-null   object \n",
      " 38  ASP_(converted)                     2467 non-null   float64\n",
      " 39  Planned_Delivery_Start_Date         2551 non-null   object \n",
      " 40  Planned_Delivery_End_Date           2551 non-null   object \n",
      " 41  Month                               2551 non-null   object \n",
      " 42  Delivery_Quarter                    2551 non-null   object \n",
      " 43  Delivery_Year                       2551 non-null   int64  \n",
      " 44  Actual_Delivery_Date                2551 non-null   object \n",
      " 45  TRF                                 2551 non-null   int64  \n",
      " 46  Total_Amount_Currency               2551 non-null   object \n",
      " 47  Total_Amount                        2551 non-null   float64\n",
      " 48  Total_Taxable_Amount_Currency       2551 non-null   object \n",
      " 49  Total_Taxable_Amount                2551 non-null   float64\n",
      " 50  Prod_Category_A                     2551 non-null   object \n",
      "dtypes: float64(4), int64(9), object(38)\n",
      "memory usage: 1016.5+ KB\n"
     ]
    }
   ],
   "source": [
    "testeo = pd.read_csv('Test.csv')\n",
    "testeo.info()"
   ]
  },
  {
   "cell_type": "code",
   "execution_count": 17,
   "metadata": {
    "id": "ENwraghDdDLY"
   },
   "outputs": [],
   "source": [
    "#hemisferios = pd.read_csv('hemisferios.csv')\n",
    "#hemisferios = convertirATipo(hemisferios,['Billing_Country','hemisferio'],'category')\n",
    "#hemisferios.info()"
   ]
  },
  {
   "cell_type": "code",
   "execution_count": 18,
   "metadata": {
    "colab": {
     "base_uri": "https://localhost:8080/"
    },
    "id": "wiejksz3DUMi",
    "outputId": "e89ac27d-0072-452d-867b-7752f541aa14"
   },
   "outputs": [
    {
     "name": "stdout",
     "output_type": "stream",
     "text": [
      "<class 'pandas.core.frame.DataFrame'>\n",
      "Int64Index: 1567 entries, 10689 to 12368\n",
      "Data columns (total 1 columns):\n",
      " #   Column  Non-Null Count  Dtype\n",
      "---  ------  --------------  -----\n",
      " 0   Target  1567 non-null   int64\n",
      "dtypes: int64(1)\n",
      "memory usage: 24.5 KB\n"
     ]
    }
   ],
   "source": [
    "#prueva de supuestos\n",
    "supuestos = pd.read_csv('EvaluacionTemporal.csv',index_col='Opportunity_ID')\n",
    "supuestos.info()"
   ]
  },
  {
   "cell_type": "markdown",
   "metadata": {
    "id": "GJYpToCYrfnk"
   },
   "source": [
    "## Preprocesamiento de ambos DF"
   ]
  },
  {
   "cell_type": "markdown",
   "metadata": {
    "id": "hyRdoRPf5wSN"
   },
   "source": [
    "### Modificaciones de oportunidad"
   ]
  },
  {
   "cell_type": "code",
   "execution_count": 22,
   "metadata": {
    "id": "Eno4a-uBFHOa"
   },
   "outputs": [],
   "source": [
    "def convertirATiempo(df,lista):\n",
    "    for columna in lista:\n",
    "        df[columna] = pd.to_datetime(df[columna])\n",
    "    return df\n",
    "\n",
    "def convertirATipo(df,lista,tipo):\n",
    "    for columna in lista:\n",
    "        df[columna] = df[columna].astype(tipo)\n",
    "    return df\n",
    "\n",
    "def convertirAFlotante(df,lista):\n",
    "    for columna in lista:\n",
    "        df[columna] = df[columna].apply(lambda x: None if (x == \"None\" or x == \"Other\") else float(x))\n",
    "    return df\n",
    "\n",
    "def establecerTipos(df):\n",
    "    \"\"\"cambia los tipos de las columnas\"\"\"\n",
    "    \n",
    "    #fechas\n",
    "    listaDeColumnasFechas = ['Account_Created_Date','Opportunity_Created_Date','Quote_Expiry_Date','Last_Modified_Date','Delivery_Year','Planned_Delivery_End_Date','Planned_Delivery_Start_Date']\n",
    "    df = convertirATiempo(df,listaDeColumnasFechas)\n",
    "    #enteros\n",
    "    listaDeColumnasEnteras = ['ID','Opportunity_ID']\n",
    "    convertirATipo(df,listaDeColumnasEnteras,'int')\n",
    "    #decimales\n",
    "    listaDeColumnasEnteras = ['Price','ASP','ASP_(converted)','Total_Taxable_Amount','Total_Amount']\n",
    "    convertirAFlotante(df,listaDeColumnasEnteras)\n",
    "    #booleanos\n",
    "    listaDeColumnasBooleanas = ['Pricing, Delivery_Terms_Quote_Appr','Pricing, Delivery_Terms_Approved','Bureaucratic_Code_0_Approval','Bureaucratic_Code_0_Approved']\n",
    "    convertirATipo(df,listaDeColumnasBooleanas,'bool')\n",
    "    #categoricas\n",
    "    listaDeColumnasCategoricas = ['Product_Category_B','Product_Family','Region','Territory','Bureaucratic_Code','Source ','Billing_Country','Account_Name','Opportunity_Name']\n",
    "    convertirATipo(df,listaDeColumnasCategoricas,'category')\n",
    "    return df"
   ]
  },
  {
   "cell_type": "code",
   "execution_count": 23,
   "metadata": {
    "id": "1afBmnwDE9AT"
   },
   "outputs": [],
   "source": [
    "def agregarHemisferios(df):\n",
    "  #df.reset_index()\n",
    "  df = df.merge(hemisferios,how='left',on='Billing_Country')\n",
    "  df['hemisferio'] = df['hemisferio'].apply(lambda x: 'Desconocido' if (x != 'Norte' and x != 'Sur') else x)\n",
    "  convertirATipo(df,['hemisferio','Billing_Country'],'category')\n",
    "  #df.set_index('Opportunity_ID')\n",
    "  return df"
   ]
  },
  {
   "cell_type": "code",
   "execution_count": 24,
   "metadata": {
    "id": "b6B7RcbRrqRk"
   },
   "outputs": [],
   "source": [
    "def eliminarColumnasSinImportancia(df):\n",
    "    #\"Last_Activity\" y \"Actual_Delivery_Date\" son puros nulos\n",
    "    #\"Submitted_for_Approval\" puros valores nulos\n",
    "    #\"Prod_Category_A\" tiene todos sus valores iguales\n",
    "    df = df.drop(['Submitted_for_Approval','Last_Activity','Actual_Delivery_Date','Prod_Category_A'], axis=1)\n",
    "    return df\n",
    "\n",
    "def agregarColumnas(df):\n",
    "    df['Closed'] = df['Stage'].replace({'Closed Won': True, 'Closed Lost': True, 'Negotiation':False,'Proposal':False,'Qualification':False})#REVISAR\n",
    "    df['Won'] = df['Stage'].replace({'Closed Won': True, 'Closed Lost': False, 'Negotiation':False,'Proposal':False,'Qualification':False})\n",
    "    convertirATipo(df,['Stage'],'category')\n",
    "    return df\n",
    "\n",
    "def correccionDeTerritorios(df):\n",
    "    #se refiere a diferentes partes de usa\n",
    "    df = df.replace({'Territory':{'Central US':'USA','NE America':'USA', 'NW America':'USA','SW America':'USA','SE America':'USA'}})\n",
    "    #\n",
    "    df = df.replace({'Territory':{'KSA':'Saudi Arabia'}})\n",
    "    #No se ha encontrado la dorma de los siguientes datos 'Kosovo','South America', 'South East Asia', 'UAE (Dubai)', 'UAE (Others)' (en el caso de kosovo no lo grafica)\n",
    "    return df\n",
    "\n",
    "def preparacionDelDataFrame(df,entrenamiento=True):\n",
    "    df = eliminarColumnasSinImportancia(df)\n",
    "    df = establecerTipos(df)\n",
    "    df = correccionDeTerritorios(df)\n",
    "    df.rename(columns = {'Source ':'Source'}, inplace = True)\n",
    "    #df = agregarHemisferios(df)#desactivado desde el readcsv\n",
    "    if (entrenamiento):\n",
    "      df = agregarColumnas(df)\n",
    "    return df"
   ]
  },
  {
   "cell_type": "markdown",
   "metadata": {
    "id": "6b4gZg-W52iy"
   },
   "source": [
    "### por oportunidad"
   ]
  },
  {
   "cell_type": "code",
   "execution_count": 25,
   "metadata": {
    "id": "W1BeGQYEAcMp"
   },
   "outputs": [],
   "source": [
    "def desacerseDeNulosDateTime(df,columna):\n",
    "  df[columna] = df[columna].apply(lambda x: datetime.max if (x is None or x is np.NaN or x is pd.NaT) else x)\n",
    "  return df\n",
    "\n",
    "def descomposicionDeFechas(df,lista):\n",
    "  \"\"\"se nesesitan enteros no fechas\"\"\"\n",
    "  for columna in lista:\n",
    "    anio = columna + '_anio'\n",
    "    df[anio] = df[columna].apply(lambda x: x if x is None else x.year)\n",
    "    mes = columna + '_mes'\n",
    "    df[mes] = df[columna].apply(lambda x: x if x is None else x.month)\n",
    "    dia = columna + '_dia'\n",
    "    df[dia] = df[columna].apply(lambda x: x if (x is None) else x.day)\n",
    "  df = df.drop(lista, axis=1)\n",
    "  return df\n",
    "\n",
    "def establecerEstacion(df,columnaFecha):\n",
    "  estacion = columnaFecha + '_Estacion'\n",
    "  df[estacion] = 'Desconocido'\n",
    "  df['temporalEstaciones'] = df[columnaFecha].apply(lambda x: 'Desconocido' if x is None else estaciones(x,True))\n",
    "  df.loc[df['hemisferio'] == 'Norte' , estacion] = df['temporalEstaciones']\n",
    "  df['temporalEstaciones'] = df[columnaFecha].apply(lambda x: 'Desconocido' if x is None else estaciones(x,False))\n",
    "  df.loc[df['hemisferio'] == 'Sur' , estacion] = df['temporalEstaciones']\n",
    "  df = df.drop(['temporalEstaciones'], axis=1)\n",
    "  convertirATipo(df,[estacion],'category')\n",
    "  return df\n",
    "\n",
    "def estaciones(fecha,norte):\n",
    "  if (norte):\n",
    "    estaciones = ['primavera','verano','otoño','invierno']\n",
    "  else:\n",
    "    estaciones = ['otoño','invierno','primavera','verano']\n",
    "  if (fecha.month == 12 and fecha.day >= 21 or fecha.month <= 3 and fecha.day < 21):\n",
    "    return estaciones[3]\n",
    "  elif (fecha.month == 9 and fecha.day >= 21 or fecha.month > 9):\n",
    "    return estaciones[2]\n",
    "  elif (fecha.month == 6 and fecha.day >= 21 or fecha.month > 6):\n",
    "    return estaciones[1]\n",
    "  elif (fecha.month == 3 and fecha.day >= 21 or fecha.month > 3):\n",
    "    return estaciones[0]\n",
    "  else:\n",
    "    return 'Desconocido'\n",
    "\n",
    "def diferenciaEntreFechas(df,colFechaInicial,colFechaFinal):\n",
    "  df['TiempoDeDiferencia'] = (df[colFechaFinal] - df[colFechaInicial])\n",
    "  df['TiempoDeDiferencia'] = pd.to_numeric(df['TiempoDeDiferencia'].dt.days, downcast='integer')#revisar si se conviete totalmente a dias\n",
    "  df = df.drop([colFechaInicial,colFechaFinal], axis=1)\n",
    "  return df"
   ]
  },
  {
   "cell_type": "code",
   "execution_count": 105,
   "metadata": {
    "id": "hEXKmCHir-T4"
   },
   "outputs": [],
   "source": [
    "def dataEntrenamiento(df):\n",
    "  data = df.groupby('Opportunity_ID').agg({'Won':'sum','Closed':'sum',\n",
    "                                           'modificaciones':'sum',\n",
    "                                           #'Won':'sum','modificaciones':'sum',\n",
    "                                           'Last_Modified_Date':'max','Opportunity_Created_Date':'min',\n",
    "                                           #'Price':'mean',#Demaciados nulos\n",
    "                                           #'Quote_Expiry_Date':'max',\n",
    "                                           'Pricing, Delivery_Terms_Quote_Appr':'sum',\n",
    "                                           'Pricing, Delivery_Terms_Approved':'sum',\n",
    "                                           'Bureaucratic_Code_0_Approval':'sum',\n",
    "                                           'Bureaucratic_Code_0_Approved':'sum',\n",
    "                                           'Account_Created_Date':'min',\n",
    "                                           'Total_Amount':'sum','Region':'first',\n",
    "                                           #'Total_Taxable_Amount':'sum',\n",
    "                                           'Territory':'first',\n",
    "                                           'ASP_(converted)':'sum',\n",
    "                                           'Account_Type':'first',\n",
    "                                           'Delivery_Quarter':'first',\n",
    "                                           'Product_Type':'first',\n",
    "                                           'Product_Category_B':'first',\n",
    "                                           'Billing_Country':'first',\n",
    "                                           'Planned_Delivery_End_Date':'max',\n",
    "                                           'Planned_Delivery_Start_Date':'min',\n",
    "                                           'Delivery_Terms':'first',\n",
    "                                           'Product_Family':'first',\n",
    "                                           #'ASP_(converted)_Currency':'first',\n",
    "                                           'TRF':'mean'\n",
    "                                           #'hemisferio':'first'\n",
    "                                           })#hay que seguir agregando cosas que son importantes\n",
    "  return data\n",
    "\n",
    "def dataTesteo(df):\n",
    "  data = df.groupby('Opportunity_ID').agg({'modificaciones':'sum',\n",
    "                                           'Last_Modified_Date':'max','Opportunity_Created_Date':'min',\n",
    "                                           #'Price':'mean',#Demaciados nulos\n",
    "                                           #'Quote_Expiry_Date':'max',\n",
    "                                           'Pricing, Delivery_Terms_Quote_Appr':'sum',\n",
    "                                           'Pricing, Delivery_Terms_Approved':'sum',\n",
    "                                           'Bureaucratic_Code_0_Approval':'sum',\n",
    "                                           'Bureaucratic_Code_0_Approved':'sum',\n",
    "                                           'Account_Created_Date':'min',\n",
    "                                           'Total_Amount':'sum','Region':'first',\n",
    "                                           #'Total_Taxable_Amount':'sum',\n",
    "                                           'Territory':'first',\n",
    "                                           'ASP_(converted)':'sum',\n",
    "                                           'Account_Type':'first',\n",
    "                                           'Delivery_Quarter':'first',\n",
    "                                           'Product_Type':'first',\n",
    "                                           'Product_Category_B':'first',\n",
    "                                           'Billing_Country':'first',\n",
    "                                           'Planned_Delivery_End_Date':'max',\n",
    "                                           'Planned_Delivery_Start_Date':'min',\n",
    "                                           'Delivery_Terms':'first',\n",
    "                                           'Product_Family':'first',\n",
    "                                           #'ASP_(converted)_Currency':'first',\n",
    "                                           'TRF':'mean'\n",
    "                                           #'hemisferio':'first'\n",
    "                                           })#hay que seguir agregando cosas que son importantes\n",
    "  return data  \n",
    "\n",
    "def agrupacionDeOportunidades(df,entrenamiento=True):\n",
    "  df['modificaciones'] = 1\n",
    "  if (entrenamiento):\n",
    "    data = dataEntrenamiento(df)\n",
    "    #Solo me interesa saber si se cerro con exito\n",
    "    #data['Closed'] = data['Closed'].agg(lambda x: 1 if x > 0 else 0)\n",
    "    data['Won'] = data['Won'].agg(lambda x: 1 if x > 0 else 0)\n",
    "    #data['Lost'] = data['Closed'] - data['Won']#si es won es closed pero si es closed y no es won es perdido\n",
    "    #data['Lost'] = data['Lost'].agg(lambda x: 1 if x > 0 else 0)\n",
    "\n",
    "    #Los casos NO cerrados del set de entrenamiento se desconocen si tendran exito o no\n",
    "    #por lo que englobarlos como triunfos o fracasos es un error deben ser retirados del set\n",
    "    data = data[data['Closed'] > 0]\n",
    "    data = data.drop(['Closed'], axis=1)\n",
    "  else:\n",
    "    data = dataTesteo(df)\n",
    "\n",
    "  #data['Pricing, Delivery_Terms_Quote_Appr'] = data['Pricing, Delivery_Terms_Quote_Appr'].agg(lambda x: None if x == 0 else x)\n",
    "  #data['Pricing, Delivery_Terms_Approved'] = data['Pricing, Delivery_Terms_Approved'].agg(lambda x: None if x == 0 else x)\n",
    "  #data['Bureaucratic_Code_0_Approval'] = data['Bureaucratic_Code_0_Approval'].agg(lambda x: None if x == 0 else x)\n",
    "  #data['Bureaucratic_Code_0_Approved'] = data['Bureaucratic_Code_0_Approved'].agg(lambda x: None if x == 0 else x)\n",
    "  #\"\"\"\n",
    "  data['Pricing, Delivery_Terms_Quote_Appr'] = data['Pricing, Delivery_Terms_Quote_Appr'].agg(lambda x: 0 if x > 0 else 1)#Se nesesita negar esta\n",
    "  data['Pricing, Delivery_Terms_Approved'] = data['Pricing, Delivery_Terms_Approved'].agg(lambda x: 1 if x > 0 else 0)\n",
    "  data['Bureaucratic_Code_0_Approval'] = data['Bureaucratic_Code_0_Approval'].agg(lambda x: 0 if x > 0 else 1)#Se nesesita negar esta\n",
    "  data['Bureaucratic_Code_0_Approved'] = data['Bureaucratic_Code_0_Approved'].agg(lambda x: 1 if x > 0 else 0)\n",
    "\n",
    "  #Condensando columnas\n",
    "  data['Pricing, Delivery_Terms_Condensado'] = data['Pricing, Delivery_Terms_Quote_Appr'] + data['Pricing, Delivery_Terms_Approved']\n",
    "  data['Pricing, Delivery_Terms_Condensado'] = data['Pricing, Delivery_Terms_Condensado'].agg(lambda x: 1 if x > 1 else 0)\n",
    "  data = data.drop(['Pricing, Delivery_Terms_Quote_Appr','Pricing, Delivery_Terms_Approved'], axis=1)\n",
    "\n",
    "  data['Bureaucratic_Code_0_Condensado'] = data['Bureaucratic_Code_0_Approval'] + data['Bureaucratic_Code_0_Approved']\n",
    "  data['Bureaucratic_Code_0_Condensado'] = data['Bureaucratic_Code_0_Condensado'].agg(lambda x: 1 if x > 1 else 0)\n",
    "  data = data.drop(['Bureaucratic_Code_0_Approval','Bureaucratic_Code_0_Approved'], axis=1)\n",
    "  #data = data.replace({'Won':})\n",
    "\n",
    "  data['aprobacion'] = data['Pricing, Delivery_Terms_Condensado'] + data['Bureaucratic_Code_0_Condensado']\n",
    "  data['aprobacion'] = data['aprobacion'].agg(lambda x: 1 if x > 1 else 0)\n",
    "  data = data.drop(['Pricing, Delivery_Terms_Condensado','Bureaucratic_Code_0_Condensado'], axis=1)\n",
    "\n",
    "  #\"\"\"\n",
    "\n",
    "  #categoricas\n",
    "  #listaDeColumnasCategoricas = ['Account_Type','Region','Territory','Billing_Country',\n",
    "  #                              'Delivery_Quarter','Product_Type','Product_Category_B',\n",
    "  #                              'Delivery_Terms','Product_Family','ASP_(converted)_Currency']\n",
    "  listaDeColumnasCategoricas = ['Account_Type','Region','Territory','Billing_Country',\n",
    "                                'Delivery_Quarter','Product_Type','Product_Category_B',\n",
    "                                'Delivery_Terms','Product_Family','aprobacion']\n",
    "  convertirATipo(data,listaDeColumnasCategoricas,'category')\n",
    "\n",
    "  #data = establecerEstacion(data,'Opportunity_Created_Date')\n",
    "  #data = establecerEstacion(data,'Quote_Expiry_Date')\n",
    "  #data = desacerseDeNulosDateTime(data,'Quote_Expiry_Date')#si no hay fecha de expiracion se pre supone que es infinita\n",
    "\n",
    "  listaDeValoresDeFechas = ['Last_Modified_Date','Opportunity_Created_Date',\n",
    "                            'Account_Created_Date','Planned_Delivery_Start_Date','Planned_Delivery_End_Date']\n",
    "  data = descomposicionDeFechas(data,listaDeValoresDeFechas)\n",
    "\n",
    "  #data['Diferencia_Amount'] = data['Total_Amount'] - data['Total_Amount'].mean()\n",
    "  #data['Diferencia_Amount'] = data['Diferencia_Amount'].agg(lambda x: -x if x<0 else x)\n",
    "\n",
    "  #data['Total_Amount'] = data['Total_Amount'].agg(lambda x: math.log(x,10))\n",
    "  #enteros\n",
    "  #listaDeColumnasEnteras = ['Quote_Expiry_Date_anio','Quote_Expiry_Date_mes','Quote_Expiry_Date_dia']\n",
    "  #convertirATipo(data,listaDeColumnasEnteras,'int')\n",
    "  #data = agregarHemisferios(data)\n",
    "\n",
    "  #data = data.drop(['hemisferio'], axis=1)\n",
    "\n",
    "  #data = diferenciaEntreFechas(data,'Planned_Delivery_Start_Date','Planned_Delivery_End_Date')\n",
    "\n",
    "  return data\n",
    "\n",
    "#Uso las mismas categoricas en todos lados\n",
    "listaDeColumnasCategoricas = ['Account_Type','Region','Territory','Billing_Country',\n",
    "                              'Delivery_Quarter','Product_Type','Product_Category_B',\n",
    "                              'Delivery_Terms','Product_Family','aprobacion']"
   ]
  },
  {
   "cell_type": "markdown",
   "metadata": {
    "id": "vI8bOMI2wcR0"
   },
   "source": [
    "las siguientes columnas no fueron probadas hay que analizarlas\n",
    "\n",
    "Posibles columnas a usar:\n",
    "\n",
    "- Bureaucratic_Code\n",
    "- Delivery_Year (posibles datos repetidos)\n",
    "- Month (posibles datos repetidos)\n",
    "- Opportunity_Owner\n",
    "- Opportunity_Type\n",
    "- Product_Family\n",
    "- Product_Name\n",
    "- Quote_Type (muy desbalanceado)\n",
    "\n",
    "Revisar el contexto\n",
    "\n",
    "- Total_Amount_Currency\n",
    "- Total_Taxable_Amount_Currency\n",
    "- ASP_Currency\n",
    "\n",
    "\n",
    "las columnas con gran catidad de nones parecen afectar positivamente el resultado hay que revisarlas una por una\n",
    "\n",
    "- Currency: Segun prueba de supuestos empeora el resultado\n",
    "- Brand: Segun prueba de supuestos empeora el resultado ligeramente\n",
    "- Size: Segun prueba de supuestos empeora el resultado ligeramente\n",
    "- Source: Segun prueba de supuestos empeora el resultado"
   ]
  },
  {
   "cell_type": "markdown",
   "metadata": {
    "id": "a_oK2tNOrgdr"
   },
   "source": [
    "### categoricas a enteros (caso de que el sistema predictor no reconosca category)"
   ]
  },
  {
   "cell_type": "code",
   "execution_count": 27,
   "metadata": {
    "id": "zV3o96K3rqy_"
   },
   "outputs": [],
   "source": [
    "def convertirCategoryEnEnteros(df1,df2,columna):\n",
    "  encoder = ce.BinaryEncoder(cols=[columna])\n",
    "  encoder.fit(df1)\n",
    "  #encoder.fit(df2)\n",
    "  df1 = encoder.transform(df1)\n",
    "  df2 = encoder.transform(df2)\n",
    "  return df1,df2\n"
   ]
  },
  {
   "cell_type": "markdown",
   "metadata": {
    "id": "kYzRJPBRvMs5"
   },
   "source": [
    "## Ejecucion de cambios"
   ]
  },
  {
   "cell_type": "markdown",
   "metadata": {
    "id": "knmx6tPo01QZ"
   },
   "source": [
    "### ejecucion por modificaciones de oportunidad"
   ]
  },
  {
   "cell_type": "code",
   "execution_count": 114,
   "metadata": {
    "colab": {
     "base_uri": "https://localhost:8080/"
    },
    "id": "PaAnTWGor1uy",
    "outputId": "63c2d61f-3985-4589-b2b8-fed0a2a76b23"
   },
   "outputs": [
    {
     "name": "stdout",
     "output_type": "stream",
     "text": [
      "<class 'pandas.core.frame.DataFrame'>\n",
      "RangeIndex: 16947 entries, 0 to 16946\n",
      "Data columns (total 50 columns):\n",
      " #   Column                              Non-Null Count  Dtype         \n",
      "---  ------                              --------------  -----         \n",
      " 0   ID                                  16947 non-null  int64         \n",
      " 1   Region                              16947 non-null  category      \n",
      " 2   Territory                           16947 non-null  object        \n",
      " 3   Pricing, Delivery_Terms_Quote_Appr  16947 non-null  bool          \n",
      " 4   Pricing, Delivery_Terms_Approved    16947 non-null  bool          \n",
      " 5   Bureaucratic_Code_0_Approval        16947 non-null  bool          \n",
      " 6   Bureaucratic_Code_0_Approved        16947 non-null  bool          \n",
      " 7   Bureaucratic_Code                   16947 non-null  category      \n",
      " 8   Account_Created_Date                16947 non-null  datetime64[ns]\n",
      " 9   Source                              16947 non-null  category      \n",
      " 10  Billing_Country                     16947 non-null  category      \n",
      " 11  Account_Name                        16947 non-null  category      \n",
      " 12  Opportunity_Name                    16947 non-null  category      \n",
      " 13  Opportunity_ID                      16947 non-null  int64         \n",
      " 14  Sales_Contract_No                   16947 non-null  object        \n",
      " 15  Account_Owner                       16947 non-null  object        \n",
      " 16  Opportunity_Owner                   16947 non-null  object        \n",
      " 17  Account_Type                        16947 non-null  object        \n",
      " 18  Opportunity_Type                    16947 non-null  object        \n",
      " 19  Quote_Type                          16947 non-null  object        \n",
      " 20  Delivery_Terms                      16947 non-null  object        \n",
      " 21  Opportunity_Created_Date            16947 non-null  datetime64[ns]\n",
      " 22  Brand                               16947 non-null  object        \n",
      " 23  Product_Type                        16947 non-null  object        \n",
      " 24  Size                                16947 non-null  object        \n",
      " 25  Product_Category_B                  16947 non-null  category      \n",
      " 26  Price                               356 non-null    float64       \n",
      " 27  Currency                            16947 non-null  object        \n",
      " 28  Quote_Expiry_Date                   12322 non-null  datetime64[ns]\n",
      " 29  Last_Modified_Date                  16947 non-null  datetime64[ns]\n",
      " 30  Last_Modified_By                    16947 non-null  object        \n",
      " 31  Product_Family                      16947 non-null  category      \n",
      " 32  Product_Name                        16947 non-null  object        \n",
      " 33  ASP_Currency                        16947 non-null  object        \n",
      " 34  ASP                                 13738 non-null  float64       \n",
      " 35  ASP_(converted)_Currency            16947 non-null  object        \n",
      " 36  ASP_(converted)                     13738 non-null  float64       \n",
      " 37  Planned_Delivery_Start_Date         16947 non-null  datetime64[ns]\n",
      " 38  Planned_Delivery_End_Date           16872 non-null  datetime64[ns]\n",
      " 39  Month                               16947 non-null  object        \n",
      " 40  Delivery_Quarter                    16947 non-null  object        \n",
      " 41  Delivery_Year                       16947 non-null  datetime64[ns]\n",
      " 42  TRF                                 16947 non-null  int64         \n",
      " 43  Total_Amount_Currency               16947 non-null  object        \n",
      " 44  Total_Amount                        16888 non-null  float64       \n",
      " 45  Total_Taxable_Amount_Currency       16947 non-null  object        \n",
      " 46  Total_Taxable_Amount                16947 non-null  float64       \n",
      " 47  Stage                               16947 non-null  category      \n",
      " 48  Closed                              16947 non-null  bool          \n",
      " 49  Won                                 16947 non-null  bool          \n",
      "dtypes: bool(6), category(9), datetime64[ns](7), float64(5), int64(3), object(20)\n",
      "memory usage: 5.3+ MB\n"
     ]
    }
   ],
   "source": [
    "entrenamientoProcesado = preparacionDelDataFrame(entrenamiento)\n",
    "entrenamientoProcesado.info()"
   ]
  },
  {
   "cell_type": "code",
   "execution_count": 115,
   "metadata": {
    "colab": {
     "base_uri": "https://localhost:8080/"
    },
    "id": "HsNznYyLr21Z",
    "outputId": "4be72d7a-b954-4789-f1c1-efb28ab80140"
   },
   "outputs": [
    {
     "name": "stdout",
     "output_type": "stream",
     "text": [
      "<class 'pandas.core.frame.DataFrame'>\n",
      "RangeIndex: 2551 entries, 0 to 2550\n",
      "Data columns (total 47 columns):\n",
      " #   Column                              Non-Null Count  Dtype         \n",
      "---  ------                              --------------  -----         \n",
      " 0   ID                                  2551 non-null   int64         \n",
      " 1   Region                              2551 non-null   category      \n",
      " 2   Territory                           2551 non-null   object        \n",
      " 3   Pricing, Delivery_Terms_Quote_Appr  2551 non-null   bool          \n",
      " 4   Pricing, Delivery_Terms_Approved    2551 non-null   bool          \n",
      " 5   Bureaucratic_Code_0_Approval        2551 non-null   bool          \n",
      " 6   Bureaucratic_Code_0_Approved        2551 non-null   bool          \n",
      " 7   Bureaucratic_Code                   2551 non-null   category      \n",
      " 8   Account_Created_Date                2551 non-null   datetime64[ns]\n",
      " 9   Source                              2551 non-null   category      \n",
      " 10  Billing_Country                     2551 non-null   category      \n",
      " 11  Account_Name                        2551 non-null   category      \n",
      " 12  Opportunity_Name                    2551 non-null   category      \n",
      " 13  Opportunity_ID                      2551 non-null   int64         \n",
      " 14  Sales_Contract_No                   2551 non-null   object        \n",
      " 15  Account_Owner                       2551 non-null   object        \n",
      " 16  Opportunity_Owner                   2551 non-null   object        \n",
      " 17  Account_Type                        2551 non-null   object        \n",
      " 18  Opportunity_Type                    2551 non-null   object        \n",
      " 19  Quote_Type                          2551 non-null   object        \n",
      " 20  Delivery_Terms                      2551 non-null   object        \n",
      " 21  Opportunity_Created_Date            2551 non-null   datetime64[ns]\n",
      " 22  Brand                               2551 non-null   object        \n",
      " 23  Product_Type                        2551 non-null   object        \n",
      " 24  Size                                2551 non-null   object        \n",
      " 25  Product_Category_B                  2551 non-null   category      \n",
      " 26  Price                               160 non-null    float64       \n",
      " 27  Currency                            2551 non-null   object        \n",
      " 28  Quote_Expiry_Date                   1315 non-null   datetime64[ns]\n",
      " 29  Last_Modified_Date                  2551 non-null   datetime64[ns]\n",
      " 30  Last_Modified_By                    2551 non-null   object        \n",
      " 31  Product_Family                      2551 non-null   category      \n",
      " 32  Product_Name                        2551 non-null   object        \n",
      " 33  ASP_Currency                        2551 non-null   object        \n",
      " 34  ASP                                 2467 non-null   float64       \n",
      " 35  ASP_(converted)_Currency            2551 non-null   object        \n",
      " 36  ASP_(converted)                     2467 non-null   float64       \n",
      " 37  Planned_Delivery_Start_Date         2551 non-null   datetime64[ns]\n",
      " 38  Planned_Delivery_End_Date           2500 non-null   datetime64[ns]\n",
      " 39  Month                               2551 non-null   object        \n",
      " 40  Delivery_Quarter                    2551 non-null   object        \n",
      " 41  Delivery_Year                       2551 non-null   datetime64[ns]\n",
      " 42  TRF                                 2551 non-null   int64         \n",
      " 43  Total_Amount_Currency               2551 non-null   object        \n",
      " 44  Total_Amount                        2551 non-null   float64       \n",
      " 45  Total_Taxable_Amount_Currency       2551 non-null   object        \n",
      " 46  Total_Taxable_Amount                2551 non-null   float64       \n",
      "dtypes: bool(4), category(8), datetime64[ns](7), float64(5), int64(3), object(20)\n",
      "memory usage: 815.8+ KB\n"
     ]
    }
   ],
   "source": [
    "testeoProsesado = preparacionDelDataFrame(testeo,False)\n",
    "testeoProsesado.info()"
   ]
  },
  {
   "cell_type": "markdown",
   "metadata": {
    "id": "q8JeolJN08kJ"
   },
   "source": [
    "### ejecucion por oportunidad"
   ]
  },
  {
   "cell_type": "code",
   "execution_count": 116,
   "metadata": {
    "colab": {
     "base_uri": "https://localhost:8080/"
    },
    "id": "4FaCKA1_1ANL",
    "outputId": "491db541-0c4e-4029-f384-04cd9fcfa6bd"
   },
   "outputs": [
    {
     "name": "stdout",
     "output_type": "stream",
     "text": [
      "<class 'pandas.core.frame.DataFrame'>\n",
      "Int64Index: 9791 entries, 0 to 12803\n",
      "Data columns (total 30 columns):\n",
      " #   Column                            Non-Null Count  Dtype   \n",
      "---  ------                            --------------  -----   \n",
      " 0   Won                               9791 non-null   int64   \n",
      " 1   modificaciones                    9791 non-null   int64   \n",
      " 2   Total_Amount                      9791 non-null   float64 \n",
      " 3   Region                            9791 non-null   category\n",
      " 4   Territory                         9791 non-null   category\n",
      " 5   ASP_(converted)                   9791 non-null   float64 \n",
      " 6   Account_Type                      9791 non-null   category\n",
      " 7   Delivery_Quarter                  9791 non-null   category\n",
      " 8   Product_Type                      9791 non-null   category\n",
      " 9   Product_Category_B                9791 non-null   category\n",
      " 10  Billing_Country                   9791 non-null   category\n",
      " 11  Delivery_Terms                    9791 non-null   category\n",
      " 12  Product_Family                    9791 non-null   category\n",
      " 13  TRF                               9791 non-null   float64 \n",
      " 14  aprobacion                        9791 non-null   category\n",
      " 15  Last_Modified_Date_anio           9791 non-null   int64   \n",
      " 16  Last_Modified_Date_mes            9791 non-null   int64   \n",
      " 17  Last_Modified_Date_dia            9791 non-null   int64   \n",
      " 18  Opportunity_Created_Date_anio     9791 non-null   int64   \n",
      " 19  Opportunity_Created_Date_mes      9791 non-null   int64   \n",
      " 20  Opportunity_Created_Date_dia      9791 non-null   int64   \n",
      " 21  Account_Created_Date_anio         9791 non-null   int64   \n",
      " 22  Account_Created_Date_mes          9791 non-null   int64   \n",
      " 23  Account_Created_Date_dia          9791 non-null   int64   \n",
      " 24  Planned_Delivery_Start_Date_anio  9791 non-null   int64   \n",
      " 25  Planned_Delivery_Start_Date_mes   9791 non-null   int64   \n",
      " 26  Planned_Delivery_Start_Date_dia   9791 non-null   int64   \n",
      " 27  Planned_Delivery_End_Date_anio    9734 non-null   float64 \n",
      " 28  Planned_Delivery_End_Date_mes     9734 non-null   float64 \n",
      " 29  Planned_Delivery_End_Date_dia     9734 non-null   float64 \n",
      "dtypes: category(10), float64(6), int64(14)\n",
      "memory usage: 1.7 MB\n"
     ]
    }
   ],
   "source": [
    "agrupacionEntrenamiento = agrupacionDeOportunidades(entrenamientoProcesado)\n",
    "agrupacionEntrenamiento.info()"
   ]
  },
  {
   "cell_type": "code",
   "execution_count": 117,
   "metadata": {
    "colab": {
     "base_uri": "https://localhost:8080/"
    },
    "id": "u45CZJXV1Flo",
    "outputId": "ec18e662-5ee6-4fef-d076-66f020fe1072"
   },
   "outputs": [
    {
     "name": "stdout",
     "output_type": "stream",
     "text": [
      "<class 'pandas.core.frame.DataFrame'>\n",
      "Int64Index: 1567 entries, 10689 to 12368\n",
      "Data columns (total 29 columns):\n",
      " #   Column                            Non-Null Count  Dtype   \n",
      "---  ------                            --------------  -----   \n",
      " 0   modificaciones                    1567 non-null   int64   \n",
      " 1   Total_Amount                      1567 non-null   float64 \n",
      " 2   Region                            1567 non-null   category\n",
      " 3   Territory                         1567 non-null   category\n",
      " 4   ASP_(converted)                   1567 non-null   float64 \n",
      " 5   Account_Type                      1567 non-null   category\n",
      " 6   Delivery_Quarter                  1567 non-null   category\n",
      " 7   Product_Type                      1567 non-null   category\n",
      " 8   Product_Category_B                1567 non-null   category\n",
      " 9   Billing_Country                   1567 non-null   category\n",
      " 10  Delivery_Terms                    1567 non-null   category\n",
      " 11  Product_Family                    1567 non-null   category\n",
      " 12  TRF                               1567 non-null   float64 \n",
      " 13  aprobacion                        1567 non-null   category\n",
      " 14  Last_Modified_Date_anio           1567 non-null   int64   \n",
      " 15  Last_Modified_Date_mes            1567 non-null   int64   \n",
      " 16  Last_Modified_Date_dia            1567 non-null   int64   \n",
      " 17  Opportunity_Created_Date_anio     1567 non-null   int64   \n",
      " 18  Opportunity_Created_Date_mes      1567 non-null   int64   \n",
      " 19  Opportunity_Created_Date_dia      1567 non-null   int64   \n",
      " 20  Account_Created_Date_anio         1567 non-null   int64   \n",
      " 21  Account_Created_Date_mes          1567 non-null   int64   \n",
      " 22  Account_Created_Date_dia          1567 non-null   int64   \n",
      " 23  Planned_Delivery_Start_Date_anio  1567 non-null   int64   \n",
      " 24  Planned_Delivery_Start_Date_mes   1567 non-null   int64   \n",
      " 25  Planned_Delivery_Start_Date_dia   1567 non-null   int64   \n",
      " 26  Planned_Delivery_End_Date_anio    1524 non-null   float64 \n",
      " 27  Planned_Delivery_End_Date_mes     1524 non-null   float64 \n",
      " 28  Planned_Delivery_End_Date_dia     1524 non-null   float64 \n",
      "dtypes: category(10), float64(6), int64(13)\n",
      "memory usage: 269.2 KB\n"
     ]
    }
   ],
   "source": [
    "agrupacionTesteo = agrupacionDeOportunidades(testeoProsesado,False)\n",
    "agrupacionTesteo.info()"
   ]
  },
  {
   "cell_type": "markdown",
   "metadata": {
    "id": "1xfzMbqiZrue"
   },
   "source": [
    "### separacion de resultados de entrenamiento"
   ]
  },
  {
   "cell_type": "code",
   "execution_count": 118,
   "metadata": {
    "colab": {
     "base_uri": "https://localhost:8080/"
    },
    "id": "3_W40iRfZ0e9",
    "outputId": "8cf69187-1618-42e7-9b4b-d49a49dc5ecc"
   },
   "outputs": [
    {
     "name": "stdout",
     "output_type": "stream",
     "text": [
      "<class 'pandas.core.frame.DataFrame'>\n",
      "Int64Index: 9791 entries, 0 to 12803\n",
      "Data columns (total 1 columns):\n",
      " #   Column  Non-Null Count  Dtype\n",
      "---  ------  --------------  -----\n",
      " 0   Won     9791 non-null   int64\n",
      "dtypes: int64(1)\n",
      "memory usage: 153.0 KB\n"
     ]
    }
   ],
   "source": [
    "entrenamientoResultado = agrupacionEntrenamiento[['Won']]\n",
    "entrenamientoResultado.info()"
   ]
  },
  {
   "cell_type": "code",
   "execution_count": 119,
   "metadata": {
    "colab": {
     "base_uri": "https://localhost:8080/"
    },
    "id": "8-ZrGbyfaHH1",
    "outputId": "b70a4fc3-b8f5-4f9e-9b3f-b1fc25e7eb11"
   },
   "outputs": [
    {
     "name": "stdout",
     "output_type": "stream",
     "text": [
      "<class 'pandas.core.frame.DataFrame'>\n",
      "Int64Index: 9791 entries, 0 to 12803\n",
      "Data columns (total 29 columns):\n",
      " #   Column                            Non-Null Count  Dtype   \n",
      "---  ------                            --------------  -----   \n",
      " 0   modificaciones                    9791 non-null   int64   \n",
      " 1   Total_Amount                      9791 non-null   float64 \n",
      " 2   Region                            9791 non-null   category\n",
      " 3   Territory                         9791 non-null   category\n",
      " 4   ASP_(converted)                   9791 non-null   float64 \n",
      " 5   Account_Type                      9791 non-null   category\n",
      " 6   Delivery_Quarter                  9791 non-null   category\n",
      " 7   Product_Type                      9791 non-null   category\n",
      " 8   Product_Category_B                9791 non-null   category\n",
      " 9   Billing_Country                   9791 non-null   category\n",
      " 10  Delivery_Terms                    9791 non-null   category\n",
      " 11  Product_Family                    9791 non-null   category\n",
      " 12  TRF                               9791 non-null   float64 \n",
      " 13  aprobacion                        9791 non-null   category\n",
      " 14  Last_Modified_Date_anio           9791 non-null   int64   \n",
      " 15  Last_Modified_Date_mes            9791 non-null   int64   \n",
      " 16  Last_Modified_Date_dia            9791 non-null   int64   \n",
      " 17  Opportunity_Created_Date_anio     9791 non-null   int64   \n",
      " 18  Opportunity_Created_Date_mes      9791 non-null   int64   \n",
      " 19  Opportunity_Created_Date_dia      9791 non-null   int64   \n",
      " 20  Account_Created_Date_anio         9791 non-null   int64   \n",
      " 21  Account_Created_Date_mes          9791 non-null   int64   \n",
      " 22  Account_Created_Date_dia          9791 non-null   int64   \n",
      " 23  Planned_Delivery_Start_Date_anio  9791 non-null   int64   \n",
      " 24  Planned_Delivery_Start_Date_mes   9791 non-null   int64   \n",
      " 25  Planned_Delivery_Start_Date_dia   9791 non-null   int64   \n",
      " 26  Planned_Delivery_End_Date_anio    9734 non-null   float64 \n",
      " 27  Planned_Delivery_End_Date_mes     9734 non-null   float64 \n",
      " 28  Planned_Delivery_End_Date_dia     9734 non-null   float64 \n",
      "dtypes: category(10), float64(6), int64(13)\n",
      "memory usage: 1.6 MB\n"
     ]
    }
   ],
   "source": [
    "agrupacionEntrenamiento = agrupacionEntrenamiento.drop(['Won'], axis=1)\n",
    "agrupacionEntrenamiento.info()"
   ]
  },
  {
   "cell_type": "markdown",
   "metadata": {
    "id": "S7uqV5xvL6Zo"
   },
   "source": [
    "## Prueva"
   ]
  },
  {
   "cell_type": "markdown",
   "metadata": {
    "id": "6JZVeYsgJcg4"
   },
   "source": [
    "### prueba supuestamete bien (arbitraria con un error aprox de +0.04 en logloss)"
   ]
  },
  {
   "cell_type": "code",
   "execution_count": 129,
   "metadata": {
    "colab": {
     "base_uri": "https://localhost:8080/"
    },
    "id": "yeLzHmGeEo3t",
    "outputId": "0218b206-e177-4f5d-ee9a-aa0c05f34033"
   },
   "outputs": [
    {
     "name": "stdout",
     "output_type": "stream",
     "text": [
      "0.30372093765244457 0.06113750982877914 0.24726000450695446\n"
     ]
    },
    {
     "data": {
      "text/plain": [
       "0.47056557182671965"
      ]
     },
     "execution_count": 129,
     "metadata": {
      "tags": []
     },
     "output_type": "execute_result"
    }
   ],
   "source": [
    "def pruebaArbitraria():\n",
    "  serieDiferenciasDeSupuestos = dataResultante['Target'] - supuestos['Target']\n",
    "  serieDiferenciasDeSupuestos = serieDiferenciasDeSupuestos.agg(lambda x: abs(x))\n",
    "  #valores a vencer\n",
    "  #0.29328282239325076 0.066288348418729 0.25746523730152193\n",
    "  #0.31706383931591736 0.05312227841294053 0.23048270740543753 ramdom forest\n",
    "  #0.289665541459807 0.07066249882454302 0.26582418780942985 catboost\n",
    "  #0.29650158086984807 0.06760957650563981 0.2600184157048108 //0.42\n",
    "  print(serieDiferenciasDeSupuestos.mean(),serieDiferenciasDeSupuestos.var(),serieDiferenciasDeSupuestos.std())\n",
    "  return log_loss(supuestos['Target'],dataResultante['Target'])#predijo 0.4774430257846605 mientras el resultado dio 0.43117\n",
    "pruebaArbitraria()"
   ]
  },
  {
   "cell_type": "code",
   "execution_count": null,
   "metadata": {
    "id": "T_eJk_tByPDK"
   },
   "outputs": [],
   "source": [
    "#dataResultante['Target'].agg(lambda x: 1 if x < 0.55 and x > 0.45 else 0).value_counts()"
   ]
  },
  {
   "cell_type": "code",
   "execution_count": null,
   "metadata": {
    "id": "SvnqKkWyEOej"
   },
   "outputs": [],
   "source": [
    "#dataResultante['Target'].agg(lambda x: 1 if x > 0.95 or x < 0.05 else 0).value_counts()"
   ]
  },
  {
   "cell_type": "code",
   "execution_count": null,
   "metadata": {
    "id": "0CGnX0XD4JqQ"
   },
   "outputs": [],
   "source": [
    "def pruebaTestDeEliminacion():\n",
    "  #Prueba de eliminacion de columnas\n",
    "  #listaDeCategoricas = ['Region','Territory','Product_Type','Product_Category_B',\n",
    "  #                      'Account_Type','Delivery_Quarter','Billing_Country',\n",
    "  #                      'Delivery_Terms','Product_Family']\n",
    "\n",
    "  maxData = pd.DataFrame()\n",
    "  maxValor = -9999\n",
    "  for col in agrupacionEntrenamiento.columns:\n",
    "    desacerse = [col]\n",
    "    agrupacionEntrenamientoCat = agrupacionEntrenamiento.drop(desacerse,axis=1)\n",
    "    agrupacionTesteoCat = agrupacionTesteo.drop(desacerse,axis=1)\n",
    "    print(col)\n",
    "\n",
    "    llistaAux = []\n",
    "    for elemento in listaDeColumnasCategoricas:\n",
    "      if (elemento in desacerse):\n",
    "        continue\n",
    "      llistaAux.append(elemento)\n",
    "    res,importancia = catboost(agrupacionEntrenamientoCat,entrenamientoResultado,llistaAux,agrupacionTesteoCat)\n",
    "    valor = testeoRes(agrupacionTesteoCat,res)\n",
    "    if (valor > maxValor):\n",
    "      print(\"--------------\")\n",
    "      print(valor)\n",
    "      print(\"--------------\")\n",
    "      maxValor = valor\n",
    "      maxData = res\n",
    "  print(maxValor)\n",
    "  #0.4628022823299211 cat\n",
    "  return maxData"
   ]
  },
  {
   "cell_type": "markdown",
   "metadata": {
    "id": "zVBNOzCKY0VD"
   },
   "source": [
    "## Resultado"
   ]
  },
  {
   "cell_type": "code",
   "execution_count": 19,
   "metadata": {
    "id": "bU-Rs00eY2ix"
   },
   "outputs": [],
   "source": [
    "def generarResultado(df,prediccion):\n",
    "  resultado = df.copy(True)\n",
    "  resultado['Target'] = prediccion\n",
    "  resultado = resultado[['Target']]\n",
    "  resultado.to_csv('resultado.csv')\n",
    "  return resultado"
   ]
  },
  {
   "cell_type": "code",
   "execution_count": 20,
   "metadata": {
    "id": "YqPqyX1ihs-Q"
   },
   "outputs": [],
   "source": [
    "def auxiliarUnificarValor(arreglo):\n",
    "  return arreglo[:,0]"
   ]
  },
  {
   "cell_type": "markdown",
   "metadata": {
    "id": "J983upopKwQx"
   },
   "source": [
    "## Catboost"
   ]
  },
  {
   "cell_type": "markdown",
   "metadata": {
    "id": "I-rXEcxr-Nns"
   },
   "source": [
    "### grid search"
   ]
  },
  {
   "cell_type": "code",
   "execution_count": null,
   "metadata": {
    "id": "_fzOaeis953k"
   },
   "outputs": [],
   "source": [
    "def GridSearchCatboost(train_data_o,train_labels,cat_features):\n",
    "  \"\"\"clf = CatBoostClassifier()\n",
    "  params = {'iterations': [500],\n",
    "            'depth': [4, 5, 6],\n",
    "            #'loss_function': ['Logloss', 'CrossEntropy'],\n",
    "            'l2_leaf_reg': np.logspace(-10, 1, 50),\n",
    "            'leaf_estimation_iterations': [10],\n",
    "            'learning_rate': [0.5,0.25,0.05],\n",
    "            'rsm' : [0.7,0.5]\n",
    "            #'eval_metric': ['Accuracy'],\n",
    "            #'use_best_model': ['True'],\n",
    "            #'logging_level':['Silent'],\n",
    "            #'random_seed': [42]\n",
    "          }\n",
    "  scorer = make_scorer(accuracy_score)\n",
    "  clf_grid = GridSearchCV(estimator=clf, param_grid=params, scoring=scorer, cv=5)\n",
    "  clf_grid.fit(X_train_enc, y_train,cat_features)\n",
    "  best_param = clf_grid.best_params_\n",
    "  return best_param\"\"\"\n",
    "  model = CatBoostClassifier(loss_function='Logloss')\n",
    "  #model = CatBoostClassifier(loss_function='CrossEntropy')\n",
    "\n",
    "  train_data = train_data_o\n",
    "  # convert categorical columns to integers\n",
    "  for header in cat_features:\n",
    "    train_data[header] = train_data[header].astype('category').cat.codes\n",
    "\n",
    "  grid = {'learning_rate': list(np.arange(0.05,0.51,0.05)),\n",
    "          'depth': list(range(6,13,2)),\n",
    "          'l2_leaf_reg': list(np.arange(2,5.1,0.5)),\n",
    "          'iterations': list(range(10,101,15)),\n",
    "          'rsm':list(np.arange(0.1,1.1,0.1))\n",
    "          }\n",
    "\n",
    "  grid_search_result = model.grid_search(grid, \n",
    "                                        X=train_data, \n",
    "                                        y=train_labels,\n",
    "                                        cv=10,\n",
    "                                        plot=True)\n",
    "  \n",
    "  return grid_search_result"
   ]
  },
  {
   "cell_type": "code",
   "execution_count": null,
   "metadata": {
    "id": "Pf2F-A-IBfPH"
   },
   "outputs": [],
   "source": [
    "#listaDeCategoricas = ['Region','Territory','Product_Type','Product_Category_B',\n",
    "#                      'Account_Type','Delivery_Quarter','Billing_Country']\n",
    "#comentado para evitar ejecucion erronea\n",
    "#valores = GridSearchCatboost(agrupacionEntrenamiento,entrenamientoResultado,listaDeColumnasCategoricas)\n",
    "#valores"
   ]
  },
  {
   "cell_type": "markdown",
   "metadata": {
    "id": "eXu5RWvjWtP-"
   },
   "source": [
    "### bayesian"
   ]
  },
  {
   "cell_type": "code",
   "execution_count": null,
   "metadata": {
    "id": "sAAZRp5tWwS-"
   },
   "outputs": [],
   "source": [
    "def catboost_classifier(learning_rate, depth, l2_leaf_reg,iterations,rsm):\n",
    "    params = {\n",
    "        \"loss_function\": \"Logloss\",\n",
    "        #\"eval_metric\" : \"AUC\", \n",
    "        \"depth\" : int(depth),\n",
    "        \"l2_leaf_reg\" : l2_leaf_reg,\n",
    "        \"learning_rate\" : learning_rate,\n",
    "        #\"random_state\" : 42,\n",
    "        \"rsm\" : rsm,\n",
    "        \"iterations\": int(iterations)\n",
    "        #\"logging_level\" : \"Silent\",\n",
    "        #\"thread_count\": 24,\n",
    "        #\"num_boost_round\": int(num_boost_round)\n",
    "    }\n",
    "    X_train = agrupacionEntrenamiento\n",
    "    y_train = entrenamientoResultado\n",
    "    categorical_features = listaDeColumnasCategoricas\n",
    "    #['Region','Territory','Product_Type','Product_Category_B',\n",
    "    #                        'Account_Type','Delivery_Quarter','Billing_Country']\n",
    "\n",
    "    train_data = Pool(data=X_train, label=y_train, \n",
    "                               cat_features=categorical_features)\n",
    "    \n",
    "    cv_result = cv(train_data,\n",
    "                       params,\n",
    "                       early_stopping_rounds=100,\n",
    "                       stratified=True,\n",
    "                       nfold=3)\n",
    "    return cv_result['train-Logloss-mean'].iloc[-1]\n",
    "\n",
    "def bayesianoCatboost():\n",
    "  grid = {'learning_rate': (0.01,0.10),\n",
    "          'depth': (8,14),\n",
    "          'l2_leaf_reg': (0.1,3.0),\n",
    "          'iterations': (10,100),\n",
    "          'rsm':(0.01,1.0)\n",
    "          }\n",
    "  catboostBO = BayesianOptimization(catboost_classifier, grid)\n",
    "\n",
    "  return catboostBO.maximize(n_iter=15, init_points=2)"
   ]
  },
  {
   "cell_type": "code",
   "execution_count": null,
   "metadata": {
    "id": "hRhmFXIFXlLU"
   },
   "outputs": [],
   "source": [
    "#bayesianoCatboost()\n",
    "#catboost_classifier(0.05,10,3.5,20,0.5)"
   ]
  },
  {
   "cell_type": "markdown",
   "metadata": {
    "id": "mNQ7QI9D-VCT"
   },
   "source": [
    "### prediccion"
   ]
  },
  {
   "cell_type": "code",
   "execution_count": 45,
   "metadata": {
    "id": "4fhBQZdlK0xf"
   },
   "outputs": [],
   "source": [
    "def catboost(train_data,train_labels,cat_features,eval_data):\n",
    "  # Inicializador de CatBoostClassifier\n",
    "  model = CatBoostClassifier(iterations=100,\n",
    "                             learning_rate=0.4,#0.5\n",
    "                             depth=7,#8\n",
    "                             l2_leaf_reg=4,#3\n",
    "                             rsm=0.7,#0.5\n",
    "                             #random_strength=0.75,\n",
    "                             grow_policy='SymmetricTree'#'SymmetricTree', 'Depthwise' y 'Lossguide'\n",
    "                             #random_seed=2\n",
    "                             #use_best_model=True,#Requiere data de evalucion\n",
    "                             #eval_set=supuestos\n",
    "                             )\n",
    "  #parametros importantes por agregar: l2_leaf_reg, rsm\n",
    "  #para tipos de category: cat_features, one_hot_max_size\n",
    "\n",
    "  # Entrenamiento del modelo\n",
    "  #model.fit(train_data, train_labels, cat_features)\n",
    "\n",
    "  eval_dataset = Pool(data=eval_data,\n",
    "                      label=supuestos[['Target']],\n",
    "                      cat_features=cat_features)\n",
    "  model.fit(train_data, train_labels, cat_features, use_best_model=True, eval_set=eval_dataset)\n",
    "\n",
    "  # obtener prediccion\n",
    "  #preds_class = model.predict(eval_data)\n",
    "\n",
    "  # obtener probabilidad de prediccion\n",
    "  preds_proba = model.predict_proba(eval_data)\n",
    "\n",
    "  # obtener RawFormulaVal de la prediccion\n",
    "  #preds_raw = model.predict(eval_data, prediction_type='RawFormulaVal')\n",
    "\n",
    "  #return resultado(eval_data,preds_proba)\n",
    "  importancia = model.get_feature_importance(type= \"FeatureImportance\",prettified=True)\n",
    "  return preds_proba,importancia"
   ]
  },
  {
   "cell_type": "code",
   "execution_count": 126,
   "metadata": {
    "colab": {
     "base_uri": "https://localhost:8080/"
    },
    "id": "DgznGL-LaXIz",
    "outputId": "d7705ff3-872f-4499-c0ef-3b185a11451f"
   },
   "outputs": [
    {
     "name": "stdout",
     "output_type": "stream",
     "text": [
      "0:\tlearn: 0.5449650\ttest: 0.5523818\tbest: 0.5523818 (0)\ttotal: 17.9ms\tremaining: 1.77s\n",
      "1:\tlearn: 0.4875315\ttest: 0.5078303\tbest: 0.5078303 (1)\ttotal: 32ms\tremaining: 1.57s\n",
      "2:\tlearn: 0.4585262\ttest: 0.4946504\tbest: 0.4946504 (2)\ttotal: 46ms\tremaining: 1.49s\n",
      "3:\tlearn: 0.4372932\ttest: 0.4887311\tbest: 0.4887311 (3)\ttotal: 59.7ms\tremaining: 1.43s\n",
      "4:\tlearn: 0.4228778\ttest: 0.4830923\tbest: 0.4830923 (4)\ttotal: 72.1ms\tremaining: 1.37s\n",
      "5:\tlearn: 0.4156324\ttest: 0.4755439\tbest: 0.4755439 (5)\ttotal: 83.7ms\tremaining: 1.31s\n",
      "6:\tlearn: 0.4076473\ttest: 0.4761178\tbest: 0.4755439 (5)\ttotal: 96.7ms\tremaining: 1.28s\n",
      "7:\tlearn: 0.3984591\ttest: 0.4813911\tbest: 0.4755439 (5)\ttotal: 109ms\tremaining: 1.25s\n",
      "8:\tlearn: 0.3878224\ttest: 0.4760498\tbest: 0.4755439 (5)\ttotal: 122ms\tremaining: 1.24s\n",
      "9:\tlearn: 0.3813534\ttest: 0.4705656\tbest: 0.4705656 (9)\ttotal: 135ms\tremaining: 1.22s\n",
      "10:\tlearn: 0.3777880\ttest: 0.4752242\tbest: 0.4705656 (9)\ttotal: 149ms\tremaining: 1.2s\n",
      "11:\tlearn: 0.3716011\ttest: 0.4768255\tbest: 0.4705656 (9)\ttotal: 162ms\tremaining: 1.18s\n",
      "12:\tlearn: 0.3635957\ttest: 0.4815619\tbest: 0.4705656 (9)\ttotal: 175ms\tremaining: 1.17s\n",
      "13:\tlearn: 0.3583633\ttest: 0.4807717\tbest: 0.4705656 (9)\ttotal: 188ms\tremaining: 1.15s\n",
      "14:\tlearn: 0.3546339\ttest: 0.4811326\tbest: 0.4705656 (9)\ttotal: 202ms\tremaining: 1.14s\n",
      "15:\tlearn: 0.3475789\ttest: 0.4818381\tbest: 0.4705656 (9)\ttotal: 215ms\tremaining: 1.13s\n",
      "16:\tlearn: 0.3429028\ttest: 0.4838879\tbest: 0.4705656 (9)\ttotal: 228ms\tremaining: 1.11s\n",
      "17:\tlearn: 0.3390635\ttest: 0.4872250\tbest: 0.4705656 (9)\ttotal: 241ms\tremaining: 1.1s\n",
      "18:\tlearn: 0.3387406\ttest: 0.4860807\tbest: 0.4705656 (9)\ttotal: 249ms\tremaining: 1.06s\n",
      "19:\tlearn: 0.3363089\ttest: 0.4886538\tbest: 0.4705656 (9)\ttotal: 262ms\tremaining: 1.05s\n",
      "20:\tlearn: 0.3334758\ttest: 0.4931862\tbest: 0.4705656 (9)\ttotal: 275ms\tremaining: 1.04s\n",
      "21:\tlearn: 0.3334661\ttest: 0.4931804\tbest: 0.4705656 (9)\ttotal: 282ms\tremaining: 999ms\n",
      "22:\tlearn: 0.3314884\ttest: 0.4950241\tbest: 0.4705656 (9)\ttotal: 294ms\tremaining: 985ms\n",
      "23:\tlearn: 0.3250466\ttest: 0.4995788\tbest: 0.4705656 (9)\ttotal: 307ms\tremaining: 971ms\n",
      "24:\tlearn: 0.3184858\ttest: 0.5056058\tbest: 0.4705656 (9)\ttotal: 320ms\tremaining: 959ms\n",
      "25:\tlearn: 0.3137036\ttest: 0.5039526\tbest: 0.4705656 (9)\ttotal: 332ms\tremaining: 946ms\n",
      "26:\tlearn: 0.3096775\ttest: 0.5073755\tbest: 0.4705656 (9)\ttotal: 345ms\tremaining: 933ms\n",
      "27:\tlearn: 0.3071108\ttest: 0.5079900\tbest: 0.4705656 (9)\ttotal: 358ms\tremaining: 920ms\n",
      "28:\tlearn: 0.3049931\ttest: 0.5075288\tbest: 0.4705656 (9)\ttotal: 371ms\tremaining: 909ms\n",
      "29:\tlearn: 0.3012253\ttest: 0.5087916\tbest: 0.4705656 (9)\ttotal: 383ms\tremaining: 895ms\n",
      "30:\tlearn: 0.2989739\ttest: 0.5135016\tbest: 0.4705656 (9)\ttotal: 396ms\tremaining: 882ms\n",
      "31:\tlearn: 0.2930123\ttest: 0.5164499\tbest: 0.4705656 (9)\ttotal: 410ms\tremaining: 870ms\n",
      "32:\tlearn: 0.2900599\ttest: 0.5163581\tbest: 0.4705656 (9)\ttotal: 426ms\tremaining: 865ms\n",
      "33:\tlearn: 0.2893810\ttest: 0.5159421\tbest: 0.4705656 (9)\ttotal: 439ms\tremaining: 851ms\n",
      "34:\tlearn: 0.2851397\ttest: 0.5170479\tbest: 0.4705656 (9)\ttotal: 452ms\tremaining: 839ms\n",
      "35:\tlearn: 0.2794022\ttest: 0.5214554\tbest: 0.4705656 (9)\ttotal: 464ms\tremaining: 825ms\n",
      "36:\tlearn: 0.2743054\ttest: 0.5238625\tbest: 0.4705656 (9)\ttotal: 477ms\tremaining: 813ms\n",
      "37:\tlearn: 0.2704998\ttest: 0.5274729\tbest: 0.4705656 (9)\ttotal: 490ms\tremaining: 800ms\n",
      "38:\tlearn: 0.2665521\ttest: 0.5308070\tbest: 0.4705656 (9)\ttotal: 504ms\tremaining: 788ms\n",
      "39:\tlearn: 0.2661830\ttest: 0.5320838\tbest: 0.4705656 (9)\ttotal: 517ms\tremaining: 775ms\n",
      "40:\tlearn: 0.2637318\ttest: 0.5320222\tbest: 0.4705656 (9)\ttotal: 531ms\tremaining: 764ms\n",
      "41:\tlearn: 0.2608423\ttest: 0.5330104\tbest: 0.4705656 (9)\ttotal: 543ms\tremaining: 750ms\n",
      "42:\tlearn: 0.2570114\ttest: 0.5350933\tbest: 0.4705656 (9)\ttotal: 557ms\tremaining: 738ms\n",
      "43:\tlearn: 0.2555434\ttest: 0.5339634\tbest: 0.4705656 (9)\ttotal: 569ms\tremaining: 724ms\n",
      "44:\tlearn: 0.2550277\ttest: 0.5331805\tbest: 0.4705656 (9)\ttotal: 580ms\tremaining: 709ms\n",
      "45:\tlearn: 0.2524789\ttest: 0.5398103\tbest: 0.4705656 (9)\ttotal: 600ms\tremaining: 704ms\n",
      "46:\tlearn: 0.2498304\ttest: 0.5430764\tbest: 0.4705656 (9)\ttotal: 614ms\tremaining: 693ms\n",
      "47:\tlearn: 0.2470730\ttest: 0.5448595\tbest: 0.4705656 (9)\ttotal: 630ms\tremaining: 683ms\n",
      "48:\tlearn: 0.2448417\ttest: 0.5458330\tbest: 0.4705656 (9)\ttotal: 643ms\tremaining: 669ms\n",
      "49:\tlearn: 0.2417001\ttest: 0.5467809\tbest: 0.4705656 (9)\ttotal: 656ms\tremaining: 656ms\n",
      "50:\tlearn: 0.2390367\ttest: 0.5467782\tbest: 0.4705656 (9)\ttotal: 669ms\tremaining: 643ms\n",
      "51:\tlearn: 0.2370078\ttest: 0.5604956\tbest: 0.4705656 (9)\ttotal: 682ms\tremaining: 629ms\n",
      "52:\tlearn: 0.2369013\ttest: 0.5604097\tbest: 0.4705656 (9)\ttotal: 695ms\tremaining: 616ms\n",
      "53:\tlearn: 0.2338891\ttest: 0.5585317\tbest: 0.4705656 (9)\ttotal: 707ms\tremaining: 602ms\n",
      "54:\tlearn: 0.2306722\ttest: 0.5519897\tbest: 0.4705656 (9)\ttotal: 720ms\tremaining: 589ms\n",
      "55:\tlearn: 0.2306682\ttest: 0.5520057\tbest: 0.4705656 (9)\ttotal: 732ms\tremaining: 575ms\n",
      "56:\tlearn: 0.2271186\ttest: 0.5534049\tbest: 0.4705656 (9)\ttotal: 745ms\tremaining: 562ms\n",
      "57:\tlearn: 0.2246840\ttest: 0.5563909\tbest: 0.4705656 (9)\ttotal: 757ms\tremaining: 548ms\n",
      "58:\tlearn: 0.2229206\ttest: 0.5563326\tbest: 0.4705656 (9)\ttotal: 770ms\tremaining: 535ms\n",
      "59:\tlearn: 0.2213568\ttest: 0.5559807\tbest: 0.4705656 (9)\ttotal: 782ms\tremaining: 521ms\n",
      "60:\tlearn: 0.2196158\ttest: 0.5555331\tbest: 0.4705656 (9)\ttotal: 795ms\tremaining: 508ms\n",
      "61:\tlearn: 0.2159169\ttest: 0.5574088\tbest: 0.4705656 (9)\ttotal: 813ms\tremaining: 498ms\n",
      "62:\tlearn: 0.2135470\ttest: 0.5581848\tbest: 0.4705656 (9)\ttotal: 825ms\tremaining: 485ms\n",
      "63:\tlearn: 0.2102405\ttest: 0.5654090\tbest: 0.4705656 (9)\ttotal: 841ms\tremaining: 473ms\n",
      "64:\tlearn: 0.2099886\ttest: 0.5656627\tbest: 0.4705656 (9)\ttotal: 853ms\tremaining: 460ms\n",
      "65:\tlearn: 0.2083805\ttest: 0.5657863\tbest: 0.4705656 (9)\ttotal: 866ms\tremaining: 446ms\n",
      "66:\tlearn: 0.2071275\ttest: 0.5668142\tbest: 0.4705656 (9)\ttotal: 880ms\tremaining: 433ms\n",
      "67:\tlearn: 0.2054056\ttest: 0.5674105\tbest: 0.4705656 (9)\ttotal: 893ms\tremaining: 420ms\n",
      "68:\tlearn: 0.2035684\ttest: 0.5711652\tbest: 0.4705656 (9)\ttotal: 906ms\tremaining: 407ms\n",
      "69:\tlearn: 0.2015003\ttest: 0.5761336\tbest: 0.4705656 (9)\ttotal: 918ms\tremaining: 394ms\n",
      "70:\tlearn: 0.2002530\ttest: 0.5760427\tbest: 0.4705656 (9)\ttotal: 931ms\tremaining: 380ms\n",
      "71:\tlearn: 0.1990419\ttest: 0.5796284\tbest: 0.4705656 (9)\ttotal: 944ms\tremaining: 367ms\n",
      "72:\tlearn: 0.1969763\ttest: 0.5768588\tbest: 0.4705656 (9)\ttotal: 956ms\tremaining: 354ms\n",
      "73:\tlearn: 0.1966223\ttest: 0.5772033\tbest: 0.4705656 (9)\ttotal: 968ms\tremaining: 340ms\n",
      "74:\tlearn: 0.1950366\ttest: 0.5765984\tbest: 0.4705656 (9)\ttotal: 981ms\tremaining: 327ms\n",
      "75:\tlearn: 0.1943157\ttest: 0.5785666\tbest: 0.4705656 (9)\ttotal: 993ms\tremaining: 314ms\n",
      "76:\tlearn: 0.1926718\ttest: 0.5870340\tbest: 0.4705656 (9)\ttotal: 1.01s\tremaining: 301ms\n",
      "77:\tlearn: 0.1914408\ttest: 0.5899371\tbest: 0.4705656 (9)\ttotal: 1.02s\tremaining: 288ms\n",
      "78:\tlearn: 0.1904758\ttest: 0.5885903\tbest: 0.4705656 (9)\ttotal: 1.03s\tremaining: 275ms\n",
      "79:\tlearn: 0.1885430\ttest: 0.5895551\tbest: 0.4705656 (9)\ttotal: 1.05s\tremaining: 262ms\n",
      "80:\tlearn: 0.1871343\ttest: 0.5913950\tbest: 0.4705656 (9)\ttotal: 1.06s\tremaining: 249ms\n",
      "81:\tlearn: 0.1862290\ttest: 0.5917528\tbest: 0.4705656 (9)\ttotal: 1.07s\tremaining: 236ms\n",
      "82:\tlearn: 0.1848511\ttest: 0.5926559\tbest: 0.4705656 (9)\ttotal: 1.09s\tremaining: 223ms\n",
      "83:\tlearn: 0.1838507\ttest: 0.5951268\tbest: 0.4705656 (9)\ttotal: 1.1s\tremaining: 210ms\n",
      "84:\tlearn: 0.1821883\ttest: 0.5948226\tbest: 0.4705656 (9)\ttotal: 1.12s\tremaining: 197ms\n",
      "85:\tlearn: 0.1808301\ttest: 0.5960409\tbest: 0.4705656 (9)\ttotal: 1.13s\tremaining: 184ms\n",
      "86:\tlearn: 0.1794156\ttest: 0.5954503\tbest: 0.4705656 (9)\ttotal: 1.14s\tremaining: 171ms\n",
      "87:\tlearn: 0.1770585\ttest: 0.6066524\tbest: 0.4705656 (9)\ttotal: 1.15s\tremaining: 157ms\n",
      "88:\tlearn: 0.1756555\ttest: 0.6083468\tbest: 0.4705656 (9)\ttotal: 1.17s\tremaining: 144ms\n",
      "89:\tlearn: 0.1747134\ttest: 0.6084004\tbest: 0.4705656 (9)\ttotal: 1.18s\tremaining: 131ms\n",
      "90:\tlearn: 0.1740357\ttest: 0.6083134\tbest: 0.4705656 (9)\ttotal: 1.19s\tremaining: 118ms\n",
      "91:\tlearn: 0.1721339\ttest: 0.6084948\tbest: 0.4705656 (9)\ttotal: 1.21s\tremaining: 105ms\n",
      "92:\tlearn: 0.1712038\ttest: 0.6095208\tbest: 0.4705656 (9)\ttotal: 1.22s\tremaining: 91.9ms\n",
      "93:\tlearn: 0.1699003\ttest: 0.6137064\tbest: 0.4705656 (9)\ttotal: 1.23s\tremaining: 78.7ms\n",
      "94:\tlearn: 0.1687936\ttest: 0.6143354\tbest: 0.4705656 (9)\ttotal: 1.25s\tremaining: 65.6ms\n",
      "95:\tlearn: 0.1671722\ttest: 0.6145809\tbest: 0.4705656 (9)\ttotal: 1.26s\tremaining: 52.4ms\n",
      "96:\tlearn: 0.1662182\ttest: 0.6149552\tbest: 0.4705656 (9)\ttotal: 1.27s\tremaining: 39.3ms\n",
      "97:\tlearn: 0.1655465\ttest: 0.6146202\tbest: 0.4705656 (9)\ttotal: 1.28s\tremaining: 26.2ms\n",
      "98:\tlearn: 0.1642471\ttest: 0.6128753\tbest: 0.4705656 (9)\ttotal: 1.3s\tremaining: 13.1ms\n",
      "99:\tlearn: 0.1625006\ttest: 0.6185186\tbest: 0.4705656 (9)\ttotal: 1.31s\tremaining: 0us\n",
      "\n",
      "bestTest = 0.4705655718\n",
      "bestIteration = 9\n",
      "\n",
      "Shrink model to first 10 iterations.\n"
     ]
    },
    {
     "data": {
      "text/plain": [
       "array([[0.27315015, 0.72684985],\n",
       "       [0.36163161, 0.63836839],\n",
       "       [0.44490359, 0.55509641],\n",
       "       ...,\n",
       "       [0.40712952, 0.59287048],\n",
       "       [0.46809732, 0.53190268],\n",
       "       [0.69306909, 0.30693091]])"
      ]
     },
     "execution_count": 126,
     "metadata": {
      "tags": []
     },
     "output_type": "execute_result"
    }
   ],
   "source": [
    "#listaDeCategoricas = ['Region','Territory','Product_Type','Product_Category_B',\n",
    "#                      'Account_Type','Delivery_Quarter','Billing_Country',\n",
    "#                      'Delivery_Terms','Product_Family']\n",
    "res,importancia = catboost(agrupacionEntrenamiento.copy(deep=True),entrenamientoResultado.copy(deep=True),listaDeColumnasCategoricas,agrupacionTesteo.copy(deep=True))\n",
    "res"
   ]
  },
  {
   "cell_type": "code",
   "execution_count": 127,
   "metadata": {
    "colab": {
     "base_uri": "https://localhost:8080/"
    },
    "id": "Bgabwh58hq77",
    "outputId": "880d0897-a4a9-4d52-9ac7-44df200b8753"
   },
   "outputs": [
    {
     "data": {
      "text/plain": [
       "array([0.72684985, 0.63836839, 0.55509641, ..., 0.59287048, 0.53190268,\n",
       "       0.30693091])"
      ]
     },
     "execution_count": 127,
     "metadata": {
      "tags": []
     },
     "output_type": "execute_result"
    }
   ],
   "source": [
    "resultado = auxiliarUnificarValor(res)\n",
    "#resultado = res\n",
    "resultado = (resultado - 1) * (-1)#En las ultimas pruevas es el opuesto el que genera mejor resultado\n",
    "resultado"
   ]
  },
  {
   "cell_type": "code",
   "execution_count": 128,
   "metadata": {
    "colab": {
     "base_uri": "https://localhost:8080/",
     "height": 238
    },
    "id": "cv9IaH_CjpoN",
    "outputId": "e9d53f19-b413-4c45-a1b4-c53cea46b1df"
   },
   "outputs": [
    {
     "data": {
      "text/html": [
       "<div>\n",
       "<style scoped>\n",
       "    .dataframe tbody tr th:only-of-type {\n",
       "        vertical-align: middle;\n",
       "    }\n",
       "\n",
       "    .dataframe tbody tr th {\n",
       "        vertical-align: top;\n",
       "    }\n",
       "\n",
       "    .dataframe thead th {\n",
       "        text-align: right;\n",
       "    }\n",
       "</style>\n",
       "<table border=\"1\" class=\"dataframe\">\n",
       "  <thead>\n",
       "    <tr style=\"text-align: right;\">\n",
       "      <th></th>\n",
       "      <th>Target</th>\n",
       "    </tr>\n",
       "    <tr>\n",
       "      <th>Opportunity_ID</th>\n",
       "      <th></th>\n",
       "    </tr>\n",
       "  </thead>\n",
       "  <tbody>\n",
       "    <tr>\n",
       "      <th>10689</th>\n",
       "      <td>0.73</td>\n",
       "    </tr>\n",
       "    <tr>\n",
       "      <th>10690</th>\n",
       "      <td>0.64</td>\n",
       "    </tr>\n",
       "    <tr>\n",
       "      <th>10691</th>\n",
       "      <td>0.56</td>\n",
       "    </tr>\n",
       "    <tr>\n",
       "      <th>10692</th>\n",
       "      <td>0.68</td>\n",
       "    </tr>\n",
       "    <tr>\n",
       "      <th>10693</th>\n",
       "      <td>0.87</td>\n",
       "    </tr>\n",
       "  </tbody>\n",
       "</table>\n",
       "</div>"
      ],
      "text/plain": [
       "                             Target\n",
       "Opportunity_ID                     \n",
       "10689                          0.73\n",
       "10690                          0.64\n",
       "10691                          0.56\n",
       "10692                          0.68\n",
       "10693                          0.87"
      ]
     },
     "execution_count": 128,
     "metadata": {
      "tags": []
     },
     "output_type": "execute_result"
    }
   ],
   "source": [
    "dataResultante = generarResultado(agrupacionTesteo,resultado)\n",
    "dataResultante.head()"
   ]
  },
  {
   "cell_type": "code",
   "execution_count": 60,
   "metadata": {
    "colab": {
     "base_uri": "https://localhost:8080/",
     "height": 959
    },
    "id": "TjaNnyRAySZv",
    "outputId": "56110730-bf61-41d0-858a-713d1f934736"
   },
   "outputs": [
    {
     "data": {
      "text/html": [
       "<div>\n",
       "<style scoped>\n",
       "    .dataframe tbody tr th:only-of-type {\n",
       "        vertical-align: middle;\n",
       "    }\n",
       "\n",
       "    .dataframe tbody tr th {\n",
       "        vertical-align: top;\n",
       "    }\n",
       "\n",
       "    .dataframe thead th {\n",
       "        text-align: right;\n",
       "    }\n",
       "</style>\n",
       "<table border=\"1\" class=\"dataframe\">\n",
       "  <thead>\n",
       "    <tr style=\"text-align: right;\">\n",
       "      <th></th>\n",
       "      <th>Feature Id</th>\n",
       "      <th>Importances</th>\n",
       "    </tr>\n",
       "  </thead>\n",
       "  <tbody>\n",
       "    <tr>\n",
       "      <th>0</th>\n",
       "      <td>Product_Type</td>\n",
       "      <td>20.71</td>\n",
       "    </tr>\n",
       "    <tr>\n",
       "      <th>1</th>\n",
       "      <td>TRF</td>\n",
       "      <td>10.17</td>\n",
       "    </tr>\n",
       "    <tr>\n",
       "      <th>2</th>\n",
       "      <td>Region</td>\n",
       "      <td>7.67</td>\n",
       "    </tr>\n",
       "    <tr>\n",
       "      <th>3</th>\n",
       "      <td>Planned_Delivery_End_Date_dia</td>\n",
       "      <td>6.91</td>\n",
       "    </tr>\n",
       "    <tr>\n",
       "      <th>4</th>\n",
       "      <td>Planned_Delivery_Start_Date_dia</td>\n",
       "      <td>6.61</td>\n",
       "    </tr>\n",
       "    <tr>\n",
       "      <th>5</th>\n",
       "      <td>Territory</td>\n",
       "      <td>4.98</td>\n",
       "    </tr>\n",
       "    <tr>\n",
       "      <th>6</th>\n",
       "      <td>Opportunity_Created_Date_anio</td>\n",
       "      <td>4.45</td>\n",
       "    </tr>\n",
       "    <tr>\n",
       "      <th>7</th>\n",
       "      <td>Account_Created_Date_anio</td>\n",
       "      <td>4.21</td>\n",
       "    </tr>\n",
       "    <tr>\n",
       "      <th>8</th>\n",
       "      <td>Account_Type</td>\n",
       "      <td>3.49</td>\n",
       "    </tr>\n",
       "    <tr>\n",
       "      <th>9</th>\n",
       "      <td>Account_Created_Date_mes</td>\n",
       "      <td>3.26</td>\n",
       "    </tr>\n",
       "    <tr>\n",
       "      <th>10</th>\n",
       "      <td>Total_Amount</td>\n",
       "      <td>3.24</td>\n",
       "    </tr>\n",
       "    <tr>\n",
       "      <th>11</th>\n",
       "      <td>Last_Modified_Date_dia</td>\n",
       "      <td>2.92</td>\n",
       "    </tr>\n",
       "    <tr>\n",
       "      <th>12</th>\n",
       "      <td>ASP_(converted)</td>\n",
       "      <td>2.83</td>\n",
       "    </tr>\n",
       "    <tr>\n",
       "      <th>13</th>\n",
       "      <td>Product_Family</td>\n",
       "      <td>2.81</td>\n",
       "    </tr>\n",
       "    <tr>\n",
       "      <th>14</th>\n",
       "      <td>Last_Modified_Date_anio</td>\n",
       "      <td>2.57</td>\n",
       "    </tr>\n",
       "    <tr>\n",
       "      <th>15</th>\n",
       "      <td>Opportunity_Created_Date_mes</td>\n",
       "      <td>2.38</td>\n",
       "    </tr>\n",
       "    <tr>\n",
       "      <th>16</th>\n",
       "      <td>Delivery_Terms</td>\n",
       "      <td>1.88</td>\n",
       "    </tr>\n",
       "    <tr>\n",
       "      <th>17</th>\n",
       "      <td>Planned_Delivery_Start_Date_anio</td>\n",
       "      <td>1.67</td>\n",
       "    </tr>\n",
       "    <tr>\n",
       "      <th>18</th>\n",
       "      <td>Last_Modified_Date_mes</td>\n",
       "      <td>1.49</td>\n",
       "    </tr>\n",
       "    <tr>\n",
       "      <th>19</th>\n",
       "      <td>aprobacion</td>\n",
       "      <td>1.44</td>\n",
       "    </tr>\n",
       "    <tr>\n",
       "      <th>20</th>\n",
       "      <td>Planned_Delivery_End_Date_mes</td>\n",
       "      <td>0.99</td>\n",
       "    </tr>\n",
       "    <tr>\n",
       "      <th>21</th>\n",
       "      <td>modificaciones</td>\n",
       "      <td>0.85</td>\n",
       "    </tr>\n",
       "    <tr>\n",
       "      <th>22</th>\n",
       "      <td>Opportunity_Created_Date_dia</td>\n",
       "      <td>0.74</td>\n",
       "    </tr>\n",
       "    <tr>\n",
       "      <th>23</th>\n",
       "      <td>Account_Created_Date_dia</td>\n",
       "      <td>0.67</td>\n",
       "    </tr>\n",
       "    <tr>\n",
       "      <th>24</th>\n",
       "      <td>Planned_Delivery_End_Date_anio</td>\n",
       "      <td>0.53</td>\n",
       "    </tr>\n",
       "    <tr>\n",
       "      <th>25</th>\n",
       "      <td>Billing_Country</td>\n",
       "      <td>0.53</td>\n",
       "    </tr>\n",
       "    <tr>\n",
       "      <th>26</th>\n",
       "      <td>Delivery_Quarter</td>\n",
       "      <td>0.00</td>\n",
       "    </tr>\n",
       "    <tr>\n",
       "      <th>27</th>\n",
       "      <td>Product_Category_B</td>\n",
       "      <td>0.00</td>\n",
       "    </tr>\n",
       "    <tr>\n",
       "      <th>28</th>\n",
       "      <td>Planned_Delivery_Start_Date_mes</td>\n",
       "      <td>0.00</td>\n",
       "    </tr>\n",
       "  </tbody>\n",
       "</table>\n",
       "</div>"
      ],
      "text/plain": [
       "                          Feature Id          Importances\n",
       "0                       Product_Type                20.71\n",
       "1                                TRF                10.17\n",
       "2                             Region                 7.67\n",
       "3      Planned_Delivery_End_Date_dia                 6.91\n",
       "4    Planned_Delivery_Start_Date_dia                 6.61\n",
       "5                          Territory                 4.98\n",
       "6      Opportunity_Created_Date_anio                 4.45\n",
       "7          Account_Created_Date_anio                 4.21\n",
       "8                       Account_Type                 3.49\n",
       "9           Account_Created_Date_mes                 3.26\n",
       "10                      Total_Amount                 3.24\n",
       "11            Last_Modified_Date_dia                 2.92\n",
       "12                   ASP_(converted)                 2.83\n",
       "13                    Product_Family                 2.81\n",
       "14           Last_Modified_Date_anio                 2.57\n",
       "15      Opportunity_Created_Date_mes                 2.38\n",
       "16                    Delivery_Terms                 1.88\n",
       "17  Planned_Delivery_Start_Date_anio                 1.67\n",
       "18            Last_Modified_Date_mes                 1.49\n",
       "19                        aprobacion                 1.44\n",
       "20     Planned_Delivery_End_Date_mes                 0.99\n",
       "21                    modificaciones                 0.85\n",
       "22      Opportunity_Created_Date_dia                 0.74\n",
       "23          Account_Created_Date_dia                 0.67\n",
       "24    Planned_Delivery_End_Date_anio                 0.53\n",
       "25                   Billing_Country                 0.53\n",
       "26                  Delivery_Quarter                 0.00\n",
       "27                Product_Category_B                 0.00\n",
       "28   Planned_Delivery_Start_Date_mes                 0.00"
      ]
     },
     "execution_count": 60,
     "metadata": {
      "tags": []
     },
     "output_type": "execute_result"
    }
   ],
   "source": [
    "importancia"
   ]
  },
  {
   "cell_type": "markdown",
   "metadata": {
    "id": "onKsrVr1lwas"
   },
   "source": [
    "## XGBoost"
   ]
  },
  {
   "cell_type": "code",
   "execution_count": null,
   "metadata": {
    "id": "uAJLnCXIl1eQ"
   },
   "outputs": [],
   "source": [
    "def xgboost(train_set, train_label,listaCategorica,test_set,masImportantes=0):\n",
    "  xgb_reg = xgb.XGBClassifier(max_depth = 8, \n",
    "                           colsample_bytree = 0.5, \n",
    "                           learning_rate = 0.3, \n",
    "                           alpha = 8,\n",
    "                           min_child_weight = 0.5,\n",
    "                           n_estimators = 200,\n",
    "                           objetive = 'reg:squarederror')\n",
    "  xgb_reg.fit(train_set, train_label)\n",
    "  predicts = xgb_reg.predict_proba(test_set)\n",
    "  if (masImportantes > 0):\n",
    "    xgb.plot_importance(xg_reg, max_num_features=masImportantes)\n",
    "  return predicts\n",
    "\n",
    "\n"
   ]
  },
  {
   "cell_type": "code",
   "execution_count": 120,
   "metadata": {
    "colab": {
     "base_uri": "https://localhost:8080/"
    },
    "id": "viXhlcxFonZc",
    "outputId": "e9c529c5-f2b2-4139-a9cd-49e4c6b6d137"
   },
   "outputs": [
    {
     "name": "stdout",
     "output_type": "stream",
     "text": [
      "<class 'pandas.core.frame.DataFrame'>\n",
      "Int64Index: 9791 entries, 0 to 12803\n",
      "Data columns (total 29 columns):\n",
      " #   Column                            Non-Null Count  Dtype  \n",
      "---  ------                            --------------  -----  \n",
      " 0   modificaciones                    9791 non-null   int64  \n",
      " 1   Total_Amount                      9791 non-null   float64\n",
      " 2   Region                            9791 non-null   int8   \n",
      " 3   Territory                         9791 non-null   int8   \n",
      " 4   ASP_(converted)                   9791 non-null   float64\n",
      " 5   Account_Type                      9791 non-null   int8   \n",
      " 6   Delivery_Quarter                  9791 non-null   int8   \n",
      " 7   Product_Type                      9791 non-null   int8   \n",
      " 8   Product_Category_B                9791 non-null   int8   \n",
      " 9   Billing_Country                   9791 non-null   int8   \n",
      " 10  Delivery_Terms                    9791 non-null   int8   \n",
      " 11  Product_Family                    9791 non-null   int16  \n",
      " 12  TRF                               9791 non-null   float64\n",
      " 13  aprobacion                        9791 non-null   int8   \n",
      " 14  Last_Modified_Date_anio           9791 non-null   int64  \n",
      " 15  Last_Modified_Date_mes            9791 non-null   int64  \n",
      " 16  Last_Modified_Date_dia            9791 non-null   int64  \n",
      " 17  Opportunity_Created_Date_anio     9791 non-null   int64  \n",
      " 18  Opportunity_Created_Date_mes      9791 non-null   int64  \n",
      " 19  Opportunity_Created_Date_dia      9791 non-null   int64  \n",
      " 20  Account_Created_Date_anio         9791 non-null   int64  \n",
      " 21  Account_Created_Date_mes          9791 non-null   int64  \n",
      " 22  Account_Created_Date_dia          9791 non-null   int64  \n",
      " 23  Planned_Delivery_Start_Date_anio  9791 non-null   int64  \n",
      " 24  Planned_Delivery_Start_Date_mes   9791 non-null   int64  \n",
      " 25  Planned_Delivery_Start_Date_dia   9791 non-null   int64  \n",
      " 26  Planned_Delivery_End_Date_anio    9734 non-null   float64\n",
      " 27  Planned_Delivery_End_Date_mes     9734 non-null   float64\n",
      " 28  Planned_Delivery_End_Date_dia     9734 non-null   float64\n",
      "dtypes: float64(6), int16(1), int64(13), int8(9)\n",
      "memory usage: 1.6 MB\n"
     ]
    }
   ],
   "source": [
    "#listaDeCategoricas = ['Region','Territory','Product_Type','Product_Category_B',\n",
    "#                      'Account_Type','Delivery_Quarter','Billing_Country',\n",
    "#                      'Delivery_Terms','Product_Family','ASP_(converted)_Currency']\n",
    "#listaDeCategoricas = []\n",
    "agrupacionEntrenamientoXGB = agrupacionEntrenamiento.copy(True)\n",
    "agrupacionTesteoXGB = agrupacionTesteo.copy(True)\n",
    "\n",
    "# convert categorical columns to integers \n",
    "#usando la funcion de catboost\n",
    "for header in listaDeColumnasCategoricas:\n",
    "  agrupacionEntrenamientoXGB[header] = agrupacionEntrenamientoXGB[header].astype('category').cat.codes\n",
    "  agrupacionTesteoXGB[header] = agrupacionTesteoXGB[header].astype('category').cat.codes\n",
    "#usando metodo personalizado\n",
    "#for columna in listaDeCategoricas:\n",
    "#  agrupacionEntrenamientoXGB,agrupacionTesteoXGB = convertirCategoryEnEnteros(agrupacionEntrenamientoXGB,agrupacionTesteoXGB,columna)\n",
    "\n",
    "\n",
    "agrupacionEntrenamientoXGB.info()"
   ]
  },
  {
   "cell_type": "code",
   "execution_count": null,
   "metadata": {
    "colab": {
     "base_uri": "https://localhost:8080/"
    },
    "id": "UmyatqVjIIP2",
    "outputId": "41b05f07-29d9-46e5-f042-d64753483201"
   },
   "outputs": [
    {
     "name": "stdout",
     "output_type": "stream",
     "text": [
      "<class 'pandas.core.frame.DataFrame'>\n",
      "Int64Index: 1567 entries, 10689 to 12368\n",
      "Data columns (total 34 columns):\n",
      " #   Column                              Non-Null Count  Dtype  \n",
      "---  ------                              --------------  -----  \n",
      " 0   modificaciones                      1567 non-null   int64  \n",
      " 1   Pricing, Delivery_Terms_Quote_Appr  1567 non-null   int64  \n",
      " 2   Pricing, Delivery_Terms_Approved    1567 non-null   int64  \n",
      " 3   Bureaucratic_Code_0_Approval        1567 non-null   int64  \n",
      " 4   Bureaucratic_Code_0_Approved        1567 non-null   int64  \n",
      " 5   Total_Amount                        1567 non-null   float64\n",
      " 6   Region                              1567 non-null   int8   \n",
      " 7   Total_Taxable_Amount                1567 non-null   float64\n",
      " 8   Territory                           1567 non-null   int8   \n",
      " 9   ASP_(converted)                     1567 non-null   float64\n",
      " 10  Account_Type                        1567 non-null   int8   \n",
      " 11  Delivery_Quarter                    1567 non-null   int8   \n",
      " 12  Product_Type                        1567 non-null   int8   \n",
      " 13  Product_Category_B                  1567 non-null   int8   \n",
      " 14  Billing_Country                     1567 non-null   int8   \n",
      " 15  Delivery_Terms                      1567 non-null   int8   \n",
      " 16  Product_Family                      1567 non-null   int8   \n",
      " 17  ASP_(converted)_Currency            1567 non-null   int8   \n",
      " 18  TRF                                 1567 non-null   float64\n",
      " 19  Last_Modified_Date_anio             1567 non-null   int64  \n",
      " 20  Last_Modified_Date_mes              1567 non-null   int64  \n",
      " 21  Last_Modified_Date_dia              1567 non-null   int64  \n",
      " 22  Opportunity_Created_Date_anio       1567 non-null   int64  \n",
      " 23  Opportunity_Created_Date_mes        1567 non-null   int64  \n",
      " 24  Opportunity_Created_Date_dia        1567 non-null   int64  \n",
      " 25  Account_Created_Date_anio           1567 non-null   int64  \n",
      " 26  Account_Created_Date_mes            1567 non-null   int64  \n",
      " 27  Account_Created_Date_dia            1567 non-null   int64  \n",
      " 28  Planned_Delivery_Start_Date_anio    1567 non-null   int64  \n",
      " 29  Planned_Delivery_Start_Date_mes     1567 non-null   int64  \n",
      " 30  Planned_Delivery_Start_Date_dia     1567 non-null   int64  \n",
      " 31  Planned_Delivery_End_Date_anio      1524 non-null   float64\n",
      " 32  Planned_Delivery_End_Date_mes       1524 non-null   float64\n",
      " 33  Planned_Delivery_End_Date_dia       1524 non-null   float64\n",
      "dtypes: float64(7), int64(17), int8(10)\n",
      "memory usage: 321.4 KB\n"
     ]
    }
   ],
   "source": [
    "\n",
    "agrupacionTesteoXGB.info()"
   ]
  },
  {
   "cell_type": "code",
   "execution_count": null,
   "metadata": {
    "colab": {
     "base_uri": "https://localhost:8080/"
    },
    "id": "HHZouTYbv07j",
    "outputId": "01e96ded-989b-49f1-caa4-6546f121dc62"
   },
   "outputs": [
    {
     "data": {
      "text/plain": [
       "array([[0.2085638 , 0.7914362 ],\n",
       "       [0.73569804, 0.26430196],\n",
       "       [0.08843356, 0.91156644],\n",
       "       ...,\n",
       "       [0.990908  , 0.00909197],\n",
       "       [0.00688678, 0.9931132 ],\n",
       "       [0.9187886 , 0.0812114 ]], dtype=float32)"
      ]
     },
     "execution_count": 52,
     "metadata": {
      "tags": []
     },
     "output_type": "execute_result"
    }
   ],
   "source": [
    "\n",
    "res = xgboost(agrupacionEntrenamientoXGB,entrenamientoResultado,listaDeCategoricas,agrupacionTesteoXGB)\n",
    "res"
   ]
  },
  {
   "cell_type": "code",
   "execution_count": null,
   "metadata": {
    "colab": {
     "base_uri": "https://localhost:8080/"
    },
    "id": "ne_Bb8L6QuXg",
    "outputId": "1c20b67d-9f95-4cd6-d274-440048e61ac7"
   },
   "outputs": [
    {
     "data": {
      "text/plain": [
       "array([0.7914362 , 0.26430196, 0.91156644, ..., 0.00909197, 0.9931132 ,\n",
       "       0.08121139], dtype=float32)"
      ]
     },
     "execution_count": 53,
     "metadata": {
      "tags": []
     },
     "output_type": "execute_result"
    }
   ],
   "source": [
    "resultado = auxiliarUnificarValor(res)\n",
    "resultado = (resultado - 1) * (-1)#En las ultimas pruevas es el opuesto el que genera mejor resultado\n",
    "resultado"
   ]
  },
  {
   "cell_type": "code",
   "execution_count": null,
   "metadata": {
    "colab": {
     "base_uri": "https://localhost:8080/",
     "height": 238
    },
    "id": "hHUrCcTgosNz",
    "outputId": "82e989f0-f99d-4d62-8882-9a7f548445fe"
   },
   "outputs": [
    {
     "data": {
      "text/html": [
       "<div>\n",
       "<style scoped>\n",
       "    .dataframe tbody tr th:only-of-type {\n",
       "        vertical-align: middle;\n",
       "    }\n",
       "\n",
       "    .dataframe tbody tr th {\n",
       "        vertical-align: top;\n",
       "    }\n",
       "\n",
       "    .dataframe thead th {\n",
       "        text-align: right;\n",
       "    }\n",
       "</style>\n",
       "<table border=\"1\" class=\"dataframe\">\n",
       "  <thead>\n",
       "    <tr style=\"text-align: right;\">\n",
       "      <th></th>\n",
       "      <th>Target</th>\n",
       "    </tr>\n",
       "    <tr>\n",
       "      <th>Opportunity_ID</th>\n",
       "      <th></th>\n",
       "    </tr>\n",
       "  </thead>\n",
       "  <tbody>\n",
       "    <tr>\n",
       "      <th>10689</th>\n",
       "      <td>0.79</td>\n",
       "    </tr>\n",
       "    <tr>\n",
       "      <th>10690</th>\n",
       "      <td>0.26</td>\n",
       "    </tr>\n",
       "    <tr>\n",
       "      <th>10691</th>\n",
       "      <td>0.91</td>\n",
       "    </tr>\n",
       "    <tr>\n",
       "      <th>10692</th>\n",
       "      <td>0.51</td>\n",
       "    </tr>\n",
       "    <tr>\n",
       "      <th>10693</th>\n",
       "      <td>1.00</td>\n",
       "    </tr>\n",
       "  </tbody>\n",
       "</table>\n",
       "</div>"
      ],
      "text/plain": [
       "                             Target\n",
       "Opportunity_ID                     \n",
       "10689                          0.79\n",
       "10690                          0.26\n",
       "10691                          0.91\n",
       "10692                          0.51\n",
       "10693                          1.00"
      ]
     },
     "execution_count": 54,
     "metadata": {
      "tags": []
     },
     "output_type": "execute_result"
    }
   ],
   "source": [
    "dataResultante = generarResultado(agrupacionTesteo,resultado)\n",
    "dataResultante.head()"
   ]
  },
  {
   "cell_type": "markdown",
   "metadata": {
    "id": "baxdAoAzfwxz"
   },
   "source": [
    "## LightGBM"
   ]
  },
  {
   "cell_type": "code",
   "execution_count": null,
   "metadata": {
    "id": "nZVOGGgFgU3H"
   },
   "outputs": [],
   "source": [
    "def lightGBM(train_data,train_labels,cat_features,eval_data):\n",
    "  \"\"\"# evaluate the model\n",
    "  model = lgb.LGBMClassifier()\n",
    "  cv = RepeatedStratifiedKFold(n_splits=10, n_repeats=3, random_state=1)\n",
    "  n_scores = cross_val_score(model,\n",
    "                             train_data,\n",
    "                             train_labels,\n",
    "                             scoring='accuracy',\n",
    "                             cv=cv,\n",
    "                             n_jobs=-1,\n",
    "                             categorical_feature=cat_features,\n",
    "                             error_score='raise')\n",
    "  print('Accuracy: %.3f (%.3f)' % (mean(n_scores), std(n_scores)))\n",
    "  # fit the model on the whole dataset\n",
    "  model.fit(X, y)\n",
    "  # make a single prediction\n",
    "  yhat = model.predict(eval_data)\n",
    "  return yhat\"\"\"\n",
    "\n",
    "  #\n",
    "  # Create training and validation sets\n",
    "  #\n",
    "  x, x_test, y, y_test = train_test_split(train_data,train_labels, test_size=0.2, random_state=42, stratify=train_labels)\n",
    "\n",
    "  #\n",
    "  # Create the LightGBM data containers\n",
    "  #\n",
    "  #categorical_features = [c for c, col in enumerate(train.columns) if 'cat' in col]\n",
    "  categorical_features = cat_features\n",
    "  train_data = lgb.Dataset(x, label=y, categorical_feature=categorical_features)\n",
    "  test_data = lgb.Dataset(x_test, label=y_test)\n",
    "\n",
    "\n",
    "  #\n",
    "  # Train the model\n",
    "  #\n",
    "\n",
    "  parameters = {\n",
    "      'application': 'binary',\n",
    "      'objective': 'binary',\n",
    "      'metric': 'auc',\n",
    "      'is_unbalance': 'true',\n",
    "      'boosting': 'gbdt',\n",
    "      'num_leaves': 31,\n",
    "      'feature_fraction': 0.5,\n",
    "      'bagging_fraction': 0.5,\n",
    "      'bagging_freq': 20,\n",
    "      'learning_rate': 0.05,\n",
    "      'verbose': 0\n",
    "  }\n",
    "\n",
    "  model = lgb.train(parameters,\n",
    "                    train_data,\n",
    "                    valid_sets=test_data,\n",
    "                    num_boost_round=5000,\n",
    "                    early_stopping_rounds=100)\n",
    "\n",
    "\n",
    "  submission = eval_data\n",
    "  ids = submission.index.values\n",
    "  #submission.drop('id', inplace=True, axis=1)\n",
    "\n",
    "\n",
    "  x = submission.values\n",
    "  y = model.predict(x)\n",
    "\n",
    "  output = pd.DataFrame({'id': ids, 'target': y})\n",
    "  output.to_csv(\"submission.csv\", index=False)\n",
    "\n",
    "  prediccion = model.predict(y)\n",
    "\n",
    "  #ids = eval_data['Opportunity_ID'].values\n",
    "  #output = pd.DataFrame({'Opportunity_ID': ids, 'target': y})\n",
    "  return prediccion"
   ]
  },
  {
   "cell_type": "code",
   "execution_count": null,
   "metadata": {
    "colab": {
     "base_uri": "https://localhost:8080/",
     "height": 1000
    },
    "id": "2UVA9vOQjN2o",
    "outputId": "45462fea-fc78-4dbe-8fef-221712ae8500"
   },
   "outputs": [
    {
     "name": "stdout",
     "output_type": "stream",
     "text": [
      "[1]\tvalid_0's auc: 0.79851\n",
      "Training until validation scores don't improve for 100 rounds.\n",
      "[2]\tvalid_0's auc: 0.863986\n",
      "[3]\tvalid_0's auc: 0.869374\n",
      "[4]\tvalid_0's auc: 0.877967\n",
      "[5]\tvalid_0's auc: 0.880718\n",
      "[6]\tvalid_0's auc: 0.88335\n",
      "[7]\tvalid_0's auc: 0.885716\n",
      "[8]\tvalid_0's auc: 0.882643\n",
      "[9]\tvalid_0's auc: 0.882596\n",
      "[10]\tvalid_0's auc: 0.884059\n",
      "[11]\tvalid_0's auc: 0.883799\n",
      "[12]\tvalid_0's auc: 0.884385\n",
      "[13]\tvalid_0's auc: 0.886554\n",
      "[14]\tvalid_0's auc: 0.885845\n",
      "[15]\tvalid_0's auc: 0.885445\n",
      "[16]\tvalid_0's auc: 0.886275\n",
      "[17]\tvalid_0's auc: 0.885326\n",
      "[18]\tvalid_0's auc: 0.886202\n",
      "[19]\tvalid_0's auc: 0.887516\n",
      "[20]\tvalid_0's auc: 0.888453\n",
      "[21]\tvalid_0's auc: 0.889643\n",
      "[22]\tvalid_0's auc: 0.890854\n",
      "[23]\tvalid_0's auc: 0.891974\n",
      "[24]\tvalid_0's auc: 0.892554\n",
      "[25]\tvalid_0's auc: 0.893594\n",
      "[26]\tvalid_0's auc: 0.893797\n",
      "[27]\tvalid_0's auc: 0.894586\n",
      "[28]\tvalid_0's auc: 0.896922\n",
      "[29]\tvalid_0's auc: 0.898042\n",
      "[30]\tvalid_0's auc: 0.898728\n",
      "[31]\tvalid_0's auc: 0.899502\n",
      "[32]\tvalid_0's auc: 0.90003\n",
      "[33]\tvalid_0's auc: 0.900674\n",
      "[34]\tvalid_0's auc: 0.901471\n",
      "[35]\tvalid_0's auc: 0.901943\n",
      "[36]\tvalid_0's auc: 0.902361\n",
      "[37]\tvalid_0's auc: 0.902564\n",
      "[38]\tvalid_0's auc: 0.902598\n",
      "[39]\tvalid_0's auc: 0.902888\n",
      "[40]\tvalid_0's auc: 0.903573\n",
      "[41]\tvalid_0's auc: 0.904156\n",
      "[42]\tvalid_0's auc: 0.905056\n",
      "[43]\tvalid_0's auc: 0.905758\n",
      "[44]\tvalid_0's auc: 0.906244\n",
      "[45]\tvalid_0's auc: 0.906084\n",
      "[46]\tvalid_0's auc: 0.906383\n",
      "[47]\tvalid_0's auc: 0.907077\n",
      "[48]\tvalid_0's auc: 0.906914\n",
      "[49]\tvalid_0's auc: 0.907068\n",
      "[50]\tvalid_0's auc: 0.907244\n",
      "[51]\tvalid_0's auc: 0.908153\n",
      "[52]\tvalid_0's auc: 0.908493\n",
      "[53]\tvalid_0's auc: 0.908722\n",
      "[54]\tvalid_0's auc: 0.909002\n",
      "[55]\tvalid_0's auc: 0.909259\n",
      "[56]\tvalid_0's auc: 0.909453\n",
      "[57]\tvalid_0's auc: 0.909671\n",
      "[58]\tvalid_0's auc: 0.909811\n",
      "[59]\tvalid_0's auc: 0.910104\n",
      "[60]\tvalid_0's auc: 0.910362\n",
      "[61]\tvalid_0's auc: 0.91093\n",
      "[62]\tvalid_0's auc: 0.911416\n",
      "[63]\tvalid_0's auc: 0.911565\n",
      "[64]\tvalid_0's auc: 0.911932\n",
      "[65]\tvalid_0's auc: 0.912076\n",
      "[66]\tvalid_0's auc: 0.912503\n",
      "[67]\tvalid_0's auc: 0.912719\n",
      "[68]\tvalid_0's auc: 0.912828\n",
      "[69]\tvalid_0's auc: 0.913435\n",
      "[70]\tvalid_0's auc: 0.913369\n",
      "[71]\tvalid_0's auc: 0.913696\n",
      "[72]\tvalid_0's auc: 0.913914\n",
      "[73]\tvalid_0's auc: 0.913805\n",
      "[74]\tvalid_0's auc: 0.914148\n",
      "[75]\tvalid_0's auc: 0.914322\n",
      "[76]\tvalid_0's auc: 0.914564\n",
      "[77]\tvalid_0's auc: 0.914901\n",
      "[78]\tvalid_0's auc: 0.914921\n",
      "[79]\tvalid_0's auc: 0.914874\n",
      "[80]\tvalid_0's auc: 0.915436\n",
      "[81]\tvalid_0's auc: 0.915603\n",
      "[82]\tvalid_0's auc: 0.915864\n",
      "[83]\tvalid_0's auc: 0.916194\n",
      "[84]\tvalid_0's auc: 0.916372\n",
      "[85]\tvalid_0's auc: 0.916351\n",
      "[86]\tvalid_0's auc: 0.916711\n",
      "[87]\tvalid_0's auc: 0.916564\n",
      "[88]\tvalid_0's auc: 0.916794\n",
      "[89]\tvalid_0's auc: 0.916832\n",
      "[90]\tvalid_0's auc: 0.917234\n",
      "[91]\tvalid_0's auc: 0.917415\n",
      "[92]\tvalid_0's auc: 0.917405\n",
      "[93]\tvalid_0's auc: 0.917527\n",
      "[94]\tvalid_0's auc: 0.917667\n",
      "[95]\tvalid_0's auc: 0.917588\n",
      "[96]\tvalid_0's auc: 0.917648\n",
      "[97]\tvalid_0's auc: 0.917444\n",
      "[98]\tvalid_0's auc: 0.917678\n",
      "[99]\tvalid_0's auc: 0.917835\n",
      "[100]\tvalid_0's auc: 0.918247\n",
      "[101]\tvalid_0's auc: 0.918528\n",
      "[102]\tvalid_0's auc: 0.918736\n",
      "[103]\tvalid_0's auc: 0.918901\n",
      "[104]\tvalid_0's auc: 0.919251\n",
      "[105]\tvalid_0's auc: 0.919435\n",
      "[106]\tvalid_0's auc: 0.919547\n",
      "[107]\tvalid_0's auc: 0.919641\n",
      "[108]\tvalid_0's auc: 0.91958\n",
      "[109]\tvalid_0's auc: 0.919872\n",
      "[110]\tvalid_0's auc: 0.920124\n",
      "[111]\tvalid_0's auc: 0.920105\n",
      "[112]\tvalid_0's auc: 0.920302\n",
      "[113]\tvalid_0's auc: 0.920382\n",
      "[114]\tvalid_0's auc: 0.920491\n",
      "[115]\tvalid_0's auc: 0.920828\n",
      "[116]\tvalid_0's auc: 0.921341\n",
      "[117]\tvalid_0's auc: 0.921561\n",
      "[118]\tvalid_0's auc: 0.921677\n",
      "[119]\tvalid_0's auc: 0.921839\n",
      "[120]\tvalid_0's auc: 0.92207\n",
      "[121]\tvalid_0's auc: 0.922161\n",
      "[122]\tvalid_0's auc: 0.922519\n",
      "[123]\tvalid_0's auc: 0.922659\n",
      "[124]\tvalid_0's auc: 0.922556\n",
      "[125]\tvalid_0's auc: 0.922557\n",
      "[126]\tvalid_0's auc: 0.922677\n",
      "[127]\tvalid_0's auc: 0.922739\n",
      "[128]\tvalid_0's auc: 0.922719\n",
      "[129]\tvalid_0's auc: 0.922555\n",
      "[130]\tvalid_0's auc: 0.922445\n",
      "[131]\tvalid_0's auc: 0.922633\n",
      "[132]\tvalid_0's auc: 0.922405\n",
      "[133]\tvalid_0's auc: 0.922138\n",
      "[134]\tvalid_0's auc: 0.922171\n",
      "[135]\tvalid_0's auc: 0.922037\n",
      "[136]\tvalid_0's auc: 0.921963\n",
      "[137]\tvalid_0's auc: 0.922246\n",
      "[138]\tvalid_0's auc: 0.922102\n",
      "[139]\tvalid_0's auc: 0.921863\n",
      "[140]\tvalid_0's auc: 0.92175\n",
      "[141]\tvalid_0's auc: 0.921644\n",
      "[142]\tvalid_0's auc: 0.921721\n",
      "[143]\tvalid_0's auc: 0.921873\n",
      "[144]\tvalid_0's auc: 0.921855\n",
      "[145]\tvalid_0's auc: 0.92191\n",
      "[146]\tvalid_0's auc: 0.922051\n",
      "[147]\tvalid_0's auc: 0.922182\n",
      "[148]\tvalid_0's auc: 0.922177\n",
      "[149]\tvalid_0's auc: 0.922189\n",
      "[150]\tvalid_0's auc: 0.922101\n",
      "[151]\tvalid_0's auc: 0.922174\n",
      "[152]\tvalid_0's auc: 0.922321\n",
      "[153]\tvalid_0's auc: 0.922423\n",
      "[154]\tvalid_0's auc: 0.922591\n",
      "[155]\tvalid_0's auc: 0.9225\n",
      "[156]\tvalid_0's auc: 0.922555\n",
      "[157]\tvalid_0's auc: 0.922493\n",
      "[158]\tvalid_0's auc: 0.922351\n",
      "[159]\tvalid_0's auc: 0.922361\n",
      "[160]\tvalid_0's auc: 0.922578\n",
      "[161]\tvalid_0's auc: 0.922531\n",
      "[162]\tvalid_0's auc: 0.922676\n",
      "[163]\tvalid_0's auc: 0.922704\n",
      "[164]\tvalid_0's auc: 0.922811\n",
      "[165]\tvalid_0's auc: 0.922838\n",
      "[166]\tvalid_0's auc: 0.922742\n",
      "[167]\tvalid_0's auc: 0.922742\n",
      "[168]\tvalid_0's auc: 0.922708\n",
      "[169]\tvalid_0's auc: 0.922786\n",
      "[170]\tvalid_0's auc: 0.922811\n",
      "[171]\tvalid_0's auc: 0.922886\n",
      "[172]\tvalid_0's auc: 0.922892\n",
      "[173]\tvalid_0's auc: 0.922946\n",
      "[174]\tvalid_0's auc: 0.92306\n",
      "[175]\tvalid_0's auc: 0.92289\n",
      "[176]\tvalid_0's auc: 0.923062\n",
      "[177]\tvalid_0's auc: 0.92302\n",
      "[178]\tvalid_0's auc: 0.922806\n",
      "[179]\tvalid_0's auc: 0.922715\n",
      "[180]\tvalid_0's auc: 0.922549\n",
      "[181]\tvalid_0's auc: 0.922724\n",
      "[182]\tvalid_0's auc: 0.92312\n",
      "[183]\tvalid_0's auc: 0.923165\n",
      "[184]\tvalid_0's auc: 0.923307\n",
      "[185]\tvalid_0's auc: 0.923403\n",
      "[186]\tvalid_0's auc: 0.923398\n",
      "[187]\tvalid_0's auc: 0.923557\n",
      "[188]\tvalid_0's auc: 0.923741\n",
      "[189]\tvalid_0's auc: 0.923993\n",
      "[190]\tvalid_0's auc: 0.924174\n",
      "[191]\tvalid_0's auc: 0.924263\n",
      "[192]\tvalid_0's auc: 0.924345\n",
      "[193]\tvalid_0's auc: 0.924333\n",
      "[194]\tvalid_0's auc: 0.924161\n",
      "[195]\tvalid_0's auc: 0.924373\n",
      "[196]\tvalid_0's auc: 0.924382\n",
      "[197]\tvalid_0's auc: 0.924236\n",
      "[198]\tvalid_0's auc: 0.924327\n",
      "[199]\tvalid_0's auc: 0.924469\n",
      "[200]\tvalid_0's auc: 0.92443\n",
      "[201]\tvalid_0's auc: 0.924419\n",
      "[202]\tvalid_0's auc: 0.924467\n",
      "[203]\tvalid_0's auc: 0.924598\n",
      "[204]\tvalid_0's auc: 0.924681\n",
      "[205]\tvalid_0's auc: 0.924755\n",
      "[206]\tvalid_0's auc: 0.924706\n",
      "[207]\tvalid_0's auc: 0.924645\n",
      "[208]\tvalid_0's auc: 0.924645\n",
      "[209]\tvalid_0's auc: 0.924783\n",
      "[210]\tvalid_0's auc: 0.924837\n",
      "[211]\tvalid_0's auc: 0.924791\n",
      "[212]\tvalid_0's auc: 0.92483\n",
      "[213]\tvalid_0's auc: 0.924755\n",
      "[214]\tvalid_0's auc: 0.924853\n",
      "[215]\tvalid_0's auc: 0.924796\n",
      "[216]\tvalid_0's auc: 0.924698\n",
      "[217]\tvalid_0's auc: 0.924662\n",
      "[218]\tvalid_0's auc: 0.92452\n",
      "[219]\tvalid_0's auc: 0.924482\n",
      "[220]\tvalid_0's auc: 0.924729\n",
      "[221]\tvalid_0's auc: 0.924888\n",
      "[222]\tvalid_0's auc: 0.924775\n",
      "[223]\tvalid_0's auc: 0.924974\n",
      "[224]\tvalid_0's auc: 0.92487\n",
      "[225]\tvalid_0's auc: 0.924999\n",
      "[226]\tvalid_0's auc: 0.925105\n",
      "[227]\tvalid_0's auc: 0.925181\n",
      "[228]\tvalid_0's auc: 0.925172\n",
      "[229]\tvalid_0's auc: 0.925229\n",
      "[230]\tvalid_0's auc: 0.925284\n",
      "[231]\tvalid_0's auc: 0.925369\n",
      "[232]\tvalid_0's auc: 0.925497\n",
      "[233]\tvalid_0's auc: 0.925697\n",
      "[234]\tvalid_0's auc: 0.925704\n",
      "[235]\tvalid_0's auc: 0.925592\n",
      "[236]\tvalid_0's auc: 0.925563\n",
      "[237]\tvalid_0's auc: 0.925517\n",
      "[238]\tvalid_0's auc: 0.925571\n",
      "[239]\tvalid_0's auc: 0.925757\n",
      "[240]\tvalid_0's auc: 0.925642\n",
      "[241]\tvalid_0's auc: 0.925911\n",
      "[242]\tvalid_0's auc: 0.926076\n",
      "[243]\tvalid_0's auc: 0.926099\n",
      "[244]\tvalid_0's auc: 0.926154\n",
      "[245]\tvalid_0's auc: 0.926118\n",
      "[246]\tvalid_0's auc: 0.926229\n",
      "[247]\tvalid_0's auc: 0.926311\n",
      "[248]\tvalid_0's auc: 0.926415\n",
      "[249]\tvalid_0's auc: 0.926513\n",
      "[250]\tvalid_0's auc: 0.92664\n",
      "[251]\tvalid_0's auc: 0.926673\n",
      "[252]\tvalid_0's auc: 0.92676\n",
      "[253]\tvalid_0's auc: 0.926854\n",
      "[254]\tvalid_0's auc: 0.926909\n",
      "[255]\tvalid_0's auc: 0.92706\n",
      "[256]\tvalid_0's auc: 0.92698\n",
      "[257]\tvalid_0's auc: 0.927015\n",
      "[258]\tvalid_0's auc: 0.927086\n",
      "[259]\tvalid_0's auc: 0.927201\n",
      "[260]\tvalid_0's auc: 0.927362\n",
      "[261]\tvalid_0's auc: 0.92757\n",
      "[262]\tvalid_0's auc: 0.927608\n",
      "[263]\tvalid_0's auc: 0.927441\n",
      "[264]\tvalid_0's auc: 0.927515\n",
      "[265]\tvalid_0's auc: 0.927494\n",
      "[266]\tvalid_0's auc: 0.927388\n",
      "[267]\tvalid_0's auc: 0.927452\n",
      "[268]\tvalid_0's auc: 0.927326\n",
      "[269]\tvalid_0's auc: 0.927468\n",
      "[270]\tvalid_0's auc: 0.927632\n",
      "[271]\tvalid_0's auc: 0.927797\n",
      "[272]\tvalid_0's auc: 0.927752\n",
      "[273]\tvalid_0's auc: 0.927732\n",
      "[274]\tvalid_0's auc: 0.927611\n",
      "[275]\tvalid_0's auc: 0.927695\n",
      "[276]\tvalid_0's auc: 0.92787\n",
      "[277]\tvalid_0's auc: 0.927845\n",
      "[278]\tvalid_0's auc: 0.928005\n",
      "[279]\tvalid_0's auc: 0.92796\n",
      "[280]\tvalid_0's auc: 0.927858\n",
      "[281]\tvalid_0's auc: 0.928108\n",
      "[282]\tvalid_0's auc: 0.928271\n",
      "[283]\tvalid_0's auc: 0.928203\n",
      "[284]\tvalid_0's auc: 0.927989\n",
      "[285]\tvalid_0's auc: 0.928114\n",
      "[286]\tvalid_0's auc: 0.928152\n",
      "[287]\tvalid_0's auc: 0.927964\n",
      "[288]\tvalid_0's auc: 0.927946\n",
      "[289]\tvalid_0's auc: 0.927954\n",
      "[290]\tvalid_0's auc: 0.927902\n",
      "[291]\tvalid_0's auc: 0.927796\n",
      "[292]\tvalid_0's auc: 0.927673\n",
      "[293]\tvalid_0's auc: 0.927878\n",
      "[294]\tvalid_0's auc: 0.927733\n",
      "[295]\tvalid_0's auc: 0.927747\n",
      "[296]\tvalid_0's auc: 0.927716\n",
      "[297]\tvalid_0's auc: 0.927688\n",
      "[298]\tvalid_0's auc: 0.927703\n",
      "[299]\tvalid_0's auc: 0.927786\n",
      "[300]\tvalid_0's auc: 0.92776\n",
      "[301]\tvalid_0's auc: 0.927621\n",
      "[302]\tvalid_0's auc: 0.927821\n",
      "[303]\tvalid_0's auc: 0.927859\n",
      "[304]\tvalid_0's auc: 0.927874\n",
      "[305]\tvalid_0's auc: 0.927939\n",
      "[306]\tvalid_0's auc: 0.928049\n",
      "[307]\tvalid_0's auc: 0.928181\n",
      "[308]\tvalid_0's auc: 0.928293\n",
      "[309]\tvalid_0's auc: 0.928296\n",
      "[310]\tvalid_0's auc: 0.928258\n",
      "[311]\tvalid_0's auc: 0.928221\n",
      "[312]\tvalid_0's auc: 0.928216\n",
      "[313]\tvalid_0's auc: 0.9283\n",
      "[314]\tvalid_0's auc: 0.92834\n",
      "[315]\tvalid_0's auc: 0.928363\n",
      "[316]\tvalid_0's auc: 0.928249\n",
      "[317]\tvalid_0's auc: 0.92833\n",
      "[318]\tvalid_0's auc: 0.92822\n",
      "[319]\tvalid_0's auc: 0.928233\n",
      "[320]\tvalid_0's auc: 0.928176\n",
      "[321]\tvalid_0's auc: 0.928097\n",
      "[322]\tvalid_0's auc: 0.928054\n",
      "[323]\tvalid_0's auc: 0.928097\n",
      "[324]\tvalid_0's auc: 0.928235\n",
      "[325]\tvalid_0's auc: 0.928165\n",
      "[326]\tvalid_0's auc: 0.928144\n",
      "[327]\tvalid_0's auc: 0.928177\n",
      "[328]\tvalid_0's auc: 0.928296\n",
      "[329]\tvalid_0's auc: 0.928217\n",
      "[330]\tvalid_0's auc: 0.928034\n",
      "[331]\tvalid_0's auc: 0.928063\n",
      "[332]\tvalid_0's auc: 0.928024\n",
      "[333]\tvalid_0's auc: 0.927983\n",
      "[334]\tvalid_0's auc: 0.928036\n",
      "[335]\tvalid_0's auc: 0.928081\n",
      "[336]\tvalid_0's auc: 0.92809\n",
      "[337]\tvalid_0's auc: 0.928056\n",
      "[338]\tvalid_0's auc: 0.928133\n",
      "[339]\tvalid_0's auc: 0.928096\n",
      "[340]\tvalid_0's auc: 0.928076\n",
      "[341]\tvalid_0's auc: 0.928181\n",
      "[342]\tvalid_0's auc: 0.928185\n",
      "[343]\tvalid_0's auc: 0.928235\n",
      "[344]\tvalid_0's auc: 0.928179\n",
      "[345]\tvalid_0's auc: 0.928056\n",
      "[346]\tvalid_0's auc: 0.928241\n",
      "[347]\tvalid_0's auc: 0.92841\n",
      "[348]\tvalid_0's auc: 0.928443\n",
      "[349]\tvalid_0's auc: 0.928469\n",
      "[350]\tvalid_0's auc: 0.928563\n",
      "[351]\tvalid_0's auc: 0.92865\n",
      "[352]\tvalid_0's auc: 0.928772\n",
      "[353]\tvalid_0's auc: 0.92882\n",
      "[354]\tvalid_0's auc: 0.928943\n",
      "[355]\tvalid_0's auc: 0.928879\n",
      "[356]\tvalid_0's auc: 0.928895\n",
      "[357]\tvalid_0's auc: 0.929025\n",
      "[358]\tvalid_0's auc: 0.929132\n",
      "[359]\tvalid_0's auc: 0.929184\n",
      "[360]\tvalid_0's auc: 0.929283\n",
      "[361]\tvalid_0's auc: 0.929459\n",
      "[362]\tvalid_0's auc: 0.929495\n",
      "[363]\tvalid_0's auc: 0.929421\n",
      "[364]\tvalid_0's auc: 0.929595\n",
      "[365]\tvalid_0's auc: 0.929656\n",
      "[366]\tvalid_0's auc: 0.929644\n",
      "[367]\tvalid_0's auc: 0.929743\n",
      "[368]\tvalid_0's auc: 0.929707\n",
      "[369]\tvalid_0's auc: 0.929547\n",
      "[370]\tvalid_0's auc: 0.929661\n",
      "[371]\tvalid_0's auc: 0.929689\n",
      "[372]\tvalid_0's auc: 0.929742\n",
      "[373]\tvalid_0's auc: 0.929668\n",
      "[374]\tvalid_0's auc: 0.929891\n",
      "[375]\tvalid_0's auc: 0.929942\n",
      "[376]\tvalid_0's auc: 0.930028\n",
      "[377]\tvalid_0's auc: 0.930066\n",
      "[378]\tvalid_0's auc: 0.930123\n",
      "[379]\tvalid_0's auc: 0.930228\n",
      "[380]\tvalid_0's auc: 0.930231\n",
      "[381]\tvalid_0's auc: 0.930322\n",
      "[382]\tvalid_0's auc: 0.930323\n",
      "[383]\tvalid_0's auc: 0.930215\n",
      "[384]\tvalid_0's auc: 0.930216\n",
      "[385]\tvalid_0's auc: 0.930199\n",
      "[386]\tvalid_0's auc: 0.930137\n",
      "[387]\tvalid_0's auc: 0.930192\n",
      "[388]\tvalid_0's auc: 0.930169\n",
      "[389]\tvalid_0's auc: 0.93019\n",
      "[390]\tvalid_0's auc: 0.930289\n",
      "[391]\tvalid_0's auc: 0.930269\n",
      "[392]\tvalid_0's auc: 0.930331\n",
      "[393]\tvalid_0's auc: 0.930244\n",
      "[394]\tvalid_0's auc: 0.930182\n",
      "[395]\tvalid_0's auc: 0.93022\n",
      "[396]\tvalid_0's auc: 0.930188\n",
      "[397]\tvalid_0's auc: 0.930166\n",
      "[398]\tvalid_0's auc: 0.930182\n",
      "[399]\tvalid_0's auc: 0.930196\n",
      "[400]\tvalid_0's auc: 0.930185\n",
      "[401]\tvalid_0's auc: 0.930139\n",
      "[402]\tvalid_0's auc: 0.930165\n",
      "[403]\tvalid_0's auc: 0.930143\n",
      "[404]\tvalid_0's auc: 0.930002\n",
      "[405]\tvalid_0's auc: 0.930107\n",
      "[406]\tvalid_0's auc: 0.930037\n",
      "[407]\tvalid_0's auc: 0.930101\n",
      "[408]\tvalid_0's auc: 0.930038\n",
      "[409]\tvalid_0's auc: 0.929986\n",
      "[410]\tvalid_0's auc: 0.929953\n",
      "[411]\tvalid_0's auc: 0.930042\n",
      "[412]\tvalid_0's auc: 0.93017\n",
      "[413]\tvalid_0's auc: 0.930264\n",
      "[414]\tvalid_0's auc: 0.930329\n",
      "[415]\tvalid_0's auc: 0.93043\n",
      "[416]\tvalid_0's auc: 0.93041\n",
      "[417]\tvalid_0's auc: 0.930414\n",
      "[418]\tvalid_0's auc: 0.930487\n",
      "[419]\tvalid_0's auc: 0.930429\n",
      "[420]\tvalid_0's auc: 0.930472\n",
      "[421]\tvalid_0's auc: 0.930464\n",
      "[422]\tvalid_0's auc: 0.930403\n",
      "[423]\tvalid_0's auc: 0.930379\n",
      "[424]\tvalid_0's auc: 0.93056\n",
      "[425]\tvalid_0's auc: 0.930526\n",
      "[426]\tvalid_0's auc: 0.930544\n",
      "[427]\tvalid_0's auc: 0.93063\n",
      "[428]\tvalid_0's auc: 0.930524\n",
      "[429]\tvalid_0's auc: 0.930502\n",
      "[430]\tvalid_0's auc: 0.930702\n",
      "[431]\tvalid_0's auc: 0.930795\n",
      "[432]\tvalid_0's auc: 0.930743\n",
      "[433]\tvalid_0's auc: 0.930794\n",
      "[434]\tvalid_0's auc: 0.930828\n",
      "[435]\tvalid_0's auc: 0.930903\n",
      "[436]\tvalid_0's auc: 0.930912\n",
      "[437]\tvalid_0's auc: 0.930819\n",
      "[438]\tvalid_0's auc: 0.930845\n",
      "[439]\tvalid_0's auc: 0.930931\n",
      "[440]\tvalid_0's auc: 0.93093\n",
      "[441]\tvalid_0's auc: 0.931053\n",
      "[442]\tvalid_0's auc: 0.931008\n",
      "[443]\tvalid_0's auc: 0.930979\n",
      "[444]\tvalid_0's auc: 0.930926\n",
      "[445]\tvalid_0's auc: 0.930949\n",
      "[446]\tvalid_0's auc: 0.93081\n",
      "[447]\tvalid_0's auc: 0.930802\n",
      "[448]\tvalid_0's auc: 0.930855\n",
      "[449]\tvalid_0's auc: 0.930832\n",
      "[450]\tvalid_0's auc: 0.930907\n",
      "[451]\tvalid_0's auc: 0.930887\n",
      "[452]\tvalid_0's auc: 0.930955\n",
      "[453]\tvalid_0's auc: 0.931012\n",
      "[454]\tvalid_0's auc: 0.931074\n",
      "[455]\tvalid_0's auc: 0.93111\n",
      "[456]\tvalid_0's auc: 0.931235\n",
      "[457]\tvalid_0's auc: 0.931136\n",
      "[458]\tvalid_0's auc: 0.931204\n",
      "[459]\tvalid_0's auc: 0.931156\n",
      "[460]\tvalid_0's auc: 0.93112\n",
      "[461]\tvalid_0's auc: 0.931177\n",
      "[462]\tvalid_0's auc: 0.931199\n",
      "[463]\tvalid_0's auc: 0.931211\n",
      "[464]\tvalid_0's auc: 0.931207\n",
      "[465]\tvalid_0's auc: 0.931198\n",
      "[466]\tvalid_0's auc: 0.931262\n",
      "[467]\tvalid_0's auc: 0.931304\n",
      "[468]\tvalid_0's auc: 0.931292\n",
      "[469]\tvalid_0's auc: 0.931433\n",
      "[470]\tvalid_0's auc: 0.931407\n",
      "[471]\tvalid_0's auc: 0.931408\n",
      "[472]\tvalid_0's auc: 0.931479\n",
      "[473]\tvalid_0's auc: 0.931424\n",
      "[474]\tvalid_0's auc: 0.931482\n",
      "[475]\tvalid_0's auc: 0.931559\n",
      "[476]\tvalid_0's auc: 0.931553\n",
      "[477]\tvalid_0's auc: 0.931531\n",
      "[478]\tvalid_0's auc: 0.931516\n",
      "[479]\tvalid_0's auc: 0.931612\n",
      "[480]\tvalid_0's auc: 0.931697\n",
      "[481]\tvalid_0's auc: 0.931745\n",
      "[482]\tvalid_0's auc: 0.931686\n",
      "[483]\tvalid_0's auc: 0.931694\n",
      "[484]\tvalid_0's auc: 0.931801\n",
      "[485]\tvalid_0's auc: 0.931891\n",
      "[486]\tvalid_0's auc: 0.931872\n",
      "[487]\tvalid_0's auc: 0.931844\n",
      "[488]\tvalid_0's auc: 0.931837\n",
      "[489]\tvalid_0's auc: 0.931887\n",
      "[490]\tvalid_0's auc: 0.931841\n",
      "[491]\tvalid_0's auc: 0.931846\n",
      "[492]\tvalid_0's auc: 0.931952\n",
      "[493]\tvalid_0's auc: 0.931885\n",
      "[494]\tvalid_0's auc: 0.931934\n",
      "[495]\tvalid_0's auc: 0.931963\n",
      "[496]\tvalid_0's auc: 0.93205\n",
      "[497]\tvalid_0's auc: 0.932124\n",
      "[498]\tvalid_0's auc: 0.932108\n",
      "[499]\tvalid_0's auc: 0.931959\n",
      "[500]\tvalid_0's auc: 0.93188\n",
      "[501]\tvalid_0's auc: 0.931834\n",
      "[502]\tvalid_0's auc: 0.931869\n",
      "[503]\tvalid_0's auc: 0.931814\n",
      "[504]\tvalid_0's auc: 0.931814\n",
      "[505]\tvalid_0's auc: 0.931761\n",
      "[506]\tvalid_0's auc: 0.931781\n",
      "[507]\tvalid_0's auc: 0.93186\n",
      "[508]\tvalid_0's auc: 0.931826\n",
      "[509]\tvalid_0's auc: 0.931706\n",
      "[510]\tvalid_0's auc: 0.931686\n",
      "[511]\tvalid_0's auc: 0.931721\n",
      "[512]\tvalid_0's auc: 0.931629\n",
      "[513]\tvalid_0's auc: 0.931628\n",
      "[514]\tvalid_0's auc: 0.931617\n",
      "[515]\tvalid_0's auc: 0.931527\n",
      "[516]\tvalid_0's auc: 0.931512\n",
      "[517]\tvalid_0's auc: 0.93148\n",
      "[518]\tvalid_0's auc: 0.931473\n",
      "[519]\tvalid_0's auc: 0.931578\n",
      "[520]\tvalid_0's auc: 0.931606\n",
      "[521]\tvalid_0's auc: 0.931647\n",
      "[522]\tvalid_0's auc: 0.931621\n",
      "[523]\tvalid_0's auc: 0.931679\n",
      "[524]\tvalid_0's auc: 0.931663\n",
      "[525]\tvalid_0's auc: 0.931688\n",
      "[526]\tvalid_0's auc: 0.931638\n",
      "[527]\tvalid_0's auc: 0.931672\n",
      "[528]\tvalid_0's auc: 0.931731\n",
      "[529]\tvalid_0's auc: 0.931746\n",
      "[530]\tvalid_0's auc: 0.931748\n",
      "[531]\tvalid_0's auc: 0.931863\n",
      "[532]\tvalid_0's auc: 0.931841\n",
      "[533]\tvalid_0's auc: 0.931885\n",
      "[534]\tvalid_0's auc: 0.931948\n",
      "[535]\tvalid_0's auc: 0.931982\n",
      "[536]\tvalid_0's auc: 0.931906\n",
      "[537]\tvalid_0's auc: 0.931951\n",
      "[538]\tvalid_0's auc: 0.931969\n",
      "[539]\tvalid_0's auc: 0.931886\n",
      "[540]\tvalid_0's auc: 0.931861\n",
      "[541]\tvalid_0's auc: 0.931793\n",
      "[542]\tvalid_0's auc: 0.931845\n",
      "[543]\tvalid_0's auc: 0.931758\n",
      "[544]\tvalid_0's auc: 0.931739\n",
      "[545]\tvalid_0's auc: 0.931713\n",
      "[546]\tvalid_0's auc: 0.931682\n",
      "[547]\tvalid_0's auc: 0.931754\n",
      "[548]\tvalid_0's auc: 0.931771\n",
      "[549]\tvalid_0's auc: 0.931787\n",
      "[550]\tvalid_0's auc: 0.931716\n",
      "[551]\tvalid_0's auc: 0.931651\n",
      "[552]\tvalid_0's auc: 0.931596\n",
      "[553]\tvalid_0's auc: 0.931624\n",
      "[554]\tvalid_0's auc: 0.931671\n",
      "[555]\tvalid_0's auc: 0.931591\n",
      "[556]\tvalid_0's auc: 0.931692\n",
      "[557]\tvalid_0's auc: 0.931615\n",
      "[558]\tvalid_0's auc: 0.931577\n",
      "[559]\tvalid_0's auc: 0.931528\n",
      "[560]\tvalid_0's auc: 0.931592\n",
      "[561]\tvalid_0's auc: 0.931531\n",
      "[562]\tvalid_0's auc: 0.931533\n",
      "[563]\tvalid_0's auc: 0.931463\n",
      "[564]\tvalid_0's auc: 0.93145\n",
      "[565]\tvalid_0's auc: 0.931459\n",
      "[566]\tvalid_0's auc: 0.931447\n",
      "[567]\tvalid_0's auc: 0.931405\n",
      "[568]\tvalid_0's auc: 0.931383\n",
      "[569]\tvalid_0's auc: 0.931305\n",
      "[570]\tvalid_0's auc: 0.93126\n",
      "[571]\tvalid_0's auc: 0.931257\n",
      "[572]\tvalid_0's auc: 0.931239\n",
      "[573]\tvalid_0's auc: 0.931324\n",
      "[574]\tvalid_0's auc: 0.931296\n",
      "[575]\tvalid_0's auc: 0.931206\n",
      "[576]\tvalid_0's auc: 0.931181\n",
      "[577]\tvalid_0's auc: 0.931129\n",
      "[578]\tvalid_0's auc: 0.931091\n",
      "[579]\tvalid_0's auc: 0.931063\n",
      "[580]\tvalid_0's auc: 0.93108\n",
      "[581]\tvalid_0's auc: 0.931117\n",
      "[582]\tvalid_0's auc: 0.93108\n",
      "[583]\tvalid_0's auc: 0.931\n",
      "[584]\tvalid_0's auc: 0.930984\n",
      "[585]\tvalid_0's auc: 0.93103\n",
      "[586]\tvalid_0's auc: 0.931022\n",
      "[587]\tvalid_0's auc: 0.931041\n",
      "[588]\tvalid_0's auc: 0.931151\n",
      "[589]\tvalid_0's auc: 0.931157\n",
      "[590]\tvalid_0's auc: 0.931149\n",
      "[591]\tvalid_0's auc: 0.931121\n",
      "[592]\tvalid_0's auc: 0.931118\n",
      "[593]\tvalid_0's auc: 0.931012\n",
      "[594]\tvalid_0's auc: 0.930878\n",
      "[595]\tvalid_0's auc: 0.930817\n",
      "[596]\tvalid_0's auc: 0.930775\n",
      "[597]\tvalid_0's auc: 0.930801\n",
      "Early stopping, best iteration is:\n",
      "[497]\tvalid_0's auc: 0.932124\n"
     ]
    },
    {
     "ename": "ValueError",
     "evalue": "ignored",
     "output_type": "error",
     "traceback": [
      "\u001b[0;31m---------------------------------------------------------------------------\u001b[0m",
      "\u001b[0;31mValueError\u001b[0m                                Traceback (most recent call last)",
      "\u001b[0;32m<ipython-input-50-2e60bb2b8016>\u001b[0m in \u001b[0;36m<module>\u001b[0;34m()\u001b[0m\n\u001b[1;32m      1\u001b[0m \u001b[0mlistaDeCategoricas\u001b[0m \u001b[0;34m=\u001b[0m \u001b[0;34m[\u001b[0m\u001b[0;34m'Region'\u001b[0m\u001b[0;34m,\u001b[0m\u001b[0;34m'Territory'\u001b[0m\u001b[0;34m,\u001b[0m\u001b[0;34m'Product_Type'\u001b[0m\u001b[0;34m,\u001b[0m\u001b[0;34m'Product_Category_B'\u001b[0m\u001b[0;34m,\u001b[0m\u001b[0;34m'Account_Type'\u001b[0m\u001b[0;34m,\u001b[0m\u001b[0;34m'Delivery_Quarter'\u001b[0m\u001b[0;34m,\u001b[0m\u001b[0;34m'Billing_Country'\u001b[0m\u001b[0;34m]\u001b[0m\u001b[0;34m\u001b[0m\u001b[0;34m\u001b[0m\u001b[0m\n\u001b[0;32m----> 2\u001b[0;31m \u001b[0mres\u001b[0m \u001b[0;34m=\u001b[0m \u001b[0mlightGBM\u001b[0m\u001b[0;34m(\u001b[0m\u001b[0magrupacionEntrenamiento\u001b[0m\u001b[0;34m,\u001b[0m\u001b[0mentrenamientoResultado\u001b[0m\u001b[0;34m,\u001b[0m\u001b[0mlistaDeCategoricas\u001b[0m\u001b[0;34m,\u001b[0m\u001b[0magrupacionTesteo\u001b[0m\u001b[0;34m)\u001b[0m\u001b[0;34m\u001b[0m\u001b[0;34m\u001b[0m\u001b[0m\n\u001b[0m\u001b[1;32m      3\u001b[0m \u001b[0mres\u001b[0m\u001b[0;34m\u001b[0m\u001b[0;34m\u001b[0m\u001b[0m\n",
      "\u001b[0;32m<ipython-input-49-5928b1e8ba15>\u001b[0m in \u001b[0;36mlightGBM\u001b[0;34m(train_data, train_labels, cat_features, eval_data)\u001b[0m\n\u001b[1;32m     63\u001b[0m \u001b[0;34m\u001b[0m\u001b[0m\n\u001b[1;32m     64\u001b[0m   \u001b[0mx\u001b[0m \u001b[0;34m=\u001b[0m \u001b[0msubmission\u001b[0m\u001b[0;34m.\u001b[0m\u001b[0mvalues\u001b[0m\u001b[0;34m\u001b[0m\u001b[0;34m\u001b[0m\u001b[0m\n\u001b[0;32m---> 65\u001b[0;31m   \u001b[0my\u001b[0m \u001b[0;34m=\u001b[0m \u001b[0mmodel\u001b[0m\u001b[0;34m.\u001b[0m\u001b[0mpredict\u001b[0m\u001b[0;34m(\u001b[0m\u001b[0mx\u001b[0m\u001b[0;34m)\u001b[0m\u001b[0;34m\u001b[0m\u001b[0;34m\u001b[0m\u001b[0m\n\u001b[0m\u001b[1;32m     66\u001b[0m \u001b[0;34m\u001b[0m\u001b[0m\n\u001b[1;32m     67\u001b[0m   \u001b[0moutput\u001b[0m \u001b[0;34m=\u001b[0m \u001b[0mpd\u001b[0m\u001b[0;34m.\u001b[0m\u001b[0mDataFrame\u001b[0m\u001b[0;34m(\u001b[0m\u001b[0;34m{\u001b[0m\u001b[0;34m'id'\u001b[0m\u001b[0;34m:\u001b[0m \u001b[0mids\u001b[0m\u001b[0;34m,\u001b[0m \u001b[0;34m'target'\u001b[0m\u001b[0;34m:\u001b[0m \u001b[0my\u001b[0m\u001b[0;34m}\u001b[0m\u001b[0;34m)\u001b[0m\u001b[0;34m\u001b[0m\u001b[0;34m\u001b[0m\u001b[0m\n",
      "\u001b[0;32m/usr/local/lib/python3.6/dist-packages/lightgbm/basic.py\u001b[0m in \u001b[0;36mpredict\u001b[0;34m(self, data, num_iteration, raw_score, pred_leaf, pred_contrib, data_has_header, is_reshape, **kwargs)\u001b[0m\n\u001b[1;32m   2201\u001b[0m         return predictor.predict(data, num_iteration,\n\u001b[1;32m   2202\u001b[0m                                  \u001b[0mraw_score\u001b[0m\u001b[0;34m,\u001b[0m \u001b[0mpred_leaf\u001b[0m\u001b[0;34m,\u001b[0m \u001b[0mpred_contrib\u001b[0m\u001b[0;34m,\u001b[0m\u001b[0;34m\u001b[0m\u001b[0;34m\u001b[0m\u001b[0m\n\u001b[0;32m-> 2203\u001b[0;31m                                  data_has_header, is_reshape)\n\u001b[0m\u001b[1;32m   2204\u001b[0m \u001b[0;34m\u001b[0m\u001b[0m\n\u001b[1;32m   2205\u001b[0m     \u001b[0;32mdef\u001b[0m \u001b[0mrefit\u001b[0m\u001b[0;34m(\u001b[0m\u001b[0mself\u001b[0m\u001b[0;34m,\u001b[0m \u001b[0mdata\u001b[0m\u001b[0;34m,\u001b[0m \u001b[0mlabel\u001b[0m\u001b[0;34m,\u001b[0m \u001b[0mdecay_rate\u001b[0m\u001b[0;34m=\u001b[0m\u001b[0;36m0.9\u001b[0m\u001b[0;34m,\u001b[0m \u001b[0;34m**\u001b[0m\u001b[0mkwargs\u001b[0m\u001b[0;34m)\u001b[0m\u001b[0;34m:\u001b[0m\u001b[0;34m\u001b[0m\u001b[0;34m\u001b[0m\u001b[0m\n",
      "\u001b[0;32m/usr/local/lib/python3.6/dist-packages/lightgbm/basic.py\u001b[0m in \u001b[0;36mpredict\u001b[0;34m(self, data, num_iteration, raw_score, pred_leaf, pred_contrib, data_has_header, is_reshape)\u001b[0m\n\u001b[1;32m    465\u001b[0m             \u001b[0mpreds\u001b[0m\u001b[0;34m,\u001b[0m \u001b[0mnrow\u001b[0m \u001b[0;34m=\u001b[0m \u001b[0mself\u001b[0m\u001b[0;34m.\u001b[0m\u001b[0m__pred_for_csc\u001b[0m\u001b[0;34m(\u001b[0m\u001b[0mdata\u001b[0m\u001b[0;34m,\u001b[0m \u001b[0mnum_iteration\u001b[0m\u001b[0;34m,\u001b[0m \u001b[0mpredict_type\u001b[0m\u001b[0;34m)\u001b[0m\u001b[0;34m\u001b[0m\u001b[0;34m\u001b[0m\u001b[0m\n\u001b[1;32m    466\u001b[0m         \u001b[0;32melif\u001b[0m \u001b[0misinstance\u001b[0m\u001b[0;34m(\u001b[0m\u001b[0mdata\u001b[0m\u001b[0;34m,\u001b[0m \u001b[0mnp\u001b[0m\u001b[0;34m.\u001b[0m\u001b[0mndarray\u001b[0m\u001b[0;34m)\u001b[0m\u001b[0;34m:\u001b[0m\u001b[0;34m\u001b[0m\u001b[0;34m\u001b[0m\u001b[0m\n\u001b[0;32m--> 467\u001b[0;31m             \u001b[0mpreds\u001b[0m\u001b[0;34m,\u001b[0m \u001b[0mnrow\u001b[0m \u001b[0;34m=\u001b[0m \u001b[0mself\u001b[0m\u001b[0;34m.\u001b[0m\u001b[0m__pred_for_np2d\u001b[0m\u001b[0;34m(\u001b[0m\u001b[0mdata\u001b[0m\u001b[0;34m,\u001b[0m \u001b[0mnum_iteration\u001b[0m\u001b[0;34m,\u001b[0m \u001b[0mpredict_type\u001b[0m\u001b[0;34m)\u001b[0m\u001b[0;34m\u001b[0m\u001b[0;34m\u001b[0m\u001b[0m\n\u001b[0m\u001b[1;32m    468\u001b[0m         \u001b[0;32melif\u001b[0m \u001b[0misinstance\u001b[0m\u001b[0;34m(\u001b[0m\u001b[0mdata\u001b[0m\u001b[0;34m,\u001b[0m \u001b[0mlist\u001b[0m\u001b[0;34m)\u001b[0m\u001b[0;34m:\u001b[0m\u001b[0;34m\u001b[0m\u001b[0;34m\u001b[0m\u001b[0m\n\u001b[1;32m    469\u001b[0m             \u001b[0;32mtry\u001b[0m\u001b[0;34m:\u001b[0m\u001b[0;34m\u001b[0m\u001b[0;34m\u001b[0m\u001b[0m\n",
      "\u001b[0;32m/usr/local/lib/python3.6/dist-packages/lightgbm/basic.py\u001b[0m in \u001b[0;36m__pred_for_np2d\u001b[0;34m(self, mat, num_iteration, predict_type)\u001b[0m\n\u001b[1;32m    554\u001b[0m             \u001b[0;32mreturn\u001b[0m \u001b[0mpreds\u001b[0m\u001b[0;34m,\u001b[0m \u001b[0mnrow\u001b[0m\u001b[0;34m\u001b[0m\u001b[0;34m\u001b[0m\u001b[0m\n\u001b[1;32m    555\u001b[0m         \u001b[0;32melse\u001b[0m\u001b[0;34m:\u001b[0m\u001b[0;34m\u001b[0m\u001b[0;34m\u001b[0m\u001b[0m\n\u001b[0;32m--> 556\u001b[0;31m             \u001b[0;32mreturn\u001b[0m \u001b[0minner_predict\u001b[0m\u001b[0;34m(\u001b[0m\u001b[0mmat\u001b[0m\u001b[0;34m,\u001b[0m \u001b[0mnum_iteration\u001b[0m\u001b[0;34m,\u001b[0m \u001b[0mpredict_type\u001b[0m\u001b[0;34m)\u001b[0m\u001b[0;34m\u001b[0m\u001b[0;34m\u001b[0m\u001b[0m\n\u001b[0m\u001b[1;32m    557\u001b[0m \u001b[0;34m\u001b[0m\u001b[0m\n\u001b[1;32m    558\u001b[0m     \u001b[0;32mdef\u001b[0m \u001b[0m__pred_for_csr\u001b[0m\u001b[0;34m(\u001b[0m\u001b[0mself\u001b[0m\u001b[0;34m,\u001b[0m \u001b[0mcsr\u001b[0m\u001b[0;34m,\u001b[0m \u001b[0mnum_iteration\u001b[0m\u001b[0;34m,\u001b[0m \u001b[0mpredict_type\u001b[0m\u001b[0;34m)\u001b[0m\u001b[0;34m:\u001b[0m\u001b[0;34m\u001b[0m\u001b[0;34m\u001b[0m\u001b[0m\n",
      "\u001b[0;32m/usr/local/lib/python3.6/dist-packages/lightgbm/basic.py\u001b[0m in \u001b[0;36minner_predict\u001b[0;34m(mat, num_iteration, predict_type, preds)\u001b[0m\n\u001b[1;32m    517\u001b[0m             \u001b[0;32melse\u001b[0m\u001b[0;34m:\u001b[0m\u001b[0;34m\u001b[0m\u001b[0;34m\u001b[0m\u001b[0m\n\u001b[1;32m    518\u001b[0m                 \u001b[0;34m\"\"\"change non-float data to float data, need to copy\"\"\"\u001b[0m\u001b[0;34m\u001b[0m\u001b[0;34m\u001b[0m\u001b[0m\n\u001b[0;32m--> 519\u001b[0;31m                 \u001b[0mdata\u001b[0m \u001b[0;34m=\u001b[0m \u001b[0mnp\u001b[0m\u001b[0;34m.\u001b[0m\u001b[0marray\u001b[0m\u001b[0;34m(\u001b[0m\u001b[0mmat\u001b[0m\u001b[0;34m.\u001b[0m\u001b[0mreshape\u001b[0m\u001b[0;34m(\u001b[0m\u001b[0mmat\u001b[0m\u001b[0;34m.\u001b[0m\u001b[0msize\u001b[0m\u001b[0;34m)\u001b[0m\u001b[0;34m,\u001b[0m \u001b[0mdtype\u001b[0m\u001b[0;34m=\u001b[0m\u001b[0mnp\u001b[0m\u001b[0;34m.\u001b[0m\u001b[0mfloat32\u001b[0m\u001b[0;34m)\u001b[0m\u001b[0;34m\u001b[0m\u001b[0;34m\u001b[0m\u001b[0m\n\u001b[0m\u001b[1;32m    520\u001b[0m             \u001b[0mptr_data\u001b[0m\u001b[0;34m,\u001b[0m \u001b[0mtype_ptr_data\u001b[0m\u001b[0;34m,\u001b[0m \u001b[0m_\u001b[0m \u001b[0;34m=\u001b[0m \u001b[0mc_float_array\u001b[0m\u001b[0;34m(\u001b[0m\u001b[0mdata\u001b[0m\u001b[0;34m)\u001b[0m\u001b[0;34m\u001b[0m\u001b[0;34m\u001b[0m\u001b[0m\n\u001b[1;32m    521\u001b[0m             \u001b[0mn_preds\u001b[0m \u001b[0;34m=\u001b[0m \u001b[0mself\u001b[0m\u001b[0;34m.\u001b[0m\u001b[0m__get_num_preds\u001b[0m\u001b[0;34m(\u001b[0m\u001b[0mnum_iteration\u001b[0m\u001b[0;34m,\u001b[0m \u001b[0mmat\u001b[0m\u001b[0;34m.\u001b[0m\u001b[0mshape\u001b[0m\u001b[0;34m[\u001b[0m\u001b[0;36m0\u001b[0m\u001b[0;34m]\u001b[0m\u001b[0;34m,\u001b[0m \u001b[0mpredict_type\u001b[0m\u001b[0;34m)\u001b[0m\u001b[0;34m\u001b[0m\u001b[0;34m\u001b[0m\u001b[0m\n",
      "\u001b[0;31mValueError\u001b[0m: could not convert string to float: 'EMEA'"
     ]
    }
   ],
   "source": [
    "listaDeCategoricas = ['Region','Territory','Product_Type','Product_Category_B','Account_Type','Delivery_Quarter','Billing_Country']\n",
    "res = lightGBM(agrupacionEntrenamiento,entrenamientoResultado,listaDeCategoricas,agrupacionTesteo)\n",
    "res"
   ]
  },
  {
   "cell_type": "code",
   "execution_count": null,
   "metadata": {
    "colab": {
     "base_uri": "https://localhost:8080/"
    },
    "id": "jbSKn0N3339Z",
    "outputId": "e6d7bff5-9331-4f9f-f4d9-e7b37838ba7d"
   },
   "outputs": [
    {
     "data": {
      "text/plain": [
       "0                      0.95\n",
       "1                      0.21\n",
       "2                      0.92\n",
       "3                      0.80\n",
       "4                      0.02\n",
       "               ...         \n",
       "7827                   0.02\n",
       "7828                   0.90\n",
       "7829                   1.00\n",
       "7830                   0.06\n",
       "7831                   0.00\n",
       "Length: 7832, dtype: float64"
      ]
     },
     "execution_count": 63,
     "metadata": {
      "tags": []
     },
     "output_type": "execute_result"
    }
   ],
   "source": [
    "resultado = pd.Series(res)\n",
    "\n",
    "#ids = eval_data['Opportunity_ID'].values\n",
    "#resultado = pd.DataFrame({'Opportunity_ID': ids, 'target': resultado})\n",
    "#resultado = (resultado - 1) * (-1)#En las ultimas pruevas es el opuesto el que genera mejor resultado\n",
    "resultado"
   ]
  },
  {
   "cell_type": "code",
   "execution_count": null,
   "metadata": {
    "colab": {
     "base_uri": "https://localhost:8080/",
     "height": 238
    },
    "id": "oHGMiETH37st",
    "outputId": "286c2b34-01f4-4741-8427-1b80bc99ba23"
   },
   "outputs": [
    {
     "data": {
      "text/html": [
       "<div>\n",
       "<style scoped>\n",
       "    .dataframe tbody tr th:only-of-type {\n",
       "        vertical-align: middle;\n",
       "    }\n",
       "\n",
       "    .dataframe tbody tr th {\n",
       "        vertical-align: top;\n",
       "    }\n",
       "\n",
       "    .dataframe thead th {\n",
       "        text-align: right;\n",
       "    }\n",
       "</style>\n",
       "<table border=\"1\" class=\"dataframe\">\n",
       "  <thead>\n",
       "    <tr style=\"text-align: right;\">\n",
       "      <th></th>\n",
       "      <th>Target</th>\n",
       "    </tr>\n",
       "    <tr>\n",
       "      <th>Opportunity_ID</th>\n",
       "      <th></th>\n",
       "    </tr>\n",
       "  </thead>\n",
       "  <tbody>\n",
       "    <tr>\n",
       "      <th>10689</th>\n",
       "      <td>nan</td>\n",
       "    </tr>\n",
       "    <tr>\n",
       "      <th>10690</th>\n",
       "      <td>nan</td>\n",
       "    </tr>\n",
       "    <tr>\n",
       "      <th>10691</th>\n",
       "      <td>nan</td>\n",
       "    </tr>\n",
       "    <tr>\n",
       "      <th>10692</th>\n",
       "      <td>nan</td>\n",
       "    </tr>\n",
       "    <tr>\n",
       "      <th>10693</th>\n",
       "      <td>nan</td>\n",
       "    </tr>\n",
       "  </tbody>\n",
       "</table>\n",
       "</div>"
      ],
      "text/plain": [
       "                             Target\n",
       "Opportunity_ID                     \n",
       "10689                           nan\n",
       "10690                           nan\n",
       "10691                           nan\n",
       "10692                           nan\n",
       "10693                           nan"
      ]
     },
     "execution_count": 62,
     "metadata": {
      "tags": []
     },
     "output_type": "execute_result"
    }
   ],
   "source": [
    "dataResultante = generarResultado(agrupacionTesteo,resultado)\n",
    "dataResultante.head()"
   ]
  },
  {
   "cell_type": "markdown",
   "metadata": {
    "id": "MgACrmv2aNIz"
   },
   "source": [
    "## Ramdom forest"
   ]
  },
  {
   "cell_type": "markdown",
   "metadata": {
    "id": "fUJPG4lVu_9K"
   },
   "source": [
    "### bayesiano"
   ]
  },
  {
   "cell_type": "code",
   "execution_count": null,
   "metadata": {
    "id": "6OrprTgvvB96"
   },
   "outputs": [],
   "source": [
    "#Bayesian optimization\n",
    "def bayesian_optimization(dataset, function, parameters):\n",
    "   X_train, y_train, X_test, y_test = dataset\n",
    "   n_iterations = 10\n",
    "   gp_params = {\"alpha\": 1e-4}\n",
    "\n",
    "   BO = BayesianOptimization(function, parameters)\n",
    "   BO.maximize(n_iter=n_iterations, **gp_params)\n",
    "\n",
    "   return BO.max\n",
    "\n",
    "def rfc_optimization(cv_splits):\n",
    "    def function(n_estimators, oob_score, min_samples_split):\n",
    "        desacerse = ['Planned_Delivery_End_Date_anio','Planned_Delivery_End_Date_mes','Planned_Delivery_End_Date_dia','Last_Modified_Date_dia']\n",
    "        X_train = agrupacionEntrenamientoXGB.drop(desacerse,axis=1)\n",
    "        y_train = entrenamientoResultado\n",
    "        return cross_val_score(\n",
    "               RandomForestClassifier(\n",
    "                   n_estimators=int(max(n_estimators,0)),\n",
    "                   #max_depth=int(max(max_depth,1)),\n",
    "                   min_samples_split=int(max(min_samples_split,2)),\n",
    "                   n_jobs=-1,\n",
    "                   #random_state=42,\n",
    "                   oob_score=(max(oob_score,1)),\n",
    "                   bootstrap=True,\n",
    "                   #class_weight=\"balanced\"\n",
    "                   max_features='sqrt'\n",
    "                  ),\n",
    "               X=X_train, \n",
    "               y=y_train, \n",
    "               cv=cv_splits,\n",
    "               scoring=\"roc_auc\",\n",
    "               n_jobs=-1).mean()\n",
    "\n",
    "    parameters = {\"n_estimators\": (200, 1000),\n",
    "                  \"oob_score\": (5, 30),\n",
    "                  \"min_samples_split\": (2, 10)}\n",
    "    \n",
    "    return function, parameters\n",
    "\n",
    "#Train model\n",
    "def ramdomForestBayesiano(X_train, y_train, X_test, y_test):\n",
    "    dataset = (X_train, y_train, X_test, y_test)\n",
    "    cv_splits = 4\n",
    "\n",
    "    function, parameters = rfc_optimization(cv_splits)\n",
    "    \n",
    "    best_solution = bayesian_optimization(dataset, function, parameters)      \n",
    "    params = best_solution[\"params\"]\n",
    "\n",
    "    model = RandomForestClassifier(\n",
    "             n_estimators=int(max(params[\"n_estimators\"], 0)),\n",
    "             #max_depth=int(max(params[\"max_depth\"], 1)),\n",
    "             oob_score=(max('oob_score',1)),\n",
    "             min_samples_split=int(max(params[\"min_samples_split\"], 2)), \n",
    "             n_jobs=-1, \n",
    "             random_state=42,   \n",
    "             class_weight=\"balanced\")\n",
    "\n",
    "    model.fit(X_train, y_train)\n",
    "    predictions = model.predict_proba(X_test)\n",
    "    return predictions"
   ]
  },
  {
   "cell_type": "code",
   "execution_count": null,
   "metadata": {
    "colab": {
     "base_uri": "https://localhost:8080/",
     "height": 686
    },
    "id": "ECcWjKEuy13F",
    "outputId": "a3e46afb-2cb3-46f9-961c-685467092e71"
   },
   "outputs": [
    {
     "name": "stdout",
     "output_type": "stream",
     "text": [
      "|   iter    |  target   | min_sa... | n_esti... | oob_score |\n",
      "-------------------------------------------------------------\n",
      "| \u001b[0m 1       \u001b[0m | \u001b[0m 0.8754  \u001b[0m | \u001b[0m 5.516   \u001b[0m | \u001b[0m 919.3   \u001b[0m | \u001b[0m 16.95   \u001b[0m |\n",
      "| \u001b[0m 2       \u001b[0m | \u001b[0m 0.8742  \u001b[0m | \u001b[0m 5.209   \u001b[0m | \u001b[0m 219.3   \u001b[0m | \u001b[0m 13.67   \u001b[0m |\n",
      "| \u001b[0m 3       \u001b[0m | \u001b[0m 0.8752  \u001b[0m | \u001b[0m 4.422   \u001b[0m | \u001b[0m 555.0   \u001b[0m | \u001b[0m 16.9    \u001b[0m |\n",
      "| \u001b[0m 4       \u001b[0m | \u001b[0m 0.8752  \u001b[0m | \u001b[0m 8.854   \u001b[0m | \u001b[0m 393.1   \u001b[0m | \u001b[0m 24.81   \u001b[0m |\n",
      "| \u001b[95m 5       \u001b[0m | \u001b[95m 0.8755  \u001b[0m | \u001b[95m 6.257   \u001b[0m | \u001b[95m 571.6   \u001b[0m | \u001b[95m 14.75   \u001b[0m |\n",
      "| \u001b[0m 6       \u001b[0m | \u001b[0m 0.8748  \u001b[0m | \u001b[0m 8.591   \u001b[0m | \u001b[0m 1e+03   \u001b[0m | \u001b[0m 7.999   \u001b[0m |\n",
      "| \u001b[0m 7       \u001b[0m | \u001b[0m 0.8743  \u001b[0m | \u001b[0m 7.239   \u001b[0m | \u001b[0m 200.1   \u001b[0m | \u001b[0m 29.67   \u001b[0m |\n",
      "| \u001b[0m 8       \u001b[0m | \u001b[0m 0.8747  \u001b[0m | \u001b[0m 6.585   \u001b[0m | \u001b[0m 1e+03   \u001b[0m | \u001b[0m 25.98   \u001b[0m |\n",
      "| \u001b[0m 9       \u001b[0m | \u001b[0m 0.8753  \u001b[0m | \u001b[0m 4.613   \u001b[0m | \u001b[0m 999.8   \u001b[0m | \u001b[0m 29.7    \u001b[0m |\n",
      "| \u001b[0m 10      \u001b[0m | \u001b[0m 0.8729  \u001b[0m | \u001b[0m 7.116   \u001b[0m | \u001b[0m 200.1   \u001b[0m | \u001b[0m 29.46   \u001b[0m |\n",
      "| \u001b[0m 11      \u001b[0m | \u001b[0m 0.8752  \u001b[0m | \u001b[0m 3.324   \u001b[0m | \u001b[0m 999.8   \u001b[0m | \u001b[0m 14.0    \u001b[0m |\n",
      "| \u001b[0m 12      \u001b[0m | \u001b[0m 0.8735  \u001b[0m | \u001b[0m 7.286   \u001b[0m | \u001b[0m 200.1   \u001b[0m | \u001b[0m 5.075   \u001b[0m |\n",
      "| \u001b[0m 13      \u001b[0m | \u001b[0m 0.8751  \u001b[0m | \u001b[0m 8.459   \u001b[0m | \u001b[0m 999.9   \u001b[0m | \u001b[0m 26.34   \u001b[0m |\n",
      "| \u001b[0m 14      \u001b[0m | \u001b[0m 0.8732  \u001b[0m | \u001b[0m 6.593   \u001b[0m | \u001b[0m 200.1   \u001b[0m | \u001b[0m 9.143   \u001b[0m |\n",
      "| \u001b[95m 15      \u001b[0m | \u001b[95m 0.8756  \u001b[0m | \u001b[95m 9.036   \u001b[0m | \u001b[95m 999.9   \u001b[0m | \u001b[95m 7.227   \u001b[0m |\n",
      "=============================================================\n"
     ]
    },
    {
     "ename": "TypeError",
     "evalue": "ignored",
     "output_type": "error",
     "traceback": [
      "\u001b[0;31m---------------------------------------------------------------------------\u001b[0m",
      "\u001b[0;31mTypeError\u001b[0m                                 Traceback (most recent call last)",
      "\u001b[0;32m<ipython-input-64-7922d84f35e0>\u001b[0m in \u001b[0;36m<module>\u001b[0;34m()\u001b[0m\n\u001b[1;32m      4\u001b[0m                             \u001b[0mentrenamientoResultado\u001b[0m\u001b[0;34m,\u001b[0m\u001b[0;34m\u001b[0m\u001b[0;34m\u001b[0m\u001b[0m\n\u001b[1;32m      5\u001b[0m                             \u001b[0magrupacionTesteoXGB\u001b[0m\u001b[0;34m.\u001b[0m\u001b[0mdrop\u001b[0m\u001b[0;34m(\u001b[0m\u001b[0mdesacerse\u001b[0m\u001b[0;34m,\u001b[0m\u001b[0maxis\u001b[0m\u001b[0;34m=\u001b[0m\u001b[0;36m1\u001b[0m\u001b[0;34m)\u001b[0m\u001b[0;34m,\u001b[0m\u001b[0;34m\u001b[0m\u001b[0;34m\u001b[0m\u001b[0m\n\u001b[0;32m----> 6\u001b[0;31m                             supuestos[['TargetBinario']])\n\u001b[0m\u001b[1;32m      7\u001b[0m \u001b[0mres\u001b[0m\u001b[0;34m\u001b[0m\u001b[0;34m\u001b[0m\u001b[0m\n",
      "\u001b[0;32m<ipython-input-63-793ba7a3b1ee>\u001b[0m in \u001b[0;36mramdomForestBayesiano\u001b[0;34m(X_train, y_train, X_test, y_test)\u001b[0m\n\u001b[1;32m     52\u001b[0m              \u001b[0mn_estimators\u001b[0m\u001b[0;34m=\u001b[0m\u001b[0mint\u001b[0m\u001b[0;34m(\u001b[0m\u001b[0mmax\u001b[0m\u001b[0;34m(\u001b[0m\u001b[0mparams\u001b[0m\u001b[0;34m[\u001b[0m\u001b[0;34m\"n_estimators\"\u001b[0m\u001b[0;34m]\u001b[0m\u001b[0;34m,\u001b[0m \u001b[0;36m0\u001b[0m\u001b[0;34m)\u001b[0m\u001b[0;34m)\u001b[0m\u001b[0;34m,\u001b[0m\u001b[0;34m\u001b[0m\u001b[0;34m\u001b[0m\u001b[0m\n\u001b[1;32m     53\u001b[0m              \u001b[0;31m#max_depth=int(max(params[\"max_depth\"], 1)),\u001b[0m\u001b[0;34m\u001b[0m\u001b[0;34m\u001b[0m\u001b[0;34m\u001b[0m\u001b[0m\n\u001b[0;32m---> 54\u001b[0;31m              \u001b[0moob_score\u001b[0m\u001b[0;34m=\u001b[0m\u001b[0;34m(\u001b[0m\u001b[0mmax\u001b[0m\u001b[0;34m(\u001b[0m\u001b[0;34m'oob_score'\u001b[0m\u001b[0;34m,\u001b[0m\u001b[0;36m1\u001b[0m\u001b[0;34m)\u001b[0m\u001b[0;34m)\u001b[0m\u001b[0;34m,\u001b[0m\u001b[0;34m\u001b[0m\u001b[0;34m\u001b[0m\u001b[0m\n\u001b[0m\u001b[1;32m     55\u001b[0m              \u001b[0mmin_samples_split\u001b[0m\u001b[0;34m=\u001b[0m\u001b[0mint\u001b[0m\u001b[0;34m(\u001b[0m\u001b[0mmax\u001b[0m\u001b[0;34m(\u001b[0m\u001b[0mparams\u001b[0m\u001b[0;34m[\u001b[0m\u001b[0;34m\"min_samples_split\"\u001b[0m\u001b[0;34m]\u001b[0m\u001b[0;34m,\u001b[0m \u001b[0;36m2\u001b[0m\u001b[0;34m)\u001b[0m\u001b[0;34m)\u001b[0m\u001b[0;34m,\u001b[0m\u001b[0;34m\u001b[0m\u001b[0;34m\u001b[0m\u001b[0m\n\u001b[1;32m     56\u001b[0m              \u001b[0mn_jobs\u001b[0m\u001b[0;34m=\u001b[0m\u001b[0;34m-\u001b[0m\u001b[0;36m1\u001b[0m\u001b[0;34m,\u001b[0m\u001b[0;34m\u001b[0m\u001b[0;34m\u001b[0m\u001b[0m\n",
      "\u001b[0;31mTypeError\u001b[0m: '>' not supported between instances of 'int' and 'str'"
     ]
    }
   ],
   "source": [
    "#Uso los mismos valores de XGB para las variables categoricas ya que no las soporta\n",
    "desacerse = ['Planned_Delivery_End_Date_anio','Planned_Delivery_End_Date_mes','Planned_Delivery_End_Date_dia','Last_Modified_Date_dia']\n",
    "#comentado para evitar ejecucion erronea\n",
    "#res = ramdomForestBayesiano(agrupacionEntrenamientoXGB.drop(desacerse,axis=1),\n",
    "#                            entrenamientoResultado,\n",
    "#                            agrupacionTesteoXGB.drop(desacerse,axis=1),\n",
    "#                            supuestos[['TargetBinario']])\n",
    "#res"
   ]
  },
  {
   "cell_type": "markdown",
   "metadata": {
    "id": "h3pm9ZR5u-VS"
   },
   "source": [
    "### prediccion"
   ]
  },
  {
   "cell_type": "code",
   "execution_count": 89,
   "metadata": {
    "id": "YlUrE3BRaQQL"
   },
   "outputs": [],
   "source": [
    "def ramdomForest(train_data,train_labels,eval_data):\n",
    "  # Crear el modelo\n",
    "  #Si no se le coloca un valor de max depth lo toma por min_samples_leaf a la creacion de hojas\n",
    "  model = RandomForestClassifier(n_estimators=1000,\n",
    "                                 #max_features=5,\n",
    "                                 min_samples_leaf=9,\n",
    "                                 oob_score=9,#7\n",
    "                                 bootstrap=True,\n",
    "                                 verbose=0,\n",
    "                                 #max_leaf_nodes=20,\n",
    "                                 #min_weight_fraction_leaf=0.01,\n",
    "                                 max_features=4#7\n",
    "                                 )\n",
    "  #parametros importantes\n",
    "  #  n_estimators: será la cantidad de árboles que generaremos.\n",
    "  #  max_features: la manera de seleccionar la cantidad máxima de features para cada árbol.\n",
    "  #  min_sample_leaf: número mínimo de elementos en las hojas para permitir un nuevo split (división) del nodo.\n",
    "  #  oob_score: es un método que emula el cross-validation en árboles y permite mejorar la precisión y evitar overfitting.\n",
    "  #  boostrap: para utilizar diversos tamaños de muestras para entrenar. Si se pone en falso, utilizará siempre el dataset completo.\n",
    "  #  n_jobs: si tienes multiples cores en tu CPU, puedes indicar cuantos puede usar el modelo al entrenar para acelerar el entrenamiento.\n",
    "  # a entrenar!\n",
    "  model.fit(train_data, train_labels)\n",
    "  predictions = model.predict_proba(eval_data)\n",
    "  return predictions\n",
    "  "
   ]
  },
  {
   "cell_type": "code",
   "execution_count": 121,
   "metadata": {
    "colab": {
     "base_uri": "https://localhost:8080/"
    },
    "id": "hTbwSHLIHgCw",
    "outputId": "d1713e7d-b4db-4aa1-de23-4a42ff352370"
   },
   "outputs": [
    {
     "name": "stdout",
     "output_type": "stream",
     "text": [
      "0\n"
     ]
    }
   ],
   "source": [
    "#Uso los mismos valores de XGB para las variables categoricas ya que no las soporta\n",
    "desacerse = ['Planned_Delivery_End_Date_anio','Planned_Delivery_End_Date_mes',\n",
    "             'Planned_Delivery_End_Date_dia','Last_Modified_Date_dia']\n",
    "agrupacionEntrenamientoRF = agrupacionEntrenamientoXGB.drop(desacerse,axis=1)\n",
    "agrupacionTesteoRF = agrupacionTesteoXGB.drop(desacerse,axis=1)\n",
    "#agrupacionTesteoRF = agrupacionTesteoXGB.drop(['Target'],axis=1)\n",
    "print(len(agrupacionEntrenamientoRF.columns) - len(agrupacionTesteoRF.columns))"
   ]
  },
  {
   "cell_type": "code",
   "execution_count": 122,
   "metadata": {
    "colab": {
     "base_uri": "https://localhost:8080/"
    },
    "id": "bTRkXyDHt6XU",
    "outputId": "393acf76-192d-478a-eabc-1ba4cd3b8cbb"
   },
   "outputs": [
    {
     "data": {
      "text/plain": [
       "array([[0.32836519, 0.67163481],\n",
       "       [0.37392475, 0.62607525],\n",
       "       [0.46712626, 0.53287374],\n",
       "       ...,\n",
       "       [0.55397058, 0.44602942],\n",
       "       [0.41578068, 0.58421932],\n",
       "       [0.70037063, 0.29962937]])"
      ]
     },
     "execution_count": 122,
     "metadata": {
      "tags": []
     },
     "output_type": "execute_result"
    }
   ],
   "source": [
    "res = ramdomForest(agrupacionEntrenamientoRF,\n",
    "                   entrenamientoResultado,\n",
    "                   agrupacionTesteoRF)\n",
    "res"
   ]
  },
  {
   "cell_type": "code",
   "execution_count": 123,
   "metadata": {
    "colab": {
     "base_uri": "https://localhost:8080/"
    },
    "id": "CB1dArfLt6aS",
    "outputId": "9b064073-2dd5-4039-e0e1-1ec1f6a84ace"
   },
   "outputs": [
    {
     "data": {
      "text/plain": [
       "array([0.67163481, 0.62607525, 0.53287374, ..., 0.44602942, 0.58421932,\n",
       "       0.29962937])"
      ]
     },
     "execution_count": 123,
     "metadata": {
      "tags": []
     },
     "output_type": "execute_result"
    }
   ],
   "source": [
    "resultado = auxiliarUnificarValor(res)\n",
    "resultado = (resultado - 1) * (-1)#En las ultimas pruevas es el opuesto el que genera mejor resultado\n",
    "resultado"
   ]
  },
  {
   "cell_type": "code",
   "execution_count": 124,
   "metadata": {
    "colab": {
     "base_uri": "https://localhost:8080/",
     "height": 238
    },
    "id": "xrH7YJ87t8QJ",
    "outputId": "043a938c-2cc9-4eac-a582-df1ad2c3af2c"
   },
   "outputs": [
    {
     "data": {
      "text/html": [
       "<div>\n",
       "<style scoped>\n",
       "    .dataframe tbody tr th:only-of-type {\n",
       "        vertical-align: middle;\n",
       "    }\n",
       "\n",
       "    .dataframe tbody tr th {\n",
       "        vertical-align: top;\n",
       "    }\n",
       "\n",
       "    .dataframe thead th {\n",
       "        text-align: right;\n",
       "    }\n",
       "</style>\n",
       "<table border=\"1\" class=\"dataframe\">\n",
       "  <thead>\n",
       "    <tr style=\"text-align: right;\">\n",
       "      <th></th>\n",
       "      <th>Target</th>\n",
       "    </tr>\n",
       "    <tr>\n",
       "      <th>Opportunity_ID</th>\n",
       "      <th></th>\n",
       "    </tr>\n",
       "  </thead>\n",
       "  <tbody>\n",
       "    <tr>\n",
       "      <th>10689</th>\n",
       "      <td>0.67</td>\n",
       "    </tr>\n",
       "    <tr>\n",
       "      <th>10690</th>\n",
       "      <td>0.63</td>\n",
       "    </tr>\n",
       "    <tr>\n",
       "      <th>10691</th>\n",
       "      <td>0.53</td>\n",
       "    </tr>\n",
       "    <tr>\n",
       "      <th>10692</th>\n",
       "      <td>0.44</td>\n",
       "    </tr>\n",
       "    <tr>\n",
       "      <th>10693</th>\n",
       "      <td>0.75</td>\n",
       "    </tr>\n",
       "  </tbody>\n",
       "</table>\n",
       "</div>"
      ],
      "text/plain": [
       "                             Target\n",
       "Opportunity_ID                     \n",
       "10689                          0.67\n",
       "10690                          0.63\n",
       "10691                          0.53\n",
       "10692                          0.44\n",
       "10693                          0.75"
      ]
     },
     "execution_count": 124,
     "metadata": {
      "tags": []
     },
     "output_type": "execute_result"
    }
   ],
   "source": [
    "dataResultante = generarResultado(agrupacionTesteo,resultado)\n",
    "dataResultante.head()"
   ]
  },
  {
   "cell_type": "markdown",
   "metadata": {
    "id": "mvlnUVJqzO-5"
   },
   "source": [
    "## Perceptron"
   ]
  },
  {
   "cell_type": "code",
   "execution_count": null,
   "metadata": {
    "id": "zvIHumigzlsc"
   },
   "outputs": [],
   "source": [
    "for header in cat_features:\n",
    "    agrupacionEntrenamiento[header] = agrupacionEntrenamiento[header].astype('category').cat.codes"
   ]
  },
  {
   "cell_type": "code",
   "execution_count": null,
   "metadata": {
    "id": "1eOVbSR7zmnL"
   },
   "outputs": [],
   "source": [
    "def perceptron(train_set, train_label, listaDeCategoricas, test_set):\n",
    "  perceptron_mod = Perceptron(tol=1e-3, random_state=0)\n",
    "  for header in listaDeCategoricas:\n",
    "    train_set[header] = train_set[header].astype('category').cat.codes\n",
    "  \n",
    "  for header in listaDeCategoricas:\n",
    "    test_set[header] = test_set[header].astype('category').cat.codes\n",
    "  perceptron_mod.fit(train_set, train_label)\n",
    "    \n",
    "  predicts = perceptron_mod.predict(test_set)\n",
    "  return predicts\n"
   ]
  },
  {
   "cell_type": "code",
   "execution_count": null,
   "metadata": {
    "id": "O9K3dI-vzuHb"
   },
   "outputs": [],
   "source": [
    "desacerse = ['Planned_Delivery_End_Date_anio','Planned_Delivery_End_Date_mes','Planned_Delivery_End_Date_dia','Last_Modified_Date_dia']\n",
    "agrupacionEntrenamientoPerceptron = agrupacionEntrenamiento.drop(desacerse,axis=1)\n",
    "agrupacionTesteoPerceptron = agrupacionTesteo.drop(desacerse,axis=1)"
   ]
  },
  {
   "cell_type": "code",
   "execution_count": null,
   "metadata": {
    "colab": {
     "base_uri": "https://localhost:8080/"
    },
    "id": "jMb10qyVzz3K",
    "outputId": "fa281060-d356-4731-9c23-f7193e1b8884"
   },
   "outputs": [
    {
     "data": {
      "text/plain": [
       "array([0, 0, 1, ..., 1, 1, 1])"
      ]
     },
     "execution_count": 41,
     "metadata": {
      "tags": []
     },
     "output_type": "execute_result"
    }
   ],
   "source": [
    "listaDeCategoricas = ['Region',\n",
    "                      'Territory', \n",
    "                      'Product_Family', \n",
    "                      'Delivery_Terms', \n",
    "                      'Product_Type',\n",
    "                      'Product_Category_B',\n",
    "                      'Account_Type',\n",
    "                      'Delivery_Quarter',\n",
    "                      'Billing_Country',\n",
    "                      'ASP_(converted)_Currency']\n",
    "resPerceptron = perceptron(agrupacionEntrenamientoPerceptron, entrenamientoResultado, listaDeCategoricas, agrupacionTesteoPerceptron)\n",
    "resPerceptron"
   ]
  },
  {
   "cell_type": "code",
   "execution_count": null,
   "metadata": {
    "colab": {
     "base_uri": "https://localhost:8080/",
     "height": 238
    },
    "id": "CyiWlGzlz26x",
    "outputId": "8f1158a9-e57e-4328-82a1-3329bca993ba"
   },
   "outputs": [
    {
     "data": {
      "text/html": [
       "<div>\n",
       "<style scoped>\n",
       "    .dataframe tbody tr th:only-of-type {\n",
       "        vertical-align: middle;\n",
       "    }\n",
       "\n",
       "    .dataframe tbody tr th {\n",
       "        vertical-align: top;\n",
       "    }\n",
       "\n",
       "    .dataframe thead th {\n",
       "        text-align: right;\n",
       "    }\n",
       "</style>\n",
       "<table border=\"1\" class=\"dataframe\">\n",
       "  <thead>\n",
       "    <tr style=\"text-align: right;\">\n",
       "      <th></th>\n",
       "      <th>Target</th>\n",
       "    </tr>\n",
       "    <tr>\n",
       "      <th>Opportunity_ID</th>\n",
       "      <th></th>\n",
       "    </tr>\n",
       "  </thead>\n",
       "  <tbody>\n",
       "    <tr>\n",
       "      <th>10689</th>\n",
       "      <td>0</td>\n",
       "    </tr>\n",
       "    <tr>\n",
       "      <th>10690</th>\n",
       "      <td>0</td>\n",
       "    </tr>\n",
       "    <tr>\n",
       "      <th>10691</th>\n",
       "      <td>1</td>\n",
       "    </tr>\n",
       "    <tr>\n",
       "      <th>10692</th>\n",
       "      <td>0</td>\n",
       "    </tr>\n",
       "    <tr>\n",
       "      <th>10693</th>\n",
       "      <td>1</td>\n",
       "    </tr>\n",
       "  </tbody>\n",
       "</table>\n",
       "</div>"
      ],
      "text/plain": [
       "                Target\n",
       "Opportunity_ID        \n",
       "10689                0\n",
       "10690                0\n",
       "10691                1\n",
       "10692                0\n",
       "10693                1"
      ]
     },
     "execution_count": 42,
     "metadata": {
      "tags": []
     },
     "output_type": "execute_result"
    }
   ],
   "source": [
    "dataResultante = generarResultado(agrupacionTesteo,resPerceptron)\n",
    "dataResultante.head()"
   ]
  },
  {
   "cell_type": "markdown",
   "metadata": {},
   "source": [
    "## Multilayer Perceptron"
   ]
  },
  {
   "cell_type": "code",
   "execution_count": null,
   "metadata": {},
   "outputs": [],
   "source": [
    "from sklearn.neural_network import MLPRegressor"
   ]
  },
  {
   "cell_type": "code",
   "execution_count": null,
   "metadata": {},
   "outputs": [],
   "source": [
    "def multiLayerPerceptron(train_set, train_label, listaDeCategoricas, test_set):\n",
    "    multi_perceptron_mod = MLPRegressor(solver='lbfgs', hidden_layer_sizes=500,\n",
    "                           max_iter=100000, shuffle=False, random_state=9876,\n",
    "                           activation='relu')\n",
    "    \n",
    "    for header in listaDeCategoricas:\n",
    "        train_set[header] = train_set[header].astype('category').cat.codes\n",
    "  \n",
    "    for header in listaDeCategoricas:\n",
    "        test_set[header] = test_set[header].astype('category').cat.codes\n",
    "    \n",
    "    multi_perceptron_mod.fit(train_set, train_label)\n",
    "    multi_perceptron_mod.out_activation_ = 'logistic'\n",
    "    predicts = multi_perceptron_mod.predict(test_set)\n",
    "    \n",
    "    return predicts"
   ]
  },
  {
   "cell_type": "code",
   "execution_count": null,
   "metadata": {},
   "outputs": [],
   "source": [
    "desacerse = ['Planned_Delivery_End_Date_anio','Planned_Delivery_End_Date_mes','Planned_Delivery_End_Date_dia','Last_Modified_Date_dia']\n",
    "agrupacionEntrenamientoPerceptron = agrupacionEntrenamiento.drop(desacerse,axis=1)\n",
    "agrupacionTesteoPerceptron = agrupacionTesteo.drop(desacerse,axis=1)"
   ]
  },
  {
   "cell_type": "code",
   "execution_count": null,
   "metadata": {},
   "outputs": [],
   "source": [
    "listaDeCategoricas = ['Region',\n",
    "                      'Territory', \n",
    "                      'Product_Family', \n",
    "                      'Delivery_Terms', \n",
    "                      'Product_Type',\n",
    "                      'Product_Category_B',\n",
    "                      'Account_Type',\n",
    "                      'Delivery_Quarter',\n",
    "                      'Billing_Country']\n",
    "resMultiPerceptron = multiLayerPerceptron(agrupacionEntrenamientoPerceptron, entrenamientoResultado, listaDeCategoricas, agrupacionTesteoPerceptron)"
   ]
  },
  {
   "cell_type": "code",
   "execution_count": null,
   "metadata": {},
   "outputs": [],
   "source": [
    "#Fixed result\n",
    "resMultiPerceptron = (resMultiPerceptron - 1) * (-1)\n",
    "resMultiPerceptron"
   ]
  },
  {
   "cell_type": "code",
   "execution_count": null,
   "metadata": {},
   "outputs": [],
   "source": [
    "dataResultante = generarResultado(agrupacionTesteo,resMultiPerceptron)"
   ]
  }
 ],
 "metadata": {
  "colab": {
   "collapsed_sections": [
    "5NvRrhUOrEpv",
    "xKefRXXOFaXI",
    "9ewHMS-ygNPS",
    "O5HEIBMXmxps",
    "lP_c0s_PgPKn",
    "YjCt76D_rHMn",
    "GJYpToCYrfnk",
    "hyRdoRPf5wSN",
    "knmx6tPo01QZ",
    "q8JeolJN08kJ",
    "1xfzMbqiZrue",
    "zVBNOzCKY0VD",
    "J983upopKwQx",
    "I-rXEcxr-Nns",
    "eXu5RWvjWtP-",
    "onKsrVr1lwas",
    "baxdAoAzfwxz",
    "MgACrmv2aNIz",
    "fUJPG4lVu_9K",
    "mvlnUVJqzO-5"
   ],
   "name": "TP2 2c 2020.ipynb",
   "provenance": [],
   "toc_visible": true
  },
  "kernelspec": {
   "display_name": "Python 3",
   "language": "python",
   "name": "python3"
  },
  "language_info": {
   "codemirror_mode": {
    "name": "ipython",
    "version": 3
   },
   "file_extension": ".py",
   "mimetype": "text/x-python",
   "name": "python",
   "nbconvert_exporter": "python",
   "pygments_lexer": "ipython3",
   "version": "3.9.0"
  }
 },
 "nbformat": 4,
 "nbformat_minor": 1
}
