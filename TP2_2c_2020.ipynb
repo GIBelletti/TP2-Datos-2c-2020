{
  "nbformat": 4,
  "nbformat_minor": 0,
  "metadata": {
    "colab": {
      "name": "TP2 2c 2020.ipynb",
      "provenance": [],
      "collapsed_sections": [
        "5NvRrhUOrEpv",
        "xKefRXXOFaXI",
        "9ewHMS-ygNPS",
        "O5HEIBMXmxps",
        "lP_c0s_PgPKn",
        "YjCt76D_rHMn",
        "GJYpToCYrfnk",
        "hyRdoRPf5wSN",
        "knmx6tPo01QZ",
        "q8JeolJN08kJ",
        "1xfzMbqiZrue",
        "MtY8vcczJZDx",
        "zVBNOzCKY0VD",
        "J983upopKwQx",
        "I-rXEcxr-Nns",
        "eXu5RWvjWtP-",
        "onKsrVr1lwas",
        "baxdAoAzfwxz",
        "fUJPG4lVu_9K"
      ],
      "toc_visible": true
    },
    "kernelspec": {
      "display_name": "Python 3",
      "name": "python3"
    }
  },
  "cells": [
    {
      "cell_type": "markdown",
      "metadata": {
        "id": "LaZMud-2rKuY"
      },
      "source": [
        "# TP 2"
      ]
    },
    {
      "cell_type": "markdown",
      "metadata": {
        "id": "5NvRrhUOrEpv"
      },
      "source": [
        "## Imports"
      ]
    },
    {
      "cell_type": "markdown",
      "metadata": {
        "id": "xKefRXXOFaXI"
      },
      "source": [
        "### imports base"
      ]
    },
    {
      "cell_type": "code",
      "metadata": {
        "id": "ksz2M8HorAfb"
      },
      "source": [
        "import pandas as pd\r\n",
        "import numpy as np\r\n",
        "import matplotlib.pyplot as plt\r\n",
        "import seaborn as sns\r\n",
        "import plotly.graph_objects as go\r\n",
        "import matplotlib\r\n",
        "import plotly as py\r\n",
        "import plotly.express as px \r\n",
        "import matplotlib.ticker as ticker\r\n",
        "plt.style.use('default')\r\n",
        "import plotly.offline as opy\r\n",
        "import plotly.figure_factory as ff\r\n",
        "import plotly.io as pio\r\n",
        "from wordcloud import WordCloud\r\n",
        "from datetime import datetime\r\n",
        "from datetime import timedelta\r\n",
        "\r\n",
        "import math\r\n",
        "\r\n",
        "sns.set(style=\"whitegrid\")\r\n",
        "\r\n",
        "pd.options.display.float_format = '{:20,.2f}'.format \r\n",
        "\r\n",
        "import warnings\r\n",
        "warnings.filterwarnings('ignore')"
      ],
      "execution_count": null,
      "outputs": []
    },
    {
      "cell_type": "code",
      "metadata": {
        "id": "FXsLMcASl6Nj"
      },
      "source": [
        "from sklearn.datasets import make_classification\r\n",
        "from sklearn.model_selection import cross_val_score\r\n",
        "from sklearn.model_selection import RepeatedStratifiedKFold\r\n",
        "\r\n",
        "from sklearn.preprocessing import LabelEncoder\r\n",
        "from sklearn.metrics import make_scorer, accuracy_score\r\n",
        "from sklearn.model_selection import train_test_split, GridSearchCV\r\n",
        "\r\n",
        "from sklearn.preprocessing import LabelBinarizer\r\n",
        "from sklearn.preprocessing import OneHotEncoder\r\n",
        "from sklearn.preprocessing import MultiLabelBinarizer\r\n",
        "\r\n",
        "from sklearn.metrics import log_loss"
      ],
      "execution_count": null,
      "outputs": []
    },
    {
      "cell_type": "code",
      "metadata": {
        "colab": {
          "base_uri": "https://localhost:8080/"
        },
        "id": "IIqx2rkhPyQc",
        "outputId": "5c95018a-03fc-4db6-cb59-bdf749828ccd"
      },
      "source": [
        "!pip3 install category_encoders"
      ],
      "execution_count": null,
      "outputs": [
        {
          "output_type": "stream",
          "text": [
            "Collecting category_encoders\n",
            "\u001b[?25l  Downloading https://files.pythonhosted.org/packages/44/57/fcef41c248701ee62e8325026b90c432adea35555cbc870aff9cfba23727/category_encoders-2.2.2-py2.py3-none-any.whl (80kB)\n",
            "\r\u001b[K     |████                            | 10kB 19.0MB/s eta 0:00:01\r\u001b[K     |████████▏                       | 20kB 13.9MB/s eta 0:00:01\r\u001b[K     |████████████▏                   | 30kB 16.8MB/s eta 0:00:01\r\u001b[K     |████████████████▎               | 40kB 12.8MB/s eta 0:00:01\r\u001b[K     |████████████████████▎           | 51kB 14.5MB/s eta 0:00:01\r\u001b[K     |████████████████████████▍       | 61kB 14.8MB/s eta 0:00:01\r\u001b[K     |████████████████████████████▍   | 71kB 13.2MB/s eta 0:00:01\r\u001b[K     |████████████████████████████████| 81kB 5.0MB/s \n",
            "\u001b[?25hRequirement already satisfied: statsmodels>=0.9.0 in /usr/local/lib/python3.6/dist-packages (from category_encoders) (0.10.2)\n",
            "Requirement already satisfied: scipy>=1.0.0 in /usr/local/lib/python3.6/dist-packages (from category_encoders) (1.4.1)\n",
            "Requirement already satisfied: scikit-learn>=0.20.0 in /usr/local/lib/python3.6/dist-packages (from category_encoders) (0.22.2.post1)\n",
            "Requirement already satisfied: numpy>=1.14.0 in /usr/local/lib/python3.6/dist-packages (from category_encoders) (1.19.5)\n",
            "Requirement already satisfied: pandas>=0.21.1 in /usr/local/lib/python3.6/dist-packages (from category_encoders) (1.1.5)\n",
            "Requirement already satisfied: patsy>=0.5.1 in /usr/local/lib/python3.6/dist-packages (from category_encoders) (0.5.1)\n",
            "Requirement already satisfied: joblib>=0.11 in /usr/local/lib/python3.6/dist-packages (from scikit-learn>=0.20.0->category_encoders) (1.0.0)\n",
            "Requirement already satisfied: python-dateutil>=2.7.3 in /usr/local/lib/python3.6/dist-packages (from pandas>=0.21.1->category_encoders) (2.8.1)\n",
            "Requirement already satisfied: pytz>=2017.2 in /usr/local/lib/python3.6/dist-packages (from pandas>=0.21.1->category_encoders) (2018.9)\n",
            "Requirement already satisfied: six in /usr/local/lib/python3.6/dist-packages (from patsy>=0.5.1->category_encoders) (1.15.0)\n",
            "Installing collected packages: category-encoders\n",
            "Successfully installed category-encoders-2.2.2\n"
          ],
          "name": "stdout"
        }
      ]
    },
    {
      "cell_type": "code",
      "metadata": {
        "id": "hnkHcErvPxSA"
      },
      "source": [
        "import category_encoders as ce"
      ],
      "execution_count": null,
      "outputs": []
    },
    {
      "cell_type": "code",
      "metadata": {
        "colab": {
          "base_uri": "https://localhost:8080/"
        },
        "id": "lsdRoO9XWT6i",
        "outputId": "d8e3698e-9575-4556-8b3d-0680ce8ab9e4"
      },
      "source": [
        "!pip3 install bayesian-optimization"
      ],
      "execution_count": null,
      "outputs": [
        {
          "output_type": "stream",
          "text": [
            "Collecting bayesian-optimization\n",
            "  Downloading https://files.pythonhosted.org/packages/bb/7a/fd8059a3881d3ab37ac8f72f56b73937a14e8bb14a9733e68cc8b17dbe3c/bayesian-optimization-1.2.0.tar.gz\n",
            "Requirement already satisfied: numpy>=1.9.0 in /usr/local/lib/python3.6/dist-packages (from bayesian-optimization) (1.19.5)\n",
            "Requirement already satisfied: scipy>=0.14.0 in /usr/local/lib/python3.6/dist-packages (from bayesian-optimization) (1.4.1)\n",
            "Requirement already satisfied: scikit-learn>=0.18.0 in /usr/local/lib/python3.6/dist-packages (from bayesian-optimization) (0.22.2.post1)\n",
            "Requirement already satisfied: joblib>=0.11 in /usr/local/lib/python3.6/dist-packages (from scikit-learn>=0.18.0->bayesian-optimization) (1.0.0)\n",
            "Building wheels for collected packages: bayesian-optimization\n",
            "  Building wheel for bayesian-optimization (setup.py) ... \u001b[?25l\u001b[?25hdone\n",
            "  Created wheel for bayesian-optimization: filename=bayesian_optimization-1.2.0-cp36-none-any.whl size=11685 sha256=a2424395d2a8ca1ae0f3dc6fae1d06fdcbf791737e419698ddcbb61b27848a64\n",
            "  Stored in directory: /root/.cache/pip/wheels/5a/56/ae/e0e3c1fc1954dc3ec712e2df547235ed072b448094d8f94aec\n",
            "Successfully built bayesian-optimization\n",
            "Installing collected packages: bayesian-optimization\n",
            "Successfully installed bayesian-optimization-1.2.0\n"
          ],
          "name": "stdout"
        }
      ]
    },
    {
      "cell_type": "code",
      "metadata": {
        "id": "7M6WrwvaWVeP"
      },
      "source": [
        "from bayes_opt import BayesianOptimization"
      ],
      "execution_count": null,
      "outputs": []
    },
    {
      "cell_type": "markdown",
      "metadata": {
        "id": "9ewHMS-ygNPS"
      },
      "source": [
        "### catboost"
      ]
    },
    {
      "cell_type": "code",
      "metadata": {
        "colab": {
          "base_uri": "https://localhost:8080/"
        },
        "id": "cpEGbEgDKgny",
        "outputId": "79097e94-a2b2-4078-c5e8-1a822112e9d9"
      },
      "source": [
        "#Ejecutar si no funciona el import\r\n",
        "!pip3 install catboost"
      ],
      "execution_count": null,
      "outputs": [
        {
          "output_type": "stream",
          "text": [
            "Collecting catboost\n",
            "\u001b[?25l  Downloading https://files.pythonhosted.org/packages/20/37/bc4e0ddc30c07a96482abf1de7ed1ca54e59bba2026a33bca6d2ef286e5b/catboost-0.24.4-cp36-none-manylinux1_x86_64.whl (65.7MB)\n",
            "\u001b[K     |████████████████████████████████| 65.8MB 62kB/s \n",
            "\u001b[?25hRequirement already satisfied: scipy in /usr/local/lib/python3.6/dist-packages (from catboost) (1.4.1)\n",
            "Requirement already satisfied: numpy>=1.16.0 in /usr/local/lib/python3.6/dist-packages (from catboost) (1.19.5)\n",
            "Requirement already satisfied: pandas>=0.24.0 in /usr/local/lib/python3.6/dist-packages (from catboost) (1.1.5)\n",
            "Requirement already satisfied: matplotlib in /usr/local/lib/python3.6/dist-packages (from catboost) (3.2.2)\n",
            "Requirement already satisfied: graphviz in /usr/local/lib/python3.6/dist-packages (from catboost) (0.10.1)\n",
            "Requirement already satisfied: plotly in /usr/local/lib/python3.6/dist-packages (from catboost) (4.4.1)\n",
            "Requirement already satisfied: six in /usr/local/lib/python3.6/dist-packages (from catboost) (1.15.0)\n",
            "Requirement already satisfied: pytz>=2017.2 in /usr/local/lib/python3.6/dist-packages (from pandas>=0.24.0->catboost) (2018.9)\n",
            "Requirement already satisfied: python-dateutil>=2.7.3 in /usr/local/lib/python3.6/dist-packages (from pandas>=0.24.0->catboost) (2.8.1)\n",
            "Requirement already satisfied: pyparsing!=2.0.4,!=2.1.2,!=2.1.6,>=2.0.1 in /usr/local/lib/python3.6/dist-packages (from matplotlib->catboost) (2.4.7)\n",
            "Requirement already satisfied: cycler>=0.10 in /usr/local/lib/python3.6/dist-packages (from matplotlib->catboost) (0.10.0)\n",
            "Requirement already satisfied: kiwisolver>=1.0.1 in /usr/local/lib/python3.6/dist-packages (from matplotlib->catboost) (1.3.1)\n",
            "Requirement already satisfied: retrying>=1.3.3 in /usr/local/lib/python3.6/dist-packages (from plotly->catboost) (1.3.3)\n",
            "Installing collected packages: catboost\n",
            "Successfully installed catboost-0.24.4\n"
          ],
          "name": "stdout"
        }
      ]
    },
    {
      "cell_type": "code",
      "metadata": {
        "id": "g-eobQ2dKOwu"
      },
      "source": [
        "from catboost import CatBoostClassifier, Pool, cv"
      ],
      "execution_count": null,
      "outputs": []
    },
    {
      "cell_type": "markdown",
      "metadata": {
        "id": "O5HEIBMXmxps"
      },
      "source": [
        "### xgboost"
      ]
    },
    {
      "cell_type": "code",
      "metadata": {
        "colab": {
          "base_uri": "https://localhost:8080/"
        },
        "id": "FJbpcCs5m0E8",
        "outputId": "1c8d65f9-36cb-487b-f233-ad58806b2da6"
      },
      "source": [
        "!pip3 install xgboost"
      ],
      "execution_count": null,
      "outputs": [
        {
          "output_type": "stream",
          "text": [
            "Requirement already satisfied: xgboost in /usr/local/lib/python3.6/dist-packages (0.90)\n",
            "Requirement already satisfied: scipy in /usr/local/lib/python3.6/dist-packages (from xgboost) (1.4.1)\n",
            "Requirement already satisfied: numpy in /usr/local/lib/python3.6/dist-packages (from xgboost) (1.19.5)\n"
          ],
          "name": "stdout"
        }
      ]
    },
    {
      "cell_type": "code",
      "metadata": {
        "id": "MNXqp5z4nOOD"
      },
      "source": [
        "import xgboost as xgb"
      ],
      "execution_count": null,
      "outputs": []
    },
    {
      "cell_type": "markdown",
      "metadata": {
        "id": "lP_c0s_PgPKn"
      },
      "source": [
        "### lightgbm"
      ]
    },
    {
      "cell_type": "code",
      "metadata": {
        "colab": {
          "base_uri": "https://localhost:8080/"
        },
        "id": "vaGQFz-MgCbh",
        "outputId": "e37d34a4-d95a-4232-d1ad-a9bd9a87bb60"
      },
      "source": [
        "!pip3 install lightgbm"
      ],
      "execution_count": null,
      "outputs": [
        {
          "output_type": "stream",
          "text": [
            "Requirement already satisfied: lightgbm in /usr/local/lib/python3.6/dist-packages (2.2.3)\n",
            "Requirement already satisfied: scipy in /usr/local/lib/python3.6/dist-packages (from lightgbm) (1.4.1)\n",
            "Requirement already satisfied: scikit-learn in /usr/local/lib/python3.6/dist-packages (from lightgbm) (0.22.2.post1)\n",
            "Requirement already satisfied: numpy in /usr/local/lib/python3.6/dist-packages (from lightgbm) (1.19.5)\n",
            "Requirement already satisfied: joblib>=0.11 in /usr/local/lib/python3.6/dist-packages (from scikit-learn->lightgbm) (1.0.0)\n"
          ],
          "name": "stdout"
        }
      ]
    },
    {
      "cell_type": "code",
      "metadata": {
        "id": "NDBZ9QETgLFz"
      },
      "source": [
        "import lightgbm as lgb\r\n",
        "#from lightgbm import LGBMClassifier"
      ],
      "execution_count": null,
      "outputs": []
    },
    {
      "cell_type": "markdown",
      "metadata": {
        "id": "qB5aPacbW0b9"
      },
      "source": [
        "### ramdom forest"
      ]
    },
    {
      "cell_type": "code",
      "metadata": {
        "id": "khyk5Vq_Wzfi"
      },
      "source": [
        "from sklearn.ensemble import RandomForestClassifier"
      ],
      "execution_count": null,
      "outputs": []
    },
    {
      "cell_type": "markdown",
      "metadata": {
        "id": "YjCt76D_rHMn"
      },
      "source": [
        "## lectura de datos"
      ]
    },
    {
      "cell_type": "code",
      "metadata": {
        "colab": {
          "base_uri": "https://localhost:8080/"
        },
        "id": "2MXb46VjrCnX",
        "outputId": "dbc4b2d2-0af1-4e29-b452-e33e94d9a5de"
      },
      "source": [
        "entrenamiento = pd.read_csv('Training.csv')\r\n",
        "entrenamiento.info()"
      ],
      "execution_count": null,
      "outputs": [
        {
          "output_type": "stream",
          "text": [
            "<class 'pandas.core.frame.DataFrame'>\n",
            "RangeIndex: 16947 entries, 0 to 16946\n",
            "Data columns (total 52 columns):\n",
            " #   Column                              Non-Null Count  Dtype  \n",
            "---  ------                              --------------  -----  \n",
            " 0   ID                                  16947 non-null  int64  \n",
            " 1   Region                              16947 non-null  object \n",
            " 2   Territory                           16947 non-null  object \n",
            " 3   Pricing, Delivery_Terms_Quote_Appr  16947 non-null  int64  \n",
            " 4   Pricing, Delivery_Terms_Approved    16947 non-null  int64  \n",
            " 5   Bureaucratic_Code_0_Approval        16947 non-null  int64  \n",
            " 6   Bureaucratic_Code_0_Approved        16947 non-null  int64  \n",
            " 7   Submitted_for_Approval              16947 non-null  int64  \n",
            " 8   Bureaucratic_Code                   16947 non-null  object \n",
            " 9   Account_Created_Date                16947 non-null  object \n",
            " 10  Source                              16947 non-null  object \n",
            " 11  Billing_Country                     16947 non-null  object \n",
            " 12  Account_Name                        16947 non-null  object \n",
            " 13  Opportunity_Name                    16947 non-null  object \n",
            " 14  Opportunity_ID                      16947 non-null  int64  \n",
            " 15  Sales_Contract_No                   16947 non-null  object \n",
            " 16  Account_Owner                       16947 non-null  object \n",
            " 17  Opportunity_Owner                   16947 non-null  object \n",
            " 18  Account_Type                        16947 non-null  object \n",
            " 19  Opportunity_Type                    16947 non-null  object \n",
            " 20  Quote_Type                          16947 non-null  object \n",
            " 21  Delivery_Terms                      16947 non-null  object \n",
            " 22  Opportunity_Created_Date            16947 non-null  object \n",
            " 23  Brand                               16947 non-null  object \n",
            " 24  Product_Type                        16947 non-null  object \n",
            " 25  Size                                16947 non-null  object \n",
            " 26  Product_Category_B                  16947 non-null  object \n",
            " 27  Price                               16947 non-null  object \n",
            " 28  Currency                            16947 non-null  object \n",
            " 29  Last_Activity                       16947 non-null  object \n",
            " 30  Quote_Expiry_Date                   16947 non-null  object \n",
            " 31  Last_Modified_Date                  16947 non-null  object \n",
            " 32  Last_Modified_By                    16947 non-null  object \n",
            " 33  Product_Family                      16947 non-null  object \n",
            " 34  Product_Name                        16947 non-null  object \n",
            " 35  ASP_Currency                        16947 non-null  object \n",
            " 36  ASP                                 13738 non-null  float64\n",
            " 37  ASP_(converted)_Currency            16947 non-null  object \n",
            " 38  ASP_(converted)                     13738 non-null  float64\n",
            " 39  Planned_Delivery_Start_Date         16947 non-null  object \n",
            " 40  Planned_Delivery_End_Date           16947 non-null  object \n",
            " 41  Month                               16947 non-null  object \n",
            " 42  Delivery_Quarter                    16947 non-null  object \n",
            " 43  Delivery_Year                       16947 non-null  int64  \n",
            " 44  Actual_Delivery_Date                16947 non-null  object \n",
            " 45  TRF                                 16947 non-null  int64  \n",
            " 46  Total_Amount_Currency               16947 non-null  object \n",
            " 47  Total_Amount                        16888 non-null  float64\n",
            " 48  Total_Taxable_Amount_Currency       16947 non-null  object \n",
            " 49  Total_Taxable_Amount                16947 non-null  float64\n",
            " 50  Stage                               16947 non-null  object \n",
            " 51  Prod_Category_A                     16947 non-null  object \n",
            "dtypes: float64(4), int64(9), object(39)\n",
            "memory usage: 6.7+ MB\n"
          ],
          "name": "stdout"
        }
      ]
    },
    {
      "cell_type": "code",
      "metadata": {
        "colab": {
          "base_uri": "https://localhost:8080/"
        },
        "id": "iqDzZndMrUDu",
        "outputId": "9580cd43-7a0a-447c-a3c3-0848443b34b0"
      },
      "source": [
        "testeo = pd.read_csv('Test.csv')\r\n",
        "testeo.info()"
      ],
      "execution_count": null,
      "outputs": [
        {
          "output_type": "stream",
          "text": [
            "<class 'pandas.core.frame.DataFrame'>\n",
            "RangeIndex: 2551 entries, 0 to 2550\n",
            "Data columns (total 51 columns):\n",
            " #   Column                              Non-Null Count  Dtype  \n",
            "---  ------                              --------------  -----  \n",
            " 0   ID                                  2551 non-null   int64  \n",
            " 1   Region                              2551 non-null   object \n",
            " 2   Territory                           2551 non-null   object \n",
            " 3   Pricing, Delivery_Terms_Quote_Appr  2551 non-null   int64  \n",
            " 4   Pricing, Delivery_Terms_Approved    2551 non-null   int64  \n",
            " 5   Bureaucratic_Code_0_Approval        2551 non-null   int64  \n",
            " 6   Bureaucratic_Code_0_Approved        2551 non-null   int64  \n",
            " 7   Submitted_for_Approval              2551 non-null   int64  \n",
            " 8   Bureaucratic_Code                   2551 non-null   object \n",
            " 9   Account_Created_Date                2551 non-null   object \n",
            " 10  Source                              2551 non-null   object \n",
            " 11  Billing_Country                     2551 non-null   object \n",
            " 12  Account_Name                        2551 non-null   object \n",
            " 13  Opportunity_Name                    2551 non-null   object \n",
            " 14  Opportunity_ID                      2551 non-null   int64  \n",
            " 15  Sales_Contract_No                   2551 non-null   object \n",
            " 16  Account_Owner                       2551 non-null   object \n",
            " 17  Opportunity_Owner                   2551 non-null   object \n",
            " 18  Account_Type                        2551 non-null   object \n",
            " 19  Opportunity_Type                    2551 non-null   object \n",
            " 20  Quote_Type                          2551 non-null   object \n",
            " 21  Delivery_Terms                      2551 non-null   object \n",
            " 22  Opportunity_Created_Date            2551 non-null   object \n",
            " 23  Brand                               2551 non-null   object \n",
            " 24  Product_Type                        2551 non-null   object \n",
            " 25  Size                                2551 non-null   object \n",
            " 26  Product_Category_B                  2551 non-null   object \n",
            " 27  Price                               2551 non-null   object \n",
            " 28  Currency                            2551 non-null   object \n",
            " 29  Last_Activity                       2551 non-null   object \n",
            " 30  Quote_Expiry_Date                   2551 non-null   object \n",
            " 31  Last_Modified_Date                  2551 non-null   object \n",
            " 32  Last_Modified_By                    2551 non-null   object \n",
            " 33  Product_Family                      2551 non-null   object \n",
            " 34  Product_Name                        2551 non-null   object \n",
            " 35  ASP_Currency                        2551 non-null   object \n",
            " 36  ASP                                 2467 non-null   float64\n",
            " 37  ASP_(converted)_Currency            2551 non-null   object \n",
            " 38  ASP_(converted)                     2467 non-null   float64\n",
            " 39  Planned_Delivery_Start_Date         2551 non-null   object \n",
            " 40  Planned_Delivery_End_Date           2551 non-null   object \n",
            " 41  Month                               2551 non-null   object \n",
            " 42  Delivery_Quarter                    2551 non-null   object \n",
            " 43  Delivery_Year                       2551 non-null   int64  \n",
            " 44  Actual_Delivery_Date                2551 non-null   object \n",
            " 45  TRF                                 2551 non-null   int64  \n",
            " 46  Total_Amount_Currency               2551 non-null   object \n",
            " 47  Total_Amount                        2551 non-null   float64\n",
            " 48  Total_Taxable_Amount_Currency       2551 non-null   object \n",
            " 49  Total_Taxable_Amount                2551 non-null   float64\n",
            " 50  Prod_Category_A                     2551 non-null   object \n",
            "dtypes: float64(4), int64(9), object(38)\n",
            "memory usage: 1016.5+ KB\n"
          ],
          "name": "stdout"
        }
      ]
    },
    {
      "cell_type": "code",
      "metadata": {
        "id": "ENwraghDdDLY"
      },
      "source": [
        "#hemisferios = pd.read_csv('hemisferios.csv')\r\n",
        "#hemisferios = convertirATipo(hemisferios,['Billing_Country','hemisferio'],'category')\r\n",
        "#hemisferios.info()"
      ],
      "execution_count": null,
      "outputs": []
    },
    {
      "cell_type": "code",
      "metadata": {
        "colab": {
          "base_uri": "https://localhost:8080/"
        },
        "id": "wiejksz3DUMi",
        "outputId": "aa56adea-9b7f-4822-afe2-69e3a312f979"
      },
      "source": [
        "#prueva de supuestos\r\n",
        "supuestos = pd.read_csv('EvaluacionTemporal.csv',index_col='Opportunity_ID')\r\n",
        "supuestos.info()"
      ],
      "execution_count": null,
      "outputs": [
        {
          "output_type": "stream",
          "text": [
            "<class 'pandas.core.frame.DataFrame'>\n",
            "Int64Index: 1567 entries, 10689 to 12368\n",
            "Data columns (total 1 columns):\n",
            " #   Column  Non-Null Count  Dtype\n",
            "---  ------  --------------  -----\n",
            " 0   Target  1567 non-null   int64\n",
            "dtypes: int64(1)\n",
            "memory usage: 24.5 KB\n"
          ],
          "name": "stdout"
        }
      ]
    },
    {
      "cell_type": "markdown",
      "metadata": {
        "id": "GJYpToCYrfnk"
      },
      "source": [
        "## Preprocesamiento de ambos DF"
      ]
    },
    {
      "cell_type": "markdown",
      "metadata": {
        "id": "hyRdoRPf5wSN"
      },
      "source": [
        "### Modificaciones de oportunidad"
      ]
    },
    {
      "cell_type": "code",
      "metadata": {
        "id": "Eno4a-uBFHOa"
      },
      "source": [
        "def convertirATiempo(df,lista):\r\n",
        "    for columna in lista:\r\n",
        "        df[columna] = pd.to_datetime(df[columna])\r\n",
        "    return df\r\n",
        "\r\n",
        "def convertirATipo(df,lista,tipo):\r\n",
        "    for columna in lista:\r\n",
        "        df[columna] = df[columna].astype(tipo)\r\n",
        "    return df\r\n",
        "\r\n",
        "def convertirAFlotante(df,lista):\r\n",
        "    for columna in lista:\r\n",
        "        df[columna] = df[columna].apply(lambda x: None if (x == \"None\" or x == \"Other\") else float(x))\r\n",
        "    return df\r\n",
        "\r\n",
        "def establecerTipos(df):\r\n",
        "    \"\"\"cambia los tipos de las columnas\"\"\"\r\n",
        "    \r\n",
        "    #fechas\r\n",
        "    listaDeColumnasFechas = ['Account_Created_Date','Opportunity_Created_Date','Quote_Expiry_Date','Last_Modified_Date','Delivery_Year','Planned_Delivery_End_Date','Planned_Delivery_Start_Date']\r\n",
        "    df = convertirATiempo(df,listaDeColumnasFechas)\r\n",
        "    #enteros\r\n",
        "    listaDeColumnasEnteras = ['ID','Opportunity_ID']\r\n",
        "    convertirATipo(df,listaDeColumnasEnteras,'int')\r\n",
        "    #decimales\r\n",
        "    listaDeColumnasEnteras = ['Price','ASP','ASP_(converted)','Total_Taxable_Amount','Total_Amount']\r\n",
        "    convertirAFlotante(df,listaDeColumnasEnteras)\r\n",
        "    #booleanos\r\n",
        "    listaDeColumnasBooleanas = ['Pricing, Delivery_Terms_Quote_Appr','Pricing, Delivery_Terms_Approved','Bureaucratic_Code_0_Approval','Bureaucratic_Code_0_Approved']\r\n",
        "    convertirATipo(df,listaDeColumnasBooleanas,'bool')\r\n",
        "    #categoricas\r\n",
        "    listaDeColumnasCategoricas = ['Product_Category_B','Product_Family','Region','Territory','Bureaucratic_Code','Source ','Billing_Country','Account_Name','Opportunity_Name']\r\n",
        "    convertirATipo(df,listaDeColumnasCategoricas,'category')\r\n",
        "    return df"
      ],
      "execution_count": null,
      "outputs": []
    },
    {
      "cell_type": "code",
      "metadata": {
        "id": "1afBmnwDE9AT"
      },
      "source": [
        "def agregarHemisferios(df):\r\n",
        "  #df.reset_index()\r\n",
        "  df = df.merge(hemisferios,how='left',on='Billing_Country')\r\n",
        "  df['hemisferio'] = df['hemisferio'].apply(lambda x: 'Desconocido' if (x != 'Norte' and x != 'Sur') else x)\r\n",
        "  convertirATipo(df,['hemisferio','Billing_Country'],'category')\r\n",
        "  #df.set_index('Opportunity_ID')\r\n",
        "  return df"
      ],
      "execution_count": null,
      "outputs": []
    },
    {
      "cell_type": "code",
      "metadata": {
        "id": "b6B7RcbRrqRk"
      },
      "source": [
        "def eliminarColumnasSinImportancia(df):\r\n",
        "    #\"Last_Activity\" y \"Actual_Delivery_Date\" son puros nulos\r\n",
        "    #\"Submitted_for_Approval\" puros valores nulos\r\n",
        "    #\"Prod_Category_A\" tiene todos sus valores iguales\r\n",
        "    df = df.drop(['Submitted_for_Approval','Last_Activity','Actual_Delivery_Date','Prod_Category_A'], axis=1)\r\n",
        "    return df\r\n",
        "\r\n",
        "def agregarColumnas(df):\r\n",
        "    df['Closed'] = df['Stage'].replace({'Closed Won': True, 'Closed Lost': True, 'Negotiation':False,'Proposal':False,'Qualification':False})#REVISAR\r\n",
        "    df['Won'] = df['Stage'].replace({'Closed Won': True, 'Closed Lost': False, 'Negotiation':False,'Proposal':False,'Qualification':False})\r\n",
        "    convertirATipo(df,['Stage'],'category')\r\n",
        "    return df\r\n",
        "\r\n",
        "def correccionDeTerritorios(df):\r\n",
        "    #se refiere a diferentes partes de usa\r\n",
        "    df = df.replace({'Territory':{'Central US':'USA','NE America':'USA', 'NW America':'USA','SW America':'USA','SE America':'USA'}})\r\n",
        "    #\r\n",
        "    df = df.replace({'Territory':{'KSA':'Saudi Arabia'}})\r\n",
        "    #No se ha encontrado la dorma de los siguientes datos 'Kosovo','South America', 'South East Asia', 'UAE (Dubai)', 'UAE (Others)' (en el caso de kosovo no lo grafica)\r\n",
        "    return df\r\n",
        "\r\n",
        "def preparacionDelDataFrame(df,entrenamiento=True):\r\n",
        "    df = eliminarColumnasSinImportancia(df)\r\n",
        "    df = establecerTipos(df)\r\n",
        "    df = correccionDeTerritorios(df)\r\n",
        "    df.rename(columns = {'Source ':'Source'}, inplace = True)\r\n",
        "    #df = agregarHemisferios(df)#desactivado desde el readcsv\r\n",
        "    if (entrenamiento):\r\n",
        "      df = agregarColumnas(df)\r\n",
        "    return df"
      ],
      "execution_count": null,
      "outputs": []
    },
    {
      "cell_type": "markdown",
      "metadata": {
        "id": "6b4gZg-W52iy"
      },
      "source": [
        "### por oportunidad"
      ]
    },
    {
      "cell_type": "code",
      "metadata": {
        "id": "W1BeGQYEAcMp"
      },
      "source": [
        "def desacerseDeNulosDateTime(df,columna):\r\n",
        "  df[columna] = df[columna].apply(lambda x: datetime.max if (x is None or x is np.NaN or x is pd.NaT) else x)\r\n",
        "  return df\r\n",
        "\r\n",
        "def descomposicionDeFechas(df,lista):\r\n",
        "  \"\"\"se nesesitan enteros no fechas\"\"\"\r\n",
        "  for columna in lista:\r\n",
        "    anio = columna + '_anio'\r\n",
        "    df[anio] = df[columna].apply(lambda x: x if x is None else x.year)\r\n",
        "    mes = columna + '_mes'\r\n",
        "    df[mes] = df[columna].apply(lambda x: x if x is None else x.month)\r\n",
        "    dia = columna + '_dia'\r\n",
        "    df[dia] = df[columna].apply(lambda x: x if (x is None) else x.day)\r\n",
        "  df = df.drop(lista, axis=1)\r\n",
        "  return df\r\n",
        "\r\n",
        "def establecerEstacion(df,columnaFecha):\r\n",
        "  estacion = columnaFecha + '_Estacion'\r\n",
        "  df[estacion] = 'Desconocido'\r\n",
        "  df['temporalEstaciones'] = df[columnaFecha].apply(lambda x: 'Desconocido' if x is None else estaciones(x,True))\r\n",
        "  df.loc[df['hemisferio'] == 'Norte' , estacion] = df['temporalEstaciones']\r\n",
        "  df['temporalEstaciones'] = df[columnaFecha].apply(lambda x: 'Desconocido' if x is None else estaciones(x,False))\r\n",
        "  df.loc[df['hemisferio'] == 'Sur' , estacion] = df['temporalEstaciones']\r\n",
        "  df = df.drop(['temporalEstaciones'], axis=1)\r\n",
        "  convertirATipo(df,[estacion],'category')\r\n",
        "  return df\r\n",
        "\r\n",
        "def estaciones(fecha,norte):\r\n",
        "  if (norte):\r\n",
        "    estaciones = ['primavera','verano','otoño','invierno']\r\n",
        "  else:\r\n",
        "    estaciones = ['otoño','invierno','primavera','verano']\r\n",
        "  if (fecha.month == 12 and fecha.day >= 21 or fecha.month <= 3 and fecha.day < 21):\r\n",
        "    return estaciones[3]\r\n",
        "  elif (fecha.month == 9 and fecha.day >= 21 or fecha.month > 9):\r\n",
        "    return estaciones[2]\r\n",
        "  elif (fecha.month == 6 and fecha.day >= 21 or fecha.month > 6):\r\n",
        "    return estaciones[1]\r\n",
        "  elif (fecha.month == 3 and fecha.day >= 21 or fecha.month > 3):\r\n",
        "    return estaciones[0]\r\n",
        "  else:\r\n",
        "    return 'Desconocido'\r\n",
        "\r\n",
        "def diferenciaEntreFechas(df,colFechaInicial,colFechaFinal):\r\n",
        "  df['TiempoDeDiferencia'] = (df[colFechaFinal] - df[colFechaInicial])\r\n",
        "  df['TiempoDeDiferencia'] = pd.to_numeric(df['TiempoDeDiferencia'].dt.days, downcast='integer')#revisar si se conviete totalmente a dias\r\n",
        "  df = df.drop([colFechaInicial,colFechaFinal], axis=1)\r\n",
        "  return df"
      ],
      "execution_count": null,
      "outputs": []
    },
    {
      "cell_type": "code",
      "metadata": {
        "id": "hEXKmCHir-T4"
      },
      "source": [
        "def dataEntrenamiento(df):\r\n",
        "  data = df.groupby('Opportunity_ID').agg({'Won':'sum','Closed':'sum',\r\n",
        "                                           'modificaciones':'sum',\r\n",
        "                                           #'Won':'sum','modificaciones':'sum',\r\n",
        "                                           'Last_Modified_Date':'max','Opportunity_Created_Date':'min',\r\n",
        "                                           #'Price':'mean',#Demaciados nulos\r\n",
        "                                           #'Quote_Expiry_Date':'max',\r\n",
        "                                           'Pricing, Delivery_Terms_Quote_Appr':'sum',\r\n",
        "                                           'Pricing, Delivery_Terms_Approved':'sum',\r\n",
        "                                           'Bureaucratic_Code_0_Approval':'sum',\r\n",
        "                                           'Bureaucratic_Code_0_Approved':'sum',\r\n",
        "                                           'Account_Created_Date':'min',\r\n",
        "                                           'Total_Amount':'sum','Region':'first',\r\n",
        "                                           'Total_Taxable_Amount':'sum',\r\n",
        "                                           'Territory':'first',\r\n",
        "                                           'ASP_(converted)':'sum',\r\n",
        "                                           'Account_Type':'first',\r\n",
        "                                           'Delivery_Quarter':'first',\r\n",
        "                                           'Product_Type':'first',\r\n",
        "                                           'Product_Category_B':'first',\r\n",
        "                                           'Billing_Country':'first',\r\n",
        "                                           'Planned_Delivery_End_Date':'max',\r\n",
        "                                           'Planned_Delivery_Start_Date':'min',\r\n",
        "                                           'Delivery_Terms':'first',\r\n",
        "                                           'Product_Family':'first',\r\n",
        "                                           'ASP_(converted)_Currency':'first',\r\n",
        "                                           'TRF':'mean'\r\n",
        "                                           #'hemisferio':'first'\r\n",
        "                                           })#hay que seguir agregando cosas que son importantes\r\n",
        "  return data\r\n",
        "\r\n",
        "def dataTesteo(df):\r\n",
        "  data = df.groupby('Opportunity_ID').agg({'modificaciones':'sum',\r\n",
        "                                           'Last_Modified_Date':'max','Opportunity_Created_Date':'min',\r\n",
        "                                           #'Price':'mean',#Demaciados nulos\r\n",
        "                                           #'Quote_Expiry_Date':'max',\r\n",
        "                                           'Pricing, Delivery_Terms_Quote_Appr':'sum',\r\n",
        "                                           'Pricing, Delivery_Terms_Approved':'sum',\r\n",
        "                                           'Bureaucratic_Code_0_Approval':'sum',\r\n",
        "                                           'Bureaucratic_Code_0_Approved':'sum',\r\n",
        "                                           'Account_Created_Date':'min',\r\n",
        "                                           'Total_Amount':'sum','Region':'first',\r\n",
        "                                           'Total_Taxable_Amount':'sum',\r\n",
        "                                           'Territory':'first',\r\n",
        "                                           'ASP_(converted)':'sum',\r\n",
        "                                           'Account_Type':'first',\r\n",
        "                                           'Delivery_Quarter':'first',\r\n",
        "                                           'Product_Type':'first',\r\n",
        "                                           'Product_Category_B':'first',\r\n",
        "                                           'Billing_Country':'first',\r\n",
        "                                           'Planned_Delivery_End_Date':'max',\r\n",
        "                                           'Planned_Delivery_Start_Date':'min',\r\n",
        "                                           'Delivery_Terms':'first',\r\n",
        "                                           'Product_Family':'first',\r\n",
        "                                           'ASP_(converted)_Currency':'first',\r\n",
        "                                           'TRF':'mean'\r\n",
        "                                           #'hemisferio':'first'\r\n",
        "                                           })#hay que seguir agregando cosas que son importantes\r\n",
        "  return data  \r\n",
        "\r\n",
        "def agrupacionDeOportunidades(df,entrenamiento=True):\r\n",
        "  df['modificaciones'] = 1\r\n",
        "  if (entrenamiento):\r\n",
        "    data = dataEntrenamiento(df)\r\n",
        "    #Solo me interesa saber si se cerro con exito\r\n",
        "    #data['Closed'] = data['Closed'].agg(lambda x: 1 if x > 0 else 0)\r\n",
        "    data['Won'] = data['Won'].agg(lambda x: 1 if x > 0 else 0)\r\n",
        "    #data['Lost'] = data['Closed'] - data['Won']#si es won es closed pero si es closed y no es won es perdido\r\n",
        "    #data['Lost'] = data['Lost'].agg(lambda x: 1 if x > 0 else 0)\r\n",
        "\r\n",
        "    #Los casos NO cerrados del set de entrenamiento se desconocen si tendran exito o no\r\n",
        "    #por lo que englobarlos como triunfos o fracasos es un error deben ser retirados del set\r\n",
        "    data = data[data['Closed'] > 0]\r\n",
        "    data = data.drop(['Closed'], axis=1)\r\n",
        "  else:\r\n",
        "    data = dataTesteo(df)\r\n",
        "\r\n",
        "  #data['Pricing, Delivery_Terms_Quote_Appr'] = data['Pricing, Delivery_Terms_Quote_Appr'].agg(lambda x: None if x == 0 else x)\r\n",
        "  #data['Pricing, Delivery_Terms_Approved'] = data['Pricing, Delivery_Terms_Approved'].agg(lambda x: None if x == 0 else x)\r\n",
        "  #data['Bureaucratic_Code_0_Approval'] = data['Bureaucratic_Code_0_Approval'].agg(lambda x: None if x == 0 else x)\r\n",
        "  #data['Bureaucratic_Code_0_Approved'] = data['Bureaucratic_Code_0_Approved'].agg(lambda x: None if x == 0 else x)\r\n",
        "  \"\"\"\r\n",
        "  data['Pricing, Delivery_Terms_Quote_Appr'] = data['Pricing, Delivery_Terms_Quote_Appr'].agg(lambda x: 1 if x > 0 else 0)\r\n",
        "  data['Pricing, Delivery_Terms_Approved'] = data['Pricing, Delivery_Terms_Approved'].agg(lambda x: 1 if x > 0 else 0)\r\n",
        "  data['Bureaucratic_Code_0_Approval'] = data['Bureaucratic_Code_0_Approval'].agg(lambda x: 1 if x > 0 else 0)\r\n",
        "  data['Bureaucratic_Code_0_Approved'] = data['Bureaucratic_Code_0_Approved'].agg(lambda x: 1 if x > 0 else 0)\r\n",
        "\r\n",
        "  #Condensando columnas\r\n",
        "  data['Pricing, Delivery_Terms_Approved'] = data['Pricing, Delivery_Terms_Quote_Appr'] + data['Pricing, Delivery_Terms_Approved']\r\n",
        "  data['Bureaucratic_Code_0_Approved'] = data['Bureaucratic_Code_0_Approval'] + data['Bureaucratic_Code_0_Approved']\r\n",
        "  data = data.drop(['Bureaucratic_Code_0_Approval','Pricing, Delivery_Terms_Quote_Appr'], axis=1)\r\n",
        "\r\n",
        "  data['Pricing, Delivery_Terms_Condensado'] = data['Pricing, Delivery_Terms_Quote_Appr'] + data['Pricing, Delivery_Terms_Approved']\r\n",
        "  data['Pricing, Delivery_Terms_Condensado'] = data['Pricing, Delivery_Terms_Condensado'].agg(lambda x: 1 if x > 1 else 0)\r\n",
        "  data = data.drop(['Pricing, Delivery_Terms_Quote_Appr','Pricing, Delivery_Terms_Approved'], axis=1)\r\n",
        "\r\n",
        "  data['Bureaucratic_Code_0_Condensado'] = data['Bureaucratic_Code_0_Approval'] + data['Bureaucratic_Code_0_Approved']\r\n",
        "  data['Bureaucratic_Code_0_Condensado'] = data['Bureaucratic_Code_0_Condensado'].agg(lambda x: 1 if x > 1 else 0)\r\n",
        "  data = data.drop(['Bureaucratic_Code_0_Approval','Bureaucratic_Code_0_Approved'], axis=1)\r\n",
        "  #data = data.replace({'Won':})\r\n",
        "\r\n",
        "  data['aprobacion'] = data['Pricing, Delivery_Terms_Condensado'] + data['Bureaucratic_Code_0_Condensado']\r\n",
        "  data['aprobacion'] = data['aprobacion'].agg(lambda x: 1 if x > 1 else 0)\r\n",
        "  data = data.drop(['Pricing, Delivery_Terms_Condensado','Bureaucratic_Code_0_Condensado'], axis=1)\r\n",
        "\r\n",
        "  \"\"\"\r\n",
        "\r\n",
        "  #categoricas\r\n",
        "  #listaDeColumnasCategoricas = ['Account_Type','Region','Territory','Delivery_Quarter']\r\n",
        "  listaDeColumnasCategoricas = ['Account_Type','Region','Territory','Billing_Country',\r\n",
        "                                'Delivery_Quarter','Product_Type','Product_Category_B',\r\n",
        "                                'Delivery_Terms','Product_Family','ASP_(converted)_Currency']\r\n",
        "  convertirATipo(data,listaDeColumnasCategoricas,'category')\r\n",
        "\r\n",
        "  #data = establecerEstacion(data,'Opportunity_Created_Date')\r\n",
        "  #data = establecerEstacion(data,'Quote_Expiry_Date')\r\n",
        "  #data = desacerseDeNulosDateTime(data,'Quote_Expiry_Date')#si no hay fecha de expiracion se pre supone que es infinita\r\n",
        "\r\n",
        "  listaDeValoresDeFechas = ['Last_Modified_Date','Opportunity_Created_Date',\r\n",
        "                            'Account_Created_Date','Planned_Delivery_Start_Date','Planned_Delivery_End_Date']\r\n",
        "  data = descomposicionDeFechas(data,listaDeValoresDeFechas)\r\n",
        "\r\n",
        "  #data['Diferencia_Amount'] = data['Total_Amount'] - data['Total_Amount'].mean()\r\n",
        "  #data['Diferencia_Amount'] = data['Diferencia_Amount'].agg(lambda x: -x if x<0 else x)\r\n",
        "\r\n",
        "  #data['Total_Amount'] = data['Total_Amount'].agg(lambda x: math.log(x,10))\r\n",
        "  #enteros\r\n",
        "  #listaDeColumnasEnteras = ['Quote_Expiry_Date_anio','Quote_Expiry_Date_mes','Quote_Expiry_Date_dia']\r\n",
        "  #convertirATipo(data,listaDeColumnasEnteras,'int')\r\n",
        "  #data = agregarHemisferios(data)\r\n",
        "\r\n",
        "  #data = data.drop(['hemisferio'], axis=1)\r\n",
        "\r\n",
        "  #data = diferenciaEntreFechas(data,'Planned_Delivery_Start_Date','Planned_Delivery_End_Date')\r\n",
        "\r\n",
        "  return data"
      ],
      "execution_count": null,
      "outputs": []
    },
    {
      "cell_type": "markdown",
      "metadata": {
        "id": "vI8bOMI2wcR0"
      },
      "source": [
        "las siguientes columnas no fueron probadas hay que analizarlas\r\n",
        "\r\n",
        "Posibles columnas a usar:\r\n",
        "\r\n",
        "- Bureaucratic_Code\r\n",
        "- Delivery_Year (posibles datos repetidos)\r\n",
        "- Month (posibles datos repetidos)\r\n",
        "- Opportunity_Owner\r\n",
        "- Opportunity_Type\r\n",
        "- Product_Family\r\n",
        "- Product_Name\r\n",
        "- Quote_Type (muy desbalanceado)\r\n",
        "\r\n",
        "Revisar el contexto\r\n",
        "\r\n",
        "- Total_Amount_Currency\r\n",
        "- Total_Taxable_Amount\r\n",
        "- Total_Taxable_Amount_Currency\r\n",
        "- ASP\r\n",
        "- ASP_(converted)_Currency\r\n",
        "- ASP_Currency\r\n",
        "\r\n",
        "\r\n",
        "las columnas con gran catidad de nones parecen afectar positivamente el resultado hay que revisarlas una por una\r\n",
        "\r\n",
        "- Currency: Segun prueba de supuestos empeora el resultado\r\n",
        "- Brand: Segun prueba de supuestos empeora el resultado ligeramente\r\n",
        "- Size: Segun prueba de supuestos empeora el resultado ligeramente\r\n",
        "- Source: Segun prueba de supuestos empeora el resultado"
      ]
    },
    {
      "cell_type": "markdown",
      "metadata": {
        "id": "a_oK2tNOrgdr"
      },
      "source": [
        "### categoricas a enteros (caso de que el sistema predictor no reconosca category)"
      ]
    },
    {
      "cell_type": "code",
      "metadata": {
        "id": "zV3o96K3rqy_"
      },
      "source": [
        "def convertirCategoryEnEnteros(df1,df2,columna):\r\n",
        "  encoder = ce.BinaryEncoder(cols=[columna])\r\n",
        "  encoder.fit(df1)\r\n",
        "  #encoder.fit(df2)\r\n",
        "  df1 = encoder.transform(df1)\r\n",
        "  df2 = encoder.transform(df2)\r\n",
        "  return df1,df2\r\n"
      ],
      "execution_count": null,
      "outputs": []
    },
    {
      "cell_type": "markdown",
      "metadata": {
        "id": "kYzRJPBRvMs5"
      },
      "source": [
        "## Ejecucion de cambios"
      ]
    },
    {
      "cell_type": "markdown",
      "metadata": {
        "id": "knmx6tPo01QZ"
      },
      "source": [
        "### ejecucion por modificaciones de oportunidad"
      ]
    },
    {
      "cell_type": "code",
      "metadata": {
        "colab": {
          "base_uri": "https://localhost:8080/"
        },
        "id": "PaAnTWGor1uy",
        "outputId": "50461a9c-6363-4dbf-a1ac-16ed65e46c22"
      },
      "source": [
        "entrenamientoProcesado = preparacionDelDataFrame(entrenamiento)\r\n",
        "entrenamientoProcesado.info()"
      ],
      "execution_count": null,
      "outputs": [
        {
          "output_type": "stream",
          "text": [
            "<class 'pandas.core.frame.DataFrame'>\n",
            "RangeIndex: 16947 entries, 0 to 16946\n",
            "Data columns (total 50 columns):\n",
            " #   Column                              Non-Null Count  Dtype         \n",
            "---  ------                              --------------  -----         \n",
            " 0   ID                                  16947 non-null  int64         \n",
            " 1   Region                              16947 non-null  category      \n",
            " 2   Territory                           16947 non-null  object        \n",
            " 3   Pricing, Delivery_Terms_Quote_Appr  16947 non-null  bool          \n",
            " 4   Pricing, Delivery_Terms_Approved    16947 non-null  bool          \n",
            " 5   Bureaucratic_Code_0_Approval        16947 non-null  bool          \n",
            " 6   Bureaucratic_Code_0_Approved        16947 non-null  bool          \n",
            " 7   Bureaucratic_Code                   16947 non-null  category      \n",
            " 8   Account_Created_Date                16947 non-null  datetime64[ns]\n",
            " 9   Source                              16947 non-null  category      \n",
            " 10  Billing_Country                     16947 non-null  category      \n",
            " 11  Account_Name                        16947 non-null  category      \n",
            " 12  Opportunity_Name                    16947 non-null  category      \n",
            " 13  Opportunity_ID                      16947 non-null  int64         \n",
            " 14  Sales_Contract_No                   16947 non-null  object        \n",
            " 15  Account_Owner                       16947 non-null  object        \n",
            " 16  Opportunity_Owner                   16947 non-null  object        \n",
            " 17  Account_Type                        16947 non-null  object        \n",
            " 18  Opportunity_Type                    16947 non-null  object        \n",
            " 19  Quote_Type                          16947 non-null  object        \n",
            " 20  Delivery_Terms                      16947 non-null  object        \n",
            " 21  Opportunity_Created_Date            16947 non-null  datetime64[ns]\n",
            " 22  Brand                               16947 non-null  object        \n",
            " 23  Product_Type                        16947 non-null  object        \n",
            " 24  Size                                16947 non-null  object        \n",
            " 25  Product_Category_B                  16947 non-null  category      \n",
            " 26  Price                               356 non-null    float64       \n",
            " 27  Currency                            16947 non-null  object        \n",
            " 28  Quote_Expiry_Date                   12322 non-null  datetime64[ns]\n",
            " 29  Last_Modified_Date                  16947 non-null  datetime64[ns]\n",
            " 30  Last_Modified_By                    16947 non-null  object        \n",
            " 31  Product_Family                      16947 non-null  category      \n",
            " 32  Product_Name                        16947 non-null  object        \n",
            " 33  ASP_Currency                        16947 non-null  object        \n",
            " 34  ASP                                 13738 non-null  float64       \n",
            " 35  ASP_(converted)_Currency            16947 non-null  object        \n",
            " 36  ASP_(converted)                     13738 non-null  float64       \n",
            " 37  Planned_Delivery_Start_Date         16947 non-null  datetime64[ns]\n",
            " 38  Planned_Delivery_End_Date           16872 non-null  datetime64[ns]\n",
            " 39  Month                               16947 non-null  object        \n",
            " 40  Delivery_Quarter                    16947 non-null  object        \n",
            " 41  Delivery_Year                       16947 non-null  datetime64[ns]\n",
            " 42  TRF                                 16947 non-null  int64         \n",
            " 43  Total_Amount_Currency               16947 non-null  object        \n",
            " 44  Total_Amount                        16888 non-null  float64       \n",
            " 45  Total_Taxable_Amount_Currency       16947 non-null  object        \n",
            " 46  Total_Taxable_Amount                16947 non-null  float64       \n",
            " 47  Stage                               16947 non-null  category      \n",
            " 48  Closed                              16947 non-null  bool          \n",
            " 49  Won                                 16947 non-null  bool          \n",
            "dtypes: bool(6), category(9), datetime64[ns](7), float64(5), int64(3), object(20)\n",
            "memory usage: 5.3+ MB\n"
          ],
          "name": "stdout"
        }
      ]
    },
    {
      "cell_type": "code",
      "metadata": {
        "colab": {
          "base_uri": "https://localhost:8080/"
        },
        "id": "HsNznYyLr21Z",
        "outputId": "a5d0ff10-8116-4f5d-cbfb-71c775d31013"
      },
      "source": [
        "testeoProsesado = preparacionDelDataFrame(testeo,False)\r\n",
        "testeoProsesado.info()"
      ],
      "execution_count": null,
      "outputs": [
        {
          "output_type": "stream",
          "text": [
            "<class 'pandas.core.frame.DataFrame'>\n",
            "RangeIndex: 2551 entries, 0 to 2550\n",
            "Data columns (total 47 columns):\n",
            " #   Column                              Non-Null Count  Dtype         \n",
            "---  ------                              --------------  -----         \n",
            " 0   ID                                  2551 non-null   int64         \n",
            " 1   Region                              2551 non-null   category      \n",
            " 2   Territory                           2551 non-null   object        \n",
            " 3   Pricing, Delivery_Terms_Quote_Appr  2551 non-null   bool          \n",
            " 4   Pricing, Delivery_Terms_Approved    2551 non-null   bool          \n",
            " 5   Bureaucratic_Code_0_Approval        2551 non-null   bool          \n",
            " 6   Bureaucratic_Code_0_Approved        2551 non-null   bool          \n",
            " 7   Bureaucratic_Code                   2551 non-null   category      \n",
            " 8   Account_Created_Date                2551 non-null   datetime64[ns]\n",
            " 9   Source                              2551 non-null   category      \n",
            " 10  Billing_Country                     2551 non-null   category      \n",
            " 11  Account_Name                        2551 non-null   category      \n",
            " 12  Opportunity_Name                    2551 non-null   category      \n",
            " 13  Opportunity_ID                      2551 non-null   int64         \n",
            " 14  Sales_Contract_No                   2551 non-null   object        \n",
            " 15  Account_Owner                       2551 non-null   object        \n",
            " 16  Opportunity_Owner                   2551 non-null   object        \n",
            " 17  Account_Type                        2551 non-null   object        \n",
            " 18  Opportunity_Type                    2551 non-null   object        \n",
            " 19  Quote_Type                          2551 non-null   object        \n",
            " 20  Delivery_Terms                      2551 non-null   object        \n",
            " 21  Opportunity_Created_Date            2551 non-null   datetime64[ns]\n",
            " 22  Brand                               2551 non-null   object        \n",
            " 23  Product_Type                        2551 non-null   object        \n",
            " 24  Size                                2551 non-null   object        \n",
            " 25  Product_Category_B                  2551 non-null   category      \n",
            " 26  Price                               160 non-null    float64       \n",
            " 27  Currency                            2551 non-null   object        \n",
            " 28  Quote_Expiry_Date                   1315 non-null   datetime64[ns]\n",
            " 29  Last_Modified_Date                  2551 non-null   datetime64[ns]\n",
            " 30  Last_Modified_By                    2551 non-null   object        \n",
            " 31  Product_Family                      2551 non-null   category      \n",
            " 32  Product_Name                        2551 non-null   object        \n",
            " 33  ASP_Currency                        2551 non-null   object        \n",
            " 34  ASP                                 2467 non-null   float64       \n",
            " 35  ASP_(converted)_Currency            2551 non-null   object        \n",
            " 36  ASP_(converted)                     2467 non-null   float64       \n",
            " 37  Planned_Delivery_Start_Date         2551 non-null   datetime64[ns]\n",
            " 38  Planned_Delivery_End_Date           2500 non-null   datetime64[ns]\n",
            " 39  Month                               2551 non-null   object        \n",
            " 40  Delivery_Quarter                    2551 non-null   object        \n",
            " 41  Delivery_Year                       2551 non-null   datetime64[ns]\n",
            " 42  TRF                                 2551 non-null   int64         \n",
            " 43  Total_Amount_Currency               2551 non-null   object        \n",
            " 44  Total_Amount                        2551 non-null   float64       \n",
            " 45  Total_Taxable_Amount_Currency       2551 non-null   object        \n",
            " 46  Total_Taxable_Amount                2551 non-null   float64       \n",
            "dtypes: bool(4), category(8), datetime64[ns](7), float64(5), int64(3), object(20)\n",
            "memory usage: 815.8+ KB\n"
          ],
          "name": "stdout"
        }
      ]
    },
    {
      "cell_type": "markdown",
      "metadata": {
        "id": "q8JeolJN08kJ"
      },
      "source": [
        "### ejecucion por oportunidad"
      ]
    },
    {
      "cell_type": "code",
      "metadata": {
        "colab": {
          "base_uri": "https://localhost:8080/"
        },
        "id": "4FaCKA1_1ANL",
        "outputId": "281a86ce-f180-49ce-89ae-800a3181522c"
      },
      "source": [
        "agrupacionEntrenamiento = agrupacionDeOportunidades(entrenamientoProcesado)\r\n",
        "agrupacionEntrenamiento.info()"
      ],
      "execution_count": null,
      "outputs": [
        {
          "output_type": "stream",
          "text": [
            "<class 'pandas.core.frame.DataFrame'>\n",
            "Int64Index: 9791 entries, 0 to 12803\n",
            "Data columns (total 35 columns):\n",
            " #   Column                              Non-Null Count  Dtype   \n",
            "---  ------                              --------------  -----   \n",
            " 0   Won                                 9791 non-null   int64   \n",
            " 1   modificaciones                      9791 non-null   int64   \n",
            " 2   Pricing, Delivery_Terms_Quote_Appr  9791 non-null   int64   \n",
            " 3   Pricing, Delivery_Terms_Approved    9791 non-null   int64   \n",
            " 4   Bureaucratic_Code_0_Approval        9791 non-null   int64   \n",
            " 5   Bureaucratic_Code_0_Approved        9791 non-null   int64   \n",
            " 6   Total_Amount                        9791 non-null   float64 \n",
            " 7   Region                              9791 non-null   category\n",
            " 8   Total_Taxable_Amount                9791 non-null   float64 \n",
            " 9   Territory                           9791 non-null   category\n",
            " 10  ASP_(converted)                     9791 non-null   float64 \n",
            " 11  Account_Type                        9791 non-null   category\n",
            " 12  Delivery_Quarter                    9791 non-null   category\n",
            " 13  Product_Type                        9791 non-null   category\n",
            " 14  Product_Category_B                  9791 non-null   category\n",
            " 15  Billing_Country                     9791 non-null   category\n",
            " 16  Delivery_Terms                      9791 non-null   category\n",
            " 17  Product_Family                      9791 non-null   category\n",
            " 18  ASP_(converted)_Currency            9791 non-null   category\n",
            " 19  TRF                                 9791 non-null   float64 \n",
            " 20  Last_Modified_Date_anio             9791 non-null   int64   \n",
            " 21  Last_Modified_Date_mes              9791 non-null   int64   \n",
            " 22  Last_Modified_Date_dia              9791 non-null   int64   \n",
            " 23  Opportunity_Created_Date_anio       9791 non-null   int64   \n",
            " 24  Opportunity_Created_Date_mes        9791 non-null   int64   \n",
            " 25  Opportunity_Created_Date_dia        9791 non-null   int64   \n",
            " 26  Account_Created_Date_anio           9791 non-null   int64   \n",
            " 27  Account_Created_Date_mes            9791 non-null   int64   \n",
            " 28  Account_Created_Date_dia            9791 non-null   int64   \n",
            " 29  Planned_Delivery_Start_Date_anio    9791 non-null   int64   \n",
            " 30  Planned_Delivery_Start_Date_mes     9791 non-null   int64   \n",
            " 31  Planned_Delivery_Start_Date_dia     9791 non-null   int64   \n",
            " 32  Planned_Delivery_End_Date_anio      9734 non-null   float64 \n",
            " 33  Planned_Delivery_End_Date_mes       9734 non-null   float64 \n",
            " 34  Planned_Delivery_End_Date_dia       9734 non-null   float64 \n",
            "dtypes: category(10), float64(7), int64(18)\n",
            "memory usage: 2.1 MB\n"
          ],
          "name": "stdout"
        }
      ]
    },
    {
      "cell_type": "code",
      "metadata": {
        "colab": {
          "base_uri": "https://localhost:8080/"
        },
        "id": "u45CZJXV1Flo",
        "outputId": "7a9f2f9e-7e74-4275-c297-05ad2b39b0cb"
      },
      "source": [
        "agrupacionTesteo = agrupacionDeOportunidades(testeoProsesado,False)\r\n",
        "agrupacionTesteo.info()"
      ],
      "execution_count": null,
      "outputs": [
        {
          "output_type": "stream",
          "text": [
            "<class 'pandas.core.frame.DataFrame'>\n",
            "Int64Index: 1567 entries, 10689 to 12368\n",
            "Data columns (total 34 columns):\n",
            " #   Column                              Non-Null Count  Dtype   \n",
            "---  ------                              --------------  -----   \n",
            " 0   modificaciones                      1567 non-null   int64   \n",
            " 1   Pricing, Delivery_Terms_Quote_Appr  1567 non-null   int64   \n",
            " 2   Pricing, Delivery_Terms_Approved    1567 non-null   int64   \n",
            " 3   Bureaucratic_Code_0_Approval        1567 non-null   int64   \n",
            " 4   Bureaucratic_Code_0_Approved        1567 non-null   int64   \n",
            " 5   Total_Amount                        1567 non-null   float64 \n",
            " 6   Region                              1567 non-null   category\n",
            " 7   Total_Taxable_Amount                1567 non-null   float64 \n",
            " 8   Territory                           1567 non-null   category\n",
            " 9   ASP_(converted)                     1567 non-null   float64 \n",
            " 10  Account_Type                        1567 non-null   category\n",
            " 11  Delivery_Quarter                    1567 non-null   category\n",
            " 12  Product_Type                        1567 non-null   category\n",
            " 13  Product_Category_B                  1567 non-null   category\n",
            " 14  Billing_Country                     1567 non-null   category\n",
            " 15  Delivery_Terms                      1567 non-null   category\n",
            " 16  Product_Family                      1567 non-null   category\n",
            " 17  ASP_(converted)_Currency            1567 non-null   category\n",
            " 18  TRF                                 1567 non-null   float64 \n",
            " 19  Last_Modified_Date_anio             1567 non-null   int64   \n",
            " 20  Last_Modified_Date_mes              1567 non-null   int64   \n",
            " 21  Last_Modified_Date_dia              1567 non-null   int64   \n",
            " 22  Opportunity_Created_Date_anio       1567 non-null   int64   \n",
            " 23  Opportunity_Created_Date_mes        1567 non-null   int64   \n",
            " 24  Opportunity_Created_Date_dia        1567 non-null   int64   \n",
            " 25  Account_Created_Date_anio           1567 non-null   int64   \n",
            " 26  Account_Created_Date_mes            1567 non-null   int64   \n",
            " 27  Account_Created_Date_dia            1567 non-null   int64   \n",
            " 28  Planned_Delivery_Start_Date_anio    1567 non-null   int64   \n",
            " 29  Planned_Delivery_Start_Date_mes     1567 non-null   int64   \n",
            " 30  Planned_Delivery_Start_Date_dia     1567 non-null   int64   \n",
            " 31  Planned_Delivery_End_Date_anio      1524 non-null   float64 \n",
            " 32  Planned_Delivery_End_Date_mes       1524 non-null   float64 \n",
            " 33  Planned_Delivery_End_Date_dia       1524 non-null   float64 \n",
            "dtypes: category(10), float64(7), int64(17)\n",
            "memory usage: 330.5 KB\n"
          ],
          "name": "stdout"
        }
      ]
    },
    {
      "cell_type": "markdown",
      "metadata": {
        "id": "1xfzMbqiZrue"
      },
      "source": [
        "### separacion de resultados de entrenamiento"
      ]
    },
    {
      "cell_type": "code",
      "metadata": {
        "colab": {
          "base_uri": "https://localhost:8080/"
        },
        "id": "3_W40iRfZ0e9",
        "outputId": "bfab0bbd-5486-4d5c-8c43-e9d51204e748"
      },
      "source": [
        "entrenamientoResultado = agrupacionEntrenamiento[['Won']]\r\n",
        "entrenamientoResultado.info()"
      ],
      "execution_count": null,
      "outputs": [
        {
          "output_type": "stream",
          "text": [
            "<class 'pandas.core.frame.DataFrame'>\n",
            "Int64Index: 9791 entries, 0 to 12803\n",
            "Data columns (total 1 columns):\n",
            " #   Column  Non-Null Count  Dtype\n",
            "---  ------  --------------  -----\n",
            " 0   Won     9791 non-null   int64\n",
            "dtypes: int64(1)\n",
            "memory usage: 153.0 KB\n"
          ],
          "name": "stdout"
        }
      ]
    },
    {
      "cell_type": "code",
      "metadata": {
        "colab": {
          "base_uri": "https://localhost:8080/"
        },
        "id": "8-ZrGbyfaHH1",
        "outputId": "cb7f5617-c923-4c30-8e62-7e9274a72bb6"
      },
      "source": [
        "agrupacionEntrenamiento = agrupacionEntrenamiento.drop(['Won'], axis=1)\r\n",
        "agrupacionEntrenamiento.info()"
      ],
      "execution_count": null,
      "outputs": [
        {
          "output_type": "stream",
          "text": [
            "<class 'pandas.core.frame.DataFrame'>\n",
            "Int64Index: 9791 entries, 0 to 12803\n",
            "Data columns (total 34 columns):\n",
            " #   Column                              Non-Null Count  Dtype   \n",
            "---  ------                              --------------  -----   \n",
            " 0   modificaciones                      9791 non-null   int64   \n",
            " 1   Pricing, Delivery_Terms_Quote_Appr  9791 non-null   int64   \n",
            " 2   Pricing, Delivery_Terms_Approved    9791 non-null   int64   \n",
            " 3   Bureaucratic_Code_0_Approval        9791 non-null   int64   \n",
            " 4   Bureaucratic_Code_0_Approved        9791 non-null   int64   \n",
            " 5   Total_Amount                        9791 non-null   float64 \n",
            " 6   Region                              9791 non-null   category\n",
            " 7   Total_Taxable_Amount                9791 non-null   float64 \n",
            " 8   Territory                           9791 non-null   category\n",
            " 9   ASP_(converted)                     9791 non-null   float64 \n",
            " 10  Account_Type                        9791 non-null   category\n",
            " 11  Delivery_Quarter                    9791 non-null   category\n",
            " 12  Product_Type                        9791 non-null   category\n",
            " 13  Product_Category_B                  9791 non-null   category\n",
            " 14  Billing_Country                     9791 non-null   category\n",
            " 15  Delivery_Terms                      9791 non-null   category\n",
            " 16  Product_Family                      9791 non-null   category\n",
            " 17  ASP_(converted)_Currency            9791 non-null   category\n",
            " 18  TRF                                 9791 non-null   float64 \n",
            " 19  Last_Modified_Date_anio             9791 non-null   int64   \n",
            " 20  Last_Modified_Date_mes              9791 non-null   int64   \n",
            " 21  Last_Modified_Date_dia              9791 non-null   int64   \n",
            " 22  Opportunity_Created_Date_anio       9791 non-null   int64   \n",
            " 23  Opportunity_Created_Date_mes        9791 non-null   int64   \n",
            " 24  Opportunity_Created_Date_dia        9791 non-null   int64   \n",
            " 25  Account_Created_Date_anio           9791 non-null   int64   \n",
            " 26  Account_Created_Date_mes            9791 non-null   int64   \n",
            " 27  Account_Created_Date_dia            9791 non-null   int64   \n",
            " 28  Planned_Delivery_Start_Date_anio    9791 non-null   int64   \n",
            " 29  Planned_Delivery_Start_Date_mes     9791 non-null   int64   \n",
            " 30  Planned_Delivery_Start_Date_dia     9791 non-null   int64   \n",
            " 31  Planned_Delivery_End_Date_anio      9734 non-null   float64 \n",
            " 32  Planned_Delivery_End_Date_mes       9734 non-null   float64 \n",
            " 33  Planned_Delivery_End_Date_dia       9734 non-null   float64 \n",
            "dtypes: category(10), float64(7), int64(17)\n",
            "memory usage: 2.0 MB\n"
          ],
          "name": "stdout"
        }
      ]
    },
    {
      "cell_type": "markdown",
      "metadata": {
        "id": "S7uqV5xvL6Zo"
      },
      "source": [
        "## Prueva"
      ]
    },
    {
      "cell_type": "markdown",
      "metadata": {
        "id": "MtY8vcczJZDx"
      },
      "source": [
        "### prueva todo igual"
      ]
    },
    {
      "cell_type": "code",
      "metadata": {
        "colab": {
          "base_uri": "https://localhost:8080/"
        },
        "id": "NunGAz88MAbb",
        "outputId": "5170d3a3-8f8c-49da-8639-bedfcf41853f"
      },
      "source": [
        "prueva = agrupacionTesteo.reset_index()\r\n",
        "prueva = prueva[['Opportunity_ID']]\r\n",
        "prueva['prediccion'] = 0.5\r\n",
        "prueva\r\n",
        "prueva.info()"
      ],
      "execution_count": null,
      "outputs": [
        {
          "output_type": "stream",
          "text": [
            "<class 'pandas.core.frame.DataFrame'>\n",
            "RangeIndex: 1567 entries, 0 to 1566\n",
            "Data columns (total 2 columns):\n",
            " #   Column          Non-Null Count  Dtype\n",
            "---  ------          --------------  -----\n",
            " 0   Opportunity_ID  1567 non-null   int64\n",
            " 1   prediccion      1567 non-null   int64\n",
            "dtypes: int64(2)\n",
            "memory usage: 24.6 KB\n"
          ],
          "name": "stdout"
        }
      ]
    },
    {
      "cell_type": "code",
      "metadata": {
        "colab": {
          "base_uri": "https://localhost:8080/"
        },
        "id": "awlnBfcMPa1n",
        "outputId": "1d302155-3c1f-42b6-f583-659c772ce562"
      },
      "source": [
        "prueva = agrupacionTesteo\r\n",
        "prueva['Target'] = 0.5\r\n",
        "prueva = prueva[['Target']]\r\n",
        "prueva.info()"
      ],
      "execution_count": null,
      "outputs": [
        {
          "output_type": "stream",
          "text": [
            "<class 'pandas.core.frame.DataFrame'>\n",
            "Int64Index: 1567 entries, 10689 to 12368\n",
            "Data columns (total 1 columns):\n",
            " #   Column  Non-Null Count  Dtype  \n",
            "---  ------  --------------  -----  \n",
            " 0   Target  1567 non-null   float64\n",
            "dtypes: float64(1)\n",
            "memory usage: 24.5 KB\n"
          ],
          "name": "stdout"
        }
      ]
    },
    {
      "cell_type": "code",
      "metadata": {
        "id": "r0aMgBvBPDCg"
      },
      "source": [
        "from google.colab import files\r\n",
        "\r\n",
        "prueva.to_csv('prueva.csv')\r\n",
        "#files.download('resultado.csv')"
      ],
      "execution_count": null,
      "outputs": []
    },
    {
      "cell_type": "markdown",
      "metadata": {
        "id": "6JZVeYsgJcg4"
      },
      "source": [
        "### prueva supuestamete bien (demasiado arbitraria para funcionar)"
      ]
    },
    {
      "cell_type": "code",
      "metadata": {
        "colab": {
          "base_uri": "https://localhost:8080/"
        },
        "id": "yeLzHmGeEo3t",
        "outputId": "fc3a76ab-0a0d-49fe-fed3-f81bf5b05ad1"
      },
      "source": [
        "serieDiferenciasDeSupuestos = dataResultante['Target'] - supuestos['Target']\r\n",
        "serieDiferenciasDeSupuestos = serieDiferenciasDeSupuestos.agg(lambda x: abs(x))\r\n",
        "#valores a vencer\r\n",
        "#0.29328282239325076 0.066288348418729 0.25746523730152193\r\n",
        "#0.31706383931591736 0.05312227841294053 0.23048270740543753 ramdom forest\r\n",
        "#0.289665541459807 0.07066249882454302 0.26582418780942985 catboost\r\n",
        "#0.29650158086984807 0.06760957650563981 0.2600184157048108 //0.42\r\n",
        "print(serieDiferenciasDeSupuestos.mean(),serieDiferenciasDeSupuestos.var(),serieDiferenciasDeSupuestos.std())\r\n",
        "log_loss(supuestos['Target'],dataResultante['Target'])#predijo 0.4774430257846605 mientras el resultado dio 0.43117"
      ],
      "execution_count": 347,
      "outputs": [
        {
          "output_type": "stream",
          "text": [
            "0.3222215719654955 0.05114910437673766 0.22616167751574903\n"
          ],
          "name": "stdout"
        },
        {
          "output_type": "execute_result",
          "data": {
            "text/plain": [
              "0.47121016859555254"
            ]
          },
          "metadata": {
            "tags": []
          },
          "execution_count": 347
        }
      ]
    },
    {
      "cell_type": "code",
      "metadata": {
        "colab": {
          "base_uri": "https://localhost:8080/"
        },
        "id": "yOyesMcn1tgY",
        "outputId": "c63561e0-85ba-404e-c7fc-c62636a5e190"
      },
      "source": [
        "serieDiferenciasDeSupuestos = dataResultante['Target'] - supuestos['Target']\r\n",
        "serieDiferenciasDeSupuestos = serieDiferenciasDeSupuestos.agg(lambda x: abs(x))\r\n",
        "#0.29328282239325076 0.066288348418729 0.25746523730152193\r\n",
        "#0.31706383931591736 0.05312227841294053 0.23048270740543753 ramdom forest\r\n",
        "print(serieDiferenciasDeSupuestos.mean(),serieDiferenciasDeSupuestos.var(),serieDiferenciasDeSupuestos.std())"
      ],
      "execution_count": null,
      "outputs": [
        {
          "output_type": "stream",
          "text": [
            "0.008934269304403318 0.008860102317840802 0.09412811651064097\n"
          ],
          "name": "stdout"
        }
      ]
    },
    {
      "cell_type": "code",
      "metadata": {
        "id": "T_eJk_tByPDK",
        "colab": {
          "base_uri": "https://localhost:8080/"
        },
        "outputId": "16d9cdc8-bd78-4c11-a80b-24f723dd20c8"
      },
      "source": [
        "dataResultante['Target'].agg(lambda x: 1 if x < 0.55 and x > 0.45 else 0).value_counts()"
      ],
      "execution_count": null,
      "outputs": [
        {
          "output_type": "execute_result",
          "data": {
            "text/plain": [
              "0    1471\n",
              "1      96\n",
              "Name: Target, dtype: int64"
            ]
          },
          "metadata": {
            "tags": []
          },
          "execution_count": 232
        }
      ]
    },
    {
      "cell_type": "code",
      "metadata": {
        "colab": {
          "base_uri": "https://localhost:8080/"
        },
        "id": "SvnqKkWyEOej",
        "outputId": "3f5cea15-5671-4621-a3e0-6e39b0909214"
      },
      "source": [
        "dataResultante['Target'].agg(lambda x: 1 if x > 0.95 or x < 0.05 else 0).value_counts()"
      ],
      "execution_count": null,
      "outputs": [
        {
          "output_type": "execute_result",
          "data": {
            "text/plain": [
              "0    1567\n",
              "Name: Target, dtype: int64"
            ]
          },
          "metadata": {
            "tags": []
          },
          "execution_count": 233
        }
      ]
    },
    {
      "cell_type": "code",
      "metadata": {
        "colab": {
          "base_uri": "https://localhost:8080/"
        },
        "id": "hSt4jpEWFP03",
        "outputId": "c3eb9be3-2a1e-4701-b7d0-87e21e6c02db"
      },
      "source": [
        "#prueva de supuestos\r\n",
        "#vencer = pd.read_csv('valoresAVencer.csv',index_col='Opportunity_ID')\r\n",
        "#vencer.info()"
      ],
      "execution_count": null,
      "outputs": [
        {
          "output_type": "stream",
          "text": [
            "<class 'pandas.core.frame.DataFrame'>\n",
            "Int64Index: 1567 entries, 10689 to 12368\n",
            "Data columns (total 1 columns):\n",
            " #   Column  Non-Null Count  Dtype  \n",
            "---  ------  --------------  -----  \n",
            " 0   Target  1567 non-null   float64\n",
            "dtypes: float64(1)\n",
            "memory usage: 24.5 KB\n"
          ],
          "name": "stdout"
        }
      ]
    },
    {
      "cell_type": "markdown",
      "metadata": {
        "id": "zVBNOzCKY0VD"
      },
      "source": [
        "## Resultado"
      ]
    },
    {
      "cell_type": "code",
      "metadata": {
        "id": "bU-Rs00eY2ix"
      },
      "source": [
        "def generarResultado(df,prediccion):\r\n",
        "  resultado = df\r\n",
        "  resultado['Target'] = prediccion\r\n",
        "  resultado = resultado[['Target']]\r\n",
        "  resultado.to_csv('resultado.csv')\r\n",
        "  return resultado"
      ],
      "execution_count": null,
      "outputs": []
    },
    {
      "cell_type": "code",
      "metadata": {
        "id": "YqPqyX1ihs-Q"
      },
      "source": [
        "def auxiliarUnificarValor(arreglo):\r\n",
        "  return arreglo[:,0]"
      ],
      "execution_count": null,
      "outputs": []
    },
    {
      "cell_type": "markdown",
      "metadata": {
        "id": "J983upopKwQx"
      },
      "source": [
        "## Catboost"
      ]
    },
    {
      "cell_type": "markdown",
      "metadata": {
        "id": "I-rXEcxr-Nns"
      },
      "source": [
        "### grid search"
      ]
    },
    {
      "cell_type": "code",
      "metadata": {
        "id": "_fzOaeis953k"
      },
      "source": [
        "def GridSearchCatboost(train_data_o,train_labels,cat_features):\r\n",
        "  \"\"\"clf = CatBoostClassifier()\r\n",
        "  params = {'iterations': [500],\r\n",
        "            'depth': [4, 5, 6],\r\n",
        "            #'loss_function': ['Logloss', 'CrossEntropy'],\r\n",
        "            'l2_leaf_reg': np.logspace(-10, 1, 50),\r\n",
        "            'leaf_estimation_iterations': [10],\r\n",
        "            'learning_rate': [0.5,0.25,0.05],\r\n",
        "            'rsm' : [0.7,0.5]\r\n",
        "            #'eval_metric': ['Accuracy'],\r\n",
        "            #'use_best_model': ['True'],\r\n",
        "            #'logging_level':['Silent'],\r\n",
        "            #'random_seed': [42]\r\n",
        "          }\r\n",
        "  scorer = make_scorer(accuracy_score)\r\n",
        "  clf_grid = GridSearchCV(estimator=clf, param_grid=params, scoring=scorer, cv=5)\r\n",
        "  clf_grid.fit(X_train_enc, y_train,cat_features)\r\n",
        "  best_param = clf_grid.best_params_\r\n",
        "  return best_param\"\"\"\r\n",
        "  model = CatBoostClassifier(loss_function='Logloss')\r\n",
        "  #model = CatBoostClassifier(loss_function='CrossEntropy')\r\n",
        "\r\n",
        "  train_data = train_data_o\r\n",
        "  # convert categorical columns to integers\r\n",
        "  for header in cat_features:\r\n",
        "    train_data[header] = train_data[header].astype('category').cat.codes\r\n",
        "\r\n",
        "  grid = {'learning_rate': list(np.arange(0.05,0.51,0.05)),\r\n",
        "          'depth': list(range(6,13,2)),\r\n",
        "          'l2_leaf_reg': list(np.arange(2,5.1,0.5)),\r\n",
        "          'iterations': list(range(10,101,15)),\r\n",
        "          'rsm':list(np.arange(0.1,1.1,0.1))\r\n",
        "          }\r\n",
        "\r\n",
        "  grid_search_result = model.grid_search(grid, \r\n",
        "                                        X=train_data, \r\n",
        "                                        y=train_labels,\r\n",
        "                                        cv=10,\r\n",
        "                                        plot=True)\r\n",
        "  \r\n",
        "  return grid_search_result"
      ],
      "execution_count": null,
      "outputs": []
    },
    {
      "cell_type": "code",
      "metadata": {
        "id": "Pf2F-A-IBfPH"
      },
      "source": [
        "listaDeCategoricas = ['Region','Territory','Product_Type','Product_Category_B',\r\n",
        "                      'Account_Type','Delivery_Quarter','Billing_Country']\r\n",
        "#listaDeCategoricas = []\r\n",
        "valores = GridSearchCatboost(agrupacionEntrenamiento,entrenamientoResultado,listaDeCategoricas)\r\n",
        "valores"
      ],
      "execution_count": null,
      "outputs": []
    },
    {
      "cell_type": "markdown",
      "metadata": {
        "id": "eXu5RWvjWtP-"
      },
      "source": [
        "### bayesian"
      ]
    },
    {
      "cell_type": "code",
      "metadata": {
        "id": "sAAZRp5tWwS-"
      },
      "source": [
        "def catboost_classifier(learning_rate, depth, l2_leaf_reg,iterations,rsm):\r\n",
        "    params = {\r\n",
        "        \"loss_function\": \"Logloss\",\r\n",
        "        #\"eval_metric\" : \"AUC\", \r\n",
        "        \"depth\" : int(depth),\r\n",
        "        \"l2_leaf_reg\" : l2_leaf_reg,\r\n",
        "        \"learning_rate\" : learning_rate,\r\n",
        "        #\"random_state\" : 42,\r\n",
        "        \"rsm\" : rsm,\r\n",
        "        \"iterations\": int(iterations)\r\n",
        "        #\"logging_level\" : \"Silent\",\r\n",
        "        #\"thread_count\": 24,\r\n",
        "        #\"num_boost_round\": int(num_boost_round)\r\n",
        "    }\r\n",
        "    X_train = agrupacionEntrenamiento\r\n",
        "    y_train = entrenamientoResultado\r\n",
        "    categorical_features = ['Region','Territory','Product_Type','Product_Category_B',\r\n",
        "                            'Account_Type','Delivery_Quarter','Billing_Country']\r\n",
        "\r\n",
        "    train_data = Pool(data=X_train, label=y_train, \r\n",
        "                               cat_features=categorical_features)\r\n",
        "    \r\n",
        "    cv_result = cv(train_data,\r\n",
        "                       params,\r\n",
        "                       early_stopping_rounds=100,\r\n",
        "                       stratified=True,\r\n",
        "                       nfold=3)\r\n",
        "    return cv_result['train-Logloss-mean'].iloc[-1]\r\n",
        "\r\n",
        "def bayesianoCatboost():\r\n",
        "  grid = {'learning_rate': (0.01,0.10),\r\n",
        "          'depth': (8,14),\r\n",
        "          'l2_leaf_reg': (0.1,3.0),\r\n",
        "          'iterations': (10,100),\r\n",
        "          'rsm':(0.01,1.0)\r\n",
        "          }\r\n",
        "  catboostBO = BayesianOptimization(catboost_classifier, grid)\r\n",
        "\r\n",
        "  return catboostBO.maximize(n_iter=15, init_points=2)"
      ],
      "execution_count": null,
      "outputs": []
    },
    {
      "cell_type": "code",
      "metadata": {
        "colab": {
          "base_uri": "https://localhost:8080/"
        },
        "id": "hRhmFXIFXlLU",
        "outputId": "ad37e4d4-defb-40c6-ba86-13595911aabb"
      },
      "source": [
        "bayesianoCatboost()\r\n",
        "#catboost_classifier(0.05,10,3.5,20,0.5)"
      ],
      "execution_count": null,
      "outputs": [
        {
          "output_type": "stream",
          "text": [
            "|   iter    |  target   |   depth   | iterat... | l2_lea... | learni... |    rsm    |\n",
            "-------------------------------------------------------------------------------------\n",
            "0:\tlearn: 0.6794059\ttest: 0.6801177\tbest: 0.6801177 (0)\ttotal: 154ms\tremaining: 12.2s\n",
            "1:\tlearn: 0.6666912\ttest: 0.6682458\tbest: 0.6682458 (1)\ttotal: 319ms\tremaining: 12.5s\n",
            "2:\tlearn: 0.6540947\ttest: 0.6565980\tbest: 0.6565980 (2)\ttotal: 475ms\tremaining: 12.2s\n",
            "3:\tlearn: 0.6418077\ttest: 0.6448695\tbest: 0.6448695 (3)\ttotal: 635ms\tremaining: 12.1s\n",
            "4:\tlearn: 0.6289087\ttest: 0.6325313\tbest: 0.6325313 (4)\ttotal: 791ms\tremaining: 11.9s\n",
            "5:\tlearn: 0.6171969\ttest: 0.6210287\tbest: 0.6210287 (5)\ttotal: 930ms\tremaining: 11.5s\n",
            "6:\tlearn: 0.6061907\ttest: 0.6105018\tbest: 0.6105018 (6)\ttotal: 1.08s\tremaining: 11.3s\n",
            "7:\tlearn: 0.5972383\ttest: 0.6014687\tbest: 0.6014687 (7)\ttotal: 1.24s\tremaining: 11.2s\n",
            "8:\tlearn: 0.5875914\ttest: 0.5920759\tbest: 0.5920759 (8)\ttotal: 1.4s\tremaining: 11.1s\n",
            "9:\tlearn: 0.5771851\ttest: 0.5821646\tbest: 0.5821646 (9)\ttotal: 1.55s\tremaining: 10.9s\n",
            "10:\tlearn: 0.5688640\ttest: 0.5740710\tbest: 0.5740710 (10)\ttotal: 1.71s\tremaining: 10.7s\n",
            "11:\tlearn: 0.5599564\ttest: 0.5654103\tbest: 0.5654103 (11)\ttotal: 1.86s\tremaining: 10.6s\n",
            "12:\tlearn: 0.5511958\ttest: 0.5571288\tbest: 0.5571288 (12)\ttotal: 2.04s\tremaining: 10.5s\n",
            "13:\tlearn: 0.5437942\ttest: 0.5503559\tbest: 0.5503559 (13)\ttotal: 2.19s\tremaining: 10.3s\n",
            "14:\tlearn: 0.5373351\ttest: 0.5443761\tbest: 0.5443761 (14)\ttotal: 2.33s\tremaining: 10.1s\n",
            "15:\tlearn: 0.5305582\ttest: 0.5378230\tbest: 0.5378230 (15)\ttotal: 2.5s\tremaining: 10s\n",
            "16:\tlearn: 0.5253740\ttest: 0.5328839\tbest: 0.5328839 (16)\ttotal: 2.66s\tremaining: 9.87s\n",
            "17:\tlearn: 0.5188627\ttest: 0.5265735\tbest: 0.5265735 (17)\ttotal: 2.82s\tremaining: 9.72s\n",
            "18:\tlearn: 0.5132479\ttest: 0.5214086\tbest: 0.5214086 (18)\ttotal: 2.97s\tremaining: 9.55s\n",
            "19:\tlearn: 0.5081883\ttest: 0.5165941\tbest: 0.5165941 (19)\ttotal: 3.13s\tremaining: 9.38s\n",
            "20:\tlearn: 0.5030523\ttest: 0.5120616\tbest: 0.5120616 (20)\ttotal: 3.28s\tremaining: 9.22s\n",
            "21:\tlearn: 0.4984942\ttest: 0.5080675\tbest: 0.5080675 (21)\ttotal: 3.43s\tremaining: 9.05s\n",
            "22:\tlearn: 0.4934801\ttest: 0.5034576\tbest: 0.5034576 (22)\ttotal: 3.58s\tremaining: 8.88s\n",
            "23:\tlearn: 0.4887284\ttest: 0.4990367\tbest: 0.4990367 (23)\ttotal: 3.75s\tremaining: 8.74s\n",
            "24:\tlearn: 0.4845451\ttest: 0.4952819\tbest: 0.4952819 (24)\ttotal: 3.91s\tremaining: 8.6s\n",
            "25:\tlearn: 0.4798344\ttest: 0.4913627\tbest: 0.4913627 (25)\ttotal: 4.07s\tremaining: 8.45s\n",
            "26:\tlearn: 0.4755569\ttest: 0.4875373\tbest: 0.4875373 (26)\ttotal: 4.22s\tremaining: 8.29s\n",
            "27:\tlearn: 0.4719317\ttest: 0.4844017\tbest: 0.4844017 (27)\ttotal: 4.37s\tremaining: 8.11s\n",
            "28:\tlearn: 0.4688024\ttest: 0.4817446\tbest: 0.4817446 (28)\ttotal: 4.51s\tremaining: 7.93s\n",
            "29:\tlearn: 0.4649249\ttest: 0.4783141\tbest: 0.4783141 (29)\ttotal: 4.66s\tremaining: 7.77s\n",
            "30:\tlearn: 0.4614393\ttest: 0.4751217\tbest: 0.4751217 (30)\ttotal: 4.82s\tremaining: 7.62s\n",
            "31:\tlearn: 0.4579297\ttest: 0.4721720\tbest: 0.4721720 (31)\ttotal: 4.97s\tremaining: 7.46s\n",
            "32:\tlearn: 0.4550589\ttest: 0.4696284\tbest: 0.4696284 (32)\ttotal: 5.12s\tremaining: 7.3s\n",
            "33:\tlearn: 0.4521700\ttest: 0.4672730\tbest: 0.4672730 (33)\ttotal: 5.28s\tremaining: 7.14s\n",
            "34:\tlearn: 0.4490809\ttest: 0.4644406\tbest: 0.4644406 (34)\ttotal: 5.42s\tremaining: 6.96s\n",
            "35:\tlearn: 0.4468386\ttest: 0.4625154\tbest: 0.4625154 (35)\ttotal: 5.56s\tremaining: 6.8s\n",
            "36:\tlearn: 0.4442391\ttest: 0.4603391\tbest: 0.4603391 (36)\ttotal: 5.72s\tremaining: 6.65s\n",
            "37:\tlearn: 0.4411228\ttest: 0.4578972\tbest: 0.4578972 (37)\ttotal: 5.89s\tremaining: 6.51s\n",
            "38:\tlearn: 0.4387341\ttest: 0.4559152\tbest: 0.4559152 (38)\ttotal: 6.04s\tremaining: 6.35s\n",
            "39:\tlearn: 0.4364577\ttest: 0.4539801\tbest: 0.4539801 (39)\ttotal: 6.19s\tremaining: 6.19s\n",
            "40:\tlearn: 0.4345963\ttest: 0.4524817\tbest: 0.4524817 (40)\ttotal: 6.34s\tremaining: 6.03s\n",
            "41:\tlearn: 0.4327644\ttest: 0.4508849\tbest: 0.4508849 (41)\ttotal: 6.5s\tremaining: 5.88s\n",
            "42:\tlearn: 0.4308627\ttest: 0.4492904\tbest: 0.4492904 (42)\ttotal: 6.64s\tremaining: 5.71s\n",
            "43:\tlearn: 0.4294892\ttest: 0.4481650\tbest: 0.4481650 (43)\ttotal: 6.79s\tremaining: 5.55s\n",
            "44:\tlearn: 0.4276049\ttest: 0.4466579\tbest: 0.4466579 (44)\ttotal: 6.95s\tremaining: 5.4s\n",
            "45:\tlearn: 0.4259457\ttest: 0.4453406\tbest: 0.4453406 (45)\ttotal: 7.11s\tremaining: 5.26s\n",
            "46:\tlearn: 0.4243655\ttest: 0.4440484\tbest: 0.4440484 (46)\ttotal: 7.25s\tremaining: 5.09s\n",
            "47:\tlearn: 0.4229439\ttest: 0.4426239\tbest: 0.4426239 (47)\ttotal: 7.4s\tremaining: 4.93s\n",
            "48:\tlearn: 0.4208711\ttest: 0.4407839\tbest: 0.4407839 (48)\ttotal: 7.55s\tremaining: 4.78s\n",
            "49:\tlearn: 0.4187447\ttest: 0.4391081\tbest: 0.4391081 (49)\ttotal: 7.69s\tremaining: 4.62s\n",
            "50:\tlearn: 0.4168905\ttest: 0.4378143\tbest: 0.4378143 (50)\ttotal: 7.83s\tremaining: 4.46s\n",
            "51:\tlearn: 0.4149180\ttest: 0.4361666\tbest: 0.4361666 (51)\ttotal: 8s\tremaining: 4.3s\n",
            "52:\tlearn: 0.4134438\ttest: 0.4350837\tbest: 0.4350837 (52)\ttotal: 8.15s\tremaining: 4.15s\n",
            "53:\tlearn: 0.4117801\ttest: 0.4338646\tbest: 0.4338646 (53)\ttotal: 8.3s\tremaining: 4s\n",
            "54:\tlearn: 0.4107424\ttest: 0.4330748\tbest: 0.4330748 (54)\ttotal: 8.44s\tremaining: 3.83s\n",
            "55:\tlearn: 0.4094117\ttest: 0.4320186\tbest: 0.4320186 (55)\ttotal: 8.58s\tremaining: 3.68s\n",
            "56:\tlearn: 0.4076834\ttest: 0.4307561\tbest: 0.4307561 (56)\ttotal: 8.72s\tremaining: 3.52s\n",
            "57:\tlearn: 0.4059860\ttest: 0.4296707\tbest: 0.4296707 (57)\ttotal: 8.88s\tremaining: 3.37s\n",
            "58:\tlearn: 0.4045447\ttest: 0.4286233\tbest: 0.4286233 (58)\ttotal: 9.04s\tremaining: 3.22s\n",
            "59:\tlearn: 0.4028561\ttest: 0.4274568\tbest: 0.4274568 (59)\ttotal: 9.2s\tremaining: 3.06s\n",
            "60:\tlearn: 0.4016437\ttest: 0.4266355\tbest: 0.4266355 (60)\ttotal: 9.34s\tremaining: 2.91s\n",
            "61:\tlearn: 0.4003194\ttest: 0.4255932\tbest: 0.4255932 (61)\ttotal: 9.49s\tremaining: 2.75s\n",
            "62:\tlearn: 0.3990402\ttest: 0.4247288\tbest: 0.4247288 (62)\ttotal: 9.64s\tremaining: 2.6s\n",
            "63:\tlearn: 0.3980706\ttest: 0.4240182\tbest: 0.4240182 (63)\ttotal: 9.79s\tremaining: 2.45s\n",
            "64:\tlearn: 0.3964711\ttest: 0.4229883\tbest: 0.4229883 (64)\ttotal: 9.93s\tremaining: 2.29s\n",
            "65:\tlearn: 0.3955935\ttest: 0.4224212\tbest: 0.4224212 (65)\ttotal: 10.1s\tremaining: 2.14s\n",
            "66:\tlearn: 0.3943593\ttest: 0.4216817\tbest: 0.4216817 (66)\ttotal: 10.2s\tremaining: 1.98s\n",
            "67:\tlearn: 0.3934328\ttest: 0.4210181\tbest: 0.4210181 (67)\ttotal: 10.4s\tremaining: 1.83s\n",
            "68:\tlearn: 0.3917560\ttest: 0.4200346\tbest: 0.4200346 (68)\ttotal: 10.5s\tremaining: 1.68s\n",
            "69:\tlearn: 0.3906074\ttest: 0.4193228\tbest: 0.4193228 (69)\ttotal: 10.7s\tremaining: 1.52s\n",
            "70:\tlearn: 0.3893462\ttest: 0.4185285\tbest: 0.4185285 (70)\ttotal: 10.8s\tremaining: 1.37s\n",
            "71:\tlearn: 0.3881354\ttest: 0.4175201\tbest: 0.4175201 (71)\ttotal: 11s\tremaining: 1.22s\n",
            "72:\tlearn: 0.3868315\ttest: 0.4165752\tbest: 0.4165752 (72)\ttotal: 11.1s\tremaining: 1.07s\n",
            "73:\tlearn: 0.3855402\ttest: 0.4157642\tbest: 0.4157642 (73)\ttotal: 11.3s\tremaining: 916ms\n",
            "74:\tlearn: 0.3844619\ttest: 0.4150505\tbest: 0.4150505 (74)\ttotal: 11.4s\tremaining: 762ms\n",
            "75:\tlearn: 0.3832697\ttest: 0.4143251\tbest: 0.4143251 (75)\ttotal: 11.6s\tremaining: 610ms\n",
            "76:\tlearn: 0.3820002\ttest: 0.4135469\tbest: 0.4135469 (76)\ttotal: 11.7s\tremaining: 457ms\n",
            "77:\tlearn: 0.3807356\ttest: 0.4128701\tbest: 0.4128701 (77)\ttotal: 11.9s\tremaining: 304ms\n",
            "78:\tlearn: 0.3795974\ttest: 0.4123087\tbest: 0.4123087 (78)\ttotal: 12s\tremaining: 152ms\n",
            "79:\tlearn: 0.3782884\ttest: 0.4112777\tbest: 0.4112777 (79)\ttotal: 12.2s\tremaining: 0us\n",
            "| \u001b[0m 1       \u001b[0m | \u001b[0m 0.3783  \u001b[0m | \u001b[0m 8.333   \u001b[0m | \u001b[0m 80.19   \u001b[0m | \u001b[0m 2.674   \u001b[0m | \u001b[0m 0.03217 \u001b[0m | \u001b[0m 0.3096  \u001b[0m |\n",
            "0:\tlearn: 0.6397778\ttest: 0.6450029\tbest: 0.6450029 (0)\ttotal: 187ms\tremaining: 9.94s\n",
            "1:\tlearn: 0.5960103\ttest: 0.6053278\tbest: 0.6053278 (1)\ttotal: 358ms\tremaining: 9.31s\n",
            "2:\tlearn: 0.5661581\ttest: 0.5764188\tbest: 0.5764188 (2)\ttotal: 503ms\tremaining: 8.55s\n",
            "3:\tlearn: 0.5369288\ttest: 0.5504122\tbest: 0.5504122 (3)\ttotal: 674ms\tremaining: 8.42s\n",
            "4:\tlearn: 0.5105985\ttest: 0.5277466\tbest: 0.5277466 (4)\ttotal: 847ms\tremaining: 8.3s\n",
            "5:\tlearn: 0.4893532\ttest: 0.5107225\tbest: 0.5107225 (5)\ttotal: 1s\tremaining: 8.05s\n",
            "6:\tlearn: 0.4666888\ttest: 0.4936736\tbest: 0.4936736 (6)\ttotal: 1.18s\tremaining: 7.93s\n",
            "7:\tlearn: 0.4526158\ttest: 0.4819139\tbest: 0.4819139 (7)\ttotal: 1.36s\tremaining: 7.8s\n",
            "8:\tlearn: 0.4365443\ttest: 0.4703190\tbest: 0.4703190 (8)\ttotal: 1.53s\tremaining: 7.64s\n",
            "9:\tlearn: 0.4228884\ttest: 0.4617193\tbest: 0.4617193 (9)\ttotal: 1.7s\tremaining: 7.46s\n",
            "10:\tlearn: 0.4082197\ttest: 0.4515598\tbest: 0.4515598 (10)\ttotal: 1.86s\tremaining: 7.29s\n",
            "11:\tlearn: 0.3990049\ttest: 0.4451128\tbest: 0.4451128 (11)\ttotal: 2.04s\tremaining: 7.14s\n",
            "12:\tlearn: 0.3899259\ttest: 0.4394868\tbest: 0.4394868 (12)\ttotal: 2.21s\tremaining: 6.96s\n",
            "13:\tlearn: 0.3805339\ttest: 0.4335730\tbest: 0.4335730 (13)\ttotal: 2.38s\tremaining: 6.79s\n",
            "14:\tlearn: 0.3729206\ttest: 0.4294898\tbest: 0.4294898 (14)\ttotal: 2.55s\tremaining: 6.63s\n",
            "15:\tlearn: 0.3662055\ttest: 0.4255298\tbest: 0.4255298 (15)\ttotal: 2.72s\tremaining: 6.46s\n",
            "16:\tlearn: 0.3578054\ttest: 0.4211509\tbest: 0.4211509 (16)\ttotal: 2.88s\tremaining: 6.28s\n",
            "17:\tlearn: 0.3498293\ttest: 0.4171986\tbest: 0.4171986 (17)\ttotal: 3.05s\tremaining: 6.1s\n",
            "18:\tlearn: 0.3450965\ttest: 0.4145905\tbest: 0.4145905 (18)\ttotal: 3.22s\tremaining: 5.93s\n",
            "19:\tlearn: 0.3395328\ttest: 0.4110117\tbest: 0.4110117 (19)\ttotal: 3.39s\tremaining: 5.77s\n",
            "20:\tlearn: 0.3351382\ttest: 0.4086232\tbest: 0.4086232 (20)\ttotal: 3.56s\tremaining: 5.59s\n",
            "21:\tlearn: 0.3313064\ttest: 0.4071507\tbest: 0.4071507 (21)\ttotal: 3.73s\tremaining: 5.43s\n",
            "22:\tlearn: 0.3248421\ttest: 0.4043232\tbest: 0.4043232 (22)\ttotal: 3.9s\tremaining: 5.25s\n",
            "23:\tlearn: 0.3203026\ttest: 0.4025385\tbest: 0.4025385 (23)\ttotal: 4.06s\tremaining: 5.07s\n",
            "24:\tlearn: 0.3161711\ttest: 0.4001774\tbest: 0.4001774 (24)\ttotal: 4.23s\tremaining: 4.91s\n",
            "25:\tlearn: 0.3105991\ttest: 0.3971587\tbest: 0.3971587 (25)\ttotal: 4.41s\tremaining: 4.75s\n",
            "26:\tlearn: 0.3074044\ttest: 0.3951336\tbest: 0.3951336 (26)\ttotal: 4.6s\tremaining: 4.6s\n",
            "27:\tlearn: 0.3046969\ttest: 0.3940136\tbest: 0.3940136 (27)\ttotal: 4.76s\tremaining: 4.42s\n",
            "28:\tlearn: 0.3017614\ttest: 0.3929459\tbest: 0.3929459 (28)\ttotal: 4.95s\tremaining: 4.27s\n",
            "29:\tlearn: 0.2970671\ttest: 0.3912166\tbest: 0.3912166 (29)\ttotal: 5.14s\tremaining: 4.11s\n",
            "30:\tlearn: 0.2937792\ttest: 0.3895100\tbest: 0.3895100 (30)\ttotal: 5.33s\tremaining: 3.95s\n",
            "31:\tlearn: 0.2898829\ttest: 0.3883216\tbest: 0.3883216 (31)\ttotal: 5.49s\tremaining: 3.77s\n",
            "32:\tlearn: 0.2869287\ttest: 0.3868264\tbest: 0.3868264 (32)\ttotal: 5.66s\tremaining: 3.6s\n",
            "33:\tlearn: 0.2838673\ttest: 0.3856636\tbest: 0.3856636 (33)\ttotal: 5.84s\tremaining: 3.44s\n",
            "34:\tlearn: 0.2804693\ttest: 0.3844517\tbest: 0.3844517 (34)\ttotal: 6s\tremaining: 3.26s\n",
            "35:\tlearn: 0.2764558\ttest: 0.3833322\tbest: 0.3833322 (35)\ttotal: 6.2s\tremaining: 3.1s\n",
            "36:\tlearn: 0.2748697\ttest: 0.3824818\tbest: 0.3824818 (36)\ttotal: 6.37s\tremaining: 2.92s\n",
            "37:\tlearn: 0.2723410\ttest: 0.3814389\tbest: 0.3814389 (37)\ttotal: 6.55s\tremaining: 2.76s\n",
            "38:\tlearn: 0.2700074\ttest: 0.3803870\tbest: 0.3803870 (38)\ttotal: 6.73s\tremaining: 2.59s\n",
            "39:\tlearn: 0.2672485\ttest: 0.3792500\tbest: 0.3792500 (39)\ttotal: 6.9s\tremaining: 2.42s\n",
            "40:\tlearn: 0.2658059\ttest: 0.3787642\tbest: 0.3787642 (40)\ttotal: 7.06s\tremaining: 2.24s\n",
            "41:\tlearn: 0.2610414\ttest: 0.3773505\tbest: 0.3773505 (41)\ttotal: 7.24s\tremaining: 2.07s\n",
            "42:\tlearn: 0.2565884\ttest: 0.3761282\tbest: 0.3761282 (42)\ttotal: 7.42s\tremaining: 1.9s\n",
            "43:\tlearn: 0.2541430\ttest: 0.3755580\tbest: 0.3755580 (43)\ttotal: 7.59s\tremaining: 1.72s\n",
            "44:\tlearn: 0.2521400\ttest: 0.3749705\tbest: 0.3749705 (44)\ttotal: 7.74s\tremaining: 1.55s\n",
            "45:\tlearn: 0.2503464\ttest: 0.3742872\tbest: 0.3742872 (45)\ttotal: 7.92s\tremaining: 1.38s\n",
            "46:\tlearn: 0.2487281\ttest: 0.3739038\tbest: 0.3739038 (46)\ttotal: 8.09s\tremaining: 1.2s\n",
            "47:\tlearn: 0.2469596\ttest: 0.3734756\tbest: 0.3734756 (47)\ttotal: 8.25s\tremaining: 1.03s\n",
            "48:\tlearn: 0.2443558\ttest: 0.3730373\tbest: 0.3730373 (48)\ttotal: 8.4s\tremaining: 857ms\n",
            "49:\tlearn: 0.2412933\ttest: 0.3721711\tbest: 0.3721711 (49)\ttotal: 8.56s\tremaining: 685ms\n",
            "50:\tlearn: 0.2389146\ttest: 0.3715061\tbest: 0.3715061 (50)\ttotal: 8.75s\tremaining: 514ms\n",
            "51:\tlearn: 0.2367969\ttest: 0.3710382\tbest: 0.3710382 (51)\ttotal: 8.91s\tremaining: 343ms\n",
            "52:\tlearn: 0.2344852\ttest: 0.3701576\tbest: 0.3701576 (52)\ttotal: 9.11s\tremaining: 172ms\n",
            "53:\tlearn: 0.2313613\ttest: 0.3696966\tbest: 0.3696966 (53)\ttotal: 9.28s\tremaining: 0us\n",
            "| \u001b[0m 2       \u001b[0m | \u001b[0m 0.2314  \u001b[0m | \u001b[0m 10.71   \u001b[0m | \u001b[0m 54.67   \u001b[0m | \u001b[0m 1.544   \u001b[0m | \u001b[0m 0.09759 \u001b[0m | \u001b[0m 0.5363  \u001b[0m |\n",
            "0:\tlearn: 0.5787415\ttest: 0.6159485\tbest: 0.6159485 (0)\ttotal: 992ms\tremaining: 1m 38s\n",
            "1:\tlearn: 0.4954806\ttest: 0.5609503\tbest: 0.5609503 (1)\ttotal: 1.91s\tremaining: 1m 33s\n",
            "2:\tlearn: 0.4283721\ttest: 0.5215394\tbest: 0.5215394 (2)\ttotal: 2.72s\tremaining: 1m 27s\n",
            "3:\tlearn: 0.3898445\ttest: 0.4944329\tbest: 0.4944329 (3)\ttotal: 3.37s\tremaining: 1m 20s\n",
            "4:\tlearn: 0.3422706\ttest: 0.4710051\tbest: 0.4710051 (4)\ttotal: 4.29s\tremaining: 1m 21s\n",
            "5:\tlearn: 0.3128345\ttest: 0.4547135\tbest: 0.4547135 (5)\ttotal: 4.96s\tremaining: 1m 17s\n",
            "6:\tlearn: 0.2839962\ttest: 0.4398877\tbest: 0.4398877 (6)\ttotal: 5.63s\tremaining: 1m 14s\n",
            "7:\tlearn: 0.2516493\ttest: 0.4287572\tbest: 0.4287572 (7)\ttotal: 6.57s\tremaining: 1m 15s\n",
            "8:\tlearn: 0.2435875\ttest: 0.4252365\tbest: 0.4252365 (8)\ttotal: 6.94s\tremaining: 1m 10s\n",
            "9:\tlearn: 0.2193729\ttest: 0.4183666\tbest: 0.4183666 (9)\ttotal: 7.87s\tremaining: 1m 10s\n",
            "10:\tlearn: 0.1971565\ttest: 0.4117917\tbest: 0.4117917 (10)\ttotal: 8.83s\tremaining: 1m 11s\n",
            "11:\tlearn: 0.1766867\ttest: 0.4083680\tbest: 0.4083680 (11)\ttotal: 9.74s\tremaining: 1m 11s\n",
            "12:\tlearn: 0.1644541\ttest: 0.4044507\tbest: 0.4044507 (12)\ttotal: 10.4s\tremaining: 1m 9s\n",
            "13:\tlearn: 0.1547263\ttest: 0.4014564\tbest: 0.4014564 (13)\ttotal: 11s\tremaining: 1m 7s\n",
            "14:\tlearn: 0.1456336\ttest: 0.3983941\tbest: 0.3983941 (14)\ttotal: 11.9s\tremaining: 1m 7s\n",
            "15:\tlearn: 0.1379082\ttest: 0.3952222\tbest: 0.3952222 (15)\ttotal: 12.8s\tremaining: 1m 7s\n",
            "16:\tlearn: 0.1298025\ttest: 0.3926298\tbest: 0.3926298 (16)\ttotal: 13.7s\tremaining: 1m 6s\n",
            "17:\tlearn: 0.1255704\ttest: 0.3908440\tbest: 0.3908440 (17)\ttotal: 14.4s\tremaining: 1m 5s\n",
            "18:\tlearn: 0.1147652\ttest: 0.3895379\tbest: 0.3895379 (18)\ttotal: 15.3s\tremaining: 1m 5s\n",
            "19:\tlearn: 0.1098314\ttest: 0.3889670\tbest: 0.3889670 (19)\ttotal: 15.9s\tremaining: 1m 3s\n",
            "20:\tlearn: 0.1074866\ttest: 0.3876105\tbest: 0.3876105 (20)\ttotal: 16.6s\tremaining: 1m 2s\n",
            "21:\tlearn: 0.1046653\ttest: 0.3869426\tbest: 0.3869426 (21)\ttotal: 17.2s\tremaining: 1m\n",
            "22:\tlearn: 0.0969220\ttest: 0.3870362\tbest: 0.3869426 (21)\ttotal: 18.1s\tremaining: 1m\n",
            "23:\tlearn: 0.0912783\ttest: 0.3860632\tbest: 0.3860632 (23)\ttotal: 19s\tremaining: 1m\n",
            "24:\tlearn: 0.0859127\ttest: 0.3858334\tbest: 0.3858334 (24)\ttotal: 19.9s\tremaining: 59.6s\n",
            "25:\tlearn: 0.0824953\ttest: 0.3857440\tbest: 0.3857440 (25)\ttotal: 20.5s\tremaining: 58.4s\n",
            "26:\tlearn: 0.0783104\ttest: 0.3845153\tbest: 0.3845153 (26)\ttotal: 21.4s\tremaining: 57.9s\n",
            "27:\tlearn: 0.0745408\ttest: 0.3853298\tbest: 0.3845153 (26)\ttotal: 22.4s\tremaining: 57.5s\n",
            "28:\tlearn: 0.0695401\ttest: 0.3852937\tbest: 0.3845153 (26)\ttotal: 23.3s\tremaining: 57s\n",
            "29:\tlearn: 0.0687414\ttest: 0.3847774\tbest: 0.3845153 (26)\ttotal: 23.7s\tremaining: 55.3s\n",
            "30:\tlearn: 0.0668466\ttest: 0.3847574\tbest: 0.3845153 (26)\ttotal: 24.6s\tremaining: 54.8s\n",
            "31:\tlearn: 0.0635251\ttest: 0.3849098\tbest: 0.3845153 (26)\ttotal: 25.5s\tremaining: 54.3s\n",
            "32:\tlearn: 0.0614882\ttest: 0.3856477\tbest: 0.3845153 (26)\ttotal: 26.2s\tremaining: 53.2s\n",
            "33:\tlearn: 0.0586208\ttest: 0.3856407\tbest: 0.3845153 (26)\ttotal: 27.1s\tremaining: 52.7s\n",
            "34:\tlearn: 0.0577129\ttest: 0.3855207\tbest: 0.3845153 (26)\ttotal: 27.8s\tremaining: 51.6s\n",
            "35:\tlearn: 0.0560452\ttest: 0.3858780\tbest: 0.3845153 (26)\ttotal: 28.2s\tremaining: 50.1s\n",
            "36:\tlearn: 0.0542585\ttest: 0.3861001\tbest: 0.3845153 (26)\ttotal: 28.9s\tremaining: 49.1s\n",
            "37:\tlearn: 0.0510452\ttest: 0.3859499\tbest: 0.3845153 (26)\ttotal: 29.7s\tremaining: 48.4s\n",
            "38:\tlearn: 0.0492781\ttest: 0.3857476\tbest: 0.3845153 (26)\ttotal: 30.4s\tremaining: 47.5s\n",
            "39:\tlearn: 0.0483906\ttest: 0.3855158\tbest: 0.3845153 (26)\ttotal: 30.8s\tremaining: 46.2s\n",
            "40:\tlearn: 0.0470787\ttest: 0.3855856\tbest: 0.3845153 (26)\ttotal: 31.5s\tremaining: 45.3s\n",
            "41:\tlearn: 0.0456250\ttest: 0.3856208\tbest: 0.3845153 (26)\ttotal: 32.2s\tremaining: 44.5s\n",
            "42:\tlearn: 0.0440677\ttest: 0.3863050\tbest: 0.3845153 (26)\ttotal: 32.8s\tremaining: 43.5s\n",
            "43:\tlearn: 0.0431569\ttest: 0.3856489\tbest: 0.3845153 (26)\ttotal: 33.8s\tremaining: 43s\n",
            "44:\tlearn: 0.0424091\ttest: 0.3856454\tbest: 0.3845153 (26)\ttotal: 34.4s\tremaining: 42.1s\n",
            "45:\tlearn: 0.0403589\ttest: 0.3863687\tbest: 0.3845153 (26)\ttotal: 35.3s\tremaining: 41.4s\n",
            "46:\tlearn: 0.0385869\ttest: 0.3870856\tbest: 0.3845153 (26)\ttotal: 36.2s\tremaining: 40.9s\n",
            "47:\tlearn: 0.0374598\ttest: 0.3872241\tbest: 0.3845153 (26)\ttotal: 37.1s\tremaining: 40.2s\n",
            "48:\tlearn: 0.0359864\ttest: 0.3876685\tbest: 0.3845153 (26)\ttotal: 37.8s\tremaining: 39.4s\n",
            "49:\tlearn: 0.0347761\ttest: 0.3884248\tbest: 0.3845153 (26)\ttotal: 38.7s\tremaining: 38.7s\n",
            "50:\tlearn: 0.0342650\ttest: 0.3889315\tbest: 0.3845153 (26)\ttotal: 39.4s\tremaining: 37.9s\n",
            "51:\tlearn: 0.0336684\ttest: 0.3891567\tbest: 0.3845153 (26)\ttotal: 40.1s\tremaining: 37s\n",
            "52:\tlearn: 0.0327123\ttest: 0.3892972\tbest: 0.3845153 (26)\ttotal: 40.8s\tremaining: 36.2s\n",
            "53:\tlearn: 0.0320691\ttest: 0.3893592\tbest: 0.3845153 (26)\ttotal: 41.7s\tremaining: 35.6s\n",
            "54:\tlearn: 0.0311754\ttest: 0.3896627\tbest: 0.3845153 (26)\ttotal: 42.4s\tremaining: 34.7s\n",
            "55:\tlearn: 0.0297145\ttest: 0.3911734\tbest: 0.3845153 (26)\ttotal: 43.4s\tremaining: 34.1s\n",
            "56:\tlearn: 0.0291158\ttest: 0.3914559\tbest: 0.3845153 (26)\ttotal: 44.1s\tremaining: 33.3s\n",
            "57:\tlearn: 0.0287621\ttest: 0.3914695\tbest: 0.3845153 (26)\ttotal: 44.5s\tremaining: 32.3s\n",
            "58:\tlearn: 0.0281738\ttest: 0.3917960\tbest: 0.3845153 (26)\ttotal: 45.2s\tremaining: 31.4s\n",
            "59:\tlearn: 0.0276927\ttest: 0.3919372\tbest: 0.3845153 (26)\ttotal: 45.9s\tremaining: 30.6s\n",
            "60:\tlearn: 0.0271248\ttest: 0.3921890\tbest: 0.3845153 (26)\ttotal: 46.9s\tremaining: 30s\n",
            "61:\tlearn: 0.0265578\ttest: 0.3923805\tbest: 0.3845153 (26)\ttotal: 47.6s\tremaining: 29.1s\n",
            "62:\tlearn: 0.0263071\ttest: 0.3923848\tbest: 0.3845153 (26)\ttotal: 48.2s\tremaining: 28.3s\n",
            "63:\tlearn: 0.0259189\ttest: 0.3925317\tbest: 0.3845153 (26)\ttotal: 48.9s\tremaining: 27.5s\n",
            "64:\tlearn: 0.0254604\ttest: 0.3926968\tbest: 0.3845153 (26)\ttotal: 49.5s\tremaining: 26.7s\n",
            "65:\tlearn: 0.0246166\ttest: 0.3932084\tbest: 0.3845153 (26)\ttotal: 50.4s\tremaining: 26s\n",
            "66:\tlearn: 0.0236117\ttest: 0.3942142\tbest: 0.3845153 (26)\ttotal: 51.3s\tremaining: 25.3s\n",
            "67:\tlearn: 0.0234263\ttest: 0.3944184\tbest: 0.3845153 (26)\ttotal: 51.9s\tremaining: 24.4s\n",
            "68:\tlearn: 0.0230384\ttest: 0.3943400\tbest: 0.3845153 (26)\ttotal: 52.6s\tremaining: 23.6s\n",
            "69:\tlearn: 0.0222790\ttest: 0.3944162\tbest: 0.3845153 (26)\ttotal: 53.5s\tremaining: 22.9s\n",
            "70:\tlearn: 0.0216581\ttest: 0.3950418\tbest: 0.3845153 (26)\ttotal: 54.2s\tremaining: 22.1s\n",
            "71:\tlearn: 0.0209196\ttest: 0.3954755\tbest: 0.3845153 (26)\ttotal: 55.1s\tremaining: 21.4s\n",
            "72:\tlearn: 0.0205430\ttest: 0.3958974\tbest: 0.3845153 (26)\ttotal: 55.7s\tremaining: 20.6s\n",
            "73:\tlearn: 0.0201306\ttest: 0.3964815\tbest: 0.3845153 (26)\ttotal: 56.6s\tremaining: 19.9s\n",
            "74:\tlearn: 0.0198012\ttest: 0.3971383\tbest: 0.3845153 (26)\ttotal: 57.3s\tremaining: 19.1s\n",
            "75:\tlearn: 0.0189707\ttest: 0.3979284\tbest: 0.3845153 (26)\ttotal: 58.2s\tremaining: 18.4s\n",
            "76:\tlearn: 0.0183552\ttest: 0.3985653\tbest: 0.3845153 (26)\ttotal: 59.1s\tremaining: 17.7s\n",
            "77:\tlearn: 0.0181963\ttest: 0.3985316\tbest: 0.3845153 (26)\ttotal: 59.5s\tremaining: 16.8s\n",
            "78:\tlearn: 0.0178636\ttest: 0.3987221\tbest: 0.3845153 (26)\ttotal: 1m\tremaining: 16s\n",
            "79:\tlearn: 0.0171666\ttest: 0.3995843\tbest: 0.3845153 (26)\ttotal: 1m\tremaining: 15.2s\n",
            "80:\tlearn: 0.0165467\ttest: 0.4005561\tbest: 0.3845153 (26)\ttotal: 1m 1s\tremaining: 14.4s\n",
            "81:\tlearn: 0.0161515\ttest: 0.4012625\tbest: 0.3845153 (26)\ttotal: 1m 2s\tremaining: 13.7s\n",
            "82:\tlearn: 0.0157612\ttest: 0.4024302\tbest: 0.3845153 (26)\ttotal: 1m 3s\tremaining: 13s\n",
            "83:\tlearn: 0.0153538\ttest: 0.4031308\tbest: 0.3845153 (26)\ttotal: 1m 3s\tremaining: 12.2s\n",
            "84:\tlearn: 0.0151908\ttest: 0.4033667\tbest: 0.3845153 (26)\ttotal: 1m 4s\tremaining: 11.3s\n",
            "85:\tlearn: 0.0146872\ttest: 0.4039827\tbest: 0.3845153 (26)\ttotal: 1m 5s\tremaining: 10.6s\n",
            "86:\tlearn: 0.0144886\ttest: 0.4042495\tbest: 0.3845153 (26)\ttotal: 1m 5s\tremaining: 9.85s\n",
            "87:\tlearn: 0.0141404\ttest: 0.4048787\tbest: 0.3845153 (26)\ttotal: 1m 6s\tremaining: 9.11s\n",
            "88:\tlearn: 0.0139077\ttest: 0.4053605\tbest: 0.3845153 (26)\ttotal: 1m 7s\tremaining: 8.37s\n",
            "89:\tlearn: 0.0134596\ttest: 0.4059490\tbest: 0.3845153 (26)\ttotal: 1m 8s\tremaining: 7.63s\n",
            "90:\tlearn: 0.0130231\ttest: 0.4065908\tbest: 0.3845153 (26)\ttotal: 1m 9s\tremaining: 6.87s\n",
            "91:\tlearn: 0.0127028\ttest: 0.4071577\tbest: 0.3845153 (26)\ttotal: 1m 10s\tremaining: 6.11s\n",
            "92:\tlearn: 0.0123702\ttest: 0.4074685\tbest: 0.3845153 (26)\ttotal: 1m 11s\tremaining: 5.36s\n",
            "93:\tlearn: 0.0120824\ttest: 0.4076862\tbest: 0.3845153 (26)\ttotal: 1m 12s\tremaining: 4.6s\n",
            "94:\tlearn: 0.0116579\ttest: 0.4088018\tbest: 0.3845153 (26)\ttotal: 1m 13s\tremaining: 3.84s\n",
            "95:\tlearn: 0.0112961\ttest: 0.4092642\tbest: 0.3845153 (26)\ttotal: 1m 13s\tremaining: 3.08s\n",
            "96:\tlearn: 0.0110338\ttest: 0.4098005\tbest: 0.3845153 (26)\ttotal: 1m 14s\tremaining: 2.31s\n",
            "97:\tlearn: 0.0107321\ttest: 0.4101294\tbest: 0.3845153 (26)\ttotal: 1m 15s\tremaining: 1.54s\n",
            "98:\tlearn: 0.0103602\ttest: 0.4107300\tbest: 0.3845153 (26)\ttotal: 1m 16s\tremaining: 774ms\n",
            "99:\tlearn: 0.0100895\ttest: 0.4112893\tbest: 0.3845153 (26)\ttotal: 1m 17s\tremaining: 0us\n",
            "| \u001b[0m 3       \u001b[0m | \u001b[0m 0.01009 \u001b[0m | \u001b[0m 14.0    \u001b[0m | \u001b[0m 100.0   \u001b[0m | \u001b[0m 0.1     \u001b[0m | \u001b[0m 0.1     \u001b[0m | \u001b[0m 1.0     \u001b[0m |\n",
            "0:\tlearn: 0.6779234\ttest: 0.6788620\tbest: 0.6788620 (0)\ttotal: 176ms\tremaining: 13.9s\n",
            "1:\tlearn: 0.6644496\ttest: 0.6658777\tbest: 0.6658777 (1)\ttotal: 335ms\tremaining: 13.1s\n",
            "2:\tlearn: 0.6535934\ttest: 0.6550969\tbest: 0.6550969 (2)\ttotal: 487ms\tremaining: 12.5s\n",
            "3:\tlearn: 0.6398997\ttest: 0.6425284\tbest: 0.6425284 (3)\ttotal: 633ms\tremaining: 12s\n",
            "4:\tlearn: 0.6276399\ttest: 0.6307457\tbest: 0.6307457 (4)\ttotal: 789ms\tremaining: 11.8s\n",
            "5:\tlearn: 0.6171361\ttest: 0.6212018\tbest: 0.6212018 (5)\ttotal: 943ms\tremaining: 11.6s\n",
            "6:\tlearn: 0.6065042\ttest: 0.6111817\tbest: 0.6111817 (6)\ttotal: 1.11s\tremaining: 11.5s\n",
            "7:\tlearn: 0.5980743\ttest: 0.6032705\tbest: 0.6032705 (7)\ttotal: 1.27s\tremaining: 11.4s\n",
            "8:\tlearn: 0.5884111\ttest: 0.5939129\tbest: 0.5939129 (8)\ttotal: 1.43s\tremaining: 11.3s\n",
            "9:\tlearn: 0.5799232\ttest: 0.5860081\tbest: 0.5860081 (9)\ttotal: 1.59s\tremaining: 11.2s\n",
            "10:\tlearn: 0.5710423\ttest: 0.5780058\tbest: 0.5780058 (10)\ttotal: 1.75s\tremaining: 11s\n",
            "11:\tlearn: 0.5627030\ttest: 0.5700734\tbest: 0.5700734 (11)\ttotal: 1.91s\tremaining: 10.8s\n",
            "12:\tlearn: 0.5552766\ttest: 0.5634710\tbest: 0.5634710 (12)\ttotal: 2.07s\tremaining: 10.7s\n",
            "13:\tlearn: 0.5475517\ttest: 0.5565942\tbest: 0.5565942 (13)\ttotal: 2.22s\tremaining: 10.5s\n",
            "14:\tlearn: 0.5400208\ttest: 0.5504152\tbest: 0.5504152 (14)\ttotal: 2.38s\tremaining: 10.3s\n",
            "15:\tlearn: 0.5337856\ttest: 0.5445774\tbest: 0.5445774 (15)\ttotal: 2.52s\tremaining: 10.1s\n",
            "16:\tlearn: 0.5271739\ttest: 0.5385087\tbest: 0.5385087 (16)\ttotal: 2.69s\tremaining: 9.96s\n",
            "17:\tlearn: 0.5207166\ttest: 0.5325903\tbest: 0.5325903 (17)\ttotal: 2.84s\tremaining: 9.79s\n",
            "18:\tlearn: 0.5141202\ttest: 0.5272028\tbest: 0.5272028 (18)\ttotal: 2.99s\tremaining: 9.61s\n",
            "19:\tlearn: 0.5082002\ttest: 0.5220409\tbest: 0.5220409 (19)\ttotal: 3.15s\tremaining: 9.46s\n",
            "20:\tlearn: 0.5028096\ttest: 0.5172798\tbest: 0.5172798 (20)\ttotal: 3.32s\tremaining: 9.33s\n",
            "21:\tlearn: 0.4975564\ttest: 0.5124482\tbest: 0.5124482 (21)\ttotal: 3.48s\tremaining: 9.19s\n",
            "22:\tlearn: 0.4927530\ttest: 0.5083555\tbest: 0.5083555 (22)\ttotal: 3.65s\tremaining: 9.04s\n",
            "23:\tlearn: 0.4874586\ttest: 0.5040023\tbest: 0.5040023 (23)\ttotal: 3.8s\tremaining: 8.87s\n",
            "24:\tlearn: 0.4827518\ttest: 0.4999214\tbest: 0.4999214 (24)\ttotal: 3.96s\tremaining: 8.7s\n",
            "25:\tlearn: 0.4786773\ttest: 0.4962999\tbest: 0.4962999 (25)\ttotal: 4.12s\tremaining: 8.56s\n",
            "26:\tlearn: 0.4746069\ttest: 0.4930444\tbest: 0.4930444 (26)\ttotal: 4.28s\tremaining: 8.4s\n",
            "27:\tlearn: 0.4708833\ttest: 0.4900058\tbest: 0.4900058 (27)\ttotal: 4.42s\tremaining: 8.22s\n",
            "28:\tlearn: 0.4663884\ttest: 0.4864311\tbest: 0.4864311 (28)\ttotal: 4.58s\tremaining: 8.06s\n",
            "29:\tlearn: 0.4628533\ttest: 0.4835981\tbest: 0.4835981 (29)\ttotal: 4.74s\tremaining: 7.9s\n",
            "30:\tlearn: 0.4590203\ttest: 0.4807137\tbest: 0.4807137 (30)\ttotal: 4.89s\tremaining: 7.73s\n",
            "31:\tlearn: 0.4556088\ttest: 0.4781560\tbest: 0.4781560 (31)\ttotal: 5.05s\tremaining: 7.57s\n",
            "32:\tlearn: 0.4522200\ttest: 0.4754113\tbest: 0.4754113 (32)\ttotal: 5.2s\tremaining: 7.41s\n",
            "33:\tlearn: 0.4491273\ttest: 0.4727154\tbest: 0.4727154 (33)\ttotal: 5.36s\tremaining: 7.25s\n",
            "34:\tlearn: 0.4463154\ttest: 0.4702587\tbest: 0.4702587 (34)\ttotal: 5.52s\tremaining: 7.1s\n",
            "35:\tlearn: 0.4430108\ttest: 0.4675868\tbest: 0.4675868 (35)\ttotal: 5.68s\tremaining: 6.94s\n",
            "36:\tlearn: 0.4397666\ttest: 0.4651424\tbest: 0.4651424 (36)\ttotal: 5.84s\tremaining: 6.79s\n",
            "37:\tlearn: 0.4354042\ttest: 0.4621508\tbest: 0.4621508 (37)\ttotal: 6.02s\tremaining: 6.65s\n",
            "38:\tlearn: 0.4323030\ttest: 0.4597354\tbest: 0.4597354 (38)\ttotal: 6.19s\tremaining: 6.51s\n",
            "39:\tlearn: 0.4294949\ttest: 0.4575593\tbest: 0.4575593 (39)\ttotal: 6.35s\tremaining: 6.35s\n",
            "40:\tlearn: 0.4264294\ttest: 0.4555604\tbest: 0.4555604 (40)\ttotal: 6.51s\tremaining: 6.19s\n",
            "41:\tlearn: 0.4239999\ttest: 0.4538191\tbest: 0.4538191 (41)\ttotal: 6.66s\tremaining: 6.02s\n",
            "42:\tlearn: 0.4211186\ttest: 0.4519779\tbest: 0.4519779 (42)\ttotal: 6.82s\tremaining: 5.87s\n",
            "43:\tlearn: 0.4185943\ttest: 0.4500699\tbest: 0.4500699 (43)\ttotal: 6.99s\tremaining: 5.72s\n",
            "44:\tlearn: 0.4166313\ttest: 0.4486649\tbest: 0.4486649 (44)\ttotal: 7.15s\tremaining: 5.56s\n",
            "45:\tlearn: 0.4136135\ttest: 0.4468073\tbest: 0.4468073 (45)\ttotal: 7.29s\tremaining: 5.39s\n",
            "46:\tlearn: 0.4111242\ttest: 0.4448239\tbest: 0.4448239 (46)\ttotal: 7.45s\tremaining: 5.23s\n",
            "47:\tlearn: 0.4088434\ttest: 0.4433852\tbest: 0.4433852 (47)\ttotal: 7.62s\tremaining: 5.08s\n",
            "48:\tlearn: 0.4067026\ttest: 0.4419317\tbest: 0.4419317 (48)\ttotal: 7.78s\tremaining: 4.92s\n",
            "49:\tlearn: 0.4042755\ttest: 0.4403025\tbest: 0.4403025 (49)\ttotal: 7.95s\tremaining: 4.77s\n",
            "50:\tlearn: 0.4020374\ttest: 0.4386722\tbest: 0.4386722 (50)\ttotal: 8.11s\tremaining: 4.61s\n",
            "51:\tlearn: 0.4003798\ttest: 0.4374144\tbest: 0.4374144 (51)\ttotal: 8.27s\tremaining: 4.46s\n",
            "52:\tlearn: 0.3978462\ttest: 0.4357889\tbest: 0.4357889 (52)\ttotal: 8.44s\tremaining: 4.3s\n",
            "53:\tlearn: 0.3956471\ttest: 0.4343722\tbest: 0.4343722 (53)\ttotal: 8.61s\tremaining: 4.15s\n",
            "54:\tlearn: 0.3928043\ttest: 0.4325008\tbest: 0.4325008 (54)\ttotal: 8.79s\tremaining: 3.99s\n",
            "55:\tlearn: 0.3906837\ttest: 0.4312142\tbest: 0.4312142 (55)\ttotal: 8.95s\tremaining: 3.84s\n",
            "56:\tlearn: 0.3883972\ttest: 0.4297514\tbest: 0.4297514 (56)\ttotal: 9.11s\tremaining: 3.67s\n",
            "57:\tlearn: 0.3860217\ttest: 0.4280206\tbest: 0.4280206 (57)\ttotal: 9.27s\tremaining: 3.52s\n",
            "58:\tlearn: 0.3840470\ttest: 0.4267207\tbest: 0.4267207 (58)\ttotal: 9.43s\tremaining: 3.36s\n",
            "59:\tlearn: 0.3817717\ttest: 0.4255128\tbest: 0.4255128 (59)\ttotal: 9.58s\tremaining: 3.19s\n",
            "60:\tlearn: 0.3797506\ttest: 0.4242909\tbest: 0.4242909 (60)\ttotal: 9.74s\tremaining: 3.03s\n",
            "61:\tlearn: 0.3781452\ttest: 0.4233577\tbest: 0.4233577 (61)\ttotal: 9.9s\tremaining: 2.87s\n",
            "62:\tlearn: 0.3766088\ttest: 0.4223271\tbest: 0.4223271 (62)\ttotal: 10.1s\tremaining: 2.72s\n",
            "63:\tlearn: 0.3745304\ttest: 0.4210653\tbest: 0.4210653 (63)\ttotal: 10.2s\tremaining: 2.56s\n",
            "64:\tlearn: 0.3722320\ttest: 0.4196544\tbest: 0.4196544 (64)\ttotal: 10.4s\tremaining: 2.39s\n",
            "65:\tlearn: 0.3704835\ttest: 0.4184951\tbest: 0.4184951 (65)\ttotal: 10.5s\tremaining: 2.23s\n",
            "66:\tlearn: 0.3687727\ttest: 0.4174915\tbest: 0.4174915 (66)\ttotal: 10.7s\tremaining: 2.08s\n",
            "67:\tlearn: 0.3673445\ttest: 0.4166802\tbest: 0.4166802 (67)\ttotal: 10.9s\tremaining: 1.92s\n",
            "68:\tlearn: 0.3661682\ttest: 0.4159565\tbest: 0.4159565 (68)\ttotal: 11.1s\tremaining: 1.76s\n",
            "69:\tlearn: 0.3642095\ttest: 0.4148714\tbest: 0.4148714 (69)\ttotal: 11.2s\tremaining: 1.6s\n",
            "70:\tlearn: 0.3624747\ttest: 0.4140729\tbest: 0.4140729 (70)\ttotal: 11.4s\tremaining: 1.44s\n",
            "71:\tlearn: 0.3608956\ttest: 0.4132472\tbest: 0.4132472 (71)\ttotal: 11.5s\tremaining: 1.28s\n",
            "72:\tlearn: 0.3590658\ttest: 0.4121181\tbest: 0.4121181 (72)\ttotal: 11.7s\tremaining: 1.12s\n",
            "73:\tlearn: 0.3571577\ttest: 0.4110781\tbest: 0.4110781 (73)\ttotal: 11.9s\tremaining: 963ms\n",
            "74:\tlearn: 0.3561215\ttest: 0.4104466\tbest: 0.4104466 (74)\ttotal: 12s\tremaining: 803ms\n",
            "75:\tlearn: 0.3548643\ttest: 0.4096539\tbest: 0.4096539 (75)\ttotal: 12.2s\tremaining: 642ms\n",
            "76:\tlearn: 0.3535158\ttest: 0.4089024\tbest: 0.4089024 (76)\ttotal: 12.4s\tremaining: 482ms\n",
            "77:\tlearn: 0.3521765\ttest: 0.4081593\tbest: 0.4081593 (77)\ttotal: 12.5s\tremaining: 321ms\n",
            "78:\tlearn: 0.3510093\ttest: 0.4075062\tbest: 0.4075062 (78)\ttotal: 12.7s\tremaining: 161ms\n",
            "79:\tlearn: 0.3504213\ttest: 0.4070142\tbest: 0.4070142 (79)\ttotal: 12.8s\tremaining: 0us\n",
            "| \u001b[0m 4       \u001b[0m | \u001b[0m 0.3504  \u001b[0m | \u001b[0m 9.299   \u001b[0m | \u001b[0m 80.22   \u001b[0m | \u001b[0m 0.4075  \u001b[0m | \u001b[0m 0.02419 \u001b[0m | \u001b[0m 0.5257  \u001b[0m |\n",
            "0:\tlearn: 0.6924929\ttest: 0.6925025\tbest: 0.6925025 (0)\ttotal: 142ms\tremaining: 1.27s\n",
            "1:\tlearn: 0.6914265\ttest: 0.6913603\tbest: 0.6913603 (1)\ttotal: 274ms\tremaining: 1.1s\n",
            "2:\tlearn: 0.6914136\ttest: 0.6913474\tbest: 0.6913474 (2)\ttotal: 400ms\tremaining: 932ms\n",
            "3:\tlearn: 0.6912411\ttest: 0.6911626\tbest: 0.6911626 (3)\ttotal: 522ms\tremaining: 783ms\n",
            "4:\tlearn: 0.6912288\ttest: 0.6911502\tbest: 0.6911502 (4)\ttotal: 653ms\tremaining: 653ms\n",
            "5:\tlearn: 0.6911395\ttest: 0.6910592\tbest: 0.6910592 (5)\ttotal: 785ms\tremaining: 523ms\n",
            "6:\tlearn: 0.6911276\ttest: 0.6910473\tbest: 0.6910473 (6)\ttotal: 912ms\tremaining: 391ms\n",
            "7:\tlearn: 0.6911160\ttest: 0.6910356\tbest: 0.6910356 (7)\ttotal: 1.06s\tremaining: 266ms\n",
            "8:\tlearn: 0.6911046\ttest: 0.6910242\tbest: 0.6910242 (8)\ttotal: 1.2s\tremaining: 133ms\n",
            "9:\tlearn: 0.6910935\ttest: 0.6910130\tbest: 0.6910130 (9)\ttotal: 1.33s\tremaining: 0us\n",
            "| \u001b[95m 5       \u001b[0m | \u001b[95m 0.6911  \u001b[0m | \u001b[95m 8.0     \u001b[0m | \u001b[95m 10.0    \u001b[0m | \u001b[95m 3.0     \u001b[0m | \u001b[95m 0.01    \u001b[0m | \u001b[95m 0.01    \u001b[0m |\n",
            "0:\tlearn: 0.5787415\ttest: 0.6159485\tbest: 0.6159485 (0)\ttotal: 936ms\tremaining: 8.43s\n",
            "1:\tlearn: 0.4954806\ttest: 0.5609503\tbest: 0.5609503 (1)\ttotal: 1.87s\tremaining: 7.48s\n",
            "2:\tlearn: 0.4283721\ttest: 0.5215394\tbest: 0.5215394 (2)\ttotal: 2.79s\tremaining: 6.52s\n",
            "3:\tlearn: 0.3898445\ttest: 0.4944329\tbest: 0.4944329 (3)\ttotal: 3.44s\tremaining: 5.16s\n",
            "4:\tlearn: 0.3422706\ttest: 0.4710051\tbest: 0.4710051 (4)\ttotal: 4.37s\tremaining: 4.37s\n",
            "5:\tlearn: 0.3128345\ttest: 0.4547135\tbest: 0.4547135 (5)\ttotal: 5.02s\tremaining: 3.35s\n",
            "6:\tlearn: 0.2839962\ttest: 0.4398877\tbest: 0.4398877 (6)\ttotal: 5.69s\tremaining: 2.44s\n",
            "7:\tlearn: 0.2516493\ttest: 0.4287572\tbest: 0.4287572 (7)\ttotal: 6.63s\tremaining: 1.66s\n",
            "8:\tlearn: 0.2435875\ttest: 0.4252365\tbest: 0.4252365 (8)\ttotal: 7.04s\tremaining: 782ms\n",
            "9:\tlearn: 0.2193729\ttest: 0.4183666\tbest: 0.4183666 (9)\ttotal: 7.95s\tremaining: 0us\n",
            "| \u001b[0m 6       \u001b[0m | \u001b[0m 0.2194  \u001b[0m | \u001b[0m 14.0    \u001b[0m | \u001b[0m 10.0    \u001b[0m | \u001b[0m 0.1     \u001b[0m | \u001b[0m 0.1     \u001b[0m | \u001b[0m 1.0     \u001b[0m |\n",
            "0:\tlearn: 0.6924929\ttest: 0.6925025\tbest: 0.6925025 (0)\ttotal: 140ms\tremaining: 3.78s\n",
            "1:\tlearn: 0.6914265\ttest: 0.6913603\tbest: 0.6913603 (1)\ttotal: 275ms\tremaining: 3.58s\n",
            "2:\tlearn: 0.6914136\ttest: 0.6913474\tbest: 0.6913474 (2)\ttotal: 403ms\tremaining: 3.36s\n",
            "3:\tlearn: 0.6912411\ttest: 0.6911626\tbest: 0.6911626 (3)\ttotal: 544ms\tremaining: 3.26s\n",
            "4:\tlearn: 0.6912288\ttest: 0.6911502\tbest: 0.6911502 (4)\ttotal: 672ms\tremaining: 3.09s\n",
            "5:\tlearn: 0.6911395\ttest: 0.6910592\tbest: 0.6910592 (5)\ttotal: 802ms\tremaining: 2.94s\n",
            "6:\tlearn: 0.6911276\ttest: 0.6910473\tbest: 0.6910473 (6)\ttotal: 931ms\tremaining: 2.79s\n",
            "7:\tlearn: 0.6911160\ttest: 0.6910356\tbest: 0.6910356 (7)\ttotal: 1.06s\tremaining: 2.65s\n",
            "8:\tlearn: 0.6911046\ttest: 0.6910242\tbest: 0.6910242 (8)\ttotal: 1.2s\tremaining: 2.52s\n",
            "9:\tlearn: 0.6910935\ttest: 0.6910130\tbest: 0.6910130 (9)\ttotal: 1.33s\tremaining: 2.4s\n",
            "10:\tlearn: 0.6910825\ttest: 0.6910021\tbest: 0.6910021 (10)\ttotal: 1.45s\tremaining: 2.24s\n",
            "11:\tlearn: 0.6903141\ttest: 0.6902314\tbest: 0.6902314 (11)\ttotal: 1.58s\tremaining: 2.1s\n",
            "12:\tlearn: 0.6903036\ttest: 0.6902209\tbest: 0.6902209 (12)\ttotal: 1.7s\tremaining: 1.96s\n",
            "13:\tlearn: 0.6902933\ttest: 0.6902105\tbest: 0.6902105 (13)\ttotal: 1.8s\tremaining: 1.8s\n",
            "14:\tlearn: 0.6902832\ttest: 0.6902004\tbest: 0.6902004 (14)\ttotal: 1.93s\tremaining: 1.68s\n",
            "15:\tlearn: 0.6902732\ttest: 0.6901904\tbest: 0.6901904 (15)\ttotal: 2.07s\tremaining: 1.55s\n",
            "16:\tlearn: 0.6902635\ttest: 0.6901807\tbest: 0.6901807 (16)\ttotal: 2.2s\tremaining: 1.42s\n",
            "17:\tlearn: 0.6900485\ttest: 0.6899737\tbest: 0.6899737 (17)\ttotal: 2.33s\tremaining: 1.29s\n",
            "18:\tlearn: 0.6896951\ttest: 0.6896369\tbest: 0.6896369 (18)\ttotal: 2.45s\tremaining: 1.16s\n",
            "19:\tlearn: 0.6894913\ttest: 0.6894378\tbest: 0.6894378 (19)\ttotal: 2.57s\tremaining: 1.03s\n",
            "20:\tlearn: 0.6889692\ttest: 0.6888880\tbest: 0.6888880 (20)\ttotal: 2.7s\tremaining: 899ms\n",
            "21:\tlearn: 0.6889603\ttest: 0.6888791\tbest: 0.6888791 (21)\ttotal: 2.82s\tremaining: 770ms\n",
            "22:\tlearn: 0.6889516\ttest: 0.6888703\tbest: 0.6888703 (22)\ttotal: 2.94s\tremaining: 640ms\n",
            "23:\tlearn: 0.6889430\ttest: 0.6888617\tbest: 0.6888617 (23)\ttotal: 3.07s\tremaining: 511ms\n",
            "24:\tlearn: 0.6889346\ttest: 0.6888533\tbest: 0.6888533 (24)\ttotal: 3.2s\tremaining: 384ms\n",
            "25:\tlearn: 0.6887254\ttest: 0.6886500\tbest: 0.6886500 (25)\ttotal: 3.33s\tremaining: 256ms\n",
            "26:\tlearn: 0.6885335\ttest: 0.6884686\tbest: 0.6884686 (26)\ttotal: 3.46s\tremaining: 128ms\n",
            "27:\tlearn: 0.6884754\ttest: 0.6884226\tbest: 0.6884226 (27)\ttotal: 3.58s\tremaining: 0us\n",
            "| \u001b[0m 7       \u001b[0m | \u001b[0m 0.6885  \u001b[0m | \u001b[0m 8.0     \u001b[0m | \u001b[0m 28.99   \u001b[0m | \u001b[0m 3.0     \u001b[0m | \u001b[0m 0.01    \u001b[0m | \u001b[0m 0.01    \u001b[0m |\n",
            "0:\tlearn: 0.6863935\ttest: 0.6867189\tbest: 0.6867189 (0)\ttotal: 186ms\tremaining: 3.35s\n",
            "1:\tlearn: 0.6804729\ttest: 0.6809083\tbest: 0.6809083 (1)\ttotal: 355ms\tremaining: 3.02s\n",
            "2:\tlearn: 0.6741580\ttest: 0.6750195\tbest: 0.6750195 (2)\ttotal: 523ms\tremaining: 2.79s\n",
            "3:\tlearn: 0.6680359\ttest: 0.6693093\tbest: 0.6693093 (3)\ttotal: 681ms\tremaining: 2.55s\n",
            "4:\tlearn: 0.6623885\ttest: 0.6638670\tbest: 0.6638670 (4)\ttotal: 842ms\tremaining: 2.36s\n",
            "5:\tlearn: 0.6566693\ttest: 0.6584423\tbest: 0.6584423 (5)\ttotal: 1s\tremaining: 2.17s\n",
            "6:\tlearn: 0.6518405\ttest: 0.6536048\tbest: 0.6536048 (6)\ttotal: 1.13s\tremaining: 1.95s\n",
            "7:\tlearn: 0.6464828\ttest: 0.6484951\tbest: 0.6484951 (7)\ttotal: 1.29s\tremaining: 1.78s\n",
            "8:\tlearn: 0.6411935\ttest: 0.6434340\tbest: 0.6434340 (8)\ttotal: 1.44s\tremaining: 1.6s\n",
            "9:\tlearn: 0.6359322\ttest: 0.6384921\tbest: 0.6384921 (9)\ttotal: 1.59s\tremaining: 1.43s\n",
            "10:\tlearn: 0.6312454\ttest: 0.6340285\tbest: 0.6340285 (10)\ttotal: 1.75s\tremaining: 1.27s\n",
            "11:\tlearn: 0.6266758\ttest: 0.6297958\tbest: 0.6297958 (11)\ttotal: 1.91s\tremaining: 1.11s\n",
            "12:\tlearn: 0.6220333\ttest: 0.6254200\tbest: 0.6254200 (12)\ttotal: 2.06s\tremaining: 952ms\n",
            "13:\tlearn: 0.6178029\ttest: 0.6211896\tbest: 0.6211896 (13)\ttotal: 2.22s\tremaining: 792ms\n",
            "14:\tlearn: 0.6130074\ttest: 0.6166099\tbest: 0.6166099 (14)\ttotal: 2.38s\tremaining: 634ms\n",
            "15:\tlearn: 0.6083068\ttest: 0.6120498\tbest: 0.6120498 (15)\ttotal: 2.56s\tremaining: 479ms\n",
            "16:\tlearn: 0.6045184\ttest: 0.6083439\tbest: 0.6083439 (16)\ttotal: 2.72s\tremaining: 320ms\n",
            "17:\tlearn: 0.6003622\ttest: 0.6042985\tbest: 0.6042985 (17)\ttotal: 2.89s\tremaining: 160ms\n",
            "18:\tlearn: 0.5964939\ttest: 0.6005789\tbest: 0.6005789 (18)\ttotal: 3.06s\tremaining: 0us\n",
            "| \u001b[0m 8       \u001b[0m | \u001b[0m 0.5965  \u001b[0m | \u001b[0m 8.0     \u001b[0m | \u001b[0m 19.72   \u001b[0m | \u001b[0m 0.1     \u001b[0m | \u001b[0m 0.01    \u001b[0m | \u001b[0m 1.0     \u001b[0m |\n",
            "0:\tlearn: 0.6924929\ttest: 0.6925025\tbest: 0.6925025 (0)\ttotal: 153ms\tremaining: 2.76s\n",
            "1:\tlearn: 0.6914265\ttest: 0.6913603\tbest: 0.6913603 (1)\ttotal: 283ms\tremaining: 2.41s\n",
            "2:\tlearn: 0.6914136\ttest: 0.6913474\tbest: 0.6913474 (2)\ttotal: 416ms\tremaining: 2.22s\n",
            "3:\tlearn: 0.6912411\ttest: 0.6911626\tbest: 0.6911626 (3)\ttotal: 548ms\tremaining: 2.05s\n",
            "4:\tlearn: 0.6912288\ttest: 0.6911502\tbest: 0.6911502 (4)\ttotal: 679ms\tremaining: 1.9s\n",
            "5:\tlearn: 0.6911395\ttest: 0.6910592\tbest: 0.6910592 (5)\ttotal: 809ms\tremaining: 1.75s\n",
            "6:\tlearn: 0.6911276\ttest: 0.6910473\tbest: 0.6910473 (6)\ttotal: 928ms\tremaining: 1.59s\n",
            "7:\tlearn: 0.6911160\ttest: 0.6910356\tbest: 0.6910356 (7)\ttotal: 1.06s\tremaining: 1.46s\n",
            "8:\tlearn: 0.6911046\ttest: 0.6910242\tbest: 0.6910242 (8)\ttotal: 1.19s\tremaining: 1.32s\n",
            "9:\tlearn: 0.6910935\ttest: 0.6910130\tbest: 0.6910130 (9)\ttotal: 1.33s\tremaining: 1.2s\n",
            "10:\tlearn: 0.6910825\ttest: 0.6910021\tbest: 0.6910021 (10)\ttotal: 1.46s\tremaining: 1.06s\n",
            "11:\tlearn: 0.6903141\ttest: 0.6902314\tbest: 0.6902314 (11)\ttotal: 1.58s\tremaining: 920ms\n",
            "12:\tlearn: 0.6903036\ttest: 0.6902209\tbest: 0.6902209 (12)\ttotal: 1.72s\tremaining: 795ms\n",
            "13:\tlearn: 0.6902933\ttest: 0.6902105\tbest: 0.6902105 (13)\ttotal: 1.86s\tremaining: 665ms\n",
            "14:\tlearn: 0.6902832\ttest: 0.6902004\tbest: 0.6902004 (14)\ttotal: 1.99s\tremaining: 531ms\n",
            "15:\tlearn: 0.6902732\ttest: 0.6901904\tbest: 0.6901904 (15)\ttotal: 2.12s\tremaining: 397ms\n",
            "16:\tlearn: 0.6902635\ttest: 0.6901807\tbest: 0.6901807 (16)\ttotal: 2.23s\tremaining: 262ms\n",
            "17:\tlearn: 0.6900485\ttest: 0.6899737\tbest: 0.6899737 (17)\ttotal: 2.37s\tremaining: 132ms\n",
            "18:\tlearn: 0.6896951\ttest: 0.6896369\tbest: 0.6896369 (18)\ttotal: 2.52s\tremaining: 0us\n",
            "| \u001b[0m 9       \u001b[0m | \u001b[0m 0.6897  \u001b[0m | \u001b[0m 8.0     \u001b[0m | \u001b[0m 19.22   \u001b[0m | \u001b[0m 3.0     \u001b[0m | \u001b[0m 0.01    \u001b[0m | \u001b[0m 0.01    \u001b[0m |\n",
            "0:\tlearn: 0.6875586\ttest: 0.6877670\tbest: 0.6877670 (0)\ttotal: 177ms\tremaining: 4.08s\n",
            "1:\tlearn: 0.6826052\ttest: 0.6829105\tbest: 0.6829105 (1)\ttotal: 348ms\tremaining: 3.83s\n",
            "2:\tlearn: 0.6775030\ttest: 0.6780943\tbest: 0.6780943 (2)\ttotal: 504ms\tremaining: 3.53s\n",
            "3:\tlearn: 0.6724946\ttest: 0.6733349\tbest: 0.6733349 (3)\ttotal: 671ms\tremaining: 3.36s\n",
            "4:\tlearn: 0.6677936\ttest: 0.6687963\tbest: 0.6687963 (4)\ttotal: 831ms\tremaining: 3.16s\n",
            "5:\tlearn: 0.6628902\ttest: 0.6641265\tbest: 0.6641265 (5)\ttotal: 989ms\tremaining: 2.97s\n",
            "6:\tlearn: 0.6586147\ttest: 0.6598271\tbest: 0.6598271 (6)\ttotal: 1.14s\tremaining: 2.78s\n",
            "7:\tlearn: 0.6540804\ttest: 0.6553664\tbest: 0.6553664 (7)\ttotal: 1.32s\tremaining: 2.63s\n",
            "8:\tlearn: 0.6498632\ttest: 0.6513089\tbest: 0.6513089 (8)\ttotal: 1.48s\tremaining: 2.47s\n",
            "9:\tlearn: 0.6452307\ttest: 0.6467224\tbest: 0.6467224 (9)\ttotal: 1.66s\tremaining: 2.33s\n",
            "10:\tlearn: 0.6410817\ttest: 0.6426911\tbest: 0.6426911 (10)\ttotal: 1.82s\tremaining: 2.15s\n",
            "11:\tlearn: 0.6366830\ttest: 0.6384516\tbest: 0.6384516 (11)\ttotal: 1.97s\tremaining: 1.97s\n",
            "12:\tlearn: 0.6327203\ttest: 0.6345873\tbest: 0.6345873 (12)\ttotal: 2.12s\tremaining: 1.79s\n",
            "13:\tlearn: 0.6286182\ttest: 0.6306989\tbest: 0.6306989 (13)\ttotal: 2.27s\tremaining: 1.62s\n",
            "14:\tlearn: 0.6245740\ttest: 0.6268279\tbest: 0.6268279 (14)\ttotal: 2.44s\tremaining: 1.46s\n",
            "15:\tlearn: 0.6209237\ttest: 0.6233924\tbest: 0.6233924 (15)\ttotal: 2.61s\tremaining: 1.3s\n",
            "16:\tlearn: 0.6173376\ttest: 0.6199750\tbest: 0.6199750 (16)\ttotal: 2.78s\tremaining: 1.15s\n",
            "17:\tlearn: 0.6137633\ttest: 0.6164763\tbest: 0.6164763 (17)\ttotal: 2.94s\tremaining: 980ms\n",
            "18:\tlearn: 0.6101278\ttest: 0.6129736\tbest: 0.6129736 (18)\ttotal: 3.12s\tremaining: 820ms\n",
            "19:\tlearn: 0.6063990\ttest: 0.6093787\tbest: 0.6093787 (19)\ttotal: 3.29s\tremaining: 658ms\n",
            "20:\tlearn: 0.6025731\ttest: 0.6056550\tbest: 0.6056550 (20)\ttotal: 3.46s\tremaining: 494ms\n",
            "21:\tlearn: 0.5992134\ttest: 0.6024715\tbest: 0.6024715 (21)\ttotal: 3.62s\tremaining: 329ms\n",
            "22:\tlearn: 0.5956302\ttest: 0.5990571\tbest: 0.5990571 (22)\ttotal: 3.78s\tremaining: 164ms\n",
            "23:\tlearn: 0.5924802\ttest: 0.5961283\tbest: 0.5961283 (23)\ttotal: 3.95s\tremaining: 0us\n",
            "| \u001b[0m 10      \u001b[0m | \u001b[0m 0.5925  \u001b[0m | \u001b[0m 8.0     \u001b[0m | \u001b[0m 24.76   \u001b[0m | \u001b[0m 3.0     \u001b[0m | \u001b[0m 0.01    \u001b[0m | \u001b[0m 1.0     \u001b[0m |\n",
            "0:\tlearn: 0.6208955\ttest: 0.6383104\tbest: 0.6383104 (0)\ttotal: 232ms\tremaining: 8.36s\n",
            "1:\tlearn: 0.5667535\ttest: 0.5988476\tbest: 0.5988476 (1)\ttotal: 537ms\tremaining: 9.4s\n",
            "2:\tlearn: 0.5188972\ttest: 0.5649418\tbest: 0.5649418 (2)\ttotal: 818ms\tremaining: 9.27s\n",
            "3:\tlearn: 0.4793947\ttest: 0.5363505\tbest: 0.5363505 (3)\ttotal: 1.05s\tremaining: 8.71s\n",
            "4:\tlearn: 0.4506476\ttest: 0.5131241\tbest: 0.5131241 (4)\ttotal: 1.32s\tremaining: 8.44s\n",
            "5:\tlearn: 0.4218659\ttest: 0.4939162\tbest: 0.4939162 (5)\ttotal: 1.55s\tremaining: 7.99s\n",
            "6:\tlearn: 0.4010965\ttest: 0.4786445\tbest: 0.4786445 (6)\ttotal: 1.8s\tremaining: 7.71s\n",
            "7:\tlearn: 0.3889668\ttest: 0.4687540\tbest: 0.4687540 (7)\ttotal: 1.96s\tremaining: 7.12s\n",
            "8:\tlearn: 0.3739306\ttest: 0.4567062\tbest: 0.4567062 (8)\ttotal: 2.2s\tremaining: 6.83s\n",
            "9:\tlearn: 0.3616558\ttest: 0.4483678\tbest: 0.4483678 (9)\ttotal: 2.41s\tremaining: 6.51s\n",
            "10:\tlearn: 0.3473567\ttest: 0.4391228\tbest: 0.4391228 (10)\ttotal: 2.69s\tremaining: 6.36s\n",
            "11:\tlearn: 0.3332857\ttest: 0.4313184\tbest: 0.4313184 (11)\ttotal: 2.91s\tremaining: 6.06s\n",
            "12:\tlearn: 0.3189926\ttest: 0.4235866\tbest: 0.4235866 (12)\ttotal: 3.15s\tremaining: 5.82s\n",
            "13:\tlearn: 0.3058188\ttest: 0.4172264\tbest: 0.4172264 (13)\ttotal: 3.45s\tremaining: 5.67s\n",
            "14:\tlearn: 0.2914573\ttest: 0.4119519\tbest: 0.4119519 (14)\ttotal: 3.71s\tremaining: 5.45s\n",
            "15:\tlearn: 0.2824659\ttest: 0.4080714\tbest: 0.4080714 (15)\ttotal: 3.94s\tremaining: 5.17s\n",
            "16:\tlearn: 0.2765058\ttest: 0.4050284\tbest: 0.4050284 (16)\ttotal: 4.14s\tremaining: 4.87s\n",
            "17:\tlearn: 0.2637671\ttest: 0.4005123\tbest: 0.4005123 (17)\ttotal: 4.36s\tremaining: 4.6s\n",
            "18:\tlearn: 0.2571597\ttest: 0.3976473\tbest: 0.3976473 (18)\ttotal: 4.59s\tremaining: 4.35s\n",
            "19:\tlearn: 0.2456197\ttest: 0.3937188\tbest: 0.3937188 (19)\ttotal: 4.88s\tremaining: 4.15s\n",
            "20:\tlearn: 0.2406775\ttest: 0.3914258\tbest: 0.3914258 (20)\ttotal: 5.11s\tremaining: 3.89s\n",
            "21:\tlearn: 0.2323735\ttest: 0.3896577\tbest: 0.3896577 (21)\ttotal: 5.38s\tremaining: 3.67s\n",
            "22:\tlearn: 0.2280359\ttest: 0.3878406\tbest: 0.3878406 (22)\ttotal: 5.61s\tremaining: 3.42s\n",
            "23:\tlearn: 0.2212453\ttest: 0.3861622\tbest: 0.3861622 (23)\ttotal: 5.85s\tremaining: 3.17s\n",
            "24:\tlearn: 0.2133506\ttest: 0.3842013\tbest: 0.3842013 (24)\ttotal: 6.09s\tremaining: 2.92s\n",
            "25:\tlearn: 0.2064640\ttest: 0.3819529\tbest: 0.3819529 (25)\ttotal: 6.32s\tremaining: 2.67s\n",
            "26:\tlearn: 0.2009245\ttest: 0.3802578\tbest: 0.3802578 (26)\ttotal: 6.58s\tremaining: 2.44s\n",
            "27:\tlearn: 0.1985097\ttest: 0.3791210\tbest: 0.3791210 (27)\ttotal: 6.76s\tremaining: 2.17s\n",
            "28:\tlearn: 0.1940144\ttest: 0.3777250\tbest: 0.3777250 (28)\ttotal: 7s\tremaining: 1.93s\n",
            "29:\tlearn: 0.1859130\ttest: 0.3757356\tbest: 0.3757356 (29)\ttotal: 7.28s\tremaining: 1.7s\n",
            "30:\tlearn: 0.1839346\ttest: 0.3752319\tbest: 0.3752319 (30)\ttotal: 7.48s\tremaining: 1.45s\n",
            "31:\tlearn: 0.1804437\ttest: 0.3745301\tbest: 0.3745301 (31)\ttotal: 7.7s\tremaining: 1.2s\n",
            "32:\tlearn: 0.1755315\ttest: 0.3735040\tbest: 0.3735040 (32)\ttotal: 7.97s\tremaining: 966ms\n",
            "33:\tlearn: 0.1720443\ttest: 0.3729617\tbest: 0.3729617 (33)\ttotal: 8.25s\tremaining: 728ms\n",
            "34:\tlearn: 0.1687216\ttest: 0.3727729\tbest: 0.3727729 (34)\ttotal: 8.45s\tremaining: 483ms\n",
            "35:\tlearn: 0.1670906\ttest: 0.3719456\tbest: 0.3719456 (35)\ttotal: 8.68s\tremaining: 241ms\n",
            "36:\tlearn: 0.1650759\ttest: 0.3711600\tbest: 0.3711600 (36)\ttotal: 8.88s\tremaining: 0us\n",
            "| \u001b[0m 11      \u001b[0m | \u001b[0m 0.1651  \u001b[0m | \u001b[0m 13.89   \u001b[0m | \u001b[0m 37.02   \u001b[0m | \u001b[0m 0.3802  \u001b[0m | \u001b[0m 0.08094 \u001b[0m | \u001b[0m 0.2218  \u001b[0m |\n",
            "0:\tlearn: 0.6924951\ttest: 0.6925048\tbest: 0.6925048 (0)\ttotal: 141ms\tremaining: 5.49s\n",
            "1:\tlearn: 0.6923231\ttest: 0.6923046\tbest: 0.6923046 (1)\ttotal: 271ms\tremaining: 5.16s\n",
            "2:\tlearn: 0.6923107\ttest: 0.6922922\tbest: 0.6922922 (2)\ttotal: 410ms\tremaining: 5.06s\n",
            "3:\tlearn: 0.6914894\ttest: 0.6914574\tbest: 0.6914574 (3)\ttotal: 546ms\tremaining: 4.91s\n",
            "4:\tlearn: 0.6914775\ttest: 0.6914454\tbest: 0.6914454 (4)\ttotal: 691ms\tremaining: 4.83s\n",
            "5:\tlearn: 0.6909294\ttest: 0.6909198\tbest: 0.6909198 (5)\ttotal: 830ms\tremaining: 4.7s\n",
            "6:\tlearn: 0.6909179\ttest: 0.6909083\tbest: 0.6909083 (6)\ttotal: 959ms\tremaining: 4.52s\n",
            "7:\tlearn: 0.6909067\ttest: 0.6908971\tbest: 0.6908971 (7)\ttotal: 1.1s\tremaining: 4.39s\n",
            "8:\tlearn: 0.6908956\ttest: 0.6908860\tbest: 0.6908860 (8)\ttotal: 1.23s\tremaining: 4.23s\n",
            "9:\tlearn: 0.6908848\ttest: 0.6908752\tbest: 0.6908752 (9)\ttotal: 1.35s\tremaining: 4.06s\n",
            "10:\tlearn: 0.6908742\ttest: 0.6908646\tbest: 0.6908646 (10)\ttotal: 1.49s\tremaining: 3.93s\n",
            "11:\tlearn: 0.6907272\ttest: 0.6907387\tbest: 0.6907387 (11)\ttotal: 1.64s\tremaining: 3.82s\n",
            "12:\tlearn: 0.6907170\ttest: 0.6907286\tbest: 0.6907286 (12)\ttotal: 1.78s\tremaining: 3.7s\n",
            "13:\tlearn: 0.6900553\ttest: 0.6900732\tbest: 0.6900732 (13)\ttotal: 1.91s\tremaining: 3.55s\n",
            "14:\tlearn: 0.6900455\ttest: 0.6900634\tbest: 0.6900634 (14)\ttotal: 2.05s\tremaining: 3.42s\n",
            "15:\tlearn: 0.6900360\ttest: 0.6900539\tbest: 0.6900539 (15)\ttotal: 2.2s\tremaining: 3.29s\n",
            "16:\tlearn: 0.6889792\ttest: 0.6889624\tbest: 0.6889624 (16)\ttotal: 2.34s\tremaining: 3.16s\n",
            "17:\tlearn: 0.6889698\ttest: 0.6889529\tbest: 0.6889529 (17)\ttotal: 2.47s\tremaining: 3.02s\n",
            "18:\tlearn: 0.6887981\ttest: 0.6887673\tbest: 0.6887673 (18)\ttotal: 2.59s\tremaining: 2.87s\n",
            "19:\tlearn: 0.6887840\ttest: 0.6887524\tbest: 0.6887524 (19)\ttotal: 2.72s\tremaining: 2.72s\n",
            "20:\tlearn: 0.6887751\ttest: 0.6887435\tbest: 0.6887435 (20)\ttotal: 2.85s\tremaining: 2.58s\n",
            "21:\tlearn: 0.6886139\ttest: 0.6885858\tbest: 0.6885858 (21)\ttotal: 2.99s\tremaining: 2.45s\n",
            "22:\tlearn: 0.6886054\ttest: 0.6885772\tbest: 0.6885772 (22)\ttotal: 3.12s\tremaining: 2.31s\n",
            "23:\tlearn: 0.6885970\ttest: 0.6885688\tbest: 0.6885688 (23)\ttotal: 3.25s\tremaining: 2.17s\n",
            "24:\tlearn: 0.6884412\ttest: 0.6883826\tbest: 0.6883826 (24)\ttotal: 3.38s\tremaining: 2.03s\n",
            "25:\tlearn: 0.6884332\ttest: 0.6883745\tbest: 0.6883745 (25)\ttotal: 3.5s\tremaining: 1.89s\n",
            "26:\tlearn: 0.6883840\ttest: 0.6883255\tbest: 0.6883255 (26)\ttotal: 3.64s\tremaining: 1.75s\n",
            "27:\tlearn: 0.6872951\ttest: 0.6873271\tbest: 0.6873271 (27)\ttotal: 3.78s\tremaining: 1.62s\n",
            "28:\tlearn: 0.6872870\ttest: 0.6873190\tbest: 0.6873190 (28)\ttotal: 3.93s\tremaining: 1.49s\n",
            "29:\tlearn: 0.6872194\ttest: 0.6872380\tbest: 0.6872380 (29)\ttotal: 4.08s\tremaining: 1.36s\n",
            "30:\tlearn: 0.6864618\ttest: 0.6864515\tbest: 0.6864515 (30)\ttotal: 4.24s\tremaining: 1.23s\n",
            "31:\tlearn: 0.6863733\ttest: 0.6863531\tbest: 0.6863531 (31)\ttotal: 4.4s\tremaining: 1.1s\n",
            "32:\tlearn: 0.6862835\ttest: 0.6862825\tbest: 0.6862825 (32)\ttotal: 4.53s\tremaining: 961ms\n",
            "33:\tlearn: 0.6861958\ttest: 0.6862041\tbest: 0.6862041 (33)\ttotal: 4.64s\tremaining: 819ms\n",
            "34:\tlearn: 0.6860236\ttest: 0.6860399\tbest: 0.6860399 (34)\ttotal: 4.78s\tremaining: 683ms\n",
            "35:\tlearn: 0.6855920\ttest: 0.6855706\tbest: 0.6855706 (35)\ttotal: 4.92s\tremaining: 546ms\n",
            "36:\tlearn: 0.6854220\ttest: 0.6853982\tbest: 0.6853982 (36)\ttotal: 5.04s\tremaining: 409ms\n",
            "37:\tlearn: 0.6843704\ttest: 0.6843677\tbest: 0.6843677 (37)\ttotal: 5.18s\tremaining: 272ms\n",
            "38:\tlearn: 0.6843636\ttest: 0.6843609\tbest: 0.6843609 (38)\ttotal: 5.31s\tremaining: 136ms\n",
            "39:\tlearn: 0.6843568\ttest: 0.6843542\tbest: 0.6843542 (39)\ttotal: 5.46s\tremaining: 0us\n",
            "| \u001b[0m 12      \u001b[0m | \u001b[0m 0.6844  \u001b[0m | \u001b[0m 8.0     \u001b[0m | \u001b[0m 40.75   \u001b[0m | \u001b[0m 0.1     \u001b[0m | \u001b[0m 0.01    \u001b[0m | \u001b[0m 0.01    \u001b[0m |\n",
            "0:\tlearn: 0.6869095\ttest: 0.6870071\tbest: 0.6870071 (0)\ttotal: 121ms\tremaining: 4.71s\n",
            "1:\tlearn: 0.6775670\ttest: 0.6769570\tbest: 0.6769570 (1)\ttotal: 265ms\tremaining: 5.03s\n",
            "2:\tlearn: 0.6774477\ttest: 0.6768344\tbest: 0.6768344 (2)\ttotal: 398ms\tremaining: 4.91s\n",
            "3:\tlearn: 0.6730146\ttest: 0.6723510\tbest: 0.6723510 (3)\ttotal: 532ms\tremaining: 4.79s\n",
            "4:\tlearn: 0.6729354\ttest: 0.6722731\tbest: 0.6722731 (4)\ttotal: 665ms\tremaining: 4.65s\n",
            "5:\tlearn: 0.6709759\ttest: 0.6704953\tbest: 0.6704953 (5)\ttotal: 806ms\tremaining: 4.57s\n",
            "6:\tlearn: 0.6709244\ttest: 0.6704448\tbest: 0.6704448 (6)\ttotal: 944ms\tremaining: 4.45s\n",
            "7:\tlearn: 0.6708826\ttest: 0.6704040\tbest: 0.6704040 (7)\ttotal: 1.08s\tremaining: 4.31s\n",
            "8:\tlearn: 0.6708488\ttest: 0.6703711\tbest: 0.6703711 (8)\ttotal: 1.22s\tremaining: 4.19s\n",
            "9:\tlearn: 0.6708214\ttest: 0.6703445\tbest: 0.6703445 (9)\ttotal: 1.33s\tremaining: 4.01s\n",
            "10:\tlearn: 0.6707992\ttest: 0.6703230\tbest: 0.6703230 (10)\ttotal: 1.45s\tremaining: 3.83s\n",
            "11:\tlearn: 0.6604103\ttest: 0.6604426\tbest: 0.6604426 (11)\ttotal: 1.56s\tremaining: 3.65s\n",
            "12:\tlearn: 0.6603955\ttest: 0.6604280\tbest: 0.6604280 (12)\ttotal: 1.68s\tremaining: 3.5s\n",
            "13:\tlearn: 0.6575171\ttest: 0.6576713\tbest: 0.6576713 (13)\ttotal: 1.81s\tremaining: 3.37s\n",
            "14:\tlearn: 0.6575077\ttest: 0.6576624\tbest: 0.6576624 (14)\ttotal: 1.95s\tremaining: 3.24s\n",
            "15:\tlearn: 0.6575001\ttest: 0.6576552\tbest: 0.6576552 (15)\ttotal: 2.06s\tremaining: 3.1s\n",
            "16:\tlearn: 0.6572720\ttest: 0.6574528\tbest: 0.6574528 (16)\ttotal: 2.2s\tremaining: 2.98s\n",
            "17:\tlearn: 0.6561794\ttest: 0.6565377\tbest: 0.6565377 (17)\ttotal: 2.32s\tremaining: 2.84s\n",
            "18:\tlearn: 0.6553654\ttest: 0.6557003\tbest: 0.6557003 (18)\ttotal: 2.45s\tremaining: 2.71s\n",
            "19:\tlearn: 0.6537264\ttest: 0.6541609\tbest: 0.6541609 (19)\ttotal: 2.57s\tremaining: 2.57s\n",
            "20:\tlearn: 0.6537240\ttest: 0.6541587\tbest: 0.6541587 (20)\ttotal: 2.7s\tremaining: 2.44s\n",
            "21:\tlearn: 0.6537220\ttest: 0.6541570\tbest: 0.6541570 (21)\ttotal: 2.83s\tremaining: 2.31s\n",
            "22:\tlearn: 0.6537204\ttest: 0.6541556\tbest: 0.6541556 (22)\ttotal: 2.96s\tremaining: 2.19s\n",
            "23:\tlearn: 0.6537191\ttest: 0.6541545\tbest: 0.6541545 (23)\ttotal: 3.07s\tremaining: 2.05s\n",
            "24:\tlearn: 0.6515409\ttest: 0.6520214\tbest: 0.6520214 (24)\ttotal: 3.19s\tremaining: 1.92s\n",
            "25:\tlearn: 0.6467953\ttest: 0.6470933\tbest: 0.6470933 (25)\ttotal: 3.31s\tremaining: 1.78s\n",
            "26:\tlearn: 0.6402271\ttest: 0.6409308\tbest: 0.6409308 (26)\ttotal: 3.45s\tremaining: 1.66s\n",
            "27:\tlearn: 0.6402150\ttest: 0.6409203\tbest: 0.6409203 (27)\ttotal: 3.58s\tremaining: 1.53s\n",
            "28:\tlearn: 0.6401547\ttest: 0.6408889\tbest: 0.6408889 (28)\ttotal: 3.7s\tremaining: 1.4s\n",
            "29:\tlearn: 0.6401465\ttest: 0.6408819\tbest: 0.6408819 (29)\ttotal: 3.82s\tremaining: 1.27s\n",
            "30:\tlearn: 0.6401400\ttest: 0.6408766\tbest: 0.6408766 (30)\ttotal: 3.94s\tremaining: 1.14s\n",
            "31:\tlearn: 0.6397348\ttest: 0.6404585\tbest: 0.6404585 (31)\ttotal: 4.06s\tremaining: 1.01s\n",
            "32:\tlearn: 0.6397306\ttest: 0.6404550\tbest: 0.6404550 (32)\ttotal: 4.19s\tremaining: 889ms\n",
            "33:\tlearn: 0.6397270\ttest: 0.6404521\tbest: 0.6404521 (33)\ttotal: 4.31s\tremaining: 761ms\n",
            "34:\tlearn: 0.6339259\ttest: 0.6346589\tbest: 0.6346589 (34)\ttotal: 4.43s\tremaining: 633ms\n",
            "35:\tlearn: 0.6339235\ttest: 0.6346569\tbest: 0.6346569 (35)\ttotal: 4.54s\tremaining: 505ms\n",
            "36:\tlearn: 0.6336999\ttest: 0.6344726\tbest: 0.6344726 (36)\ttotal: 4.66s\tremaining: 378ms\n",
            "37:\tlearn: 0.6336985\ttest: 0.6344716\tbest: 0.6344716 (37)\ttotal: 4.8s\tremaining: 253ms\n",
            "38:\tlearn: 0.6336973\ttest: 0.6344708\tbest: 0.6344708 (38)\ttotal: 4.92s\tremaining: 126ms\n",
            "39:\tlearn: 0.6322256\ttest: 0.6328361\tbest: 0.6328361 (39)\ttotal: 5.05s\tremaining: 0us\n",
            "| \u001b[0m 13      \u001b[0m | \u001b[0m 0.6322  \u001b[0m | \u001b[0m 8.0     \u001b[0m | \u001b[0m 40.0    \u001b[0m | \u001b[0m 3.0     \u001b[0m | \u001b[0m 0.1     \u001b[0m | \u001b[0m 0.01    \u001b[0m |\n",
            "0:\tlearn: 0.6892429\ttest: 0.6893069\tbest: 0.6893069 (0)\ttotal: 130ms\tremaining: 4.17s\n",
            "1:\tlearn: 0.6891431\ttest: 0.6892213\tbest: 0.6892213 (1)\ttotal: 249ms\tremaining: 3.86s\n",
            "2:\tlearn: 0.6881723\ttest: 0.6881568\tbest: 0.6881568 (2)\ttotal: 375ms\tremaining: 3.75s\n",
            "3:\tlearn: 0.6846703\ttest: 0.6846287\tbest: 0.6846287 (3)\ttotal: 489ms\tremaining: 3.54s\n",
            "4:\tlearn: 0.6835347\ttest: 0.6833832\tbest: 0.6833832 (4)\ttotal: 611ms\tremaining: 3.42s\n",
            "5:\tlearn: 0.6832824\ttest: 0.6831872\tbest: 0.6831872 (5)\ttotal: 748ms\tremaining: 3.36s\n",
            "6:\tlearn: 0.6787868\ttest: 0.6784550\tbest: 0.6784550 (6)\ttotal: 885ms\tremaining: 3.29s\n",
            "7:\tlearn: 0.6727050\ttest: 0.6724996\tbest: 0.6724996 (7)\ttotal: 1.03s\tremaining: 3.22s\n",
            "8:\tlearn: 0.6664356\ttest: 0.6660383\tbest: 0.6660383 (8)\ttotal: 1.17s\tremaining: 3.12s\n",
            "9:\tlearn: 0.6662990\ttest: 0.6659229\tbest: 0.6659229 (9)\ttotal: 1.3s\tremaining: 2.99s\n",
            "10:\tlearn: 0.6654854\ttest: 0.6651533\tbest: 0.6651533 (10)\ttotal: 1.41s\tremaining: 2.82s\n",
            "11:\tlearn: 0.6652951\ttest: 0.6649940\tbest: 0.6649940 (11)\ttotal: 1.53s\tremaining: 2.67s\n",
            "12:\tlearn: 0.6558392\ttest: 0.6560641\tbest: 0.6560641 (12)\ttotal: 1.66s\tremaining: 2.55s\n",
            "13:\tlearn: 0.6545655\ttest: 0.6548601\tbest: 0.6548601 (13)\ttotal: 1.77s\tremaining: 2.41s\n",
            "14:\tlearn: 0.6538027\ttest: 0.6540032\tbest: 0.6540032 (14)\ttotal: 1.91s\tremaining: 2.29s\n",
            "15:\tlearn: 0.6484187\ttest: 0.6490725\tbest: 0.6490725 (15)\ttotal: 2.04s\tremaining: 2.16s\n",
            "16:\tlearn: 0.6453072\ttest: 0.6461978\tbest: 0.6461978 (16)\ttotal: 2.16s\tremaining: 2.03s\n",
            "17:\tlearn: 0.6452687\ttest: 0.6461583\tbest: 0.6461583 (17)\ttotal: 2.29s\tremaining: 1.91s\n",
            "18:\tlearn: 0.6372355\ttest: 0.6375782\tbest: 0.6375782 (18)\ttotal: 2.42s\tremaining: 1.78s\n",
            "19:\tlearn: 0.6325619\ttest: 0.6328202\tbest: 0.6328202 (19)\ttotal: 2.55s\tremaining: 1.66s\n",
            "20:\tlearn: 0.6302251\ttest: 0.6306813\tbest: 0.6306813 (20)\ttotal: 2.67s\tremaining: 1.53s\n",
            "21:\tlearn: 0.6270529\ttest: 0.6277081\tbest: 0.6277081 (21)\ttotal: 2.8s\tremaining: 1.4s\n",
            "22:\tlearn: 0.6247475\ttest: 0.6253887\tbest: 0.6253887 (22)\ttotal: 2.93s\tremaining: 1.27s\n",
            "23:\tlearn: 0.6215984\ttest: 0.6223212\tbest: 0.6223212 (23)\ttotal: 3.06s\tremaining: 1.15s\n",
            "24:\tlearn: 0.6205334\ttest: 0.6211200\tbest: 0.6211200 (24)\ttotal: 3.2s\tremaining: 1.02s\n",
            "25:\tlearn: 0.6202985\ttest: 0.6208540\tbest: 0.6208540 (25)\ttotal: 3.32s\tremaining: 894ms\n",
            "26:\tlearn: 0.6164876\ttest: 0.6167868\tbest: 0.6167868 (26)\ttotal: 3.46s\tremaining: 768ms\n",
            "27:\tlearn: 0.6164611\ttest: 0.6167607\tbest: 0.6167607 (27)\ttotal: 3.58s\tremaining: 640ms\n",
            "28:\tlearn: 0.6164279\ttest: 0.6167160\tbest: 0.6167160 (28)\ttotal: 3.71s\tremaining: 512ms\n",
            "29:\tlearn: 0.6137853\ttest: 0.6141893\tbest: 0.6141893 (29)\ttotal: 3.84s\tremaining: 384ms\n",
            "30:\tlearn: 0.6101404\ttest: 0.6104894\tbest: 0.6104894 (30)\ttotal: 3.97s\tremaining: 256ms\n",
            "31:\tlearn: 0.6101190\ttest: 0.6104687\tbest: 0.6104687 (31)\ttotal: 4.09s\tremaining: 128ms\n",
            "32:\tlearn: 0.6094456\ttest: 0.6098221\tbest: 0.6098221 (32)\ttotal: 4.22s\tremaining: 0us\n",
            "| \u001b[0m 14      \u001b[0m | \u001b[0m 0.6094  \u001b[0m | \u001b[0m 8.102   \u001b[0m | \u001b[0m 33.91   \u001b[0m | \u001b[0m 0.4356  \u001b[0m | \u001b[0m 0.05252 \u001b[0m | \u001b[0m 0.0286  \u001b[0m |\n",
            "0:\tlearn: 0.6689066\ttest: 0.6694904\tbest: 0.6694904 (0)\ttotal: 170ms\tremaining: 11.2s\n",
            "1:\tlearn: 0.6469662\ttest: 0.6485859\tbest: 0.6485859 (1)\ttotal: 335ms\tremaining: 10.9s\n",
            "2:\tlearn: 0.6253998\ttest: 0.6278110\tbest: 0.6278110 (2)\ttotal: 508ms\tremaining: 10.8s\n",
            "3:\tlearn: 0.6080998\ttest: 0.6110433\tbest: 0.6110433 (3)\ttotal: 663ms\tremaining: 10.4s\n",
            "4:\tlearn: 0.5927137\ttest: 0.5962906\tbest: 0.5962906 (4)\ttotal: 817ms\tremaining: 10.1s\n",
            "5:\tlearn: 0.5802813\ttest: 0.5842615\tbest: 0.5842615 (5)\ttotal: 973ms\tremaining: 9.89s\n",
            "6:\tlearn: 0.5647349\ttest: 0.5692994\tbest: 0.5692994 (6)\ttotal: 1.14s\tremaining: 9.74s\n",
            "7:\tlearn: 0.5521625\ttest: 0.5580357\tbest: 0.5580357 (7)\ttotal: 1.3s\tremaining: 9.59s\n",
            "8:\tlearn: 0.5421145\ttest: 0.5485695\tbest: 0.5485695 (8)\ttotal: 1.46s\tremaining: 9.42s\n",
            "9:\tlearn: 0.5336995\ttest: 0.5404704\tbest: 0.5404704 (9)\ttotal: 1.61s\tremaining: 9.18s\n",
            "10:\tlearn: 0.5237602\ttest: 0.5312882\tbest: 0.5312882 (10)\ttotal: 1.77s\tremaining: 9.02s\n",
            "11:\tlearn: 0.5139183\ttest: 0.5225047\tbest: 0.5225047 (11)\ttotal: 1.93s\tremaining: 8.85s\n",
            "12:\tlearn: 0.5052940\ttest: 0.5147820\tbest: 0.5147820 (12)\ttotal: 2.08s\tremaining: 8.64s\n",
            "13:\tlearn: 0.4969450\ttest: 0.5080299\tbest: 0.5080299 (13)\ttotal: 2.24s\tremaining: 8.46s\n",
            "14:\tlearn: 0.4899662\ttest: 0.5020113\tbest: 0.5020113 (14)\ttotal: 2.38s\tremaining: 8.24s\n",
            "15:\tlearn: 0.4823011\ttest: 0.4954136\tbest: 0.4954136 (15)\ttotal: 2.54s\tremaining: 8.08s\n",
            "16:\tlearn: 0.4759052\ttest: 0.4900778\tbest: 0.4900778 (16)\ttotal: 2.7s\tremaining: 7.94s\n",
            "17:\tlearn: 0.4696969\ttest: 0.4849205\tbest: 0.4849205 (17)\ttotal: 2.85s\tremaining: 7.76s\n",
            "18:\tlearn: 0.4645769\ttest: 0.4804683\tbest: 0.4804683 (18)\ttotal: 3s\tremaining: 7.59s\n",
            "19:\tlearn: 0.4599105\ttest: 0.4762666\tbest: 0.4762666 (19)\ttotal: 3.16s\tremaining: 7.42s\n",
            "20:\tlearn: 0.4534237\ttest: 0.4714324\tbest: 0.4714324 (20)\ttotal: 3.3s\tremaining: 7.24s\n",
            "21:\tlearn: 0.4482129\ttest: 0.4674603\tbest: 0.4674603 (21)\ttotal: 3.46s\tremaining: 7.07s\n",
            "22:\tlearn: 0.4430721\ttest: 0.4633896\tbest: 0.4633896 (22)\ttotal: 3.62s\tremaining: 6.92s\n",
            "23:\tlearn: 0.4386543\ttest: 0.4601004\tbest: 0.4601004 (23)\ttotal: 3.78s\tremaining: 6.78s\n",
            "24:\tlearn: 0.4342642\ttest: 0.4566791\tbest: 0.4566791 (24)\ttotal: 3.94s\tremaining: 6.61s\n",
            "25:\tlearn: 0.4299280\ttest: 0.4533529\tbest: 0.4533529 (25)\ttotal: 4.09s\tremaining: 6.45s\n",
            "26:\tlearn: 0.4258501\ttest: 0.4502643\tbest: 0.4502643 (26)\ttotal: 4.25s\tremaining: 6.3s\n",
            "27:\tlearn: 0.4223301\ttest: 0.4479878\tbest: 0.4479878 (27)\ttotal: 4.41s\tremaining: 6.14s\n",
            "28:\tlearn: 0.4191287\ttest: 0.4456835\tbest: 0.4456835 (28)\ttotal: 4.58s\tremaining: 6s\n",
            "29:\tlearn: 0.4155053\ttest: 0.4429351\tbest: 0.4429351 (29)\ttotal: 4.74s\tremaining: 5.84s\n",
            "30:\tlearn: 0.4117686\ttest: 0.4401072\tbest: 0.4401072 (30)\ttotal: 4.9s\tremaining: 5.68s\n",
            "31:\tlearn: 0.4086501\ttest: 0.4381386\tbest: 0.4381386 (31)\ttotal: 5.06s\tremaining: 5.53s\n",
            "32:\tlearn: 0.4058279\ttest: 0.4363129\tbest: 0.4363129 (32)\ttotal: 5.21s\tremaining: 5.37s\n",
            "33:\tlearn: 0.4037042\ttest: 0.4347592\tbest: 0.4347592 (33)\ttotal: 5.36s\tremaining: 5.2s\n",
            "34:\tlearn: 0.4008149\ttest: 0.4329808\tbest: 0.4329808 (34)\ttotal: 5.52s\tremaining: 5.04s\n",
            "35:\tlearn: 0.3973774\ttest: 0.4309928\tbest: 0.4309928 (35)\ttotal: 5.68s\tremaining: 4.89s\n",
            "36:\tlearn: 0.3952716\ttest: 0.4295097\tbest: 0.4295097 (36)\ttotal: 5.85s\tremaining: 4.74s\n",
            "37:\tlearn: 0.3930229\ttest: 0.4279831\tbest: 0.4279831 (37)\ttotal: 6.01s\tremaining: 4.59s\n",
            "38:\tlearn: 0.3902964\ttest: 0.4264664\tbest: 0.4264664 (38)\ttotal: 6.17s\tremaining: 4.43s\n",
            "39:\tlearn: 0.3873025\ttest: 0.4243306\tbest: 0.4243306 (39)\ttotal: 6.32s\tremaining: 4.27s\n",
            "40:\tlearn: 0.3849570\ttest: 0.4227167\tbest: 0.4227167 (40)\ttotal: 6.47s\tremaining: 4.11s\n",
            "41:\tlearn: 0.3824012\ttest: 0.4209896\tbest: 0.4209896 (41)\ttotal: 6.64s\tremaining: 3.95s\n",
            "42:\tlearn: 0.3806737\ttest: 0.4199522\tbest: 0.4199522 (42)\ttotal: 6.8s\tremaining: 3.79s\n",
            "43:\tlearn: 0.3784399\ttest: 0.4186974\tbest: 0.4186974 (43)\ttotal: 6.96s\tremaining: 3.64s\n",
            "44:\tlearn: 0.3759518\ttest: 0.4171618\tbest: 0.4171618 (44)\ttotal: 7.12s\tremaining: 3.48s\n",
            "45:\tlearn: 0.3739348\ttest: 0.4158056\tbest: 0.4158056 (45)\ttotal: 7.27s\tremaining: 3.32s\n",
            "46:\tlearn: 0.3722490\ttest: 0.4145740\tbest: 0.4145740 (46)\ttotal: 7.42s\tremaining: 3.16s\n",
            "47:\tlearn: 0.3703998\ttest: 0.4133588\tbest: 0.4133588 (47)\ttotal: 7.57s\tremaining: 2.99s\n",
            "48:\tlearn: 0.3674875\ttest: 0.4116180\tbest: 0.4116180 (48)\ttotal: 7.74s\tremaining: 2.84s\n",
            "49:\tlearn: 0.3657434\ttest: 0.4105499\tbest: 0.4105499 (49)\ttotal: 7.9s\tremaining: 2.69s\n",
            "50:\tlearn: 0.3638659\ttest: 0.4095525\tbest: 0.4095525 (50)\ttotal: 8.07s\tremaining: 2.53s\n",
            "51:\tlearn: 0.3620007\ttest: 0.4085450\tbest: 0.4085450 (51)\ttotal: 8.24s\tremaining: 2.38s\n",
            "52:\tlearn: 0.3601075\ttest: 0.4076588\tbest: 0.4076588 (52)\ttotal: 8.41s\tremaining: 2.22s\n",
            "53:\tlearn: 0.3576043\ttest: 0.4066555\tbest: 0.4066555 (53)\ttotal: 8.58s\tremaining: 2.06s\n",
            "54:\tlearn: 0.3556564\ttest: 0.4053111\tbest: 0.4053111 (54)\ttotal: 8.76s\tremaining: 1.91s\n",
            "55:\tlearn: 0.3540878\ttest: 0.4043900\tbest: 0.4043900 (55)\ttotal: 8.92s\tremaining: 1.75s\n",
            "56:\tlearn: 0.3525680\ttest: 0.4036223\tbest: 0.4036223 (56)\ttotal: 9.1s\tremaining: 1.59s\n",
            "57:\tlearn: 0.3512523\ttest: 0.4028551\tbest: 0.4028551 (57)\ttotal: 9.26s\tremaining: 1.44s\n",
            "58:\tlearn: 0.3493806\ttest: 0.4020911\tbest: 0.4020911 (58)\ttotal: 9.42s\tremaining: 1.28s\n",
            "59:\tlearn: 0.3483609\ttest: 0.4015438\tbest: 0.4015438 (59)\ttotal: 9.58s\tremaining: 1.12s\n",
            "60:\tlearn: 0.3463465\ttest: 0.4005916\tbest: 0.4005916 (60)\ttotal: 9.75s\tremaining: 959ms\n",
            "61:\tlearn: 0.3447619\ttest: 0.3998103\tbest: 0.3998103 (61)\ttotal: 9.91s\tremaining: 799ms\n",
            "62:\tlearn: 0.3434658\ttest: 0.3991127\tbest: 0.3991127 (62)\ttotal: 10.1s\tremaining: 640ms\n",
            "63:\tlearn: 0.3424525\ttest: 0.3987054\tbest: 0.3987054 (63)\ttotal: 10.2s\tremaining: 480ms\n",
            "64:\tlearn: 0.3413679\ttest: 0.3981741\tbest: 0.3981741 (64)\ttotal: 10.4s\tremaining: 320ms\n",
            "65:\tlearn: 0.3397306\ttest: 0.3971325\tbest: 0.3971325 (65)\ttotal: 10.6s\tremaining: 160ms\n",
            "66:\tlearn: 0.3385487\ttest: 0.3965973\tbest: 0.3965973 (66)\ttotal: 10.8s\tremaining: 0us\n",
            "| \u001b[0m 15      \u001b[0m | \u001b[0m 0.3385  \u001b[0m | \u001b[0m 8.02    \u001b[0m | \u001b[0m 67.37   \u001b[0m | \u001b[0m 0.1596  \u001b[0m | \u001b[0m 0.04227 \u001b[0m | \u001b[0m 0.7183  \u001b[0m |\n",
            "0:\tlearn: 0.6869291\ttest: 0.6870279\tbest: 0.6870279 (0)\ttotal: 145ms\tremaining: 1.31s\n",
            "1:\tlearn: 0.6853427\ttest: 0.6851697\tbest: 0.6851697 (1)\ttotal: 278ms\tremaining: 1.11s\n",
            "2:\tlearn: 0.6852621\ttest: 0.6850883\tbest: 0.6850883 (2)\ttotal: 410ms\tremaining: 958ms\n",
            "3:\tlearn: 0.6826516\ttest: 0.6824889\tbest: 0.6824889 (3)\ttotal: 555ms\tremaining: 832ms\n",
            "4:\tlearn: 0.6825995\ttest: 0.6824403\tbest: 0.6824403 (4)\ttotal: 696ms\tremaining: 696ms\n",
            "5:\tlearn: 0.6821025\ttest: 0.6820550\tbest: 0.6820550 (5)\ttotal: 837ms\tremaining: 558ms\n",
            "6:\tlearn: 0.6820683\ttest: 0.6820238\tbest: 0.6820238 (6)\ttotal: 975ms\tremaining: 418ms\n",
            "7:\tlearn: 0.6820406\ttest: 0.6819988\tbest: 0.6819988 (7)\ttotal: 1.12s\tremaining: 280ms\n",
            "8:\tlearn: 0.6820182\ttest: 0.6819788\tbest: 0.6819788 (8)\ttotal: 1.25s\tremaining: 139ms\n",
            "9:\tlearn: 0.6820000\ttest: 0.6819628\tbest: 0.6819628 (9)\ttotal: 1.39s\tremaining: 0us\n",
            "| \u001b[0m 16      \u001b[0m | \u001b[0m 0.682   \u001b[0m | \u001b[0m 8.0     \u001b[0m | \u001b[0m 10.0    \u001b[0m | \u001b[0m 0.1     \u001b[0m | \u001b[0m 0.1     \u001b[0m | \u001b[0m 0.01    \u001b[0m |\n",
            "0:\tlearn: 0.6924951\ttest: 0.6925048\tbest: 0.6925048 (0)\ttotal: 148ms\tremaining: 6.82s\n",
            "1:\tlearn: 0.6923231\ttest: 0.6923046\tbest: 0.6923046 (1)\ttotal: 289ms\tremaining: 6.51s\n",
            "2:\tlearn: 0.6923107\ttest: 0.6922922\tbest: 0.6922922 (2)\ttotal: 432ms\tremaining: 6.34s\n",
            "3:\tlearn: 0.6914894\ttest: 0.6914574\tbest: 0.6914574 (3)\ttotal: 578ms\tremaining: 6.22s\n",
            "4:\tlearn: 0.6914775\ttest: 0.6914454\tbest: 0.6914454 (4)\ttotal: 724ms\tremaining: 6.08s\n",
            "5:\tlearn: 0.6909294\ttest: 0.6909198\tbest: 0.6909198 (5)\ttotal: 867ms\tremaining: 5.93s\n",
            "6:\tlearn: 0.6909179\ttest: 0.6909083\tbest: 0.6909083 (6)\ttotal: 1.02s\tremaining: 5.81s\n",
            "7:\tlearn: 0.6909067\ttest: 0.6908971\tbest: 0.6908971 (7)\ttotal: 1.15s\tremaining: 5.6s\n",
            "8:\tlearn: 0.6908956\ttest: 0.6908860\tbest: 0.6908860 (8)\ttotal: 1.27s\tremaining: 5.38s\n",
            "9:\tlearn: 0.6908848\ttest: 0.6908752\tbest: 0.6908752 (9)\ttotal: 1.41s\tremaining: 5.22s\n",
            "10:\tlearn: 0.6908742\ttest: 0.6908646\tbest: 0.6908646 (10)\ttotal: 1.55s\tremaining: 5.07s\n",
            "11:\tlearn: 0.6907272\ttest: 0.6907387\tbest: 0.6907387 (11)\ttotal: 1.69s\tremaining: 4.94s\n",
            "12:\tlearn: 0.6907170\ttest: 0.6907286\tbest: 0.6907286 (12)\ttotal: 1.82s\tremaining: 4.77s\n",
            "13:\tlearn: 0.6900553\ttest: 0.6900732\tbest: 0.6900732 (13)\ttotal: 1.96s\tremaining: 4.62s\n",
            "14:\tlearn: 0.6900455\ttest: 0.6900634\tbest: 0.6900634 (14)\ttotal: 2.11s\tremaining: 4.49s\n",
            "15:\tlearn: 0.6900360\ttest: 0.6900539\tbest: 0.6900539 (15)\ttotal: 2.24s\tremaining: 4.34s\n",
            "16:\tlearn: 0.6889792\ttest: 0.6889624\tbest: 0.6889624 (16)\ttotal: 2.38s\tremaining: 4.2s\n",
            "17:\tlearn: 0.6889698\ttest: 0.6889529\tbest: 0.6889529 (17)\ttotal: 2.51s\tremaining: 4.05s\n",
            "18:\tlearn: 0.6887981\ttest: 0.6887673\tbest: 0.6887673 (18)\ttotal: 2.65s\tremaining: 3.9s\n",
            "19:\tlearn: 0.6887840\ttest: 0.6887524\tbest: 0.6887524 (19)\ttotal: 2.78s\tremaining: 3.76s\n",
            "20:\tlearn: 0.6887751\ttest: 0.6887435\tbest: 0.6887435 (20)\ttotal: 2.91s\tremaining: 3.61s\n",
            "21:\tlearn: 0.6886139\ttest: 0.6885858\tbest: 0.6885858 (21)\ttotal: 3.05s\tremaining: 3.47s\n",
            "22:\tlearn: 0.6886054\ttest: 0.6885772\tbest: 0.6885772 (22)\ttotal: 3.19s\tremaining: 3.33s\n",
            "23:\tlearn: 0.6885970\ttest: 0.6885688\tbest: 0.6885688 (23)\ttotal: 3.31s\tremaining: 3.17s\n",
            "24:\tlearn: 0.6884412\ttest: 0.6883826\tbest: 0.6883826 (24)\ttotal: 3.44s\tremaining: 3.03s\n",
            "25:\tlearn: 0.6884332\ttest: 0.6883745\tbest: 0.6883745 (25)\ttotal: 3.58s\tremaining: 2.89s\n",
            "26:\tlearn: 0.6883840\ttest: 0.6883255\tbest: 0.6883255 (26)\ttotal: 3.72s\tremaining: 2.76s\n",
            "27:\tlearn: 0.6872951\ttest: 0.6873271\tbest: 0.6873271 (27)\ttotal: 3.86s\tremaining: 2.62s\n",
            "28:\tlearn: 0.6872870\ttest: 0.6873190\tbest: 0.6873190 (28)\ttotal: 4.01s\tremaining: 2.49s\n",
            "29:\tlearn: 0.6872194\ttest: 0.6872380\tbest: 0.6872380 (29)\ttotal: 4.16s\tremaining: 2.36s\n",
            "30:\tlearn: 0.6864618\ttest: 0.6864515\tbest: 0.6864515 (30)\ttotal: 4.32s\tremaining: 2.23s\n",
            "31:\tlearn: 0.6863733\ttest: 0.6863531\tbest: 0.6863531 (31)\ttotal: 4.46s\tremaining: 2.09s\n",
            "32:\tlearn: 0.6862835\ttest: 0.6862825\tbest: 0.6862825 (32)\ttotal: 4.61s\tremaining: 1.96s\n",
            "33:\tlearn: 0.6861958\ttest: 0.6862041\tbest: 0.6862041 (33)\ttotal: 4.77s\tremaining: 1.82s\n",
            "34:\tlearn: 0.6860236\ttest: 0.6860399\tbest: 0.6860399 (34)\ttotal: 4.93s\tremaining: 1.69s\n",
            "35:\tlearn: 0.6855920\ttest: 0.6855706\tbest: 0.6855706 (35)\ttotal: 5.1s\tremaining: 1.56s\n",
            "36:\tlearn: 0.6854220\ttest: 0.6853982\tbest: 0.6853982 (36)\ttotal: 5.26s\tremaining: 1.42s\n",
            "37:\tlearn: 0.6843704\ttest: 0.6843677\tbest: 0.6843677 (37)\ttotal: 5.41s\tremaining: 1.28s\n",
            "38:\tlearn: 0.6843636\ttest: 0.6843609\tbest: 0.6843609 (38)\ttotal: 5.56s\tremaining: 1.14s\n",
            "39:\tlearn: 0.6843568\ttest: 0.6843542\tbest: 0.6843542 (39)\ttotal: 5.71s\tremaining: 1000ms\n",
            "40:\tlearn: 0.6838730\ttest: 0.6838638\tbest: 0.6838638 (40)\ttotal: 5.88s\tremaining: 860ms\n",
            "41:\tlearn: 0.6838211\ttest: 0.6838161\tbest: 0.6838161 (41)\ttotal: 6.02s\tremaining: 717ms\n",
            "42:\tlearn: 0.6827964\ttest: 0.6828865\tbest: 0.6828865 (42)\ttotal: 6.17s\tremaining: 574ms\n",
            "43:\tlearn: 0.6827898\ttest: 0.6828799\tbest: 0.6828799 (43)\ttotal: 6.32s\tremaining: 431ms\n",
            "44:\tlearn: 0.6827832\ttest: 0.6828734\tbest: 0.6828734 (44)\ttotal: 6.48s\tremaining: 288ms\n",
            "45:\tlearn: 0.6822398\ttest: 0.6823101\tbest: 0.6823101 (45)\ttotal: 6.64s\tremaining: 144ms\n",
            "46:\tlearn: 0.6812729\ttest: 0.6814241\tbest: 0.6814241 (46)\ttotal: 6.82s\tremaining: 0us\n",
            "| \u001b[0m 17      \u001b[0m | \u001b[0m 0.6813  \u001b[0m | \u001b[0m 8.0     \u001b[0m | \u001b[0m 47.31   \u001b[0m | \u001b[0m 0.1     \u001b[0m | \u001b[0m 0.01    \u001b[0m | \u001b[0m 0.01    \u001b[0m |\n",
            "=====================================================================================\n"
          ],
          "name": "stdout"
        }
      ]
    },
    {
      "cell_type": "markdown",
      "metadata": {
        "id": "mNQ7QI9D-VCT"
      },
      "source": [
        "### prediccion"
      ]
    },
    {
      "cell_type": "code",
      "metadata": {
        "id": "4fhBQZdlK0xf"
      },
      "source": [
        "def catboost(train_data,train_labels,cat_features,eval_data):\r\n",
        "  # Inicializador de CatBoostClassifier\r\n",
        "  model = CatBoostClassifier(iterations=100,\r\n",
        "                             learning_rate=0.4,#0.5\r\n",
        "                             depth=7,#8\r\n",
        "                             l2_leaf_reg=4,#3\r\n",
        "                             rsm=0.7,#0.5\r\n",
        "                             #random_strength=0.75,\r\n",
        "                             grow_policy='SymmetricTree'#'SymmetricTree', 'Depthwise' y 'Lossguide'\r\n",
        "                             #random_seed=2\r\n",
        "                             #use_best_model=True,#Requiere data de evalucion\r\n",
        "                             #eval_set=supuestos\r\n",
        "                             )\r\n",
        "  #parametros importantes por agregar: l2_leaf_reg, rsm\r\n",
        "  #para tipos de category: cat_features, one_hot_max_size\r\n",
        "\r\n",
        "  # Entrenamiento del modelo\r\n",
        "  #model.fit(train_data, train_labels, cat_features)\r\n",
        "\r\n",
        "  eval_dataset = Pool(data=eval_data,\r\n",
        "                      label=supuestos[['Target']],\r\n",
        "                      cat_features=cat_features)\r\n",
        "  model.fit(train_data, train_labels, cat_features, use_best_model=True, eval_set=eval_dataset)\r\n",
        "\r\n",
        "  # obtener prediccion\r\n",
        "  #preds_class = model.predict(eval_data)\r\n",
        "\r\n",
        "  # obtener probabilidad de prediccion\r\n",
        "  preds_proba = model.predict_proba(eval_data)\r\n",
        "\r\n",
        "  # obtener RawFormulaVal de la prediccion\r\n",
        "  #preds_raw = model.predict(eval_data, prediction_type='RawFormulaVal')\r\n",
        "\r\n",
        "  #return resultado(eval_data,preds_proba)\r\n",
        "  importancia = model.get_feature_importance(type= \"FeatureImportance\",prettified=True)\r\n",
        "  return preds_proba,importancia"
      ],
      "execution_count": null,
      "outputs": []
    },
    {
      "cell_type": "code",
      "metadata": {
        "colab": {
          "base_uri": "https://localhost:8080/"
        },
        "id": "DgznGL-LaXIz",
        "outputId": "8d607a9a-2ede-41b8-86fc-67b6e3e47644"
      },
      "source": [
        "#listaDeCategoricas = ['Region','Territory','Product_Type','Product_Category_B']\r\n",
        "#listaDeCategoricas = ['Region','Territory','Product_Type','Product_Category_B','Account_Type','Delivery_Quarter']\r\n",
        "listaDeCategoricas = ['Region','Territory','Product_Type','Product_Category_B',\r\n",
        "                      'Account_Type','Delivery_Quarter','Billing_Country',\r\n",
        "                      'Delivery_Terms','Product_Family','ASP_(converted)_Currency']\r\n",
        "#listaDeCategoricas = []\r\n",
        "res,importancia = catboost(agrupacionEntrenamiento.copy(deep=True),entrenamientoResultado.copy(deep=True),listaDeCategoricas,agrupacionTesteo.copy(deep=True))\r\n",
        "res"
      ],
      "execution_count": null,
      "outputs": [
        {
          "output_type": "stream",
          "text": [
            "0:\tlearn: 0.6460745\ttest: 0.6395830\tbest: 0.6395830 (0)\ttotal: 14.7ms\tremaining: 73.6ms\n",
            "1:\tlearn: 0.6093587\ttest: 0.6036108\tbest: 0.6036108 (1)\ttotal: 29.5ms\tremaining: 58.9ms\n",
            "2:\tlearn: 0.5838588\ttest: 0.5734645\tbest: 0.5734645 (2)\ttotal: 42.2ms\tremaining: 42.2ms\n",
            "3:\tlearn: 0.5586137\ttest: 0.5502046\tbest: 0.5502046 (3)\ttotal: 59.3ms\tremaining: 29.6ms\n",
            "4:\tlearn: 0.5362131\ttest: 0.5401435\tbest: 0.5401435 (4)\ttotal: 77.9ms\tremaining: 15.6ms\n",
            "5:\tlearn: 0.5185166\ttest: 0.5259375\tbest: 0.5259375 (5)\ttotal: 92.6ms\tremaining: 0us\n",
            "\n",
            "bestTest = 0.5259375485\n",
            "bestIteration = 5\n",
            "\n"
          ],
          "name": "stdout"
        },
        {
          "output_type": "execute_result",
          "data": {
            "text/plain": [
              "array([[0.3914676 , 0.6085324 ],\n",
              "       [0.4052438 , 0.5947562 ],\n",
              "       [0.4008017 , 0.5991983 ],\n",
              "       ...,\n",
              "       [0.40559502, 0.59440498],\n",
              "       [0.40812041, 0.59187959],\n",
              "       [0.66710775, 0.33289225]])"
            ]
          },
          "metadata": {
            "tags": []
          },
          "execution_count": 225
        }
      ]
    },
    {
      "cell_type": "code",
      "metadata": {
        "colab": {
          "base_uri": "https://localhost:8080/"
        },
        "id": "Bgabwh58hq77",
        "outputId": "9a81325d-6783-42ec-f2bb-9ec69cd13f5f"
      },
      "source": [
        "resultado = auxiliarUnificarValor(res)\r\n",
        "#resultado = res\r\n",
        "resultado = (resultado - 1) * (-1)#En las ultimas pruevas es el opuesto el que genera mejor resultado\r\n",
        "resultado"
      ],
      "execution_count": null,
      "outputs": [
        {
          "output_type": "execute_result",
          "data": {
            "text/plain": [
              "array([0.6085324 , 0.5947562 , 0.5991983 , ..., 0.59440498, 0.59187959,\n",
              "       0.33289225])"
            ]
          },
          "metadata": {
            "tags": []
          },
          "execution_count": 227
        }
      ]
    },
    {
      "cell_type": "code",
      "metadata": {
        "colab": {
          "base_uri": "https://localhost:8080/",
          "height": 238
        },
        "id": "cv9IaH_CjpoN",
        "outputId": "2a356ec9-a201-4b18-a921-c76b6316e8d0"
      },
      "source": [
        "dataResultante = generarResultado(agrupacionTesteo,resultado)\r\n",
        "dataResultante.head()"
      ],
      "execution_count": null,
      "outputs": [
        {
          "output_type": "execute_result",
          "data": {
            "text/html": [
              "<div>\n",
              "<style scoped>\n",
              "    .dataframe tbody tr th:only-of-type {\n",
              "        vertical-align: middle;\n",
              "    }\n",
              "\n",
              "    .dataframe tbody tr th {\n",
              "        vertical-align: top;\n",
              "    }\n",
              "\n",
              "    .dataframe thead th {\n",
              "        text-align: right;\n",
              "    }\n",
              "</style>\n",
              "<table border=\"1\" class=\"dataframe\">\n",
              "  <thead>\n",
              "    <tr style=\"text-align: right;\">\n",
              "      <th></th>\n",
              "      <th>Target</th>\n",
              "    </tr>\n",
              "    <tr>\n",
              "      <th>Opportunity_ID</th>\n",
              "      <th></th>\n",
              "    </tr>\n",
              "  </thead>\n",
              "  <tbody>\n",
              "    <tr>\n",
              "      <th>10689</th>\n",
              "      <td>0.61</td>\n",
              "    </tr>\n",
              "    <tr>\n",
              "      <th>10690</th>\n",
              "      <td>0.59</td>\n",
              "    </tr>\n",
              "    <tr>\n",
              "      <th>10691</th>\n",
              "      <td>0.60</td>\n",
              "    </tr>\n",
              "    <tr>\n",
              "      <th>10692</th>\n",
              "      <td>0.53</td>\n",
              "    </tr>\n",
              "    <tr>\n",
              "      <th>10693</th>\n",
              "      <td>0.63</td>\n",
              "    </tr>\n",
              "  </tbody>\n",
              "</table>\n",
              "</div>"
            ],
            "text/plain": [
              "                             Target\n",
              "Opportunity_ID                     \n",
              "10689                          0.61\n",
              "10690                          0.59\n",
              "10691                          0.60\n",
              "10692                          0.53\n",
              "10693                          0.63"
            ]
          },
          "metadata": {
            "tags": []
          },
          "execution_count": 228
        }
      ]
    },
    {
      "cell_type": "code",
      "metadata": {
        "colab": {
          "base_uri": "https://localhost:8080/",
          "height": 1000
        },
        "id": "TjaNnyRAySZv",
        "outputId": "7774d7bc-efb4-4765-ef86-d6ebc2c266d3"
      },
      "source": [
        "importancia"
      ],
      "execution_count": null,
      "outputs": [
        {
          "output_type": "execute_result",
          "data": {
            "text/html": [
              "<div>\n",
              "<style scoped>\n",
              "    .dataframe tbody tr th:only-of-type {\n",
              "        vertical-align: middle;\n",
              "    }\n",
              "\n",
              "    .dataframe tbody tr th {\n",
              "        vertical-align: top;\n",
              "    }\n",
              "\n",
              "    .dataframe thead th {\n",
              "        text-align: right;\n",
              "    }\n",
              "</style>\n",
              "<table border=\"1\" class=\"dataframe\">\n",
              "  <thead>\n",
              "    <tr style=\"text-align: right;\">\n",
              "      <th></th>\n",
              "      <th>Feature Id</th>\n",
              "      <th>Importances</th>\n",
              "    </tr>\n",
              "  </thead>\n",
              "  <tbody>\n",
              "    <tr>\n",
              "      <th>0</th>\n",
              "      <td>Product_Type</td>\n",
              "      <td>24.31</td>\n",
              "    </tr>\n",
              "    <tr>\n",
              "      <th>1</th>\n",
              "      <td>TRF</td>\n",
              "      <td>19.71</td>\n",
              "    </tr>\n",
              "    <tr>\n",
              "      <th>2</th>\n",
              "      <td>Product_Category_B</td>\n",
              "      <td>14.27</td>\n",
              "    </tr>\n",
              "    <tr>\n",
              "      <th>3</th>\n",
              "      <td>Pricing, Delivery_Terms_Approved</td>\n",
              "      <td>8.59</td>\n",
              "    </tr>\n",
              "    <tr>\n",
              "      <th>4</th>\n",
              "      <td>Region</td>\n",
              "      <td>6.41</td>\n",
              "    </tr>\n",
              "    <tr>\n",
              "      <th>5</th>\n",
              "      <td>Planned_Delivery_Start_Date_dia</td>\n",
              "      <td>4.18</td>\n",
              "    </tr>\n",
              "    <tr>\n",
              "      <th>6</th>\n",
              "      <td>Planned_Delivery_End_Date_dia</td>\n",
              "      <td>4.03</td>\n",
              "    </tr>\n",
              "    <tr>\n",
              "      <th>7</th>\n",
              "      <td>Account_Created_Date_anio</td>\n",
              "      <td>2.99</td>\n",
              "    </tr>\n",
              "    <tr>\n",
              "      <th>8</th>\n",
              "      <td>Opportunity_Created_Date_anio</td>\n",
              "      <td>2.15</td>\n",
              "    </tr>\n",
              "    <tr>\n",
              "      <th>9</th>\n",
              "      <td>modificaciones</td>\n",
              "      <td>1.98</td>\n",
              "    </tr>\n",
              "    <tr>\n",
              "      <th>10</th>\n",
              "      <td>Last_Modified_Date_anio</td>\n",
              "      <td>1.93</td>\n",
              "    </tr>\n",
              "    <tr>\n",
              "      <th>11</th>\n",
              "      <td>Planned_Delivery_Start_Date_mes</td>\n",
              "      <td>1.79</td>\n",
              "    </tr>\n",
              "    <tr>\n",
              "      <th>12</th>\n",
              "      <td>Opportunity_Created_Date_mes</td>\n",
              "      <td>1.71</td>\n",
              "    </tr>\n",
              "    <tr>\n",
              "      <th>13</th>\n",
              "      <td>Account_Created_Date_mes</td>\n",
              "      <td>1.62</td>\n",
              "    </tr>\n",
              "    <tr>\n",
              "      <th>14</th>\n",
              "      <td>Last_Modified_Date_dia</td>\n",
              "      <td>1.23</td>\n",
              "    </tr>\n",
              "    <tr>\n",
              "      <th>15</th>\n",
              "      <td>ASP_(converted)</td>\n",
              "      <td>1.14</td>\n",
              "    </tr>\n",
              "    <tr>\n",
              "      <th>16</th>\n",
              "      <td>Account_Created_Date_dia</td>\n",
              "      <td>1.09</td>\n",
              "    </tr>\n",
              "    <tr>\n",
              "      <th>17</th>\n",
              "      <td>Total_Amount</td>\n",
              "      <td>0.89</td>\n",
              "    </tr>\n",
              "    <tr>\n",
              "      <th>18</th>\n",
              "      <td>Pricing, Delivery_Terms_Quote_Appr</td>\n",
              "      <td>0.00</td>\n",
              "    </tr>\n",
              "    <tr>\n",
              "      <th>19</th>\n",
              "      <td>Bureaucratic_Code_0_Approval</td>\n",
              "      <td>0.00</td>\n",
              "    </tr>\n",
              "    <tr>\n",
              "      <th>20</th>\n",
              "      <td>Bureaucratic_Code_0_Approved</td>\n",
              "      <td>0.00</td>\n",
              "    </tr>\n",
              "    <tr>\n",
              "      <th>21</th>\n",
              "      <td>Total_Taxable_Amount</td>\n",
              "      <td>0.00</td>\n",
              "    </tr>\n",
              "    <tr>\n",
              "      <th>22</th>\n",
              "      <td>Territory</td>\n",
              "      <td>0.00</td>\n",
              "    </tr>\n",
              "    <tr>\n",
              "      <th>23</th>\n",
              "      <td>Account_Type</td>\n",
              "      <td>0.00</td>\n",
              "    </tr>\n",
              "    <tr>\n",
              "      <th>24</th>\n",
              "      <td>Delivery_Quarter</td>\n",
              "      <td>0.00</td>\n",
              "    </tr>\n",
              "    <tr>\n",
              "      <th>25</th>\n",
              "      <td>Billing_Country</td>\n",
              "      <td>0.00</td>\n",
              "    </tr>\n",
              "    <tr>\n",
              "      <th>26</th>\n",
              "      <td>Delivery_Terms</td>\n",
              "      <td>0.00</td>\n",
              "    </tr>\n",
              "    <tr>\n",
              "      <th>27</th>\n",
              "      <td>Product_Family</td>\n",
              "      <td>0.00</td>\n",
              "    </tr>\n",
              "    <tr>\n",
              "      <th>28</th>\n",
              "      <td>ASP_(converted)_Currency</td>\n",
              "      <td>0.00</td>\n",
              "    </tr>\n",
              "    <tr>\n",
              "      <th>29</th>\n",
              "      <td>Last_Modified_Date_mes</td>\n",
              "      <td>0.00</td>\n",
              "    </tr>\n",
              "    <tr>\n",
              "      <th>30</th>\n",
              "      <td>Opportunity_Created_Date_dia</td>\n",
              "      <td>0.00</td>\n",
              "    </tr>\n",
              "    <tr>\n",
              "      <th>31</th>\n",
              "      <td>Planned_Delivery_Start_Date_anio</td>\n",
              "      <td>0.00</td>\n",
              "    </tr>\n",
              "    <tr>\n",
              "      <th>32</th>\n",
              "      <td>Planned_Delivery_End_Date_anio</td>\n",
              "      <td>0.00</td>\n",
              "    </tr>\n",
              "    <tr>\n",
              "      <th>33</th>\n",
              "      <td>Planned_Delivery_End_Date_mes</td>\n",
              "      <td>0.00</td>\n",
              "    </tr>\n",
              "  </tbody>\n",
              "</table>\n",
              "</div>"
            ],
            "text/plain": [
              "                            Feature Id          Importances\n",
              "0                         Product_Type                24.31\n",
              "1                                  TRF                19.71\n",
              "2                   Product_Category_B                14.27\n",
              "3     Pricing, Delivery_Terms_Approved                 8.59\n",
              "4                               Region                 6.41\n",
              "5      Planned_Delivery_Start_Date_dia                 4.18\n",
              "6        Planned_Delivery_End_Date_dia                 4.03\n",
              "7            Account_Created_Date_anio                 2.99\n",
              "8        Opportunity_Created_Date_anio                 2.15\n",
              "9                       modificaciones                 1.98\n",
              "10             Last_Modified_Date_anio                 1.93\n",
              "11     Planned_Delivery_Start_Date_mes                 1.79\n",
              "12        Opportunity_Created_Date_mes                 1.71\n",
              "13            Account_Created_Date_mes                 1.62\n",
              "14              Last_Modified_Date_dia                 1.23\n",
              "15                     ASP_(converted)                 1.14\n",
              "16            Account_Created_Date_dia                 1.09\n",
              "17                        Total_Amount                 0.89\n",
              "18  Pricing, Delivery_Terms_Quote_Appr                 0.00\n",
              "19        Bureaucratic_Code_0_Approval                 0.00\n",
              "20        Bureaucratic_Code_0_Approved                 0.00\n",
              "21                Total_Taxable_Amount                 0.00\n",
              "22                           Territory                 0.00\n",
              "23                        Account_Type                 0.00\n",
              "24                    Delivery_Quarter                 0.00\n",
              "25                     Billing_Country                 0.00\n",
              "26                      Delivery_Terms                 0.00\n",
              "27                      Product_Family                 0.00\n",
              "28            ASP_(converted)_Currency                 0.00\n",
              "29              Last_Modified_Date_mes                 0.00\n",
              "30        Opportunity_Created_Date_dia                 0.00\n",
              "31    Planned_Delivery_Start_Date_anio                 0.00\n",
              "32      Planned_Delivery_End_Date_anio                 0.00\n",
              "33       Planned_Delivery_End_Date_mes                 0.00"
            ]
          },
          "metadata": {
            "tags": []
          },
          "execution_count": 229
        }
      ]
    },
    {
      "cell_type": "markdown",
      "metadata": {
        "id": "onKsrVr1lwas"
      },
      "source": [
        "## XGBoost"
      ]
    },
    {
      "cell_type": "code",
      "metadata": {
        "id": "uAJLnCXIl1eQ"
      },
      "source": [
        "def xgboost(train_set, train_label,listaCategorica,test_set,masImportantes=0):\r\n",
        "  xgb_reg = xgb.XGBClassifier(max_depth = 8, \r\n",
        "                           colsample_bytree = 0.5, \r\n",
        "                           learning_rate = 0.3, \r\n",
        "                           alpha = 8,\r\n",
        "                           min_child_weight = 0.5,\r\n",
        "                           n_estimators = 200,\r\n",
        "                           objetive = 'reg:squarederror')\r\n",
        "  xgb_reg.fit(train_set, train_label)\r\n",
        "  predicts = xgb_reg.predict_proba(test_set)\r\n",
        "  if (masImportantes > 0):\r\n",
        "    xgb.plot_importance(xg_reg, max_num_features=masImportantes)\r\n",
        "  return predicts\r\n",
        "\r\n",
        "\r\n"
      ],
      "execution_count": null,
      "outputs": []
    },
    {
      "cell_type": "code",
      "metadata": {
        "colab": {
          "base_uri": "https://localhost:8080/"
        },
        "id": "viXhlcxFonZc",
        "outputId": "4ea4b42d-7ae9-4e00-d121-b4f8bd2180e7"
      },
      "source": [
        "#listaDeCategoricas = ['Region','Territory','Product_Type','Product_Category_B']\r\n",
        "#listaDeCategoricas = ['Region','Territory','Product_Type','Product_Category_B','Account_Type','Delivery_Quarter']\r\n",
        "listaDeCategoricas = ['Region','Territory','Product_Type','Product_Category_B',\r\n",
        "                      'Account_Type','Delivery_Quarter','Billing_Country',\r\n",
        "                      'Delivery_Terms','Product_Family','ASP_(converted)_Currency']\r\n",
        "#listaDeCategoricas = []\r\n",
        "agrupacionEntrenamientoXGB = agrupacionEntrenamiento.copy(True)\r\n",
        "agrupacionTesteoXGB = agrupacionTesteo.copy(True)\r\n",
        "\r\n",
        "# convert categorical columns to integers \r\n",
        "#usando la funcion de catboost\r\n",
        "for header in listaDeCategoricas:\r\n",
        "  agrupacionEntrenamientoXGB[header] = agrupacionEntrenamientoXGB[header].astype('category').cat.codes\r\n",
        "  agrupacionTesteoXGB[header] = agrupacionTesteoXGB[header].astype('category').cat.codes\r\n",
        "#usando metodo personalizado\r\n",
        "#for columna in listaDeCategoricas:\r\n",
        "#  agrupacionEntrenamientoXGB,agrupacionTesteoXGB = convertirCategoryEnEnteros(agrupacionEntrenamientoXGB,agrupacionTesteoXGB,columna)\r\n",
        "\r\n",
        "\r\n",
        "agrupacionEntrenamientoXGB.info()"
      ],
      "execution_count": null,
      "outputs": [
        {
          "output_type": "stream",
          "text": [
            "<class 'pandas.core.frame.DataFrame'>\n",
            "Int64Index: 9791 entries, 0 to 12803\n",
            "Data columns (total 34 columns):\n",
            " #   Column                              Non-Null Count  Dtype  \n",
            "---  ------                              --------------  -----  \n",
            " 0   modificaciones                      9791 non-null   int64  \n",
            " 1   Pricing, Delivery_Terms_Quote_Appr  9791 non-null   int64  \n",
            " 2   Pricing, Delivery_Terms_Approved    9791 non-null   int64  \n",
            " 3   Bureaucratic_Code_0_Approval        9791 non-null   int64  \n",
            " 4   Bureaucratic_Code_0_Approved        9791 non-null   int64  \n",
            " 5   Total_Amount                        9791 non-null   float64\n",
            " 6   Region                              9791 non-null   int8   \n",
            " 7   Total_Taxable_Amount                9791 non-null   float64\n",
            " 8   Territory                           9791 non-null   int8   \n",
            " 9   ASP_(converted)                     9791 non-null   float64\n",
            " 10  Account_Type                        9791 non-null   int8   \n",
            " 11  Delivery_Quarter                    9791 non-null   int8   \n",
            " 12  Product_Type                        9791 non-null   int8   \n",
            " 13  Product_Category_B                  9791 non-null   int8   \n",
            " 14  Billing_Country                     9791 non-null   int8   \n",
            " 15  Delivery_Terms                      9791 non-null   int8   \n",
            " 16  Product_Family                      9791 non-null   int16  \n",
            " 17  ASP_(converted)_Currency            9791 non-null   int8   \n",
            " 18  TRF                                 9791 non-null   float64\n",
            " 19  Last_Modified_Date_anio             9791 non-null   int64  \n",
            " 20  Last_Modified_Date_mes              9791 non-null   int64  \n",
            " 21  Last_Modified_Date_dia              9791 non-null   int64  \n",
            " 22  Opportunity_Created_Date_anio       9791 non-null   int64  \n",
            " 23  Opportunity_Created_Date_mes        9791 non-null   int64  \n",
            " 24  Opportunity_Created_Date_dia        9791 non-null   int64  \n",
            " 25  Account_Created_Date_anio           9791 non-null   int64  \n",
            " 26  Account_Created_Date_mes            9791 non-null   int64  \n",
            " 27  Account_Created_Date_dia            9791 non-null   int64  \n",
            " 28  Planned_Delivery_Start_Date_anio    9791 non-null   int64  \n",
            " 29  Planned_Delivery_Start_Date_mes     9791 non-null   int64  \n",
            " 30  Planned_Delivery_Start_Date_dia     9791 non-null   int64  \n",
            " 31  Planned_Delivery_End_Date_anio      9734 non-null   float64\n",
            " 32  Planned_Delivery_End_Date_mes       9734 non-null   float64\n",
            " 33  Planned_Delivery_End_Date_dia       9734 non-null   float64\n",
            "dtypes: float64(7), int16(1), int64(17), int8(9)\n",
            "memory usage: 2.0 MB\n"
          ],
          "name": "stdout"
        }
      ]
    },
    {
      "cell_type": "code",
      "metadata": {
        "colab": {
          "base_uri": "https://localhost:8080/"
        },
        "id": "UmyatqVjIIP2",
        "outputId": "e185a1b8-e108-49dd-cb5a-583b30310e91"
      },
      "source": [
        "\r\n",
        "agrupacionTesteoXGB.info()"
      ],
      "execution_count": null,
      "outputs": [
        {
          "output_type": "stream",
          "text": [
            "<class 'pandas.core.frame.DataFrame'>\n",
            "Int64Index: 1567 entries, 10689 to 12368\n",
            "Data columns (total 34 columns):\n",
            " #   Column                              Non-Null Count  Dtype  \n",
            "---  ------                              --------------  -----  \n",
            " 0   modificaciones                      1567 non-null   int64  \n",
            " 1   Pricing, Delivery_Terms_Quote_Appr  1567 non-null   int64  \n",
            " 2   Pricing, Delivery_Terms_Approved    1567 non-null   int64  \n",
            " 3   Bureaucratic_Code_0_Approval        1567 non-null   int64  \n",
            " 4   Bureaucratic_Code_0_Approved        1567 non-null   int64  \n",
            " 5   Total_Amount                        1567 non-null   float64\n",
            " 6   Region                              1567 non-null   int8   \n",
            " 7   Total_Taxable_Amount                1567 non-null   float64\n",
            " 8   Territory                           1567 non-null   int8   \n",
            " 9   ASP_(converted)                     1567 non-null   float64\n",
            " 10  Account_Type                        1567 non-null   int8   \n",
            " 11  Delivery_Quarter                    1567 non-null   int8   \n",
            " 12  Product_Type                        1567 non-null   int8   \n",
            " 13  Product_Category_B                  1567 non-null   int8   \n",
            " 14  Billing_Country                     1567 non-null   int8   \n",
            " 15  Delivery_Terms                      1567 non-null   int8   \n",
            " 16  Product_Family                      1567 non-null   int8   \n",
            " 17  ASP_(converted)_Currency            1567 non-null   int8   \n",
            " 18  TRF                                 1567 non-null   float64\n",
            " 19  Last_Modified_Date_anio             1567 non-null   int64  \n",
            " 20  Last_Modified_Date_mes              1567 non-null   int64  \n",
            " 21  Last_Modified_Date_dia              1567 non-null   int64  \n",
            " 22  Opportunity_Created_Date_anio       1567 non-null   int64  \n",
            " 23  Opportunity_Created_Date_mes        1567 non-null   int64  \n",
            " 24  Opportunity_Created_Date_dia        1567 non-null   int64  \n",
            " 25  Account_Created_Date_anio           1567 non-null   int64  \n",
            " 26  Account_Created_Date_mes            1567 non-null   int64  \n",
            " 27  Account_Created_Date_dia            1567 non-null   int64  \n",
            " 28  Planned_Delivery_Start_Date_anio    1567 non-null   int64  \n",
            " 29  Planned_Delivery_Start_Date_mes     1567 non-null   int64  \n",
            " 30  Planned_Delivery_Start_Date_dia     1567 non-null   int64  \n",
            " 31  Planned_Delivery_End_Date_anio      1524 non-null   float64\n",
            " 32  Planned_Delivery_End_Date_mes       1524 non-null   float64\n",
            " 33  Planned_Delivery_End_Date_dia       1524 non-null   float64\n",
            "dtypes: float64(7), int64(17), int8(10)\n",
            "memory usage: 321.4 KB\n"
          ],
          "name": "stdout"
        }
      ]
    },
    {
      "cell_type": "code",
      "metadata": {
        "colab": {
          "base_uri": "https://localhost:8080/"
        },
        "id": "HHZouTYbv07j",
        "outputId": "8de59159-e409-4695-cf66-a7c5afd7c157"
      },
      "source": [
        "\r\n",
        "res = xgboost(agrupacionEntrenamientoXGB,entrenamientoResultado,listaDeCategoricas,agrupacionTesteoXGB)\r\n",
        "res"
      ],
      "execution_count": null,
      "outputs": [
        {
          "output_type": "execute_result",
          "data": {
            "text/plain": [
              "array([[0.2085638 , 0.7914362 ],\n",
              "       [0.73569804, 0.26430196],\n",
              "       [0.08843356, 0.91156644],\n",
              "       ...,\n",
              "       [0.990908  , 0.00909197],\n",
              "       [0.00688678, 0.9931132 ],\n",
              "       [0.9187886 , 0.0812114 ]], dtype=float32)"
            ]
          },
          "metadata": {
            "tags": []
          },
          "execution_count": 240
        }
      ]
    },
    {
      "cell_type": "code",
      "metadata": {
        "id": "ne_Bb8L6QuXg",
        "colab": {
          "base_uri": "https://localhost:8080/"
        },
        "outputId": "73cc4122-20b9-4af1-8c77-99cc70360d50"
      },
      "source": [
        "resultado = auxiliarUnificarValor(res)\r\n",
        "resultado = (resultado - 1) * (-1)#En las ultimas pruevas es el opuesto el que genera mejor resultado\r\n",
        "resultado"
      ],
      "execution_count": null,
      "outputs": [
        {
          "output_type": "execute_result",
          "data": {
            "text/plain": [
              "array([0.7914362 , 0.26430196, 0.91156644, ..., 0.00909197, 0.9931132 ,\n",
              "       0.08121139], dtype=float32)"
            ]
          },
          "metadata": {
            "tags": []
          },
          "execution_count": 241
        }
      ]
    },
    {
      "cell_type": "code",
      "metadata": {
        "id": "hHUrCcTgosNz",
        "colab": {
          "base_uri": "https://localhost:8080/",
          "height": 238
        },
        "outputId": "5d6be644-e762-4a0a-d1c0-f50a3c9a5e14"
      },
      "source": [
        "dataResultante = generarResultado(agrupacionTesteo,resultado)\r\n",
        "dataResultante.head()"
      ],
      "execution_count": null,
      "outputs": [
        {
          "output_type": "execute_result",
          "data": {
            "text/html": [
              "<div>\n",
              "<style scoped>\n",
              "    .dataframe tbody tr th:only-of-type {\n",
              "        vertical-align: middle;\n",
              "    }\n",
              "\n",
              "    .dataframe tbody tr th {\n",
              "        vertical-align: top;\n",
              "    }\n",
              "\n",
              "    .dataframe thead th {\n",
              "        text-align: right;\n",
              "    }\n",
              "</style>\n",
              "<table border=\"1\" class=\"dataframe\">\n",
              "  <thead>\n",
              "    <tr style=\"text-align: right;\">\n",
              "      <th></th>\n",
              "      <th>Target</th>\n",
              "    </tr>\n",
              "    <tr>\n",
              "      <th>Opportunity_ID</th>\n",
              "      <th></th>\n",
              "    </tr>\n",
              "  </thead>\n",
              "  <tbody>\n",
              "    <tr>\n",
              "      <th>10689</th>\n",
              "      <td>0.79</td>\n",
              "    </tr>\n",
              "    <tr>\n",
              "      <th>10690</th>\n",
              "      <td>0.26</td>\n",
              "    </tr>\n",
              "    <tr>\n",
              "      <th>10691</th>\n",
              "      <td>0.91</td>\n",
              "    </tr>\n",
              "    <tr>\n",
              "      <th>10692</th>\n",
              "      <td>0.51</td>\n",
              "    </tr>\n",
              "    <tr>\n",
              "      <th>10693</th>\n",
              "      <td>1.00</td>\n",
              "    </tr>\n",
              "  </tbody>\n",
              "</table>\n",
              "</div>"
            ],
            "text/plain": [
              "                             Target\n",
              "Opportunity_ID                     \n",
              "10689                          0.79\n",
              "10690                          0.26\n",
              "10691                          0.91\n",
              "10692                          0.51\n",
              "10693                          1.00"
            ]
          },
          "metadata": {
            "tags": []
          },
          "execution_count": 242
        }
      ]
    },
    {
      "cell_type": "markdown",
      "metadata": {
        "id": "baxdAoAzfwxz"
      },
      "source": [
        "## LightGBM"
      ]
    },
    {
      "cell_type": "code",
      "metadata": {
        "id": "nZVOGGgFgU3H"
      },
      "source": [
        "def lightGBM(train_data,train_labels,cat_features,eval_data):\r\n",
        "  \"\"\"# evaluate the model\r\n",
        "  model = lgb.LGBMClassifier()\r\n",
        "  cv = RepeatedStratifiedKFold(n_splits=10, n_repeats=3, random_state=1)\r\n",
        "  n_scores = cross_val_score(model,\r\n",
        "                             train_data,\r\n",
        "                             train_labels,\r\n",
        "                             scoring='accuracy',\r\n",
        "                             cv=cv,\r\n",
        "                             n_jobs=-1,\r\n",
        "                             categorical_feature=cat_features,\r\n",
        "                             error_score='raise')\r\n",
        "  print('Accuracy: %.3f (%.3f)' % (mean(n_scores), std(n_scores)))\r\n",
        "  # fit the model on the whole dataset\r\n",
        "  model.fit(X, y)\r\n",
        "  # make a single prediction\r\n",
        "  yhat = model.predict(eval_data)\r\n",
        "  return yhat\"\"\"\r\n",
        "\r\n",
        "  #\r\n",
        "  # Create training and validation sets\r\n",
        "  #\r\n",
        "  x, x_test, y, y_test = train_test_split(train_data,train_labels, test_size=0.2, random_state=42, stratify=train_labels)\r\n",
        "\r\n",
        "  #\r\n",
        "  # Create the LightGBM data containers\r\n",
        "  #\r\n",
        "  #categorical_features = [c for c, col in enumerate(train.columns) if 'cat' in col]\r\n",
        "  categorical_features = cat_features\r\n",
        "  train_data = lgb.Dataset(x, label=y, categorical_feature=categorical_features)\r\n",
        "  test_data = lgb.Dataset(x_test, label=y_test)\r\n",
        "\r\n",
        "\r\n",
        "  #\r\n",
        "  # Train the model\r\n",
        "  #\r\n",
        "\r\n",
        "  parameters = {\r\n",
        "      'application': 'binary',\r\n",
        "      'objective': 'binary',\r\n",
        "      'metric': 'auc',\r\n",
        "      'is_unbalance': 'true',\r\n",
        "      'boosting': 'gbdt',\r\n",
        "      'num_leaves': 31,\r\n",
        "      'feature_fraction': 0.5,\r\n",
        "      'bagging_fraction': 0.5,\r\n",
        "      'bagging_freq': 20,\r\n",
        "      'learning_rate': 0.05,\r\n",
        "      'verbose': 0\r\n",
        "  }\r\n",
        "\r\n",
        "  model = lgb.train(parameters,\r\n",
        "                    train_data,\r\n",
        "                    valid_sets=test_data,\r\n",
        "                    num_boost_round=5000,\r\n",
        "                    early_stopping_rounds=100)\r\n",
        "\r\n",
        "\r\n",
        "  submission = eval_data\r\n",
        "  ids = submission.index.values\r\n",
        "  #submission.drop('id', inplace=True, axis=1)\r\n",
        "\r\n",
        "\r\n",
        "  x = submission.values\r\n",
        "  y = model.predict(x)\r\n",
        "\r\n",
        "  output = pd.DataFrame({'id': ids, 'target': y})\r\n",
        "  output.to_csv(\"submission.csv\", index=False)\r\n",
        "\r\n",
        "  prediccion = model.predict(y)\r\n",
        "\r\n",
        "  #ids = eval_data['Opportunity_ID'].values\r\n",
        "  #output = pd.DataFrame({'Opportunity_ID': ids, 'target': y})\r\n",
        "  return prediccion"
      ],
      "execution_count": null,
      "outputs": []
    },
    {
      "cell_type": "code",
      "metadata": {
        "colab": {
          "base_uri": "https://localhost:8080/",
          "height": 1000
        },
        "id": "2UVA9vOQjN2o",
        "outputId": "45462fea-fc78-4dbe-8fef-221712ae8500"
      },
      "source": [
        "listaDeCategoricas = ['Region','Territory','Product_Type','Product_Category_B','Account_Type','Delivery_Quarter','Billing_Country']\r\n",
        "res = lightGBM(agrupacionEntrenamiento,entrenamientoResultado,listaDeCategoricas,agrupacionTesteo)\r\n",
        "res"
      ],
      "execution_count": null,
      "outputs": [
        {
          "output_type": "stream",
          "text": [
            "[1]\tvalid_0's auc: 0.79851\n",
            "Training until validation scores don't improve for 100 rounds.\n",
            "[2]\tvalid_0's auc: 0.863986\n",
            "[3]\tvalid_0's auc: 0.869374\n",
            "[4]\tvalid_0's auc: 0.877967\n",
            "[5]\tvalid_0's auc: 0.880718\n",
            "[6]\tvalid_0's auc: 0.88335\n",
            "[7]\tvalid_0's auc: 0.885716\n",
            "[8]\tvalid_0's auc: 0.882643\n",
            "[9]\tvalid_0's auc: 0.882596\n",
            "[10]\tvalid_0's auc: 0.884059\n",
            "[11]\tvalid_0's auc: 0.883799\n",
            "[12]\tvalid_0's auc: 0.884385\n",
            "[13]\tvalid_0's auc: 0.886554\n",
            "[14]\tvalid_0's auc: 0.885845\n",
            "[15]\tvalid_0's auc: 0.885445\n",
            "[16]\tvalid_0's auc: 0.886275\n",
            "[17]\tvalid_0's auc: 0.885326\n",
            "[18]\tvalid_0's auc: 0.886202\n",
            "[19]\tvalid_0's auc: 0.887516\n",
            "[20]\tvalid_0's auc: 0.888453\n",
            "[21]\tvalid_0's auc: 0.889643\n",
            "[22]\tvalid_0's auc: 0.890854\n",
            "[23]\tvalid_0's auc: 0.891974\n",
            "[24]\tvalid_0's auc: 0.892554\n",
            "[25]\tvalid_0's auc: 0.893594\n",
            "[26]\tvalid_0's auc: 0.893797\n",
            "[27]\tvalid_0's auc: 0.894586\n",
            "[28]\tvalid_0's auc: 0.896922\n",
            "[29]\tvalid_0's auc: 0.898042\n",
            "[30]\tvalid_0's auc: 0.898728\n",
            "[31]\tvalid_0's auc: 0.899502\n",
            "[32]\tvalid_0's auc: 0.90003\n",
            "[33]\tvalid_0's auc: 0.900674\n",
            "[34]\tvalid_0's auc: 0.901471\n",
            "[35]\tvalid_0's auc: 0.901943\n",
            "[36]\tvalid_0's auc: 0.902361\n",
            "[37]\tvalid_0's auc: 0.902564\n",
            "[38]\tvalid_0's auc: 0.902598\n",
            "[39]\tvalid_0's auc: 0.902888\n",
            "[40]\tvalid_0's auc: 0.903573\n",
            "[41]\tvalid_0's auc: 0.904156\n",
            "[42]\tvalid_0's auc: 0.905056\n",
            "[43]\tvalid_0's auc: 0.905758\n",
            "[44]\tvalid_0's auc: 0.906244\n",
            "[45]\tvalid_0's auc: 0.906084\n",
            "[46]\tvalid_0's auc: 0.906383\n",
            "[47]\tvalid_0's auc: 0.907077\n",
            "[48]\tvalid_0's auc: 0.906914\n",
            "[49]\tvalid_0's auc: 0.907068\n",
            "[50]\tvalid_0's auc: 0.907244\n",
            "[51]\tvalid_0's auc: 0.908153\n",
            "[52]\tvalid_0's auc: 0.908493\n",
            "[53]\tvalid_0's auc: 0.908722\n",
            "[54]\tvalid_0's auc: 0.909002\n",
            "[55]\tvalid_0's auc: 0.909259\n",
            "[56]\tvalid_0's auc: 0.909453\n",
            "[57]\tvalid_0's auc: 0.909671\n",
            "[58]\tvalid_0's auc: 0.909811\n",
            "[59]\tvalid_0's auc: 0.910104\n",
            "[60]\tvalid_0's auc: 0.910362\n",
            "[61]\tvalid_0's auc: 0.91093\n",
            "[62]\tvalid_0's auc: 0.911416\n",
            "[63]\tvalid_0's auc: 0.911565\n",
            "[64]\tvalid_0's auc: 0.911932\n",
            "[65]\tvalid_0's auc: 0.912076\n",
            "[66]\tvalid_0's auc: 0.912503\n",
            "[67]\tvalid_0's auc: 0.912719\n",
            "[68]\tvalid_0's auc: 0.912828\n",
            "[69]\tvalid_0's auc: 0.913435\n",
            "[70]\tvalid_0's auc: 0.913369\n",
            "[71]\tvalid_0's auc: 0.913696\n",
            "[72]\tvalid_0's auc: 0.913914\n",
            "[73]\tvalid_0's auc: 0.913805\n",
            "[74]\tvalid_0's auc: 0.914148\n",
            "[75]\tvalid_0's auc: 0.914322\n",
            "[76]\tvalid_0's auc: 0.914564\n",
            "[77]\tvalid_0's auc: 0.914901\n",
            "[78]\tvalid_0's auc: 0.914921\n",
            "[79]\tvalid_0's auc: 0.914874\n",
            "[80]\tvalid_0's auc: 0.915436\n",
            "[81]\tvalid_0's auc: 0.915603\n",
            "[82]\tvalid_0's auc: 0.915864\n",
            "[83]\tvalid_0's auc: 0.916194\n",
            "[84]\tvalid_0's auc: 0.916372\n",
            "[85]\tvalid_0's auc: 0.916351\n",
            "[86]\tvalid_0's auc: 0.916711\n",
            "[87]\tvalid_0's auc: 0.916564\n",
            "[88]\tvalid_0's auc: 0.916794\n",
            "[89]\tvalid_0's auc: 0.916832\n",
            "[90]\tvalid_0's auc: 0.917234\n",
            "[91]\tvalid_0's auc: 0.917415\n",
            "[92]\tvalid_0's auc: 0.917405\n",
            "[93]\tvalid_0's auc: 0.917527\n",
            "[94]\tvalid_0's auc: 0.917667\n",
            "[95]\tvalid_0's auc: 0.917588\n",
            "[96]\tvalid_0's auc: 0.917648\n",
            "[97]\tvalid_0's auc: 0.917444\n",
            "[98]\tvalid_0's auc: 0.917678\n",
            "[99]\tvalid_0's auc: 0.917835\n",
            "[100]\tvalid_0's auc: 0.918247\n",
            "[101]\tvalid_0's auc: 0.918528\n",
            "[102]\tvalid_0's auc: 0.918736\n",
            "[103]\tvalid_0's auc: 0.918901\n",
            "[104]\tvalid_0's auc: 0.919251\n",
            "[105]\tvalid_0's auc: 0.919435\n",
            "[106]\tvalid_0's auc: 0.919547\n",
            "[107]\tvalid_0's auc: 0.919641\n",
            "[108]\tvalid_0's auc: 0.91958\n",
            "[109]\tvalid_0's auc: 0.919872\n",
            "[110]\tvalid_0's auc: 0.920124\n",
            "[111]\tvalid_0's auc: 0.920105\n",
            "[112]\tvalid_0's auc: 0.920302\n",
            "[113]\tvalid_0's auc: 0.920382\n",
            "[114]\tvalid_0's auc: 0.920491\n",
            "[115]\tvalid_0's auc: 0.920828\n",
            "[116]\tvalid_0's auc: 0.921341\n",
            "[117]\tvalid_0's auc: 0.921561\n",
            "[118]\tvalid_0's auc: 0.921677\n",
            "[119]\tvalid_0's auc: 0.921839\n",
            "[120]\tvalid_0's auc: 0.92207\n",
            "[121]\tvalid_0's auc: 0.922161\n",
            "[122]\tvalid_0's auc: 0.922519\n",
            "[123]\tvalid_0's auc: 0.922659\n",
            "[124]\tvalid_0's auc: 0.922556\n",
            "[125]\tvalid_0's auc: 0.922557\n",
            "[126]\tvalid_0's auc: 0.922677\n",
            "[127]\tvalid_0's auc: 0.922739\n",
            "[128]\tvalid_0's auc: 0.922719\n",
            "[129]\tvalid_0's auc: 0.922555\n",
            "[130]\tvalid_0's auc: 0.922445\n",
            "[131]\tvalid_0's auc: 0.922633\n",
            "[132]\tvalid_0's auc: 0.922405\n",
            "[133]\tvalid_0's auc: 0.922138\n",
            "[134]\tvalid_0's auc: 0.922171\n",
            "[135]\tvalid_0's auc: 0.922037\n",
            "[136]\tvalid_0's auc: 0.921963\n",
            "[137]\tvalid_0's auc: 0.922246\n",
            "[138]\tvalid_0's auc: 0.922102\n",
            "[139]\tvalid_0's auc: 0.921863\n",
            "[140]\tvalid_0's auc: 0.92175\n",
            "[141]\tvalid_0's auc: 0.921644\n",
            "[142]\tvalid_0's auc: 0.921721\n",
            "[143]\tvalid_0's auc: 0.921873\n",
            "[144]\tvalid_0's auc: 0.921855\n",
            "[145]\tvalid_0's auc: 0.92191\n",
            "[146]\tvalid_0's auc: 0.922051\n",
            "[147]\tvalid_0's auc: 0.922182\n",
            "[148]\tvalid_0's auc: 0.922177\n",
            "[149]\tvalid_0's auc: 0.922189\n",
            "[150]\tvalid_0's auc: 0.922101\n",
            "[151]\tvalid_0's auc: 0.922174\n",
            "[152]\tvalid_0's auc: 0.922321\n",
            "[153]\tvalid_0's auc: 0.922423\n",
            "[154]\tvalid_0's auc: 0.922591\n",
            "[155]\tvalid_0's auc: 0.9225\n",
            "[156]\tvalid_0's auc: 0.922555\n",
            "[157]\tvalid_0's auc: 0.922493\n",
            "[158]\tvalid_0's auc: 0.922351\n",
            "[159]\tvalid_0's auc: 0.922361\n",
            "[160]\tvalid_0's auc: 0.922578\n",
            "[161]\tvalid_0's auc: 0.922531\n",
            "[162]\tvalid_0's auc: 0.922676\n",
            "[163]\tvalid_0's auc: 0.922704\n",
            "[164]\tvalid_0's auc: 0.922811\n",
            "[165]\tvalid_0's auc: 0.922838\n",
            "[166]\tvalid_0's auc: 0.922742\n",
            "[167]\tvalid_0's auc: 0.922742\n",
            "[168]\tvalid_0's auc: 0.922708\n",
            "[169]\tvalid_0's auc: 0.922786\n",
            "[170]\tvalid_0's auc: 0.922811\n",
            "[171]\tvalid_0's auc: 0.922886\n",
            "[172]\tvalid_0's auc: 0.922892\n",
            "[173]\tvalid_0's auc: 0.922946\n",
            "[174]\tvalid_0's auc: 0.92306\n",
            "[175]\tvalid_0's auc: 0.92289\n",
            "[176]\tvalid_0's auc: 0.923062\n",
            "[177]\tvalid_0's auc: 0.92302\n",
            "[178]\tvalid_0's auc: 0.922806\n",
            "[179]\tvalid_0's auc: 0.922715\n",
            "[180]\tvalid_0's auc: 0.922549\n",
            "[181]\tvalid_0's auc: 0.922724\n",
            "[182]\tvalid_0's auc: 0.92312\n",
            "[183]\tvalid_0's auc: 0.923165\n",
            "[184]\tvalid_0's auc: 0.923307\n",
            "[185]\tvalid_0's auc: 0.923403\n",
            "[186]\tvalid_0's auc: 0.923398\n",
            "[187]\tvalid_0's auc: 0.923557\n",
            "[188]\tvalid_0's auc: 0.923741\n",
            "[189]\tvalid_0's auc: 0.923993\n",
            "[190]\tvalid_0's auc: 0.924174\n",
            "[191]\tvalid_0's auc: 0.924263\n",
            "[192]\tvalid_0's auc: 0.924345\n",
            "[193]\tvalid_0's auc: 0.924333\n",
            "[194]\tvalid_0's auc: 0.924161\n",
            "[195]\tvalid_0's auc: 0.924373\n",
            "[196]\tvalid_0's auc: 0.924382\n",
            "[197]\tvalid_0's auc: 0.924236\n",
            "[198]\tvalid_0's auc: 0.924327\n",
            "[199]\tvalid_0's auc: 0.924469\n",
            "[200]\tvalid_0's auc: 0.92443\n",
            "[201]\tvalid_0's auc: 0.924419\n",
            "[202]\tvalid_0's auc: 0.924467\n",
            "[203]\tvalid_0's auc: 0.924598\n",
            "[204]\tvalid_0's auc: 0.924681\n",
            "[205]\tvalid_0's auc: 0.924755\n",
            "[206]\tvalid_0's auc: 0.924706\n",
            "[207]\tvalid_0's auc: 0.924645\n",
            "[208]\tvalid_0's auc: 0.924645\n",
            "[209]\tvalid_0's auc: 0.924783\n",
            "[210]\tvalid_0's auc: 0.924837\n",
            "[211]\tvalid_0's auc: 0.924791\n",
            "[212]\tvalid_0's auc: 0.92483\n",
            "[213]\tvalid_0's auc: 0.924755\n",
            "[214]\tvalid_0's auc: 0.924853\n",
            "[215]\tvalid_0's auc: 0.924796\n",
            "[216]\tvalid_0's auc: 0.924698\n",
            "[217]\tvalid_0's auc: 0.924662\n",
            "[218]\tvalid_0's auc: 0.92452\n",
            "[219]\tvalid_0's auc: 0.924482\n",
            "[220]\tvalid_0's auc: 0.924729\n",
            "[221]\tvalid_0's auc: 0.924888\n",
            "[222]\tvalid_0's auc: 0.924775\n",
            "[223]\tvalid_0's auc: 0.924974\n",
            "[224]\tvalid_0's auc: 0.92487\n",
            "[225]\tvalid_0's auc: 0.924999\n",
            "[226]\tvalid_0's auc: 0.925105\n",
            "[227]\tvalid_0's auc: 0.925181\n",
            "[228]\tvalid_0's auc: 0.925172\n",
            "[229]\tvalid_0's auc: 0.925229\n",
            "[230]\tvalid_0's auc: 0.925284\n",
            "[231]\tvalid_0's auc: 0.925369\n",
            "[232]\tvalid_0's auc: 0.925497\n",
            "[233]\tvalid_0's auc: 0.925697\n",
            "[234]\tvalid_0's auc: 0.925704\n",
            "[235]\tvalid_0's auc: 0.925592\n",
            "[236]\tvalid_0's auc: 0.925563\n",
            "[237]\tvalid_0's auc: 0.925517\n",
            "[238]\tvalid_0's auc: 0.925571\n",
            "[239]\tvalid_0's auc: 0.925757\n",
            "[240]\tvalid_0's auc: 0.925642\n",
            "[241]\tvalid_0's auc: 0.925911\n",
            "[242]\tvalid_0's auc: 0.926076\n",
            "[243]\tvalid_0's auc: 0.926099\n",
            "[244]\tvalid_0's auc: 0.926154\n",
            "[245]\tvalid_0's auc: 0.926118\n",
            "[246]\tvalid_0's auc: 0.926229\n",
            "[247]\tvalid_0's auc: 0.926311\n",
            "[248]\tvalid_0's auc: 0.926415\n",
            "[249]\tvalid_0's auc: 0.926513\n",
            "[250]\tvalid_0's auc: 0.92664\n",
            "[251]\tvalid_0's auc: 0.926673\n",
            "[252]\tvalid_0's auc: 0.92676\n",
            "[253]\tvalid_0's auc: 0.926854\n",
            "[254]\tvalid_0's auc: 0.926909\n",
            "[255]\tvalid_0's auc: 0.92706\n",
            "[256]\tvalid_0's auc: 0.92698\n",
            "[257]\tvalid_0's auc: 0.927015\n",
            "[258]\tvalid_0's auc: 0.927086\n",
            "[259]\tvalid_0's auc: 0.927201\n",
            "[260]\tvalid_0's auc: 0.927362\n",
            "[261]\tvalid_0's auc: 0.92757\n",
            "[262]\tvalid_0's auc: 0.927608\n",
            "[263]\tvalid_0's auc: 0.927441\n",
            "[264]\tvalid_0's auc: 0.927515\n",
            "[265]\tvalid_0's auc: 0.927494\n",
            "[266]\tvalid_0's auc: 0.927388\n",
            "[267]\tvalid_0's auc: 0.927452\n",
            "[268]\tvalid_0's auc: 0.927326\n",
            "[269]\tvalid_0's auc: 0.927468\n",
            "[270]\tvalid_0's auc: 0.927632\n",
            "[271]\tvalid_0's auc: 0.927797\n",
            "[272]\tvalid_0's auc: 0.927752\n",
            "[273]\tvalid_0's auc: 0.927732\n",
            "[274]\tvalid_0's auc: 0.927611\n",
            "[275]\tvalid_0's auc: 0.927695\n",
            "[276]\tvalid_0's auc: 0.92787\n",
            "[277]\tvalid_0's auc: 0.927845\n",
            "[278]\tvalid_0's auc: 0.928005\n",
            "[279]\tvalid_0's auc: 0.92796\n",
            "[280]\tvalid_0's auc: 0.927858\n",
            "[281]\tvalid_0's auc: 0.928108\n",
            "[282]\tvalid_0's auc: 0.928271\n",
            "[283]\tvalid_0's auc: 0.928203\n",
            "[284]\tvalid_0's auc: 0.927989\n",
            "[285]\tvalid_0's auc: 0.928114\n",
            "[286]\tvalid_0's auc: 0.928152\n",
            "[287]\tvalid_0's auc: 0.927964\n",
            "[288]\tvalid_0's auc: 0.927946\n",
            "[289]\tvalid_0's auc: 0.927954\n",
            "[290]\tvalid_0's auc: 0.927902\n",
            "[291]\tvalid_0's auc: 0.927796\n",
            "[292]\tvalid_0's auc: 0.927673\n",
            "[293]\tvalid_0's auc: 0.927878\n",
            "[294]\tvalid_0's auc: 0.927733\n",
            "[295]\tvalid_0's auc: 0.927747\n",
            "[296]\tvalid_0's auc: 0.927716\n",
            "[297]\tvalid_0's auc: 0.927688\n",
            "[298]\tvalid_0's auc: 0.927703\n",
            "[299]\tvalid_0's auc: 0.927786\n",
            "[300]\tvalid_0's auc: 0.92776\n",
            "[301]\tvalid_0's auc: 0.927621\n",
            "[302]\tvalid_0's auc: 0.927821\n",
            "[303]\tvalid_0's auc: 0.927859\n",
            "[304]\tvalid_0's auc: 0.927874\n",
            "[305]\tvalid_0's auc: 0.927939\n",
            "[306]\tvalid_0's auc: 0.928049\n",
            "[307]\tvalid_0's auc: 0.928181\n",
            "[308]\tvalid_0's auc: 0.928293\n",
            "[309]\tvalid_0's auc: 0.928296\n",
            "[310]\tvalid_0's auc: 0.928258\n",
            "[311]\tvalid_0's auc: 0.928221\n",
            "[312]\tvalid_0's auc: 0.928216\n",
            "[313]\tvalid_0's auc: 0.9283\n",
            "[314]\tvalid_0's auc: 0.92834\n",
            "[315]\tvalid_0's auc: 0.928363\n",
            "[316]\tvalid_0's auc: 0.928249\n",
            "[317]\tvalid_0's auc: 0.92833\n",
            "[318]\tvalid_0's auc: 0.92822\n",
            "[319]\tvalid_0's auc: 0.928233\n",
            "[320]\tvalid_0's auc: 0.928176\n",
            "[321]\tvalid_0's auc: 0.928097\n",
            "[322]\tvalid_0's auc: 0.928054\n",
            "[323]\tvalid_0's auc: 0.928097\n",
            "[324]\tvalid_0's auc: 0.928235\n",
            "[325]\tvalid_0's auc: 0.928165\n",
            "[326]\tvalid_0's auc: 0.928144\n",
            "[327]\tvalid_0's auc: 0.928177\n",
            "[328]\tvalid_0's auc: 0.928296\n",
            "[329]\tvalid_0's auc: 0.928217\n",
            "[330]\tvalid_0's auc: 0.928034\n",
            "[331]\tvalid_0's auc: 0.928063\n",
            "[332]\tvalid_0's auc: 0.928024\n",
            "[333]\tvalid_0's auc: 0.927983\n",
            "[334]\tvalid_0's auc: 0.928036\n",
            "[335]\tvalid_0's auc: 0.928081\n",
            "[336]\tvalid_0's auc: 0.92809\n",
            "[337]\tvalid_0's auc: 0.928056\n",
            "[338]\tvalid_0's auc: 0.928133\n",
            "[339]\tvalid_0's auc: 0.928096\n",
            "[340]\tvalid_0's auc: 0.928076\n",
            "[341]\tvalid_0's auc: 0.928181\n",
            "[342]\tvalid_0's auc: 0.928185\n",
            "[343]\tvalid_0's auc: 0.928235\n",
            "[344]\tvalid_0's auc: 0.928179\n",
            "[345]\tvalid_0's auc: 0.928056\n",
            "[346]\tvalid_0's auc: 0.928241\n",
            "[347]\tvalid_0's auc: 0.92841\n",
            "[348]\tvalid_0's auc: 0.928443\n",
            "[349]\tvalid_0's auc: 0.928469\n",
            "[350]\tvalid_0's auc: 0.928563\n",
            "[351]\tvalid_0's auc: 0.92865\n",
            "[352]\tvalid_0's auc: 0.928772\n",
            "[353]\tvalid_0's auc: 0.92882\n",
            "[354]\tvalid_0's auc: 0.928943\n",
            "[355]\tvalid_0's auc: 0.928879\n",
            "[356]\tvalid_0's auc: 0.928895\n",
            "[357]\tvalid_0's auc: 0.929025\n",
            "[358]\tvalid_0's auc: 0.929132\n",
            "[359]\tvalid_0's auc: 0.929184\n",
            "[360]\tvalid_0's auc: 0.929283\n",
            "[361]\tvalid_0's auc: 0.929459\n",
            "[362]\tvalid_0's auc: 0.929495\n",
            "[363]\tvalid_0's auc: 0.929421\n",
            "[364]\tvalid_0's auc: 0.929595\n",
            "[365]\tvalid_0's auc: 0.929656\n",
            "[366]\tvalid_0's auc: 0.929644\n",
            "[367]\tvalid_0's auc: 0.929743\n",
            "[368]\tvalid_0's auc: 0.929707\n",
            "[369]\tvalid_0's auc: 0.929547\n",
            "[370]\tvalid_0's auc: 0.929661\n",
            "[371]\tvalid_0's auc: 0.929689\n",
            "[372]\tvalid_0's auc: 0.929742\n",
            "[373]\tvalid_0's auc: 0.929668\n",
            "[374]\tvalid_0's auc: 0.929891\n",
            "[375]\tvalid_0's auc: 0.929942\n",
            "[376]\tvalid_0's auc: 0.930028\n",
            "[377]\tvalid_0's auc: 0.930066\n",
            "[378]\tvalid_0's auc: 0.930123\n",
            "[379]\tvalid_0's auc: 0.930228\n",
            "[380]\tvalid_0's auc: 0.930231\n",
            "[381]\tvalid_0's auc: 0.930322\n",
            "[382]\tvalid_0's auc: 0.930323\n",
            "[383]\tvalid_0's auc: 0.930215\n",
            "[384]\tvalid_0's auc: 0.930216\n",
            "[385]\tvalid_0's auc: 0.930199\n",
            "[386]\tvalid_0's auc: 0.930137\n",
            "[387]\tvalid_0's auc: 0.930192\n",
            "[388]\tvalid_0's auc: 0.930169\n",
            "[389]\tvalid_0's auc: 0.93019\n",
            "[390]\tvalid_0's auc: 0.930289\n",
            "[391]\tvalid_0's auc: 0.930269\n",
            "[392]\tvalid_0's auc: 0.930331\n",
            "[393]\tvalid_0's auc: 0.930244\n",
            "[394]\tvalid_0's auc: 0.930182\n",
            "[395]\tvalid_0's auc: 0.93022\n",
            "[396]\tvalid_0's auc: 0.930188\n",
            "[397]\tvalid_0's auc: 0.930166\n",
            "[398]\tvalid_0's auc: 0.930182\n",
            "[399]\tvalid_0's auc: 0.930196\n",
            "[400]\tvalid_0's auc: 0.930185\n",
            "[401]\tvalid_0's auc: 0.930139\n",
            "[402]\tvalid_0's auc: 0.930165\n",
            "[403]\tvalid_0's auc: 0.930143\n",
            "[404]\tvalid_0's auc: 0.930002\n",
            "[405]\tvalid_0's auc: 0.930107\n",
            "[406]\tvalid_0's auc: 0.930037\n",
            "[407]\tvalid_0's auc: 0.930101\n",
            "[408]\tvalid_0's auc: 0.930038\n",
            "[409]\tvalid_0's auc: 0.929986\n",
            "[410]\tvalid_0's auc: 0.929953\n",
            "[411]\tvalid_0's auc: 0.930042\n",
            "[412]\tvalid_0's auc: 0.93017\n",
            "[413]\tvalid_0's auc: 0.930264\n",
            "[414]\tvalid_0's auc: 0.930329\n",
            "[415]\tvalid_0's auc: 0.93043\n",
            "[416]\tvalid_0's auc: 0.93041\n",
            "[417]\tvalid_0's auc: 0.930414\n",
            "[418]\tvalid_0's auc: 0.930487\n",
            "[419]\tvalid_0's auc: 0.930429\n",
            "[420]\tvalid_0's auc: 0.930472\n",
            "[421]\tvalid_0's auc: 0.930464\n",
            "[422]\tvalid_0's auc: 0.930403\n",
            "[423]\tvalid_0's auc: 0.930379\n",
            "[424]\tvalid_0's auc: 0.93056\n",
            "[425]\tvalid_0's auc: 0.930526\n",
            "[426]\tvalid_0's auc: 0.930544\n",
            "[427]\tvalid_0's auc: 0.93063\n",
            "[428]\tvalid_0's auc: 0.930524\n",
            "[429]\tvalid_0's auc: 0.930502\n",
            "[430]\tvalid_0's auc: 0.930702\n",
            "[431]\tvalid_0's auc: 0.930795\n",
            "[432]\tvalid_0's auc: 0.930743\n",
            "[433]\tvalid_0's auc: 0.930794\n",
            "[434]\tvalid_0's auc: 0.930828\n",
            "[435]\tvalid_0's auc: 0.930903\n",
            "[436]\tvalid_0's auc: 0.930912\n",
            "[437]\tvalid_0's auc: 0.930819\n",
            "[438]\tvalid_0's auc: 0.930845\n",
            "[439]\tvalid_0's auc: 0.930931\n",
            "[440]\tvalid_0's auc: 0.93093\n",
            "[441]\tvalid_0's auc: 0.931053\n",
            "[442]\tvalid_0's auc: 0.931008\n",
            "[443]\tvalid_0's auc: 0.930979\n",
            "[444]\tvalid_0's auc: 0.930926\n",
            "[445]\tvalid_0's auc: 0.930949\n",
            "[446]\tvalid_0's auc: 0.93081\n",
            "[447]\tvalid_0's auc: 0.930802\n",
            "[448]\tvalid_0's auc: 0.930855\n",
            "[449]\tvalid_0's auc: 0.930832\n",
            "[450]\tvalid_0's auc: 0.930907\n",
            "[451]\tvalid_0's auc: 0.930887\n",
            "[452]\tvalid_0's auc: 0.930955\n",
            "[453]\tvalid_0's auc: 0.931012\n",
            "[454]\tvalid_0's auc: 0.931074\n",
            "[455]\tvalid_0's auc: 0.93111\n",
            "[456]\tvalid_0's auc: 0.931235\n",
            "[457]\tvalid_0's auc: 0.931136\n",
            "[458]\tvalid_0's auc: 0.931204\n",
            "[459]\tvalid_0's auc: 0.931156\n",
            "[460]\tvalid_0's auc: 0.93112\n",
            "[461]\tvalid_0's auc: 0.931177\n",
            "[462]\tvalid_0's auc: 0.931199\n",
            "[463]\tvalid_0's auc: 0.931211\n",
            "[464]\tvalid_0's auc: 0.931207\n",
            "[465]\tvalid_0's auc: 0.931198\n",
            "[466]\tvalid_0's auc: 0.931262\n",
            "[467]\tvalid_0's auc: 0.931304\n",
            "[468]\tvalid_0's auc: 0.931292\n",
            "[469]\tvalid_0's auc: 0.931433\n",
            "[470]\tvalid_0's auc: 0.931407\n",
            "[471]\tvalid_0's auc: 0.931408\n",
            "[472]\tvalid_0's auc: 0.931479\n",
            "[473]\tvalid_0's auc: 0.931424\n",
            "[474]\tvalid_0's auc: 0.931482\n",
            "[475]\tvalid_0's auc: 0.931559\n",
            "[476]\tvalid_0's auc: 0.931553\n",
            "[477]\tvalid_0's auc: 0.931531\n",
            "[478]\tvalid_0's auc: 0.931516\n",
            "[479]\tvalid_0's auc: 0.931612\n",
            "[480]\tvalid_0's auc: 0.931697\n",
            "[481]\tvalid_0's auc: 0.931745\n",
            "[482]\tvalid_0's auc: 0.931686\n",
            "[483]\tvalid_0's auc: 0.931694\n",
            "[484]\tvalid_0's auc: 0.931801\n",
            "[485]\tvalid_0's auc: 0.931891\n",
            "[486]\tvalid_0's auc: 0.931872\n",
            "[487]\tvalid_0's auc: 0.931844\n",
            "[488]\tvalid_0's auc: 0.931837\n",
            "[489]\tvalid_0's auc: 0.931887\n",
            "[490]\tvalid_0's auc: 0.931841\n",
            "[491]\tvalid_0's auc: 0.931846\n",
            "[492]\tvalid_0's auc: 0.931952\n",
            "[493]\tvalid_0's auc: 0.931885\n",
            "[494]\tvalid_0's auc: 0.931934\n",
            "[495]\tvalid_0's auc: 0.931963\n",
            "[496]\tvalid_0's auc: 0.93205\n",
            "[497]\tvalid_0's auc: 0.932124\n",
            "[498]\tvalid_0's auc: 0.932108\n",
            "[499]\tvalid_0's auc: 0.931959\n",
            "[500]\tvalid_0's auc: 0.93188\n",
            "[501]\tvalid_0's auc: 0.931834\n",
            "[502]\tvalid_0's auc: 0.931869\n",
            "[503]\tvalid_0's auc: 0.931814\n",
            "[504]\tvalid_0's auc: 0.931814\n",
            "[505]\tvalid_0's auc: 0.931761\n",
            "[506]\tvalid_0's auc: 0.931781\n",
            "[507]\tvalid_0's auc: 0.93186\n",
            "[508]\tvalid_0's auc: 0.931826\n",
            "[509]\tvalid_0's auc: 0.931706\n",
            "[510]\tvalid_0's auc: 0.931686\n",
            "[511]\tvalid_0's auc: 0.931721\n",
            "[512]\tvalid_0's auc: 0.931629\n",
            "[513]\tvalid_0's auc: 0.931628\n",
            "[514]\tvalid_0's auc: 0.931617\n",
            "[515]\tvalid_0's auc: 0.931527\n",
            "[516]\tvalid_0's auc: 0.931512\n",
            "[517]\tvalid_0's auc: 0.93148\n",
            "[518]\tvalid_0's auc: 0.931473\n",
            "[519]\tvalid_0's auc: 0.931578\n",
            "[520]\tvalid_0's auc: 0.931606\n",
            "[521]\tvalid_0's auc: 0.931647\n",
            "[522]\tvalid_0's auc: 0.931621\n",
            "[523]\tvalid_0's auc: 0.931679\n",
            "[524]\tvalid_0's auc: 0.931663\n",
            "[525]\tvalid_0's auc: 0.931688\n",
            "[526]\tvalid_0's auc: 0.931638\n",
            "[527]\tvalid_0's auc: 0.931672\n",
            "[528]\tvalid_0's auc: 0.931731\n",
            "[529]\tvalid_0's auc: 0.931746\n",
            "[530]\tvalid_0's auc: 0.931748\n",
            "[531]\tvalid_0's auc: 0.931863\n",
            "[532]\tvalid_0's auc: 0.931841\n",
            "[533]\tvalid_0's auc: 0.931885\n",
            "[534]\tvalid_0's auc: 0.931948\n",
            "[535]\tvalid_0's auc: 0.931982\n",
            "[536]\tvalid_0's auc: 0.931906\n",
            "[537]\tvalid_0's auc: 0.931951\n",
            "[538]\tvalid_0's auc: 0.931969\n",
            "[539]\tvalid_0's auc: 0.931886\n",
            "[540]\tvalid_0's auc: 0.931861\n",
            "[541]\tvalid_0's auc: 0.931793\n",
            "[542]\tvalid_0's auc: 0.931845\n",
            "[543]\tvalid_0's auc: 0.931758\n",
            "[544]\tvalid_0's auc: 0.931739\n",
            "[545]\tvalid_0's auc: 0.931713\n",
            "[546]\tvalid_0's auc: 0.931682\n",
            "[547]\tvalid_0's auc: 0.931754\n",
            "[548]\tvalid_0's auc: 0.931771\n",
            "[549]\tvalid_0's auc: 0.931787\n",
            "[550]\tvalid_0's auc: 0.931716\n",
            "[551]\tvalid_0's auc: 0.931651\n",
            "[552]\tvalid_0's auc: 0.931596\n",
            "[553]\tvalid_0's auc: 0.931624\n",
            "[554]\tvalid_0's auc: 0.931671\n",
            "[555]\tvalid_0's auc: 0.931591\n",
            "[556]\tvalid_0's auc: 0.931692\n",
            "[557]\tvalid_0's auc: 0.931615\n",
            "[558]\tvalid_0's auc: 0.931577\n",
            "[559]\tvalid_0's auc: 0.931528\n",
            "[560]\tvalid_0's auc: 0.931592\n",
            "[561]\tvalid_0's auc: 0.931531\n",
            "[562]\tvalid_0's auc: 0.931533\n",
            "[563]\tvalid_0's auc: 0.931463\n",
            "[564]\tvalid_0's auc: 0.93145\n",
            "[565]\tvalid_0's auc: 0.931459\n",
            "[566]\tvalid_0's auc: 0.931447\n",
            "[567]\tvalid_0's auc: 0.931405\n",
            "[568]\tvalid_0's auc: 0.931383\n",
            "[569]\tvalid_0's auc: 0.931305\n",
            "[570]\tvalid_0's auc: 0.93126\n",
            "[571]\tvalid_0's auc: 0.931257\n",
            "[572]\tvalid_0's auc: 0.931239\n",
            "[573]\tvalid_0's auc: 0.931324\n",
            "[574]\tvalid_0's auc: 0.931296\n",
            "[575]\tvalid_0's auc: 0.931206\n",
            "[576]\tvalid_0's auc: 0.931181\n",
            "[577]\tvalid_0's auc: 0.931129\n",
            "[578]\tvalid_0's auc: 0.931091\n",
            "[579]\tvalid_0's auc: 0.931063\n",
            "[580]\tvalid_0's auc: 0.93108\n",
            "[581]\tvalid_0's auc: 0.931117\n",
            "[582]\tvalid_0's auc: 0.93108\n",
            "[583]\tvalid_0's auc: 0.931\n",
            "[584]\tvalid_0's auc: 0.930984\n",
            "[585]\tvalid_0's auc: 0.93103\n",
            "[586]\tvalid_0's auc: 0.931022\n",
            "[587]\tvalid_0's auc: 0.931041\n",
            "[588]\tvalid_0's auc: 0.931151\n",
            "[589]\tvalid_0's auc: 0.931157\n",
            "[590]\tvalid_0's auc: 0.931149\n",
            "[591]\tvalid_0's auc: 0.931121\n",
            "[592]\tvalid_0's auc: 0.931118\n",
            "[593]\tvalid_0's auc: 0.931012\n",
            "[594]\tvalid_0's auc: 0.930878\n",
            "[595]\tvalid_0's auc: 0.930817\n",
            "[596]\tvalid_0's auc: 0.930775\n",
            "[597]\tvalid_0's auc: 0.930801\n",
            "Early stopping, best iteration is:\n",
            "[497]\tvalid_0's auc: 0.932124\n"
          ],
          "name": "stdout"
        },
        {
          "output_type": "error",
          "ename": "ValueError",
          "evalue": "ignored",
          "traceback": [
            "\u001b[0;31m---------------------------------------------------------------------------\u001b[0m",
            "\u001b[0;31mValueError\u001b[0m                                Traceback (most recent call last)",
            "\u001b[0;32m<ipython-input-50-2e60bb2b8016>\u001b[0m in \u001b[0;36m<module>\u001b[0;34m()\u001b[0m\n\u001b[1;32m      1\u001b[0m \u001b[0mlistaDeCategoricas\u001b[0m \u001b[0;34m=\u001b[0m \u001b[0;34m[\u001b[0m\u001b[0;34m'Region'\u001b[0m\u001b[0;34m,\u001b[0m\u001b[0;34m'Territory'\u001b[0m\u001b[0;34m,\u001b[0m\u001b[0;34m'Product_Type'\u001b[0m\u001b[0;34m,\u001b[0m\u001b[0;34m'Product_Category_B'\u001b[0m\u001b[0;34m,\u001b[0m\u001b[0;34m'Account_Type'\u001b[0m\u001b[0;34m,\u001b[0m\u001b[0;34m'Delivery_Quarter'\u001b[0m\u001b[0;34m,\u001b[0m\u001b[0;34m'Billing_Country'\u001b[0m\u001b[0;34m]\u001b[0m\u001b[0;34m\u001b[0m\u001b[0;34m\u001b[0m\u001b[0m\n\u001b[0;32m----> 2\u001b[0;31m \u001b[0mres\u001b[0m \u001b[0;34m=\u001b[0m \u001b[0mlightGBM\u001b[0m\u001b[0;34m(\u001b[0m\u001b[0magrupacionEntrenamiento\u001b[0m\u001b[0;34m,\u001b[0m\u001b[0mentrenamientoResultado\u001b[0m\u001b[0;34m,\u001b[0m\u001b[0mlistaDeCategoricas\u001b[0m\u001b[0;34m,\u001b[0m\u001b[0magrupacionTesteo\u001b[0m\u001b[0;34m)\u001b[0m\u001b[0;34m\u001b[0m\u001b[0;34m\u001b[0m\u001b[0m\n\u001b[0m\u001b[1;32m      3\u001b[0m \u001b[0mres\u001b[0m\u001b[0;34m\u001b[0m\u001b[0;34m\u001b[0m\u001b[0m\n",
            "\u001b[0;32m<ipython-input-49-5928b1e8ba15>\u001b[0m in \u001b[0;36mlightGBM\u001b[0;34m(train_data, train_labels, cat_features, eval_data)\u001b[0m\n\u001b[1;32m     63\u001b[0m \u001b[0;34m\u001b[0m\u001b[0m\n\u001b[1;32m     64\u001b[0m   \u001b[0mx\u001b[0m \u001b[0;34m=\u001b[0m \u001b[0msubmission\u001b[0m\u001b[0;34m.\u001b[0m\u001b[0mvalues\u001b[0m\u001b[0;34m\u001b[0m\u001b[0;34m\u001b[0m\u001b[0m\n\u001b[0;32m---> 65\u001b[0;31m   \u001b[0my\u001b[0m \u001b[0;34m=\u001b[0m \u001b[0mmodel\u001b[0m\u001b[0;34m.\u001b[0m\u001b[0mpredict\u001b[0m\u001b[0;34m(\u001b[0m\u001b[0mx\u001b[0m\u001b[0;34m)\u001b[0m\u001b[0;34m\u001b[0m\u001b[0;34m\u001b[0m\u001b[0m\n\u001b[0m\u001b[1;32m     66\u001b[0m \u001b[0;34m\u001b[0m\u001b[0m\n\u001b[1;32m     67\u001b[0m   \u001b[0moutput\u001b[0m \u001b[0;34m=\u001b[0m \u001b[0mpd\u001b[0m\u001b[0;34m.\u001b[0m\u001b[0mDataFrame\u001b[0m\u001b[0;34m(\u001b[0m\u001b[0;34m{\u001b[0m\u001b[0;34m'id'\u001b[0m\u001b[0;34m:\u001b[0m \u001b[0mids\u001b[0m\u001b[0;34m,\u001b[0m \u001b[0;34m'target'\u001b[0m\u001b[0;34m:\u001b[0m \u001b[0my\u001b[0m\u001b[0;34m}\u001b[0m\u001b[0;34m)\u001b[0m\u001b[0;34m\u001b[0m\u001b[0;34m\u001b[0m\u001b[0m\n",
            "\u001b[0;32m/usr/local/lib/python3.6/dist-packages/lightgbm/basic.py\u001b[0m in \u001b[0;36mpredict\u001b[0;34m(self, data, num_iteration, raw_score, pred_leaf, pred_contrib, data_has_header, is_reshape, **kwargs)\u001b[0m\n\u001b[1;32m   2201\u001b[0m         return predictor.predict(data, num_iteration,\n\u001b[1;32m   2202\u001b[0m                                  \u001b[0mraw_score\u001b[0m\u001b[0;34m,\u001b[0m \u001b[0mpred_leaf\u001b[0m\u001b[0;34m,\u001b[0m \u001b[0mpred_contrib\u001b[0m\u001b[0;34m,\u001b[0m\u001b[0;34m\u001b[0m\u001b[0;34m\u001b[0m\u001b[0m\n\u001b[0;32m-> 2203\u001b[0;31m                                  data_has_header, is_reshape)\n\u001b[0m\u001b[1;32m   2204\u001b[0m \u001b[0;34m\u001b[0m\u001b[0m\n\u001b[1;32m   2205\u001b[0m     \u001b[0;32mdef\u001b[0m \u001b[0mrefit\u001b[0m\u001b[0;34m(\u001b[0m\u001b[0mself\u001b[0m\u001b[0;34m,\u001b[0m \u001b[0mdata\u001b[0m\u001b[0;34m,\u001b[0m \u001b[0mlabel\u001b[0m\u001b[0;34m,\u001b[0m \u001b[0mdecay_rate\u001b[0m\u001b[0;34m=\u001b[0m\u001b[0;36m0.9\u001b[0m\u001b[0;34m,\u001b[0m \u001b[0;34m**\u001b[0m\u001b[0mkwargs\u001b[0m\u001b[0;34m)\u001b[0m\u001b[0;34m:\u001b[0m\u001b[0;34m\u001b[0m\u001b[0;34m\u001b[0m\u001b[0m\n",
            "\u001b[0;32m/usr/local/lib/python3.6/dist-packages/lightgbm/basic.py\u001b[0m in \u001b[0;36mpredict\u001b[0;34m(self, data, num_iteration, raw_score, pred_leaf, pred_contrib, data_has_header, is_reshape)\u001b[0m\n\u001b[1;32m    465\u001b[0m             \u001b[0mpreds\u001b[0m\u001b[0;34m,\u001b[0m \u001b[0mnrow\u001b[0m \u001b[0;34m=\u001b[0m \u001b[0mself\u001b[0m\u001b[0;34m.\u001b[0m\u001b[0m__pred_for_csc\u001b[0m\u001b[0;34m(\u001b[0m\u001b[0mdata\u001b[0m\u001b[0;34m,\u001b[0m \u001b[0mnum_iteration\u001b[0m\u001b[0;34m,\u001b[0m \u001b[0mpredict_type\u001b[0m\u001b[0;34m)\u001b[0m\u001b[0;34m\u001b[0m\u001b[0;34m\u001b[0m\u001b[0m\n\u001b[1;32m    466\u001b[0m         \u001b[0;32melif\u001b[0m \u001b[0misinstance\u001b[0m\u001b[0;34m(\u001b[0m\u001b[0mdata\u001b[0m\u001b[0;34m,\u001b[0m \u001b[0mnp\u001b[0m\u001b[0;34m.\u001b[0m\u001b[0mndarray\u001b[0m\u001b[0;34m)\u001b[0m\u001b[0;34m:\u001b[0m\u001b[0;34m\u001b[0m\u001b[0;34m\u001b[0m\u001b[0m\n\u001b[0;32m--> 467\u001b[0;31m             \u001b[0mpreds\u001b[0m\u001b[0;34m,\u001b[0m \u001b[0mnrow\u001b[0m \u001b[0;34m=\u001b[0m \u001b[0mself\u001b[0m\u001b[0;34m.\u001b[0m\u001b[0m__pred_for_np2d\u001b[0m\u001b[0;34m(\u001b[0m\u001b[0mdata\u001b[0m\u001b[0;34m,\u001b[0m \u001b[0mnum_iteration\u001b[0m\u001b[0;34m,\u001b[0m \u001b[0mpredict_type\u001b[0m\u001b[0;34m)\u001b[0m\u001b[0;34m\u001b[0m\u001b[0;34m\u001b[0m\u001b[0m\n\u001b[0m\u001b[1;32m    468\u001b[0m         \u001b[0;32melif\u001b[0m \u001b[0misinstance\u001b[0m\u001b[0;34m(\u001b[0m\u001b[0mdata\u001b[0m\u001b[0;34m,\u001b[0m \u001b[0mlist\u001b[0m\u001b[0;34m)\u001b[0m\u001b[0;34m:\u001b[0m\u001b[0;34m\u001b[0m\u001b[0;34m\u001b[0m\u001b[0m\n\u001b[1;32m    469\u001b[0m             \u001b[0;32mtry\u001b[0m\u001b[0;34m:\u001b[0m\u001b[0;34m\u001b[0m\u001b[0;34m\u001b[0m\u001b[0m\n",
            "\u001b[0;32m/usr/local/lib/python3.6/dist-packages/lightgbm/basic.py\u001b[0m in \u001b[0;36m__pred_for_np2d\u001b[0;34m(self, mat, num_iteration, predict_type)\u001b[0m\n\u001b[1;32m    554\u001b[0m             \u001b[0;32mreturn\u001b[0m \u001b[0mpreds\u001b[0m\u001b[0;34m,\u001b[0m \u001b[0mnrow\u001b[0m\u001b[0;34m\u001b[0m\u001b[0;34m\u001b[0m\u001b[0m\n\u001b[1;32m    555\u001b[0m         \u001b[0;32melse\u001b[0m\u001b[0;34m:\u001b[0m\u001b[0;34m\u001b[0m\u001b[0;34m\u001b[0m\u001b[0m\n\u001b[0;32m--> 556\u001b[0;31m             \u001b[0;32mreturn\u001b[0m \u001b[0minner_predict\u001b[0m\u001b[0;34m(\u001b[0m\u001b[0mmat\u001b[0m\u001b[0;34m,\u001b[0m \u001b[0mnum_iteration\u001b[0m\u001b[0;34m,\u001b[0m \u001b[0mpredict_type\u001b[0m\u001b[0;34m)\u001b[0m\u001b[0;34m\u001b[0m\u001b[0;34m\u001b[0m\u001b[0m\n\u001b[0m\u001b[1;32m    557\u001b[0m \u001b[0;34m\u001b[0m\u001b[0m\n\u001b[1;32m    558\u001b[0m     \u001b[0;32mdef\u001b[0m \u001b[0m__pred_for_csr\u001b[0m\u001b[0;34m(\u001b[0m\u001b[0mself\u001b[0m\u001b[0;34m,\u001b[0m \u001b[0mcsr\u001b[0m\u001b[0;34m,\u001b[0m \u001b[0mnum_iteration\u001b[0m\u001b[0;34m,\u001b[0m \u001b[0mpredict_type\u001b[0m\u001b[0;34m)\u001b[0m\u001b[0;34m:\u001b[0m\u001b[0;34m\u001b[0m\u001b[0;34m\u001b[0m\u001b[0m\n",
            "\u001b[0;32m/usr/local/lib/python3.6/dist-packages/lightgbm/basic.py\u001b[0m in \u001b[0;36minner_predict\u001b[0;34m(mat, num_iteration, predict_type, preds)\u001b[0m\n\u001b[1;32m    517\u001b[0m             \u001b[0;32melse\u001b[0m\u001b[0;34m:\u001b[0m\u001b[0;34m\u001b[0m\u001b[0;34m\u001b[0m\u001b[0m\n\u001b[1;32m    518\u001b[0m                 \u001b[0;34m\"\"\"change non-float data to float data, need to copy\"\"\"\u001b[0m\u001b[0;34m\u001b[0m\u001b[0;34m\u001b[0m\u001b[0m\n\u001b[0;32m--> 519\u001b[0;31m                 \u001b[0mdata\u001b[0m \u001b[0;34m=\u001b[0m \u001b[0mnp\u001b[0m\u001b[0;34m.\u001b[0m\u001b[0marray\u001b[0m\u001b[0;34m(\u001b[0m\u001b[0mmat\u001b[0m\u001b[0;34m.\u001b[0m\u001b[0mreshape\u001b[0m\u001b[0;34m(\u001b[0m\u001b[0mmat\u001b[0m\u001b[0;34m.\u001b[0m\u001b[0msize\u001b[0m\u001b[0;34m)\u001b[0m\u001b[0;34m,\u001b[0m \u001b[0mdtype\u001b[0m\u001b[0;34m=\u001b[0m\u001b[0mnp\u001b[0m\u001b[0;34m.\u001b[0m\u001b[0mfloat32\u001b[0m\u001b[0;34m)\u001b[0m\u001b[0;34m\u001b[0m\u001b[0;34m\u001b[0m\u001b[0m\n\u001b[0m\u001b[1;32m    520\u001b[0m             \u001b[0mptr_data\u001b[0m\u001b[0;34m,\u001b[0m \u001b[0mtype_ptr_data\u001b[0m\u001b[0;34m,\u001b[0m \u001b[0m_\u001b[0m \u001b[0;34m=\u001b[0m \u001b[0mc_float_array\u001b[0m\u001b[0;34m(\u001b[0m\u001b[0mdata\u001b[0m\u001b[0;34m)\u001b[0m\u001b[0;34m\u001b[0m\u001b[0;34m\u001b[0m\u001b[0m\n\u001b[1;32m    521\u001b[0m             \u001b[0mn_preds\u001b[0m \u001b[0;34m=\u001b[0m \u001b[0mself\u001b[0m\u001b[0;34m.\u001b[0m\u001b[0m__get_num_preds\u001b[0m\u001b[0;34m(\u001b[0m\u001b[0mnum_iteration\u001b[0m\u001b[0;34m,\u001b[0m \u001b[0mmat\u001b[0m\u001b[0;34m.\u001b[0m\u001b[0mshape\u001b[0m\u001b[0;34m[\u001b[0m\u001b[0;36m0\u001b[0m\u001b[0;34m]\u001b[0m\u001b[0;34m,\u001b[0m \u001b[0mpredict_type\u001b[0m\u001b[0;34m)\u001b[0m\u001b[0;34m\u001b[0m\u001b[0;34m\u001b[0m\u001b[0m\n",
            "\u001b[0;31mValueError\u001b[0m: could not convert string to float: 'EMEA'"
          ]
        }
      ]
    },
    {
      "cell_type": "code",
      "metadata": {
        "colab": {
          "base_uri": "https://localhost:8080/"
        },
        "id": "jbSKn0N3339Z",
        "outputId": "e6d7bff5-9331-4f9f-f4d9-e7b37838ba7d"
      },
      "source": [
        "resultado = pd.Series(res)\r\n",
        "\r\n",
        "#ids = eval_data['Opportunity_ID'].values\r\n",
        "#resultado = pd.DataFrame({'Opportunity_ID': ids, 'target': resultado})\r\n",
        "#resultado = (resultado - 1) * (-1)#En las ultimas pruevas es el opuesto el que genera mejor resultado\r\n",
        "resultado"
      ],
      "execution_count": null,
      "outputs": [
        {
          "output_type": "execute_result",
          "data": {
            "text/plain": [
              "0                      0.95\n",
              "1                      0.21\n",
              "2                      0.92\n",
              "3                      0.80\n",
              "4                      0.02\n",
              "               ...         \n",
              "7827                   0.02\n",
              "7828                   0.90\n",
              "7829                   1.00\n",
              "7830                   0.06\n",
              "7831                   0.00\n",
              "Length: 7832, dtype: float64"
            ]
          },
          "metadata": {
            "tags": []
          },
          "execution_count": 63
        }
      ]
    },
    {
      "cell_type": "code",
      "metadata": {
        "colab": {
          "base_uri": "https://localhost:8080/",
          "height": 238
        },
        "id": "oHGMiETH37st",
        "outputId": "286c2b34-01f4-4741-8427-1b80bc99ba23"
      },
      "source": [
        "dataResultante = generarResultado(agrupacionTesteo,resultado)\r\n",
        "dataResultante.head()"
      ],
      "execution_count": null,
      "outputs": [
        {
          "output_type": "execute_result",
          "data": {
            "text/html": [
              "<div>\n",
              "<style scoped>\n",
              "    .dataframe tbody tr th:only-of-type {\n",
              "        vertical-align: middle;\n",
              "    }\n",
              "\n",
              "    .dataframe tbody tr th {\n",
              "        vertical-align: top;\n",
              "    }\n",
              "\n",
              "    .dataframe thead th {\n",
              "        text-align: right;\n",
              "    }\n",
              "</style>\n",
              "<table border=\"1\" class=\"dataframe\">\n",
              "  <thead>\n",
              "    <tr style=\"text-align: right;\">\n",
              "      <th></th>\n",
              "      <th>Target</th>\n",
              "    </tr>\n",
              "    <tr>\n",
              "      <th>Opportunity_ID</th>\n",
              "      <th></th>\n",
              "    </tr>\n",
              "  </thead>\n",
              "  <tbody>\n",
              "    <tr>\n",
              "      <th>10689</th>\n",
              "      <td>nan</td>\n",
              "    </tr>\n",
              "    <tr>\n",
              "      <th>10690</th>\n",
              "      <td>nan</td>\n",
              "    </tr>\n",
              "    <tr>\n",
              "      <th>10691</th>\n",
              "      <td>nan</td>\n",
              "    </tr>\n",
              "    <tr>\n",
              "      <th>10692</th>\n",
              "      <td>nan</td>\n",
              "    </tr>\n",
              "    <tr>\n",
              "      <th>10693</th>\n",
              "      <td>nan</td>\n",
              "    </tr>\n",
              "  </tbody>\n",
              "</table>\n",
              "</div>"
            ],
            "text/plain": [
              "                             Target\n",
              "Opportunity_ID                     \n",
              "10689                           nan\n",
              "10690                           nan\n",
              "10691                           nan\n",
              "10692                           nan\n",
              "10693                           nan"
            ]
          },
          "metadata": {
            "tags": []
          },
          "execution_count": 62
        }
      ]
    },
    {
      "cell_type": "markdown",
      "metadata": {
        "id": "MgACrmv2aNIz"
      },
      "source": [
        "## Ramdom forest"
      ]
    },
    {
      "cell_type": "markdown",
      "metadata": {
        "id": "fUJPG4lVu_9K"
      },
      "source": [
        "### bayesiano"
      ]
    },
    {
      "cell_type": "code",
      "metadata": {
        "id": "6OrprTgvvB96"
      },
      "source": [
        "#Bayesian optimization\r\n",
        "def bayesian_optimization(dataset, function, parameters):\r\n",
        "   X_train, y_train, X_test, y_test = dataset\r\n",
        "   n_iterations = 10\r\n",
        "   gp_params = {\"alpha\": 1e-4}\r\n",
        "\r\n",
        "   BO = BayesianOptimization(function, parameters)\r\n",
        "   BO.maximize(n_iter=n_iterations, **gp_params)\r\n",
        "\r\n",
        "   return BO.max\r\n",
        "\r\n",
        "def rfc_optimization(cv_splits):\r\n",
        "    def function(n_estimators, oob_score, min_samples_split):\r\n",
        "        desacerse = ['Planned_Delivery_End_Date_anio','Planned_Delivery_End_Date_mes','Planned_Delivery_End_Date_dia','Last_Modified_Date_dia']\r\n",
        "        X_train = agrupacionEntrenamientoXGB.drop(desacerse,axis=1)\r\n",
        "        y_train = entrenamientoResultado\r\n",
        "        return cross_val_score(\r\n",
        "               RandomForestClassifier(\r\n",
        "                   n_estimators=int(max(n_estimators,0)),\r\n",
        "                   #max_depth=int(max(max_depth,1)),\r\n",
        "                   min_samples_split=int(max(min_samples_split,2)),\r\n",
        "                   n_jobs=-1,\r\n",
        "                   #random_state=42,\r\n",
        "                   oob_score=(max(oob_score,1)),\r\n",
        "                   bootstrap=True,\r\n",
        "                   #class_weight=\"balanced\"\r\n",
        "                   max_features='sqrt'\r\n",
        "                  ),\r\n",
        "               X=X_train, \r\n",
        "               y=y_train, \r\n",
        "               cv=cv_splits,\r\n",
        "               scoring=\"roc_auc\",\r\n",
        "               n_jobs=-1).mean()\r\n",
        "\r\n",
        "    parameters = {\"n_estimators\": (200, 1000),\r\n",
        "                  \"oob_score\": (5, 30),\r\n",
        "                  \"min_samples_split\": (2, 10)}\r\n",
        "    \r\n",
        "    return function, parameters\r\n",
        "\r\n",
        "#Train model\r\n",
        "def ramdomForestBayesiano(X_train, y_train, X_test, y_test):\r\n",
        "    dataset = (X_train, y_train, X_test, y_test)\r\n",
        "    cv_splits = 4\r\n",
        "\r\n",
        "    function, parameters = rfc_optimization(cv_splits)\r\n",
        "    \r\n",
        "    best_solution = bayesian_optimization(dataset, function, parameters)      \r\n",
        "    params = best_solution[\"params\"]\r\n",
        "\r\n",
        "    model = RandomForestClassifier(\r\n",
        "             n_estimators=int(max(params[\"n_estimators\"], 0)),\r\n",
        "             #max_depth=int(max(params[\"max_depth\"], 1)),\r\n",
        "             oob_score=(max('oob_score',1)),\r\n",
        "             min_samples_split=int(max(params[\"min_samples_split\"], 2)), \r\n",
        "             n_jobs=-1, \r\n",
        "             random_state=42,   \r\n",
        "             class_weight=\"balanced\")\r\n",
        "\r\n",
        "    model.fit(X_train, y_train)\r\n",
        "    predictions = model.predict_proba(X_test)\r\n",
        "    return predictions"
      ],
      "execution_count": null,
      "outputs": []
    },
    {
      "cell_type": "code",
      "metadata": {
        "colab": {
          "base_uri": "https://localhost:8080/",
          "height": 686
        },
        "id": "ECcWjKEuy13F",
        "outputId": "a3e46afb-2cb3-46f9-961c-685467092e71"
      },
      "source": [
        "#Uso los mismos valores de XGB para las variables categoricas ya que no las soporta\r\n",
        "desacerse = ['Planned_Delivery_End_Date_anio','Planned_Delivery_End_Date_mes','Planned_Delivery_End_Date_dia','Last_Modified_Date_dia']\r\n",
        "res = ramdomForestBayesiano(agrupacionEntrenamientoXGB.drop(desacerse,axis=1),\r\n",
        "                            entrenamientoResultado,\r\n",
        "                            agrupacionTesteoXGB.drop(desacerse,axis=1),\r\n",
        "                            supuestos[['TargetBinario']])\r\n",
        "res"
      ],
      "execution_count": null,
      "outputs": [
        {
          "output_type": "stream",
          "text": [
            "|   iter    |  target   | min_sa... | n_esti... | oob_score |\n",
            "-------------------------------------------------------------\n",
            "| \u001b[0m 1       \u001b[0m | \u001b[0m 0.8754  \u001b[0m | \u001b[0m 5.516   \u001b[0m | \u001b[0m 919.3   \u001b[0m | \u001b[0m 16.95   \u001b[0m |\n",
            "| \u001b[0m 2       \u001b[0m | \u001b[0m 0.8742  \u001b[0m | \u001b[0m 5.209   \u001b[0m | \u001b[0m 219.3   \u001b[0m | \u001b[0m 13.67   \u001b[0m |\n",
            "| \u001b[0m 3       \u001b[0m | \u001b[0m 0.8752  \u001b[0m | \u001b[0m 4.422   \u001b[0m | \u001b[0m 555.0   \u001b[0m | \u001b[0m 16.9    \u001b[0m |\n",
            "| \u001b[0m 4       \u001b[0m | \u001b[0m 0.8752  \u001b[0m | \u001b[0m 8.854   \u001b[0m | \u001b[0m 393.1   \u001b[0m | \u001b[0m 24.81   \u001b[0m |\n",
            "| \u001b[95m 5       \u001b[0m | \u001b[95m 0.8755  \u001b[0m | \u001b[95m 6.257   \u001b[0m | \u001b[95m 571.6   \u001b[0m | \u001b[95m 14.75   \u001b[0m |\n",
            "| \u001b[0m 6       \u001b[0m | \u001b[0m 0.8748  \u001b[0m | \u001b[0m 8.591   \u001b[0m | \u001b[0m 1e+03   \u001b[0m | \u001b[0m 7.999   \u001b[0m |\n",
            "| \u001b[0m 7       \u001b[0m | \u001b[0m 0.8743  \u001b[0m | \u001b[0m 7.239   \u001b[0m | \u001b[0m 200.1   \u001b[0m | \u001b[0m 29.67   \u001b[0m |\n",
            "| \u001b[0m 8       \u001b[0m | \u001b[0m 0.8747  \u001b[0m | \u001b[0m 6.585   \u001b[0m | \u001b[0m 1e+03   \u001b[0m | \u001b[0m 25.98   \u001b[0m |\n",
            "| \u001b[0m 9       \u001b[0m | \u001b[0m 0.8753  \u001b[0m | \u001b[0m 4.613   \u001b[0m | \u001b[0m 999.8   \u001b[0m | \u001b[0m 29.7    \u001b[0m |\n",
            "| \u001b[0m 10      \u001b[0m | \u001b[0m 0.8729  \u001b[0m | \u001b[0m 7.116   \u001b[0m | \u001b[0m 200.1   \u001b[0m | \u001b[0m 29.46   \u001b[0m |\n",
            "| \u001b[0m 11      \u001b[0m | \u001b[0m 0.8752  \u001b[0m | \u001b[0m 3.324   \u001b[0m | \u001b[0m 999.8   \u001b[0m | \u001b[0m 14.0    \u001b[0m |\n",
            "| \u001b[0m 12      \u001b[0m | \u001b[0m 0.8735  \u001b[0m | \u001b[0m 7.286   \u001b[0m | \u001b[0m 200.1   \u001b[0m | \u001b[0m 5.075   \u001b[0m |\n",
            "| \u001b[0m 13      \u001b[0m | \u001b[0m 0.8751  \u001b[0m | \u001b[0m 8.459   \u001b[0m | \u001b[0m 999.9   \u001b[0m | \u001b[0m 26.34   \u001b[0m |\n",
            "| \u001b[0m 14      \u001b[0m | \u001b[0m 0.8732  \u001b[0m | \u001b[0m 6.593   \u001b[0m | \u001b[0m 200.1   \u001b[0m | \u001b[0m 9.143   \u001b[0m |\n",
            "| \u001b[95m 15      \u001b[0m | \u001b[95m 0.8756  \u001b[0m | \u001b[95m 9.036   \u001b[0m | \u001b[95m 999.9   \u001b[0m | \u001b[95m 7.227   \u001b[0m |\n",
            "=============================================================\n"
          ],
          "name": "stdout"
        },
        {
          "output_type": "error",
          "ename": "TypeError",
          "evalue": "ignored",
          "traceback": [
            "\u001b[0;31m---------------------------------------------------------------------------\u001b[0m",
            "\u001b[0;31mTypeError\u001b[0m                                 Traceback (most recent call last)",
            "\u001b[0;32m<ipython-input-64-7922d84f35e0>\u001b[0m in \u001b[0;36m<module>\u001b[0;34m()\u001b[0m\n\u001b[1;32m      4\u001b[0m                             \u001b[0mentrenamientoResultado\u001b[0m\u001b[0;34m,\u001b[0m\u001b[0;34m\u001b[0m\u001b[0;34m\u001b[0m\u001b[0m\n\u001b[1;32m      5\u001b[0m                             \u001b[0magrupacionTesteoXGB\u001b[0m\u001b[0;34m.\u001b[0m\u001b[0mdrop\u001b[0m\u001b[0;34m(\u001b[0m\u001b[0mdesacerse\u001b[0m\u001b[0;34m,\u001b[0m\u001b[0maxis\u001b[0m\u001b[0;34m=\u001b[0m\u001b[0;36m1\u001b[0m\u001b[0;34m)\u001b[0m\u001b[0;34m,\u001b[0m\u001b[0;34m\u001b[0m\u001b[0;34m\u001b[0m\u001b[0m\n\u001b[0;32m----> 6\u001b[0;31m                             supuestos[['TargetBinario']])\n\u001b[0m\u001b[1;32m      7\u001b[0m \u001b[0mres\u001b[0m\u001b[0;34m\u001b[0m\u001b[0;34m\u001b[0m\u001b[0m\n",
            "\u001b[0;32m<ipython-input-63-793ba7a3b1ee>\u001b[0m in \u001b[0;36mramdomForestBayesiano\u001b[0;34m(X_train, y_train, X_test, y_test)\u001b[0m\n\u001b[1;32m     52\u001b[0m              \u001b[0mn_estimators\u001b[0m\u001b[0;34m=\u001b[0m\u001b[0mint\u001b[0m\u001b[0;34m(\u001b[0m\u001b[0mmax\u001b[0m\u001b[0;34m(\u001b[0m\u001b[0mparams\u001b[0m\u001b[0;34m[\u001b[0m\u001b[0;34m\"n_estimators\"\u001b[0m\u001b[0;34m]\u001b[0m\u001b[0;34m,\u001b[0m \u001b[0;36m0\u001b[0m\u001b[0;34m)\u001b[0m\u001b[0;34m)\u001b[0m\u001b[0;34m,\u001b[0m\u001b[0;34m\u001b[0m\u001b[0;34m\u001b[0m\u001b[0m\n\u001b[1;32m     53\u001b[0m              \u001b[0;31m#max_depth=int(max(params[\"max_depth\"], 1)),\u001b[0m\u001b[0;34m\u001b[0m\u001b[0;34m\u001b[0m\u001b[0;34m\u001b[0m\u001b[0m\n\u001b[0;32m---> 54\u001b[0;31m              \u001b[0moob_score\u001b[0m\u001b[0;34m=\u001b[0m\u001b[0;34m(\u001b[0m\u001b[0mmax\u001b[0m\u001b[0;34m(\u001b[0m\u001b[0;34m'oob_score'\u001b[0m\u001b[0;34m,\u001b[0m\u001b[0;36m1\u001b[0m\u001b[0;34m)\u001b[0m\u001b[0;34m)\u001b[0m\u001b[0;34m,\u001b[0m\u001b[0;34m\u001b[0m\u001b[0;34m\u001b[0m\u001b[0m\n\u001b[0m\u001b[1;32m     55\u001b[0m              \u001b[0mmin_samples_split\u001b[0m\u001b[0;34m=\u001b[0m\u001b[0mint\u001b[0m\u001b[0;34m(\u001b[0m\u001b[0mmax\u001b[0m\u001b[0;34m(\u001b[0m\u001b[0mparams\u001b[0m\u001b[0;34m[\u001b[0m\u001b[0;34m\"min_samples_split\"\u001b[0m\u001b[0;34m]\u001b[0m\u001b[0;34m,\u001b[0m \u001b[0;36m2\u001b[0m\u001b[0;34m)\u001b[0m\u001b[0;34m)\u001b[0m\u001b[0;34m,\u001b[0m\u001b[0;34m\u001b[0m\u001b[0;34m\u001b[0m\u001b[0m\n\u001b[1;32m     56\u001b[0m              \u001b[0mn_jobs\u001b[0m\u001b[0;34m=\u001b[0m\u001b[0;34m-\u001b[0m\u001b[0;36m1\u001b[0m\u001b[0;34m,\u001b[0m\u001b[0;34m\u001b[0m\u001b[0;34m\u001b[0m\u001b[0m\n",
            "\u001b[0;31mTypeError\u001b[0m: '>' not supported between instances of 'int' and 'str'"
          ]
        }
      ]
    },
    {
      "cell_type": "markdown",
      "metadata": {
        "id": "h3pm9ZR5u-VS"
      },
      "source": [
        "### prediccion"
      ]
    },
    {
      "cell_type": "code",
      "metadata": {
        "id": "YlUrE3BRaQQL"
      },
      "source": [
        "def ramdomForest(train_data,train_labels,eval_data):\r\n",
        "  # Crear el modelo\r\n",
        "  #Si no se le coloca un valor de max depth lo toma por min_samples_leaf a la creacion de hojas\r\n",
        "  model = RandomForestClassifier(n_estimators=1000,\r\n",
        "                                 #max_features=5,\r\n",
        "                                 min_samples_leaf=9,\r\n",
        "                                 oob_score=9,#7\r\n",
        "                                 bootstrap=True,\r\n",
        "                                 verbose=0,\r\n",
        "                                 #max_leaf_nodes=20,\r\n",
        "                                 #min_weight_fraction_leaf=0.01,\r\n",
        "                                 max_features=7#7\r\n",
        "                                 )\r\n",
        "  #parametros importantes\r\n",
        "  #  n_estimators: será la cantidad de árboles que generaremos.\r\n",
        "  #  max_features: la manera de seleccionar la cantidad máxima de features para cada árbol.\r\n",
        "  #  min_sample_leaf: número mínimo de elementos en las hojas para permitir un nuevo split (división) del nodo.\r\n",
        "  #  oob_score: es un método que emula el cross-validation en árboles y permite mejorar la precisión y evitar overfitting.\r\n",
        "  #  boostrap: para utilizar diversos tamaños de muestras para entrenar. Si se pone en falso, utilizará siempre el dataset completo.\r\n",
        "  #  n_jobs: si tienes multiples cores en tu CPU, puedes indicar cuantos puede usar el modelo al entrenar para acelerar el entrenamiento.\r\n",
        "  # a entrenar!\r\n",
        "  model.fit(train_data, train_labels)\r\n",
        "  predictions = model.predict_proba(eval_data)\r\n",
        "  return predictions\r\n",
        "  "
      ],
      "execution_count": 343,
      "outputs": []
    },
    {
      "cell_type": "code",
      "metadata": {
        "colab": {
          "base_uri": "https://localhost:8080/"
        },
        "id": "hTbwSHLIHgCw",
        "outputId": "37e5a2a2-8005-41a7-9b69-6275a57b4242"
      },
      "source": [
        "#Uso los mismos valores de XGB para las variables categoricas ya que no las soporta\r\n",
        "desacerse = ['Planned_Delivery_End_Date_anio','Planned_Delivery_End_Date_mes','Planned_Delivery_End_Date_dia','Last_Modified_Date_dia']\r\n",
        "agrupacionEntrenamientoRF = agrupacionEntrenamientoXGB.drop(desacerse,axis=1)\r\n",
        "agrupacionTesteoRF = agrupacionTesteoXGB.drop(desacerse,axis=1)\r\n",
        "#agrupacionTesteoRF = agrupacionTesteoXGB.drop(['Target'],axis=1)\r\n",
        "print(len(agrupacionEntrenamientoRF.columns) - len(agrupacionTesteoRF.columns))"
      ],
      "execution_count": null,
      "outputs": [
        {
          "output_type": "stream",
          "text": [
            "0\n"
          ],
          "name": "stdout"
        }
      ]
    },
    {
      "cell_type": "code",
      "metadata": {
        "colab": {
          "base_uri": "https://localhost:8080/"
        },
        "id": "bTRkXyDHt6XU",
        "outputId": "08a3c27a-ccb4-477d-81d4-e24e6f13f740"
      },
      "source": [
        "\r\n",
        "res = ramdomForest(agrupacionEntrenamientoRF,\r\n",
        "                   entrenamientoResultado,\r\n",
        "                   agrupacionTesteoRF)\r\n",
        "res"
      ],
      "execution_count": 344,
      "outputs": [
        {
          "output_type": "execute_result",
          "data": {
            "text/plain": [
              "array([[0.28623099, 0.71376901],\n",
              "       [0.39402428, 0.60597572],\n",
              "       [0.37470219, 0.62529781],\n",
              "       ...,\n",
              "       [0.58431104, 0.41568896],\n",
              "       [0.45710235, 0.54289765],\n",
              "       [0.7015718 , 0.2984282 ]])"
            ]
          },
          "metadata": {
            "tags": []
          },
          "execution_count": 344
        }
      ]
    },
    {
      "cell_type": "code",
      "metadata": {
        "colab": {
          "base_uri": "https://localhost:8080/"
        },
        "id": "CB1dArfLt6aS",
        "outputId": "e1a6044d-ff2d-422a-ba27-6614829d2b09"
      },
      "source": [
        "resultado = auxiliarUnificarValor(res)\r\n",
        "resultado = (resultado - 1) * (-1)#En las ultimas pruevas es el opuesto el que genera mejor resultado\r\n",
        "resultado"
      ],
      "execution_count": 345,
      "outputs": [
        {
          "output_type": "execute_result",
          "data": {
            "text/plain": [
              "array([0.71376901, 0.60597572, 0.62529781, ..., 0.41568896, 0.54289765,\n",
              "       0.2984282 ])"
            ]
          },
          "metadata": {
            "tags": []
          },
          "execution_count": 345
        }
      ]
    },
    {
      "cell_type": "code",
      "metadata": {
        "colab": {
          "base_uri": "https://localhost:8080/",
          "height": 238
        },
        "id": "xrH7YJ87t8QJ",
        "outputId": "e4289985-eff4-4cb3-94e0-692935ca4a9d"
      },
      "source": [
        "dataResultante = generarResultado(agrupacionTesteo,resultado)\r\n",
        "dataResultante.head()"
      ],
      "execution_count": 346,
      "outputs": [
        {
          "output_type": "execute_result",
          "data": {
            "text/html": [
              "<div>\n",
              "<style scoped>\n",
              "    .dataframe tbody tr th:only-of-type {\n",
              "        vertical-align: middle;\n",
              "    }\n",
              "\n",
              "    .dataframe tbody tr th {\n",
              "        vertical-align: top;\n",
              "    }\n",
              "\n",
              "    .dataframe thead th {\n",
              "        text-align: right;\n",
              "    }\n",
              "</style>\n",
              "<table border=\"1\" class=\"dataframe\">\n",
              "  <thead>\n",
              "    <tr style=\"text-align: right;\">\n",
              "      <th></th>\n",
              "      <th>Target</th>\n",
              "    </tr>\n",
              "    <tr>\n",
              "      <th>Opportunity_ID</th>\n",
              "      <th></th>\n",
              "    </tr>\n",
              "  </thead>\n",
              "  <tbody>\n",
              "    <tr>\n",
              "      <th>10689</th>\n",
              "      <td>0.71</td>\n",
              "    </tr>\n",
              "    <tr>\n",
              "      <th>10690</th>\n",
              "      <td>0.61</td>\n",
              "    </tr>\n",
              "    <tr>\n",
              "      <th>10691</th>\n",
              "      <td>0.63</td>\n",
              "    </tr>\n",
              "    <tr>\n",
              "      <th>10692</th>\n",
              "      <td>0.48</td>\n",
              "    </tr>\n",
              "    <tr>\n",
              "      <th>10693</th>\n",
              "      <td>0.78</td>\n",
              "    </tr>\n",
              "  </tbody>\n",
              "</table>\n",
              "</div>"
            ],
            "text/plain": [
              "                             Target\n",
              "Opportunity_ID                     \n",
              "10689                          0.71\n",
              "10690                          0.61\n",
              "10691                          0.63\n",
              "10692                          0.48\n",
              "10693                          0.78"
            ]
          },
          "metadata": {
            "tags": []
          },
          "execution_count": 346
        }
      ]
    }
  ]
}