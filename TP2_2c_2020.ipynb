{
 "cells": [
  {
   "cell_type": "markdown",
   "metadata": {
    "id": "LaZMud-2rKuY"
   },
   "source": [
    "# TP 2"
   ]
  },
  {
   "cell_type": "markdown",
   "metadata": {
    "id": "5NvRrhUOrEpv"
   },
   "source": [
    "## Imports"
   ]
  },
  {
   "cell_type": "markdown",
   "metadata": {
    "id": "xKefRXXOFaXI"
   },
   "source": [
    "### imports base"
   ]
  },
  {
   "cell_type": "code",
   "execution_count": 1,
   "metadata": {
    "id": "ksz2M8HorAfb"
   },
   "outputs": [],
   "source": [
    "import pandas as pd\n",
    "import numpy as np\n",
    "import matplotlib.pyplot as plt\n",
    "import seaborn as sns\n",
    "import plotly.graph_objects as go\n",
    "import matplotlib\n",
    "import plotly as py\n",
    "import plotly.express as px \n",
    "import matplotlib.ticker as ticker\n",
    "plt.style.use('default')\n",
    "import plotly.offline as opy\n",
    "import plotly.figure_factory as ff\n",
    "import plotly.io as pio\n",
    "from wordcloud import WordCloud\n",
    "from datetime import datetime\n",
    "from datetime import timedelta\n",
    "\n",
    "import math\n",
    "\n",
    "sns.set(style=\"whitegrid\")\n",
    "\n",
    "pd.options.display.float_format = '{:20,.2f}'.format \n",
    "\n",
    "import warnings\n",
    "warnings.filterwarnings('ignore')"
   ]
  },
  {
   "cell_type": "code",
   "execution_count": 2,
   "metadata": {
    "id": "FXsLMcASl6Nj"
   },
   "outputs": [],
   "source": [
    "from sklearn.datasets import make_classification\n",
    "from sklearn.model_selection import cross_val_score\n",
    "from sklearn.model_selection import RepeatedStratifiedKFold\n",
    "\n",
    "from sklearn.preprocessing import LabelEncoder\n",
    "from sklearn.metrics import make_scorer, accuracy_score\n",
    "from sklearn.model_selection import train_test_split, GridSearchCV\n",
    "\n",
    "from sklearn.preprocessing import LabelBinarizer\n",
    "from sklearn.preprocessing import OneHotEncoder\n",
    "from sklearn.preprocessing import MultiLabelBinarizer\n",
    "\n",
    "from sklearn.metrics import log_loss"
   ]
  },
  {
   "cell_type": "code",
   "execution_count": 3,
   "metadata": {
    "colab": {
     "base_uri": "https://localhost:8080/"
    },
    "id": "IIqx2rkhPyQc",
    "outputId": "5c95018a-03fc-4db6-cb59-bdf749828ccd"
   },
   "outputs": [
    {
     "name": "stdout",
     "output_type": "stream",
     "text": [
      "Requirement already satisfied: category_encoders in /Library/Frameworks/Python.framework/Versions/3.9/lib/python3.9/site-packages (2.2.2)\n",
      "Requirement already satisfied: scikit-learn>=0.20.0 in /Library/Frameworks/Python.framework/Versions/3.9/lib/python3.9/site-packages (from category_encoders) (0.24.1)\n",
      "Requirement already satisfied: statsmodels>=0.9.0 in /Library/Frameworks/Python.framework/Versions/3.9/lib/python3.9/site-packages (from category_encoders) (0.12.2)\n",
      "Requirement already satisfied: pandas>=0.21.1 in /Library/Frameworks/Python.framework/Versions/3.9/lib/python3.9/site-packages (from category_encoders) (1.2.2)\n",
      "Requirement already satisfied: numpy>=1.14.0 in /Library/Frameworks/Python.framework/Versions/3.9/lib/python3.9/site-packages (from category_encoders) (1.20.1)\n",
      "Requirement already satisfied: patsy>=0.5.1 in /Library/Frameworks/Python.framework/Versions/3.9/lib/python3.9/site-packages (from category_encoders) (0.5.1)\n",
      "Requirement already satisfied: scipy>=1.0.0 in /Library/Frameworks/Python.framework/Versions/3.9/lib/python3.9/site-packages (from category_encoders) (1.6.0)\n",
      "Requirement already satisfied: joblib>=0.11 in /Library/Frameworks/Python.framework/Versions/3.9/lib/python3.9/site-packages (from scikit-learn>=0.20.0->category_encoders) (1.0.1)\n",
      "Requirement already satisfied: threadpoolctl>=2.0.0 in /Library/Frameworks/Python.framework/Versions/3.9/lib/python3.9/site-packages (from scikit-learn>=0.20.0->category_encoders) (2.1.0)\n",
      "Requirement already satisfied: pytz>=2017.3 in /Library/Frameworks/Python.framework/Versions/3.9/lib/python3.9/site-packages (from pandas>=0.21.1->category_encoders) (2021.1)\n",
      "Requirement already satisfied: python-dateutil>=2.7.3 in /Library/Frameworks/Python.framework/Versions/3.9/lib/python3.9/site-packages (from pandas>=0.21.1->category_encoders) (2.8.1)\n",
      "Requirement already satisfied: six in /Library/Frameworks/Python.framework/Versions/3.9/lib/python3.9/site-packages (from patsy>=0.5.1->category_encoders) (1.15.0)\n",
      "\u001b[33mWARNING: You are using pip version 20.2.3; however, version 21.0.1 is available.\n",
      "You should consider upgrading via the '/Library/Frameworks/Python.framework/Versions/3.9/bin/python3.9 -m pip install --upgrade pip' command.\u001b[0m\n"
     ]
    }
   ],
   "source": [
    "!pip3 install category_encoders"
   ]
  },
  {
   "cell_type": "code",
   "execution_count": 4,
   "metadata": {
    "id": "hnkHcErvPxSA"
   },
   "outputs": [],
   "source": [
    "import category_encoders as ce"
   ]
  },
  {
   "cell_type": "code",
   "execution_count": 5,
   "metadata": {
    "colab": {
     "base_uri": "https://localhost:8080/"
    },
    "id": "lsdRoO9XWT6i",
    "outputId": "d8e3698e-9575-4556-8b3d-0680ce8ab9e4"
   },
   "outputs": [
    {
     "name": "stdout",
     "output_type": "stream",
     "text": [
      "Requirement already satisfied: bayesian-optimization in /Library/Frameworks/Python.framework/Versions/3.9/lib/python3.9/site-packages (1.2.0)\n",
      "Requirement already satisfied: numpy>=1.9.0 in /Library/Frameworks/Python.framework/Versions/3.9/lib/python3.9/site-packages (from bayesian-optimization) (1.20.1)\n",
      "Requirement already satisfied: scipy>=0.14.0 in /Library/Frameworks/Python.framework/Versions/3.9/lib/python3.9/site-packages (from bayesian-optimization) (1.6.0)\n",
      "Requirement already satisfied: scikit-learn>=0.18.0 in /Library/Frameworks/Python.framework/Versions/3.9/lib/python3.9/site-packages (from bayesian-optimization) (0.24.1)\n",
      "Requirement already satisfied: threadpoolctl>=2.0.0 in /Library/Frameworks/Python.framework/Versions/3.9/lib/python3.9/site-packages (from scikit-learn>=0.18.0->bayesian-optimization) (2.1.0)\n",
      "Requirement already satisfied: joblib>=0.11 in /Library/Frameworks/Python.framework/Versions/3.9/lib/python3.9/site-packages (from scikit-learn>=0.18.0->bayesian-optimization) (1.0.1)\n",
      "\u001b[33mWARNING: You are using pip version 20.2.3; however, version 21.0.1 is available.\n",
      "You should consider upgrading via the '/Library/Frameworks/Python.framework/Versions/3.9/bin/python3.9 -m pip install --upgrade pip' command.\u001b[0m\n"
     ]
    }
   ],
   "source": [
    "!pip3 install bayesian-optimization"
   ]
  },
  {
   "cell_type": "code",
   "execution_count": 6,
   "metadata": {
    "id": "7M6WrwvaWVeP"
   },
   "outputs": [],
   "source": [
    "from bayes_opt import BayesianOptimization"
   ]
  },
  {
   "cell_type": "markdown",
   "metadata": {
    "id": "9ewHMS-ygNPS"
   },
   "source": [
    "### catboost"
   ]
  },
  {
   "cell_type": "code",
   "execution_count": 7,
   "metadata": {
    "colab": {
     "base_uri": "https://localhost:8080/"
    },
    "id": "cpEGbEgDKgny",
    "outputId": "79097e94-a2b2-4078-c5e8-1a822112e9d9"
   },
   "outputs": [
    {
     "name": "stdout",
     "output_type": "stream",
     "text": [
      "Requirement already satisfied: catboost in /Library/Frameworks/Python.framework/Versions/3.9/lib/python3.9/site-packages (0.24.4)\n",
      "Requirement already satisfied: graphviz in /Library/Frameworks/Python.framework/Versions/3.9/lib/python3.9/site-packages (from catboost) (0.16)\n",
      "Requirement already satisfied: pandas>=0.24.0 in /Library/Frameworks/Python.framework/Versions/3.9/lib/python3.9/site-packages (from catboost) (1.2.2)\n",
      "Requirement already satisfied: scipy in /Library/Frameworks/Python.framework/Versions/3.9/lib/python3.9/site-packages (from catboost) (1.6.0)\n",
      "Requirement already satisfied: matplotlib in /Library/Frameworks/Python.framework/Versions/3.9/lib/python3.9/site-packages (from catboost) (3.3.4)\n",
      "Requirement already satisfied: numpy>=1.16.0 in /Library/Frameworks/Python.framework/Versions/3.9/lib/python3.9/site-packages (from catboost) (1.20.1)\n",
      "Requirement already satisfied: plotly in /Library/Frameworks/Python.framework/Versions/3.9/lib/python3.9/site-packages (from catboost) (4.14.3)\n",
      "Requirement already satisfied: six in /Library/Frameworks/Python.framework/Versions/3.9/lib/python3.9/site-packages (from catboost) (1.15.0)\n",
      "Requirement already satisfied: pytz>=2017.3 in /Library/Frameworks/Python.framework/Versions/3.9/lib/python3.9/site-packages (from pandas>=0.24.0->catboost) (2021.1)\n",
      "Requirement already satisfied: python-dateutil>=2.7.3 in /Library/Frameworks/Python.framework/Versions/3.9/lib/python3.9/site-packages (from pandas>=0.24.0->catboost) (2.8.1)\n",
      "Requirement already satisfied: cycler>=0.10 in /Library/Frameworks/Python.framework/Versions/3.9/lib/python3.9/site-packages (from matplotlib->catboost) (0.10.0)\n",
      "Requirement already satisfied: kiwisolver>=1.0.1 in /Library/Frameworks/Python.framework/Versions/3.9/lib/python3.9/site-packages (from matplotlib->catboost) (1.3.1)\n",
      "Requirement already satisfied: pyparsing!=2.0.4,!=2.1.2,!=2.1.6,>=2.0.3 in /Library/Frameworks/Python.framework/Versions/3.9/lib/python3.9/site-packages (from matplotlib->catboost) (2.4.7)\n",
      "Requirement already satisfied: pillow>=6.2.0 in /Library/Frameworks/Python.framework/Versions/3.9/lib/python3.9/site-packages (from matplotlib->catboost) (8.1.0)\n",
      "Requirement already satisfied: retrying>=1.3.3 in /Library/Frameworks/Python.framework/Versions/3.9/lib/python3.9/site-packages (from plotly->catboost) (1.3.3)\n",
      "\u001b[33mWARNING: You are using pip version 20.2.3; however, version 21.0.1 is available.\n",
      "You should consider upgrading via the '/Library/Frameworks/Python.framework/Versions/3.9/bin/python3.9 -m pip install --upgrade pip' command.\u001b[0m\n"
     ]
    }
   ],
   "source": [
    "#Ejecutar si no funciona el import\n",
    "!pip3 install catboost"
   ]
  },
  {
   "cell_type": "code",
   "execution_count": 8,
   "metadata": {
    "id": "g-eobQ2dKOwu"
   },
   "outputs": [],
   "source": [
    "from catboost import CatBoostClassifier, Pool, cv"
   ]
  },
  {
   "cell_type": "markdown",
   "metadata": {
    "id": "O5HEIBMXmxps"
   },
   "source": [
    "### xgboost"
   ]
  },
  {
   "cell_type": "code",
   "execution_count": 9,
   "metadata": {
    "colab": {
     "base_uri": "https://localhost:8080/"
    },
    "id": "FJbpcCs5m0E8",
    "outputId": "1c8d65f9-36cb-487b-f233-ad58806b2da6"
   },
   "outputs": [
    {
     "name": "stdout",
     "output_type": "stream",
     "text": [
      "Requirement already satisfied: xgboost in /Library/Frameworks/Python.framework/Versions/3.9/lib/python3.9/site-packages (1.3.3)\n",
      "Requirement already satisfied: scipy in /Library/Frameworks/Python.framework/Versions/3.9/lib/python3.9/site-packages (from xgboost) (1.6.0)\n",
      "Requirement already satisfied: numpy in /Library/Frameworks/Python.framework/Versions/3.9/lib/python3.9/site-packages (from xgboost) (1.20.1)\n",
      "\u001b[33mWARNING: You are using pip version 20.2.3; however, version 21.0.1 is available.\n",
      "You should consider upgrading via the '/Library/Frameworks/Python.framework/Versions/3.9/bin/python3.9 -m pip install --upgrade pip' command.\u001b[0m\n"
     ]
    }
   ],
   "source": [
    "!pip3 install xgboost"
   ]
  },
  {
   "cell_type": "code",
   "execution_count": 10,
   "metadata": {
    "id": "MNXqp5z4nOOD"
   },
   "outputs": [],
   "source": [
    "import xgboost as xgb"
   ]
  },
  {
   "cell_type": "markdown",
   "metadata": {
    "id": "lP_c0s_PgPKn"
   },
   "source": [
    "### lightgbm"
   ]
  },
  {
   "cell_type": "code",
   "execution_count": 11,
   "metadata": {
    "colab": {
     "base_uri": "https://localhost:8080/"
    },
    "id": "vaGQFz-MgCbh",
    "outputId": "e37d34a4-d95a-4232-d1ad-a9bd9a87bb60"
   },
   "outputs": [
    {
     "name": "stdout",
     "output_type": "stream",
     "text": [
      "Requirement already satisfied: lightgbm in /Library/Frameworks/Python.framework/Versions/3.9/lib/python3.9/site-packages (3.1.1)\n",
      "Requirement already satisfied: scikit-learn!=0.22.0 in /Library/Frameworks/Python.framework/Versions/3.9/lib/python3.9/site-packages (from lightgbm) (0.24.1)\n",
      "Requirement already satisfied: wheel in /Library/Frameworks/Python.framework/Versions/3.9/lib/python3.9/site-packages (from lightgbm) (0.36.2)\n",
      "Requirement already satisfied: numpy in /Library/Frameworks/Python.framework/Versions/3.9/lib/python3.9/site-packages (from lightgbm) (1.20.1)\n",
      "Requirement already satisfied: scipy in /Library/Frameworks/Python.framework/Versions/3.9/lib/python3.9/site-packages (from lightgbm) (1.6.0)\n",
      "Requirement already satisfied: joblib>=0.11 in /Library/Frameworks/Python.framework/Versions/3.9/lib/python3.9/site-packages (from scikit-learn!=0.22.0->lightgbm) (1.0.1)\n",
      "Requirement already satisfied: threadpoolctl>=2.0.0 in /Library/Frameworks/Python.framework/Versions/3.9/lib/python3.9/site-packages (from scikit-learn!=0.22.0->lightgbm) (2.1.0)\n",
      "\u001b[33mWARNING: You are using pip version 20.2.3; however, version 21.0.1 is available.\n",
      "You should consider upgrading via the '/Library/Frameworks/Python.framework/Versions/3.9/bin/python3.9 -m pip install --upgrade pip' command.\u001b[0m\n"
     ]
    }
   ],
   "source": [
    "!pip3 install lightgbm"
   ]
  },
  {
   "cell_type": "code",
   "execution_count": 12,
   "metadata": {
    "id": "NDBZ9QETgLFz"
   },
   "outputs": [],
   "source": [
    "import lightgbm as lgb\n",
    "#from lightgbm import LGBMClassifier"
   ]
  },
  {
   "cell_type": "markdown",
   "metadata": {
    "id": "qB5aPacbW0b9"
   },
   "source": [
    "### ramdom forest"
   ]
  },
  {
   "cell_type": "code",
   "execution_count": 13,
   "metadata": {
    "id": "khyk5Vq_Wzfi"
   },
   "outputs": [],
   "source": [
    "from sklearn.ensemble import RandomForestClassifier"
   ]
  },
  {
   "cell_type": "markdown",
   "metadata": {
    "id": "YjCt76D_rHMn"
   },
   "source": [
    "## lectura de datos"
   ]
  },
  {
   "cell_type": "code",
   "execution_count": 14,
   "metadata": {
    "colab": {
     "base_uri": "https://localhost:8080/"
    },
    "id": "2MXb46VjrCnX",
    "outputId": "dbc4b2d2-0af1-4e29-b452-e33e94d9a5de"
   },
   "outputs": [
    {
     "name": "stdout",
     "output_type": "stream",
     "text": [
      "<class 'pandas.core.frame.DataFrame'>\n",
      "RangeIndex: 16947 entries, 0 to 16946\n",
      "Data columns (total 52 columns):\n",
      " #   Column                              Non-Null Count  Dtype  \n",
      "---  ------                              --------------  -----  \n",
      " 0   ID                                  16947 non-null  int64  \n",
      " 1   Region                              16947 non-null  object \n",
      " 2   Territory                           16947 non-null  object \n",
      " 3   Pricing, Delivery_Terms_Quote_Appr  16947 non-null  int64  \n",
      " 4   Pricing, Delivery_Terms_Approved    16947 non-null  int64  \n",
      " 5   Bureaucratic_Code_0_Approval        16947 non-null  int64  \n",
      " 6   Bureaucratic_Code_0_Approved        16947 non-null  int64  \n",
      " 7   Submitted_for_Approval              16947 non-null  int64  \n",
      " 8   Bureaucratic_Code                   16947 non-null  object \n",
      " 9   Account_Created_Date                16947 non-null  object \n",
      " 10  Source                              16947 non-null  object \n",
      " 11  Billing_Country                     16947 non-null  object \n",
      " 12  Account_Name                        16947 non-null  object \n",
      " 13  Opportunity_Name                    16947 non-null  object \n",
      " 14  Opportunity_ID                      16947 non-null  int64  \n",
      " 15  Sales_Contract_No                   16947 non-null  object \n",
      " 16  Account_Owner                       16947 non-null  object \n",
      " 17  Opportunity_Owner                   16947 non-null  object \n",
      " 18  Account_Type                        16947 non-null  object \n",
      " 19  Opportunity_Type                    16947 non-null  object \n",
      " 20  Quote_Type                          16947 non-null  object \n",
      " 21  Delivery_Terms                      16947 non-null  object \n",
      " 22  Opportunity_Created_Date            16947 non-null  object \n",
      " 23  Brand                               16947 non-null  object \n",
      " 24  Product_Type                        16947 non-null  object \n",
      " 25  Size                                16947 non-null  object \n",
      " 26  Product_Category_B                  16947 non-null  object \n",
      " 27  Price                               16947 non-null  object \n",
      " 28  Currency                            16947 non-null  object \n",
      " 29  Last_Activity                       16947 non-null  object \n",
      " 30  Quote_Expiry_Date                   16947 non-null  object \n",
      " 31  Last_Modified_Date                  16947 non-null  object \n",
      " 32  Last_Modified_By                    16947 non-null  object \n",
      " 33  Product_Family                      16947 non-null  object \n",
      " 34  Product_Name                        16947 non-null  object \n",
      " 35  ASP_Currency                        16947 non-null  object \n",
      " 36  ASP                                 13738 non-null  float64\n",
      " 37  ASP_(converted)_Currency            16947 non-null  object \n",
      " 38  ASP_(converted)                     13738 non-null  float64\n",
      " 39  Planned_Delivery_Start_Date         16947 non-null  object \n",
      " 40  Planned_Delivery_End_Date           16947 non-null  object \n",
      " 41  Month                               16947 non-null  object \n",
      " 42  Delivery_Quarter                    16947 non-null  object \n",
      " 43  Delivery_Year                       16947 non-null  int64  \n",
      " 44  Actual_Delivery_Date                16947 non-null  object \n",
      " 45  TRF                                 16947 non-null  int64  \n",
      " 46  Total_Amount_Currency               16947 non-null  object \n",
      " 47  Total_Amount                        16888 non-null  float64\n",
      " 48  Total_Taxable_Amount_Currency       16947 non-null  object \n",
      " 49  Total_Taxable_Amount                16947 non-null  float64\n",
      " 50  Stage                               16947 non-null  object \n",
      " 51  Prod_Category_A                     16947 non-null  object \n",
      "dtypes: float64(4), int64(9), object(39)\n",
      "memory usage: 6.7+ MB\n"
     ]
    }
   ],
   "source": [
    "entrenamiento = pd.read_csv('Training.csv')\n",
    "entrenamiento.info()"
   ]
  },
  {
   "cell_type": "code",
   "execution_count": 15,
   "metadata": {
    "colab": {
     "base_uri": "https://localhost:8080/"
    },
    "id": "iqDzZndMrUDu",
    "outputId": "9580cd43-7a0a-447c-a3c3-0848443b34b0"
   },
   "outputs": [
    {
     "name": "stdout",
     "output_type": "stream",
     "text": [
      "<class 'pandas.core.frame.DataFrame'>\n",
      "RangeIndex: 2551 entries, 0 to 2550\n",
      "Data columns (total 51 columns):\n",
      " #   Column                              Non-Null Count  Dtype  \n",
      "---  ------                              --------------  -----  \n",
      " 0   ID                                  2551 non-null   int64  \n",
      " 1   Region                              2551 non-null   object \n",
      " 2   Territory                           2551 non-null   object \n",
      " 3   Pricing, Delivery_Terms_Quote_Appr  2551 non-null   int64  \n",
      " 4   Pricing, Delivery_Terms_Approved    2551 non-null   int64  \n",
      " 5   Bureaucratic_Code_0_Approval        2551 non-null   int64  \n",
      " 6   Bureaucratic_Code_0_Approved        2551 non-null   int64  \n",
      " 7   Submitted_for_Approval              2551 non-null   int64  \n",
      " 8   Bureaucratic_Code                   2551 non-null   object \n",
      " 9   Account_Created_Date                2551 non-null   object \n",
      " 10  Source                              2551 non-null   object \n",
      " 11  Billing_Country                     2551 non-null   object \n",
      " 12  Account_Name                        2551 non-null   object \n",
      " 13  Opportunity_Name                    2551 non-null   object \n",
      " 14  Opportunity_ID                      2551 non-null   int64  \n",
      " 15  Sales_Contract_No                   2551 non-null   object \n",
      " 16  Account_Owner                       2551 non-null   object \n",
      " 17  Opportunity_Owner                   2551 non-null   object \n",
      " 18  Account_Type                        2551 non-null   object \n",
      " 19  Opportunity_Type                    2551 non-null   object \n",
      " 20  Quote_Type                          2551 non-null   object \n",
      " 21  Delivery_Terms                      2551 non-null   object \n",
      " 22  Opportunity_Created_Date            2551 non-null   object \n",
      " 23  Brand                               2551 non-null   object \n",
      " 24  Product_Type                        2551 non-null   object \n",
      " 25  Size                                2551 non-null   object \n",
      " 26  Product_Category_B                  2551 non-null   object \n",
      " 27  Price                               2551 non-null   object \n",
      " 28  Currency                            2551 non-null   object \n",
      " 29  Last_Activity                       2551 non-null   object \n",
      " 30  Quote_Expiry_Date                   2551 non-null   object \n",
      " 31  Last_Modified_Date                  2551 non-null   object \n",
      " 32  Last_Modified_By                    2551 non-null   object \n",
      " 33  Product_Family                      2551 non-null   object \n",
      " 34  Product_Name                        2551 non-null   object \n",
      " 35  ASP_Currency                        2551 non-null   object \n",
      " 36  ASP                                 2467 non-null   float64\n",
      " 37  ASP_(converted)_Currency            2551 non-null   object \n",
      " 38  ASP_(converted)                     2467 non-null   float64\n",
      " 39  Planned_Delivery_Start_Date         2551 non-null   object \n",
      " 40  Planned_Delivery_End_Date           2551 non-null   object \n",
      " 41  Month                               2551 non-null   object \n",
      " 42  Delivery_Quarter                    2551 non-null   object \n",
      " 43  Delivery_Year                       2551 non-null   int64  \n",
      " 44  Actual_Delivery_Date                2551 non-null   object \n",
      " 45  TRF                                 2551 non-null   int64  \n",
      " 46  Total_Amount_Currency               2551 non-null   object \n",
      " 47  Total_Amount                        2551 non-null   float64\n",
      " 48  Total_Taxable_Amount_Currency       2551 non-null   object \n",
      " 49  Total_Taxable_Amount                2551 non-null   float64\n",
      " 50  Prod_Category_A                     2551 non-null   object \n",
      "dtypes: float64(4), int64(9), object(38)\n",
      "memory usage: 1016.5+ KB\n"
     ]
    }
   ],
   "source": [
    "testeo = pd.read_csv('Test.csv')\n",
    "testeo.info()"
   ]
  },
  {
   "cell_type": "code",
   "execution_count": 16,
   "metadata": {
    "id": "ENwraghDdDLY"
   },
   "outputs": [],
   "source": [
    "#hemisferios = pd.read_csv('hemisferios.csv')\n",
    "#hemisferios = convertirATipo(hemisferios,['Billing_Country','hemisferio'],'category')\n",
    "#hemisferios.info()"
   ]
  },
  {
   "cell_type": "code",
   "execution_count": 17,
   "metadata": {
    "colab": {
     "base_uri": "https://localhost:8080/"
    },
    "id": "wiejksz3DUMi",
    "outputId": "aa56adea-9b7f-4822-afe2-69e3a312f979"
   },
   "outputs": [
    {
     "name": "stdout",
     "output_type": "stream",
     "text": [
      "<class 'pandas.core.frame.DataFrame'>\n",
      "Int64Index: 1567 entries, 10689 to 12368\n",
      "Data columns (total 1 columns):\n",
      " #   Column  Non-Null Count  Dtype\n",
      "---  ------  --------------  -----\n",
      " 0   Target  1567 non-null   int64\n",
      "dtypes: int64(1)\n",
      "memory usage: 24.5 KB\n"
     ]
    }
   ],
   "source": [
    "#prueva de supuestos\n",
    "supuestos = pd.read_csv('EvaluacionTemporal.csv',index_col='Opportunity_ID')\n",
    "supuestos.info()"
   ]
  },
  {
   "cell_type": "markdown",
   "metadata": {
    "id": "GJYpToCYrfnk"
   },
   "source": [
    "## Preprocesamiento de ambos DF"
   ]
  },
  {
   "cell_type": "markdown",
   "metadata": {
    "id": "hyRdoRPf5wSN"
   },
   "source": [
    "### Modificaciones de oportunidad"
   ]
  },
  {
   "cell_type": "code",
   "execution_count": 18,
   "metadata": {
    "id": "Eno4a-uBFHOa"
   },
   "outputs": [],
   "source": [
    "def convertirATiempo(df,lista):\n",
    "    for columna in lista:\n",
    "        df[columna] = pd.to_datetime(df[columna])\n",
    "    return df\n",
    "\n",
    "def convertirATipo(df,lista,tipo):\n",
    "    for columna in lista:\n",
    "        df[columna] = df[columna].astype(tipo)\n",
    "    return df\n",
    "\n",
    "def convertirAFlotante(df,lista):\n",
    "    for columna in lista:\n",
    "        df[columna] = df[columna].apply(lambda x: None if (x == \"None\" or x == \"Other\") else float(x))\n",
    "    return df\n",
    "\n",
    "def establecerTipos(df):\n",
    "    \"\"\"cambia los tipos de las columnas\"\"\"\n",
    "    \n",
    "    #fechas\n",
    "    listaDeColumnasFechas = ['Account_Created_Date','Opportunity_Created_Date','Quote_Expiry_Date','Last_Modified_Date','Delivery_Year','Planned_Delivery_End_Date','Planned_Delivery_Start_Date']\n",
    "    df = convertirATiempo(df,listaDeColumnasFechas)\n",
    "    #enteros\n",
    "    listaDeColumnasEnteras = ['ID','Opportunity_ID']\n",
    "    convertirATipo(df,listaDeColumnasEnteras,'int')\n",
    "    #decimales\n",
    "    listaDeColumnasEnteras = ['Price','ASP','ASP_(converted)','Total_Taxable_Amount','Total_Amount']\n",
    "    convertirAFlotante(df,listaDeColumnasEnteras)\n",
    "    #booleanos\n",
    "    listaDeColumnasBooleanas = ['Pricing, Delivery_Terms_Quote_Appr','Pricing, Delivery_Terms_Approved','Bureaucratic_Code_0_Approval','Bureaucratic_Code_0_Approved']\n",
    "    convertirATipo(df,listaDeColumnasBooleanas,'bool')\n",
    "    #categoricas\n",
    "    listaDeColumnasCategoricas = ['Product_Category_B','Product_Family','Region','Territory','Bureaucratic_Code','Source ','Billing_Country','Account_Name','Opportunity_Name']\n",
    "    convertirATipo(df,listaDeColumnasCategoricas,'category')\n",
    "    return df"
   ]
  },
  {
   "cell_type": "code",
   "execution_count": 19,
   "metadata": {
    "id": "1afBmnwDE9AT"
   },
   "outputs": [],
   "source": [
    "def agregarHemisferios(df):\n",
    "  #df.reset_index()\n",
    "  df = df.merge(hemisferios,how='left',on='Billing_Country')\n",
    "  df['hemisferio'] = df['hemisferio'].apply(lambda x: 'Desconocido' if (x != 'Norte' and x != 'Sur') else x)\n",
    "  convertirATipo(df,['hemisferio','Billing_Country'],'category')\n",
    "  #df.set_index('Opportunity_ID')\n",
    "  return df"
   ]
  },
  {
   "cell_type": "code",
   "execution_count": 20,
   "metadata": {
    "id": "b6B7RcbRrqRk"
   },
   "outputs": [],
   "source": [
    "def eliminarColumnasSinImportancia(df):\n",
    "    #\"Last_Activity\" y \"Actual_Delivery_Date\" son puros nulos\n",
    "    #\"Submitted_for_Approval\" puros valores nulos\n",
    "    #\"Prod_Category_A\" tiene todos sus valores iguales\n",
    "    df = df.drop(['Submitted_for_Approval','Last_Activity','Actual_Delivery_Date','Prod_Category_A'], axis=1)\n",
    "    return df\n",
    "\n",
    "def agregarColumnas(df):\n",
    "    df['Closed'] = df['Stage'].replace({'Closed Won': True, 'Closed Lost': True, 'Negotiation':False,'Proposal':False,'Qualification':False})#REVISAR\n",
    "    df['Won'] = df['Stage'].replace({'Closed Won': True, 'Closed Lost': False, 'Negotiation':False,'Proposal':False,'Qualification':False})\n",
    "    convertirATipo(df,['Stage'],'category')\n",
    "    return df\n",
    "\n",
    "def correccionDeTerritorios(df):\n",
    "    #se refiere a diferentes partes de usa\n",
    "    df = df.replace({'Territory':{'Central US':'USA','NE America':'USA', 'NW America':'USA','SW America':'USA','SE America':'USA'}})\n",
    "    #\n",
    "    df = df.replace({'Territory':{'KSA':'Saudi Arabia'}})\n",
    "    #No se ha encontrado la dorma de los siguientes datos 'Kosovo','South America', 'South East Asia', 'UAE (Dubai)', 'UAE (Others)' (en el caso de kosovo no lo grafica)\n",
    "    return df\n",
    "\n",
    "def preparacionDelDataFrame(df,entrenamiento=True):\n",
    "    df = eliminarColumnasSinImportancia(df)\n",
    "    df = establecerTipos(df)\n",
    "    df = correccionDeTerritorios(df)\n",
    "    df.rename(columns = {'Source ':'Source'}, inplace = True)\n",
    "    #df = agregarHemisferios(df)#desactivado desde el readcsv\n",
    "    if (entrenamiento):\n",
    "      df = agregarColumnas(df)\n",
    "    return df"
   ]
  },
  {
   "cell_type": "markdown",
   "metadata": {
    "id": "6b4gZg-W52iy"
   },
   "source": [
    "### por oportunidad"
   ]
  },
  {
   "cell_type": "code",
   "execution_count": 21,
   "metadata": {
    "id": "W1BeGQYEAcMp"
   },
   "outputs": [],
   "source": [
    "def desacerseDeNulosDateTime(df,columna):\n",
    "  df[columna] = df[columna].apply(lambda x: datetime.max if (x is None or x is np.NaN or x is pd.NaT) else x)\n",
    "  return df\n",
    "\n",
    "def descomposicionDeFechas(df,lista):\n",
    "  \"\"\"se nesesitan enteros no fechas\"\"\"\n",
    "  for columna in lista:\n",
    "    anio = columna + '_anio'\n",
    "    df[anio] = df[columna].apply(lambda x: x if x is None else x.year)\n",
    "    mes = columna + '_mes'\n",
    "    df[mes] = df[columna].apply(lambda x: x if x is None else x.month)\n",
    "    dia = columna + '_dia'\n",
    "    df[dia] = df[columna].apply(lambda x: x if (x is None) else x.day)\n",
    "  df = df.drop(lista, axis=1)\n",
    "  return df\n",
    "\n",
    "def establecerEstacion(df,columnaFecha):\n",
    "  estacion = columnaFecha + '_Estacion'\n",
    "  df[estacion] = 'Desconocido'\n",
    "  df['temporalEstaciones'] = df[columnaFecha].apply(lambda x: 'Desconocido' if x is None else estaciones(x,True))\n",
    "  df.loc[df['hemisferio'] == 'Norte' , estacion] = df['temporalEstaciones']\n",
    "  df['temporalEstaciones'] = df[columnaFecha].apply(lambda x: 'Desconocido' if x is None else estaciones(x,False))\n",
    "  df.loc[df['hemisferio'] == 'Sur' , estacion] = df['temporalEstaciones']\n",
    "  df = df.drop(['temporalEstaciones'], axis=1)\n",
    "  convertirATipo(df,[estacion],'category')\n",
    "  return df\n",
    "\n",
    "def estaciones(fecha,norte):\n",
    "  if (norte):\n",
    "    estaciones = ['primavera','verano','otoño','invierno']\n",
    "  else:\n",
    "    estaciones = ['otoño','invierno','primavera','verano']\n",
    "  if (fecha.month == 12 and fecha.day >= 21 or fecha.month <= 3 and fecha.day < 21):\n",
    "    return estaciones[3]\n",
    "  elif (fecha.month == 9 and fecha.day >= 21 or fecha.month > 9):\n",
    "    return estaciones[2]\n",
    "  elif (fecha.month == 6 and fecha.day >= 21 or fecha.month > 6):\n",
    "    return estaciones[1]\n",
    "  elif (fecha.month == 3 and fecha.day >= 21 or fecha.month > 3):\n",
    "    return estaciones[0]\n",
    "  else:\n",
    "    return 'Desconocido'\n",
    "\n",
    "def diferenciaEntreFechas(df,colFechaInicial,colFechaFinal):\n",
    "  df['TiempoDeDiferencia'] = (df[colFechaFinal] - df[colFechaInicial])\n",
    "  df['TiempoDeDiferencia'] = pd.to_numeric(df['TiempoDeDiferencia'].dt.days, downcast='integer')#revisar si se conviete totalmente a dias\n",
    "  df = df.drop([colFechaInicial,colFechaFinal], axis=1)\n",
    "  return df"
   ]
  },
  {
   "cell_type": "code",
   "execution_count": 22,
   "metadata": {
    "id": "hEXKmCHir-T4"
   },
   "outputs": [],
   "source": [
    "def dataEntrenamiento(df):\n",
    "  data = df.groupby('Opportunity_ID').agg({'Won':'sum','Closed':'sum',\n",
    "                                           'modificaciones':'sum',\n",
    "                                           #'Won':'sum','modificaciones':'sum',\n",
    "                                           'Last_Modified_Date':'max','Opportunity_Created_Date':'min',\n",
    "                                           #'Price':'mean',#Demaciados nulos\n",
    "                                           #'Quote_Expiry_Date':'max',\n",
    "                                           'Pricing, Delivery_Terms_Quote_Appr':'sum',\n",
    "                                           'Pricing, Delivery_Terms_Approved':'sum',\n",
    "                                           'Bureaucratic_Code_0_Approval':'sum',\n",
    "                                           'Bureaucratic_Code_0_Approved':'sum',\n",
    "                                           'Account_Created_Date':'min',\n",
    "                                           'Total_Amount':'sum','Region':'first',\n",
    "                                           'Total_Taxable_Amount':'sum',\n",
    "                                           'Territory':'first',\n",
    "                                           'ASP_(converted)':'sum',\n",
    "                                           'Account_Type':'first',\n",
    "                                           'Delivery_Quarter':'first',\n",
    "                                           'Product_Type':'first',\n",
    "                                           'Product_Category_B':'first',\n",
    "                                           'Billing_Country':'first',\n",
    "                                           'Planned_Delivery_End_Date':'max',\n",
    "                                           'Planned_Delivery_Start_Date':'min',\n",
    "                                           'Delivery_Terms':'first',\n",
    "                                           'Product_Family':'first',\n",
    "                                           'ASP_(converted)_Currency':'first',\n",
    "                                           'TRF':'mean'\n",
    "                                           #'hemisferio':'first'\n",
    "                                           })#hay que seguir agregando cosas que son importantes\n",
    "  return data\n",
    "\n",
    "def dataTesteo(df):\n",
    "  data = df.groupby('Opportunity_ID').agg({'modificaciones':'sum',\n",
    "                                           'Last_Modified_Date':'max','Opportunity_Created_Date':'min',\n",
    "                                           #'Price':'mean',#Demaciados nulos\n",
    "                                           #'Quote_Expiry_Date':'max',\n",
    "                                           'Pricing, Delivery_Terms_Quote_Appr':'sum',\n",
    "                                           'Pricing, Delivery_Terms_Approved':'sum',\n",
    "                                           'Bureaucratic_Code_0_Approval':'sum',\n",
    "                                           'Bureaucratic_Code_0_Approved':'sum',\n",
    "                                           'Account_Created_Date':'min',\n",
    "                                           'Total_Amount':'sum','Region':'first',\n",
    "                                           'Total_Taxable_Amount':'sum',\n",
    "                                           'Territory':'first',\n",
    "                                           'ASP_(converted)':'sum',\n",
    "                                           'Account_Type':'first',\n",
    "                                           'Delivery_Quarter':'first',\n",
    "                                           'Product_Type':'first',\n",
    "                                           'Product_Category_B':'first',\n",
    "                                           'Billing_Country':'first',\n",
    "                                           'Planned_Delivery_End_Date':'max',\n",
    "                                           'Planned_Delivery_Start_Date':'min',\n",
    "                                           'Delivery_Terms':'first',\n",
    "                                           'Product_Family':'first',\n",
    "                                           'ASP_(converted)_Currency':'first',\n",
    "                                           'TRF':'mean'\n",
    "                                           #'hemisferio':'first'\n",
    "                                           })#hay que seguir agregando cosas que son importantes\n",
    "  return data  \n",
    "\n",
    "def agrupacionDeOportunidades(df,entrenamiento=True):\n",
    "  df['modificaciones'] = 1\n",
    "  if (entrenamiento):\n",
    "    data = dataEntrenamiento(df)\n",
    "    #Solo me interesa saber si se cerro con exito\n",
    "    #data['Closed'] = data['Closed'].agg(lambda x: 1 if x > 0 else 0)\n",
    "    data['Won'] = data['Won'].agg(lambda x: 1 if x > 0 else 0)\n",
    "    #data['Lost'] = data['Closed'] - data['Won']#si es won es closed pero si es closed y no es won es perdido\n",
    "    #data['Lost'] = data['Lost'].agg(lambda x: 1 if x > 0 else 0)\n",
    "\n",
    "    #Los casos NO cerrados del set de entrenamiento se desconocen si tendran exito o no\n",
    "    #por lo que englobarlos como triunfos o fracasos es un error deben ser retirados del set\n",
    "    data = data[data['Closed'] > 0]\n",
    "    data = data.drop(['Closed'], axis=1)\n",
    "  else:\n",
    "    data = dataTesteo(df)\n",
    "\n",
    "  #data['Pricing, Delivery_Terms_Quote_Appr'] = data['Pricing, Delivery_Terms_Quote_Appr'].agg(lambda x: None if x == 0 else x)\n",
    "  #data['Pricing, Delivery_Terms_Approved'] = data['Pricing, Delivery_Terms_Approved'].agg(lambda x: None if x == 0 else x)\n",
    "  #data['Bureaucratic_Code_0_Approval'] = data['Bureaucratic_Code_0_Approval'].agg(lambda x: None if x == 0 else x)\n",
    "  #data['Bureaucratic_Code_0_Approved'] = data['Bureaucratic_Code_0_Approved'].agg(lambda x: None if x == 0 else x)\n",
    "  \"\"\"\n",
    "  data['Pricing, Delivery_Terms_Quote_Appr'] = data['Pricing, Delivery_Terms_Quote_Appr'].agg(lambda x: 1 if x > 0 else 0)\n",
    "  data['Pricing, Delivery_Terms_Approved'] = data['Pricing, Delivery_Terms_Approved'].agg(lambda x: 1 if x > 0 else 0)\n",
    "  data['Bureaucratic_Code_0_Approval'] = data['Bureaucratic_Code_0_Approval'].agg(lambda x: 1 if x > 0 else 0)\n",
    "  data['Bureaucratic_Code_0_Approved'] = data['Bureaucratic_Code_0_Approved'].agg(lambda x: 1 if x > 0 else 0)\n",
    "\n",
    "  #Condensando columnas\n",
    "  data['Pricing, Delivery_Terms_Approved'] = data['Pricing, Delivery_Terms_Quote_Appr'] + data['Pricing, Delivery_Terms_Approved']\n",
    "  data['Bureaucratic_Code_0_Approved'] = data['Bureaucratic_Code_0_Approval'] + data['Bureaucratic_Code_0_Approved']\n",
    "  data = data.drop(['Bureaucratic_Code_0_Approval','Pricing, Delivery_Terms_Quote_Appr'], axis=1)\n",
    "\n",
    "  data['Pricing, Delivery_Terms_Condensado'] = data['Pricing, Delivery_Terms_Quote_Appr'] + data['Pricing, Delivery_Terms_Approved']\n",
    "  data['Pricing, Delivery_Terms_Condensado'] = data['Pricing, Delivery_Terms_Condensado'].agg(lambda x: 1 if x > 1 else 0)\n",
    "  data = data.drop(['Pricing, Delivery_Terms_Quote_Appr','Pricing, Delivery_Terms_Approved'], axis=1)\n",
    "\n",
    "  data['Bureaucratic_Code_0_Condensado'] = data['Bureaucratic_Code_0_Approval'] + data['Bureaucratic_Code_0_Approved']\n",
    "  data['Bureaucratic_Code_0_Condensado'] = data['Bureaucratic_Code_0_Condensado'].agg(lambda x: 1 if x > 1 else 0)\n",
    "  data = data.drop(['Bureaucratic_Code_0_Approval','Bureaucratic_Code_0_Approved'], axis=1)\n",
    "  #data = data.replace({'Won':})\n",
    "\n",
    "  data['aprobacion'] = data['Pricing, Delivery_Terms_Condensado'] + data['Bureaucratic_Code_0_Condensado']\n",
    "  data['aprobacion'] = data['aprobacion'].agg(lambda x: 1 if x > 1 else 0)\n",
    "  data = data.drop(['Pricing, Delivery_Terms_Condensado','Bureaucratic_Code_0_Condensado'], axis=1)\n",
    "\n",
    "  \"\"\"\n",
    "\n",
    "  #categoricas\n",
    "  #listaDeColumnasCategoricas = ['Account_Type','Region','Territory','Delivery_Quarter']\n",
    "  listaDeColumnasCategoricas = ['Account_Type','Region','Territory','Billing_Country',\n",
    "                                'Delivery_Quarter','Product_Type','Product_Category_B',\n",
    "                                'Delivery_Terms','Product_Family','ASP_(converted)_Currency']\n",
    "  convertirATipo(data,listaDeColumnasCategoricas,'category')\n",
    "\n",
    "  #data = establecerEstacion(data,'Opportunity_Created_Date')\n",
    "  #data = establecerEstacion(data,'Quote_Expiry_Date')\n",
    "  #data = desacerseDeNulosDateTime(data,'Quote_Expiry_Date')#si no hay fecha de expiracion se pre supone que es infinita\n",
    "\n",
    "  listaDeValoresDeFechas = ['Last_Modified_Date','Opportunity_Created_Date',\n",
    "                            'Account_Created_Date','Planned_Delivery_Start_Date','Planned_Delivery_End_Date']\n",
    "  data = descomposicionDeFechas(data,listaDeValoresDeFechas)\n",
    "\n",
    "  #data['Diferencia_Amount'] = data['Total_Amount'] - data['Total_Amount'].mean()\n",
    "  #data['Diferencia_Amount'] = data['Diferencia_Amount'].agg(lambda x: -x if x<0 else x)\n",
    "\n",
    "  #data['Total_Amount'] = data['Total_Amount'].agg(lambda x: math.log(x,10))\n",
    "  #enteros\n",
    "  #listaDeColumnasEnteras = ['Quote_Expiry_Date_anio','Quote_Expiry_Date_mes','Quote_Expiry_Date_dia']\n",
    "  #convertirATipo(data,listaDeColumnasEnteras,'int')\n",
    "  #data = agregarHemisferios(data)\n",
    "\n",
    "  #data = data.drop(['hemisferio'], axis=1)\n",
    "\n",
    "  #data = diferenciaEntreFechas(data,'Planned_Delivery_Start_Date','Planned_Delivery_End_Date')\n",
    "\n",
    "  return data"
   ]
  },
  {
   "cell_type": "markdown",
   "metadata": {
    "id": "vI8bOMI2wcR0"
   },
   "source": [
    "las siguientes columnas no fueron probadas hay que analizarlas\n",
    "\n",
    "Posibles columnas a usar:\n",
    "\n",
    "- Bureaucratic_Code\n",
    "- Delivery_Year (posibles datos repetidos)\n",
    "- Month (posibles datos repetidos)\n",
    "- Opportunity_Owner\n",
    "- Opportunity_Type\n",
    "- Product_Family\n",
    "- Product_Name\n",
    "- Quote_Type (muy desbalanceado)\n",
    "\n",
    "Revisar el contexto\n",
    "\n",
    "- Total_Amount_Currency\n",
    "- Total_Taxable_Amount\n",
    "- Total_Taxable_Amount_Currency\n",
    "- ASP\n",
    "- ASP_(converted)_Currency\n",
    "- ASP_Currency\n",
    "\n",
    "\n",
    "las columnas con gran catidad de nones parecen afectar positivamente el resultado hay que revisarlas una por una\n",
    "\n",
    "- Currency: Segun prueba de supuestos empeora el resultado\n",
    "- Brand: Segun prueba de supuestos empeora el resultado ligeramente\n",
    "- Size: Segun prueba de supuestos empeora el resultado ligeramente\n",
    "- Source: Segun prueba de supuestos empeora el resultado"
   ]
  },
  {
   "cell_type": "markdown",
   "metadata": {
    "id": "a_oK2tNOrgdr"
   },
   "source": [
    "### categoricas a enteros (caso de que el sistema predictor no reconosca category)"
   ]
  },
  {
   "cell_type": "code",
   "execution_count": 23,
   "metadata": {
    "id": "zV3o96K3rqy_"
   },
   "outputs": [],
   "source": [
    "def convertirCategoryEnEnteros(df1,df2,columna):\n",
    "  encoder = ce.BinaryEncoder(cols=[columna])\n",
    "  encoder.fit(df1)\n",
    "  #encoder.fit(df2)\n",
    "  df1 = encoder.transform(df1)\n",
    "  df2 = encoder.transform(df2)\n",
    "  return df1,df2\n"
   ]
  },
  {
   "cell_type": "markdown",
   "metadata": {
    "id": "kYzRJPBRvMs5"
   },
   "source": [
    "## Ejecucion de cambios"
   ]
  },
  {
   "cell_type": "markdown",
   "metadata": {
    "id": "knmx6tPo01QZ"
   },
   "source": [
    "### ejecucion por modificaciones de oportunidad"
   ]
  },
  {
   "cell_type": "code",
   "execution_count": 24,
   "metadata": {
    "colab": {
     "base_uri": "https://localhost:8080/"
    },
    "id": "PaAnTWGor1uy",
    "outputId": "50461a9c-6363-4dbf-a1ac-16ed65e46c22"
   },
   "outputs": [
    {
     "name": "stdout",
     "output_type": "stream",
     "text": [
      "<class 'pandas.core.frame.DataFrame'>\n",
      "RangeIndex: 16947 entries, 0 to 16946\n",
      "Data columns (total 50 columns):\n",
      " #   Column                              Non-Null Count  Dtype         \n",
      "---  ------                              --------------  -----         \n",
      " 0   ID                                  16947 non-null  int64         \n",
      " 1   Region                              16947 non-null  category      \n",
      " 2   Territory                           16947 non-null  category      \n",
      " 3   Pricing, Delivery_Terms_Quote_Appr  16947 non-null  bool          \n",
      " 4   Pricing, Delivery_Terms_Approved    16947 non-null  bool          \n",
      " 5   Bureaucratic_Code_0_Approval        16947 non-null  bool          \n",
      " 6   Bureaucratic_Code_0_Approved        16947 non-null  bool          \n",
      " 7   Bureaucratic_Code                   16947 non-null  category      \n",
      " 8   Account_Created_Date                16947 non-null  datetime64[ns]\n",
      " 9   Source                              16947 non-null  category      \n",
      " 10  Billing_Country                     16947 non-null  category      \n",
      " 11  Account_Name                        16947 non-null  category      \n",
      " 12  Opportunity_Name                    16947 non-null  category      \n",
      " 13  Opportunity_ID                      16947 non-null  int64         \n",
      " 14  Sales_Contract_No                   16947 non-null  object        \n",
      " 15  Account_Owner                       16947 non-null  object        \n",
      " 16  Opportunity_Owner                   16947 non-null  object        \n",
      " 17  Account_Type                        16947 non-null  object        \n",
      " 18  Opportunity_Type                    16947 non-null  object        \n",
      " 19  Quote_Type                          16947 non-null  object        \n",
      " 20  Delivery_Terms                      16947 non-null  object        \n",
      " 21  Opportunity_Created_Date            16947 non-null  datetime64[ns]\n",
      " 22  Brand                               16947 non-null  object        \n",
      " 23  Product_Type                        16947 non-null  object        \n",
      " 24  Size                                16947 non-null  object        \n",
      " 25  Product_Category_B                  16947 non-null  category      \n",
      " 26  Price                               356 non-null    float64       \n",
      " 27  Currency                            16947 non-null  object        \n",
      " 28  Quote_Expiry_Date                   12322 non-null  datetime64[ns]\n",
      " 29  Last_Modified_Date                  16947 non-null  datetime64[ns]\n",
      " 30  Last_Modified_By                    16947 non-null  object        \n",
      " 31  Product_Family                      16947 non-null  category      \n",
      " 32  Product_Name                        16947 non-null  object        \n",
      " 33  ASP_Currency                        16947 non-null  object        \n",
      " 34  ASP                                 13738 non-null  float64       \n",
      " 35  ASP_(converted)_Currency            16947 non-null  object        \n",
      " 36  ASP_(converted)                     13738 non-null  float64       \n",
      " 37  Planned_Delivery_Start_Date         16947 non-null  datetime64[ns]\n",
      " 38  Planned_Delivery_End_Date           16872 non-null  datetime64[ns]\n",
      " 39  Month                               16947 non-null  object        \n",
      " 40  Delivery_Quarter                    16947 non-null  object        \n",
      " 41  Delivery_Year                       16947 non-null  datetime64[ns]\n",
      " 42  TRF                                 16947 non-null  int64         \n",
      " 43  Total_Amount_Currency               16947 non-null  object        \n",
      " 44  Total_Amount                        16888 non-null  float64       \n",
      " 45  Total_Taxable_Amount_Currency       16947 non-null  object        \n",
      " 46  Total_Taxable_Amount                16947 non-null  float64       \n",
      " 47  Stage                               16947 non-null  category      \n",
      " 48  Closed                              16947 non-null  bool          \n",
      " 49  Won                                 16947 non-null  bool          \n",
      "dtypes: bool(6), category(10), datetime64[ns](7), float64(5), int64(3), object(19)\n",
      "memory usage: 5.1+ MB\n"
     ]
    }
   ],
   "source": [
    "entrenamientoProcesado = preparacionDelDataFrame(entrenamiento)\n",
    "entrenamientoProcesado.info()"
   ]
  },
  {
   "cell_type": "code",
   "execution_count": 25,
   "metadata": {
    "colab": {
     "base_uri": "https://localhost:8080/"
    },
    "id": "HsNznYyLr21Z",
    "outputId": "a5d0ff10-8116-4f5d-cbfb-71c775d31013"
   },
   "outputs": [
    {
     "name": "stdout",
     "output_type": "stream",
     "text": [
      "<class 'pandas.core.frame.DataFrame'>\n",
      "RangeIndex: 2551 entries, 0 to 2550\n",
      "Data columns (total 47 columns):\n",
      " #   Column                              Non-Null Count  Dtype         \n",
      "---  ------                              --------------  -----         \n",
      " 0   ID                                  2551 non-null   int64         \n",
      " 1   Region                              2551 non-null   category      \n",
      " 2   Territory                           2551 non-null   category      \n",
      " 3   Pricing, Delivery_Terms_Quote_Appr  2551 non-null   bool          \n",
      " 4   Pricing, Delivery_Terms_Approved    2551 non-null   bool          \n",
      " 5   Bureaucratic_Code_0_Approval        2551 non-null   bool          \n",
      " 6   Bureaucratic_Code_0_Approved        2551 non-null   bool          \n",
      " 7   Bureaucratic_Code                   2551 non-null   category      \n",
      " 8   Account_Created_Date                2551 non-null   datetime64[ns]\n",
      " 9   Source                              2551 non-null   category      \n",
      " 10  Billing_Country                     2551 non-null   category      \n",
      " 11  Account_Name                        2551 non-null   category      \n",
      " 12  Opportunity_Name                    2551 non-null   category      \n",
      " 13  Opportunity_ID                      2551 non-null   int64         \n",
      " 14  Sales_Contract_No                   2551 non-null   object        \n",
      " 15  Account_Owner                       2551 non-null   object        \n",
      " 16  Opportunity_Owner                   2551 non-null   object        \n",
      " 17  Account_Type                        2551 non-null   object        \n",
      " 18  Opportunity_Type                    2551 non-null   object        \n",
      " 19  Quote_Type                          2551 non-null   object        \n",
      " 20  Delivery_Terms                      2551 non-null   object        \n",
      " 21  Opportunity_Created_Date            2551 non-null   datetime64[ns]\n",
      " 22  Brand                               2551 non-null   object        \n",
      " 23  Product_Type                        2551 non-null   object        \n",
      " 24  Size                                2551 non-null   object        \n",
      " 25  Product_Category_B                  2551 non-null   category      \n",
      " 26  Price                               160 non-null    float64       \n",
      " 27  Currency                            2551 non-null   object        \n",
      " 28  Quote_Expiry_Date                   1315 non-null   datetime64[ns]\n",
      " 29  Last_Modified_Date                  2551 non-null   datetime64[ns]\n",
      " 30  Last_Modified_By                    2551 non-null   object        \n",
      " 31  Product_Family                      2551 non-null   category      \n",
      " 32  Product_Name                        2551 non-null   object        \n",
      " 33  ASP_Currency                        2551 non-null   object        \n",
      " 34  ASP                                 2467 non-null   float64       \n",
      " 35  ASP_(converted)_Currency            2551 non-null   object        \n",
      " 36  ASP_(converted)                     2467 non-null   float64       \n",
      " 37  Planned_Delivery_Start_Date         2551 non-null   datetime64[ns]\n",
      " 38  Planned_Delivery_End_Date           2500 non-null   datetime64[ns]\n",
      " 39  Month                               2551 non-null   object        \n",
      " 40  Delivery_Quarter                    2551 non-null   object        \n",
      " 41  Delivery_Year                       2551 non-null   datetime64[ns]\n",
      " 42  TRF                                 2551 non-null   int64         \n",
      " 43  Total_Amount_Currency               2551 non-null   object        \n",
      " 44  Total_Amount                        2551 non-null   float64       \n",
      " 45  Total_Taxable_Amount_Currency       2551 non-null   object        \n",
      " 46  Total_Taxable_Amount                2551 non-null   float64       \n",
      "dtypes: bool(4), category(9), datetime64[ns](7), float64(5), int64(3), object(19)\n",
      "memory usage: 787.4+ KB\n"
     ]
    }
   ],
   "source": [
    "testeoProsesado = preparacionDelDataFrame(testeo,False)\n",
    "testeoProsesado.info()"
   ]
  },
  {
   "cell_type": "markdown",
   "metadata": {
    "id": "q8JeolJN08kJ"
   },
   "source": [
    "### ejecucion por oportunidad"
   ]
  },
  {
   "cell_type": "code",
   "execution_count": 61,
   "metadata": {
    "colab": {
     "base_uri": "https://localhost:8080/"
    },
    "id": "4FaCKA1_1ANL",
    "outputId": "281a86ce-f180-49ce-89ae-800a3181522c"
   },
   "outputs": [
    {
     "name": "stdout",
     "output_type": "stream",
     "text": [
      "<class 'pandas.core.frame.DataFrame'>\n",
      "Int64Index: 9791 entries, 0 to 12803\n",
      "Data columns (total 35 columns):\n",
      " #   Column                              Non-Null Count  Dtype   \n",
      "---  ------                              --------------  -----   \n",
      " 0   Won                                 9791 non-null   int64   \n",
      " 1   modificaciones                      9791 non-null   int64   \n",
      " 2   Pricing, Delivery_Terms_Quote_Appr  9791 non-null   int64   \n",
      " 3   Pricing, Delivery_Terms_Approved    9791 non-null   int64   \n",
      " 4   Bureaucratic_Code_0_Approval        9791 non-null   int64   \n",
      " 5   Bureaucratic_Code_0_Approved        9791 non-null   int64   \n",
      " 6   Total_Amount                        9791 non-null   float64 \n",
      " 7   Region                              9791 non-null   category\n",
      " 8   Total_Taxable_Amount                9791 non-null   float64 \n",
      " 9   Territory                           9791 non-null   category\n",
      " 10  ASP_(converted)                     9791 non-null   float64 \n",
      " 11  Account_Type                        9791 non-null   category\n",
      " 12  Delivery_Quarter                    9791 non-null   category\n",
      " 13  Product_Type                        9791 non-null   category\n",
      " 14  Product_Category_B                  9791 non-null   category\n",
      " 15  Billing_Country                     9791 non-null   category\n",
      " 16  Delivery_Terms                      9791 non-null   category\n",
      " 17  Product_Family                      9791 non-null   category\n",
      " 18  ASP_(converted)_Currency            9791 non-null   category\n",
      " 19  TRF                                 9791 non-null   float64 \n",
      " 20  Last_Modified_Date_anio             9791 non-null   int64   \n",
      " 21  Last_Modified_Date_mes              9791 non-null   int64   \n",
      " 22  Last_Modified_Date_dia              9791 non-null   int64   \n",
      " 23  Opportunity_Created_Date_anio       9791 non-null   int64   \n",
      " 24  Opportunity_Created_Date_mes        9791 non-null   int64   \n",
      " 25  Opportunity_Created_Date_dia        9791 non-null   int64   \n",
      " 26  Account_Created_Date_anio           9791 non-null   int64   \n",
      " 27  Account_Created_Date_mes            9791 non-null   int64   \n",
      " 28  Account_Created_Date_dia            9791 non-null   int64   \n",
      " 29  Planned_Delivery_Start_Date_anio    9791 non-null   int64   \n",
      " 30  Planned_Delivery_Start_Date_mes     9791 non-null   int64   \n",
      " 31  Planned_Delivery_Start_Date_dia     9791 non-null   int64   \n",
      " 32  Planned_Delivery_End_Date_anio      9734 non-null   float64 \n",
      " 33  Planned_Delivery_End_Date_mes       9734 non-null   float64 \n",
      " 34  Planned_Delivery_End_Date_dia       9734 non-null   float64 \n",
      "dtypes: category(10), float64(7), int64(18)\n",
      "memory usage: 2.1 MB\n"
     ]
    }
   ],
   "source": [
    "agrupacionEntrenamiento = agrupacionDeOportunidades(entrenamientoProcesado)\n",
    "agrupacionEntrenamiento.info()"
   ]
  },
  {
   "cell_type": "code",
   "execution_count": 62,
   "metadata": {
    "colab": {
     "base_uri": "https://localhost:8080/"
    },
    "id": "u45CZJXV1Flo",
    "outputId": "7a9f2f9e-7e74-4275-c297-05ad2b39b0cb"
   },
   "outputs": [
    {
     "name": "stdout",
     "output_type": "stream",
     "text": [
      "<class 'pandas.core.frame.DataFrame'>\n",
      "Int64Index: 1567 entries, 10689 to 12368\n",
      "Data columns (total 34 columns):\n",
      " #   Column                              Non-Null Count  Dtype   \n",
      "---  ------                              --------------  -----   \n",
      " 0   modificaciones                      1567 non-null   int64   \n",
      " 1   Pricing, Delivery_Terms_Quote_Appr  1567 non-null   int64   \n",
      " 2   Pricing, Delivery_Terms_Approved    1567 non-null   int64   \n",
      " 3   Bureaucratic_Code_0_Approval        1567 non-null   int64   \n",
      " 4   Bureaucratic_Code_0_Approved        1567 non-null   int64   \n",
      " 5   Total_Amount                        1567 non-null   float64 \n",
      " 6   Region                              1567 non-null   category\n",
      " 7   Total_Taxable_Amount                1567 non-null   float64 \n",
      " 8   Territory                           1567 non-null   category\n",
      " 9   ASP_(converted)                     1567 non-null   float64 \n",
      " 10  Account_Type                        1567 non-null   category\n",
      " 11  Delivery_Quarter                    1567 non-null   category\n",
      " 12  Product_Type                        1567 non-null   category\n",
      " 13  Product_Category_B                  1567 non-null   category\n",
      " 14  Billing_Country                     1567 non-null   category\n",
      " 15  Delivery_Terms                      1567 non-null   category\n",
      " 16  Product_Family                      1567 non-null   category\n",
      " 17  ASP_(converted)_Currency            1567 non-null   category\n",
      " 18  TRF                                 1567 non-null   float64 \n",
      " 19  Last_Modified_Date_anio             1567 non-null   int64   \n",
      " 20  Last_Modified_Date_mes              1567 non-null   int64   \n",
      " 21  Last_Modified_Date_dia              1567 non-null   int64   \n",
      " 22  Opportunity_Created_Date_anio       1567 non-null   int64   \n",
      " 23  Opportunity_Created_Date_mes        1567 non-null   int64   \n",
      " 24  Opportunity_Created_Date_dia        1567 non-null   int64   \n",
      " 25  Account_Created_Date_anio           1567 non-null   int64   \n",
      " 26  Account_Created_Date_mes            1567 non-null   int64   \n",
      " 27  Account_Created_Date_dia            1567 non-null   int64   \n",
      " 28  Planned_Delivery_Start_Date_anio    1567 non-null   int64   \n",
      " 29  Planned_Delivery_Start_Date_mes     1567 non-null   int64   \n",
      " 30  Planned_Delivery_Start_Date_dia     1567 non-null   int64   \n",
      " 31  Planned_Delivery_End_Date_anio      1524 non-null   float64 \n",
      " 32  Planned_Delivery_End_Date_mes       1524 non-null   float64 \n",
      " 33  Planned_Delivery_End_Date_dia       1524 non-null   float64 \n",
      "dtypes: category(10), float64(7), int64(17)\n",
      "memory usage: 329.4 KB\n"
     ]
    }
   ],
   "source": [
    "agrupacionTesteo = agrupacionDeOportunidades(testeoProsesado,False)\n",
    "agrupacionTesteo.info()"
   ]
  },
  {
   "cell_type": "markdown",
   "metadata": {
    "id": "1xfzMbqiZrue"
   },
   "source": [
    "### separacion de resultados de entrenamiento"
   ]
  },
  {
   "cell_type": "code",
   "execution_count": 63,
   "metadata": {
    "colab": {
     "base_uri": "https://localhost:8080/"
    },
    "id": "3_W40iRfZ0e9",
    "outputId": "bfab0bbd-5486-4d5c-8c43-e9d51204e748"
   },
   "outputs": [
    {
     "name": "stdout",
     "output_type": "stream",
     "text": [
      "<class 'pandas.core.frame.DataFrame'>\n",
      "Int64Index: 9791 entries, 0 to 12803\n",
      "Data columns (total 1 columns):\n",
      " #   Column  Non-Null Count  Dtype\n",
      "---  ------  --------------  -----\n",
      " 0   Won     9791 non-null   int64\n",
      "dtypes: int64(1)\n",
      "memory usage: 153.0 KB\n"
     ]
    }
   ],
   "source": [
    "entrenamientoResultado = agrupacionEntrenamiento[['Won']]\n",
    "entrenamientoResultado.info()"
   ]
  },
  {
   "cell_type": "code",
   "execution_count": 64,
   "metadata": {
    "colab": {
     "base_uri": "https://localhost:8080/"
    },
    "id": "8-ZrGbyfaHH1",
    "outputId": "cb7f5617-c923-4c30-8e62-7e9274a72bb6"
   },
   "outputs": [
    {
     "name": "stdout",
     "output_type": "stream",
     "text": [
      "<class 'pandas.core.frame.DataFrame'>\n",
      "Int64Index: 9791 entries, 0 to 12803\n",
      "Data columns (total 34 columns):\n",
      " #   Column                              Non-Null Count  Dtype   \n",
      "---  ------                              --------------  -----   \n",
      " 0   modificaciones                      9791 non-null   int64   \n",
      " 1   Pricing, Delivery_Terms_Quote_Appr  9791 non-null   int64   \n",
      " 2   Pricing, Delivery_Terms_Approved    9791 non-null   int64   \n",
      " 3   Bureaucratic_Code_0_Approval        9791 non-null   int64   \n",
      " 4   Bureaucratic_Code_0_Approved        9791 non-null   int64   \n",
      " 5   Total_Amount                        9791 non-null   float64 \n",
      " 6   Region                              9791 non-null   category\n",
      " 7   Total_Taxable_Amount                9791 non-null   float64 \n",
      " 8   Territory                           9791 non-null   category\n",
      " 9   ASP_(converted)                     9791 non-null   float64 \n",
      " 10  Account_Type                        9791 non-null   category\n",
      " 11  Delivery_Quarter                    9791 non-null   category\n",
      " 12  Product_Type                        9791 non-null   category\n",
      " 13  Product_Category_B                  9791 non-null   category\n",
      " 14  Billing_Country                     9791 non-null   category\n",
      " 15  Delivery_Terms                      9791 non-null   category\n",
      " 16  Product_Family                      9791 non-null   category\n",
      " 17  ASP_(converted)_Currency            9791 non-null   category\n",
      " 18  TRF                                 9791 non-null   float64 \n",
      " 19  Last_Modified_Date_anio             9791 non-null   int64   \n",
      " 20  Last_Modified_Date_mes              9791 non-null   int64   \n",
      " 21  Last_Modified_Date_dia              9791 non-null   int64   \n",
      " 22  Opportunity_Created_Date_anio       9791 non-null   int64   \n",
      " 23  Opportunity_Created_Date_mes        9791 non-null   int64   \n",
      " 24  Opportunity_Created_Date_dia        9791 non-null   int64   \n",
      " 25  Account_Created_Date_anio           9791 non-null   int64   \n",
      " 26  Account_Created_Date_mes            9791 non-null   int64   \n",
      " 27  Account_Created_Date_dia            9791 non-null   int64   \n",
      " 28  Planned_Delivery_Start_Date_anio    9791 non-null   int64   \n",
      " 29  Planned_Delivery_Start_Date_mes     9791 non-null   int64   \n",
      " 30  Planned_Delivery_Start_Date_dia     9791 non-null   int64   \n",
      " 31  Planned_Delivery_End_Date_anio      9734 non-null   float64 \n",
      " 32  Planned_Delivery_End_Date_mes       9734 non-null   float64 \n",
      " 33  Planned_Delivery_End_Date_dia       9734 non-null   float64 \n",
      "dtypes: category(10), float64(7), int64(17)\n",
      "memory usage: 2.0 MB\n"
     ]
    }
   ],
   "source": [
    "agrupacionEntrenamiento = agrupacionEntrenamiento.drop(['Won'], axis=1)\n",
    "agrupacionEntrenamiento.info()"
   ]
  },
  {
   "cell_type": "markdown",
   "metadata": {
    "id": "S7uqV5xvL6Zo"
   },
   "source": [
    "## Prueba"
   ]
  },
  {
   "cell_type": "markdown",
   "metadata": {
    "id": "MtY8vcczJZDx"
   },
   "source": [
    "### prueba todo igual"
   ]
  },
  {
   "cell_type": "code",
   "execution_count": 30,
   "metadata": {
    "colab": {
     "base_uri": "https://localhost:8080/"
    },
    "id": "NunGAz88MAbb",
    "outputId": "5170d3a3-8f8c-49da-8639-bedfcf41853f"
   },
   "outputs": [
    {
     "name": "stdout",
     "output_type": "stream",
     "text": [
      "<class 'pandas.core.frame.DataFrame'>\n",
      "RangeIndex: 1567 entries, 0 to 1566\n",
      "Data columns (total 2 columns):\n",
      " #   Column          Non-Null Count  Dtype  \n",
      "---  ------          --------------  -----  \n",
      " 0   Opportunity_ID  1567 non-null   int64  \n",
      " 1   prediccion      1567 non-null   float64\n",
      "dtypes: float64(1), int64(1)\n",
      "memory usage: 24.6 KB\n"
     ]
    }
   ],
   "source": [
    "prueba = agrupacionTesteo.reset_index()\n",
    "prueba = prueba[['Opportunity_ID']]\n",
    "prueba['prediccion'] = 0.5\n",
    "prueba\n",
    "prueba.info()"
   ]
  },
  {
   "cell_type": "code",
   "execution_count": 31,
   "metadata": {
    "colab": {
     "base_uri": "https://localhost:8080/"
    },
    "id": "awlnBfcMPa1n",
    "outputId": "1d302155-3c1f-42b6-f583-659c772ce562"
   },
   "outputs": [
    {
     "name": "stdout",
     "output_type": "stream",
     "text": [
      "<class 'pandas.core.frame.DataFrame'>\n",
      "Int64Index: 1567 entries, 10689 to 12368\n",
      "Data columns (total 1 columns):\n",
      " #   Column  Non-Null Count  Dtype  \n",
      "---  ------  --------------  -----  \n",
      " 0   Target  1567 non-null   float64\n",
      "dtypes: float64(1)\n",
      "memory usage: 24.5 KB\n"
     ]
    }
   ],
   "source": [
    "prueba = agrupacionTesteo\n",
    "prueba['Target'] = 0.5\n",
    "prueba = prueba[['Target']]\n",
    "prueba.info()"
   ]
  },
  {
   "cell_type": "code",
   "execution_count": 32,
   "metadata": {
    "id": "r0aMgBvBPDCg"
   },
   "outputs": [],
   "source": [
    "#from google.colab import files\n",
    "\n",
    "prueba.to_csv('prueva.csv')\n",
    "#files.download('resultado.csv')"
   ]
  },
  {
   "cell_type": "markdown",
   "metadata": {
    "id": "6JZVeYsgJcg4"
   },
   "source": [
    "### prueva supuestamete bien (demasiado arbitraria para funcionar)"
   ]
  },
  {
   "cell_type": "code",
   "execution_count": 33,
   "metadata": {
    "colab": {
     "base_uri": "https://localhost:8080/"
    },
    "id": "yeLzHmGeEo3t",
    "outputId": "fc3a76ab-0a0d-49fe-fed3-f81bf5b05ad1"
   },
   "outputs": [],
   "source": [
    "#serieDiferenciasDeSupuestos = dataResultante['Target'] - supuestos['Target']\n",
    "#serieDiferenciasDeSupuestos = serieDiferenciasDeSupuestos.agg(lambda x: abs(x))\n",
    "#valores a vencer\n",
    "#0.29328282239325076 0.066288348418729 0.25746523730152193\n",
    "#0.31706383931591736 0.05312227841294053 0.23048270740543753 ramdom forest\n",
    "#0.289665541459807 0.07066249882454302 0.26582418780942985 catboost\n",
    "#0.29650158086984807 0.06760957650563981 0.2600184157048108 //0.42\n",
    "#print(serieDiferenciasDeSupuestos.mean(),serieDiferenciasDeSupuestos.var(),serieDiferenciasDeSupuestos.std())\n",
    "#log_loss(supuestos['Target'],dataResultante['Target'])#predijo 0.4774430257846605 mientras el resultado dio 0.43117"
   ]
  },
  {
   "cell_type": "code",
   "execution_count": 34,
   "metadata": {
    "colab": {
     "base_uri": "https://localhost:8080/"
    },
    "id": "yOyesMcn1tgY",
    "outputId": "c63561e0-85ba-404e-c7fc-c62636a5e190"
   },
   "outputs": [],
   "source": [
    "#serieDiferenciasDeSupuestos = dataResultante['Target'] - supuestos['Target']\n",
    "#serieDiferenciasDeSupuestos = serieDiferenciasDeSupuestos.agg(lambda x: abs(x))\n",
    "#0.29328282239325076 0.066288348418729 0.25746523730152193\n",
    "#0.31706383931591736 0.05312227841294053 0.23048270740543753 ramdom forest\n",
    "#print(serieDiferenciasDeSupuestos.mean(),serieDiferenciasDeSupuestos.var(),serieDiferenciasDeSupuestos.std())"
   ]
  },
  {
   "cell_type": "code",
   "execution_count": 35,
   "metadata": {
    "colab": {
     "base_uri": "https://localhost:8080/"
    },
    "id": "T_eJk_tByPDK",
    "outputId": "16d9cdc8-bd78-4c11-a80b-24f723dd20c8"
   },
   "outputs": [],
   "source": [
    "#dataResultante['Target'].agg(lambda x: 1 if x < 0.55 and x > 0.45 else 0).value_counts()"
   ]
  },
  {
   "cell_type": "code",
   "execution_count": 36,
   "metadata": {
    "colab": {
     "base_uri": "https://localhost:8080/"
    },
    "id": "SvnqKkWyEOej",
    "outputId": "3f5cea15-5671-4621-a3e0-6e39b0909214"
   },
   "outputs": [],
   "source": [
    "#dataResultante['Target'].agg(lambda x: 1 if x > 0.95 or x < 0.05 else 0).value_counts()"
   ]
  },
  {
   "cell_type": "code",
   "execution_count": 37,
   "metadata": {
    "colab": {
     "base_uri": "https://localhost:8080/"
    },
    "id": "hSt4jpEWFP03",
    "outputId": "c3eb9be3-2a1e-4701-b7d0-87e21e6c02db"
   },
   "outputs": [],
   "source": [
    "#prueva de supuestos\n",
    "#vencer = pd.read_csv('valoresAVencer.csv',index_col='Opportunity_ID')\n",
    "#vencer.info()"
   ]
  },
  {
   "cell_type": "markdown",
   "metadata": {
    "id": "zVBNOzCKY0VD"
   },
   "source": [
    "## Resultado"
   ]
  },
  {
   "cell_type": "code",
   "execution_count": 38,
   "metadata": {
    "id": "bU-Rs00eY2ix"
   },
   "outputs": [],
   "source": [
    "def generarResultado(df,prediccion):\n",
    "  resultado = df\n",
    "  resultado['Target'] = prediccion\n",
    "  resultado = resultado[['Target']]\n",
    "  resultado.to_csv('resultado.csv')\n",
    "  return resultado"
   ]
  },
  {
   "cell_type": "code",
   "execution_count": 39,
   "metadata": {
    "id": "YqPqyX1ihs-Q"
   },
   "outputs": [],
   "source": [
    "def auxiliarUnificarValor(arreglo):\n",
    "  return arreglo[:,0]"
   ]
  },
  {
   "cell_type": "markdown",
   "metadata": {
    "id": "J983upopKwQx"
   },
   "source": [
    "## Catboost"
   ]
  },
  {
   "cell_type": "markdown",
   "metadata": {
    "id": "I-rXEcxr-Nns"
   },
   "source": [
    "### grid search"
   ]
  },
  {
   "cell_type": "code",
   "execution_count": 40,
   "metadata": {
    "id": "_fzOaeis953k"
   },
   "outputs": [],
   "source": [
    "def GridSearchCatboost(train_data_o,train_labels,cat_features):\n",
    "  \"\"\"clf = CatBoostClassifier()\n",
    "  params = {'iterations': [500],\n",
    "            'depth': [4, 5, 6],\n",
    "            #'loss_function': ['Logloss', 'CrossEntropy'],\n",
    "            'l2_leaf_reg': np.logspace(-10, 1, 50),\n",
    "            'leaf_estimation_iterations': [10],\n",
    "            'learning_rate': [0.5,0.25,0.05],\n",
    "            'rsm' : [0.7,0.5]\n",
    "            #'eval_metric': ['Accuracy'],\n",
    "            #'use_best_model': ['True'],\n",
    "            #'logging_level':['Silent'],\n",
    "            #'random_seed': [42]\n",
    "          }\n",
    "  scorer = make_scorer(accuracy_score)\n",
    "  clf_grid = GridSearchCV(estimator=clf, param_grid=params, scoring=scorer, cv=5)\n",
    "  clf_grid.fit(X_train_enc, y_train,cat_features)\n",
    "  best_param = clf_grid.best_params_\n",
    "  return best_param\"\"\"\n",
    "  model = CatBoostClassifier(loss_function='Logloss')\n",
    "  #model = CatBoostClassifier(loss_function='CrossEntropy')\n",
    "\n",
    "  train_data = train_data_o\n",
    "  # convert categorical columns to integers\n",
    "  for header in cat_features:\n",
    "    train_data[header] = train_data[header].astype('category').cat.codes\n",
    "\n",
    "  grid = {'learning_rate': list(np.arange(0.05,0.51,0.05)),\n",
    "          'depth': list(range(6,13,2)),\n",
    "          'l2_leaf_reg': list(np.arange(2,5.1,0.5)),\n",
    "          'iterations': list(range(10,101,15)),\n",
    "          'rsm':list(np.arange(0.1,1.1,0.1))\n",
    "          }\n",
    "\n",
    "  grid_search_result = model.grid_search(grid, \n",
    "                                        X=train_data, \n",
    "                                        y=train_labels,\n",
    "                                        cv=10,\n",
    "                                        plot=True)\n",
    "  \n",
    "  return grid_search_result"
   ]
  },
  {
   "cell_type": "code",
   "execution_count": 42,
   "metadata": {
    "id": "Pf2F-A-IBfPH"
   },
   "outputs": [],
   "source": [
    "listaDeCategoricas = ['Region','Territory','Product_Type','Product_Category_B',\n",
    "                      'Account_Type','Delivery_Quarter','Billing_Country']\n",
    "#listaDeCategoricas = []\n",
    "#valores = GridSearchCatboost(agrupacionEntrenamiento,entrenamientoResultado,listaDeCategoricas)\n",
    "#valores"
   ]
  },
  {
   "cell_type": "markdown",
   "metadata": {
    "id": "eXu5RWvjWtP-"
   },
   "source": [
    "### bayesian"
   ]
  },
  {
   "cell_type": "code",
   "execution_count": 43,
   "metadata": {
    "id": "sAAZRp5tWwS-"
   },
   "outputs": [],
   "source": [
    "def catboost_classifier(learning_rate, depth, l2_leaf_reg,iterations,rsm):\n",
    "    params = {\n",
    "        \"loss_function\": \"Logloss\",\n",
    "        #\"eval_metric\" : \"AUC\", \n",
    "        \"depth\" : int(depth),\n",
    "        \"l2_leaf_reg\" : l2_leaf_reg,\n",
    "        \"learning_rate\" : learning_rate,\n",
    "        #\"random_state\" : 42,\n",
    "        \"rsm\" : rsm,\n",
    "        \"iterations\": int(iterations)\n",
    "        #\"logging_level\" : \"Silent\",\n",
    "        #\"thread_count\": 24,\n",
    "        #\"num_boost_round\": int(num_boost_round)\n",
    "    }\n",
    "    X_train = agrupacionEntrenamiento\n",
    "    y_train = entrenamientoResultado\n",
    "    categorical_features = ['Region','Territory','Product_Type','Product_Category_B',\n",
    "                            'Account_Type','Delivery_Quarter','Billing_Country']\n",
    "\n",
    "    train_data = Pool(data=X_train, label=y_train, \n",
    "                               cat_features=categorical_features)\n",
    "    \n",
    "    cv_result = cv(train_data,\n",
    "                       params,\n",
    "                       early_stopping_rounds=100,\n",
    "                       stratified=True,\n",
    "                       nfold=3)\n",
    "    return cv_result['train-Logloss-mean'].iloc[-1]\n",
    "\n",
    "def bayesianoCatboost():\n",
    "  grid = {'learning_rate': (0.01,0.10),\n",
    "          'depth': (8,14),\n",
    "          'l2_leaf_reg': (0.1,3.0),\n",
    "          'iterations': (10,100),\n",
    "          'rsm':(0.01,1.0)\n",
    "          }\n",
    "  catboostBO = BayesianOptimization(catboost_classifier, grid)\n",
    "\n",
    "  return catboostBO.maximize(n_iter=15, init_points=2)"
   ]
  },
  {
   "cell_type": "code",
   "execution_count": 45,
   "metadata": {
    "colab": {
     "base_uri": "https://localhost:8080/"
    },
    "id": "hRhmFXIFXlLU",
    "outputId": "ad37e4d4-defb-40c6-ba86-13595911aabb"
   },
   "outputs": [],
   "source": [
    "#bayesianoCatboost()\n",
    "#catboost_classifier(0.05,10,3.5,20,0.5)"
   ]
  },
  {
   "cell_type": "markdown",
   "metadata": {
    "id": "mNQ7QI9D-VCT"
   },
   "source": [
    "### prediccion"
   ]
  },
  {
   "cell_type": "code",
   "execution_count": 46,
   "metadata": {
    "id": "4fhBQZdlK0xf"
   },
   "outputs": [],
   "source": [
    "def catboost(train_data,train_labels,cat_features,eval_data):\n",
    "  # Inicializador de CatBoostClassifier\n",
    "  model = CatBoostClassifier(iterations=100,\n",
    "                             learning_rate=0.4,#0.5\n",
    "                             depth=7,#8\n",
    "                             l2_leaf_reg=4,#3\n",
    "                             rsm=0.7,#0.5\n",
    "                             #random_strength=0.75,\n",
    "                             grow_policy='SymmetricTree'#'SymmetricTree', 'Depthwise' y 'Lossguide'\n",
    "                             #random_seed=2\n",
    "                             #use_best_model=True,#Requiere data de evalucion\n",
    "                             #eval_set=supuestos\n",
    "                             )\n",
    "  #parametros importantes por agregar: l2_leaf_reg, rsm\n",
    "  #para tipos de category: cat_features, one_hot_max_size\n",
    "\n",
    "  # Entrenamiento del modelo\n",
    "  #model.fit(train_data, train_labels, cat_features)\n",
    "\n",
    "  eval_dataset = Pool(data=eval_data,\n",
    "                      label=supuestos[['Target']],\n",
    "                      cat_features=cat_features)\n",
    "  model.fit(train_data, train_labels, cat_features, use_best_model=True, eval_set=eval_dataset)\n",
    "\n",
    "  # obtener prediccion\n",
    "  #preds_class = model.predict(eval_data)\n",
    "\n",
    "  # obtener probabilidad de prediccion\n",
    "  preds_proba = model.predict_proba(eval_data)\n",
    "\n",
    "  # obtener RawFormulaVal de la prediccion\n",
    "  #preds_raw = model.predict(eval_data, prediction_type='RawFormulaVal')\n",
    "\n",
    "  #return resultado(eval_data,preds_proba)\n",
    "  importancia = model.get_feature_importance(type= \"FeatureImportance\",prettified=True)\n",
    "  return preds_proba,importancia"
   ]
  },
  {
   "cell_type": "code",
   "execution_count": 48,
   "metadata": {
    "colab": {
     "base_uri": "https://localhost:8080/"
    },
    "id": "DgznGL-LaXIz",
    "outputId": "8d607a9a-2ede-41b8-86fc-67b6e3e47644"
   },
   "outputs": [],
   "source": [
    "#listaDeCategoricas = ['Region','Territory','Product_Type','Product_Category_B']\n",
    "#listaDeCategoricas = ['Region','Territory','Product_Type','Product_Category_B','Account_Type','Delivery_Quarter']\n",
    "listaDeCategoricas = ['Region','Territory','Product_Type','Product_Category_B',\n",
    "                      'Account_Type','Delivery_Quarter','Billing_Country',\n",
    "                      'Delivery_Terms','Product_Family','ASP_(converted)_Currency']\n",
    "#listaDeCategoricas = []\n",
    "#res,importancia = catboost(agrupacionEntrenamiento.copy(deep=True),entrenamientoResultado.copy(deep=True),listaDeCategoricas,agrupacionTesteo.copy(deep=True))\n",
    "#res"
   ]
  },
  {
   "cell_type": "code",
   "execution_count": 49,
   "metadata": {
    "colab": {
     "base_uri": "https://localhost:8080/"
    },
    "id": "Bgabwh58hq77",
    "outputId": "9a81325d-6783-42ec-f2bb-9ec69cd13f5f"
   },
   "outputs": [],
   "source": [
    "#resultado = auxiliarUnificarValor(res)\n",
    "#resultado = res\n",
    "#resultado = (resultado - 1) * (-1)#En las ultimas pruevas es el opuesto el que genera mejor resultado\n",
    "#resultado"
   ]
  },
  {
   "cell_type": "code",
   "execution_count": null,
   "metadata": {
    "colab": {
     "base_uri": "https://localhost:8080/",
     "height": 238
    },
    "id": "cv9IaH_CjpoN",
    "outputId": "2a356ec9-a201-4b18-a921-c76b6316e8d0"
   },
   "outputs": [],
   "source": [
    "#dataResultante = generarResultado(agrupacionTesteo,resultado)\n",
    "#dataResultante.head()"
   ]
  },
  {
   "cell_type": "code",
   "execution_count": 50,
   "metadata": {
    "colab": {
     "base_uri": "https://localhost:8080/",
     "height": 1000
    },
    "id": "TjaNnyRAySZv",
    "outputId": "7774d7bc-efb4-4765-ef86-d6ebc2c266d3"
   },
   "outputs": [],
   "source": [
    "#importancia"
   ]
  },
  {
   "cell_type": "markdown",
   "metadata": {
    "id": "onKsrVr1lwas"
   },
   "source": [
    "## XGBoost"
   ]
  },
  {
   "cell_type": "code",
   "execution_count": 51,
   "metadata": {
    "id": "uAJLnCXIl1eQ"
   },
   "outputs": [],
   "source": [
    "def xgboost(train_set, train_label,listaCategorica,test_set,masImportantes=0):\n",
    "  xgb_reg = xgb.XGBClassifier(max_depth = 8, \n",
    "                           colsample_bytree = 0.5, \n",
    "                           learning_rate = 0.3, \n",
    "                           alpha = 8,\n",
    "                           min_child_weight = 0.5,\n",
    "                           n_estimators = 200,\n",
    "                           objetive = 'reg:squarederror')\n",
    "  xgb_reg.fit(train_set, train_label)\n",
    "  predicts = xgb_reg.predict_proba(test_set)\n",
    "  if (masImportantes > 0):\n",
    "    xgb.plot_importance(xg_reg, max_num_features=masImportantes)\n",
    "  return predicts\n",
    "\n",
    "\n"
   ]
  },
  {
   "cell_type": "code",
   "execution_count": 52,
   "metadata": {
    "colab": {
     "base_uri": "https://localhost:8080/"
    },
    "id": "viXhlcxFonZc",
    "outputId": "4ea4b42d-7ae9-4e00-d121-b4f8bd2180e7"
   },
   "outputs": [
    {
     "name": "stdout",
     "output_type": "stream",
     "text": [
      "<class 'pandas.core.frame.DataFrame'>\n",
      "Int64Index: 9791 entries, 0 to 12803\n",
      "Data columns (total 34 columns):\n",
      " #   Column                              Non-Null Count  Dtype  \n",
      "---  ------                              --------------  -----  \n",
      " 0   modificaciones                      9791 non-null   int64  \n",
      " 1   Pricing, Delivery_Terms_Quote_Appr  9791 non-null   int64  \n",
      " 2   Pricing, Delivery_Terms_Approved    9791 non-null   int64  \n",
      " 3   Bureaucratic_Code_0_Approval        9791 non-null   int64  \n",
      " 4   Bureaucratic_Code_0_Approved        9791 non-null   int64  \n",
      " 5   Total_Amount                        9791 non-null   float64\n",
      " 6   Region                              9791 non-null   int8   \n",
      " 7   Total_Taxable_Amount                9791 non-null   float64\n",
      " 8   Territory                           9791 non-null   int8   \n",
      " 9   ASP_(converted)                     9791 non-null   float64\n",
      " 10  Account_Type                        9791 non-null   int8   \n",
      " 11  Delivery_Quarter                    9791 non-null   int8   \n",
      " 12  Product_Type                        9791 non-null   int8   \n",
      " 13  Product_Category_B                  9791 non-null   int8   \n",
      " 14  Billing_Country                     9791 non-null   int8   \n",
      " 15  Delivery_Terms                      9791 non-null   int8   \n",
      " 16  Product_Family                      9791 non-null   int16  \n",
      " 17  ASP_(converted)_Currency            9791 non-null   int8   \n",
      " 18  TRF                                 9791 non-null   float64\n",
      " 19  Last_Modified_Date_anio             9791 non-null   int64  \n",
      " 20  Last_Modified_Date_mes              9791 non-null   int64  \n",
      " 21  Last_Modified_Date_dia              9791 non-null   int64  \n",
      " 22  Opportunity_Created_Date_anio       9791 non-null   int64  \n",
      " 23  Opportunity_Created_Date_mes        9791 non-null   int64  \n",
      " 24  Opportunity_Created_Date_dia        9791 non-null   int64  \n",
      " 25  Account_Created_Date_anio           9791 non-null   int64  \n",
      " 26  Account_Created_Date_mes            9791 non-null   int64  \n",
      " 27  Account_Created_Date_dia            9791 non-null   int64  \n",
      " 28  Planned_Delivery_Start_Date_anio    9791 non-null   int64  \n",
      " 29  Planned_Delivery_Start_Date_mes     9791 non-null   int64  \n",
      " 30  Planned_Delivery_Start_Date_dia     9791 non-null   int64  \n",
      " 31  Planned_Delivery_End_Date_anio      9734 non-null   float64\n",
      " 32  Planned_Delivery_End_Date_mes       9734 non-null   float64\n",
      " 33  Planned_Delivery_End_Date_dia       9734 non-null   float64\n",
      "dtypes: float64(7), int16(1), int64(17), int8(9)\n",
      "memory usage: 2.0 MB\n"
     ]
    }
   ],
   "source": [
    "#listaDeCategoricas = ['Region','Territory','Product_Type','Product_Category_B']\n",
    "#listaDeCategoricas = ['Region','Territory','Product_Type','Product_Category_B','Account_Type','Delivery_Quarter']\n",
    "listaDeCategoricas = ['Region','Territory','Product_Type','Product_Category_B',\n",
    "                      'Account_Type','Delivery_Quarter','Billing_Country',\n",
    "                      'Delivery_Terms','Product_Family','ASP_(converted)_Currency']\n",
    "#listaDeCategoricas = []\n",
    "agrupacionEntrenamientoXGB = agrupacionEntrenamiento.copy(True)\n",
    "agrupacionTesteoXGB = agrupacionTesteo.copy(True)\n",
    "\n",
    "# convert categorical columns to integers \n",
    "#usando la funcion de catboost\n",
    "for header in listaDeCategoricas:\n",
    "  agrupacionEntrenamientoXGB[header] = agrupacionEntrenamientoXGB[header].astype('category').cat.codes\n",
    "  agrupacionTesteoXGB[header] = agrupacionTesteoXGB[header].astype('category').cat.codes\n",
    "#usando metodo personalizado\n",
    "#for columna in listaDeCategoricas:\n",
    "#  agrupacionEntrenamientoXGB,agrupacionTesteoXGB = convertirCategoryEnEnteros(agrupacionEntrenamientoXGB,agrupacionTesteoXGB,columna)\n",
    "\n",
    "\n",
    "agrupacionEntrenamientoXGB.info()"
   ]
  },
  {
   "cell_type": "code",
   "execution_count": 53,
   "metadata": {
    "colab": {
     "base_uri": "https://localhost:8080/"
    },
    "id": "UmyatqVjIIP2",
    "outputId": "e185a1b8-e108-49dd-cb5a-583b30310e91"
   },
   "outputs": [
    {
     "name": "stdout",
     "output_type": "stream",
     "text": [
      "<class 'pandas.core.frame.DataFrame'>\n",
      "Int64Index: 1567 entries, 10689 to 12368\n",
      "Data columns (total 35 columns):\n",
      " #   Column                              Non-Null Count  Dtype  \n",
      "---  ------                              --------------  -----  \n",
      " 0   modificaciones                      1567 non-null   int64  \n",
      " 1   Pricing, Delivery_Terms_Quote_Appr  1567 non-null   int64  \n",
      " 2   Pricing, Delivery_Terms_Approved    1567 non-null   int64  \n",
      " 3   Bureaucratic_Code_0_Approval        1567 non-null   int64  \n",
      " 4   Bureaucratic_Code_0_Approved        1567 non-null   int64  \n",
      " 5   Total_Amount                        1567 non-null   float64\n",
      " 6   Region                              1567 non-null   int8   \n",
      " 7   Total_Taxable_Amount                1567 non-null   float64\n",
      " 8   Territory                           1567 non-null   int8   \n",
      " 9   ASP_(converted)                     1567 non-null   float64\n",
      " 10  Account_Type                        1567 non-null   int8   \n",
      " 11  Delivery_Quarter                    1567 non-null   int8   \n",
      " 12  Product_Type                        1567 non-null   int8   \n",
      " 13  Product_Category_B                  1567 non-null   int8   \n",
      " 14  Billing_Country                     1567 non-null   int8   \n",
      " 15  Delivery_Terms                      1567 non-null   int8   \n",
      " 16  Product_Family                      1567 non-null   int8   \n",
      " 17  ASP_(converted)_Currency            1567 non-null   int8   \n",
      " 18  TRF                                 1567 non-null   float64\n",
      " 19  Last_Modified_Date_anio             1567 non-null   int64  \n",
      " 20  Last_Modified_Date_mes              1567 non-null   int64  \n",
      " 21  Last_Modified_Date_dia              1567 non-null   int64  \n",
      " 22  Opportunity_Created_Date_anio       1567 non-null   int64  \n",
      " 23  Opportunity_Created_Date_mes        1567 non-null   int64  \n",
      " 24  Opportunity_Created_Date_dia        1567 non-null   int64  \n",
      " 25  Account_Created_Date_anio           1567 non-null   int64  \n",
      " 26  Account_Created_Date_mes            1567 non-null   int64  \n",
      " 27  Account_Created_Date_dia            1567 non-null   int64  \n",
      " 28  Planned_Delivery_Start_Date_anio    1567 non-null   int64  \n",
      " 29  Planned_Delivery_Start_Date_mes     1567 non-null   int64  \n",
      " 30  Planned_Delivery_Start_Date_dia     1567 non-null   int64  \n",
      " 31  Planned_Delivery_End_Date_anio      1524 non-null   float64\n",
      " 32  Planned_Delivery_End_Date_mes       1524 non-null   float64\n",
      " 33  Planned_Delivery_End_Date_dia       1524 non-null   float64\n",
      " 34  Target                              1567 non-null   float64\n",
      "dtypes: float64(8), int64(17), int8(10)\n",
      "memory usage: 333.6 KB\n"
     ]
    }
   ],
   "source": [
    "\n",
    "agrupacionTesteoXGB.info()"
   ]
  },
  {
   "cell_type": "code",
   "execution_count": 54,
   "metadata": {
    "colab": {
     "base_uri": "https://localhost:8080/"
    },
    "id": "HHZouTYbv07j",
    "outputId": "8de59159-e409-4695-cf66-a7c5afd7c157"
   },
   "outputs": [
    {
     "name": "stdout",
     "output_type": "stream",
     "text": [
      "[22:40:06] WARNING: /Users/travis/build/dmlc/xgboost/src/learner.cc:541: \n",
      "Parameters: { objetive } might not be used.\n",
      "\n",
      "  This may not be accurate due to some parameters are only used in language bindings but\n",
      "  passed down to XGBoost core.  Or some parameters are not used but slip through this\n",
      "  verification. Please open an issue if you find above cases.\n",
      "\n",
      "\n",
      "[22:40:06] WARNING: /Users/travis/build/dmlc/xgboost/src/learner.cc:1061: Starting in XGBoost 1.3.0, the default evaluation metric used with the objective 'binary:logistic' was changed from 'error' to 'logloss'. Explicitly set eval_metric if you'd like to restore the old behavior.\n"
     ]
    },
    {
     "ename": "XGBoostError",
     "evalue": "[22:40:08] /Users/travis/build/dmlc/xgboost/src/learner.cc:1183: Check failed: learner_model_param_.num_feature >= p_fmat->Info().num_col_ (34 vs. 35) : Number of columns does not match number of features in booster.\nStack trace:\n  [bt] (0) 1   libxgboost.dylib                    0x000000012072d160 dmlc::LogMessageFatal::~LogMessageFatal() + 112\n  [bt] (1) 2   libxgboost.dylib                    0x00000001207e9b75 xgboost::LearnerImpl::ValidateDMatrix(xgboost::DMatrix*, bool) const + 501\n  [bt] (2) 3   libxgboost.dylib                    0x00000001207e9db5 xgboost::LearnerImpl::PredictRaw(xgboost::DMatrix*, xgboost::PredictionCacheEntry*, bool, unsigned int) const + 69\n  [bt] (3) 4   libxgboost.dylib                    0x00000001207d9d18 xgboost::LearnerImpl::Predict(std::__1::shared_ptr<xgboost::DMatrix>, bool, xgboost::HostDeviceVector<float>*, unsigned int, bool, bool, bool, bool, bool) + 664\n  [bt] (4) 5   libxgboost.dylib                    0x000000012072371b XGBoosterPredict + 267\n  [bt] (5) 6   _ctypes.cpython-39-darwin.so        0x000000010b4b3347 ffi_call_unix64 + 79\n\n",
     "output_type": "error",
     "traceback": [
      "\u001b[0;31m---------------------------------------------------------------------------\u001b[0m",
      "\u001b[0;31mXGBoostError\u001b[0m                              Traceback (most recent call last)",
      "\u001b[0;32m<ipython-input-54-9e333e204840>\u001b[0m in \u001b[0;36m<module>\u001b[0;34m\u001b[0m\n\u001b[0;32m----> 1\u001b[0;31m \u001b[0mres\u001b[0m \u001b[0;34m=\u001b[0m \u001b[0mxgboost\u001b[0m\u001b[0;34m(\u001b[0m\u001b[0magrupacionEntrenamientoXGB\u001b[0m\u001b[0;34m,\u001b[0m\u001b[0mentrenamientoResultado\u001b[0m\u001b[0;34m,\u001b[0m\u001b[0mlistaDeCategoricas\u001b[0m\u001b[0;34m,\u001b[0m\u001b[0magrupacionTesteoXGB\u001b[0m\u001b[0;34m)\u001b[0m\u001b[0;34m\u001b[0m\u001b[0;34m\u001b[0m\u001b[0m\n\u001b[0m\u001b[1;32m      2\u001b[0m \u001b[0mres\u001b[0m\u001b[0;34m\u001b[0m\u001b[0;34m\u001b[0m\u001b[0m\n",
      "\u001b[0;32m<ipython-input-51-166e9cfe16c4>\u001b[0m in \u001b[0;36mxgboost\u001b[0;34m(train_set, train_label, listaCategorica, test_set, masImportantes)\u001b[0m\n\u001b[1;32m      8\u001b[0m                            objetive = 'reg:squarederror')\n\u001b[1;32m      9\u001b[0m   \u001b[0mxgb_reg\u001b[0m\u001b[0;34m.\u001b[0m\u001b[0mfit\u001b[0m\u001b[0;34m(\u001b[0m\u001b[0mtrain_set\u001b[0m\u001b[0;34m,\u001b[0m \u001b[0mtrain_label\u001b[0m\u001b[0;34m)\u001b[0m\u001b[0;34m\u001b[0m\u001b[0;34m\u001b[0m\u001b[0m\n\u001b[0;32m---> 10\u001b[0;31m   \u001b[0mpredicts\u001b[0m \u001b[0;34m=\u001b[0m \u001b[0mxgb_reg\u001b[0m\u001b[0;34m.\u001b[0m\u001b[0mpredict_proba\u001b[0m\u001b[0;34m(\u001b[0m\u001b[0mtest_set\u001b[0m\u001b[0;34m)\u001b[0m\u001b[0;34m\u001b[0m\u001b[0;34m\u001b[0m\u001b[0m\n\u001b[0m\u001b[1;32m     11\u001b[0m   \u001b[0;32mif\u001b[0m \u001b[0;34m(\u001b[0m\u001b[0mmasImportantes\u001b[0m \u001b[0;34m>\u001b[0m \u001b[0;36m0\u001b[0m\u001b[0;34m)\u001b[0m\u001b[0;34m:\u001b[0m\u001b[0;34m\u001b[0m\u001b[0;34m\u001b[0m\u001b[0m\n\u001b[1;32m     12\u001b[0m     \u001b[0mxgb\u001b[0m\u001b[0;34m.\u001b[0m\u001b[0mplot_importance\u001b[0m\u001b[0;34m(\u001b[0m\u001b[0mxg_reg\u001b[0m\u001b[0;34m,\u001b[0m \u001b[0mmax_num_features\u001b[0m\u001b[0;34m=\u001b[0m\u001b[0mmasImportantes\u001b[0m\u001b[0;34m)\u001b[0m\u001b[0;34m\u001b[0m\u001b[0;34m\u001b[0m\u001b[0m\n",
      "\u001b[0;32m/Library/Frameworks/Python.framework/Versions/3.9/lib/python3.9/site-packages/xgboost/sklearn.py\u001b[0m in \u001b[0;36mpredict_proba\u001b[0;34m(self, X, ntree_limit, validate_features, base_margin)\u001b[0m\n\u001b[1;32m   1018\u001b[0m         \u001b[0;32mif\u001b[0m \u001b[0mntree_limit\u001b[0m \u001b[0;32mis\u001b[0m \u001b[0;32mNone\u001b[0m\u001b[0;34m:\u001b[0m\u001b[0;34m\u001b[0m\u001b[0;34m\u001b[0m\u001b[0m\n\u001b[1;32m   1019\u001b[0m             \u001b[0mntree_limit\u001b[0m \u001b[0;34m=\u001b[0m \u001b[0mgetattr\u001b[0m\u001b[0;34m(\u001b[0m\u001b[0mself\u001b[0m\u001b[0;34m,\u001b[0m \u001b[0;34m\"best_ntree_limit\"\u001b[0m\u001b[0;34m,\u001b[0m \u001b[0;36m0\u001b[0m\u001b[0;34m)\u001b[0m\u001b[0;34m\u001b[0m\u001b[0;34m\u001b[0m\u001b[0m\n\u001b[0;32m-> 1020\u001b[0;31m         class_probs = self.get_booster().predict(test_dmatrix,\n\u001b[0m\u001b[1;32m   1021\u001b[0m                                                  \u001b[0mntree_limit\u001b[0m\u001b[0;34m=\u001b[0m\u001b[0mntree_limit\u001b[0m\u001b[0;34m,\u001b[0m\u001b[0;34m\u001b[0m\u001b[0;34m\u001b[0m\u001b[0m\n\u001b[1;32m   1022\u001b[0m                                                  validate_features=validate_features)\n",
      "\u001b[0;32m/Library/Frameworks/Python.framework/Versions/3.9/lib/python3.9/site-packages/xgboost/core.py\u001b[0m in \u001b[0;36mpredict\u001b[0;34m(self, data, output_margin, ntree_limit, pred_leaf, pred_contribs, approx_contribs, pred_interactions, validate_features, training)\u001b[0m\n\u001b[1;32m   1487\u001b[0m         \u001b[0mlength\u001b[0m \u001b[0;34m=\u001b[0m \u001b[0mc_bst_ulong\u001b[0m\u001b[0;34m(\u001b[0m\u001b[0;34m)\u001b[0m\u001b[0;34m\u001b[0m\u001b[0;34m\u001b[0m\u001b[0m\n\u001b[1;32m   1488\u001b[0m         \u001b[0mpreds\u001b[0m \u001b[0;34m=\u001b[0m \u001b[0mctypes\u001b[0m\u001b[0;34m.\u001b[0m\u001b[0mPOINTER\u001b[0m\u001b[0;34m(\u001b[0m\u001b[0mctypes\u001b[0m\u001b[0;34m.\u001b[0m\u001b[0mc_float\u001b[0m\u001b[0;34m)\u001b[0m\u001b[0;34m(\u001b[0m\u001b[0;34m)\u001b[0m\u001b[0;34m\u001b[0m\u001b[0;34m\u001b[0m\u001b[0m\n\u001b[0;32m-> 1489\u001b[0;31m         _check_call(_LIB.XGBoosterPredict(self.handle, data.handle,\n\u001b[0m\u001b[1;32m   1490\u001b[0m                                           \u001b[0mctypes\u001b[0m\u001b[0;34m.\u001b[0m\u001b[0mc_int\u001b[0m\u001b[0;34m(\u001b[0m\u001b[0moption_mask\u001b[0m\u001b[0;34m)\u001b[0m\u001b[0;34m,\u001b[0m\u001b[0;34m\u001b[0m\u001b[0;34m\u001b[0m\u001b[0m\n\u001b[1;32m   1491\u001b[0m                                           \u001b[0mctypes\u001b[0m\u001b[0;34m.\u001b[0m\u001b[0mc_uint\u001b[0m\u001b[0;34m(\u001b[0m\u001b[0mntree_limit\u001b[0m\u001b[0;34m)\u001b[0m\u001b[0;34m,\u001b[0m\u001b[0;34m\u001b[0m\u001b[0;34m\u001b[0m\u001b[0m\n",
      "\u001b[0;32m/Library/Frameworks/Python.framework/Versions/3.9/lib/python3.9/site-packages/xgboost/core.py\u001b[0m in \u001b[0;36m_check_call\u001b[0;34m(ret)\u001b[0m\n\u001b[1;32m    187\u001b[0m     \"\"\"\n\u001b[1;32m    188\u001b[0m     \u001b[0;32mif\u001b[0m \u001b[0mret\u001b[0m \u001b[0;34m!=\u001b[0m \u001b[0;36m0\u001b[0m\u001b[0;34m:\u001b[0m\u001b[0;34m\u001b[0m\u001b[0;34m\u001b[0m\u001b[0m\n\u001b[0;32m--> 189\u001b[0;31m         \u001b[0;32mraise\u001b[0m \u001b[0mXGBoostError\u001b[0m\u001b[0;34m(\u001b[0m\u001b[0mpy_str\u001b[0m\u001b[0;34m(\u001b[0m\u001b[0m_LIB\u001b[0m\u001b[0;34m.\u001b[0m\u001b[0mXGBGetLastError\u001b[0m\u001b[0;34m(\u001b[0m\u001b[0;34m)\u001b[0m\u001b[0;34m)\u001b[0m\u001b[0;34m)\u001b[0m\u001b[0;34m\u001b[0m\u001b[0;34m\u001b[0m\u001b[0m\n\u001b[0m\u001b[1;32m    190\u001b[0m \u001b[0;34m\u001b[0m\u001b[0m\n\u001b[1;32m    191\u001b[0m \u001b[0;34m\u001b[0m\u001b[0m\n",
      "\u001b[0;31mXGBoostError\u001b[0m: [22:40:08] /Users/travis/build/dmlc/xgboost/src/learner.cc:1183: Check failed: learner_model_param_.num_feature >= p_fmat->Info().num_col_ (34 vs. 35) : Number of columns does not match number of features in booster.\nStack trace:\n  [bt] (0) 1   libxgboost.dylib                    0x000000012072d160 dmlc::LogMessageFatal::~LogMessageFatal() + 112\n  [bt] (1) 2   libxgboost.dylib                    0x00000001207e9b75 xgboost::LearnerImpl::ValidateDMatrix(xgboost::DMatrix*, bool) const + 501\n  [bt] (2) 3   libxgboost.dylib                    0x00000001207e9db5 xgboost::LearnerImpl::PredictRaw(xgboost::DMatrix*, xgboost::PredictionCacheEntry*, bool, unsigned int) const + 69\n  [bt] (3) 4   libxgboost.dylib                    0x00000001207d9d18 xgboost::LearnerImpl::Predict(std::__1::shared_ptr<xgboost::DMatrix>, bool, xgboost::HostDeviceVector<float>*, unsigned int, bool, bool, bool, bool, bool) + 664\n  [bt] (4) 5   libxgboost.dylib                    0x000000012072371b XGBoosterPredict + 267\n  [bt] (5) 6   _ctypes.cpython-39-darwin.so        0x000000010b4b3347 ffi_call_unix64 + 79\n\n"
     ]
    }
   ],
   "source": [
    "\n",
    "res = xgboost(agrupacionEntrenamientoXGB,entrenamientoResultado,listaDeCategoricas,agrupacionTesteoXGB)\n",
    "res"
   ]
  },
  {
   "cell_type": "code",
   "execution_count": null,
   "metadata": {
    "colab": {
     "base_uri": "https://localhost:8080/"
    },
    "id": "ne_Bb8L6QuXg",
    "outputId": "73cc4122-20b9-4af1-8c77-99cc70360d50"
   },
   "outputs": [],
   "source": [
    "resultado = auxiliarUnificarValor(res)\n",
    "resultado = (resultado - 1) * (-1)#En las ultimas pruevas es el opuesto el que genera mejor resultado\n",
    "resultado"
   ]
  },
  {
   "cell_type": "code",
   "execution_count": null,
   "metadata": {
    "colab": {
     "base_uri": "https://localhost:8080/",
     "height": 238
    },
    "id": "hHUrCcTgosNz",
    "outputId": "5d6be644-e762-4a0a-d1c0-f50a3c9a5e14"
   },
   "outputs": [],
   "source": [
    "dataResultante = generarResultado(agrupacionTesteo,resultado)\n",
    "dataResultante.head()"
   ]
  },
  {
   "cell_type": "markdown",
   "metadata": {
    "id": "baxdAoAzfwxz"
   },
   "source": [
    "## LightGBM"
   ]
  },
  {
   "cell_type": "code",
   "execution_count": null,
   "metadata": {
    "id": "nZVOGGgFgU3H"
   },
   "outputs": [],
   "source": [
    "def lightGBM(train_data,train_labels,cat_features,eval_data):\n",
    "  \"\"\"# evaluate the model\n",
    "  model = lgb.LGBMClassifier()\n",
    "  cv = RepeatedStratifiedKFold(n_splits=10, n_repeats=3, random_state=1)\n",
    "  n_scores = cross_val_score(model,\n",
    "                             train_data,\n",
    "                             train_labels,\n",
    "                             scoring='accuracy',\n",
    "                             cv=cv,\n",
    "                             n_jobs=-1,\n",
    "                             categorical_feature=cat_features,\n",
    "                             error_score='raise')\n",
    "  print('Accuracy: %.3f (%.3f)' % (mean(n_scores), std(n_scores)))\n",
    "  # fit the model on the whole dataset\n",
    "  model.fit(X, y)\n",
    "  # make a single prediction\n",
    "  yhat = model.predict(eval_data)\n",
    "  return yhat\"\"\"\n",
    "\n",
    "  #\n",
    "  # Create training and validation sets\n",
    "  #\n",
    "  x, x_test, y, y_test = train_test_split(train_data,train_labels, test_size=0.2, random_state=42, stratify=train_labels)\n",
    "\n",
    "  #\n",
    "  # Create the LightGBM data containers\n",
    "  #\n",
    "  #categorical_features = [c for c, col in enumerate(train.columns) if 'cat' in col]\n",
    "  categorical_features = cat_features\n",
    "  train_data = lgb.Dataset(x, label=y, categorical_feature=categorical_features)\n",
    "  test_data = lgb.Dataset(x_test, label=y_test)\n",
    "\n",
    "\n",
    "  #\n",
    "  # Train the model\n",
    "  #\n",
    "\n",
    "  parameters = {\n",
    "      'application': 'binary',\n",
    "      'objective': 'binary',\n",
    "      'metric': 'auc',\n",
    "      'is_unbalance': 'true',\n",
    "      'boosting': 'gbdt',\n",
    "      'num_leaves': 31,\n",
    "      'feature_fraction': 0.5,\n",
    "      'bagging_fraction': 0.5,\n",
    "      'bagging_freq': 20,\n",
    "      'learning_rate': 0.05,\n",
    "      'verbose': 0\n",
    "  }\n",
    "\n",
    "  model = lgb.train(parameters,\n",
    "                    train_data,\n",
    "                    valid_sets=test_data,\n",
    "                    num_boost_round=5000,\n",
    "                    early_stopping_rounds=100)\n",
    "\n",
    "\n",
    "  submission = eval_data\n",
    "  ids = submission.index.values\n",
    "  #submission.drop('id', inplace=True, axis=1)\n",
    "\n",
    "\n",
    "  x = submission.values\n",
    "  y = model.predict(x)\n",
    "\n",
    "  output = pd.DataFrame({'id': ids, 'target': y})\n",
    "  output.to_csv(\"submission.csv\", index=False)\n",
    "\n",
    "  prediccion = model.predict(y)\n",
    "\n",
    "  #ids = eval_data['Opportunity_ID'].values\n",
    "  #output = pd.DataFrame({'Opportunity_ID': ids, 'target': y})\n",
    "  return prediccion"
   ]
  },
  {
   "cell_type": "code",
   "execution_count": null,
   "metadata": {
    "colab": {
     "base_uri": "https://localhost:8080/",
     "height": 1000
    },
    "id": "2UVA9vOQjN2o",
    "outputId": "45462fea-fc78-4dbe-8fef-221712ae8500"
   },
   "outputs": [],
   "source": [
    "listaDeCategoricas = ['Region','Territory','Product_Type','Product_Category_B','Account_Type','Delivery_Quarter','Billing_Country']\n",
    "res = lightGBM(agrupacionEntrenamiento,entrenamientoResultado,listaDeCategoricas,agrupacionTesteo)\n",
    "res"
   ]
  },
  {
   "cell_type": "code",
   "execution_count": null,
   "metadata": {
    "colab": {
     "base_uri": "https://localhost:8080/"
    },
    "id": "jbSKn0N3339Z",
    "outputId": "e6d7bff5-9331-4f9f-f4d9-e7b37838ba7d"
   },
   "outputs": [],
   "source": [
    "resultado = pd.Series(res)\n",
    "\n",
    "#ids = eval_data['Opportunity_ID'].values\n",
    "#resultado = pd.DataFrame({'Opportunity_ID': ids, 'target': resultado})\n",
    "#resultado = (resultado - 1) * (-1)#En las ultimas pruevas es el opuesto el que genera mejor resultado\n",
    "resultado"
   ]
  },
  {
   "cell_type": "code",
   "execution_count": null,
   "metadata": {
    "colab": {
     "base_uri": "https://localhost:8080/",
     "height": 238
    },
    "id": "oHGMiETH37st",
    "outputId": "286c2b34-01f4-4741-8427-1b80bc99ba23"
   },
   "outputs": [],
   "source": [
    "dataResultante = generarResultado(agrupacionTesteo,resultado)\n",
    "dataResultante.head()"
   ]
  },
  {
   "cell_type": "markdown",
   "metadata": {
    "id": "MgACrmv2aNIz"
   },
   "source": [
    "## Ramdom forest"
   ]
  },
  {
   "cell_type": "markdown",
   "metadata": {
    "id": "fUJPG4lVu_9K"
   },
   "source": [
    "### bayesiano"
   ]
  },
  {
   "cell_type": "code",
   "execution_count": null,
   "metadata": {
    "id": "6OrprTgvvB96"
   },
   "outputs": [],
   "source": [
    "#Bayesian optimization\n",
    "def bayesian_optimization(dataset, function, parameters):\n",
    "   X_train, y_train, X_test, y_test = dataset\n",
    "   n_iterations = 10\n",
    "   gp_params = {\"alpha\": 1e-4}\n",
    "\n",
    "   BO = BayesianOptimization(function, parameters)\n",
    "   BO.maximize(n_iter=n_iterations, **gp_params)\n",
    "\n",
    "   return BO.max\n",
    "\n",
    "def rfc_optimization(cv_splits):\n",
    "    def function(n_estimators, oob_score, min_samples_split):\n",
    "        desacerse = ['Planned_Delivery_End_Date_anio','Planned_Delivery_End_Date_mes','Planned_Delivery_End_Date_dia','Last_Modified_Date_dia']\n",
    "        X_train = agrupacionEntrenamientoXGB.drop(desacerse,axis=1)\n",
    "        y_train = entrenamientoResultado\n",
    "        return cross_val_score(\n",
    "               RandomForestClassifier(\n",
    "                   n_estimators=int(max(n_estimators,0)),\n",
    "                   #max_depth=int(max(max_depth,1)),\n",
    "                   min_samples_split=int(max(min_samples_split,2)),\n",
    "                   n_jobs=-1,\n",
    "                   #random_state=42,\n",
    "                   oob_score=(max(oob_score,1)),\n",
    "                   bootstrap=True,\n",
    "                   #class_weight=\"balanced\"\n",
    "                   max_features='sqrt'\n",
    "                  ),\n",
    "               X=X_train, \n",
    "               y=y_train, \n",
    "               cv=cv_splits,\n",
    "               scoring=\"roc_auc\",\n",
    "               n_jobs=-1).mean()\n",
    "\n",
    "    parameters = {\"n_estimators\": (200, 1000),\n",
    "                  \"oob_score\": (5, 30),\n",
    "                  \"min_samples_split\": (2, 10)}\n",
    "    \n",
    "    return function, parameters\n",
    "\n",
    "#Train model\n",
    "def ramdomForestBayesiano(X_train, y_train, X_test, y_test):\n",
    "    dataset = (X_train, y_train, X_test, y_test)\n",
    "    cv_splits = 4\n",
    "\n",
    "    function, parameters = rfc_optimization(cv_splits)\n",
    "    \n",
    "    best_solution = bayesian_optimization(dataset, function, parameters)      \n",
    "    params = best_solution[\"params\"]\n",
    "\n",
    "    model = RandomForestClassifier(\n",
    "             n_estimators=int(max(params[\"n_estimators\"], 0)),\n",
    "             #max_depth=int(max(params[\"max_depth\"], 1)),\n",
    "             oob_score=(max('oob_score',1)),\n",
    "             min_samples_split=int(max(params[\"min_samples_split\"], 2)), \n",
    "             n_jobs=-1, \n",
    "             random_state=42,   \n",
    "             class_weight=\"balanced\")\n",
    "\n",
    "    model.fit(X_train, y_train)\n",
    "    predictions = model.predict_proba(X_test)\n",
    "    return predictions"
   ]
  },
  {
   "cell_type": "code",
   "execution_count": null,
   "metadata": {
    "colab": {
     "base_uri": "https://localhost:8080/",
     "height": 686
    },
    "id": "ECcWjKEuy13F",
    "outputId": "a3e46afb-2cb3-46f9-961c-685467092e71"
   },
   "outputs": [],
   "source": [
    "#Uso los mismos valores de XGB para las variables categoricas ya que no las soporta\n",
    "desacerse = ['Planned_Delivery_End_Date_anio','Planned_Delivery_End_Date_mes','Planned_Delivery_End_Date_dia','Last_Modified_Date_dia']\n",
    "res = ramdomForestBayesiano(agrupacionEntrenamientoXGB.drop(desacerse,axis=1),\n",
    "                            entrenamientoResultado,\n",
    "                            agrupacionTesteoXGB.drop(desacerse,axis=1),\n",
    "                            supuestos[['TargetBinario']])\n",
    "res"
   ]
  },
  {
   "cell_type": "markdown",
   "metadata": {
    "id": "h3pm9ZR5u-VS"
   },
   "source": [
    "### prediccion"
   ]
  },
  {
   "cell_type": "code",
   "execution_count": null,
   "metadata": {
    "id": "YlUrE3BRaQQL"
   },
   "outputs": [],
   "source": [
    "def ramdomForest(train_data,train_labels,eval_data):\n",
    "  # Crear el modelo\n",
    "  #Si no se le coloca un valor de max depth lo toma por min_samples_leaf a la creacion de hojas\n",
    "  model = RandomForestClassifier(n_estimators=1000,\n",
    "                                 #max_features=5,\n",
    "                                 min_samples_leaf=9,\n",
    "                                 oob_score=9,#7\n",
    "                                 bootstrap=True,\n",
    "                                 verbose=0,\n",
    "                                 #max_leaf_nodes=20,\n",
    "                                 #min_weight_fraction_leaf=0.01,\n",
    "                                 max_features=7#7\n",
    "                                 )\n",
    "  #parametros importantes\n",
    "  #  n_estimators: será la cantidad de árboles que generaremos.\n",
    "  #  max_features: la manera de seleccionar la cantidad máxima de features para cada árbol.\n",
    "  #  min_sample_leaf: número mínimo de elementos en las hojas para permitir un nuevo split (división) del nodo.\n",
    "  #  oob_score: es un método que emula el cross-validation en árboles y permite mejorar la precisión y evitar overfitting.\n",
    "  #  boostrap: para utilizar diversos tamaños de muestras para entrenar. Si se pone en falso, utilizará siempre el dataset completo.\n",
    "  #  n_jobs: si tienes multiples cores en tu CPU, puedes indicar cuantos puede usar el modelo al entrenar para acelerar el entrenamiento.\n",
    "  # a entrenar!\n",
    "  model.fit(train_data, train_labels)\n",
    "  predictions = model.predict_proba(eval_data)\n",
    "  return predictions\n",
    "  "
   ]
  },
  {
   "cell_type": "code",
   "execution_count": null,
   "metadata": {
    "colab": {
     "base_uri": "https://localhost:8080/"
    },
    "id": "hTbwSHLIHgCw",
    "outputId": "37e5a2a2-8005-41a7-9b69-6275a57b4242"
   },
   "outputs": [],
   "source": [
    "#Uso los mismos valores de XGB para las variables categoricas ya que no las soporta\n",
    "desacerse = ['Planned_Delivery_End_Date_anio','Planned_Delivery_End_Date_mes','Planned_Delivery_End_Date_dia','Last_Modified_Date_dia']\n",
    "agrupacionEntrenamientoRF = agrupacionEntrenamientoXGB.drop(desacerse,axis=1)\n",
    "agrupacionTesteoRF = agrupacionTesteoXGB.drop(desacerse,axis=1)\n",
    "#agrupacionTesteoRF = agrupacionTesteoXGB.drop(['Target'],axis=1)\n",
    "print(len(agrupacionEntrenamientoRF.columns) - len(agrupacionTesteoRF.columns))"
   ]
  },
  {
   "cell_type": "code",
   "execution_count": 58,
   "metadata": {
    "colab": {
     "base_uri": "https://localhost:8080/"
    },
    "id": "bTRkXyDHt6XU",
    "outputId": "08a3c27a-ccb4-477d-81d4-e24e6f13f740"
   },
   "outputs": [
    {
     "ename": "NameError",
     "evalue": "name 'ramdomForest' is not defined",
     "output_type": "error",
     "traceback": [
      "\u001b[0;31m---------------------------------------------------------------------------\u001b[0m",
      "\u001b[0;31mNameError\u001b[0m                                 Traceback (most recent call last)",
      "\u001b[0;32m<ipython-input-58-13fc2e5d2686>\u001b[0m in \u001b[0;36m<module>\u001b[0;34m\u001b[0m\n\u001b[0;32m----> 1\u001b[0;31m res = ramdomForest(agrupacionEntrenamientoRF,\n\u001b[0m\u001b[1;32m      2\u001b[0m                    \u001b[0mentrenamientoResultado\u001b[0m\u001b[0;34m,\u001b[0m\u001b[0;34m\u001b[0m\u001b[0;34m\u001b[0m\u001b[0m\n\u001b[1;32m      3\u001b[0m                    agrupacionTesteoRF)\n\u001b[1;32m      4\u001b[0m \u001b[0mres\u001b[0m\u001b[0;34m\u001b[0m\u001b[0;34m\u001b[0m\u001b[0m\n",
      "\u001b[0;31mNameError\u001b[0m: name 'ramdomForest' is not defined"
     ]
    }
   ],
   "source": [
    "\n",
    "res = ramdomForest(agrupacionEntrenamientoRF,\n",
    "                   entrenamientoResultado,\n",
    "                   agrupacionTesteoRF)\n",
    "res"
   ]
  },
  {
   "cell_type": "code",
   "execution_count": null,
   "metadata": {
    "colab": {
     "base_uri": "https://localhost:8080/"
    },
    "id": "CB1dArfLt6aS",
    "outputId": "e1a6044d-ff2d-422a-ba27-6614829d2b09"
   },
   "outputs": [],
   "source": [
    "resultado = auxiliarUnificarValor(res)\n",
    "resultado = (resultado - 1) * (-1)#En las ultimas pruevas es el opuesto el que genera mejor resultado\n",
    "resultado"
   ]
  },
  {
   "cell_type": "code",
   "execution_count": null,
   "metadata": {
    "colab": {
     "base_uri": "https://localhost:8080/",
     "height": 238
    },
    "id": "xrH7YJ87t8QJ",
    "outputId": "e4289985-eff4-4cb3-94e0-692935ca4a9d",
    "scrolled": true
   },
   "outputs": [],
   "source": [
    "dataResultante = generarResultado(agrupacionTesteo,resultado)\n",
    "dataResultante.head()"
   ]
  },
  {
   "cell_type": "markdown",
   "metadata": {},
   "source": [
    "## Perceptron"
   ]
  },
  {
   "cell_type": "code",
   "execution_count": 55,
   "metadata": {},
   "outputs": [],
   "source": [
    "from sklearn.linear_model import Perceptron"
   ]
  },
  {
   "cell_type": "code",
   "execution_count": 95,
   "metadata": {},
   "outputs": [
    {
     "ename": "NameError",
     "evalue": "name 'cat_features' is not defined",
     "output_type": "error",
     "traceback": [
      "\u001b[0;31m---------------------------------------------------------------------------\u001b[0m",
      "\u001b[0;31mNameError\u001b[0m                                 Traceback (most recent call last)",
      "\u001b[0;32m<ipython-input-95-0846c2378d5f>\u001b[0m in \u001b[0;36m<module>\u001b[0;34m\u001b[0m\n\u001b[0;32m----> 1\u001b[0;31m \u001b[0;32mfor\u001b[0m \u001b[0mheader\u001b[0m \u001b[0;32min\u001b[0m \u001b[0mcat_features\u001b[0m\u001b[0;34m:\u001b[0m\u001b[0;34m\u001b[0m\u001b[0;34m\u001b[0m\u001b[0m\n\u001b[0m\u001b[1;32m      2\u001b[0m     \u001b[0magrupacionEntrenamiento\u001b[0m\u001b[0;34m[\u001b[0m\u001b[0mheader\u001b[0m\u001b[0;34m]\u001b[0m \u001b[0;34m=\u001b[0m \u001b[0magrupacionEntrenamiento\u001b[0m\u001b[0;34m[\u001b[0m\u001b[0mheader\u001b[0m\u001b[0;34m]\u001b[0m\u001b[0;34m.\u001b[0m\u001b[0mastype\u001b[0m\u001b[0;34m(\u001b[0m\u001b[0;34m'category'\u001b[0m\u001b[0;34m)\u001b[0m\u001b[0;34m.\u001b[0m\u001b[0mcat\u001b[0m\u001b[0;34m.\u001b[0m\u001b[0mcodes\u001b[0m\u001b[0;34m\u001b[0m\u001b[0;34m\u001b[0m\u001b[0m\n",
      "\u001b[0;31mNameError\u001b[0m: name 'cat_features' is not defined"
     ]
    }
   ],
   "source": [
    "for header in cat_features:\n",
    "    agrupacionEntrenamiento[header] = agrupacionEntrenamiento[header].astype('category').cat.codes"
   ]
  },
  {
   "cell_type": "code",
   "execution_count": 118,
   "metadata": {},
   "outputs": [],
   "source": [
    "def perceptron(train_set, train_label, listaDeCategoricas, test_set):\n",
    "  perceptron_mod = Perceptron(tol=1e-3, random_state=0)\n",
    "  for header in listaDeCategoricas:\n",
    "    train_set[header] = train_set[header].astype('category').cat.codes\n",
    "  \n",
    "  for header in listaDeCategoricas:\n",
    "    test_set[header] = test_set[header].astype('category').cat.codes\n",
    "  perceptron_mod.fit(train_set, train_label)\n",
    "    \n",
    "  predicts = perceptron_mod.predict(test_set)\n",
    "  return predicts"
   ]
  },
  {
   "cell_type": "code",
   "execution_count": 116,
   "metadata": {},
   "outputs": [
    {
     "ename": "KeyError",
     "evalue": "\"['Planned_Delivery_End_Date_anio' 'Planned_Delivery_End_Date_mes'\\n 'Planned_Delivery_End_Date_dia' 'Last_Modified_Date_dia'] not found in axis\"",
     "output_type": "error",
     "traceback": [
      "\u001b[0;31m---------------------------------------------------------------------------\u001b[0m",
      "\u001b[0;31mKeyError\u001b[0m                                  Traceback (most recent call last)",
      "\u001b[0;32m<ipython-input-116-77d0ebf55b75>\u001b[0m in \u001b[0;36m<module>\u001b[0;34m\u001b[0m\n\u001b[1;32m      1\u001b[0m \u001b[0mdesacerse\u001b[0m \u001b[0;34m=\u001b[0m \u001b[0;34m[\u001b[0m\u001b[0;34m'Planned_Delivery_End_Date_anio'\u001b[0m\u001b[0;34m,\u001b[0m\u001b[0;34m'Planned_Delivery_End_Date_mes'\u001b[0m\u001b[0;34m,\u001b[0m\u001b[0;34m'Planned_Delivery_End_Date_dia'\u001b[0m\u001b[0;34m,\u001b[0m\u001b[0;34m'Last_Modified_Date_dia'\u001b[0m\u001b[0;34m]\u001b[0m\u001b[0;34m\u001b[0m\u001b[0;34m\u001b[0m\u001b[0m\n\u001b[0;32m----> 2\u001b[0;31m \u001b[0magrupacionEntrenamiento\u001b[0m \u001b[0;34m=\u001b[0m \u001b[0magrupacionEntrenamiento\u001b[0m\u001b[0;34m.\u001b[0m\u001b[0mdrop\u001b[0m\u001b[0;34m(\u001b[0m\u001b[0mdesacerse\u001b[0m\u001b[0;34m,\u001b[0m\u001b[0maxis\u001b[0m\u001b[0;34m=\u001b[0m\u001b[0;36m1\u001b[0m\u001b[0;34m)\u001b[0m\u001b[0;34m\u001b[0m\u001b[0;34m\u001b[0m\u001b[0m\n\u001b[0m\u001b[1;32m      3\u001b[0m \u001b[0magrupacionTesteo\u001b[0m \u001b[0;34m=\u001b[0m \u001b[0magrupacionTesteo\u001b[0m\u001b[0;34m.\u001b[0m\u001b[0mdrop\u001b[0m\u001b[0;34m(\u001b[0m\u001b[0mdesacerse\u001b[0m\u001b[0;34m,\u001b[0m\u001b[0maxis\u001b[0m\u001b[0;34m=\u001b[0m\u001b[0;36m1\u001b[0m\u001b[0;34m)\u001b[0m\u001b[0;34m\u001b[0m\u001b[0;34m\u001b[0m\u001b[0m\n",
      "\u001b[0;32m/Library/Frameworks/Python.framework/Versions/3.9/lib/python3.9/site-packages/pandas/core/frame.py\u001b[0m in \u001b[0;36mdrop\u001b[0;34m(self, labels, axis, index, columns, level, inplace, errors)\u001b[0m\n\u001b[1;32m   4303\u001b[0m                 \u001b[0mweight\u001b[0m  \u001b[0;36m1.0\u001b[0m     \u001b[0;36m0.8\u001b[0m\u001b[0;34m\u001b[0m\u001b[0;34m\u001b[0m\u001b[0m\n\u001b[1;32m   4304\u001b[0m         \"\"\"\n\u001b[0;32m-> 4305\u001b[0;31m         return super().drop(\n\u001b[0m\u001b[1;32m   4306\u001b[0m             \u001b[0mlabels\u001b[0m\u001b[0;34m=\u001b[0m\u001b[0mlabels\u001b[0m\u001b[0;34m,\u001b[0m\u001b[0;34m\u001b[0m\u001b[0;34m\u001b[0m\u001b[0m\n\u001b[1;32m   4307\u001b[0m             \u001b[0maxis\u001b[0m\u001b[0;34m=\u001b[0m\u001b[0maxis\u001b[0m\u001b[0;34m,\u001b[0m\u001b[0;34m\u001b[0m\u001b[0;34m\u001b[0m\u001b[0m\n",
      "\u001b[0;32m/Library/Frameworks/Python.framework/Versions/3.9/lib/python3.9/site-packages/pandas/core/generic.py\u001b[0m in \u001b[0;36mdrop\u001b[0;34m(self, labels, axis, index, columns, level, inplace, errors)\u001b[0m\n\u001b[1;32m   4150\u001b[0m         \u001b[0;32mfor\u001b[0m \u001b[0maxis\u001b[0m\u001b[0;34m,\u001b[0m \u001b[0mlabels\u001b[0m \u001b[0;32min\u001b[0m \u001b[0maxes\u001b[0m\u001b[0;34m.\u001b[0m\u001b[0mitems\u001b[0m\u001b[0;34m(\u001b[0m\u001b[0;34m)\u001b[0m\u001b[0;34m:\u001b[0m\u001b[0;34m\u001b[0m\u001b[0;34m\u001b[0m\u001b[0m\n\u001b[1;32m   4151\u001b[0m             \u001b[0;32mif\u001b[0m \u001b[0mlabels\u001b[0m \u001b[0;32mis\u001b[0m \u001b[0;32mnot\u001b[0m \u001b[0;32mNone\u001b[0m\u001b[0;34m:\u001b[0m\u001b[0;34m\u001b[0m\u001b[0;34m\u001b[0m\u001b[0m\n\u001b[0;32m-> 4152\u001b[0;31m                 \u001b[0mobj\u001b[0m \u001b[0;34m=\u001b[0m \u001b[0mobj\u001b[0m\u001b[0;34m.\u001b[0m\u001b[0m_drop_axis\u001b[0m\u001b[0;34m(\u001b[0m\u001b[0mlabels\u001b[0m\u001b[0;34m,\u001b[0m \u001b[0maxis\u001b[0m\u001b[0;34m,\u001b[0m \u001b[0mlevel\u001b[0m\u001b[0;34m=\u001b[0m\u001b[0mlevel\u001b[0m\u001b[0;34m,\u001b[0m \u001b[0merrors\u001b[0m\u001b[0;34m=\u001b[0m\u001b[0merrors\u001b[0m\u001b[0;34m)\u001b[0m\u001b[0;34m\u001b[0m\u001b[0;34m\u001b[0m\u001b[0m\n\u001b[0m\u001b[1;32m   4153\u001b[0m \u001b[0;34m\u001b[0m\u001b[0m\n\u001b[1;32m   4154\u001b[0m         \u001b[0;32mif\u001b[0m \u001b[0minplace\u001b[0m\u001b[0;34m:\u001b[0m\u001b[0;34m\u001b[0m\u001b[0;34m\u001b[0m\u001b[0m\n",
      "\u001b[0;32m/Library/Frameworks/Python.framework/Versions/3.9/lib/python3.9/site-packages/pandas/core/generic.py\u001b[0m in \u001b[0;36m_drop_axis\u001b[0;34m(self, labels, axis, level, errors)\u001b[0m\n\u001b[1;32m   4185\u001b[0m                 \u001b[0mnew_axis\u001b[0m \u001b[0;34m=\u001b[0m \u001b[0maxis\u001b[0m\u001b[0;34m.\u001b[0m\u001b[0mdrop\u001b[0m\u001b[0;34m(\u001b[0m\u001b[0mlabels\u001b[0m\u001b[0;34m,\u001b[0m \u001b[0mlevel\u001b[0m\u001b[0;34m=\u001b[0m\u001b[0mlevel\u001b[0m\u001b[0;34m,\u001b[0m \u001b[0merrors\u001b[0m\u001b[0;34m=\u001b[0m\u001b[0merrors\u001b[0m\u001b[0;34m)\u001b[0m\u001b[0;34m\u001b[0m\u001b[0;34m\u001b[0m\u001b[0m\n\u001b[1;32m   4186\u001b[0m             \u001b[0;32melse\u001b[0m\u001b[0;34m:\u001b[0m\u001b[0;34m\u001b[0m\u001b[0;34m\u001b[0m\u001b[0m\n\u001b[0;32m-> 4187\u001b[0;31m                 \u001b[0mnew_axis\u001b[0m \u001b[0;34m=\u001b[0m \u001b[0maxis\u001b[0m\u001b[0;34m.\u001b[0m\u001b[0mdrop\u001b[0m\u001b[0;34m(\u001b[0m\u001b[0mlabels\u001b[0m\u001b[0;34m,\u001b[0m \u001b[0merrors\u001b[0m\u001b[0;34m=\u001b[0m\u001b[0merrors\u001b[0m\u001b[0;34m)\u001b[0m\u001b[0;34m\u001b[0m\u001b[0;34m\u001b[0m\u001b[0m\n\u001b[0m\u001b[1;32m   4188\u001b[0m             \u001b[0mresult\u001b[0m \u001b[0;34m=\u001b[0m \u001b[0mself\u001b[0m\u001b[0;34m.\u001b[0m\u001b[0mreindex\u001b[0m\u001b[0;34m(\u001b[0m\u001b[0;34m**\u001b[0m\u001b[0;34m{\u001b[0m\u001b[0maxis_name\u001b[0m\u001b[0;34m:\u001b[0m \u001b[0mnew_axis\u001b[0m\u001b[0;34m}\u001b[0m\u001b[0;34m)\u001b[0m\u001b[0;34m\u001b[0m\u001b[0;34m\u001b[0m\u001b[0m\n\u001b[1;32m   4189\u001b[0m \u001b[0;34m\u001b[0m\u001b[0m\n",
      "\u001b[0;32m/Library/Frameworks/Python.framework/Versions/3.9/lib/python3.9/site-packages/pandas/core/indexes/base.py\u001b[0m in \u001b[0;36mdrop\u001b[0;34m(self, labels, errors)\u001b[0m\n\u001b[1;32m   5589\u001b[0m         \u001b[0;32mif\u001b[0m \u001b[0mmask\u001b[0m\u001b[0;34m.\u001b[0m\u001b[0many\u001b[0m\u001b[0;34m(\u001b[0m\u001b[0;34m)\u001b[0m\u001b[0;34m:\u001b[0m\u001b[0;34m\u001b[0m\u001b[0;34m\u001b[0m\u001b[0m\n\u001b[1;32m   5590\u001b[0m             \u001b[0;32mif\u001b[0m \u001b[0merrors\u001b[0m \u001b[0;34m!=\u001b[0m \u001b[0;34m\"ignore\"\u001b[0m\u001b[0;34m:\u001b[0m\u001b[0;34m\u001b[0m\u001b[0;34m\u001b[0m\u001b[0m\n\u001b[0;32m-> 5591\u001b[0;31m                 \u001b[0;32mraise\u001b[0m \u001b[0mKeyError\u001b[0m\u001b[0;34m(\u001b[0m\u001b[0;34mf\"{labels[mask]} not found in axis\"\u001b[0m\u001b[0;34m)\u001b[0m\u001b[0;34m\u001b[0m\u001b[0;34m\u001b[0m\u001b[0m\n\u001b[0m\u001b[1;32m   5592\u001b[0m             \u001b[0mindexer\u001b[0m \u001b[0;34m=\u001b[0m \u001b[0mindexer\u001b[0m\u001b[0;34m[\u001b[0m\u001b[0;34m~\u001b[0m\u001b[0mmask\u001b[0m\u001b[0;34m]\u001b[0m\u001b[0;34m\u001b[0m\u001b[0;34m\u001b[0m\u001b[0m\n\u001b[1;32m   5593\u001b[0m         \u001b[0;32mreturn\u001b[0m \u001b[0mself\u001b[0m\u001b[0;34m.\u001b[0m\u001b[0mdelete\u001b[0m\u001b[0;34m(\u001b[0m\u001b[0mindexer\u001b[0m\u001b[0;34m)\u001b[0m\u001b[0;34m\u001b[0m\u001b[0;34m\u001b[0m\u001b[0m\n",
      "\u001b[0;31mKeyError\u001b[0m: \"['Planned_Delivery_End_Date_anio' 'Planned_Delivery_End_Date_mes'\\n 'Planned_Delivery_End_Date_dia' 'Last_Modified_Date_dia'] not found in axis\""
     ]
    }
   ],
   "source": [
    "desacerse = ['Planned_Delivery_End_Date_anio','Planned_Delivery_End_Date_mes','Planned_Delivery_End_Date_dia','Last_Modified_Date_dia']\n",
    "agrupacionEntrenamiento = agrupacionEntrenamiento.drop(desacerse,axis=1)\n",
    "agrupacionTesteo = agrupacionTesteo.drop(desacerse,axis=1)"
   ]
  },
  {
   "cell_type": "code",
   "execution_count": 123,
   "metadata": {},
   "outputs": [
    {
     "data": {
      "text/plain": [
       "array([0, 0, 1, ..., 1, 1, 1])"
      ]
     },
     "execution_count": 123,
     "metadata": {},
     "output_type": "execute_result"
    }
   ],
   "source": [
    "#entrenamientoResultado = entrenamientoResultado['Won'].values\n",
    "#entrenamientoResultado\n",
    "#agrupacionEntrenamiento\n",
    "\n",
    "listaDeCategoricas = ['Region',\n",
    "                      'Territory', \n",
    "                      'Product_Family', \n",
    "                      'Delivery_Terms', \n",
    "                      'Product_Type',\n",
    "                      'Product_Category_B',\n",
    "                      'Account_Type',\n",
    "                      'Delivery_Quarter',\n",
    "                      'Billing_Country',\n",
    "                      'ASP_(converted)_Currency']\n",
    "resPerceptron = perceptron(agrupacionEntrenamiento, entrenamientoResultado, listaDeCategoricas, agrupacionTesteo)\n",
    "resPerceptron\n"
   ]
  },
  {
   "cell_type": "code",
   "execution_count": 125,
   "metadata": {},
   "outputs": [
    {
     "data": {
      "text/html": [
       "<div>\n",
       "<style scoped>\n",
       "    .dataframe tbody tr th:only-of-type {\n",
       "        vertical-align: middle;\n",
       "    }\n",
       "\n",
       "    .dataframe tbody tr th {\n",
       "        vertical-align: top;\n",
       "    }\n",
       "\n",
       "    .dataframe thead th {\n",
       "        text-align: right;\n",
       "    }\n",
       "</style>\n",
       "<table border=\"1\" class=\"dataframe\">\n",
       "  <thead>\n",
       "    <tr style=\"text-align: right;\">\n",
       "      <th></th>\n",
       "      <th>Target</th>\n",
       "    </tr>\n",
       "    <tr>\n",
       "      <th>Opportunity_ID</th>\n",
       "      <th></th>\n",
       "    </tr>\n",
       "  </thead>\n",
       "  <tbody>\n",
       "    <tr>\n",
       "      <th>10689</th>\n",
       "      <td>0</td>\n",
       "    </tr>\n",
       "    <tr>\n",
       "      <th>10690</th>\n",
       "      <td>0</td>\n",
       "    </tr>\n",
       "    <tr>\n",
       "      <th>10691</th>\n",
       "      <td>1</td>\n",
       "    </tr>\n",
       "    <tr>\n",
       "      <th>10692</th>\n",
       "      <td>0</td>\n",
       "    </tr>\n",
       "    <tr>\n",
       "      <th>10693</th>\n",
       "      <td>1</td>\n",
       "    </tr>\n",
       "  </tbody>\n",
       "</table>\n",
       "</div>"
      ],
      "text/plain": [
       "                Target\n",
       "Opportunity_ID        \n",
       "10689                0\n",
       "10690                0\n",
       "10691                1\n",
       "10692                0\n",
       "10693                1"
      ]
     },
     "execution_count": 125,
     "metadata": {},
     "output_type": "execute_result"
    }
   ],
   "source": [
    "dataResultante = generarResultado(agrupacionTesteo,resPerceptron)\n",
    "dataResultante.head()"
   ]
  }
 ],
 "metadata": {
  "colab": {
   "collapsed_sections": [
    "5NvRrhUOrEpv",
    "xKefRXXOFaXI",
    "9ewHMS-ygNPS",
    "O5HEIBMXmxps",
    "lP_c0s_PgPKn",
    "YjCt76D_rHMn",
    "GJYpToCYrfnk",
    "hyRdoRPf5wSN",
    "knmx6tPo01QZ",
    "q8JeolJN08kJ",
    "1xfzMbqiZrue",
    "MtY8vcczJZDx",
    "zVBNOzCKY0VD",
    "J983upopKwQx",
    "I-rXEcxr-Nns",
    "eXu5RWvjWtP-",
    "onKsrVr1lwas",
    "baxdAoAzfwxz",
    "fUJPG4lVu_9K"
   ],
   "name": "TP2 2c 2020.ipynb",
   "provenance": [],
   "toc_visible": true
  },
  "kernelspec": {
   "display_name": "Python 3",
   "language": "python",
   "name": "python3"
  },
  "language_info": {
   "codemirror_mode": {
    "name": "ipython",
    "version": 3
   },
   "file_extension": ".py",
   "mimetype": "text/x-python",
   "name": "python",
   "nbconvert_exporter": "python",
   "pygments_lexer": "ipython3",
   "version": "3.9.0"
  }
 },
 "nbformat": 4,
 "nbformat_minor": 1
}
