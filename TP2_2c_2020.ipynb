{
 "cells": [
  {
   "cell_type": "markdown",
   "metadata": {
    "id": "LaZMud-2rKuY"
   },
   "source": [
    "# TP 2"
   ]
  },
  {
   "cell_type": "markdown",
   "metadata": {
    "id": "xKefRXXOFaXI"
   },
   "source": [
    "# Imports\n",
    "\n",
    "## imports base"
   ]
  },
  {
   "cell_type": "code",
   "execution_count": 1,
   "metadata": {
    "id": "ksz2M8HorAfb"
   },
   "outputs": [],
   "source": [
    "import pandas as pd\n",
    "import numpy as np\n",
    "import matplotlib.pyplot as plt\n",
    "import seaborn as sns\n",
    "import plotly.graph_objects as go\n",
    "import matplotlib\n",
    "import plotly as py\n",
    "import plotly.express as px \n",
    "import matplotlib.ticker as ticker\n",
    "plt.style.use('default')\n",
    "import plotly.offline as opy\n",
    "import plotly.figure_factory as ff\n",
    "import plotly.io as pio\n",
    "from wordcloud import WordCloud\n",
    "from datetime import datetime\n",
    "from datetime import timedelta\n",
    "\n",
    "import math\n",
    "\n",
    "sns.set(style=\"whitegrid\")\n",
    "\n",
    "pd.options.display.float_format = '{:20,.2f}'.format \n",
    "\n",
    "import warnings\n",
    "warnings.filterwarnings('ignore')"
   ]
  },
  {
   "cell_type": "code",
   "execution_count": 2,
   "metadata": {
    "id": "FXsLMcASl6Nj"
   },
   "outputs": [],
   "source": [
    "from sklearn.datasets import make_classification\n",
    "from sklearn.model_selection import cross_val_score\n",
    "from sklearn.model_selection import RepeatedStratifiedKFold\n",
    "\n",
    "from sklearn.preprocessing import LabelEncoder\n",
    "from sklearn.metrics import make_scorer, accuracy_score\n",
    "from sklearn.model_selection import train_test_split, GridSearchCV\n",
    "\n",
    "from sklearn.preprocessing import LabelBinarizer\n",
    "from sklearn.preprocessing import OneHotEncoder\n",
    "from sklearn.preprocessing import MultiLabelBinarizer\n",
    "\n",
    "from sklearn.metrics import log_loss"
   ]
  },
  {
   "cell_type": "code",
   "execution_count": 3,
   "metadata": {
    "id": "hnkHcErvPxSA"
   },
   "outputs": [
    {
     "name": "stdout",
     "output_type": "stream",
     "text": [
      "Requirement already satisfied: category_encoders in /Library/Frameworks/Python.framework/Versions/3.9/lib/python3.9/site-packages (2.2.2)\n",
      "Requirement already satisfied: numpy>=1.14.0 in /Library/Frameworks/Python.framework/Versions/3.9/lib/python3.9/site-packages (from category_encoders) (1.20.1)\n",
      "Requirement already satisfied: statsmodels>=0.9.0 in /Library/Frameworks/Python.framework/Versions/3.9/lib/python3.9/site-packages (from category_encoders) (0.12.2)\n",
      "Requirement already satisfied: patsy>=0.5.1 in /Library/Frameworks/Python.framework/Versions/3.9/lib/python3.9/site-packages (from category_encoders) (0.5.1)\n",
      "Requirement already satisfied: scikit-learn>=0.20.0 in /Library/Frameworks/Python.framework/Versions/3.9/lib/python3.9/site-packages (from category_encoders) (0.24.1)\n",
      "Requirement already satisfied: scipy>=1.0.0 in /Library/Frameworks/Python.framework/Versions/3.9/lib/python3.9/site-packages (from category_encoders) (1.6.0)\n",
      "Requirement already satisfied: pandas>=0.21.1 in /Library/Frameworks/Python.framework/Versions/3.9/lib/python3.9/site-packages (from category_encoders) (1.2.2)\n",
      "Requirement already satisfied: six in /Library/Frameworks/Python.framework/Versions/3.9/lib/python3.9/site-packages (from patsy>=0.5.1->category_encoders) (1.15.0)\n",
      "Requirement already satisfied: joblib>=0.11 in /Library/Frameworks/Python.framework/Versions/3.9/lib/python3.9/site-packages (from scikit-learn>=0.20.0->category_encoders) (1.0.1)\n",
      "Requirement already satisfied: threadpoolctl>=2.0.0 in /Library/Frameworks/Python.framework/Versions/3.9/lib/python3.9/site-packages (from scikit-learn>=0.20.0->category_encoders) (2.1.0)\n",
      "Requirement already satisfied: pytz>=2017.3 in /Library/Frameworks/Python.framework/Versions/3.9/lib/python3.9/site-packages (from pandas>=0.21.1->category_encoders) (2021.1)\n",
      "Requirement already satisfied: python-dateutil>=2.7.3 in /Library/Frameworks/Python.framework/Versions/3.9/lib/python3.9/site-packages (from pandas>=0.21.1->category_encoders) (2.8.1)\n",
      "\u001b[33mWARNING: You are using pip version 20.2.3; however, version 21.0.1 is available.\n",
      "You should consider upgrading via the '/Library/Frameworks/Python.framework/Versions/3.9/bin/python3.9 -m pip install --upgrade pip' command.\u001b[0m\n"
     ]
    }
   ],
   "source": [
    "!pip3 install category_encoders\n",
    "\n",
    "import category_encoders as ce"
   ]
  },
  {
   "cell_type": "code",
   "execution_count": 4,
   "metadata": {
    "id": "7M6WrwvaWVeP"
   },
   "outputs": [
    {
     "name": "stdout",
     "output_type": "stream",
     "text": [
      "Requirement already satisfied: bayesian-optimization in /Library/Frameworks/Python.framework/Versions/3.9/lib/python3.9/site-packages (1.2.0)\n",
      "Requirement already satisfied: numpy>=1.9.0 in /Library/Frameworks/Python.framework/Versions/3.9/lib/python3.9/site-packages (from bayesian-optimization) (1.20.1)\n",
      "Requirement already satisfied: scipy>=0.14.0 in /Library/Frameworks/Python.framework/Versions/3.9/lib/python3.9/site-packages (from bayesian-optimization) (1.6.0)\n",
      "Requirement already satisfied: scikit-learn>=0.18.0 in /Library/Frameworks/Python.framework/Versions/3.9/lib/python3.9/site-packages (from bayesian-optimization) (0.24.1)\n",
      "Requirement already satisfied: joblib>=0.11 in /Library/Frameworks/Python.framework/Versions/3.9/lib/python3.9/site-packages (from scikit-learn>=0.18.0->bayesian-optimization) (1.0.1)\n",
      "Requirement already satisfied: threadpoolctl>=2.0.0 in /Library/Frameworks/Python.framework/Versions/3.9/lib/python3.9/site-packages (from scikit-learn>=0.18.0->bayesian-optimization) (2.1.0)\n",
      "\u001b[33mWARNING: You are using pip version 20.2.3; however, version 21.0.1 is available.\n",
      "You should consider upgrading via the '/Library/Frameworks/Python.framework/Versions/3.9/bin/python3.9 -m pip install --upgrade pip' command.\u001b[0m\n"
     ]
    }
   ],
   "source": [
    "!pip3 install bayesian-optimization\n",
    "\n",
    "from bayes_opt import BayesianOptimization"
   ]
  },
  {
   "cell_type": "markdown",
   "metadata": {
    "id": "9ewHMS-ygNPS"
   },
   "source": [
    "### Catboost"
   ]
  },
  {
   "cell_type": "code",
   "execution_count": 5,
   "metadata": {
    "id": "g-eobQ2dKOwu"
   },
   "outputs": [
    {
     "name": "stdout",
     "output_type": "stream",
     "text": [
      "Requirement already satisfied: catboost in /Library/Frameworks/Python.framework/Versions/3.9/lib/python3.9/site-packages (0.24.4)\n",
      "Requirement already satisfied: plotly in /Library/Frameworks/Python.framework/Versions/3.9/lib/python3.9/site-packages (from catboost) (4.14.3)\n",
      "Requirement already satisfied: numpy>=1.16.0 in /Library/Frameworks/Python.framework/Versions/3.9/lib/python3.9/site-packages (from catboost) (1.20.1)\n",
      "Requirement already satisfied: graphviz in /Library/Frameworks/Python.framework/Versions/3.9/lib/python3.9/site-packages (from catboost) (0.16)\n",
      "Requirement already satisfied: six in /Library/Frameworks/Python.framework/Versions/3.9/lib/python3.9/site-packages (from catboost) (1.15.0)\n",
      "Requirement already satisfied: pandas>=0.24.0 in /Library/Frameworks/Python.framework/Versions/3.9/lib/python3.9/site-packages (from catboost) (1.2.2)\n",
      "Requirement already satisfied: scipy in /Library/Frameworks/Python.framework/Versions/3.9/lib/python3.9/site-packages (from catboost) (1.6.0)\n",
      "Requirement already satisfied: matplotlib in /Library/Frameworks/Python.framework/Versions/3.9/lib/python3.9/site-packages (from catboost) (3.3.4)\n",
      "Requirement already satisfied: retrying>=1.3.3 in /Library/Frameworks/Python.framework/Versions/3.9/lib/python3.9/site-packages (from plotly->catboost) (1.3.3)\n",
      "Requirement already satisfied: python-dateutil>=2.7.3 in /Library/Frameworks/Python.framework/Versions/3.9/lib/python3.9/site-packages (from pandas>=0.24.0->catboost) (2.8.1)\n",
      "Requirement already satisfied: pytz>=2017.3 in /Library/Frameworks/Python.framework/Versions/3.9/lib/python3.9/site-packages (from pandas>=0.24.0->catboost) (2021.1)\n",
      "Requirement already satisfied: pyparsing!=2.0.4,!=2.1.2,!=2.1.6,>=2.0.3 in /Library/Frameworks/Python.framework/Versions/3.9/lib/python3.9/site-packages (from matplotlib->catboost) (2.4.7)\n",
      "Requirement already satisfied: kiwisolver>=1.0.1 in /Library/Frameworks/Python.framework/Versions/3.9/lib/python3.9/site-packages (from matplotlib->catboost) (1.3.1)\n",
      "Requirement already satisfied: pillow>=6.2.0 in /Library/Frameworks/Python.framework/Versions/3.9/lib/python3.9/site-packages (from matplotlib->catboost) (8.1.0)\n",
      "Requirement already satisfied: cycler>=0.10 in /Library/Frameworks/Python.framework/Versions/3.9/lib/python3.9/site-packages (from matplotlib->catboost) (0.10.0)\n",
      "\u001b[33mWARNING: You are using pip version 20.2.3; however, version 21.0.1 is available.\n",
      "You should consider upgrading via the '/Library/Frameworks/Python.framework/Versions/3.9/bin/python3.9 -m pip install --upgrade pip' command.\u001b[0m\n"
     ]
    }
   ],
   "source": [
    "#Ejecutar si no funciona el import\n",
    "!pip3 install catboost\n",
    "\n",
    "from catboost import CatBoostClassifier, Pool, cv"
   ]
  },
  {
   "cell_type": "markdown",
   "metadata": {
    "id": "O5HEIBMXmxps"
   },
   "source": [
    "### Xgboost"
   ]
  },
  {
   "cell_type": "code",
   "execution_count": 6,
   "metadata": {
    "id": "MNXqp5z4nOOD"
   },
   "outputs": [
    {
     "name": "stdout",
     "output_type": "stream",
     "text": [
      "Requirement already satisfied: xgboost in /Library/Frameworks/Python.framework/Versions/3.9/lib/python3.9/site-packages (1.3.3)\n",
      "Requirement already satisfied: numpy in /Library/Frameworks/Python.framework/Versions/3.9/lib/python3.9/site-packages (from xgboost) (1.20.1)\n",
      "Requirement already satisfied: scipy in /Library/Frameworks/Python.framework/Versions/3.9/lib/python3.9/site-packages (from xgboost) (1.6.0)\n",
      "\u001b[33mWARNING: You are using pip version 20.2.3; however, version 21.0.1 is available.\n",
      "You should consider upgrading via the '/Library/Frameworks/Python.framework/Versions/3.9/bin/python3.9 -m pip install --upgrade pip' command.\u001b[0m\n"
     ]
    }
   ],
   "source": [
    "!pip3 install xgboost\n",
    "\n",
    "import xgboost as xgb"
   ]
  },
  {
   "cell_type": "markdown",
   "metadata": {
    "id": "lP_c0s_PgPKn"
   },
   "source": [
    "### Lightgbm"
   ]
  },
  {
   "cell_type": "code",
   "execution_count": 7,
   "metadata": {
    "id": "NDBZ9QETgLFz"
   },
   "outputs": [
    {
     "name": "stdout",
     "output_type": "stream",
     "text": [
      "Requirement already satisfied: lightgbm in /Library/Frameworks/Python.framework/Versions/3.9/lib/python3.9/site-packages (3.1.1)\n",
      "Requirement already satisfied: numpy in /Library/Frameworks/Python.framework/Versions/3.9/lib/python3.9/site-packages (from lightgbm) (1.20.1)\n",
      "Requirement already satisfied: wheel in /Library/Frameworks/Python.framework/Versions/3.9/lib/python3.9/site-packages (from lightgbm) (0.36.2)\n",
      "Requirement already satisfied: scipy in /Library/Frameworks/Python.framework/Versions/3.9/lib/python3.9/site-packages (from lightgbm) (1.6.0)\n",
      "Requirement already satisfied: scikit-learn!=0.22.0 in /Library/Frameworks/Python.framework/Versions/3.9/lib/python3.9/site-packages (from lightgbm) (0.24.1)\n",
      "Requirement already satisfied: joblib>=0.11 in /Library/Frameworks/Python.framework/Versions/3.9/lib/python3.9/site-packages (from scikit-learn!=0.22.0->lightgbm) (1.0.1)\n",
      "Requirement already satisfied: threadpoolctl>=2.0.0 in /Library/Frameworks/Python.framework/Versions/3.9/lib/python3.9/site-packages (from scikit-learn!=0.22.0->lightgbm) (2.1.0)\n",
      "\u001b[33mWARNING: You are using pip version 20.2.3; however, version 21.0.1 is available.\n",
      "You should consider upgrading via the '/Library/Frameworks/Python.framework/Versions/3.9/bin/python3.9 -m pip install --upgrade pip' command.\u001b[0m\n"
     ]
    }
   ],
   "source": [
    "!pip3 install lightgbm\n",
    "\n",
    "import lightgbm as lgb\n",
    "#from lightgbm import LGBMClassifier"
   ]
  },
  {
   "cell_type": "markdown",
   "metadata": {
    "id": "qB5aPacbW0b9"
   },
   "source": [
    "### Ramdom forest"
   ]
  },
  {
   "cell_type": "code",
   "execution_count": 8,
   "metadata": {
    "id": "khyk5Vq_Wzfi"
   },
   "outputs": [],
   "source": [
    "from sklearn.ensemble import RandomForestClassifier"
   ]
  },
  {
   "cell_type": "markdown",
   "metadata": {
    "id": "cY876Ig-zWyN"
   },
   "source": [
    "### Perceptron"
   ]
  },
  {
   "cell_type": "code",
   "execution_count": 9,
   "metadata": {
    "id": "ufMcf0h85EK4"
   },
   "outputs": [],
   "source": [
    "from sklearn.linear_model import Perceptron\n",
    "\n",
    "from sklearn.neural_network import MLPRegressor"
   ]
  },
  {
   "cell_type": "markdown",
   "metadata": {
    "id": "YjCt76D_rHMn"
   },
   "source": [
    "# Lectura de datos"
   ]
  },
  {
   "cell_type": "code",
   "execution_count": 10,
   "metadata": {
    "colab": {
     "base_uri": "https://localhost:8080/"
    },
    "id": "2MXb46VjrCnX",
    "outputId": "badf9a5c-b87f-4f8d-c267-02f11bb24615"
   },
   "outputs": [
    {
     "name": "stdout",
     "output_type": "stream",
     "text": [
      "<class 'pandas.core.frame.DataFrame'>\n",
      "RangeIndex: 16947 entries, 0 to 16946\n",
      "Data columns (total 52 columns):\n",
      " #   Column                              Non-Null Count  Dtype  \n",
      "---  ------                              --------------  -----  \n",
      " 0   ID                                  16947 non-null  int64  \n",
      " 1   Region                              16947 non-null  object \n",
      " 2   Territory                           16947 non-null  object \n",
      " 3   Pricing, Delivery_Terms_Quote_Appr  16947 non-null  int64  \n",
      " 4   Pricing, Delivery_Terms_Approved    16947 non-null  int64  \n",
      " 5   Bureaucratic_Code_0_Approval        16947 non-null  int64  \n",
      " 6   Bureaucratic_Code_0_Approved        16947 non-null  int64  \n",
      " 7   Submitted_for_Approval              16947 non-null  int64  \n",
      " 8   Bureaucratic_Code                   16947 non-null  object \n",
      " 9   Account_Created_Date                16947 non-null  object \n",
      " 10  Source                              16947 non-null  object \n",
      " 11  Billing_Country                     16947 non-null  object \n",
      " 12  Account_Name                        16947 non-null  object \n",
      " 13  Opportunity_Name                    16947 non-null  object \n",
      " 14  Opportunity_ID                      16947 non-null  int64  \n",
      " 15  Sales_Contract_No                   16947 non-null  object \n",
      " 16  Account_Owner                       16947 non-null  object \n",
      " 17  Opportunity_Owner                   16947 non-null  object \n",
      " 18  Account_Type                        16947 non-null  object \n",
      " 19  Opportunity_Type                    16947 non-null  object \n",
      " 20  Quote_Type                          16947 non-null  object \n",
      " 21  Delivery_Terms                      16947 non-null  object \n",
      " 22  Opportunity_Created_Date            16947 non-null  object \n",
      " 23  Brand                               16947 non-null  object \n",
      " 24  Product_Type                        16947 non-null  object \n",
      " 25  Size                                16947 non-null  object \n",
      " 26  Product_Category_B                  16947 non-null  object \n",
      " 27  Price                               16947 non-null  object \n",
      " 28  Currency                            16947 non-null  object \n",
      " 29  Last_Activity                       16947 non-null  object \n",
      " 30  Quote_Expiry_Date                   16947 non-null  object \n",
      " 31  Last_Modified_Date                  16947 non-null  object \n",
      " 32  Last_Modified_By                    16947 non-null  object \n",
      " 33  Product_Family                      16947 non-null  object \n",
      " 34  Product_Name                        16947 non-null  object \n",
      " 35  ASP_Currency                        16947 non-null  object \n",
      " 36  ASP                                 13738 non-null  float64\n",
      " 37  ASP_(converted)_Currency            16947 non-null  object \n",
      " 38  ASP_(converted)                     13738 non-null  float64\n",
      " 39  Planned_Delivery_Start_Date         16947 non-null  object \n",
      " 40  Planned_Delivery_End_Date           16947 non-null  object \n",
      " 41  Month                               16947 non-null  object \n",
      " 42  Delivery_Quarter                    16947 non-null  object \n",
      " 43  Delivery_Year                       16947 non-null  int64  \n",
      " 44  Actual_Delivery_Date                16947 non-null  object \n",
      " 45  TRF                                 16947 non-null  int64  \n",
      " 46  Total_Amount_Currency               16947 non-null  object \n",
      " 47  Total_Amount                        16888 non-null  float64\n",
      " 48  Total_Taxable_Amount_Currency       16947 non-null  object \n",
      " 49  Total_Taxable_Amount                16947 non-null  float64\n",
      " 50  Stage                               16947 non-null  object \n",
      " 51  Prod_Category_A                     16947 non-null  object \n",
      "dtypes: float64(4), int64(9), object(39)\n",
      "memory usage: 6.7+ MB\n"
     ]
    }
   ],
   "source": [
    "entrenamiento = pd.read_csv('Training.csv')\n",
    "entrenamiento.info()"
   ]
  },
  {
   "cell_type": "code",
   "execution_count": 11,
   "metadata": {
    "colab": {
     "base_uri": "https://localhost:8080/"
    },
    "id": "iqDzZndMrUDu",
    "outputId": "3af33854-63ab-4438-ddc3-8ea4d2ec737b"
   },
   "outputs": [
    {
     "name": "stdout",
     "output_type": "stream",
     "text": [
      "<class 'pandas.core.frame.DataFrame'>\n",
      "RangeIndex: 2551 entries, 0 to 2550\n",
      "Data columns (total 51 columns):\n",
      " #   Column                              Non-Null Count  Dtype  \n",
      "---  ------                              --------------  -----  \n",
      " 0   ID                                  2551 non-null   int64  \n",
      " 1   Region                              2551 non-null   object \n",
      " 2   Territory                           2551 non-null   object \n",
      " 3   Pricing, Delivery_Terms_Quote_Appr  2551 non-null   int64  \n",
      " 4   Pricing, Delivery_Terms_Approved    2551 non-null   int64  \n",
      " 5   Bureaucratic_Code_0_Approval        2551 non-null   int64  \n",
      " 6   Bureaucratic_Code_0_Approved        2551 non-null   int64  \n",
      " 7   Submitted_for_Approval              2551 non-null   int64  \n",
      " 8   Bureaucratic_Code                   2551 non-null   object \n",
      " 9   Account_Created_Date                2551 non-null   object \n",
      " 10  Source                              2551 non-null   object \n",
      " 11  Billing_Country                     2551 non-null   object \n",
      " 12  Account_Name                        2551 non-null   object \n",
      " 13  Opportunity_Name                    2551 non-null   object \n",
      " 14  Opportunity_ID                      2551 non-null   int64  \n",
      " 15  Sales_Contract_No                   2551 non-null   object \n",
      " 16  Account_Owner                       2551 non-null   object \n",
      " 17  Opportunity_Owner                   2551 non-null   object \n",
      " 18  Account_Type                        2551 non-null   object \n",
      " 19  Opportunity_Type                    2551 non-null   object \n",
      " 20  Quote_Type                          2551 non-null   object \n",
      " 21  Delivery_Terms                      2551 non-null   object \n",
      " 22  Opportunity_Created_Date            2551 non-null   object \n",
      " 23  Brand                               2551 non-null   object \n",
      " 24  Product_Type                        2551 non-null   object \n",
      " 25  Size                                2551 non-null   object \n",
      " 26  Product_Category_B                  2551 non-null   object \n",
      " 27  Price                               2551 non-null   object \n",
      " 28  Currency                            2551 non-null   object \n",
      " 29  Last_Activity                       2551 non-null   object \n",
      " 30  Quote_Expiry_Date                   2551 non-null   object \n",
      " 31  Last_Modified_Date                  2551 non-null   object \n",
      " 32  Last_Modified_By                    2551 non-null   object \n",
      " 33  Product_Family                      2551 non-null   object \n",
      " 34  Product_Name                        2551 non-null   object \n",
      " 35  ASP_Currency                        2551 non-null   object \n",
      " 36  ASP                                 2467 non-null   float64\n",
      " 37  ASP_(converted)_Currency            2551 non-null   object \n",
      " 38  ASP_(converted)                     2467 non-null   float64\n",
      " 39  Planned_Delivery_Start_Date         2551 non-null   object \n",
      " 40  Planned_Delivery_End_Date           2551 non-null   object \n",
      " 41  Month                               2551 non-null   object \n",
      " 42  Delivery_Quarter                    2551 non-null   object \n",
      " 43  Delivery_Year                       2551 non-null   int64  \n",
      " 44  Actual_Delivery_Date                2551 non-null   object \n",
      " 45  TRF                                 2551 non-null   int64  \n",
      " 46  Total_Amount_Currency               2551 non-null   object \n",
      " 47  Total_Amount                        2551 non-null   float64\n",
      " 48  Total_Taxable_Amount_Currency       2551 non-null   object \n",
      " 49  Total_Taxable_Amount                2551 non-null   float64\n",
      " 50  Prod_Category_A                     2551 non-null   object \n",
      "dtypes: float64(4), int64(9), object(38)\n",
      "memory usage: 1016.5+ KB\n"
     ]
    }
   ],
   "source": [
    "testeo = pd.read_csv('Test.csv')\n",
    "testeo.info()"
   ]
  },
  {
   "cell_type": "code",
   "execution_count": 12,
   "metadata": {
    "id": "ENwraghDdDLY"
   },
   "outputs": [],
   "source": [
    "#hemisferios = pd.read_csv('hemisferios.csv')\n",
    "#hemisferios = convertirATipo(hemisferios,['Billing_Country','hemisferio'],'category')\n",
    "#hemisferios.info()"
   ]
  },
  {
   "cell_type": "code",
   "execution_count": 13,
   "metadata": {
    "colab": {
     "base_uri": "https://localhost:8080/"
    },
    "id": "wiejksz3DUMi",
    "outputId": "fdef7445-dce6-4502-f0ad-e15efe5e3d5e"
   },
   "outputs": [
    {
     "name": "stdout",
     "output_type": "stream",
     "text": [
      "<class 'pandas.core.frame.DataFrame'>\n",
      "Int64Index: 1567 entries, 10689 to 12368\n",
      "Data columns (total 1 columns):\n",
      " #   Column  Non-Null Count  Dtype\n",
      "---  ------  --------------  -----\n",
      " 0   Target  1567 non-null   int64\n",
      "dtypes: int64(1)\n",
      "memory usage: 24.5 KB\n"
     ]
    }
   ],
   "source": [
    "#Prueba de supuestos\n",
    "supuestos = pd.read_csv('EvaluacionTemporal.csv', index_col='Opportunity_ID')\n",
    "supuestos.info()"
   ]
  },
  {
   "cell_type": "markdown",
   "metadata": {
    "id": "GJYpToCYrfnk"
   },
   "source": [
    "# Preprocesamiento de ambos DF"
   ]
  },
  {
   "cell_type": "markdown",
   "metadata": {
    "id": "hyRdoRPf5wSN"
   },
   "source": [
    "## Modificaciones de oportunidad"
   ]
  },
  {
   "cell_type": "code",
   "execution_count": 14,
   "metadata": {
    "id": "Eno4a-uBFHOa"
   },
   "outputs": [],
   "source": [
    "def convertirATiempo(df,lista):\n",
    "    for columna in lista:\n",
    "        df[columna] = pd.to_datetime(df[columna])\n",
    "    return df\n",
    "\n",
    "def convertirATipo(df,lista,tipo):\n",
    "    for columna in lista:\n",
    "        df[columna] = df[columna].astype(tipo)\n",
    "    return df\n",
    "\n",
    "def convertirAFlotante(df,lista):\n",
    "    for columna in lista:\n",
    "        df[columna] = df[columna].apply(lambda x: None if (x == \"None\" or x == \"Other\") else float(x))\n",
    "    return df\n",
    "\n",
    "def establecerTipos(df):\n",
    "    \"\"\"cambia los tipos de las columnas\"\"\"\n",
    "    \n",
    "    #fechas\n",
    "    listaDeColumnasFechas = ['Account_Created_Date','Opportunity_Created_Date','Quote_Expiry_Date','Last_Modified_Date','Delivery_Year','Planned_Delivery_End_Date','Planned_Delivery_Start_Date']\n",
    "    df = convertirATiempo(df,listaDeColumnasFechas)\n",
    "    #enteros\n",
    "    listaDeColumnasEnteras = ['ID','Opportunity_ID']\n",
    "    convertirATipo(df,listaDeColumnasEnteras,'int')\n",
    "    #decimales\n",
    "    listaDeColumnasEnteras = ['Price','ASP','ASP_(converted)','Total_Taxable_Amount','Total_Amount']\n",
    "    convertirAFlotante(df,listaDeColumnasEnteras)\n",
    "    #booleanos\n",
    "    listaDeColumnasBooleanas = ['Pricing, Delivery_Terms_Quote_Appr','Pricing, Delivery_Terms_Approved','Bureaucratic_Code_0_Approval','Bureaucratic_Code_0_Approved']\n",
    "    convertirATipo(df,listaDeColumnasBooleanas,'bool')\n",
    "    #categoricas\n",
    "    listaDeColumnasCategoricas = ['Product_Category_B','Product_Family','Region','Territory','Bureaucratic_Code','Source ','Billing_Country','Account_Name','Opportunity_Name']\n",
    "    convertirATipo(df,listaDeColumnasCategoricas,'category')\n",
    "    return df"
   ]
  },
  {
   "cell_type": "code",
   "execution_count": 15,
   "metadata": {
    "id": "1afBmnwDE9AT"
   },
   "outputs": [],
   "source": [
    "def agregarHemisferios(df):\n",
    "    #df.reset_index()\n",
    "    df = df.merge(hemisferios,how='left',on='Billing_Country')\n",
    "    df['hemisferio'] = df['hemisferio'].apply(lambda x: 'Desconocido' if (x != 'Norte' and x != 'Sur') else x)\n",
    "    convertirATipo(df,['hemisferio','Billing_Country'],'category')\n",
    "    #df.set_index('Opportunity_ID')\n",
    "    return df"
   ]
  },
  {
   "cell_type": "code",
   "execution_count": 16,
   "metadata": {
    "id": "b6B7RcbRrqRk"
   },
   "outputs": [],
   "source": [
    "def eliminarColumnasSinImportancia(df):\n",
    "    #\"Last_Activity\" y \"Actual_Delivery_Date\" son puros nulos\n",
    "    #\"Submitted_for_Approval\" puros valores nulos\n",
    "    #\"Prod_Category_A\" tiene todos sus valores iguales\n",
    "    df = df.drop(['Submitted_for_Approval','Last_Activity','Actual_Delivery_Date','Prod_Category_A'], axis=1)\n",
    "    return df\n",
    "\n",
    "def agregarColumnas(df):\n",
    "    df['Closed'] = df['Stage'].replace({'Closed Won': True, 'Closed Lost': True, 'Negotiation':False,'Proposal':False,'Qualification':False})#REVISAR\n",
    "    df['Won'] = df['Stage'].replace({'Closed Won': True, 'Closed Lost': False, 'Negotiation':False,'Proposal':False,'Qualification':False})\n",
    "    convertirATipo(df,['Stage'],'category')\n",
    "    return df\n",
    "\n",
    "def correccionDeTerritorios(df):\n",
    "    #se refiere a diferentes partes de usa\n",
    "    df = df.replace({'Territory':{'Central US':'USA','NE America':'USA', 'NW America':'USA','SW America':'USA','SE America':'USA'}})\n",
    "    #\n",
    "    df = df.replace({'Territory':{'KSA':'Saudi Arabia'}})\n",
    "    #No se ha encontrado la dorma de los siguientes datos 'Kosovo','South America', 'South East Asia', 'UAE (Dubai)', 'UAE (Others)' (en el caso de kosovo no lo grafica)\n",
    "    return df\n",
    "\n",
    "def preparacionDelDataFrame(df,entrenamiento=True):\n",
    "    df = eliminarColumnasSinImportancia(df)\n",
    "    df = establecerTipos(df)\n",
    "    df = correccionDeTerritorios(df)\n",
    "    df.rename(columns = {'Source ':'Source'}, inplace = True)\n",
    "    #df = agregarHemisferios(df)#desactivado desde el readcsv\n",
    "    if (entrenamiento):\n",
    "        df = agregarColumnas(df)\n",
    "    return df"
   ]
  },
  {
   "cell_type": "markdown",
   "metadata": {
    "id": "6b4gZg-W52iy"
   },
   "source": [
    "## Por oportunidad"
   ]
  },
  {
   "cell_type": "code",
   "execution_count": 17,
   "metadata": {
    "id": "W1BeGQYEAcMp"
   },
   "outputs": [],
   "source": [
    "def desacerseDeNulosDateTime(df,columna):\n",
    "    df[columna] = df[columna].apply(lambda x: datetime.max if (x is None or x is np.NaN or x is pd.NaT) else x)\n",
    "    return df\n",
    "\n",
    "def descomposicionDeFechas(df,lista):\n",
    "    \"\"\"se nesesitan enteros no fechas\"\"\"\n",
    "    for columna in lista:\n",
    "        anio = columna + '_anio'\n",
    "        df[anio] = df[columna].apply(lambda x: x if x is None else x.year)\n",
    "        mes = columna + '_mes'\n",
    "        df[mes] = df[columna].apply(lambda x: x if x is None else x.month)\n",
    "        dia = columna + '_dia'\n",
    "        df[dia] = df[columna].apply(lambda x: x if (x is None) else x.day)\n",
    "    df = df.drop(lista, axis=1)\n",
    "    return df\n",
    "\n",
    "def establecerEstacion(df,columnaFecha):\n",
    "    estacion = columnaFecha + '_Estacion'\n",
    "    df[estacion] = 'Desconocido'\n",
    "    df['temporalEstaciones'] = df[columnaFecha].apply(lambda x: 'Desconocido' if x is None else estaciones(x,True))\n",
    "    df.loc[df['hemisferio'] == 'Norte' , estacion] = df['temporalEstaciones']\n",
    "    df['temporalEstaciones'] = df[columnaFecha].apply(lambda x: 'Desconocido' if x is None else estaciones(x,False))\n",
    "    df.loc[df['hemisferio'] == 'Sur' , estacion] = df['temporalEstaciones']\n",
    "    df = df.drop(['temporalEstaciones'], axis=1)\n",
    "    convertirATipo(df,[estacion],'category')\n",
    "    return df\n",
    "\n",
    "def estaciones(fecha,norte):\n",
    "    if (norte):\n",
    "        estaciones = ['primavera','verano','otoño','invierno']\n",
    "    else:\n",
    "        estaciones = ['otoño','invierno','primavera','verano']\n",
    "    if (fecha.month == 12 and fecha.day >= 21 or fecha.month <= 3 and fecha.day < 21):\n",
    "        return estaciones[3]\n",
    "    elif (fecha.month == 9 and fecha.day >= 21 or fecha.month > 9):\n",
    "        return estaciones[2]\n",
    "    elif (fecha.month == 6 and fecha.day >= 21 or fecha.month > 6):\n",
    "        return estaciones[1]\n",
    "    elif (fecha.month == 3 and fecha.day >= 21 or fecha.month > 3):\n",
    "        return estaciones[0]\n",
    "    else:\n",
    "        return 'Desconocido'\n",
    "\n",
    "def diferenciaEntreFechas(df,colFechaInicial,colFechaFinal):\n",
    "    df['TiempoDeDiferencia'] = (df[colFechaFinal] - df[colFechaInicial])\n",
    "    df['TiempoDeDiferencia'] = pd.to_numeric(df['TiempoDeDiferencia'].dt.days, downcast='integer')#revisar si se conviete totalmente a dias\n",
    "    df = df.drop([colFechaInicial,colFechaFinal], axis=1)\n",
    "    return df"
   ]
  },
  {
   "cell_type": "code",
   "execution_count": 18,
   "metadata": {
    "id": "hEXKmCHir-T4"
   },
   "outputs": [],
   "source": [
    "def dataEntrenamiento(df):\n",
    "  data = df.groupby('Opportunity_ID').agg({'Won':'sum','Closed':'sum',\n",
    "                                           'modificaciones':'sum',\n",
    "                                           #'Won':'sum','modificaciones':'sum',\n",
    "                                           'Last_Modified_Date':'max','Opportunity_Created_Date':'min',\n",
    "                                           #'Price':'mean',#Demaciados nulos\n",
    "                                           #'Quote_Expiry_Date':'max',\n",
    "                                           #'Pricing, Delivery_Terms_Quote_Appr':'sum',\n",
    "                                           #'Pricing, Delivery_Terms_Approved':'sum',\n",
    "                                           #'Bureaucratic_Code_0_Approval':'sum',\n",
    "                                           #'Bureaucratic_Code_0_Approved':'sum',\n",
    "                                           'Account_Created_Date':'min',\n",
    "                                           'Total_Amount':'sum','Region':'first',\n",
    "                                           #'Total_Taxable_Amount':'sum',\n",
    "                                           'Territory':'first',\n",
    "                                           'ASP_(converted)':'sum',\n",
    "                                           'Account_Type':'first',\n",
    "                                           'Delivery_Quarter':'first',\n",
    "                                           'Product_Type':'first',\n",
    "                                           #'Product_Category_B':'first',\n",
    "                                           'Billing_Country':'first',\n",
    "                                           'Planned_Delivery_End_Date':'max',\n",
    "                                           'Planned_Delivery_Start_Date':'min',\n",
    "                                           'Delivery_Terms':'first',\n",
    "                                           'Product_Family':'first',\n",
    "                                           #'ASP_(converted)_Currency':'first',\n",
    "                                           'TRF':'mean'\n",
    "                                           #'hemisferio':'first'\n",
    "                                           })#hay que seguir agregando cosas que son importantes\n",
    "  return data\n",
    "\n",
    "def dataTesteo(df):\n",
    "  data = df.groupby('Opportunity_ID').agg({'modificaciones':'sum',\n",
    "                                           'Last_Modified_Date':'max','Opportunity_Created_Date':'min',\n",
    "                                           #'Price':'mean',#Demaciados nulos\n",
    "                                           #'Quote_Expiry_Date':'max',\n",
    "                                           #'Pricing, Delivery_Terms_Quote_Appr':'sum',\n",
    "                                           #'Pricing, Delivery_Terms_Approved':'sum',\n",
    "                                           #'Bureaucratic_Code_0_Approval':'sum',\n",
    "                                           #'Bureaucratic_Code_0_Approved':'sum',\n",
    "                                           'Account_Created_Date':'min',\n",
    "                                           'Total_Amount':'sum','Region':'first',\n",
    "                                           #'Total_Taxable_Amount':'sum',\n",
    "                                           'Territory':'first',\n",
    "                                           'ASP_(converted)':'sum',\n",
    "                                           'Account_Type':'first',\n",
    "                                           'Delivery_Quarter':'first',\n",
    "                                           'Product_Type':'first',\n",
    "                                           #'Product_Category_B':'first',\n",
    "                                           'Billing_Country':'first',\n",
    "                                           'Planned_Delivery_End_Date':'max',\n",
    "                                           'Planned_Delivery_Start_Date':'min',\n",
    "                                           'Delivery_Terms':'first',\n",
    "                                           'Product_Family':'first',\n",
    "                                           #'ASP_(converted)_Currency':'first',\n",
    "                                           'TRF':'mean'\n",
    "                                           #'hemisferio':'first'\n",
    "                                           })#hay que seguir agregando cosas que son importantes\n",
    "  return data  \n",
    "\n",
    "def agrupacionDeOportunidades(df,entrenamiento=True):\n",
    "  df['modificaciones'] = 1\n",
    "  if (entrenamiento):\n",
    "    data = dataEntrenamiento(df)\n",
    "    #Solo me interesa saber si se cerro con exito\n",
    "    #data['Closed'] = data['Closed'].agg(lambda x: 1 if x > 0 else 0)\n",
    "    data['Won'] = data['Won'].agg(lambda x: 1 if x > 0 else 0)\n",
    "    #data['Lost'] = data['Closed'] - data['Won']#si es won es closed pero si es closed y no es won es perdido\n",
    "    #data['Lost'] = data['Lost'].agg(lambda x: 1 if x > 0 else 0)\n",
    "\n",
    "    #Los casos NO cerrados del set de entrenamiento se desconocen si tendran exito o no\n",
    "    #por lo que englobarlos como triunfos o fracasos es un error deben ser retirados del set\n",
    "    data = data[data['Closed'] > 0]\n",
    "    data = data.drop(['Closed'], axis=1)\n",
    "  else:\n",
    "    data = dataTesteo(df)\n",
    "\n",
    "  #data['Pricing, Delivery_Terms_Quote_Appr'] = data['Pricing, Delivery_Terms_Quote_Appr'].agg(lambda x: None if x == 0 else x)\n",
    "  #data['Pricing, Delivery_Terms_Approved'] = data['Pricing, Delivery_Terms_Approved'].agg(lambda x: None if x == 0 else x)\n",
    "  #data['Bureaucratic_Code_0_Approval'] = data['Bureaucratic_Code_0_Approval'].agg(lambda x: None if x == 0 else x)\n",
    "  #data['Bureaucratic_Code_0_Approved'] = data['Bureaucratic_Code_0_Approved'].agg(lambda x: None if x == 0 else x)\n",
    "  \"\"\"\n",
    "  data['Pricing, Delivery_Terms_Quote_Appr'] = data['Pricing, Delivery_Terms_Quote_Appr'].agg(lambda x: 1 if x > 0 else 0)\n",
    "  data['Pricing, Delivery_Terms_Approved'] = data['Pricing, Delivery_Terms_Approved'].agg(lambda x: 1 if x > 0 else 0)\n",
    "  #data['Bureaucratic_Code_0_Approval'] = data['Bureaucratic_Code_0_Approval'].agg(lambda x: 1 if x > 0 else 0)\n",
    "  #data['Bureaucratic_Code_0_Approved'] = data['Bureaucratic_Code_0_Approved'].agg(lambda x: 1 if x > 0 else 0)\n",
    "\n",
    "  #Condensando columnas\n",
    "  data['Pricing, Delivery_Terms_Condensado'] = data['Pricing, Delivery_Terms_Approved'] - data['Pricing, Delivery_Terms_Quote_Appr']\n",
    "  data['Pricing, Delivery_Terms_Condensado'] = data['Pricing, Delivery_Terms_Condensado'].agg(lambda x: 1 if x == 0 else 0)\n",
    "  data = data.drop(['Pricing, Delivery_Terms_Quote_Appr','Pricing, Delivery_Terms_Approved'], axis=1)\n",
    "\n",
    "  data['Bureaucratic_Code_0_Condensado'] = data['Bureaucratic_Code_0_Approved'] - data['Bureaucratic_Code_0_Approval']\n",
    "  data['Bureaucratic_Code_0_Condensado'] = data['Bureaucratic_Code_0_Condensado'].agg(lambda x: 1 if x == 0 else 0)\n",
    "  data = data.drop(['Bureaucratic_Code_0_Approval','Bureaucratic_Code_0_Approved'], axis=1)\n",
    "  #data = data.replace({'Won':})\n",
    "  data['aprobacion'] = data['Pricing, Delivery_Terms_Condensado'] + data['Bureaucratic_Code_0_Condensado']\n",
    "  data['aprobacion'] = data['aprobacion'].agg(lambda x: 1 if x > 1 else 0)\n",
    "  data = data.drop(['Pricing, Delivery_Terms_Condensado','Bureaucratic_Code_0_Condensado'], axis=1)\n",
    "\n",
    "  \"\"\"\n",
    "\n",
    "  #categoricas\n",
    "  #listaDeColumnasCategoricas = ['Account_Type','Region','Territory','Billing_Country',\n",
    "  #                              'Delivery_Quarter','Product_Type','Product_Category_B',\n",
    "  #                              'Delivery_Terms','Product_Family','ASP_(converted)_Currency']\n",
    "  listaDeColumnasCategoricas = ['Account_Type','Region','Territory','Billing_Country',\n",
    "                                'Delivery_Quarter','Product_Type',\n",
    "                                'Delivery_Terms','Product_Family']\n",
    "  convertirATipo(data,listaDeColumnasCategoricas,'category')\n",
    "\n",
    "  #data = establecerEstacion(data,'Opportunity_Created_Date')\n",
    "  #data = establecerEstacion(data,'Quote_Expiry_Date')\n",
    "  #data = desacerseDeNulosDateTime(data,'Quote_Expiry_Date')#si no hay fecha de expiracion se pre supone que es infinita\n",
    "\n",
    "  listaDeValoresDeFechas = ['Last_Modified_Date','Opportunity_Created_Date',\n",
    "                            'Account_Created_Date','Planned_Delivery_Start_Date','Planned_Delivery_End_Date']\n",
    "  data = descomposicionDeFechas(data,listaDeValoresDeFechas)\n",
    "\n",
    "  #data['Diferencia_Amount'] = data['Total_Amount'] - data['Total_Amount'].mean()\n",
    "  #data['Diferencia_Amount'] = data['Diferencia_Amount'].agg(lambda x: -x if x<0 else x)\n",
    "\n",
    "  #data['Total_Amount'] = data['Total_Amount'].agg(lambda x: math.log(x,10))\n",
    "  #enteros\n",
    "  #listaDeColumnasEnteras = ['Quote_Expiry_Date_anio','Quote_Expiry_Date_mes','Quote_Expiry_Date_dia']\n",
    "  #convertirATipo(data,listaDeColumnasEnteras,'int')\n",
    "  #data = agregarHemisferios(data)\n",
    "\n",
    "  #data = data.drop(['hemisferio'], axis=1)\n",
    "\n",
    "  #data = diferenciaEntreFechas(data,'Planned_Delivery_Start_Date','Planned_Delivery_End_Date')\n",
    "\n",
    "  return data\n",
    "\n",
    "#Uso las mismas categoricas en todos lados\n",
    "listaDeColumnasCategoricas = ['Account_Type','Region','Territory','Billing_Country',\n",
    "                              'Delivery_Quarter','Product_Type',\n",
    "                              'Delivery_Terms','Product_Family']\n"
   ]
  },
  {
   "cell_type": "markdown",
   "metadata": {
    "id": "a_oK2tNOrgdr"
   },
   "source": [
    "## Categoricas a enteros (caso de que el sistema predictor no reconozca category)"
   ]
  },
  {
   "cell_type": "code",
   "execution_count": 19,
   "metadata": {
    "id": "zV3o96K3rqy_"
   },
   "outputs": [],
   "source": [
    "def convertirCategoryEnEnteros(df1,df2,columna):\n",
    "    encoder = ce.BinaryEncoder(cols=[columna])\n",
    "    encoder.fit(df1)\n",
    "    #encoder.fit(df2)\n",
    "    df1 = encoder.transform(df1)\n",
    "    df2 = encoder.transform(df2)\n",
    "    return df1,df2"
   ]
  },
  {
   "cell_type": "markdown",
   "metadata": {
    "id": "knmx6tPo01QZ"
   },
   "source": [
    "# Ejecución de preparación\n",
    "\n",
    "## Ejecución por modificaciones de oportunidad"
   ]
  },
  {
   "cell_type": "code",
   "execution_count": 20,
   "metadata": {
    "colab": {
     "base_uri": "https://localhost:8080/"
    },
    "id": "PaAnTWGor1uy",
    "outputId": "72caa87a-8204-4360-d8a6-8cb98f7be3cb"
   },
   "outputs": [
    {
     "name": "stdout",
     "output_type": "stream",
     "text": [
      "<class 'pandas.core.frame.DataFrame'>\n",
      "RangeIndex: 16947 entries, 0 to 16946\n",
      "Data columns (total 50 columns):\n",
      " #   Column                              Non-Null Count  Dtype         \n",
      "---  ------                              --------------  -----         \n",
      " 0   ID                                  16947 non-null  int64         \n",
      " 1   Region                              16947 non-null  category      \n",
      " 2   Territory                           16947 non-null  category      \n",
      " 3   Pricing, Delivery_Terms_Quote_Appr  16947 non-null  bool          \n",
      " 4   Pricing, Delivery_Terms_Approved    16947 non-null  bool          \n",
      " 5   Bureaucratic_Code_0_Approval        16947 non-null  bool          \n",
      " 6   Bureaucratic_Code_0_Approved        16947 non-null  bool          \n",
      " 7   Bureaucratic_Code                   16947 non-null  category      \n",
      " 8   Account_Created_Date                16947 non-null  datetime64[ns]\n",
      " 9   Source                              16947 non-null  category      \n",
      " 10  Billing_Country                     16947 non-null  category      \n",
      " 11  Account_Name                        16947 non-null  category      \n",
      " 12  Opportunity_Name                    16947 non-null  category      \n",
      " 13  Opportunity_ID                      16947 non-null  int64         \n",
      " 14  Sales_Contract_No                   16947 non-null  object        \n",
      " 15  Account_Owner                       16947 non-null  object        \n",
      " 16  Opportunity_Owner                   16947 non-null  object        \n",
      " 17  Account_Type                        16947 non-null  object        \n",
      " 18  Opportunity_Type                    16947 non-null  object        \n",
      " 19  Quote_Type                          16947 non-null  object        \n",
      " 20  Delivery_Terms                      16947 non-null  object        \n",
      " 21  Opportunity_Created_Date            16947 non-null  datetime64[ns]\n",
      " 22  Brand                               16947 non-null  object        \n",
      " 23  Product_Type                        16947 non-null  object        \n",
      " 24  Size                                16947 non-null  object        \n",
      " 25  Product_Category_B                  16947 non-null  category      \n",
      " 26  Price                               356 non-null    float64       \n",
      " 27  Currency                            16947 non-null  object        \n",
      " 28  Quote_Expiry_Date                   12322 non-null  datetime64[ns]\n",
      " 29  Last_Modified_Date                  16947 non-null  datetime64[ns]\n",
      " 30  Last_Modified_By                    16947 non-null  object        \n",
      " 31  Product_Family                      16947 non-null  category      \n",
      " 32  Product_Name                        16947 non-null  object        \n",
      " 33  ASP_Currency                        16947 non-null  object        \n",
      " 34  ASP                                 13738 non-null  float64       \n",
      " 35  ASP_(converted)_Currency            16947 non-null  object        \n",
      " 36  ASP_(converted)                     13738 non-null  float64       \n",
      " 37  Planned_Delivery_Start_Date         16947 non-null  datetime64[ns]\n",
      " 38  Planned_Delivery_End_Date           16872 non-null  datetime64[ns]\n",
      " 39  Month                               16947 non-null  object        \n",
      " 40  Delivery_Quarter                    16947 non-null  object        \n",
      " 41  Delivery_Year                       16947 non-null  datetime64[ns]\n",
      " 42  TRF                                 16947 non-null  int64         \n",
      " 43  Total_Amount_Currency               16947 non-null  object        \n",
      " 44  Total_Amount                        16888 non-null  float64       \n",
      " 45  Total_Taxable_Amount_Currency       16947 non-null  object        \n",
      " 46  Total_Taxable_Amount                16947 non-null  float64       \n",
      " 47  Stage                               16947 non-null  category      \n",
      " 48  Closed                              16947 non-null  bool          \n",
      " 49  Won                                 16947 non-null  bool          \n",
      "dtypes: bool(6), category(10), datetime64[ns](7), float64(5), int64(3), object(19)\n",
      "memory usage: 5.1+ MB\n"
     ]
    }
   ],
   "source": [
    "entrenamientoProcesado = preparacionDelDataFrame(entrenamiento)\n",
    "entrenamientoProcesado.info()"
   ]
  },
  {
   "cell_type": "code",
   "execution_count": 21,
   "metadata": {
    "colab": {
     "base_uri": "https://localhost:8080/"
    },
    "id": "HsNznYyLr21Z",
    "outputId": "305ff4fd-1d37-4c3c-d67f-506b14627a32"
   },
   "outputs": [
    {
     "name": "stdout",
     "output_type": "stream",
     "text": [
      "<class 'pandas.core.frame.DataFrame'>\n",
      "RangeIndex: 2551 entries, 0 to 2550\n",
      "Data columns (total 47 columns):\n",
      " #   Column                              Non-Null Count  Dtype         \n",
      "---  ------                              --------------  -----         \n",
      " 0   ID                                  2551 non-null   int64         \n",
      " 1   Region                              2551 non-null   category      \n",
      " 2   Territory                           2551 non-null   category      \n",
      " 3   Pricing, Delivery_Terms_Quote_Appr  2551 non-null   bool          \n",
      " 4   Pricing, Delivery_Terms_Approved    2551 non-null   bool          \n",
      " 5   Bureaucratic_Code_0_Approval        2551 non-null   bool          \n",
      " 6   Bureaucratic_Code_0_Approved        2551 non-null   bool          \n",
      " 7   Bureaucratic_Code                   2551 non-null   category      \n",
      " 8   Account_Created_Date                2551 non-null   datetime64[ns]\n",
      " 9   Source                              2551 non-null   category      \n",
      " 10  Billing_Country                     2551 non-null   category      \n",
      " 11  Account_Name                        2551 non-null   category      \n",
      " 12  Opportunity_Name                    2551 non-null   category      \n",
      " 13  Opportunity_ID                      2551 non-null   int64         \n",
      " 14  Sales_Contract_No                   2551 non-null   object        \n",
      " 15  Account_Owner                       2551 non-null   object        \n",
      " 16  Opportunity_Owner                   2551 non-null   object        \n",
      " 17  Account_Type                        2551 non-null   object        \n",
      " 18  Opportunity_Type                    2551 non-null   object        \n",
      " 19  Quote_Type                          2551 non-null   object        \n",
      " 20  Delivery_Terms                      2551 non-null   object        \n",
      " 21  Opportunity_Created_Date            2551 non-null   datetime64[ns]\n",
      " 22  Brand                               2551 non-null   object        \n",
      " 23  Product_Type                        2551 non-null   object        \n",
      " 24  Size                                2551 non-null   object        \n",
      " 25  Product_Category_B                  2551 non-null   category      \n",
      " 26  Price                               160 non-null    float64       \n",
      " 27  Currency                            2551 non-null   object        \n",
      " 28  Quote_Expiry_Date                   1315 non-null   datetime64[ns]\n",
      " 29  Last_Modified_Date                  2551 non-null   datetime64[ns]\n",
      " 30  Last_Modified_By                    2551 non-null   object        \n",
      " 31  Product_Family                      2551 non-null   category      \n",
      " 32  Product_Name                        2551 non-null   object        \n",
      " 33  ASP_Currency                        2551 non-null   object        \n",
      " 34  ASP                                 2467 non-null   float64       \n",
      " 35  ASP_(converted)_Currency            2551 non-null   object        \n",
      " 36  ASP_(converted)                     2467 non-null   float64       \n",
      " 37  Planned_Delivery_Start_Date         2551 non-null   datetime64[ns]\n",
      " 38  Planned_Delivery_End_Date           2500 non-null   datetime64[ns]\n",
      " 39  Month                               2551 non-null   object        \n",
      " 40  Delivery_Quarter                    2551 non-null   object        \n",
      " 41  Delivery_Year                       2551 non-null   datetime64[ns]\n",
      " 42  TRF                                 2551 non-null   int64         \n",
      " 43  Total_Amount_Currency               2551 non-null   object        \n",
      " 44  Total_Amount                        2551 non-null   float64       \n",
      " 45  Total_Taxable_Amount_Currency       2551 non-null   object        \n",
      " 46  Total_Taxable_Amount                2551 non-null   float64       \n",
      "dtypes: bool(4), category(9), datetime64[ns](7), float64(5), int64(3), object(19)\n",
      "memory usage: 787.4+ KB\n"
     ]
    }
   ],
   "source": [
    "testeoProcesado = preparacionDelDataFrame(testeo,False)\n",
    "testeoProcesado.info()"
   ]
  },
  {
   "cell_type": "markdown",
   "metadata": {
    "id": "q8JeolJN08kJ"
   },
   "source": [
    "## Ejecución por oportunidad"
   ]
  },
  {
   "cell_type": "code",
   "execution_count": 22,
   "metadata": {
    "colab": {
     "base_uri": "https://localhost:8080/"
    },
    "id": "4FaCKA1_1ANL",
    "outputId": "e62dcaae-40f6-45b8-dc85-4da12cec1356"
   },
   "outputs": [
    {
     "name": "stdout",
     "output_type": "stream",
     "text": [
      "<class 'pandas.core.frame.DataFrame'>\n",
      "Int64Index: 9791 entries, 0 to 12803\n",
      "Data columns (total 28 columns):\n",
      " #   Column                            Non-Null Count  Dtype   \n",
      "---  ------                            --------------  -----   \n",
      " 0   Won                               9791 non-null   int64   \n",
      " 1   modificaciones                    9791 non-null   int64   \n",
      " 2   Total_Amount                      9791 non-null   float64 \n",
      " 3   Region                            9791 non-null   category\n",
      " 4   Territory                         9791 non-null   category\n",
      " 5   ASP_(converted)                   9791 non-null   float64 \n",
      " 6   Account_Type                      9791 non-null   category\n",
      " 7   Delivery_Quarter                  9791 non-null   category\n",
      " 8   Product_Type                      9791 non-null   category\n",
      " 9   Billing_Country                   9791 non-null   category\n",
      " 10  Delivery_Terms                    9791 non-null   category\n",
      " 11  Product_Family                    9791 non-null   category\n",
      " 12  TRF                               9791 non-null   float64 \n",
      " 13  Last_Modified_Date_anio           9791 non-null   int64   \n",
      " 14  Last_Modified_Date_mes            9791 non-null   int64   \n",
      " 15  Last_Modified_Date_dia            9791 non-null   int64   \n",
      " 16  Opportunity_Created_Date_anio     9791 non-null   int64   \n",
      " 17  Opportunity_Created_Date_mes      9791 non-null   int64   \n",
      " 18  Opportunity_Created_Date_dia      9791 non-null   int64   \n",
      " 19  Account_Created_Date_anio         9791 non-null   int64   \n",
      " 20  Account_Created_Date_mes          9791 non-null   int64   \n",
      " 21  Account_Created_Date_dia          9791 non-null   int64   \n",
      " 22  Planned_Delivery_Start_Date_anio  9791 non-null   int64   \n",
      " 23  Planned_Delivery_Start_Date_mes   9791 non-null   int64   \n",
      " 24  Planned_Delivery_Start_Date_dia   9791 non-null   int64   \n",
      " 25  Planned_Delivery_End_Date_anio    9734 non-null   float64 \n",
      " 26  Planned_Delivery_End_Date_mes     9734 non-null   float64 \n",
      " 27  Planned_Delivery_End_Date_dia     9734 non-null   float64 \n",
      "dtypes: category(8), float64(6), int64(14)\n",
      "memory usage: 1.7 MB\n"
     ]
    }
   ],
   "source": [
    "agrupacionEntrenamiento = agrupacionDeOportunidades(entrenamientoProcesado)\n",
    "agrupacionEntrenamiento.info()"
   ]
  },
  {
   "cell_type": "code",
   "execution_count": 23,
   "metadata": {
    "colab": {
     "base_uri": "https://localhost:8080/"
    },
    "id": "u45CZJXV1Flo",
    "outputId": "d8f04627-e185-4a7a-9867-a9fa64d75171"
   },
   "outputs": [
    {
     "name": "stdout",
     "output_type": "stream",
     "text": [
      "<class 'pandas.core.frame.DataFrame'>\n",
      "Int64Index: 1567 entries, 10689 to 12368\n",
      "Data columns (total 27 columns):\n",
      " #   Column                            Non-Null Count  Dtype   \n",
      "---  ------                            --------------  -----   \n",
      " 0   modificaciones                    1567 non-null   int64   \n",
      " 1   Total_Amount                      1567 non-null   float64 \n",
      " 2   Region                            1567 non-null   category\n",
      " 3   Territory                         1567 non-null   category\n",
      " 4   ASP_(converted)                   1567 non-null   float64 \n",
      " 5   Account_Type                      1567 non-null   category\n",
      " 6   Delivery_Quarter                  1567 non-null   category\n",
      " 7   Product_Type                      1567 non-null   category\n",
      " 8   Billing_Country                   1567 non-null   category\n",
      " 9   Delivery_Terms                    1567 non-null   category\n",
      " 10  Product_Family                    1567 non-null   category\n",
      " 11  TRF                               1567 non-null   float64 \n",
      " 12  Last_Modified_Date_anio           1567 non-null   int64   \n",
      " 13  Last_Modified_Date_mes            1567 non-null   int64   \n",
      " 14  Last_Modified_Date_dia            1567 non-null   int64   \n",
      " 15  Opportunity_Created_Date_anio     1567 non-null   int64   \n",
      " 16  Opportunity_Created_Date_mes      1567 non-null   int64   \n",
      " 17  Opportunity_Created_Date_dia      1567 non-null   int64   \n",
      " 18  Account_Created_Date_anio         1567 non-null   int64   \n",
      " 19  Account_Created_Date_mes          1567 non-null   int64   \n",
      " 20  Account_Created_Date_dia          1567 non-null   int64   \n",
      " 21  Planned_Delivery_Start_Date_anio  1567 non-null   int64   \n",
      " 22  Planned_Delivery_Start_Date_mes   1567 non-null   int64   \n",
      " 23  Planned_Delivery_Start_Date_dia   1567 non-null   int64   \n",
      " 24  Planned_Delivery_End_Date_anio    1524 non-null   float64 \n",
      " 25  Planned_Delivery_End_Date_mes     1524 non-null   float64 \n",
      " 26  Planned_Delivery_End_Date_dia     1524 non-null   float64 \n",
      "dtypes: category(8), float64(6), int64(13)\n",
      "memory usage: 263.8 KB\n"
     ]
    }
   ],
   "source": [
    "agrupacionTesteo = agrupacionDeOportunidades(testeoProcesado,False)\n",
    "agrupacionTesteo.info()"
   ]
  },
  {
   "cell_type": "markdown",
   "metadata": {
    "id": "1xfzMbqiZrue"
   },
   "source": [
    "## Separación de resultados de entrenamiento"
   ]
  },
  {
   "cell_type": "code",
   "execution_count": 24,
   "metadata": {
    "colab": {
     "base_uri": "https://localhost:8080/"
    },
    "id": "3_W40iRfZ0e9",
    "outputId": "38212e8a-059d-4304-9827-62fc01364514"
   },
   "outputs": [
    {
     "name": "stdout",
     "output_type": "stream",
     "text": [
      "<class 'pandas.core.frame.DataFrame'>\n",
      "Int64Index: 9791 entries, 0 to 12803\n",
      "Data columns (total 1 columns):\n",
      " #   Column  Non-Null Count  Dtype\n",
      "---  ------  --------------  -----\n",
      " 0   Won     9791 non-null   int64\n",
      "dtypes: int64(1)\n",
      "memory usage: 153.0 KB\n"
     ]
    }
   ],
   "source": [
    "entrenamientoResultado = agrupacionEntrenamiento[['Won']]\n",
    "entrenamientoResultado.info()"
   ]
  },
  {
   "cell_type": "code",
   "execution_count": 25,
   "metadata": {
    "colab": {
     "base_uri": "https://localhost:8080/"
    },
    "id": "8-ZrGbyfaHH1",
    "outputId": "1293461c-e6e8-4b1c-826d-a5e400125797"
   },
   "outputs": [
    {
     "name": "stdout",
     "output_type": "stream",
     "text": [
      "<class 'pandas.core.frame.DataFrame'>\n",
      "Int64Index: 9791 entries, 0 to 12803\n",
      "Data columns (total 27 columns):\n",
      " #   Column                            Non-Null Count  Dtype   \n",
      "---  ------                            --------------  -----   \n",
      " 0   modificaciones                    9791 non-null   int64   \n",
      " 1   Total_Amount                      9791 non-null   float64 \n",
      " 2   Region                            9791 non-null   category\n",
      " 3   Territory                         9791 non-null   category\n",
      " 4   ASP_(converted)                   9791 non-null   float64 \n",
      " 5   Account_Type                      9791 non-null   category\n",
      " 6   Delivery_Quarter                  9791 non-null   category\n",
      " 7   Product_Type                      9791 non-null   category\n",
      " 8   Billing_Country                   9791 non-null   category\n",
      " 9   Delivery_Terms                    9791 non-null   category\n",
      " 10  Product_Family                    9791 non-null   category\n",
      " 11  TRF                               9791 non-null   float64 \n",
      " 12  Last_Modified_Date_anio           9791 non-null   int64   \n",
      " 13  Last_Modified_Date_mes            9791 non-null   int64   \n",
      " 14  Last_Modified_Date_dia            9791 non-null   int64   \n",
      " 15  Opportunity_Created_Date_anio     9791 non-null   int64   \n",
      " 16  Opportunity_Created_Date_mes      9791 non-null   int64   \n",
      " 17  Opportunity_Created_Date_dia      9791 non-null   int64   \n",
      " 18  Account_Created_Date_anio         9791 non-null   int64   \n",
      " 19  Account_Created_Date_mes          9791 non-null   int64   \n",
      " 20  Account_Created_Date_dia          9791 non-null   int64   \n",
      " 21  Planned_Delivery_Start_Date_anio  9791 non-null   int64   \n",
      " 22  Planned_Delivery_Start_Date_mes   9791 non-null   int64   \n",
      " 23  Planned_Delivery_Start_Date_dia   9791 non-null   int64   \n",
      " 24  Planned_Delivery_End_Date_anio    9734 non-null   float64 \n",
      " 25  Planned_Delivery_End_Date_mes     9734 non-null   float64 \n",
      " 26  Planned_Delivery_End_Date_dia     9734 non-null   float64 \n",
      "dtypes: category(8), float64(6), int64(13)\n",
      "memory usage: 1.6 MB\n"
     ]
    }
   ],
   "source": [
    "agrupacionEntrenamiento = agrupacionEntrenamiento.drop(['Won'], axis=1)\n",
    "agrupacionEntrenamiento.info()"
   ]
  },
  {
   "cell_type": "markdown",
   "metadata": {
    "id": "S7uqV5xvL6Zo"
   },
   "source": [
    "# Pruebas"
   ]
  },
  {
   "cell_type": "markdown",
   "metadata": {
    "id": "6JZVeYsgJcg4"
   },
   "source": [
    "## Prueba supuestamete bien (arbitraria con un error aprox de +0.04 en logloss)"
   ]
  },
  {
   "cell_type": "code",
   "execution_count": 26,
   "metadata": {
    "colab": {
     "base_uri": "https://localhost:8080/"
    },
    "id": "yeLzHmGeEo3t",
    "outputId": "48892e41-21f5-4181-befa-ff41c568fdbb"
   },
   "outputs": [],
   "source": [
    "def pruebaArbitraria():\n",
    "    serieDiferenciasDeSupuestos = dataResultante['Target'] - supuestos['Target']\n",
    "    serieDiferenciasDeSupuestos = serieDiferenciasDeSupuestos.agg(lambda x: abs(x))\n",
    "  #valores a vencer\n",
    "  #0.29328282239325076 0.066288348418729 0.25746523730152193\n",
    "  #0.31706383931591736 0.05312227841294053 0.23048270740543753 ramdom forest\n",
    "  #0.289665541459807 0.07066249882454302 0.26582418780942985 catboost\n",
    "  #0.29650158086984807 0.06760957650563981 0.2600184157048108 //0.42\n",
    "    print(serieDiferenciasDeSupuestos.mean(),serieDiferenciasDeSupuestos.var(),serieDiferenciasDeSupuestos.std())\n",
    "    return log_loss(supuestos['Target'],dataResultante['Target'])#predijo 0.4774430257846605 mientras el resultado dio 0.43117\n",
    "#pruebaArbitraria()\n",
    "#0.45236516666571225"
   ]
  },
  {
   "cell_type": "code",
   "execution_count": 27,
   "metadata": {
    "id": "T_eJk_tByPDK"
   },
   "outputs": [],
   "source": [
    "#dataResultante['Target'].agg(lambda x: 1 if x < 0.55 and x > 0.45 else 0).value_counts()"
   ]
  },
  {
   "cell_type": "code",
   "execution_count": 28,
   "metadata": {
    "id": "SvnqKkWyEOej"
   },
   "outputs": [],
   "source": [
    "#dataResultante['Target'].agg(lambda x: 1 if x > 0.95 or x < 0.05 else 0).value_counts()"
   ]
  },
  {
   "cell_type": "markdown",
   "metadata": {},
   "source": [
    "# Modelos"
   ]
  },
  {
   "cell_type": "markdown",
   "metadata": {
    "id": "zVBNOzCKY0VD"
   },
   "source": [
    "## Funciones de resultados"
   ]
  },
  {
   "cell_type": "code",
   "execution_count": 29,
   "metadata": {
    "id": "YqPqyX1ihs-Q"
   },
   "outputs": [],
   "source": [
    "def generarResultado(df,prediccion):\n",
    "    resultado = df.copy(True)\n",
    "    resultado['Target'] = prediccion\n",
    "    resultado = resultado[['Target']]\n",
    "    resultado.to_csv('resultado.csv')\n",
    "    return resultado\n",
    "\n",
    "\n",
    "def auxiliarUnificarValor(arreglo):\n",
    "    return arreglo[:,0]"
   ]
  },
  {
   "cell_type": "markdown",
   "metadata": {
    "id": "J983upopKwQx"
   },
   "source": [
    "## Catboost"
   ]
  },
  {
   "cell_type": "markdown",
   "metadata": {
    "id": "I-rXEcxr-Nns"
   },
   "source": [
    "### Grid search"
   ]
  },
  {
   "cell_type": "code",
   "execution_count": 30,
   "metadata": {
    "id": "_fzOaeis953k"
   },
   "outputs": [],
   "source": [
    "def GridSearchCatboost(train_data_o,train_labels,cat_features):\n",
    "  \"\"\"clf = CatBoostClassifier()\n",
    "  params = {'iterations': [500],\n",
    "            'depth': [4, 5, 6],\n",
    "            #'loss_function': ['Logloss', 'CrossEntropy'],\n",
    "            'l2_leaf_reg': np.logspace(-10, 1, 50),\n",
    "            'leaf_estimation_iterations': [10],\n",
    "            'learning_rate': [0.5,0.25,0.05],\n",
    "            'rsm' : [0.7,0.5]\n",
    "            #'eval_metric': ['Accuracy'],\n",
    "            #'use_best_model': ['True'],\n",
    "            #'logging_level':['Silent'],\n",
    "            #'random_seed': [42]\n",
    "          }\n",
    "  scorer = make_scorer(accuracy_score)\n",
    "  clf_grid = GridSearchCV(estimator=clf, param_grid=params, scoring=scorer, cv=5)\n",
    "  clf_grid.fit(X_train_enc, y_train,cat_features)\n",
    "  best_param = clf_grid.best_params_\n",
    "  return best_param\"\"\"\n",
    "  model = CatBoostClassifier(loss_function='Logloss')\n",
    "  #model = CatBoostClassifier(loss_function='CrossEntropy')\n",
    "\n",
    "  train_data = train_data_o\n",
    "  # convert categorical columns to integers\n",
    "  for header in cat_features:\n",
    "    train_data[header] = train_data[header].astype('category').cat.codes\n",
    "\n",
    "  grid = {'learning_rate': list(np.arange(0.05,0.51,0.05)),\n",
    "          'depth': list(range(6,13,2)),\n",
    "          'l2_leaf_reg': list(np.arange(2,5.1,0.5)),\n",
    "          'iterations': list(range(10,101,15)),\n",
    "          'rsm':list(np.arange(0.1,1.1,0.1))\n",
    "          }\n",
    "\n",
    "  grid_search_result = model.grid_search(grid, \n",
    "                                        X=train_data, \n",
    "                                        y=train_labels,\n",
    "                                        cv=10,\n",
    "                                        plot=True)\n",
    "  \n",
    "  return grid_search_result"
   ]
  },
  {
   "cell_type": "code",
   "execution_count": 31,
   "metadata": {
    "id": "Pf2F-A-IBfPH"
   },
   "outputs": [],
   "source": [
    "#listaDeCategoricas = ['Region','Territory','Product_Type','Product_Category_B',\n",
    "#                      'Account_Type','Delivery_Quarter','Billing_Country']\n",
    "#comentado para evitar ejecucion erronea\n",
    "#valores = GridSearchCatboost(agrupacionEntrenamiento,entrenamientoResultado,listaDeColumnasCategoricas)\n",
    "#valores"
   ]
  },
  {
   "cell_type": "markdown",
   "metadata": {
    "id": "eXu5RWvjWtP-"
   },
   "source": [
    "### Bayesian"
   ]
  },
  {
   "cell_type": "code",
   "execution_count": 32,
   "metadata": {
    "id": "sAAZRp5tWwS-"
   },
   "outputs": [],
   "source": [
    "def catboost_classifier(learning_rate, depth, l2_leaf_reg,iterations,rsm):\n",
    "    params = {\n",
    "        \"loss_function\": \"Logloss\",\n",
    "        #\"eval_metric\" : \"AUC\", \n",
    "        \"depth\" : int(depth),\n",
    "        \"l2_leaf_reg\" : l2_leaf_reg,\n",
    "        \"learning_rate\" : learning_rate,\n",
    "        #\"random_state\" : 42,\n",
    "        \"rsm\" : rsm,\n",
    "        \"iterations\": int(iterations)\n",
    "        #\"logging_level\" : \"Silent\",\n",
    "        #\"thread_count\": 24,\n",
    "        #\"num_boost_round\": int(num_boost_round)\n",
    "    }\n",
    "    X_train = agrupacionEntrenamiento\n",
    "    y_train = entrenamientoResultado\n",
    "    categorical_features = listaDeColumnasCategoricas\n",
    "    #['Region','Territory','Product_Type','Product_Category_B',\n",
    "    #                        'Account_Type','Delivery_Quarter','Billing_Country']\n",
    "\n",
    "    train_data = Pool(data=X_train, label=y_train, \n",
    "                               cat_features=categorical_features)\n",
    "    \n",
    "    cv_result = cv(train_data,\n",
    "                       params,\n",
    "                       early_stopping_rounds=100,\n",
    "                       stratified=True,\n",
    "                       nfold=3)\n",
    "    return cv_result['train-Logloss-mean'].iloc[-1]\n",
    "\n",
    "def bayesianoCatboost():\n",
    "  grid = {'learning_rate': (0.01,0.10),\n",
    "          'depth': (8,14),\n",
    "          'l2_leaf_reg': (0.1,3.0),\n",
    "          'iterations': (10,100),\n",
    "          'rsm':(0.01,1.0)\n",
    "          }\n",
    "  catboostBO = BayesianOptimization(catboost_classifier, grid)\n",
    "\n",
    "  return catboostBO.maximize(n_iter=15, init_points=2)"
   ]
  },
  {
   "cell_type": "code",
   "execution_count": 33,
   "metadata": {
    "id": "hRhmFXIFXlLU"
   },
   "outputs": [],
   "source": [
    "#bayesianoCatboost()\n",
    "#catboost_classifier(0.05,10,3.5,20,0.5)"
   ]
  },
  {
   "cell_type": "markdown",
   "metadata": {
    "id": "mNQ7QI9D-VCT"
   },
   "source": [
    "### Predicción"
   ]
  },
  {
   "cell_type": "code",
   "execution_count": 34,
   "metadata": {
    "id": "4fhBQZdlK0xf"
   },
   "outputs": [],
   "source": [
    "def catboost(train_data,train_labels,cat_features,eval_data):\n",
    "  # Inicializador de CatBoostClassifier\n",
    "  model = CatBoostClassifier(iterations=100,\n",
    "                             learning_rate=0.4,#0.5\n",
    "                             depth=7,#8\n",
    "                             l2_leaf_reg=4,#3\n",
    "                             rsm=0.7,#0.5\n",
    "                             #random_strength=0.75,\n",
    "                             grow_policy='SymmetricTree'#'SymmetricTree', 'Depthwise' y 'Lossguide'\n",
    "                             #random_seed=2\n",
    "                             #use_best_model=True,#Requiere data de evalucion\n",
    "                             #eval_set=supuestos\n",
    "                             )\n",
    "  #parametros importantes por agregar: l2_leaf_reg, rsm\n",
    "  #para tipos de category: cat_features, one_hot_max_size\n",
    "\n",
    "  # Entrenamiento del modelo\n",
    "  #model.fit(train_data, train_labels, cat_features)\n",
    "\n",
    "  eval_dataset = Pool(data=eval_data,\n",
    "                      label=supuestos[['Target']],\n",
    "                      cat_features=cat_features)\n",
    "  model.fit(train_data, train_labels, cat_features, use_best_model=True, eval_set=eval_dataset)\n",
    "\n",
    "  # obtener prediccion\n",
    "  #preds_class = model.predict(eval_data)\n",
    "\n",
    "  # obtener probabilidad de prediccion\n",
    "  preds_proba = model.predict_proba(eval_data)\n",
    "\n",
    "  # obtener RawFormulaVal de la prediccion\n",
    "  #preds_raw = model.predict(eval_data, prediction_type='RawFormulaVal')\n",
    "\n",
    "  #return resultado(eval_data,preds_proba)\n",
    "  importancia = model.get_feature_importance(type= \"FeatureImportance\",prettified=True)\n",
    "  return preds_proba,importancia"
   ]
  },
  {
   "cell_type": "code",
   "execution_count": 35,
   "metadata": {
    "colab": {
     "base_uri": "https://localhost:8080/"
    },
    "id": "DgznGL-LaXIz",
    "outputId": "09886689-e73b-468f-f8e0-2b95d9cd1faa"
   },
   "outputs": [
    {
     "name": "stdout",
     "output_type": "stream",
     "text": [
      "0:\tlearn: 0.5478415\ttest: 0.5552760\tbest: 0.5552760 (0)\ttotal: 76.7ms\tremaining: 7.59s\n",
      "1:\tlearn: 0.4906782\ttest: 0.5177977\tbest: 0.5177977 (1)\ttotal: 88.6ms\tremaining: 4.34s\n",
      "2:\tlearn: 0.4630350\ttest: 0.4867127\tbest: 0.4867127 (2)\ttotal: 101ms\tremaining: 3.26s\n",
      "3:\tlearn: 0.4414192\ttest: 0.4830468\tbest: 0.4830468 (3)\ttotal: 112ms\tremaining: 2.69s\n",
      "4:\tlearn: 0.4295737\ttest: 0.4784038\tbest: 0.4784038 (4)\ttotal: 123ms\tremaining: 2.35s\n",
      "5:\tlearn: 0.4144896\ttest: 0.4745628\tbest: 0.4745628 (5)\ttotal: 135ms\tremaining: 2.11s\n",
      "6:\tlearn: 0.3969836\ttest: 0.4713811\tbest: 0.4713811 (6)\ttotal: 147ms\tremaining: 1.95s\n",
      "7:\tlearn: 0.3842524\ttest: 0.4740878\tbest: 0.4713811 (6)\ttotal: 159ms\tremaining: 1.82s\n",
      "8:\tlearn: 0.3767217\ttest: 0.4691753\tbest: 0.4691753 (8)\ttotal: 169ms\tremaining: 1.71s\n",
      "9:\tlearn: 0.3712488\ttest: 0.4523652\tbest: 0.4523652 (9)\ttotal: 180ms\tremaining: 1.62s\n",
      "10:\tlearn: 0.3637330\ttest: 0.4543780\tbest: 0.4523652 (9)\ttotal: 191ms\tremaining: 1.54s\n",
      "11:\tlearn: 0.3598068\ttest: 0.4573887\tbest: 0.4523652 (9)\ttotal: 202ms\tremaining: 1.48s\n",
      "12:\tlearn: 0.3566906\ttest: 0.4674501\tbest: 0.4523652 (9)\ttotal: 214ms\tremaining: 1.43s\n",
      "13:\tlearn: 0.3519100\ttest: 0.4657525\tbest: 0.4523652 (9)\ttotal: 224ms\tremaining: 1.38s\n",
      "14:\tlearn: 0.3451867\ttest: 0.4703415\tbest: 0.4523652 (9)\ttotal: 236ms\tremaining: 1.33s\n",
      "15:\tlearn: 0.3393749\ttest: 0.4775422\tbest: 0.4523652 (9)\ttotal: 247ms\tremaining: 1.3s\n",
      "16:\tlearn: 0.3367254\ttest: 0.4803182\tbest: 0.4523652 (9)\ttotal: 259ms\tremaining: 1.26s\n",
      "17:\tlearn: 0.3348624\ttest: 0.4810391\tbest: 0.4523652 (9)\ttotal: 275ms\tremaining: 1.25s\n",
      "18:\tlearn: 0.3303388\ttest: 0.4871745\tbest: 0.4523652 (9)\ttotal: 289ms\tremaining: 1.23s\n",
      "19:\tlearn: 0.3263747\ttest: 0.4910046\tbest: 0.4523652 (9)\ttotal: 304ms\tremaining: 1.22s\n",
      "20:\tlearn: 0.3253495\ttest: 0.4907663\tbest: 0.4523652 (9)\ttotal: 317ms\tremaining: 1.19s\n",
      "21:\tlearn: 0.3238793\ttest: 0.4918154\tbest: 0.4523652 (9)\ttotal: 328ms\tremaining: 1.16s\n",
      "22:\tlearn: 0.3194323\ttest: 0.4906749\tbest: 0.4523652 (9)\ttotal: 339ms\tremaining: 1.13s\n",
      "23:\tlearn: 0.3155708\ttest: 0.4929058\tbest: 0.4523652 (9)\ttotal: 350ms\tremaining: 1.11s\n",
      "24:\tlearn: 0.3124426\ttest: 0.4945183\tbest: 0.4523652 (9)\ttotal: 361ms\tremaining: 1.08s\n",
      "25:\tlearn: 0.3077074\ttest: 0.4972769\tbest: 0.4523652 (9)\ttotal: 372ms\tremaining: 1.06s\n",
      "26:\tlearn: 0.3062859\ttest: 0.4971168\tbest: 0.4523652 (9)\ttotal: 383ms\tremaining: 1.03s\n",
      "27:\tlearn: 0.3019622\ttest: 0.5061039\tbest: 0.4523652 (9)\ttotal: 394ms\tremaining: 1.01s\n",
      "28:\tlearn: 0.2997234\ttest: 0.5060149\tbest: 0.4523652 (9)\ttotal: 405ms\tremaining: 991ms\n",
      "29:\tlearn: 0.2967980\ttest: 0.5063015\tbest: 0.4523652 (9)\ttotal: 416ms\tremaining: 971ms\n",
      "30:\tlearn: 0.2935109\ttest: 0.5050959\tbest: 0.4523652 (9)\ttotal: 428ms\tremaining: 953ms\n",
      "31:\tlearn: 0.2909570\ttest: 0.5073467\tbest: 0.4523652 (9)\ttotal: 439ms\tremaining: 932ms\n",
      "32:\tlearn: 0.2865442\ttest: 0.5130819\tbest: 0.4523652 (9)\ttotal: 450ms\tremaining: 913ms\n",
      "33:\tlearn: 0.2840969\ttest: 0.5091087\tbest: 0.4523652 (9)\ttotal: 461ms\tremaining: 895ms\n",
      "34:\tlearn: 0.2785750\ttest: 0.5094160\tbest: 0.4523652 (9)\ttotal: 473ms\tremaining: 879ms\n",
      "35:\tlearn: 0.2754358\ttest: 0.5131737\tbest: 0.4523652 (9)\ttotal: 486ms\tremaining: 864ms\n",
      "36:\tlearn: 0.2739680\ttest: 0.5136372\tbest: 0.4523652 (9)\ttotal: 499ms\tremaining: 850ms\n",
      "37:\tlearn: 0.2693376\ttest: 0.5188468\tbest: 0.4523652 (9)\ttotal: 511ms\tremaining: 833ms\n",
      "38:\tlearn: 0.2666100\ttest: 0.5198770\tbest: 0.4523652 (9)\ttotal: 524ms\tremaining: 820ms\n",
      "39:\tlearn: 0.2658280\ttest: 0.5215481\tbest: 0.4523652 (9)\ttotal: 535ms\tremaining: 803ms\n",
      "40:\tlearn: 0.2618926\ttest: 0.5278565\tbest: 0.4523652 (9)\ttotal: 546ms\tremaining: 786ms\n",
      "41:\tlearn: 0.2603750\ttest: 0.5278091\tbest: 0.4523652 (9)\ttotal: 557ms\tremaining: 769ms\n",
      "42:\tlearn: 0.2575807\ttest: 0.5283906\tbest: 0.4523652 (9)\ttotal: 569ms\tremaining: 754ms\n",
      "43:\tlearn: 0.2555146\ttest: 0.5290911\tbest: 0.4523652 (9)\ttotal: 580ms\tremaining: 738ms\n",
      "44:\tlearn: 0.2537945\ttest: 0.5310017\tbest: 0.4523652 (9)\ttotal: 591ms\tremaining: 722ms\n",
      "45:\tlearn: 0.2528391\ttest: 0.5316277\tbest: 0.4523652 (9)\ttotal: 602ms\tremaining: 707ms\n",
      "46:\tlearn: 0.2505709\ttest: 0.5341001\tbest: 0.4523652 (9)\ttotal: 614ms\tremaining: 693ms\n",
      "47:\tlearn: 0.2476713\ttest: 0.5396575\tbest: 0.4523652 (9)\ttotal: 626ms\tremaining: 678ms\n",
      "48:\tlearn: 0.2447027\ttest: 0.5369956\tbest: 0.4523652 (9)\ttotal: 637ms\tremaining: 663ms\n",
      "49:\tlearn: 0.2407021\ttest: 0.5435670\tbest: 0.4523652 (9)\ttotal: 649ms\tremaining: 649ms\n",
      "50:\tlearn: 0.2405404\ttest: 0.5441770\tbest: 0.4523652 (9)\ttotal: 660ms\tremaining: 634ms\n",
      "51:\tlearn: 0.2385654\ttest: 0.5435540\tbest: 0.4523652 (9)\ttotal: 671ms\tremaining: 619ms\n",
      "52:\tlearn: 0.2374246\ttest: 0.5435727\tbest: 0.4523652 (9)\ttotal: 690ms\tremaining: 612ms\n",
      "53:\tlearn: 0.2347234\ttest: 0.5461134\tbest: 0.4523652 (9)\ttotal: 701ms\tremaining: 597ms\n",
      "54:\tlearn: 0.2332817\ttest: 0.5465551\tbest: 0.4523652 (9)\ttotal: 712ms\tremaining: 583ms\n",
      "55:\tlearn: 0.2330867\ttest: 0.5465059\tbest: 0.4523652 (9)\ttotal: 724ms\tremaining: 569ms\n",
      "56:\tlearn: 0.2318339\ttest: 0.5457722\tbest: 0.4523652 (9)\ttotal: 735ms\tremaining: 554ms\n",
      "57:\tlearn: 0.2294909\ttest: 0.5494261\tbest: 0.4523652 (9)\ttotal: 746ms\tremaining: 540ms\n",
      "58:\tlearn: 0.2267049\ttest: 0.5509207\tbest: 0.4523652 (9)\ttotal: 757ms\tremaining: 526ms\n",
      "59:\tlearn: 0.2255302\ttest: 0.5514884\tbest: 0.4523652 (9)\ttotal: 768ms\tremaining: 512ms\n",
      "60:\tlearn: 0.2221005\ttest: 0.5544339\tbest: 0.4523652 (9)\ttotal: 778ms\tremaining: 498ms\n",
      "61:\tlearn: 0.2204408\ttest: 0.5557837\tbest: 0.4523652 (9)\ttotal: 789ms\tremaining: 484ms\n",
      "62:\tlearn: 0.2179295\ttest: 0.5522914\tbest: 0.4523652 (9)\ttotal: 801ms\tremaining: 470ms\n",
      "63:\tlearn: 0.2155342\ttest: 0.5529656\tbest: 0.4523652 (9)\ttotal: 812ms\tremaining: 457ms\n",
      "64:\tlearn: 0.2138207\ttest: 0.5569133\tbest: 0.4523652 (9)\ttotal: 824ms\tremaining: 443ms\n",
      "65:\tlearn: 0.2128169\ttest: 0.5575643\tbest: 0.4523652 (9)\ttotal: 834ms\tremaining: 430ms\n",
      "66:\tlearn: 0.2107880\ttest: 0.5604698\tbest: 0.4523652 (9)\ttotal: 846ms\tremaining: 417ms\n",
      "67:\tlearn: 0.2079053\ttest: 0.5580081\tbest: 0.4523652 (9)\ttotal: 860ms\tremaining: 405ms\n",
      "68:\tlearn: 0.2066032\ttest: 0.5599601\tbest: 0.4523652 (9)\ttotal: 877ms\tremaining: 394ms\n",
      "69:\tlearn: 0.2050060\ttest: 0.5649735\tbest: 0.4523652 (9)\ttotal: 895ms\tremaining: 383ms\n",
      "70:\tlearn: 0.2024277\ttest: 0.5655912\tbest: 0.4523652 (9)\ttotal: 906ms\tremaining: 370ms\n",
      "71:\tlearn: 0.2007471\ttest: 0.5645547\tbest: 0.4523652 (9)\ttotal: 918ms\tremaining: 357ms\n",
      "72:\tlearn: 0.1996086\ttest: 0.5651894\tbest: 0.4523652 (9)\ttotal: 929ms\tremaining: 344ms\n",
      "73:\tlearn: 0.1974413\ttest: 0.5684244\tbest: 0.4523652 (9)\ttotal: 941ms\tremaining: 331ms\n",
      "74:\tlearn: 0.1962267\ttest: 0.5688449\tbest: 0.4523652 (9)\ttotal: 952ms\tremaining: 317ms\n",
      "75:\tlearn: 0.1939858\ttest: 0.5714091\tbest: 0.4523652 (9)\ttotal: 963ms\tremaining: 304ms\n",
      "76:\tlearn: 0.1932041\ttest: 0.5739255\tbest: 0.4523652 (9)\ttotal: 974ms\tremaining: 291ms\n",
      "77:\tlearn: 0.1915121\ttest: 0.5719686\tbest: 0.4523652 (9)\ttotal: 984ms\tremaining: 278ms\n",
      "78:\tlearn: 0.1897170\ttest: 0.5714389\tbest: 0.4523652 (9)\ttotal: 995ms\tremaining: 265ms\n",
      "79:\tlearn: 0.1882430\ttest: 0.5725446\tbest: 0.4523652 (9)\ttotal: 1.01s\tremaining: 252ms\n",
      "80:\tlearn: 0.1874679\ttest: 0.5732668\tbest: 0.4523652 (9)\ttotal: 1.02s\tremaining: 238ms\n",
      "81:\tlearn: 0.1871076\ttest: 0.5728810\tbest: 0.4523652 (9)\ttotal: 1.03s\tremaining: 226ms\n",
      "82:\tlearn: 0.1863756\ttest: 0.5738120\tbest: 0.4523652 (9)\ttotal: 1.04s\tremaining: 213ms\n",
      "83:\tlearn: 0.1844199\ttest: 0.5724654\tbest: 0.4523652 (9)\ttotal: 1.05s\tremaining: 200ms\n",
      "84:\tlearn: 0.1821515\ttest: 0.5760119\tbest: 0.4523652 (9)\ttotal: 1.06s\tremaining: 187ms\n",
      "85:\tlearn: 0.1807362\ttest: 0.5812870\tbest: 0.4523652 (9)\ttotal: 1.07s\tremaining: 174ms\n",
      "86:\tlearn: 0.1787632\ttest: 0.5793564\tbest: 0.4523652 (9)\ttotal: 1.09s\tremaining: 163ms\n",
      "87:\tlearn: 0.1777302\ttest: 0.5812810\tbest: 0.4523652 (9)\ttotal: 1.1s\tremaining: 150ms\n",
      "88:\tlearn: 0.1766917\ttest: 0.5816056\tbest: 0.4523652 (9)\ttotal: 1.11s\tremaining: 138ms\n",
      "89:\tlearn: 0.1756892\ttest: 0.5851658\tbest: 0.4523652 (9)\ttotal: 1.12s\tremaining: 125ms\n",
      "90:\tlearn: 0.1746218\ttest: 0.5867554\tbest: 0.4523652 (9)\ttotal: 1.13s\tremaining: 112ms\n",
      "91:\tlearn: 0.1737104\ttest: 0.5913589\tbest: 0.4523652 (9)\ttotal: 1.14s\tremaining: 99.5ms\n",
      "92:\tlearn: 0.1717956\ttest: 0.5910241\tbest: 0.4523652 (9)\ttotal: 1.16s\tremaining: 86.9ms\n",
      "93:\tlearn: 0.1704499\ttest: 0.5907320\tbest: 0.4523652 (9)\ttotal: 1.17s\tremaining: 74.4ms\n",
      "94:\tlearn: 0.1703349\ttest: 0.5919246\tbest: 0.4523652 (9)\ttotal: 1.18s\tremaining: 61.9ms\n",
      "95:\tlearn: 0.1693402\ttest: 0.5905241\tbest: 0.4523652 (9)\ttotal: 1.19s\tremaining: 49.5ms\n",
      "96:\tlearn: 0.1693287\ttest: 0.5904864\tbest: 0.4523652 (9)\ttotal: 1.2s\tremaining: 37.1ms\n",
      "97:\tlearn: 0.1672291\ttest: 0.5951496\tbest: 0.4523652 (9)\ttotal: 1.21s\tremaining: 24.7ms\n",
      "98:\tlearn: 0.1667795\ttest: 0.5952104\tbest: 0.4523652 (9)\ttotal: 1.22s\tremaining: 12.3ms\n",
      "99:\tlearn: 0.1650422\ttest: 0.5964430\tbest: 0.4523652 (9)\ttotal: 1.23s\tremaining: 0us\n",
      "\n",
      "bestTest = 0.4523651667\n",
      "bestIteration = 9\n",
      "\n",
      "Shrink model to first 10 iterations.\n"
     ]
    },
    {
     "data": {
      "text/plain": [
       "array([[0.47031199, 0.52968801],\n",
       "       [0.60200615, 0.39799385],\n",
       "       [0.67688946, 0.32311054],\n",
       "       ...,\n",
       "       [0.82959632, 0.17040368],\n",
       "       [0.80118451, 0.19881549],\n",
       "       [0.77210933, 0.22789067]])"
      ]
     },
     "execution_count": 35,
     "metadata": {},
     "output_type": "execute_result"
    }
   ],
   "source": [
    "#listaDeCategoricas = ['Region','Territory','Product_Type','Product_Category_B',\n",
    "#                      'Account_Type','Delivery_Quarter','Billing_Country',\n",
    "#                      'Delivery_Terms','Product_Family']\n",
    "res,importancia = catboost(agrupacionEntrenamiento.copy(deep=True),entrenamientoResultado.copy(deep=True),listaDeColumnasCategoricas,agrupacionTesteo.copy(deep=True))\n",
    "res"
   ]
  },
  {
   "cell_type": "code",
   "execution_count": 36,
   "metadata": {
    "colab": {
     "base_uri": "https://localhost:8080/"
    },
    "id": "Bgabwh58hq77",
    "outputId": "36e0e26a-e0d6-4d4e-d75f-66b823988469"
   },
   "outputs": [
    {
     "data": {
      "text/plain": [
       "array([0.52968801, 0.39799385, 0.32311054, ..., 0.17040368, 0.19881549,\n",
       "       0.22789067])"
      ]
     },
     "execution_count": 36,
     "metadata": {},
     "output_type": "execute_result"
    }
   ],
   "source": [
    "resultado = auxiliarUnificarValor(res)\n",
    "#resultado = res\n",
    "resultado = (resultado - 1) * (-1)#En las ultimas pruevas es el opuesto el que genera mejor resultado\n",
    "resultado"
   ]
  },
  {
   "cell_type": "code",
   "execution_count": 37,
   "metadata": {
    "colab": {
     "base_uri": "https://localhost:8080/",
     "height": 238
    },
    "id": "cv9IaH_CjpoN",
    "outputId": "fa2a938a-23e3-4919-b388-14c70ba55b43"
   },
   "outputs": [
    {
     "data": {
      "text/html": [
       "<div>\n",
       "<style scoped>\n",
       "    .dataframe tbody tr th:only-of-type {\n",
       "        vertical-align: middle;\n",
       "    }\n",
       "\n",
       "    .dataframe tbody tr th {\n",
       "        vertical-align: top;\n",
       "    }\n",
       "\n",
       "    .dataframe thead th {\n",
       "        text-align: right;\n",
       "    }\n",
       "</style>\n",
       "<table border=\"1\" class=\"dataframe\">\n",
       "  <thead>\n",
       "    <tr style=\"text-align: right;\">\n",
       "      <th></th>\n",
       "      <th>Target</th>\n",
       "    </tr>\n",
       "    <tr>\n",
       "      <th>Opportunity_ID</th>\n",
       "      <th></th>\n",
       "    </tr>\n",
       "  </thead>\n",
       "  <tbody>\n",
       "    <tr>\n",
       "      <th>10689</th>\n",
       "      <td>0.53</td>\n",
       "    </tr>\n",
       "    <tr>\n",
       "      <th>10690</th>\n",
       "      <td>0.40</td>\n",
       "    </tr>\n",
       "    <tr>\n",
       "      <th>10691</th>\n",
       "      <td>0.32</td>\n",
       "    </tr>\n",
       "    <tr>\n",
       "      <th>10692</th>\n",
       "      <td>0.37</td>\n",
       "    </tr>\n",
       "    <tr>\n",
       "      <th>10693</th>\n",
       "      <td>0.83</td>\n",
       "    </tr>\n",
       "  </tbody>\n",
       "</table>\n",
       "</div>"
      ],
      "text/plain": [
       "                             Target\n",
       "Opportunity_ID                     \n",
       "10689                          0.53\n",
       "10690                          0.40\n",
       "10691                          0.32\n",
       "10692                          0.37\n",
       "10693                          0.83"
      ]
     },
     "execution_count": 37,
     "metadata": {},
     "output_type": "execute_result"
    }
   ],
   "source": [
    "dataResultante = generarResultado(agrupacionTesteo,resultado)\n",
    "dataResultante.head()"
   ]
  },
  {
   "cell_type": "code",
   "execution_count": 38,
   "metadata": {
    "id": "TjaNnyRAySZv"
   },
   "outputs": [
    {
     "data": {
      "text/html": [
       "<div>\n",
       "<style scoped>\n",
       "    .dataframe tbody tr th:only-of-type {\n",
       "        vertical-align: middle;\n",
       "    }\n",
       "\n",
       "    .dataframe tbody tr th {\n",
       "        vertical-align: top;\n",
       "    }\n",
       "\n",
       "    .dataframe thead th {\n",
       "        text-align: right;\n",
       "    }\n",
       "</style>\n",
       "<table border=\"1\" class=\"dataframe\">\n",
       "  <thead>\n",
       "    <tr style=\"text-align: right;\">\n",
       "      <th></th>\n",
       "      <th>Feature Id</th>\n",
       "      <th>Importances</th>\n",
       "    </tr>\n",
       "  </thead>\n",
       "  <tbody>\n",
       "    <tr>\n",
       "      <th>0</th>\n",
       "      <td>Product_Type</td>\n",
       "      <td>22.20</td>\n",
       "    </tr>\n",
       "    <tr>\n",
       "      <th>1</th>\n",
       "      <td>TRF</td>\n",
       "      <td>9.96</td>\n",
       "    </tr>\n",
       "    <tr>\n",
       "      <th>2</th>\n",
       "      <td>Planned_Delivery_Start_Date_dia</td>\n",
       "      <td>9.04</td>\n",
       "    </tr>\n",
       "    <tr>\n",
       "      <th>3</th>\n",
       "      <td>Region</td>\n",
       "      <td>8.51</td>\n",
       "    </tr>\n",
       "    <tr>\n",
       "      <th>4</th>\n",
       "      <td>Account_Created_Date_anio</td>\n",
       "      <td>5.50</td>\n",
       "    </tr>\n",
       "    <tr>\n",
       "      <th>5</th>\n",
       "      <td>Billing_Country</td>\n",
       "      <td>5.27</td>\n",
       "    </tr>\n",
       "    <tr>\n",
       "      <th>6</th>\n",
       "      <td>Account_Type</td>\n",
       "      <td>4.93</td>\n",
       "    </tr>\n",
       "    <tr>\n",
       "      <th>7</th>\n",
       "      <td>Last_Modified_Date_anio</td>\n",
       "      <td>3.91</td>\n",
       "    </tr>\n",
       "    <tr>\n",
       "      <th>8</th>\n",
       "      <td>Last_Modified_Date_dia</td>\n",
       "      <td>3.82</td>\n",
       "    </tr>\n",
       "    <tr>\n",
       "      <th>9</th>\n",
       "      <td>Total_Amount</td>\n",
       "      <td>3.77</td>\n",
       "    </tr>\n",
       "    <tr>\n",
       "      <th>10</th>\n",
       "      <td>Planned_Delivery_End_Date_dia</td>\n",
       "      <td>2.64</td>\n",
       "    </tr>\n",
       "    <tr>\n",
       "      <th>11</th>\n",
       "      <td>ASP_(converted)</td>\n",
       "      <td>2.43</td>\n",
       "    </tr>\n",
       "    <tr>\n",
       "      <th>12</th>\n",
       "      <td>Opportunity_Created_Date_mes</td>\n",
       "      <td>2.33</td>\n",
       "    </tr>\n",
       "    <tr>\n",
       "      <th>13</th>\n",
       "      <td>Opportunity_Created_Date_anio</td>\n",
       "      <td>2.21</td>\n",
       "    </tr>\n",
       "    <tr>\n",
       "      <th>14</th>\n",
       "      <td>Product_Family</td>\n",
       "      <td>2.06</td>\n",
       "    </tr>\n",
       "    <tr>\n",
       "      <th>15</th>\n",
       "      <td>Planned_Delivery_End_Date_anio</td>\n",
       "      <td>1.87</td>\n",
       "    </tr>\n",
       "    <tr>\n",
       "      <th>16</th>\n",
       "      <td>Last_Modified_Date_mes</td>\n",
       "      <td>1.80</td>\n",
       "    </tr>\n",
       "    <tr>\n",
       "      <th>17</th>\n",
       "      <td>Delivery_Terms</td>\n",
       "      <td>1.79</td>\n",
       "    </tr>\n",
       "    <tr>\n",
       "      <th>18</th>\n",
       "      <td>modificaciones</td>\n",
       "      <td>1.38</td>\n",
       "    </tr>\n",
       "    <tr>\n",
       "      <th>19</th>\n",
       "      <td>Account_Created_Date_dia</td>\n",
       "      <td>1.21</td>\n",
       "    </tr>\n",
       "    <tr>\n",
       "      <th>20</th>\n",
       "      <td>Account_Created_Date_mes</td>\n",
       "      <td>1.20</td>\n",
       "    </tr>\n",
       "    <tr>\n",
       "      <th>21</th>\n",
       "      <td>Planned_Delivery_Start_Date_anio</td>\n",
       "      <td>0.93</td>\n",
       "    </tr>\n",
       "    <tr>\n",
       "      <th>22</th>\n",
       "      <td>Planned_Delivery_End_Date_mes</td>\n",
       "      <td>0.62</td>\n",
       "    </tr>\n",
       "    <tr>\n",
       "      <th>23</th>\n",
       "      <td>Planned_Delivery_Start_Date_mes</td>\n",
       "      <td>0.61</td>\n",
       "    </tr>\n",
       "    <tr>\n",
       "      <th>24</th>\n",
       "      <td>Delivery_Quarter</td>\n",
       "      <td>0.00</td>\n",
       "    </tr>\n",
       "    <tr>\n",
       "      <th>25</th>\n",
       "      <td>Territory</td>\n",
       "      <td>0.00</td>\n",
       "    </tr>\n",
       "    <tr>\n",
       "      <th>26</th>\n",
       "      <td>Opportunity_Created_Date_dia</td>\n",
       "      <td>0.00</td>\n",
       "    </tr>\n",
       "  </tbody>\n",
       "</table>\n",
       "</div>"
      ],
      "text/plain": [
       "                          Feature Id          Importances\n",
       "0                       Product_Type                22.20\n",
       "1                                TRF                 9.96\n",
       "2    Planned_Delivery_Start_Date_dia                 9.04\n",
       "3                             Region                 8.51\n",
       "4          Account_Created_Date_anio                 5.50\n",
       "5                    Billing_Country                 5.27\n",
       "6                       Account_Type                 4.93\n",
       "7            Last_Modified_Date_anio                 3.91\n",
       "8             Last_Modified_Date_dia                 3.82\n",
       "9                       Total_Amount                 3.77\n",
       "10     Planned_Delivery_End_Date_dia                 2.64\n",
       "11                   ASP_(converted)                 2.43\n",
       "12      Opportunity_Created_Date_mes                 2.33\n",
       "13     Opportunity_Created_Date_anio                 2.21\n",
       "14                    Product_Family                 2.06\n",
       "15    Planned_Delivery_End_Date_anio                 1.87\n",
       "16            Last_Modified_Date_mes                 1.80\n",
       "17                    Delivery_Terms                 1.79\n",
       "18                    modificaciones                 1.38\n",
       "19          Account_Created_Date_dia                 1.21\n",
       "20          Account_Created_Date_mes                 1.20\n",
       "21  Planned_Delivery_Start_Date_anio                 0.93\n",
       "22     Planned_Delivery_End_Date_mes                 0.62\n",
       "23   Planned_Delivery_Start_Date_mes                 0.61\n",
       "24                  Delivery_Quarter                 0.00\n",
       "25                         Territory                 0.00\n",
       "26      Opportunity_Created_Date_dia                 0.00"
      ]
     },
     "execution_count": 38,
     "metadata": {},
     "output_type": "execute_result"
    }
   ],
   "source": [
    "importancia"
   ]
  },
  {
   "cell_type": "markdown",
   "metadata": {
    "id": "onKsrVr1lwas"
   },
   "source": [
    "## XGBoost"
   ]
  },
  {
   "cell_type": "code",
   "execution_count": 39,
   "metadata": {
    "id": "uAJLnCXIl1eQ"
   },
   "outputs": [],
   "source": [
    "def xgboost(train_set, train_label,listaCategorica,test_set,masImportantes=0):\n",
    "  xgb_reg = xgb.XGBClassifier(max_depth = 8, \n",
    "                           colsample_bytree = 0.5, \n",
    "                           learning_rate = 0.3, \n",
    "                           alpha = 8,\n",
    "                           min_child_weight = 0.5,\n",
    "                           n_estimators = 200,\n",
    "                           objetive = 'reg:squarederror')\n",
    "  xgb_reg.fit(train_set, train_label)\n",
    "  predicts = xgb_reg.predict_proba(test_set)\n",
    "  if (masImportantes > 0):\n",
    "    xgb.plot_importance(xg_reg, max_num_features=masImportantes)\n",
    "  return predicts\n",
    "\n",
    "\n"
   ]
  },
  {
   "cell_type": "code",
   "execution_count": 40,
   "metadata": {
    "id": "viXhlcxFonZc"
   },
   "outputs": [
    {
     "name": "stdout",
     "output_type": "stream",
     "text": [
      "<class 'pandas.core.frame.DataFrame'>\n",
      "Int64Index: 9791 entries, 0 to 12803\n",
      "Data columns (total 27 columns):\n",
      " #   Column                            Non-Null Count  Dtype  \n",
      "---  ------                            --------------  -----  \n",
      " 0   modificaciones                    9791 non-null   int64  \n",
      " 1   Total_Amount                      9791 non-null   float64\n",
      " 2   Region                            9791 non-null   int8   \n",
      " 3   Territory                         9791 non-null   int8   \n",
      " 4   ASP_(converted)                   9791 non-null   float64\n",
      " 5   Account_Type                      9791 non-null   int8   \n",
      " 6   Delivery_Quarter                  9791 non-null   int8   \n",
      " 7   Product_Type                      9791 non-null   int8   \n",
      " 8   Billing_Country                   9791 non-null   int8   \n",
      " 9   Delivery_Terms                    9791 non-null   int8   \n",
      " 10  Product_Family                    9791 non-null   int16  \n",
      " 11  TRF                               9791 non-null   float64\n",
      " 12  Last_Modified_Date_anio           9791 non-null   int64  \n",
      " 13  Last_Modified_Date_mes            9791 non-null   int64  \n",
      " 14  Last_Modified_Date_dia            9791 non-null   int64  \n",
      " 15  Opportunity_Created_Date_anio     9791 non-null   int64  \n",
      " 16  Opportunity_Created_Date_mes      9791 non-null   int64  \n",
      " 17  Opportunity_Created_Date_dia      9791 non-null   int64  \n",
      " 18  Account_Created_Date_anio         9791 non-null   int64  \n",
      " 19  Account_Created_Date_mes          9791 non-null   int64  \n",
      " 20  Account_Created_Date_dia          9791 non-null   int64  \n",
      " 21  Planned_Delivery_Start_Date_anio  9791 non-null   int64  \n",
      " 22  Planned_Delivery_Start_Date_mes   9791 non-null   int64  \n",
      " 23  Planned_Delivery_Start_Date_dia   9791 non-null   int64  \n",
      " 24  Planned_Delivery_End_Date_anio    9734 non-null   float64\n",
      " 25  Planned_Delivery_End_Date_mes     9734 non-null   float64\n",
      " 26  Planned_Delivery_End_Date_dia     9734 non-null   float64\n",
      "dtypes: float64(6), int16(1), int64(13), int8(7)\n",
      "memory usage: 1.6 MB\n"
     ]
    }
   ],
   "source": [
    "#listaDeCategoricas = ['Region','Territory','Product_Type','Product_Category_B',\n",
    "#                      'Account_Type','Delivery_Quarter','Billing_Country',\n",
    "#                      'Delivery_Terms','Product_Family','ASP_(converted)_Currency']\n",
    "#listaDeCategoricas = []\n",
    "agrupacionEntrenamientoXGB = agrupacionEntrenamiento.copy(True)\n",
    "agrupacionTesteoXGB = agrupacionTesteo.copy(True)\n",
    "\n",
    "# convert categorical columns to integers \n",
    "#usando la funcion de catboost\n",
    "for header in listaDeColumnasCategoricas:\n",
    "  agrupacionEntrenamientoXGB[header] = agrupacionEntrenamientoXGB[header].astype('category').cat.codes\n",
    "  agrupacionTesteoXGB[header] = agrupacionTesteoXGB[header].astype('category').cat.codes\n",
    "#usando metodo personalizado\n",
    "#for columna in listaDeCategoricas:\n",
    "#  agrupacionEntrenamientoXGB,agrupacionTesteoXGB = convertirCategoryEnEnteros(agrupacionEntrenamientoXGB,agrupacionTesteoXGB,columna)\n",
    "\n",
    "\n",
    "agrupacionEntrenamientoXGB.info()"
   ]
  },
  {
   "cell_type": "code",
   "execution_count": 41,
   "metadata": {
    "id": "UmyatqVjIIP2"
   },
   "outputs": [
    {
     "name": "stdout",
     "output_type": "stream",
     "text": [
      "<class 'pandas.core.frame.DataFrame'>\n",
      "Int64Index: 1567 entries, 10689 to 12368\n",
      "Data columns (total 27 columns):\n",
      " #   Column                            Non-Null Count  Dtype  \n",
      "---  ------                            --------------  -----  \n",
      " 0   modificaciones                    1567 non-null   int64  \n",
      " 1   Total_Amount                      1567 non-null   float64\n",
      " 2   Region                            1567 non-null   int8   \n",
      " 3   Territory                         1567 non-null   int8   \n",
      " 4   ASP_(converted)                   1567 non-null   float64\n",
      " 5   Account_Type                      1567 non-null   int8   \n",
      " 6   Delivery_Quarter                  1567 non-null   int8   \n",
      " 7   Product_Type                      1567 non-null   int8   \n",
      " 8   Billing_Country                   1567 non-null   int8   \n",
      " 9   Delivery_Terms                    1567 non-null   int8   \n",
      " 10  Product_Family                    1567 non-null   int8   \n",
      " 11  TRF                               1567 non-null   float64\n",
      " 12  Last_Modified_Date_anio           1567 non-null   int64  \n",
      " 13  Last_Modified_Date_mes            1567 non-null   int64  \n",
      " 14  Last_Modified_Date_dia            1567 non-null   int64  \n",
      " 15  Opportunity_Created_Date_anio     1567 non-null   int64  \n",
      " 16  Opportunity_Created_Date_mes      1567 non-null   int64  \n",
      " 17  Opportunity_Created_Date_dia      1567 non-null   int64  \n",
      " 18  Account_Created_Date_anio         1567 non-null   int64  \n",
      " 19  Account_Created_Date_mes          1567 non-null   int64  \n",
      " 20  Account_Created_Date_dia          1567 non-null   int64  \n",
      " 21  Planned_Delivery_Start_Date_anio  1567 non-null   int64  \n",
      " 22  Planned_Delivery_Start_Date_mes   1567 non-null   int64  \n",
      " 23  Planned_Delivery_Start_Date_dia   1567 non-null   int64  \n",
      " 24  Planned_Delivery_End_Date_anio    1524 non-null   float64\n",
      " 25  Planned_Delivery_End_Date_mes     1524 non-null   float64\n",
      " 26  Planned_Delivery_End_Date_dia     1524 non-null   float64\n",
      "dtypes: float64(6), int64(13), int8(8)\n",
      "memory usage: 257.1 KB\n"
     ]
    }
   ],
   "source": [
    "agrupacionTesteoXGB.info()"
   ]
  },
  {
   "cell_type": "code",
   "execution_count": 42,
   "metadata": {
    "colab": {
     "base_uri": "https://localhost:8080/"
    },
    "id": "HHZouTYbv07j",
    "outputId": "4aeb3c19-e191-4a57-f7f3-22194475be84"
   },
   "outputs": [
    {
     "name": "stdout",
     "output_type": "stream",
     "text": [
      "[16:01:40] WARNING: /Users/travis/build/dmlc/xgboost/src/learner.cc:541: \n",
      "Parameters: { objetive } might not be used.\n",
      "\n",
      "  This may not be accurate due to some parameters are only used in language bindings but\n",
      "  passed down to XGBoost core.  Or some parameters are not used but slip through this\n",
      "  verification. Please open an issue if you find above cases.\n",
      "\n",
      "\n",
      "[16:01:40] WARNING: /Users/travis/build/dmlc/xgboost/src/learner.cc:1061: Starting in XGBoost 1.3.0, the default evaluation metric used with the objective 'binary:logistic' was changed from 'error' to 'logloss'. Explicitly set eval_metric if you'd like to restore the old behavior.\n"
     ]
    },
    {
     "data": {
      "text/plain": [
       "array([[0.16836941, 0.8316306 ],\n",
       "       [0.42674875, 0.57325125],\n",
       "       [0.40303016, 0.59696984],\n",
       "       ...,\n",
       "       [0.9148312 , 0.08516878],\n",
       "       [0.23189783, 0.76810217],\n",
       "       [0.87201977, 0.12798025]], dtype=float32)"
      ]
     },
     "execution_count": 42,
     "metadata": {},
     "output_type": "execute_result"
    }
   ],
   "source": [
    "res = xgboost(agrupacionEntrenamientoXGB,entrenamientoResultado,listaDeColumnasCategoricas,agrupacionTesteoXGB)\n",
    "res"
   ]
  },
  {
   "cell_type": "code",
   "execution_count": 43,
   "metadata": {
    "colab": {
     "base_uri": "https://localhost:8080/"
    },
    "id": "ne_Bb8L6QuXg",
    "outputId": "4f127b88-9bdd-4054-f0f1-e0ec16805d3b"
   },
   "outputs": [
    {
     "data": {
      "text/plain": [
       "array([0.8316306 , 0.57325125, 0.59696984, ..., 0.08516878, 0.76810217,\n",
       "       0.12798023], dtype=float32)"
      ]
     },
     "execution_count": 43,
     "metadata": {},
     "output_type": "execute_result"
    }
   ],
   "source": [
    "resultado = auxiliarUnificarValor(res)\n",
    "resultado = (resultado - 1) * (-1)#En las ultimas pruevas es el opuesto el que genera mejor resultado\n",
    "resultado"
   ]
  },
  {
   "cell_type": "code",
   "execution_count": 44,
   "metadata": {
    "colab": {
     "base_uri": "https://localhost:8080/",
     "height": 238
    },
    "id": "hHUrCcTgosNz",
    "outputId": "34711a86-d5a2-4054-84cd-20886301d099"
   },
   "outputs": [
    {
     "data": {
      "text/html": [
       "<div>\n",
       "<style scoped>\n",
       "    .dataframe tbody tr th:only-of-type {\n",
       "        vertical-align: middle;\n",
       "    }\n",
       "\n",
       "    .dataframe tbody tr th {\n",
       "        vertical-align: top;\n",
       "    }\n",
       "\n",
       "    .dataframe thead th {\n",
       "        text-align: right;\n",
       "    }\n",
       "</style>\n",
       "<table border=\"1\" class=\"dataframe\">\n",
       "  <thead>\n",
       "    <tr style=\"text-align: right;\">\n",
       "      <th></th>\n",
       "      <th>Target</th>\n",
       "    </tr>\n",
       "    <tr>\n",
       "      <th>Opportunity_ID</th>\n",
       "      <th></th>\n",
       "    </tr>\n",
       "  </thead>\n",
       "  <tbody>\n",
       "    <tr>\n",
       "      <th>10689</th>\n",
       "      <td>0.83</td>\n",
       "    </tr>\n",
       "    <tr>\n",
       "      <th>10690</th>\n",
       "      <td>0.57</td>\n",
       "    </tr>\n",
       "    <tr>\n",
       "      <th>10691</th>\n",
       "      <td>0.60</td>\n",
       "    </tr>\n",
       "    <tr>\n",
       "      <th>10692</th>\n",
       "      <td>0.36</td>\n",
       "    </tr>\n",
       "    <tr>\n",
       "      <th>10693</th>\n",
       "      <td>0.91</td>\n",
       "    </tr>\n",
       "  </tbody>\n",
       "</table>\n",
       "</div>"
      ],
      "text/plain": [
       "                             Target\n",
       "Opportunity_ID                     \n",
       "10689                          0.83\n",
       "10690                          0.57\n",
       "10691                          0.60\n",
       "10692                          0.36\n",
       "10693                          0.91"
      ]
     },
     "execution_count": 44,
     "metadata": {},
     "output_type": "execute_result"
    }
   ],
   "source": [
    "dataResultante = generarResultado(agrupacionTesteo,resultado)\n",
    "dataResultante.head()"
   ]
  },
  {
   "cell_type": "markdown",
   "metadata": {
    "id": "baxdAoAzfwxz"
   },
   "source": [
    "## LightGBM"
   ]
  },
  {
   "cell_type": "code",
   "execution_count": 45,
   "metadata": {
    "id": "nZVOGGgFgU3H"
   },
   "outputs": [],
   "source": [
    "def lightGBM(train_data,train_labels,cat_features,eval_data):    \n",
    "\n",
    "      # Create training and validation sets\n",
    "\n",
    "    x_train, x_test, y_train, y_test = train_test_split(train_data,train_labels, test_size=0.2, random_state=42, stratify=train_labels)\n",
    "\n",
    "    categorical_features = cat_features\n",
    "    train_data = lgb.Dataset(x_train, label=y_train, categorical_feature=categorical_features)\n",
    "    test_data = lgb.Dataset(x_test, label=y_test)\n",
    "\n",
    "     # Train the model\n",
    "    parameters = {\n",
    "          'application': 'binary',\n",
    "         'objective': 'binary',\n",
    "          'metric': 'auc',\n",
    "          'is_unbalance': 'true',\n",
    "          'boosting': 'gbdt',\n",
    "          #'min_data_in_leaf': 200,\n",
    "          'num_iteration': 122,\n",
    "          'num_leaves': 31,\n",
    "          'max_bin': 63,\n",
    "          'feature_fraction': 0.05,\n",
    "          'bagging_fraction': 0.05,\n",
    "          'bagging_freq': 20,\n",
    "          'learning_rate': 0.08,\n",
    "          #'min_gain_to_split' : 5.0,\n",
    "          'verbose': 0}\n",
    "\n",
    "    model = lgb.train(parameters,\n",
    "                        train_data,\n",
    "                        valid_sets=test_data,\n",
    "                        num_boost_round=5000,\n",
    "                        early_stopping_rounds=100)\n",
    "\n",
    "    submission = eval_data\n",
    "    ids = submission.index.values\n",
    "\n",
    "    x = submission\n",
    "    y = model.predict(x)\n",
    "\n",
    "    output = pd.DataFrame({'id': ids, 'target': y})\n",
    "    output.to_csv(\"submission.csv\", index=False)\n",
    "\n",
    "    #lgb.plot_importance(model)\n",
    "\n",
    "    return y"
   ]
  },
  {
   "cell_type": "code",
   "execution_count": 46,
   "metadata": {
    "colab": {
     "base_uri": "https://localhost:8080/",
     "height": 1000
    },
    "id": "2UVA9vOQjN2o",
    "outputId": "45462fea-fc78-4dbe-8fef-221712ae8500"
   },
   "outputs": [
    {
     "name": "stdout",
     "output_type": "stream",
     "text": [
      "[LightGBM] [Warning] objective is set=binary, application=binary will be ignored. Current value: objective=binary\n",
      "[LightGBM] [Warning] objective is set=binary, application=binary will be ignored. Current value: objective=binary\n",
      "[LightGBM] [Warning] Auto-choosing row-wise multi-threading, the overhead of testing was 0.000776 seconds.\n",
      "You can set `force_row_wise=true` to remove the overhead.\n",
      "And if memory is not enough, you can set `force_col_wise=true`.\n",
      "[LightGBM] [Warning] objective is set=binary, application=binary will be ignored. Current value: objective=binary\n",
      "[LightGBM] [Warning] No further splits with positive gain, best gain: -inf\n",
      "[1]\tvalid_0's auc: 0.554\n",
      "Training until validation scores don't improve for 100 rounds\n",
      "[LightGBM] [Warning] No further splits with positive gain, best gain: -inf\n",
      "[2]\tvalid_0's auc: 0.602497\n",
      "[LightGBM] [Warning] No further splits with positive gain, best gain: -inf\n",
      "[3]\tvalid_0's auc: 0.603877\n",
      "[LightGBM] [Warning] No further splits with positive gain, best gain: -inf\n",
      "[4]\tvalid_0's auc: 0.683728\n",
      "[LightGBM] [Warning] No further splits with positive gain, best gain: -inf\n",
      "[5]\tvalid_0's auc: 0.692258\n",
      "[LightGBM] [Warning] No further splits with positive gain, best gain: -inf\n",
      "[6]\tvalid_0's auc: 0.724348\n",
      "[LightGBM] [Warning] No further splits with positive gain, best gain: -inf\n",
      "[7]\tvalid_0's auc: 0.724021\n",
      "[LightGBM] [Warning] No further splits with positive gain, best gain: -inf\n",
      "[8]\tvalid_0's auc: 0.725564\n",
      "[LightGBM] [Warning] No further splits with positive gain, best gain: -inf\n",
      "[9]\tvalid_0's auc: 0.722121\n",
      "[LightGBM] [Warning] No further splits with positive gain, best gain: -inf\n",
      "[10]\tvalid_0's auc: 0.731245\n",
      "[LightGBM] [Warning] No further splits with positive gain, best gain: -inf\n",
      "[11]\tvalid_0's auc: 0.729599\n",
      "[LightGBM] [Warning] No further splits with positive gain, best gain: -inf\n",
      "[12]\tvalid_0's auc: 0.726611\n",
      "[LightGBM] [Warning] No further splits with positive gain, best gain: -inf\n",
      "[13]\tvalid_0's auc: 0.720608\n",
      "[LightGBM] [Warning] No further splits with positive gain, best gain: -inf\n",
      "[14]\tvalid_0's auc: 0.724242\n",
      "[LightGBM] [Warning] No further splits with positive gain, best gain: -inf\n",
      "[15]\tvalid_0's auc: 0.720916\n",
      "[LightGBM] [Warning] No further splits with positive gain, best gain: -inf\n",
      "[16]\tvalid_0's auc: 0.719471\n",
      "[LightGBM] [Warning] No further splits with positive gain, best gain: -inf\n",
      "[17]\tvalid_0's auc: 0.717586\n",
      "[LightGBM] [Warning] No further splits with positive gain, best gain: -inf\n",
      "[18]\tvalid_0's auc: 0.728247\n",
      "[LightGBM] [Warning] No further splits with positive gain, best gain: -inf\n",
      "[19]\tvalid_0's auc: 0.728093\n",
      "[LightGBM] [Warning] No further splits with positive gain, best gain: -inf\n",
      "[20]\tvalid_0's auc: 0.738459\n",
      "[LightGBM] [Warning] No further splits with positive gain, best gain: -inf\n",
      "[21]\tvalid_0's auc: 0.735474\n",
      "[LightGBM] [Warning] No further splits with positive gain, best gain: -inf\n",
      "[LightGBM] [Warning] Stopped training because there are no more leaves that meet the split requirements\n",
      "[22]\tvalid_0's auc: 0.735474\n",
      "[LightGBM] [Warning] No further splits with positive gain, best gain: -inf\n",
      "[23]\tvalid_0's auc: 0.7404\n",
      "[LightGBM] [Warning] No further splits with positive gain, best gain: -inf\n",
      "[24]\tvalid_0's auc: 0.746741\n",
      "[LightGBM] [Warning] No further splits with positive gain, best gain: -inf\n",
      "[25]\tvalid_0's auc: 0.751137\n",
      "[LightGBM] [Warning] No further splits with positive gain, best gain: -inf\n",
      "[26]\tvalid_0's auc: 0.749497\n",
      "[LightGBM] [Warning] No further splits with positive gain, best gain: -inf\n",
      "[27]\tvalid_0's auc: 0.757499\n",
      "[LightGBM] [Warning] No further splits with positive gain, best gain: -inf\n",
      "[28]\tvalid_0's auc: 0.760613\n",
      "[LightGBM] [Warning] No further splits with positive gain, best gain: -inf\n",
      "[29]\tvalid_0's auc: 0.763449\n",
      "[LightGBM] [Warning] No further splits with positive gain, best gain: -inf\n",
      "[30]\tvalid_0's auc: 0.763393\n",
      "[LightGBM] [Warning] No further splits with positive gain, best gain: -inf\n",
      "[31]\tvalid_0's auc: 0.763505\n",
      "[LightGBM] [Warning] No further splits with positive gain, best gain: -inf\n",
      "[LightGBM] [Warning] Stopped training because there are no more leaves that meet the split requirements\n",
      "[32]\tvalid_0's auc: 0.763505\n",
      "[LightGBM] [Warning] No further splits with positive gain, best gain: -inf\n",
      "[33]\tvalid_0's auc: 0.763434\n",
      "[LightGBM] [Warning] No further splits with positive gain, best gain: -inf\n",
      "[34]\tvalid_0's auc: 0.766207\n",
      "[LightGBM] [Warning] No further splits with positive gain, best gain: -inf\n",
      "[35]\tvalid_0's auc: 0.766067\n",
      "[LightGBM] [Warning] No further splits with positive gain, best gain: -inf\n",
      "[36]\tvalid_0's auc: 0.765743\n",
      "[LightGBM] [Warning] No further splits with positive gain, best gain: -inf\n",
      "[37]\tvalid_0's auc: 0.769317\n",
      "[LightGBM] [Warning] No further splits with positive gain, best gain: -inf\n",
      "[38]\tvalid_0's auc: 0.77148\n",
      "[LightGBM] [Warning] No further splits with positive gain, best gain: -inf\n",
      "[39]\tvalid_0's auc: 0.772255\n",
      "[LightGBM] [Warning] No further splits with positive gain, best gain: -inf\n",
      "[40]\tvalid_0's auc: 0.791447\n",
      "[LightGBM] [Warning] No further splits with positive gain, best gain: -inf\n",
      "[41]\tvalid_0's auc: 0.790824\n",
      "[LightGBM] [Warning] No further splits with positive gain, best gain: -inf\n",
      "[42]\tvalid_0's auc: 0.790935\n",
      "[LightGBM] [Warning] No further splits with positive gain, best gain: -inf\n",
      "[43]\tvalid_0's auc: 0.791497\n",
      "[LightGBM] [Warning] No further splits with positive gain, best gain: -inf\n",
      "[44]\tvalid_0's auc: 0.791439\n",
      "[LightGBM] [Warning] No further splits with positive gain, best gain: -inf\n",
      "[45]\tvalid_0's auc: 0.791574\n",
      "[LightGBM] [Warning] No further splits with positive gain, best gain: -inf\n",
      "[46]\tvalid_0's auc: 0.791522\n",
      "[LightGBM] [Warning] No further splits with positive gain, best gain: -inf\n",
      "[47]\tvalid_0's auc: 0.791223\n",
      "[LightGBM] [Warning] No further splits with positive gain, best gain: -inf\n",
      "[48]\tvalid_0's auc: 0.793162\n",
      "[LightGBM] [Warning] No further splits with positive gain, best gain: -inf\n",
      "[49]\tvalid_0's auc: 0.795143\n",
      "[LightGBM] [Warning] No further splits with positive gain, best gain: -inf\n",
      "[50]\tvalid_0's auc: 0.796488\n",
      "[LightGBM] [Warning] No further splits with positive gain, best gain: -inf\n",
      "[51]\tvalid_0's auc: 0.795577\n",
      "[LightGBM] [Warning] No further splits with positive gain, best gain: -inf\n",
      "[52]\tvalid_0's auc: 0.79554\n",
      "[LightGBM] [Warning] No further splits with positive gain, best gain: -inf\n",
      "[53]\tvalid_0's auc: 0.796774\n",
      "[LightGBM] [Warning] No further splits with positive gain, best gain: -inf\n",
      "[54]\tvalid_0's auc: 0.796227\n",
      "[LightGBM] [Warning] No further splits with positive gain, best gain: -inf\n",
      "[55]\tvalid_0's auc: 0.796191\n",
      "[LightGBM] [Warning] No further splits with positive gain, best gain: -inf\n",
      "[56]\tvalid_0's auc: 0.795271\n",
      "[LightGBM] [Warning] No further splits with positive gain, best gain: -inf\n",
      "[57]\tvalid_0's auc: 0.7957\n",
      "[LightGBM] [Warning] No further splits with positive gain, best gain: -inf\n",
      "[58]\tvalid_0's auc: 0.79575\n",
      "[LightGBM] [Warning] No further splits with positive gain, best gain: -inf\n",
      "[59]\tvalid_0's auc: 0.794761\n",
      "[LightGBM] [Warning] No further splits with positive gain, best gain: -inf\n",
      "[60]\tvalid_0's auc: 0.799736\n",
      "[LightGBM] [Warning] No further splits with positive gain, best gain: -inf\n",
      "[61]\tvalid_0's auc: 0.800089\n",
      "[LightGBM] [Warning] No further splits with positive gain, best gain: -inf\n",
      "[62]\tvalid_0's auc: 0.800643\n",
      "[LightGBM] [Warning] No further splits with positive gain, best gain: -inf\n",
      "[63]\tvalid_0's auc: 0.801886\n",
      "[LightGBM] [Warning] No further splits with positive gain, best gain: -inf\n",
      "[LightGBM] [Warning] Stopped training because there are no more leaves that meet the split requirements\n",
      "[64]\tvalid_0's auc: 0.801886\n",
      "[LightGBM] [Warning] No further splits with positive gain, best gain: -inf\n",
      "[65]\tvalid_0's auc: 0.80385\n",
      "[LightGBM] [Warning] No further splits with positive gain, best gain: -inf\n",
      "[66]\tvalid_0's auc: 0.811526\n",
      "[LightGBM] [Warning] No further splits with positive gain, best gain: -inf\n",
      "[67]\tvalid_0's auc: 0.812394\n",
      "[LightGBM] [Warning] No further splits with positive gain, best gain: -inf\n",
      "[68]\tvalid_0's auc: 0.811561\n",
      "[LightGBM] [Warning] No further splits with positive gain, best gain: -inf\n",
      "[69]\tvalid_0's auc: 0.811436\n",
      "[LightGBM] [Warning] No further splits with positive gain, best gain: -inf\n",
      "[70]\tvalid_0's auc: 0.810437\n",
      "[LightGBM] [Warning] No further splits with positive gain, best gain: -inf\n",
      "[71]\tvalid_0's auc: 0.810785\n",
      "[LightGBM] [Warning] No further splits with positive gain, best gain: -inf\n",
      "[72]\tvalid_0's auc: 0.816271\n",
      "[LightGBM] [Warning] No further splits with positive gain, best gain: -inf\n",
      "[73]\tvalid_0's auc: 0.816462\n",
      "[LightGBM] [Warning] No further splits with positive gain, best gain: -inf\n",
      "[74]\tvalid_0's auc: 0.816731\n",
      "[LightGBM] [Warning] No further splits with positive gain, best gain: -inf\n",
      "[75]\tvalid_0's auc: 0.817511\n",
      "[LightGBM] [Warning] No further splits with positive gain, best gain: -inf\n",
      "[76]\tvalid_0's auc: 0.817197\n",
      "[LightGBM] [Warning] No further splits with positive gain, best gain: -inf\n",
      "[77]\tvalid_0's auc: 0.816767\n",
      "[LightGBM] [Warning] No further splits with positive gain, best gain: -inf\n",
      "[78]\tvalid_0's auc: 0.816773\n",
      "[LightGBM] [Warning] No further splits with positive gain, best gain: -inf\n",
      "[79]\tvalid_0's auc: 0.816287\n",
      "[LightGBM] [Warning] No further splits with positive gain, best gain: -inf\n",
      "[80]\tvalid_0's auc: 0.816935\n",
      "[LightGBM] [Warning] No further splits with positive gain, best gain: -inf\n",
      "[81]\tvalid_0's auc: 0.817395\n",
      "[LightGBM] [Warning] No further splits with positive gain, best gain: -inf\n",
      "[82]\tvalid_0's auc: 0.817415\n",
      "[LightGBM] [Warning] No further splits with positive gain, best gain: -inf\n",
      "[83]\tvalid_0's auc: 0.816843\n",
      "[LightGBM] [Warning] No further splits with positive gain, best gain: -inf\n",
      "[84]\tvalid_0's auc: 0.816272\n",
      "[LightGBM] [Warning] No further splits with positive gain, best gain: -inf\n",
      "[85]\tvalid_0's auc: 0.816854\n",
      "[LightGBM] [Warning] No further splits with positive gain, best gain: -inf\n",
      "[86]\tvalid_0's auc: 0.817079\n",
      "[LightGBM] [Warning] No further splits with positive gain, best gain: -inf\n",
      "[87]\tvalid_0's auc: 0.817348\n",
      "[LightGBM] [Warning] No further splits with positive gain, best gain: -inf\n",
      "[88]\tvalid_0's auc: 0.818223\n",
      "[LightGBM] [Warning] No further splits with positive gain, best gain: -inf\n",
      "[89]\tvalid_0's auc: 0.819009\n",
      "[LightGBM] [Warning] No further splits with positive gain, best gain: -inf\n",
      "[90]\tvalid_0's auc: 0.818392\n",
      "[LightGBM] [Warning] No further splits with positive gain, best gain: -inf\n",
      "[91]\tvalid_0's auc: 0.818604\n",
      "[LightGBM] [Warning] No further splits with positive gain, best gain: -inf\n",
      "[92]\tvalid_0's auc: 0.818075\n",
      "[LightGBM] [Warning] No further splits with positive gain, best gain: -inf\n",
      "[93]\tvalid_0's auc: 0.817865\n",
      "[LightGBM] [Warning] No further splits with positive gain, best gain: -inf\n",
      "[94]\tvalid_0's auc: 0.820013\n",
      "[LightGBM] [Warning] No further splits with positive gain, best gain: -inf\n",
      "[95]\tvalid_0's auc: 0.819888\n",
      "[LightGBM] [Warning] No further splits with positive gain, best gain: -inf\n",
      "[96]\tvalid_0's auc: 0.820604\n",
      "[LightGBM] [Warning] No further splits with positive gain, best gain: -inf\n",
      "[97]\tvalid_0's auc: 0.820575\n",
      "[LightGBM] [Warning] No further splits with positive gain, best gain: -inf\n",
      "[98]\tvalid_0's auc: 0.821405\n",
      "[LightGBM] [Warning] No further splits with positive gain, best gain: -inf\n",
      "[99]\tvalid_0's auc: 0.822717\n",
      "[LightGBM] [Warning] No further splits with positive gain, best gain: -inf\n",
      "[100]\tvalid_0's auc: 0.822912\n",
      "[LightGBM] [Warning] No further splits with positive gain, best gain: -inf\n",
      "[101]\tvalid_0's auc: 0.823337\n",
      "[LightGBM] [Warning] No further splits with positive gain, best gain: -inf\n",
      "[102]\tvalid_0's auc: 0.82216\n",
      "[LightGBM] [Warning] No further splits with positive gain, best gain: -inf\n",
      "[103]\tvalid_0's auc: 0.822867\n",
      "[LightGBM] [Warning] No further splits with positive gain, best gain: -inf\n",
      "[104]\tvalid_0's auc: 0.824\n",
      "[LightGBM] [Warning] No further splits with positive gain, best gain: -inf\n",
      "[105]\tvalid_0's auc: 0.823997\n",
      "[LightGBM] [Warning] No further splits with positive gain, best gain: -inf\n",
      "[106]\tvalid_0's auc: 0.823783\n",
      "[LightGBM] [Warning] No further splits with positive gain, best gain: -inf\n",
      "[107]\tvalid_0's auc: 0.824247\n",
      "[LightGBM] [Warning] No further splits with positive gain, best gain: -inf\n",
      "[108]\tvalid_0's auc: 0.82384\n",
      "[LightGBM] [Warning] No further splits with positive gain, best gain: -inf\n",
      "[109]\tvalid_0's auc: 0.824096\n",
      "[LightGBM] [Warning] No further splits with positive gain, best gain: -inf\n",
      "[110]\tvalid_0's auc: 0.824179\n",
      "[LightGBM] [Warning] No further splits with positive gain, best gain: -inf\n",
      "[111]\tvalid_0's auc: 0.823734\n",
      "[LightGBM] [Warning] No further splits with positive gain, best gain: -inf\n",
      "[112]\tvalid_0's auc: 0.823188\n",
      "[LightGBM] [Warning] No further splits with positive gain, best gain: -inf\n",
      "[113]\tvalid_0's auc: 0.823217\n",
      "[LightGBM] [Warning] No further splits with positive gain, best gain: -inf\n",
      "[114]\tvalid_0's auc: 0.823928\n",
      "[LightGBM] [Warning] No further splits with positive gain, best gain: -inf\n",
      "[115]\tvalid_0's auc: 0.823872\n",
      "[LightGBM] [Warning] No further splits with positive gain, best gain: -inf\n",
      "[116]\tvalid_0's auc: 0.824623\n",
      "[LightGBM] [Warning] No further splits with positive gain, best gain: -inf\n",
      "[117]\tvalid_0's auc: 0.824846\n",
      "[LightGBM] [Warning] No further splits with positive gain, best gain: -inf\n",
      "[118]\tvalid_0's auc: 0.825011\n",
      "[LightGBM] [Warning] No further splits with positive gain, best gain: -inf\n",
      "[119]\tvalid_0's auc: 0.824177\n",
      "[LightGBM] [Warning] No further splits with positive gain, best gain: -inf\n",
      "[120]\tvalid_0's auc: 0.824086\n",
      "[LightGBM] [Warning] No further splits with positive gain, best gain: -inf\n",
      "[121]\tvalid_0's auc: 0.824083\n",
      "[LightGBM] [Warning] No further splits with positive gain, best gain: -inf\n",
      "[122]\tvalid_0's auc: 0.823944\n",
      "Did not meet early stopping. Best iteration is:\n",
      "[118]\tvalid_0's auc: 0.825011\n"
     ]
    },
    {
     "data": {
      "text/plain": [
       "array([0.48606764, 0.26745478, 0.2854488 , ..., 0.31451421, 0.46536735,\n",
       "       0.18427638])"
      ]
     },
     "execution_count": 46,
     "metadata": {},
     "output_type": "execute_result"
    }
   ],
   "source": [
    "res = lightGBM(agrupacionEntrenamiento,entrenamientoResultado,listaDeColumnasCategoricas,agrupacionTesteo)\n",
    "res"
   ]
  },
  {
   "cell_type": "code",
   "execution_count": 47,
   "metadata": {
    "colab": {
     "base_uri": "https://localhost:8080/"
    },
    "id": "jbSKn0N3339Z",
    "outputId": "e6d7bff5-9331-4f9f-f4d9-e7b37838ba7d"
   },
   "outputs": [
    {
     "data": {
      "text/plain": [
       "array([0.51393236, 0.73254522, 0.7145512 , ..., 0.68548579, 0.53463265,\n",
       "       0.81572362])"
      ]
     },
     "execution_count": 47,
     "metadata": {},
     "output_type": "execute_result"
    }
   ],
   "source": [
    "resultado = pd.Series(res)\n",
    "\n",
    "#ids = eval_data['Opportunity_ID'].values\n",
    "def auxiliarUnificarValor1(arreglo):\n",
    "    return arreglo[:]\n",
    "\n",
    "resultado = auxiliarUnificarValor1(res)\n",
    "resultado = (resultado - 1) * (-1)#En las ultimas pruebas es el opuesto el que genera mejor resultado\n",
    "resultado"
   ]
  },
  {
   "cell_type": "code",
   "execution_count": 48,
   "metadata": {
    "colab": {
     "base_uri": "https://localhost:8080/",
     "height": 238
    },
    "id": "oHGMiETH37st",
    "outputId": "286c2b34-01f4-4741-8427-1b80bc99ba23"
   },
   "outputs": [
    {
     "data": {
      "text/html": [
       "<div>\n",
       "<style scoped>\n",
       "    .dataframe tbody tr th:only-of-type {\n",
       "        vertical-align: middle;\n",
       "    }\n",
       "\n",
       "    .dataframe tbody tr th {\n",
       "        vertical-align: top;\n",
       "    }\n",
       "\n",
       "    .dataframe thead th {\n",
       "        text-align: right;\n",
       "    }\n",
       "</style>\n",
       "<table border=\"1\" class=\"dataframe\">\n",
       "  <thead>\n",
       "    <tr style=\"text-align: right;\">\n",
       "      <th></th>\n",
       "      <th>Target</th>\n",
       "    </tr>\n",
       "    <tr>\n",
       "      <th>Opportunity_ID</th>\n",
       "      <th></th>\n",
       "    </tr>\n",
       "  </thead>\n",
       "  <tbody>\n",
       "    <tr>\n",
       "      <th>10689</th>\n",
       "      <td>0.51</td>\n",
       "    </tr>\n",
       "    <tr>\n",
       "      <th>10690</th>\n",
       "      <td>0.73</td>\n",
       "    </tr>\n",
       "    <tr>\n",
       "      <th>10691</th>\n",
       "      <td>0.71</td>\n",
       "    </tr>\n",
       "    <tr>\n",
       "      <th>10692</th>\n",
       "      <td>0.61</td>\n",
       "    </tr>\n",
       "    <tr>\n",
       "      <th>10693</th>\n",
       "      <td>0.47</td>\n",
       "    </tr>\n",
       "  </tbody>\n",
       "</table>\n",
       "</div>"
      ],
      "text/plain": [
       "                             Target\n",
       "Opportunity_ID                     \n",
       "10689                          0.51\n",
       "10690                          0.73\n",
       "10691                          0.71\n",
       "10692                          0.61\n",
       "10693                          0.47"
      ]
     },
     "execution_count": 48,
     "metadata": {},
     "output_type": "execute_result"
    }
   ],
   "source": [
    "dataResultante = generarResultado(agrupacionTesteo,resultado)\n",
    "dataResultante.head()"
   ]
  },
  {
   "cell_type": "markdown",
   "metadata": {
    "id": "MgACrmv2aNIz"
   },
   "source": [
    "## Ramdom forest"
   ]
  },
  {
   "cell_type": "markdown",
   "metadata": {
    "id": "fUJPG4lVu_9K"
   },
   "source": [
    "### Bayesiano"
   ]
  },
  {
   "cell_type": "code",
   "execution_count": 49,
   "metadata": {
    "id": "6OrprTgvvB96"
   },
   "outputs": [],
   "source": [
    "#Bayesian optimization\n",
    "def bayesian_optimization(dataset, function, parameters):\n",
    "   X_train, y_train, X_test, y_test = dataset\n",
    "   n_iterations = 10\n",
    "   gp_params = {\"alpha\": 1e-4}\n",
    "\n",
    "   BO = BayesianOptimization(function, parameters)\n",
    "   BO.maximize(n_iter=n_iterations, **gp_params)\n",
    "\n",
    "   return BO.max\n",
    "\n",
    "def rfc_optimization(cv_splits):\n",
    "    def function(n_estimators, oob_score, min_samples_split):\n",
    "        desacerse = ['Planned_Delivery_End_Date_anio','Planned_Delivery_End_Date_mes','Planned_Delivery_End_Date_dia','Last_Modified_Date_dia']\n",
    "        X_train = agrupacionEntrenamientoXGB.drop(desacerse,axis=1)\n",
    "        y_train = entrenamientoResultado\n",
    "        return cross_val_score(\n",
    "               RandomForestClassifier(\n",
    "                   n_estimators=int(max(n_estimators,0)),\n",
    "                   #max_depth=int(max(max_depth,1)),\n",
    "                   min_samples_split=int(max(min_samples_split,2)),\n",
    "                   n_jobs=-1,\n",
    "                   #random_state=42,\n",
    "                   oob_score=(max(oob_score,1)),\n",
    "                   bootstrap=True,\n",
    "                   #class_weight=\"balanced\"\n",
    "                   max_features='sqrt'\n",
    "                  ),\n",
    "               X=X_train, \n",
    "               y=y_train, \n",
    "               cv=cv_splits,\n",
    "               scoring=\"roc_auc\",\n",
    "               n_jobs=-1).mean()\n",
    "\n",
    "    parameters = {\"n_estimators\": (200, 1000),\n",
    "                  \"oob_score\": (5, 30),\n",
    "                  \"min_samples_split\": (2, 10)}\n",
    "    \n",
    "    return function, parameters\n",
    "\n",
    "#Train model\n",
    "def ramdomForestBayesiano(X_train, y_train, X_test, y_test):\n",
    "    dataset = (X_train, y_train, X_test, y_test)\n",
    "    cv_splits = 4\n",
    "\n",
    "    function, parameters = rfc_optimization(cv_splits)\n",
    "    \n",
    "    best_solution = bayesian_optimization(dataset, function, parameters)      \n",
    "    params = best_solution[\"params\"]\n",
    "\n",
    "    model = RandomForestClassifier(\n",
    "             n_estimators=int(max(params[\"n_estimators\"], 0)),\n",
    "             #max_depth=int(max(params[\"max_depth\"], 1)),\n",
    "             oob_score=(max('oob_score',1)),\n",
    "             min_samples_split=int(max(params[\"min_samples_split\"], 2)), \n",
    "             n_jobs=-1, \n",
    "             random_state=42,   \n",
    "             class_weight=\"balanced\")\n",
    "\n",
    "    model.fit(X_train, y_train)\n",
    "    predictions = model.predict_proba(X_test)\n",
    "    return predictions"
   ]
  },
  {
   "cell_type": "code",
   "execution_count": 50,
   "metadata": {
    "colab": {
     "base_uri": "https://localhost:8080/",
     "height": 686
    },
    "id": "ECcWjKEuy13F",
    "outputId": "a3e46afb-2cb3-46f9-961c-685467092e71"
   },
   "outputs": [],
   "source": [
    "#Uso los mismos valores de XGB para las variables categoricas ya que no las soporta\n",
    "desacerse = ['Planned_Delivery_End_Date_anio','Planned_Delivery_End_Date_mes','Planned_Delivery_End_Date_dia','Last_Modified_Date_dia']\n",
    "#comentado para evitar ejecucion erronea\n",
    "#res = ramdomForestBayesiano(agrupacionEntrenamientoXGB.drop(desacerse,axis=1),\n",
    "#                            entrenamientoResultado,\n",
    "#                            agrupacionTesteoXGB.drop(desacerse,axis=1),\n",
    "#                            supuestos[['TargetBinario']])\n",
    "#res"
   ]
  },
  {
   "cell_type": "markdown",
   "metadata": {
    "id": "h3pm9ZR5u-VS"
   },
   "source": [
    "### Prediccion"
   ]
  },
  {
   "cell_type": "code",
   "execution_count": 51,
   "metadata": {
    "id": "YlUrE3BRaQQL"
   },
   "outputs": [],
   "source": [
    "def ramdomForest(train_data,train_labels,eval_data):\n",
    "  # Crear el modelo\n",
    "  #Si no se le coloca un valor de max depth lo toma por min_samples_leaf a la creacion de hojas\n",
    "  model = RandomForestClassifier(n_estimators=1000,\n",
    "                                 #max_features=5,\n",
    "                                 min_samples_leaf=9,\n",
    "                                 oob_score=9,#7\n",
    "                                 bootstrap=True,\n",
    "                                 verbose=0,\n",
    "                                 #max_leaf_nodes=20,\n",
    "                                 #min_weight_fraction_leaf=0.01,\n",
    "                                 max_features=6#7\n",
    "                                 )\n",
    "  #parametros importantes\n",
    "  #  n_estimators: será la cantidad de árboles que generaremos.\n",
    "  #  max_features: la manera de seleccionar la cantidad máxima de features para cada árbol.\n",
    "  #  min_sample_leaf: número mínimo de elementos en las hojas para permitir un nuevo split (división) del nodo.\n",
    "  #  oob_score: es un método que emula el cross-validation en árboles y permite mejorar la precisión y evitar overfitting.\n",
    "  #  boostrap: para utilizar diversos tamaños de muestras para entrenar. Si se pone en falso, utilizará siempre el dataset completo.\n",
    "  #  n_jobs: si tienes multiples cores en tu CPU, puedes indicar cuantos puede usar el modelo al entrenar para acelerar el entrenamiento.\n",
    "  # a entrenar!\n",
    "  model.fit(train_data, train_labels)\n",
    "  predictions = model.predict_proba(eval_data)\n",
    "  return predictions\n",
    "  "
   ]
  },
  {
   "cell_type": "code",
   "execution_count": 52,
   "metadata": {
    "colab": {
     "base_uri": "https://localhost:8080/"
    },
    "id": "hTbwSHLIHgCw",
    "outputId": "d37fba35-5851-440d-f466-d1e39c9376ca"
   },
   "outputs": [
    {
     "name": "stdout",
     "output_type": "stream",
     "text": [
      "0\n"
     ]
    }
   ],
   "source": [
    "#Uso los mismos valores de XGB para las variables categoricas ya que no las soporta\n",
    "desacerse = ['Planned_Delivery_End_Date_anio','Planned_Delivery_End_Date_mes',\n",
    "             'Planned_Delivery_End_Date_dia','Last_Modified_Date_dia']\n",
    "agrupacionEntrenamientoRF = agrupacionEntrenamientoXGB.drop(desacerse,axis=1)\n",
    "agrupacionTesteoRF = agrupacionTesteoXGB.drop(desacerse,axis=1)\n",
    "#agrupacionTesteoRF = agrupacionTesteoXGB.drop(['Target'],axis=1)\n",
    "print(len(agrupacionEntrenamientoRF.columns) - len(agrupacionTesteoRF.columns))"
   ]
  },
  {
   "cell_type": "code",
   "execution_count": 53,
   "metadata": {
    "colab": {
     "base_uri": "https://localhost:8080/"
    },
    "id": "bTRkXyDHt6XU",
    "outputId": "fc0a8752-7441-47c7-bb98-d9c9b434d923"
   },
   "outputs": [
    {
     "data": {
      "text/plain": [
       "array([[0.32145477, 0.67854523],\n",
       "       [0.38263253, 0.61736747],\n",
       "       [0.45674243, 0.54325757],\n",
       "       ...,\n",
       "       [0.57306963, 0.42693037],\n",
       "       [0.44027483, 0.55972517],\n",
       "       [0.73962986, 0.26037014]])"
      ]
     },
     "execution_count": 53,
     "metadata": {},
     "output_type": "execute_result"
    }
   ],
   "source": [
    "res = ramdomForest(agrupacionEntrenamientoRF,\n",
    "                   entrenamientoResultado,\n",
    "                   agrupacionTesteoRF)\n",
    "res"
   ]
  },
  {
   "cell_type": "code",
   "execution_count": 54,
   "metadata": {
    "colab": {
     "base_uri": "https://localhost:8080/"
    },
    "id": "CB1dArfLt6aS",
    "outputId": "775bdccc-a727-4181-aeb4-68d33ddb3ea7"
   },
   "outputs": [
    {
     "data": {
      "text/plain": [
       "array([0.67854523, 0.61736747, 0.54325757, ..., 0.42693037, 0.55972517,\n",
       "       0.26037014])"
      ]
     },
     "execution_count": 54,
     "metadata": {},
     "output_type": "execute_result"
    }
   ],
   "source": [
    "resultado = auxiliarUnificarValor(res)\n",
    "resultado = (resultado - 1) * (-1)#En las ultimas pruevas es el opuesto el que genera mejor resultado\n",
    "resultado"
   ]
  },
  {
   "cell_type": "code",
   "execution_count": 55,
   "metadata": {
    "colab": {
     "base_uri": "https://localhost:8080/",
     "height": 238
    },
    "id": "xrH7YJ87t8QJ",
    "outputId": "6c04cfe7-8e31-4689-e7cf-8e7bab5c2d6c"
   },
   "outputs": [
    {
     "data": {
      "text/html": [
       "<div>\n",
       "<style scoped>\n",
       "    .dataframe tbody tr th:only-of-type {\n",
       "        vertical-align: middle;\n",
       "    }\n",
       "\n",
       "    .dataframe tbody tr th {\n",
       "        vertical-align: top;\n",
       "    }\n",
       "\n",
       "    .dataframe thead th {\n",
       "        text-align: right;\n",
       "    }\n",
       "</style>\n",
       "<table border=\"1\" class=\"dataframe\">\n",
       "  <thead>\n",
       "    <tr style=\"text-align: right;\">\n",
       "      <th></th>\n",
       "      <th>Target</th>\n",
       "    </tr>\n",
       "    <tr>\n",
       "      <th>Opportunity_ID</th>\n",
       "      <th></th>\n",
       "    </tr>\n",
       "  </thead>\n",
       "  <tbody>\n",
       "    <tr>\n",
       "      <th>10689</th>\n",
       "      <td>0.68</td>\n",
       "    </tr>\n",
       "    <tr>\n",
       "      <th>10690</th>\n",
       "      <td>0.62</td>\n",
       "    </tr>\n",
       "    <tr>\n",
       "      <th>10691</th>\n",
       "      <td>0.54</td>\n",
       "    </tr>\n",
       "    <tr>\n",
       "      <th>10692</th>\n",
       "      <td>0.41</td>\n",
       "    </tr>\n",
       "    <tr>\n",
       "      <th>10693</th>\n",
       "      <td>0.76</td>\n",
       "    </tr>\n",
       "  </tbody>\n",
       "</table>\n",
       "</div>"
      ],
      "text/plain": [
       "                             Target\n",
       "Opportunity_ID                     \n",
       "10689                          0.68\n",
       "10690                          0.62\n",
       "10691                          0.54\n",
       "10692                          0.41\n",
       "10693                          0.76"
      ]
     },
     "execution_count": 55,
     "metadata": {},
     "output_type": "execute_result"
    }
   ],
   "source": [
    "dataResultante = generarResultado(agrupacionTesteo,resultado)\n",
    "dataResultante.head()"
   ]
  },
  {
   "cell_type": "markdown",
   "metadata": {
    "id": "mvlnUVJqzO-5"
   },
   "source": [
    "## Perceptron"
   ]
  },
  {
   "cell_type": "code",
   "execution_count": 56,
   "metadata": {
    "id": "zvIHumigzlsc"
   },
   "outputs": [
    {
     "ename": "NameError",
     "evalue": "name 'cat_features' is not defined",
     "output_type": "error",
     "traceback": [
      "\u001b[0;31m---------------------------------------------------------------------------\u001b[0m",
      "\u001b[0;31mNameError\u001b[0m                                 Traceback (most recent call last)",
      "\u001b[0;32m<ipython-input-56-0846c2378d5f>\u001b[0m in \u001b[0;36m<module>\u001b[0;34m\u001b[0m\n\u001b[0;32m----> 1\u001b[0;31m \u001b[0;32mfor\u001b[0m \u001b[0mheader\u001b[0m \u001b[0;32min\u001b[0m \u001b[0mcat_features\u001b[0m\u001b[0;34m:\u001b[0m\u001b[0;34m\u001b[0m\u001b[0;34m\u001b[0m\u001b[0m\n\u001b[0m\u001b[1;32m      2\u001b[0m     \u001b[0magrupacionEntrenamiento\u001b[0m\u001b[0;34m[\u001b[0m\u001b[0mheader\u001b[0m\u001b[0;34m]\u001b[0m \u001b[0;34m=\u001b[0m \u001b[0magrupacionEntrenamiento\u001b[0m\u001b[0;34m[\u001b[0m\u001b[0mheader\u001b[0m\u001b[0;34m]\u001b[0m\u001b[0;34m.\u001b[0m\u001b[0mastype\u001b[0m\u001b[0;34m(\u001b[0m\u001b[0;34m'category'\u001b[0m\u001b[0;34m)\u001b[0m\u001b[0;34m.\u001b[0m\u001b[0mcat\u001b[0m\u001b[0;34m.\u001b[0m\u001b[0mcodes\u001b[0m\u001b[0;34m\u001b[0m\u001b[0;34m\u001b[0m\u001b[0m\n",
      "\u001b[0;31mNameError\u001b[0m: name 'cat_features' is not defined"
     ]
    }
   ],
   "source": [
    "for header in cat_features:\n",
    "    agrupacionEntrenamiento[header] = agrupacionEntrenamiento[header].astype('category').cat.codes"
   ]
  },
  {
   "cell_type": "code",
   "execution_count": null,
   "metadata": {
    "id": "1eOVbSR7zmnL"
   },
   "outputs": [],
   "source": [
    "def perceptron(train_set, train_label, listaDeCategoricas, test_set):\n",
    "  perceptron_mod = Perceptron(tol=1e-3, random_state=0)\n",
    "  for header in listaDeCategoricas:\n",
    "    train_set[header] = train_set[header].astype('category').cat.codes\n",
    "  \n",
    "  for header in listaDeCategoricas:\n",
    "    test_set[header] = test_set[header].astype('category').cat.codes\n",
    "  perceptron_mod.fit(train_set, train_label)\n",
    "    \n",
    "  predicts = perceptron_mod.predict(test_set)\n",
    "  return predicts\n"
   ]
  },
  {
   "cell_type": "code",
   "execution_count": null,
   "metadata": {
    "id": "O9K3dI-vzuHb"
   },
   "outputs": [],
   "source": [
    "desacerse = ['Planned_Delivery_End_Date_anio','Planned_Delivery_End_Date_mes','Planned_Delivery_End_Date_dia','Last_Modified_Date_dia']\n",
    "agrupacionEntrenamientoPerceptron = agrupacionEntrenamiento.drop(desacerse,axis=1)\n",
    "agrupacionTesteoPerceptron = agrupacionTesteo.drop(desacerse,axis=1)"
   ]
  },
  {
   "cell_type": "code",
   "execution_count": null,
   "metadata": {
    "colab": {
     "base_uri": "https://localhost:8080/"
    },
    "id": "jMb10qyVzz3K",
    "outputId": "fa281060-d356-4731-9c23-f7193e1b8884"
   },
   "outputs": [],
   "source": [
    "listaDeCategoricas = ['Region',\n",
    "                      'Territory', \n",
    "                      'Product_Family', \n",
    "                      'Delivery_Terms', \n",
    "                      'Product_Type',\n",
    "                      'Product_Category_B',\n",
    "                      'Account_Type',\n",
    "                      'Delivery_Quarter',\n",
    "                      'Billing_Country',\n",
    "                      'ASP_(converted)_Currency']\n",
    "resPerceptron = perceptron(agrupacionEntrenamientoPerceptron, entrenamientoResultado, listaDeCategoricas, agrupacionTesteoPerceptron)\n",
    "resPerceptron"
   ]
  },
  {
   "cell_type": "markdown",
   "metadata": {},
   "source": [
    "### Predicción"
   ]
  },
  {
   "cell_type": "code",
   "execution_count": null,
   "metadata": {
    "colab": {
     "base_uri": "https://localhost:8080/",
     "height": 238
    },
    "id": "CyiWlGzlz26x",
    "outputId": "8f1158a9-e57e-4328-82a1-3329bca993ba"
   },
   "outputs": [],
   "source": [
    "dataResultante = generarResultado(agrupacionTesteo,resPerceptron)\n",
    "dataResultante.head()"
   ]
  },
  {
   "cell_type": "markdown",
   "metadata": {
    "id": "WECNysuE3zZj"
   },
   "source": [
    "## Multilayer Perceptron"
   ]
  },
  {
   "cell_type": "code",
   "execution_count": 58,
   "metadata": {
    "id": "boQUE28r31nA"
   },
   "outputs": [],
   "source": [
    "def multiLayerPerceptron(train_set, train_label, listaDeCategoricas, test_set):\n",
    "    n_neurons = [1028, 512, 256, 128, 64, 32, 16, 8, 4, 2, 1]\n",
    "    multi_perceptron_mod = MLPRegressor(solver='lbfgs', \n",
    "                                hidden_layer_sizes=tuple(n_neurons[1:]),\n",
    "                                max_iter=100000, \n",
    "                                alpha=0.1,\n",
    "                                shuffle=False,\n",
    "                                random_state=9876,\n",
    "                                activation='relu')\n",
    "    \n",
    "    for header in listaDeCategoricas:\n",
    "        train_set[header] = train_set[header].astype('category').cat.codes\n",
    "  \n",
    "    for header in listaDeCategoricas:\n",
    "        test_set[header] = test_set[header].astype('category').cat.codes\n",
    "    \n",
    "    multi_perceptron_mod.fit(train_set, train_label)\n",
    "    multi_perceptron_mod.out_activation_ = 'logistic'\n",
    "    predicts = multi_perceptron_mod.predict(test_set)\n",
    "    \n",
    "    return predicts"
   ]
  },
  {
   "cell_type": "code",
   "execution_count": 59,
   "metadata": {
    "id": "SYgOl94c37h3"
   },
   "outputs": [],
   "source": [
    "desacerse = ['Planned_Delivery_End_Date_anio','Planned_Delivery_End_Date_mes','Planned_Delivery_End_Date_dia','Last_Modified_Date_dia']\n",
    "agrupacionEntrenamientoPerceptron = agrupacionEntrenamiento.drop(desacerse,axis=1)\n",
    "agrupacionTesteoPerceptron = agrupacionTesteo.drop(desacerse,axis=1)"
   ]
  },
  {
   "cell_type": "code",
   "execution_count": null,
   "metadata": {},
   "outputs": [],
   "source": [
    "agrupacionEntrenamientoPerceptron"
   ]
  },
  {
   "cell_type": "code",
   "execution_count": 60,
   "metadata": {},
   "outputs": [],
   "source": [
    "one_hot_train_country = pd.get_dummies(agrupacionEntrenamientoPerceptron['Billing_Country'])\n",
    "one_hot_test_country = pd.get_dummies(agrupacionTesteoPerceptron['Billing_Country'])\n",
    "\n",
    "\n",
    "agrupacionEntrenamientoPerceptron = agrupacionEntrenamientoPerceptron.drop('Billing_Country',axis = 1)\n",
    "agrupacionTesteoPerceptron = agrupacionTesteoPerceptron.drop('Billing_Country',axis = 1)\n",
    "\n",
    "one_hot = pd.merge(one_hot_train_country, one_hot_test_country, on='Opportunity_ID',how='outer')\n"
   ]
  },
  {
   "cell_type": "code",
   "execution_count": 61,
   "metadata": {},
   "outputs": [],
   "source": [
    "one_hot = one_hot.reset_index()"
   ]
  },
  {
   "cell_type": "code",
   "execution_count": 62,
   "metadata": {},
   "outputs": [],
   "source": [
    "agrupacionEntrenamientoPerceptron = agrupacionEntrenamientoPerceptron.join(one_hot)\n",
    "#agrupacionTesteoPerceptron = agrupacionTesteoPerceptron.reset_index()"
   ]
  },
  {
   "cell_type": "code",
   "execution_count": 63,
   "metadata": {},
   "outputs": [],
   "source": [
    "#agrupacionEntrenamientoPerceptron = agrupacionEntrenamientoPerceptron.reset_index()\n",
    "agrupacionTesteoPerceptron = agrupacionTesteoPerceptron.join(one_hot)"
   ]
  },
  {
   "cell_type": "code",
   "execution_count": 69,
   "metadata": {},
   "outputs": [],
   "source": [
    "agrupacionEntrenamientoPerceptron.fillna(0, inplace=True)\n",
    "#agrupacionTesteoPerceptron.fillna(0, inplace=True)"
   ]
  },
  {
   "cell_type": "code",
   "execution_count": null,
   "metadata": {},
   "outputs": [],
   "source": [
    "print(agrupacionEntrenamientoPerceptron.columns.tolist())"
   ]
  },
  {
   "cell_type": "code",
   "execution_count": null,
   "metadata": {},
   "outputs": [],
   "source": [
    "print(agrupacionTesteoPerceptron.columns.tolist())"
   ]
  },
  {
   "cell_type": "code",
   "execution_count": 70,
   "metadata": {
    "id": "Dcfs120X39Gu"
   },
   "outputs": [],
   "source": [
    "listaDeCategoricas = [\n",
    "                      'Region',\n",
    "                      'Territory', \n",
    "                      'Product_Family', \n",
    "                      'Delivery_Terms', \n",
    "                      'Product_Type',\n",
    "                      'Account_Type',\n",
    "                      'Delivery_Quarter',\n",
    "                      #'Billing_Country'\n",
    "                    ]\n",
    "resMultiPerceptron = multiLayerPerceptron(agrupacionEntrenamientoPerceptron, entrenamientoResultado, listaDeCategoricas, agrupacionTesteoPerceptron)\n",
    "#one_hot = pd.get_dummies(df['Territory'])\n",
    "#agrupacionEntrenamientoPerceptron['Billing_Country'].unique()"
   ]
  },
  {
   "cell_type": "code",
   "execution_count": null,
   "metadata": {
    "colab": {
     "base_uri": "https://localhost:8080/"
    },
    "id": "44qiRIpt3-ku",
    "outputId": "7b978205-c93c-478a-f7d3-506519e5e38d"
   },
   "outputs": [],
   "source": [
    "#Fixed result\n",
    "resMultiPerceptron = (resMultiPerceptron - 1) * (-1)\n",
    "resMultiPerceptron"
   ]
  },
  {
   "cell_type": "markdown",
   "metadata": {},
   "source": [
    "### Predicción"
   ]
  },
  {
   "cell_type": "code",
   "execution_count": 71,
   "metadata": {
    "id": "_UMKKxtb4BTe"
   },
   "outputs": [],
   "source": [
    "dataResultante = generarResultado(agrupacionTesteo,resMultiPerceptron)"
   ]
  }
 ],
 "metadata": {
  "colab": {
   "collapsed_sections": [
    "5NvRrhUOrEpv",
    "xKefRXXOFaXI",
    "9ewHMS-ygNPS",
    "O5HEIBMXmxps",
    "lP_c0s_PgPKn",
    "YjCt76D_rHMn",
    "GJYpToCYrfnk",
    "hyRdoRPf5wSN",
    "knmx6tPo01QZ",
    "q8JeolJN08kJ",
    "1xfzMbqiZrue",
    "zVBNOzCKY0VD",
    "J983upopKwQx",
    "I-rXEcxr-Nns",
    "eXu5RWvjWtP-",
    "onKsrVr1lwas",
    "baxdAoAzfwxz",
    "MgACrmv2aNIz",
    "fUJPG4lVu_9K",
    "mvlnUVJqzO-5",
    "WECNysuE3zZj"
   ],
   "name": "TP2 2c 2020.ipynb",
   "provenance": [],
   "toc_visible": true
  },
  "kernelspec": {
   "display_name": "Python 3",
   "language": "python",
   "name": "python3"
  },
  "language_info": {
   "codemirror_mode": {
    "name": "ipython",
    "version": 3
   },
   "file_extension": ".py",
   "mimetype": "text/x-python",
   "name": "python",
   "nbconvert_exporter": "python",
   "pygments_lexer": "ipython3",
   "version": "3.9.0"
  },
  "pycharm": {
   "stem_cell": {
    "cell_type": "raw",
    "metadata": {
     "collapsed": false
    },
    "source": []
   }
  }
 },
 "nbformat": 4,
 "nbformat_minor": 1
}
