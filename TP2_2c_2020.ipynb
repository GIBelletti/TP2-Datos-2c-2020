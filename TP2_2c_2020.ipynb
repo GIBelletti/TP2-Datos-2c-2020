{
  "nbformat": 4,
  "nbformat_minor": 0,
  "metadata": {
    "colab": {
      "name": "TP2 2c 2020.ipynb",
      "provenance": [],
      "toc_visible": true
    },
    "kernelspec": {
      "name": "python3",
      "display_name": "Python 3"
    }
  },
  "cells": [
    {
      "cell_type": "markdown",
      "metadata": {
        "id": "LaZMud-2rKuY"
      },
      "source": [
        "# TP 2"
      ]
    },
    {
      "cell_type": "markdown",
      "metadata": {
        "id": "5NvRrhUOrEpv"
      },
      "source": [
        "## Imports"
      ]
    },
    {
      "cell_type": "code",
      "metadata": {
        "id": "ksz2M8HorAfb"
      },
      "source": [
        "import pandas as pd\r\n",
        "import numpy as np\r\n",
        "import matplotlib.pyplot as plt\r\n",
        "import seaborn as sns\r\n",
        "import plotly.graph_objects as go\r\n",
        "import matplotlib\r\n",
        "import plotly as py\r\n",
        "import plotly.express as px \r\n",
        "import matplotlib.ticker as ticker\r\n",
        "plt.style.use('default')\r\n",
        "import plotly.offline as opy\r\n",
        "import plotly.figure_factory as ff\r\n",
        "import plotly.io as pio\r\n",
        "from wordcloud import WordCloud\r\n",
        "\r\n",
        "sns.set(style=\"whitegrid\")\r\n",
        "\r\n",
        "pd.options.display.float_format = '{:20,.2f}'.format \r\n",
        "\r\n",
        "import warnings\r\n",
        "warnings.filterwarnings('ignore')"
      ],
      "execution_count": 1,
      "outputs": []
    },
    {
      "cell_type": "code",
      "metadata": {
        "colab": {
          "base_uri": "https://localhost:8080/"
        },
        "id": "cpEGbEgDKgny",
        "outputId": "476e5a0e-b28b-42a1-e26d-9190677f6d69"
      },
      "source": [
        "#Ejecutar so no funciona el import\r\n",
        "#!pip3 install catboost"
      ],
      "execution_count": 16,
      "outputs": [
        {
          "output_type": "stream",
          "text": [
            "Collecting catboost\n",
            "\u001b[?25l  Downloading https://files.pythonhosted.org/packages/20/37/bc4e0ddc30c07a96482abf1de7ed1ca54e59bba2026a33bca6d2ef286e5b/catboost-0.24.4-cp36-none-manylinux1_x86_64.whl (65.7MB)\n",
            "\u001b[K     |████████████████████████████████| 65.8MB 59kB/s \n",
            "\u001b[?25hRequirement already satisfied: matplotlib in /usr/local/lib/python3.6/dist-packages (from catboost) (3.2.2)\n",
            "Requirement already satisfied: plotly in /usr/local/lib/python3.6/dist-packages (from catboost) (4.4.1)\n",
            "Requirement already satisfied: pandas>=0.24.0 in /usr/local/lib/python3.6/dist-packages (from catboost) (1.1.5)\n",
            "Requirement already satisfied: six in /usr/local/lib/python3.6/dist-packages (from catboost) (1.15.0)\n",
            "Requirement already satisfied: graphviz in /usr/local/lib/python3.6/dist-packages (from catboost) (0.10.1)\n",
            "Requirement already satisfied: numpy>=1.16.0 in /usr/local/lib/python3.6/dist-packages (from catboost) (1.19.5)\n",
            "Requirement already satisfied: scipy in /usr/local/lib/python3.6/dist-packages (from catboost) (1.4.1)\n",
            "Requirement already satisfied: python-dateutil>=2.1 in /usr/local/lib/python3.6/dist-packages (from matplotlib->catboost) (2.8.1)\n",
            "Requirement already satisfied: pyparsing!=2.0.4,!=2.1.2,!=2.1.6,>=2.0.1 in /usr/local/lib/python3.6/dist-packages (from matplotlib->catboost) (2.4.7)\n",
            "Requirement already satisfied: cycler>=0.10 in /usr/local/lib/python3.6/dist-packages (from matplotlib->catboost) (0.10.0)\n",
            "Requirement already satisfied: kiwisolver>=1.0.1 in /usr/local/lib/python3.6/dist-packages (from matplotlib->catboost) (1.3.1)\n",
            "Requirement already satisfied: retrying>=1.3.3 in /usr/local/lib/python3.6/dist-packages (from plotly->catboost) (1.3.3)\n",
            "Requirement already satisfied: pytz>=2017.2 in /usr/local/lib/python3.6/dist-packages (from pandas>=0.24.0->catboost) (2018.9)\n",
            "Installing collected packages: catboost\n",
            "Successfully installed catboost-0.24.4\n"
          ],
          "name": "stdout"
        }
      ]
    },
    {
      "cell_type": "code",
      "metadata": {
        "id": "g-eobQ2dKOwu"
      },
      "source": [
        "from catboost import CatBoostClassifier"
      ],
      "execution_count": 17,
      "outputs": []
    },
    {
      "cell_type": "markdown",
      "metadata": {
        "id": "YjCt76D_rHMn"
      },
      "source": [
        "## lectura de datos"
      ]
    },
    {
      "cell_type": "code",
      "metadata": {
        "colab": {
          "base_uri": "https://localhost:8080/"
        },
        "id": "2MXb46VjrCnX",
        "outputId": "70adf479-4cc7-42d2-d740-78193c0879ab"
      },
      "source": [
        "entrenamiento = pd.read_csv('Training.csv')\r\n",
        "entrenamiento.info()"
      ],
      "execution_count": 2,
      "outputs": [
        {
          "output_type": "stream",
          "text": [
            "<class 'pandas.core.frame.DataFrame'>\n",
            "RangeIndex: 16947 entries, 0 to 16946\n",
            "Data columns (total 52 columns):\n",
            " #   Column                              Non-Null Count  Dtype  \n",
            "---  ------                              --------------  -----  \n",
            " 0   ID                                  16947 non-null  int64  \n",
            " 1   Region                              16947 non-null  object \n",
            " 2   Territory                           16947 non-null  object \n",
            " 3   Pricing, Delivery_Terms_Quote_Appr  16947 non-null  int64  \n",
            " 4   Pricing, Delivery_Terms_Approved    16947 non-null  int64  \n",
            " 5   Bureaucratic_Code_0_Approval        16947 non-null  int64  \n",
            " 6   Bureaucratic_Code_0_Approved        16947 non-null  int64  \n",
            " 7   Submitted_for_Approval              16947 non-null  int64  \n",
            " 8   Bureaucratic_Code                   16947 non-null  object \n",
            " 9   Account_Created_Date                16947 non-null  object \n",
            " 10  Source                              16947 non-null  object \n",
            " 11  Billing_Country                     16947 non-null  object \n",
            " 12  Account_Name                        16947 non-null  object \n",
            " 13  Opportunity_Name                    16947 non-null  object \n",
            " 14  Opportunity_ID                      16947 non-null  int64  \n",
            " 15  Sales_Contract_No                   16947 non-null  object \n",
            " 16  Account_Owner                       16947 non-null  object \n",
            " 17  Opportunity_Owner                   16947 non-null  object \n",
            " 18  Account_Type                        16947 non-null  object \n",
            " 19  Opportunity_Type                    16947 non-null  object \n",
            " 20  Quote_Type                          16947 non-null  object \n",
            " 21  Delivery_Terms                      16947 non-null  object \n",
            " 22  Opportunity_Created_Date            16947 non-null  object \n",
            " 23  Brand                               16947 non-null  object \n",
            " 24  Product_Type                        16947 non-null  object \n",
            " 25  Size                                16947 non-null  object \n",
            " 26  Product_Category_B                  16947 non-null  object \n",
            " 27  Price                               16947 non-null  object \n",
            " 28  Currency                            16947 non-null  object \n",
            " 29  Last_Activity                       16947 non-null  object \n",
            " 30  Quote_Expiry_Date                   16947 non-null  object \n",
            " 31  Last_Modified_Date                  16947 non-null  object \n",
            " 32  Last_Modified_By                    16947 non-null  object \n",
            " 33  Product_Family                      16947 non-null  object \n",
            " 34  Product_Name                        16947 non-null  object \n",
            " 35  ASP_Currency                        16947 non-null  object \n",
            " 36  ASP                                 13738 non-null  float64\n",
            " 37  ASP_(converted)_Currency            16947 non-null  object \n",
            " 38  ASP_(converted)                     13738 non-null  float64\n",
            " 39  Planned_Delivery_Start_Date         16947 non-null  object \n",
            " 40  Planned_Delivery_End_Date           16947 non-null  object \n",
            " 41  Month                               16947 non-null  object \n",
            " 42  Delivery_Quarter                    16947 non-null  object \n",
            " 43  Delivery_Year                       16947 non-null  int64  \n",
            " 44  Actual_Delivery_Date                16947 non-null  object \n",
            " 45  TRF                                 16947 non-null  int64  \n",
            " 46  Total_Amount_Currency               16947 non-null  object \n",
            " 47  Total_Amount                        16888 non-null  float64\n",
            " 48  Total_Taxable_Amount_Currency       16947 non-null  object \n",
            " 49  Total_Taxable_Amount                16947 non-null  float64\n",
            " 50  Stage                               16947 non-null  object \n",
            " 51  Prod_Category_A                     16947 non-null  object \n",
            "dtypes: float64(4), int64(9), object(39)\n",
            "memory usage: 6.7+ MB\n"
          ],
          "name": "stdout"
        }
      ]
    },
    {
      "cell_type": "code",
      "metadata": {
        "colab": {
          "base_uri": "https://localhost:8080/"
        },
        "id": "iqDzZndMrUDu",
        "outputId": "2be52fb1-1481-40ad-80f4-870d9d54c68b"
      },
      "source": [
        "testeo = pd.read_csv('Test.csv')\r\n",
        "testeo.info()"
      ],
      "execution_count": 3,
      "outputs": [
        {
          "output_type": "stream",
          "text": [
            "<class 'pandas.core.frame.DataFrame'>\n",
            "RangeIndex: 2551 entries, 0 to 2550\n",
            "Data columns (total 51 columns):\n",
            " #   Column                              Non-Null Count  Dtype  \n",
            "---  ------                              --------------  -----  \n",
            " 0   ID                                  2551 non-null   int64  \n",
            " 1   Region                              2551 non-null   object \n",
            " 2   Territory                           2551 non-null   object \n",
            " 3   Pricing, Delivery_Terms_Quote_Appr  2551 non-null   int64  \n",
            " 4   Pricing, Delivery_Terms_Approved    2551 non-null   int64  \n",
            " 5   Bureaucratic_Code_0_Approval        2551 non-null   int64  \n",
            " 6   Bureaucratic_Code_0_Approved        2551 non-null   int64  \n",
            " 7   Submitted_for_Approval              2551 non-null   int64  \n",
            " 8   Bureaucratic_Code                   2551 non-null   object \n",
            " 9   Account_Created_Date                2551 non-null   object \n",
            " 10  Source                              2551 non-null   object \n",
            " 11  Billing_Country                     2551 non-null   object \n",
            " 12  Account_Name                        2551 non-null   object \n",
            " 13  Opportunity_Name                    2551 non-null   object \n",
            " 14  Opportunity_ID                      2551 non-null   int64  \n",
            " 15  Sales_Contract_No                   2551 non-null   object \n",
            " 16  Account_Owner                       2551 non-null   object \n",
            " 17  Opportunity_Owner                   2551 non-null   object \n",
            " 18  Account_Type                        2551 non-null   object \n",
            " 19  Opportunity_Type                    2551 non-null   object \n",
            " 20  Quote_Type                          2551 non-null   object \n",
            " 21  Delivery_Terms                      2551 non-null   object \n",
            " 22  Opportunity_Created_Date            2551 non-null   object \n",
            " 23  Brand                               2551 non-null   object \n",
            " 24  Product_Type                        2551 non-null   object \n",
            " 25  Size                                2551 non-null   object \n",
            " 26  Product_Category_B                  2551 non-null   object \n",
            " 27  Price                               2551 non-null   object \n",
            " 28  Currency                            2551 non-null   object \n",
            " 29  Last_Activity                       2551 non-null   object \n",
            " 30  Quote_Expiry_Date                   2551 non-null   object \n",
            " 31  Last_Modified_Date                  2551 non-null   object \n",
            " 32  Last_Modified_By                    2551 non-null   object \n",
            " 33  Product_Family                      2551 non-null   object \n",
            " 34  Product_Name                        2551 non-null   object \n",
            " 35  ASP_Currency                        2551 non-null   object \n",
            " 36  ASP                                 2467 non-null   float64\n",
            " 37  ASP_(converted)_Currency            2551 non-null   object \n",
            " 38  ASP_(converted)                     2467 non-null   float64\n",
            " 39  Planned_Delivery_Start_Date         2551 non-null   object \n",
            " 40  Planned_Delivery_End_Date           2551 non-null   object \n",
            " 41  Month                               2551 non-null   object \n",
            " 42  Delivery_Quarter                    2551 non-null   object \n",
            " 43  Delivery_Year                       2551 non-null   int64  \n",
            " 44  Actual_Delivery_Date                2551 non-null   object \n",
            " 45  TRF                                 2551 non-null   int64  \n",
            " 46  Total_Amount_Currency               2551 non-null   object \n",
            " 47  Total_Amount                        2551 non-null   float64\n",
            " 48  Total_Taxable_Amount_Currency       2551 non-null   object \n",
            " 49  Total_Taxable_Amount                2551 non-null   float64\n",
            " 50  Prod_Category_A                     2551 non-null   object \n",
            "dtypes: float64(4), int64(9), object(38)\n",
            "memory usage: 1016.5+ KB\n"
          ],
          "name": "stdout"
        }
      ]
    },
    {
      "cell_type": "markdown",
      "metadata": {
        "id": "GJYpToCYrfnk"
      },
      "source": [
        "## prosesamiento de los df"
      ]
    },
    {
      "cell_type": "markdown",
      "metadata": {
        "id": "hyRdoRPf5wSN"
      },
      "source": [
        "### modificaciones de oportunidad"
      ]
    },
    {
      "cell_type": "code",
      "metadata": {
        "id": "b6B7RcbRrqRk"
      },
      "source": [
        "def convertirATiempo(df,lista):\r\n",
        "    for columna in lista:\r\n",
        "        df[columna] = pd.to_datetime(df[columna])\r\n",
        "    return df\r\n",
        "\r\n",
        "def convertirATipo(df,lista,tipo):\r\n",
        "    for columna in lista:\r\n",
        "        df[columna] = df[columna].astype(tipo)\r\n",
        "    return df\r\n",
        "\r\n",
        "def convertirAFlotante(df,lista):\r\n",
        "    for columna in lista:\r\n",
        "        df[columna] = df[columna].apply(lambda x: None if (x == \"None\" or x == \"Other\") else float(x))\r\n",
        "    return df\r\n",
        "\r\n",
        "def establecerTipos(df):\r\n",
        "    \"\"\"cambia los tipos de las columnas\"\"\"\r\n",
        "    \r\n",
        "    #fechas\r\n",
        "    listaDeColumnasFechas = ['Account_Created_Date','Opportunity_Created_Date','Quote_Expiry_Date','Last_Modified_Date','Delivery_Year','Planned_Delivery_End_Date','Planned_Delivery_Start_Date']\r\n",
        "    df = convertirATiempo(df,listaDeColumnasFechas)\r\n",
        "    #enteros\r\n",
        "    listaDeColumnasEnteras = ['ID','Opportunity_ID']\r\n",
        "    convertirATipo(df,listaDeColumnasEnteras,'int')\r\n",
        "    #decimales\r\n",
        "    listaDeColumnasEnteras = ['Price','ASP','ASP_(converted)','Total_Taxable_Amount','Total_Amount']\r\n",
        "    convertirAFlotante(df,listaDeColumnasEnteras)\r\n",
        "    #booleanos\r\n",
        "    listaDeColumnasBooleanas = ['Pricing, Delivery_Terms_Quote_Appr','Pricing, Delivery_Terms_Approved','Bureaucratic_Code_0_Approval','Bureaucratic_Code_0_Approved']\r\n",
        "    convertirATipo(df,listaDeColumnasBooleanas,'bool')\r\n",
        "    #categoricas\r\n",
        "    listaDeColumnasCategoricas = ['Product_Category_B','Product_Family','Region','Territory','Bureaucratic_Code','Source ','Billing_Country','Account_Name','Opportunity_Name']\r\n",
        "    convertirATipo(df,listaDeColumnasCategoricas,'category')\r\n",
        "    return df\r\n",
        "\r\n",
        "def eliminarColumnasSinImportancia(df):\r\n",
        "    #\"Last_Activity\" y \"Actual_Delivery_Date\" son puros nulos\r\n",
        "    #\"Submitted_for_Approval\" puros valores nulos\r\n",
        "    #\"Prod_Category_A\" tiene todos sus valores iguales\r\n",
        "    df = df.drop(['Submitted_for_Approval','Last_Activity','Actual_Delivery_Date','Prod_Category_A'], axis=1)\r\n",
        "    return df\r\n",
        "\r\n",
        "def agregarColumnas(df):\r\n",
        "    #df['Closed'] = df['Stage'].replace({'Closed Won': True, 'Closed Lost': True, 'Negotiation':False,'Proposal':False,'Qualification':False})\r\n",
        "    df['Won'] = df['Stage'].replace({'Closed Won': True, 'Closed Lost': False, 'Negotiation':False,'Proposal':False,'Qualification':False})\r\n",
        "    convertirATipo(df,['Stage'],'category')\r\n",
        "    return df\r\n",
        "\r\n",
        "def correccionDeTerritorios(df):\r\n",
        "    #se refiere a diferentes partes de usa\r\n",
        "    df = df.replace({'Territory':{'Central US':'USA','NE America':'USA', 'NW America':'USA','SW America':'USA','SE America':'USA'}})\r\n",
        "    #\r\n",
        "    df = df.replace({'Territory':{'KSA':'Saudi Arabia'}})\r\n",
        "    #No se ha encontrado la dorma de los siguientes datos 'Kosovo','South America', 'South East Asia', 'UAE (Dubai)', 'UAE (Others)' (en el caso de kosovo no lo grafica)\r\n",
        "    return df\r\n",
        "\r\n",
        "def preparacionDelDataFrame(df,entrenamiento=True):\r\n",
        "    df = eliminarColumnasSinImportancia(df)\r\n",
        "    df = establecerTipos(df)\r\n",
        "    df = correccionDeTerritorios(df)\r\n",
        "    df.rename(columns = {'Source ':'Source'}, inplace = True)\r\n",
        "    if (entrenamiento):\r\n",
        "      df = agregarColumnas(df)\r\n",
        "    return df"
      ],
      "execution_count": 7,
      "outputs": []
    },
    {
      "cell_type": "markdown",
      "metadata": {
        "id": "6b4gZg-W52iy"
      },
      "source": [
        "### por oportunidad"
      ]
    },
    {
      "cell_type": "code",
      "metadata": {
        "id": "hEXKmCHir-T4"
      },
      "source": [
        "def dataEntrenamiento(df):\r\n",
        "  data = df.groupby('Opportunity_ID').agg({#'Won':'sum','Closed':'sum','modificaciones':'sum',\r\n",
        "                                           'Won':'sum','modificaciones':'sum',\r\n",
        "                                           'Last_Modified_Date':'max','Opportunity_Created_Date':'min',\r\n",
        "                                           'Price':'mean','Quote_Expiry_Date':'max',\r\n",
        "                                           'Pricing, Delivery_Terms_Quote_Appr':'sum',\r\n",
        "                                           'Pricing, Delivery_Terms_Approved':'sum',\r\n",
        "                                           'Bureaucratic_Code_0_Approval':'sum',\r\n",
        "                                           'Bureaucratic_Code_0_Approved':'sum',\r\n",
        "                                           'Account_Created_Date':'min',\r\n",
        "                                           'Total_Amount':'sum','Region':'first',\r\n",
        "                                           'Territory':'first',\r\n",
        "                                           'ASP_(converted)':'sum',\r\n",
        "                                           'Product_Type':'first',\r\n",
        "                                           'Product_Category_B':'first'})#hay que seguir agregando cosas que son importantes\r\n",
        "  return data\r\n",
        "\r\n",
        "def dataTesteo(df):\r\n",
        "  data = df.groupby('Opportunity_ID').agg({'modificaciones':'sum',\r\n",
        "                                           'Last_Modified_Date':'max','Opportunity_Created_Date':'min',\r\n",
        "                                           'Price':'mean','Quote_Expiry_Date':'max',\r\n",
        "                                           'Pricing, Delivery_Terms_Quote_Appr':'sum',\r\n",
        "                                           'Pricing, Delivery_Terms_Approved':'sum',\r\n",
        "                                           'Bureaucratic_Code_0_Approval':'sum',\r\n",
        "                                           'Bureaucratic_Code_0_Approved':'sum',\r\n",
        "                                           'Account_Created_Date':'min',\r\n",
        "                                           'Total_Amount':'sum','Region':'first',\r\n",
        "                                           'Territory':'first',\r\n",
        "                                           'ASP_(converted)':'sum',\r\n",
        "                                           'Product_Type':'first',\r\n",
        "                                           'Product_Category_B':'first'})#hay que seguir agregando cosas que son importantes\r\n",
        "  return data  \r\n",
        "\r\n",
        "def agrupacionDeOportunidades(df,entrenamiento=True):\r\n",
        "  df['modificaciones'] = 1\r\n",
        "  if (entrenamiento):\r\n",
        "    data = dataEntrenamiento(df)\r\n",
        "    #Solo me interesa saber si se cerro con exito\r\n",
        "    #data['Closed'] = data['Closed'].agg(lambda x: 1 if x > 0 else 0)\r\n",
        "    data['Won'] = data['Won'].agg(lambda x: 1 if x > 0 else 0)\r\n",
        "    #data['Lost'] = data['Closed'] - data['Won']#si es won es closed pero si es closed y no es won es perdido\r\n",
        "    #data['Lost'] = data['Lost'].agg(lambda x: 1 if x > 0 else 0)\r\n",
        "  else:\r\n",
        "    data = dataTesteo(df)\r\n",
        "\r\n",
        "  data['Pricing, Delivery_Terms_Quote_Appr'] = data['Pricing, Delivery_Terms_Quote_Appr'].agg(lambda x: 1 if x > 0 else 0)\r\n",
        "  data['Pricing, Delivery_Terms_Approved'] = data['Pricing, Delivery_Terms_Approved'].agg(lambda x: 1 if x > 0 else 0)\r\n",
        "  data['Bureaucratic_Code_0_Approval'] = data['Bureaucratic_Code_0_Approval'].agg(lambda x: 1 if x > 0 else 0)\r\n",
        "  data['Bureaucratic_Code_0_Approved'] = data['Bureaucratic_Code_0_Approved'].agg(lambda x: 1 if x > 0 else 0)\r\n",
        "  #data = data.replace({'Won':})\r\n",
        "  #data = data[data['Closed'] > 0]#no interesan los que no se cerraron#revisar esta linea despues\r\n",
        "  return data"
      ],
      "execution_count": 5,
      "outputs": []
    },
    {
      "cell_type": "markdown",
      "metadata": {
        "id": "kYzRJPBRvMs5"
      },
      "source": [
        "## Ejecucion de cambios"
      ]
    },
    {
      "cell_type": "markdown",
      "metadata": {
        "id": "knmx6tPo01QZ"
      },
      "source": [
        "### ejecucion por modificaciones de oportunidad"
      ]
    },
    {
      "cell_type": "code",
      "metadata": {
        "colab": {
          "base_uri": "https://localhost:8080/"
        },
        "id": "PaAnTWGor1uy",
        "outputId": "6ffc7195-47dc-4f0f-91d2-392441d9c953"
      },
      "source": [
        "entrenamiento = preparacionDelDataFrame(entrenamiento)\r\n",
        "entrenamiento.info()"
      ],
      "execution_count": 8,
      "outputs": [
        {
          "output_type": "stream",
          "text": [
            "<class 'pandas.core.frame.DataFrame'>\n",
            "RangeIndex: 16947 entries, 0 to 16946\n",
            "Data columns (total 49 columns):\n",
            " #   Column                              Non-Null Count  Dtype         \n",
            "---  ------                              --------------  -----         \n",
            " 0   ID                                  16947 non-null  int64         \n",
            " 1   Region                              16947 non-null  category      \n",
            " 2   Territory                           16947 non-null  object        \n",
            " 3   Pricing, Delivery_Terms_Quote_Appr  16947 non-null  bool          \n",
            " 4   Pricing, Delivery_Terms_Approved    16947 non-null  bool          \n",
            " 5   Bureaucratic_Code_0_Approval        16947 non-null  bool          \n",
            " 6   Bureaucratic_Code_0_Approved        16947 non-null  bool          \n",
            " 7   Bureaucratic_Code                   16947 non-null  category      \n",
            " 8   Account_Created_Date                16947 non-null  datetime64[ns]\n",
            " 9   Source                              16947 non-null  category      \n",
            " 10  Billing_Country                     16947 non-null  category      \n",
            " 11  Account_Name                        16947 non-null  category      \n",
            " 12  Opportunity_Name                    16947 non-null  category      \n",
            " 13  Opportunity_ID                      16947 non-null  int64         \n",
            " 14  Sales_Contract_No                   16947 non-null  object        \n",
            " 15  Account_Owner                       16947 non-null  object        \n",
            " 16  Opportunity_Owner                   16947 non-null  object        \n",
            " 17  Account_Type                        16947 non-null  object        \n",
            " 18  Opportunity_Type                    16947 non-null  object        \n",
            " 19  Quote_Type                          16947 non-null  object        \n",
            " 20  Delivery_Terms                      16947 non-null  object        \n",
            " 21  Opportunity_Created_Date            16947 non-null  datetime64[ns]\n",
            " 22  Brand                               16947 non-null  object        \n",
            " 23  Product_Type                        16947 non-null  object        \n",
            " 24  Size                                16947 non-null  object        \n",
            " 25  Product_Category_B                  16947 non-null  category      \n",
            " 26  Price                               356 non-null    float64       \n",
            " 27  Currency                            16947 non-null  object        \n",
            " 28  Quote_Expiry_Date                   12322 non-null  datetime64[ns]\n",
            " 29  Last_Modified_Date                  16947 non-null  datetime64[ns]\n",
            " 30  Last_Modified_By                    16947 non-null  object        \n",
            " 31  Product_Family                      16947 non-null  category      \n",
            " 32  Product_Name                        16947 non-null  object        \n",
            " 33  ASP_Currency                        16947 non-null  object        \n",
            " 34  ASP                                 13738 non-null  float64       \n",
            " 35  ASP_(converted)_Currency            16947 non-null  object        \n",
            " 36  ASP_(converted)                     13738 non-null  float64       \n",
            " 37  Planned_Delivery_Start_Date         16947 non-null  datetime64[ns]\n",
            " 38  Planned_Delivery_End_Date           16872 non-null  datetime64[ns]\n",
            " 39  Month                               16947 non-null  object        \n",
            " 40  Delivery_Quarter                    16947 non-null  object        \n",
            " 41  Delivery_Year                       16947 non-null  datetime64[ns]\n",
            " 42  TRF                                 16947 non-null  int64         \n",
            " 43  Total_Amount_Currency               16947 non-null  object        \n",
            " 44  Total_Amount                        16888 non-null  float64       \n",
            " 45  Total_Taxable_Amount_Currency       16947 non-null  object        \n",
            " 46  Total_Taxable_Amount                16947 non-null  float64       \n",
            " 47  Stage                               16947 non-null  category      \n",
            " 48  Won                                 16947 non-null  bool          \n",
            "dtypes: bool(5), category(9), datetime64[ns](7), float64(5), int64(3), object(20)\n",
            "memory usage: 5.3+ MB\n"
          ],
          "name": "stdout"
        }
      ]
    },
    {
      "cell_type": "code",
      "metadata": {
        "colab": {
          "base_uri": "https://localhost:8080/"
        },
        "id": "HsNznYyLr21Z",
        "outputId": "f07a7c3e-7b42-439e-dcfd-0145dc7fbe43"
      },
      "source": [
        "testeo = preparacionDelDataFrame(testeo,False)\r\n",
        "testeo.info()"
      ],
      "execution_count": 9,
      "outputs": [
        {
          "output_type": "stream",
          "text": [
            "<class 'pandas.core.frame.DataFrame'>\n",
            "RangeIndex: 2551 entries, 0 to 2550\n",
            "Data columns (total 47 columns):\n",
            " #   Column                              Non-Null Count  Dtype         \n",
            "---  ------                              --------------  -----         \n",
            " 0   ID                                  2551 non-null   int64         \n",
            " 1   Region                              2551 non-null   category      \n",
            " 2   Territory                           2551 non-null   object        \n",
            " 3   Pricing, Delivery_Terms_Quote_Appr  2551 non-null   bool          \n",
            " 4   Pricing, Delivery_Terms_Approved    2551 non-null   bool          \n",
            " 5   Bureaucratic_Code_0_Approval        2551 non-null   bool          \n",
            " 6   Bureaucratic_Code_0_Approved        2551 non-null   bool          \n",
            " 7   Bureaucratic_Code                   2551 non-null   category      \n",
            " 8   Account_Created_Date                2551 non-null   datetime64[ns]\n",
            " 9   Source                              2551 non-null   category      \n",
            " 10  Billing_Country                     2551 non-null   category      \n",
            " 11  Account_Name                        2551 non-null   category      \n",
            " 12  Opportunity_Name                    2551 non-null   category      \n",
            " 13  Opportunity_ID                      2551 non-null   int64         \n",
            " 14  Sales_Contract_No                   2551 non-null   object        \n",
            " 15  Account_Owner                       2551 non-null   object        \n",
            " 16  Opportunity_Owner                   2551 non-null   object        \n",
            " 17  Account_Type                        2551 non-null   object        \n",
            " 18  Opportunity_Type                    2551 non-null   object        \n",
            " 19  Quote_Type                          2551 non-null   object        \n",
            " 20  Delivery_Terms                      2551 non-null   object        \n",
            " 21  Opportunity_Created_Date            2551 non-null   datetime64[ns]\n",
            " 22  Brand                               2551 non-null   object        \n",
            " 23  Product_Type                        2551 non-null   object        \n",
            " 24  Size                                2551 non-null   object        \n",
            " 25  Product_Category_B                  2551 non-null   category      \n",
            " 26  Price                               160 non-null    float64       \n",
            " 27  Currency                            2551 non-null   object        \n",
            " 28  Quote_Expiry_Date                   1315 non-null   datetime64[ns]\n",
            " 29  Last_Modified_Date                  2551 non-null   datetime64[ns]\n",
            " 30  Last_Modified_By                    2551 non-null   object        \n",
            " 31  Product_Family                      2551 non-null   category      \n",
            " 32  Product_Name                        2551 non-null   object        \n",
            " 33  ASP_Currency                        2551 non-null   object        \n",
            " 34  ASP                                 2467 non-null   float64       \n",
            " 35  ASP_(converted)_Currency            2551 non-null   object        \n",
            " 36  ASP_(converted)                     2467 non-null   float64       \n",
            " 37  Planned_Delivery_Start_Date         2551 non-null   datetime64[ns]\n",
            " 38  Planned_Delivery_End_Date           2500 non-null   datetime64[ns]\n",
            " 39  Month                               2551 non-null   object        \n",
            " 40  Delivery_Quarter                    2551 non-null   object        \n",
            " 41  Delivery_Year                       2551 non-null   datetime64[ns]\n",
            " 42  TRF                                 2551 non-null   int64         \n",
            " 43  Total_Amount_Currency               2551 non-null   object        \n",
            " 44  Total_Amount                        2551 non-null   float64       \n",
            " 45  Total_Taxable_Amount_Currency       2551 non-null   object        \n",
            " 46  Total_Taxable_Amount                2551 non-null   float64       \n",
            "dtypes: bool(4), category(8), datetime64[ns](7), float64(5), int64(3), object(20)\n",
            "memory usage: 815.8+ KB\n"
          ],
          "name": "stdout"
        }
      ]
    },
    {
      "cell_type": "markdown",
      "metadata": {
        "id": "q8JeolJN08kJ"
      },
      "source": [
        "### ejecucion por oportunidad"
      ]
    },
    {
      "cell_type": "code",
      "metadata": {
        "colab": {
          "base_uri": "https://localhost:8080/"
        },
        "id": "4FaCKA1_1ANL",
        "outputId": "b6946e19-8694-48ae-c6be-acf06713ad51"
      },
      "source": [
        "agrupacionEntrenamiento = agrupacionDeOportunidades(entrenamiento)\r\n",
        "agrupacionEntrenamiento.info()"
      ],
      "execution_count": 10,
      "outputs": [
        {
          "output_type": "stream",
          "text": [
            "<class 'pandas.core.frame.DataFrame'>\n",
            "Int64Index: 9841 entries, 0 to 12803\n",
            "Data columns (total 17 columns):\n",
            " #   Column                              Non-Null Count  Dtype         \n",
            "---  ------                              --------------  -----         \n",
            " 0   Won                                 9841 non-null   int64         \n",
            " 1   modificaciones                      9841 non-null   int64         \n",
            " 2   Last_Modified_Date                  9841 non-null   datetime64[ns]\n",
            " 3   Opportunity_Created_Date            9841 non-null   datetime64[ns]\n",
            " 4   Price                               267 non-null    float64       \n",
            " 5   Quote_Expiry_Date                   7489 non-null   datetime64[ns]\n",
            " 6   Pricing, Delivery_Terms_Quote_Appr  9841 non-null   int64         \n",
            " 7   Pricing, Delivery_Terms_Approved    9841 non-null   int64         \n",
            " 8   Bureaucratic_Code_0_Approval        9841 non-null   int64         \n",
            " 9   Bureaucratic_Code_0_Approved        9841 non-null   int64         \n",
            " 10  Account_Created_Date                9841 non-null   datetime64[ns]\n",
            " 11  Total_Amount                        9841 non-null   float64       \n",
            " 12  Region                              9841 non-null   object        \n",
            " 13  Territory                           9841 non-null   object        \n",
            " 14  ASP_(converted)                     9841 non-null   float64       \n",
            " 15  Product_Type                        9841 non-null   object        \n",
            " 16  Product_Category_B                  9841 non-null   object        \n",
            "dtypes: datetime64[ns](4), float64(3), int64(6), object(4)\n",
            "memory usage: 1.4+ MB\n"
          ],
          "name": "stdout"
        }
      ]
    },
    {
      "cell_type": "code",
      "metadata": {
        "colab": {
          "base_uri": "https://localhost:8080/"
        },
        "id": "u45CZJXV1Flo",
        "outputId": "167adae2-36f5-4983-b4a7-aea0cb31445d"
      },
      "source": [
        "agrupacionTesteo = agrupacionDeOportunidades(testeo,False)\r\n",
        "agrupacionTesteo.info()"
      ],
      "execution_count": 11,
      "outputs": [
        {
          "output_type": "stream",
          "text": [
            "<class 'pandas.core.frame.DataFrame'>\n",
            "Int64Index: 1567 entries, 10689 to 12368\n",
            "Data columns (total 16 columns):\n",
            " #   Column                              Non-Null Count  Dtype         \n",
            "---  ------                              --------------  -----         \n",
            " 0   modificaciones                      1567 non-null   int64         \n",
            " 1   Last_Modified_Date                  1567 non-null   datetime64[ns]\n",
            " 2   Opportunity_Created_Date            1567 non-null   datetime64[ns]\n",
            " 3   Price                               110 non-null    float64       \n",
            " 4   Quote_Expiry_Date                   883 non-null    datetime64[ns]\n",
            " 5   Pricing, Delivery_Terms_Quote_Appr  1567 non-null   int64         \n",
            " 6   Pricing, Delivery_Terms_Approved    1567 non-null   int64         \n",
            " 7   Bureaucratic_Code_0_Approval        1567 non-null   int64         \n",
            " 8   Bureaucratic_Code_0_Approved        1567 non-null   int64         \n",
            " 9   Account_Created_Date                1567 non-null   datetime64[ns]\n",
            " 10  Total_Amount                        1567 non-null   float64       \n",
            " 11  Region                              1567 non-null   object        \n",
            " 12  Territory                           1567 non-null   object        \n",
            " 13  ASP_(converted)                     1567 non-null   float64       \n",
            " 14  Product_Type                        1567 non-null   object        \n",
            " 15  Product_Category_B                  1567 non-null   object        \n",
            "dtypes: datetime64[ns](4), float64(3), int64(5), object(4)\n",
            "memory usage: 208.1+ KB\n"
          ],
          "name": "stdout"
        }
      ]
    },
    {
      "cell_type": "markdown",
      "metadata": {
        "id": "J983upopKwQx"
      },
      "source": [
        "## Catboost"
      ]
    },
    {
      "cell_type": "code",
      "metadata": {
        "id": "4fhBQZdlK0xf"
      },
      "source": [
        "def catboost(train_data,train_labels,cat_features,eval_data)\r\n",
        "  # Inicializador de CatBoostClassifier\r\n",
        "  model = CatBoostClassifier(iterations=2,\r\n",
        "                            learning_rate=1,\r\n",
        "                            depth=8)\r\n",
        "  #parametros importantes por agregar: l2_leaf_reg, rsm\r\n",
        "  #para tipos de category: cat_features, one_hot_max_size\r\n",
        "\r\n",
        "  # Entrenamiento del modelo\r\n",
        "  model.fit(train_data, train_labels, cat_features)\r\n",
        "  # obtener prediccion\r\n",
        "  preds_class = model.predict(eval_data)\r\n",
        "  # obtener probabilidad de prediccion\r\n",
        "  preds_proba = model.predict_proba(eval_data)\r\n",
        "  # obtener RawFormulaVal de la prediccion\r\n",
        "  preds_raw = model.predict(eval_data, prediction_type='RawFormulaVal')"
      ],
      "execution_count": null,
      "outputs": []
    }
  ]
}