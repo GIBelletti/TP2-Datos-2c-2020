{
  "nbformat": 4,
  "nbformat_minor": 0,
  "metadata": {
    "colab": {
      "name": "TP2 2c 2020.ipynb",
      "provenance": [],
      "collapsed_sections": [
        "knmx6tPo01QZ",
        "S7uqV5xvL6Zo"
      ],
      "toc_visible": true
    },
    "kernelspec": {
      "name": "python3",
      "display_name": "Python 3"
    }
  },
  "cells": [
    {
      "cell_type": "markdown",
      "metadata": {
        "id": "LaZMud-2rKuY"
      },
      "source": [
        "# TP 2"
      ]
    },
    {
      "cell_type": "markdown",
      "metadata": {
        "id": "5NvRrhUOrEpv"
      },
      "source": [
        "## Imports"
      ]
    },
    {
      "cell_type": "code",
      "metadata": {
        "id": "ksz2M8HorAfb"
      },
      "source": [
        "import pandas as pd\r\n",
        "import numpy as np\r\n",
        "import matplotlib.pyplot as plt\r\n",
        "import seaborn as sns\r\n",
        "import plotly.graph_objects as go\r\n",
        "import matplotlib\r\n",
        "import plotly as py\r\n",
        "import plotly.express as px \r\n",
        "import matplotlib.ticker as ticker\r\n",
        "plt.style.use('default')\r\n",
        "import plotly.offline as opy\r\n",
        "import plotly.figure_factory as ff\r\n",
        "import plotly.io as pio\r\n",
        "from wordcloud import WordCloud\r\n",
        "from datetime import datetime\r\n",
        "\r\n",
        "sns.set(style=\"whitegrid\")\r\n",
        "\r\n",
        "pd.options.display.float_format = '{:20,.2f}'.format \r\n",
        "\r\n",
        "import warnings\r\n",
        "warnings.filterwarnings('ignore')"
      ],
      "execution_count": 62,
      "outputs": []
    },
    {
      "cell_type": "code",
      "metadata": {
        "colab": {
          "base_uri": "https://localhost:8080/"
        },
        "id": "cpEGbEgDKgny",
        "outputId": "b76c4fe5-4a62-441f-8737-d5b401fe50d4"
      },
      "source": [
        "#Ejecutar si no funciona el import\r\n",
        "!pip3 install catboost"
      ],
      "execution_count": 2,
      "outputs": [
        {
          "output_type": "stream",
          "text": [
            "Collecting catboost\n",
            "\u001b[?25l  Downloading https://files.pythonhosted.org/packages/20/37/bc4e0ddc30c07a96482abf1de7ed1ca54e59bba2026a33bca6d2ef286e5b/catboost-0.24.4-cp36-none-manylinux1_x86_64.whl (65.7MB)\n",
            "\u001b[K     |████████████████████████████████| 65.8MB 58kB/s \n",
            "\u001b[?25hRequirement already satisfied: plotly in /usr/local/lib/python3.6/dist-packages (from catboost) (4.4.1)\n",
            "Requirement already satisfied: graphviz in /usr/local/lib/python3.6/dist-packages (from catboost) (0.10.1)\n",
            "Requirement already satisfied: scipy in /usr/local/lib/python3.6/dist-packages (from catboost) (1.4.1)\n",
            "Requirement already satisfied: matplotlib in /usr/local/lib/python3.6/dist-packages (from catboost) (3.2.2)\n",
            "Requirement already satisfied: six in /usr/local/lib/python3.6/dist-packages (from catboost) (1.15.0)\n",
            "Requirement already satisfied: pandas>=0.24.0 in /usr/local/lib/python3.6/dist-packages (from catboost) (1.1.5)\n",
            "Requirement already satisfied: numpy>=1.16.0 in /usr/local/lib/python3.6/dist-packages (from catboost) (1.19.5)\n",
            "Requirement already satisfied: retrying>=1.3.3 in /usr/local/lib/python3.6/dist-packages (from plotly->catboost) (1.3.3)\n",
            "Requirement already satisfied: kiwisolver>=1.0.1 in /usr/local/lib/python3.6/dist-packages (from matplotlib->catboost) (1.3.1)\n",
            "Requirement already satisfied: cycler>=0.10 in /usr/local/lib/python3.6/dist-packages (from matplotlib->catboost) (0.10.0)\n",
            "Requirement already satisfied: pyparsing!=2.0.4,!=2.1.2,!=2.1.6,>=2.0.1 in /usr/local/lib/python3.6/dist-packages (from matplotlib->catboost) (2.4.7)\n",
            "Requirement already satisfied: python-dateutil>=2.1 in /usr/local/lib/python3.6/dist-packages (from matplotlib->catboost) (2.8.1)\n",
            "Requirement already satisfied: pytz>=2017.2 in /usr/local/lib/python3.6/dist-packages (from pandas>=0.24.0->catboost) (2018.9)\n",
            "Installing collected packages: catboost\n",
            "Successfully installed catboost-0.24.4\n"
          ],
          "name": "stdout"
        }
      ]
    },
    {
      "cell_type": "code",
      "metadata": {
        "id": "g-eobQ2dKOwu"
      },
      "source": [
        "from catboost import CatBoostClassifier"
      ],
      "execution_count": 3,
      "outputs": []
    },
    {
      "cell_type": "markdown",
      "metadata": {
        "id": "YjCt76D_rHMn"
      },
      "source": [
        "## lectura de datos"
      ]
    },
    {
      "cell_type": "code",
      "metadata": {
        "colab": {
          "base_uri": "https://localhost:8080/"
        },
        "id": "2MXb46VjrCnX",
        "outputId": "7ae529c9-9729-48c7-ab2a-afcf0f5847de"
      },
      "source": [
        "entrenamiento = pd.read_csv('Training.csv')\r\n",
        "entrenamiento.info()"
      ],
      "execution_count": 63,
      "outputs": [
        {
          "output_type": "stream",
          "text": [
            "<class 'pandas.core.frame.DataFrame'>\n",
            "RangeIndex: 16947 entries, 0 to 16946\n",
            "Data columns (total 52 columns):\n",
            " #   Column                              Non-Null Count  Dtype  \n",
            "---  ------                              --------------  -----  \n",
            " 0   ID                                  16947 non-null  int64  \n",
            " 1   Region                              16947 non-null  object \n",
            " 2   Territory                           16947 non-null  object \n",
            " 3   Pricing, Delivery_Terms_Quote_Appr  16947 non-null  int64  \n",
            " 4   Pricing, Delivery_Terms_Approved    16947 non-null  int64  \n",
            " 5   Bureaucratic_Code_0_Approval        16947 non-null  int64  \n",
            " 6   Bureaucratic_Code_0_Approved        16947 non-null  int64  \n",
            " 7   Submitted_for_Approval              16947 non-null  int64  \n",
            " 8   Bureaucratic_Code                   16947 non-null  object \n",
            " 9   Account_Created_Date                16947 non-null  object \n",
            " 10  Source                              16947 non-null  object \n",
            " 11  Billing_Country                     16947 non-null  object \n",
            " 12  Account_Name                        16947 non-null  object \n",
            " 13  Opportunity_Name                    16947 non-null  object \n",
            " 14  Opportunity_ID                      16947 non-null  int64  \n",
            " 15  Sales_Contract_No                   16947 non-null  object \n",
            " 16  Account_Owner                       16947 non-null  object \n",
            " 17  Opportunity_Owner                   16947 non-null  object \n",
            " 18  Account_Type                        16947 non-null  object \n",
            " 19  Opportunity_Type                    16947 non-null  object \n",
            " 20  Quote_Type                          16947 non-null  object \n",
            " 21  Delivery_Terms                      16947 non-null  object \n",
            " 22  Opportunity_Created_Date            16947 non-null  object \n",
            " 23  Brand                               16947 non-null  object \n",
            " 24  Product_Type                        16947 non-null  object \n",
            " 25  Size                                16947 non-null  object \n",
            " 26  Product_Category_B                  16947 non-null  object \n",
            " 27  Price                               16947 non-null  object \n",
            " 28  Currency                            16947 non-null  object \n",
            " 29  Last_Activity                       16947 non-null  object \n",
            " 30  Quote_Expiry_Date                   16947 non-null  object \n",
            " 31  Last_Modified_Date                  16947 non-null  object \n",
            " 32  Last_Modified_By                    16947 non-null  object \n",
            " 33  Product_Family                      16947 non-null  object \n",
            " 34  Product_Name                        16947 non-null  object \n",
            " 35  ASP_Currency                        16947 non-null  object \n",
            " 36  ASP                                 13738 non-null  float64\n",
            " 37  ASP_(converted)_Currency            16947 non-null  object \n",
            " 38  ASP_(converted)                     13738 non-null  float64\n",
            " 39  Planned_Delivery_Start_Date         16947 non-null  object \n",
            " 40  Planned_Delivery_End_Date           16947 non-null  object \n",
            " 41  Month                               16947 non-null  object \n",
            " 42  Delivery_Quarter                    16947 non-null  object \n",
            " 43  Delivery_Year                       16947 non-null  int64  \n",
            " 44  Actual_Delivery_Date                16947 non-null  object \n",
            " 45  TRF                                 16947 non-null  int64  \n",
            " 46  Total_Amount_Currency               16947 non-null  object \n",
            " 47  Total_Amount                        16888 non-null  float64\n",
            " 48  Total_Taxable_Amount_Currency       16947 non-null  object \n",
            " 49  Total_Taxable_Amount                16947 non-null  float64\n",
            " 50  Stage                               16947 non-null  object \n",
            " 51  Prod_Category_A                     16947 non-null  object \n",
            "dtypes: float64(4), int64(9), object(39)\n",
            "memory usage: 6.7+ MB\n"
          ],
          "name": "stdout"
        }
      ]
    },
    {
      "cell_type": "code",
      "metadata": {
        "colab": {
          "base_uri": "https://localhost:8080/"
        },
        "id": "iqDzZndMrUDu",
        "outputId": "b3209029-51ca-4ae6-f7d0-dd5d7709fbbd"
      },
      "source": [
        "testeo = pd.read_csv('Test.csv')\r\n",
        "testeo.info()"
      ],
      "execution_count": 64,
      "outputs": [
        {
          "output_type": "stream",
          "text": [
            "<class 'pandas.core.frame.DataFrame'>\n",
            "RangeIndex: 2551 entries, 0 to 2550\n",
            "Data columns (total 51 columns):\n",
            " #   Column                              Non-Null Count  Dtype  \n",
            "---  ------                              --------------  -----  \n",
            " 0   ID                                  2551 non-null   int64  \n",
            " 1   Region                              2551 non-null   object \n",
            " 2   Territory                           2551 non-null   object \n",
            " 3   Pricing, Delivery_Terms_Quote_Appr  2551 non-null   int64  \n",
            " 4   Pricing, Delivery_Terms_Approved    2551 non-null   int64  \n",
            " 5   Bureaucratic_Code_0_Approval        2551 non-null   int64  \n",
            " 6   Bureaucratic_Code_0_Approved        2551 non-null   int64  \n",
            " 7   Submitted_for_Approval              2551 non-null   int64  \n",
            " 8   Bureaucratic_Code                   2551 non-null   object \n",
            " 9   Account_Created_Date                2551 non-null   object \n",
            " 10  Source                              2551 non-null   object \n",
            " 11  Billing_Country                     2551 non-null   object \n",
            " 12  Account_Name                        2551 non-null   object \n",
            " 13  Opportunity_Name                    2551 non-null   object \n",
            " 14  Opportunity_ID                      2551 non-null   int64  \n",
            " 15  Sales_Contract_No                   2551 non-null   object \n",
            " 16  Account_Owner                       2551 non-null   object \n",
            " 17  Opportunity_Owner                   2551 non-null   object \n",
            " 18  Account_Type                        2551 non-null   object \n",
            " 19  Opportunity_Type                    2551 non-null   object \n",
            " 20  Quote_Type                          2551 non-null   object \n",
            " 21  Delivery_Terms                      2551 non-null   object \n",
            " 22  Opportunity_Created_Date            2551 non-null   object \n",
            " 23  Brand                               2551 non-null   object \n",
            " 24  Product_Type                        2551 non-null   object \n",
            " 25  Size                                2551 non-null   object \n",
            " 26  Product_Category_B                  2551 non-null   object \n",
            " 27  Price                               2551 non-null   object \n",
            " 28  Currency                            2551 non-null   object \n",
            " 29  Last_Activity                       2551 non-null   object \n",
            " 30  Quote_Expiry_Date                   2551 non-null   object \n",
            " 31  Last_Modified_Date                  2551 non-null   object \n",
            " 32  Last_Modified_By                    2551 non-null   object \n",
            " 33  Product_Family                      2551 non-null   object \n",
            " 34  Product_Name                        2551 non-null   object \n",
            " 35  ASP_Currency                        2551 non-null   object \n",
            " 36  ASP                                 2467 non-null   float64\n",
            " 37  ASP_(converted)_Currency            2551 non-null   object \n",
            " 38  ASP_(converted)                     2467 non-null   float64\n",
            " 39  Planned_Delivery_Start_Date         2551 non-null   object \n",
            " 40  Planned_Delivery_End_Date           2551 non-null   object \n",
            " 41  Month                               2551 non-null   object \n",
            " 42  Delivery_Quarter                    2551 non-null   object \n",
            " 43  Delivery_Year                       2551 non-null   int64  \n",
            " 44  Actual_Delivery_Date                2551 non-null   object \n",
            " 45  TRF                                 2551 non-null   int64  \n",
            " 46  Total_Amount_Currency               2551 non-null   object \n",
            " 47  Total_Amount                        2551 non-null   float64\n",
            " 48  Total_Taxable_Amount_Currency       2551 non-null   object \n",
            " 49  Total_Taxable_Amount                2551 non-null   float64\n",
            " 50  Prod_Category_A                     2551 non-null   object \n",
            "dtypes: float64(4), int64(9), object(38)\n",
            "memory usage: 1016.5+ KB\n"
          ],
          "name": "stdout"
        }
      ]
    },
    {
      "cell_type": "markdown",
      "metadata": {
        "id": "GJYpToCYrfnk"
      },
      "source": [
        "## prosesamiento de los df"
      ]
    },
    {
      "cell_type": "markdown",
      "metadata": {
        "id": "hyRdoRPf5wSN"
      },
      "source": [
        "### modificaciones de oportunidad"
      ]
    },
    {
      "cell_type": "code",
      "metadata": {
        "id": "b6B7RcbRrqRk"
      },
      "source": [
        "def convertirATiempo(df,lista):\r\n",
        "    for columna in lista:\r\n",
        "        df[columna] = pd.to_datetime(df[columna])\r\n",
        "    return df\r\n",
        "\r\n",
        "def convertirATipo(df,lista,tipo):\r\n",
        "    for columna in lista:\r\n",
        "        df[columna] = df[columna].astype(tipo)\r\n",
        "    return df\r\n",
        "\r\n",
        "def convertirAFlotante(df,lista):\r\n",
        "    for columna in lista:\r\n",
        "        df[columna] = df[columna].apply(lambda x: None if (x == \"None\" or x == \"Other\") else float(x))\r\n",
        "    return df\r\n",
        "\r\n",
        "def establecerTipos(df):\r\n",
        "    \"\"\"cambia los tipos de las columnas\"\"\"\r\n",
        "    \r\n",
        "    #fechas\r\n",
        "    listaDeColumnasFechas = ['Account_Created_Date','Opportunity_Created_Date','Quote_Expiry_Date','Last_Modified_Date','Delivery_Year','Planned_Delivery_End_Date','Planned_Delivery_Start_Date']\r\n",
        "    df = convertirATiempo(df,listaDeColumnasFechas)\r\n",
        "    #enteros\r\n",
        "    listaDeColumnasEnteras = ['ID','Opportunity_ID']\r\n",
        "    convertirATipo(df,listaDeColumnasEnteras,'int')\r\n",
        "    #decimales\r\n",
        "    listaDeColumnasEnteras = ['Price','ASP','ASP_(converted)','Total_Taxable_Amount','Total_Amount']\r\n",
        "    convertirAFlotante(df,listaDeColumnasEnteras)\r\n",
        "    #booleanos\r\n",
        "    listaDeColumnasBooleanas = ['Pricing, Delivery_Terms_Quote_Appr','Pricing, Delivery_Terms_Approved','Bureaucratic_Code_0_Approval','Bureaucratic_Code_0_Approved']\r\n",
        "    convertirATipo(df,listaDeColumnasBooleanas,'bool')\r\n",
        "    #categoricas\r\n",
        "    listaDeColumnasCategoricas = ['Product_Category_B','Product_Family','Region','Territory','Bureaucratic_Code','Source ','Billing_Country','Account_Name','Opportunity_Name']\r\n",
        "    convertirATipo(df,listaDeColumnasCategoricas,'category')\r\n",
        "    return df\r\n",
        "\r\n",
        "def eliminarColumnasSinImportancia(df):\r\n",
        "    #\"Last_Activity\" y \"Actual_Delivery_Date\" son puros nulos\r\n",
        "    #\"Submitted_for_Approval\" puros valores nulos\r\n",
        "    #\"Prod_Category_A\" tiene todos sus valores iguales\r\n",
        "    df = df.drop(['Submitted_for_Approval','Last_Activity','Actual_Delivery_Date','Prod_Category_A'], axis=1)\r\n",
        "    return df\r\n",
        "\r\n",
        "def agregarColumnas(df):\r\n",
        "    df['Closed'] = df['Stage'].replace({'Closed Won': True, 'Closed Lost': True, 'Negotiation':False,'Proposal':False,'Qualification':False})#REVISAR\r\n",
        "    df['Won'] = df['Stage'].replace({'Closed Won': True, 'Closed Lost': False, 'Negotiation':False,'Proposal':False,'Qualification':False})\r\n",
        "    convertirATipo(df,['Stage'],'category')\r\n",
        "    return df\r\n",
        "\r\n",
        "def correccionDeTerritorios(df):\r\n",
        "    #se refiere a diferentes partes de usa\r\n",
        "    df = df.replace({'Territory':{'Central US':'USA','NE America':'USA', 'NW America':'USA','SW America':'USA','SE America':'USA'}})\r\n",
        "    #\r\n",
        "    df = df.replace({'Territory':{'KSA':'Saudi Arabia'}})\r\n",
        "    #No se ha encontrado la dorma de los siguientes datos 'Kosovo','South America', 'South East Asia', 'UAE (Dubai)', 'UAE (Others)' (en el caso de kosovo no lo grafica)\r\n",
        "    return df\r\n",
        "\r\n",
        "def preparacionDelDataFrame(df,entrenamiento=True):\r\n",
        "    df = eliminarColumnasSinImportancia(df)\r\n",
        "    df = establecerTipos(df)\r\n",
        "    df = correccionDeTerritorios(df)\r\n",
        "    df.rename(columns = {'Source ':'Source'}, inplace = True)\r\n",
        "    if (entrenamiento):\r\n",
        "      df = agregarColumnas(df)\r\n",
        "    return df"
      ],
      "execution_count": 65,
      "outputs": []
    },
    {
      "cell_type": "markdown",
      "metadata": {
        "id": "6b4gZg-W52iy"
      },
      "source": [
        "### por oportunidad"
      ]
    },
    {
      "cell_type": "code",
      "metadata": {
        "id": "W1BeGQYEAcMp"
      },
      "source": [
        "def desacerseDeNulosDateTime(df,columna):\r\n",
        "  df[columna] = df[columna].apply(lambda x: datetime.max if (x is None or x is np.NaN or x is pd.NaT) else x)\r\n",
        "  return df\r\n",
        "\r\n",
        "def descomposicionDeFechas(df,lista):\r\n",
        "  \"\"\"se nesesitan enteros no fechas\"\"\"\r\n",
        "  for columna in lista:\r\n",
        "    anio = columna + '_anio'\r\n",
        "    df[anio] = df[columna].apply(lambda x: x.year())\r\n",
        "    mes = columna + '_mes'\r\n",
        "    df[mes] = df[columna].apply(lambda x: x.month())\r\n",
        "    dia = columna + '_dia'\r\n",
        "    df[dia] = df[columna].apply(lambda x: x.day())\r\n",
        "  df.drop(lista, axis=1)\r\n",
        "  return df"
      ],
      "execution_count": 82,
      "outputs": []
    },
    {
      "cell_type": "code",
      "metadata": {
        "id": "hEXKmCHir-T4"
      },
      "source": [
        "def dataEntrenamiento(df):\r\n",
        "  data = df.groupby('Opportunity_ID').agg({'Won':'sum','Closed':'sum','modificaciones':'sum',\r\n",
        "                                           #'Won':'sum','modificaciones':'sum',\r\n",
        "                                           'Last_Modified_Date':'max','Opportunity_Created_Date':'min',\r\n",
        "                                           #'Price':'mean',#Demaciados nulos\r\n",
        "                                           'Quote_Expiry_Date':'max',\r\n",
        "                                           'Pricing, Delivery_Terms_Quote_Appr':'sum',\r\n",
        "                                           'Pricing, Delivery_Terms_Approved':'sum',\r\n",
        "                                           'Bureaucratic_Code_0_Approval':'sum',\r\n",
        "                                           'Bureaucratic_Code_0_Approved':'sum',\r\n",
        "                                           'Account_Created_Date':'min',\r\n",
        "                                           'Total_Amount':'sum','Region':'first',\r\n",
        "                                           'Territory':'first',\r\n",
        "                                           'ASP_(converted)':'sum',\r\n",
        "                                           'Product_Type':'first',\r\n",
        "                                           'Product_Category_B':'first'})#hay que seguir agregando cosas que son importantes\r\n",
        "  return data\r\n",
        "\r\n",
        "def dataTesteo(df):\r\n",
        "  data = df.groupby('Opportunity_ID').agg({'modificaciones':'sum',\r\n",
        "                                           'Last_Modified_Date':'max','Opportunity_Created_Date':'min',\r\n",
        "                                           #'Price':'mean',#Demaciados nulos\r\n",
        "                                           'Quote_Expiry_Date':'max',\r\n",
        "                                           'Pricing, Delivery_Terms_Quote_Appr':'sum',\r\n",
        "                                           'Pricing, Delivery_Terms_Approved':'sum',\r\n",
        "                                           'Bureaucratic_Code_0_Approval':'sum',\r\n",
        "                                           'Bureaucratic_Code_0_Approved':'sum',\r\n",
        "                                           'Account_Created_Date':'min',\r\n",
        "                                           'Total_Amount':'sum','Region':'first',\r\n",
        "                                           'Territory':'first',\r\n",
        "                                           'ASP_(converted)':'sum',\r\n",
        "                                           'Product_Type':'first',\r\n",
        "                                           'Product_Category_B':'first'})#hay que seguir agregando cosas que son importantes\r\n",
        "  return data  \r\n",
        "\r\n",
        "def agrupacionDeOportunidades(df,entrenamiento=True):\r\n",
        "  df['modificaciones'] = 1\r\n",
        "  if (entrenamiento):\r\n",
        "    data = dataEntrenamiento(df)\r\n",
        "    #Solo me interesa saber si se cerro con exito\r\n",
        "    #data['Closed'] = data['Closed'].agg(lambda x: 1 if x > 0 else 0)\r\n",
        "    data['Won'] = data['Won'].agg(lambda x: 1 if x > 0 else 0)\r\n",
        "    #data['Lost'] = data['Closed'] - data['Won']#si es won es closed pero si es closed y no es won es perdido\r\n",
        "    #data['Lost'] = data['Lost'].agg(lambda x: 1 if x > 0 else 0)\r\n",
        "\r\n",
        "    #REVISAR la importancia del caso no cerrado\r\n",
        "    data = data[data['Closed'] > 0]#no interesan los que no se cerraron, dado que no se cerraron no aportan\r\n",
        "    data = data.drop(['Closed'], axis=1)\r\n",
        "  else:\r\n",
        "    data = dataTesteo(df)\r\n",
        "\r\n",
        "  data['Pricing, Delivery_Terms_Quote_Appr'] = data['Pricing, Delivery_Terms_Quote_Appr'].agg(lambda x: 1 if x > 0 else 0)\r\n",
        "  data['Pricing, Delivery_Terms_Approved'] = data['Pricing, Delivery_Terms_Approved'].agg(lambda x: 1 if x > 0 else 0)\r\n",
        "  data['Bureaucratic_Code_0_Approval'] = data['Bureaucratic_Code_0_Approval'].agg(lambda x: 1 if x > 0 else 0)\r\n",
        "  data['Bureaucratic_Code_0_Approved'] = data['Bureaucratic_Code_0_Approved'].agg(lambda x: 1 if x > 0 else 0)\r\n",
        "  #data = data.replace({'Won':})\r\n",
        "\r\n",
        "  #categoricas\r\n",
        "  listaDeColumnasCategoricas = ['Product_Category_B','Region','Territory','Product_Type']\r\n",
        "  convertirATipo(data,listaDeColumnasCategoricas,'category')\r\n",
        "\r\n",
        "  data = desacerseDeNulosDateTime(data,'Quote_Expiry_Date')#si no hay fecha de expiracion se pre supone que es infinita\r\n",
        "\r\n",
        "  listaDeValoresDeFechas = ['Last_Modified_Date','Opportunity_Created_Date','Account_Created_Date']\r\n",
        "  data = descomposicionDeFechas(data,listaDeValoresDeFechas)\r\n",
        "\r\n",
        "  return data"
      ],
      "execution_count": 78,
      "outputs": []
    },
    {
      "cell_type": "markdown",
      "metadata": {
        "id": "kYzRJPBRvMs5"
      },
      "source": [
        "## Ejecucion de cambios"
      ]
    },
    {
      "cell_type": "markdown",
      "metadata": {
        "id": "knmx6tPo01QZ"
      },
      "source": [
        "### ejecucion por modificaciones de oportunidad"
      ]
    },
    {
      "cell_type": "code",
      "metadata": {
        "colab": {
          "base_uri": "https://localhost:8080/"
        },
        "id": "PaAnTWGor1uy",
        "outputId": "c555cf8e-f486-40d3-8922-8cb202fda329"
      },
      "source": [
        "entrenamiento = preparacionDelDataFrame(entrenamiento)\r\n",
        "entrenamiento.info()"
      ],
      "execution_count": 68,
      "outputs": [
        {
          "output_type": "stream",
          "text": [
            "<class 'pandas.core.frame.DataFrame'>\n",
            "RangeIndex: 16947 entries, 0 to 16946\n",
            "Data columns (total 50 columns):\n",
            " #   Column                              Non-Null Count  Dtype         \n",
            "---  ------                              --------------  -----         \n",
            " 0   ID                                  16947 non-null  int64         \n",
            " 1   Region                              16947 non-null  category      \n",
            " 2   Territory                           16947 non-null  object        \n",
            " 3   Pricing, Delivery_Terms_Quote_Appr  16947 non-null  bool          \n",
            " 4   Pricing, Delivery_Terms_Approved    16947 non-null  bool          \n",
            " 5   Bureaucratic_Code_0_Approval        16947 non-null  bool          \n",
            " 6   Bureaucratic_Code_0_Approved        16947 non-null  bool          \n",
            " 7   Bureaucratic_Code                   16947 non-null  category      \n",
            " 8   Account_Created_Date                16947 non-null  datetime64[ns]\n",
            " 9   Source                              16947 non-null  category      \n",
            " 10  Billing_Country                     16947 non-null  category      \n",
            " 11  Account_Name                        16947 non-null  category      \n",
            " 12  Opportunity_Name                    16947 non-null  category      \n",
            " 13  Opportunity_ID                      16947 non-null  int64         \n",
            " 14  Sales_Contract_No                   16947 non-null  object        \n",
            " 15  Account_Owner                       16947 non-null  object        \n",
            " 16  Opportunity_Owner                   16947 non-null  object        \n",
            " 17  Account_Type                        16947 non-null  object        \n",
            " 18  Opportunity_Type                    16947 non-null  object        \n",
            " 19  Quote_Type                          16947 non-null  object        \n",
            " 20  Delivery_Terms                      16947 non-null  object        \n",
            " 21  Opportunity_Created_Date            16947 non-null  datetime64[ns]\n",
            " 22  Brand                               16947 non-null  object        \n",
            " 23  Product_Type                        16947 non-null  object        \n",
            " 24  Size                                16947 non-null  object        \n",
            " 25  Product_Category_B                  16947 non-null  category      \n",
            " 26  Price                               356 non-null    float64       \n",
            " 27  Currency                            16947 non-null  object        \n",
            " 28  Quote_Expiry_Date                   12322 non-null  datetime64[ns]\n",
            " 29  Last_Modified_Date                  16947 non-null  datetime64[ns]\n",
            " 30  Last_Modified_By                    16947 non-null  object        \n",
            " 31  Product_Family                      16947 non-null  category      \n",
            " 32  Product_Name                        16947 non-null  object        \n",
            " 33  ASP_Currency                        16947 non-null  object        \n",
            " 34  ASP                                 13738 non-null  float64       \n",
            " 35  ASP_(converted)_Currency            16947 non-null  object        \n",
            " 36  ASP_(converted)                     13738 non-null  float64       \n",
            " 37  Planned_Delivery_Start_Date         16947 non-null  datetime64[ns]\n",
            " 38  Planned_Delivery_End_Date           16872 non-null  datetime64[ns]\n",
            " 39  Month                               16947 non-null  object        \n",
            " 40  Delivery_Quarter                    16947 non-null  object        \n",
            " 41  Delivery_Year                       16947 non-null  datetime64[ns]\n",
            " 42  TRF                                 16947 non-null  int64         \n",
            " 43  Total_Amount_Currency               16947 non-null  object        \n",
            " 44  Total_Amount                        16888 non-null  float64       \n",
            " 45  Total_Taxable_Amount_Currency       16947 non-null  object        \n",
            " 46  Total_Taxable_Amount                16947 non-null  float64       \n",
            " 47  Stage                               16947 non-null  category      \n",
            " 48  Closed                              16947 non-null  bool          \n",
            " 49  Won                                 16947 non-null  bool          \n",
            "dtypes: bool(6), category(9), datetime64[ns](7), float64(5), int64(3), object(20)\n",
            "memory usage: 5.3+ MB\n"
          ],
          "name": "stdout"
        }
      ]
    },
    {
      "cell_type": "code",
      "metadata": {
        "colab": {
          "base_uri": "https://localhost:8080/"
        },
        "id": "HsNznYyLr21Z",
        "outputId": "f3408b0e-9e30-48ea-f8cc-e42e03605b61"
      },
      "source": [
        "testeo = preparacionDelDataFrame(testeo,False)\r\n",
        "testeo.info()"
      ],
      "execution_count": 69,
      "outputs": [
        {
          "output_type": "stream",
          "text": [
            "<class 'pandas.core.frame.DataFrame'>\n",
            "RangeIndex: 2551 entries, 0 to 2550\n",
            "Data columns (total 47 columns):\n",
            " #   Column                              Non-Null Count  Dtype         \n",
            "---  ------                              --------------  -----         \n",
            " 0   ID                                  2551 non-null   int64         \n",
            " 1   Region                              2551 non-null   category      \n",
            " 2   Territory                           2551 non-null   object        \n",
            " 3   Pricing, Delivery_Terms_Quote_Appr  2551 non-null   bool          \n",
            " 4   Pricing, Delivery_Terms_Approved    2551 non-null   bool          \n",
            " 5   Bureaucratic_Code_0_Approval        2551 non-null   bool          \n",
            " 6   Bureaucratic_Code_0_Approved        2551 non-null   bool          \n",
            " 7   Bureaucratic_Code                   2551 non-null   category      \n",
            " 8   Account_Created_Date                2551 non-null   datetime64[ns]\n",
            " 9   Source                              2551 non-null   category      \n",
            " 10  Billing_Country                     2551 non-null   category      \n",
            " 11  Account_Name                        2551 non-null   category      \n",
            " 12  Opportunity_Name                    2551 non-null   category      \n",
            " 13  Opportunity_ID                      2551 non-null   int64         \n",
            " 14  Sales_Contract_No                   2551 non-null   object        \n",
            " 15  Account_Owner                       2551 non-null   object        \n",
            " 16  Opportunity_Owner                   2551 non-null   object        \n",
            " 17  Account_Type                        2551 non-null   object        \n",
            " 18  Opportunity_Type                    2551 non-null   object        \n",
            " 19  Quote_Type                          2551 non-null   object        \n",
            " 20  Delivery_Terms                      2551 non-null   object        \n",
            " 21  Opportunity_Created_Date            2551 non-null   datetime64[ns]\n",
            " 22  Brand                               2551 non-null   object        \n",
            " 23  Product_Type                        2551 non-null   object        \n",
            " 24  Size                                2551 non-null   object        \n",
            " 25  Product_Category_B                  2551 non-null   category      \n",
            " 26  Price                               160 non-null    float64       \n",
            " 27  Currency                            2551 non-null   object        \n",
            " 28  Quote_Expiry_Date                   1315 non-null   datetime64[ns]\n",
            " 29  Last_Modified_Date                  2551 non-null   datetime64[ns]\n",
            " 30  Last_Modified_By                    2551 non-null   object        \n",
            " 31  Product_Family                      2551 non-null   category      \n",
            " 32  Product_Name                        2551 non-null   object        \n",
            " 33  ASP_Currency                        2551 non-null   object        \n",
            " 34  ASP                                 2467 non-null   float64       \n",
            " 35  ASP_(converted)_Currency            2551 non-null   object        \n",
            " 36  ASP_(converted)                     2467 non-null   float64       \n",
            " 37  Planned_Delivery_Start_Date         2551 non-null   datetime64[ns]\n",
            " 38  Planned_Delivery_End_Date           2500 non-null   datetime64[ns]\n",
            " 39  Month                               2551 non-null   object        \n",
            " 40  Delivery_Quarter                    2551 non-null   object        \n",
            " 41  Delivery_Year                       2551 non-null   datetime64[ns]\n",
            " 42  TRF                                 2551 non-null   int64         \n",
            " 43  Total_Amount_Currency               2551 non-null   object        \n",
            " 44  Total_Amount                        2551 non-null   float64       \n",
            " 45  Total_Taxable_Amount_Currency       2551 non-null   object        \n",
            " 46  Total_Taxable_Amount                2551 non-null   float64       \n",
            "dtypes: bool(4), category(8), datetime64[ns](7), float64(5), int64(3), object(20)\n",
            "memory usage: 815.8+ KB\n"
          ],
          "name": "stdout"
        }
      ]
    },
    {
      "cell_type": "markdown",
      "metadata": {
        "id": "q8JeolJN08kJ"
      },
      "source": [
        "### ejecucion por oportunidad"
      ]
    },
    {
      "cell_type": "code",
      "metadata": {
        "colab": {
          "base_uri": "https://localhost:8080/",
          "height": 380
        },
        "id": "4FaCKA1_1ANL",
        "outputId": "2861baae-dfab-47a9-9506-26dff7033c44"
      },
      "source": [
        "agrupacionEntrenamiento = agrupacionDeOportunidades(entrenamiento)\r\n",
        "agrupacionEntrenamiento.info()"
      ],
      "execution_count": 83,
      "outputs": [
        {
          "output_type": "error",
          "ename": "TypeError",
          "evalue": "ignored",
          "traceback": [
            "\u001b[0;31m---------------------------------------------------------------------------\u001b[0m",
            "\u001b[0;31mTypeError\u001b[0m                                 Traceback (most recent call last)",
            "\u001b[0;32m<ipython-input-83-d8ecfda306df>\u001b[0m in \u001b[0;36m<module>\u001b[0;34m()\u001b[0m\n\u001b[0;32m----> 1\u001b[0;31m \u001b[0magrupacionEntrenamiento\u001b[0m \u001b[0;34m=\u001b[0m \u001b[0magrupacionDeOportunidades\u001b[0m\u001b[0;34m(\u001b[0m\u001b[0mentrenamiento\u001b[0m\u001b[0;34m)\u001b[0m\u001b[0;34m\u001b[0m\u001b[0;34m\u001b[0m\u001b[0m\n\u001b[0m\u001b[1;32m      2\u001b[0m \u001b[0magrupacionEntrenamiento\u001b[0m\u001b[0;34m.\u001b[0m\u001b[0minfo\u001b[0m\u001b[0;34m(\u001b[0m\u001b[0;34m)\u001b[0m\u001b[0;34m\u001b[0m\u001b[0;34m\u001b[0m\u001b[0m\n",
            "\u001b[0;32m<ipython-input-78-e9b86bc64d21>\u001b[0m in \u001b[0;36magrupacionDeOportunidades\u001b[0;34m(df, entrenamiento)\u001b[0m\n\u001b[1;32m     63\u001b[0m \u001b[0;34m\u001b[0m\u001b[0m\n\u001b[1;32m     64\u001b[0m   \u001b[0mlistaDeValoresDeFechas\u001b[0m \u001b[0;34m=\u001b[0m \u001b[0;34m[\u001b[0m\u001b[0;34m'Last_Modified_Date'\u001b[0m\u001b[0;34m,\u001b[0m\u001b[0;34m'Opportunity_Created_Date'\u001b[0m\u001b[0;34m,\u001b[0m\u001b[0;34m'Account_Created_Date'\u001b[0m\u001b[0;34m]\u001b[0m\u001b[0;34m\u001b[0m\u001b[0;34m\u001b[0m\u001b[0m\n\u001b[0;32m---> 65\u001b[0;31m   \u001b[0mdata\u001b[0m \u001b[0;34m=\u001b[0m \u001b[0mdescomposicionDeFechas\u001b[0m\u001b[0;34m(\u001b[0m\u001b[0mdata\u001b[0m\u001b[0;34m,\u001b[0m\u001b[0mlistaDeValoresDeFechas\u001b[0m\u001b[0;34m)\u001b[0m\u001b[0;34m\u001b[0m\u001b[0;34m\u001b[0m\u001b[0m\n\u001b[0m\u001b[1;32m     66\u001b[0m \u001b[0;34m\u001b[0m\u001b[0m\n\u001b[1;32m     67\u001b[0m   \u001b[0;32mreturn\u001b[0m \u001b[0mdata\u001b[0m\u001b[0;34m\u001b[0m\u001b[0;34m\u001b[0m\u001b[0m\n",
            "\u001b[0;32m<ipython-input-82-76c4455d6704>\u001b[0m in \u001b[0;36mdescomposicionDeFechas\u001b[0;34m(df, lista)\u001b[0m\n\u001b[1;32m      7\u001b[0m   \u001b[0;32mfor\u001b[0m \u001b[0mcolumna\u001b[0m \u001b[0;32min\u001b[0m \u001b[0mlista\u001b[0m\u001b[0;34m:\u001b[0m\u001b[0;34m\u001b[0m\u001b[0;34m\u001b[0m\u001b[0m\n\u001b[1;32m      8\u001b[0m     \u001b[0manio\u001b[0m \u001b[0;34m=\u001b[0m \u001b[0mcolumna\u001b[0m \u001b[0;34m+\u001b[0m \u001b[0;34m'_anio'\u001b[0m\u001b[0;34m\u001b[0m\u001b[0;34m\u001b[0m\u001b[0m\n\u001b[0;32m----> 9\u001b[0;31m     \u001b[0mdf\u001b[0m\u001b[0;34m[\u001b[0m\u001b[0manio\u001b[0m\u001b[0;34m]\u001b[0m \u001b[0;34m=\u001b[0m \u001b[0mdf\u001b[0m\u001b[0;34m[\u001b[0m\u001b[0mcolumna\u001b[0m\u001b[0;34m]\u001b[0m\u001b[0;34m.\u001b[0m\u001b[0mapply\u001b[0m\u001b[0;34m(\u001b[0m\u001b[0;32mlambda\u001b[0m \u001b[0mx\u001b[0m\u001b[0;34m:\u001b[0m \u001b[0mx\u001b[0m\u001b[0;34m.\u001b[0m\u001b[0myear\u001b[0m\u001b[0;34m(\u001b[0m\u001b[0;34m)\u001b[0m\u001b[0;34m)\u001b[0m\u001b[0;34m\u001b[0m\u001b[0;34m\u001b[0m\u001b[0m\n\u001b[0m\u001b[1;32m     10\u001b[0m     \u001b[0mmes\u001b[0m \u001b[0;34m=\u001b[0m \u001b[0mcolumna\u001b[0m \u001b[0;34m+\u001b[0m \u001b[0;34m'_mes'\u001b[0m\u001b[0;34m\u001b[0m\u001b[0;34m\u001b[0m\u001b[0m\n\u001b[1;32m     11\u001b[0m     \u001b[0mdf\u001b[0m\u001b[0;34m[\u001b[0m\u001b[0mmes\u001b[0m\u001b[0;34m]\u001b[0m \u001b[0;34m=\u001b[0m \u001b[0mdf\u001b[0m\u001b[0;34m[\u001b[0m\u001b[0mcolumna\u001b[0m\u001b[0;34m]\u001b[0m\u001b[0;34m.\u001b[0m\u001b[0mapply\u001b[0m\u001b[0;34m(\u001b[0m\u001b[0;32mlambda\u001b[0m \u001b[0mx\u001b[0m\u001b[0;34m:\u001b[0m \u001b[0mx\u001b[0m\u001b[0;34m.\u001b[0m\u001b[0mmonth\u001b[0m\u001b[0;34m(\u001b[0m\u001b[0;34m)\u001b[0m\u001b[0;34m)\u001b[0m\u001b[0;34m\u001b[0m\u001b[0;34m\u001b[0m\u001b[0m\n",
            "\u001b[0;32m/usr/local/lib/python3.6/dist-packages/pandas/core/series.py\u001b[0m in \u001b[0;36mapply\u001b[0;34m(self, func, convert_dtype, args, **kwds)\u001b[0m\n\u001b[1;32m   4211\u001b[0m             \u001b[0;32melse\u001b[0m\u001b[0;34m:\u001b[0m\u001b[0;34m\u001b[0m\u001b[0;34m\u001b[0m\u001b[0m\n\u001b[1;32m   4212\u001b[0m                 \u001b[0mvalues\u001b[0m \u001b[0;34m=\u001b[0m \u001b[0mself\u001b[0m\u001b[0;34m.\u001b[0m\u001b[0mastype\u001b[0m\u001b[0;34m(\u001b[0m\u001b[0mobject\u001b[0m\u001b[0;34m)\u001b[0m\u001b[0;34m.\u001b[0m\u001b[0m_values\u001b[0m\u001b[0;34m\u001b[0m\u001b[0;34m\u001b[0m\u001b[0m\n\u001b[0;32m-> 4213\u001b[0;31m                 \u001b[0mmapped\u001b[0m \u001b[0;34m=\u001b[0m \u001b[0mlib\u001b[0m\u001b[0;34m.\u001b[0m\u001b[0mmap_infer\u001b[0m\u001b[0;34m(\u001b[0m\u001b[0mvalues\u001b[0m\u001b[0;34m,\u001b[0m \u001b[0mf\u001b[0m\u001b[0;34m,\u001b[0m \u001b[0mconvert\u001b[0m\u001b[0;34m=\u001b[0m\u001b[0mconvert_dtype\u001b[0m\u001b[0;34m)\u001b[0m\u001b[0;34m\u001b[0m\u001b[0;34m\u001b[0m\u001b[0m\n\u001b[0m\u001b[1;32m   4214\u001b[0m \u001b[0;34m\u001b[0m\u001b[0m\n\u001b[1;32m   4215\u001b[0m         \u001b[0;32mif\u001b[0m \u001b[0mlen\u001b[0m\u001b[0;34m(\u001b[0m\u001b[0mmapped\u001b[0m\u001b[0;34m)\u001b[0m \u001b[0;32mand\u001b[0m \u001b[0misinstance\u001b[0m\u001b[0;34m(\u001b[0m\u001b[0mmapped\u001b[0m\u001b[0;34m[\u001b[0m\u001b[0;36m0\u001b[0m\u001b[0;34m]\u001b[0m\u001b[0;34m,\u001b[0m \u001b[0mSeries\u001b[0m\u001b[0;34m)\u001b[0m\u001b[0;34m:\u001b[0m\u001b[0;34m\u001b[0m\u001b[0;34m\u001b[0m\u001b[0m\n",
            "\u001b[0;32mpandas/_libs/lib.pyx\u001b[0m in \u001b[0;36mpandas._libs.lib.map_infer\u001b[0;34m()\u001b[0m\n",
            "\u001b[0;32m<ipython-input-82-76c4455d6704>\u001b[0m in \u001b[0;36m<lambda>\u001b[0;34m(x)\u001b[0m\n\u001b[1;32m      7\u001b[0m   \u001b[0;32mfor\u001b[0m \u001b[0mcolumna\u001b[0m \u001b[0;32min\u001b[0m \u001b[0mlista\u001b[0m\u001b[0;34m:\u001b[0m\u001b[0;34m\u001b[0m\u001b[0;34m\u001b[0m\u001b[0m\n\u001b[1;32m      8\u001b[0m     \u001b[0manio\u001b[0m \u001b[0;34m=\u001b[0m \u001b[0mcolumna\u001b[0m \u001b[0;34m+\u001b[0m \u001b[0;34m'_anio'\u001b[0m\u001b[0;34m\u001b[0m\u001b[0;34m\u001b[0m\u001b[0m\n\u001b[0;32m----> 9\u001b[0;31m     \u001b[0mdf\u001b[0m\u001b[0;34m[\u001b[0m\u001b[0manio\u001b[0m\u001b[0;34m]\u001b[0m \u001b[0;34m=\u001b[0m \u001b[0mdf\u001b[0m\u001b[0;34m[\u001b[0m\u001b[0mcolumna\u001b[0m\u001b[0;34m]\u001b[0m\u001b[0;34m.\u001b[0m\u001b[0mapply\u001b[0m\u001b[0;34m(\u001b[0m\u001b[0;32mlambda\u001b[0m \u001b[0mx\u001b[0m\u001b[0;34m:\u001b[0m \u001b[0mx\u001b[0m\u001b[0;34m.\u001b[0m\u001b[0myear\u001b[0m\u001b[0;34m(\u001b[0m\u001b[0;34m)\u001b[0m\u001b[0;34m)\u001b[0m\u001b[0;34m\u001b[0m\u001b[0;34m\u001b[0m\u001b[0m\n\u001b[0m\u001b[1;32m     10\u001b[0m     \u001b[0mmes\u001b[0m \u001b[0;34m=\u001b[0m \u001b[0mcolumna\u001b[0m \u001b[0;34m+\u001b[0m \u001b[0;34m'_mes'\u001b[0m\u001b[0;34m\u001b[0m\u001b[0;34m\u001b[0m\u001b[0m\n\u001b[1;32m     11\u001b[0m     \u001b[0mdf\u001b[0m\u001b[0;34m[\u001b[0m\u001b[0mmes\u001b[0m\u001b[0;34m]\u001b[0m \u001b[0;34m=\u001b[0m \u001b[0mdf\u001b[0m\u001b[0;34m[\u001b[0m\u001b[0mcolumna\u001b[0m\u001b[0;34m]\u001b[0m\u001b[0;34m.\u001b[0m\u001b[0mapply\u001b[0m\u001b[0;34m(\u001b[0m\u001b[0;32mlambda\u001b[0m \u001b[0mx\u001b[0m\u001b[0;34m:\u001b[0m \u001b[0mx\u001b[0m\u001b[0;34m.\u001b[0m\u001b[0mmonth\u001b[0m\u001b[0;34m(\u001b[0m\u001b[0;34m)\u001b[0m\u001b[0;34m)\u001b[0m\u001b[0;34m\u001b[0m\u001b[0;34m\u001b[0m\u001b[0m\n",
            "\u001b[0;31mTypeError\u001b[0m: 'int' object is not callable"
          ]
        }
      ]
    },
    {
      "cell_type": "code",
      "metadata": {
        "id": "u45CZJXV1Flo"
      },
      "source": [
        "agrupacionTesteo = agrupacionDeOportunidades(testeo,False)\r\n",
        "agrupacionTesteo.info()"
      ],
      "execution_count": null,
      "outputs": []
    },
    {
      "cell_type": "markdown",
      "metadata": {
        "id": "1xfzMbqiZrue"
      },
      "source": [
        "### separacion de resultados de entrenamiento"
      ]
    },
    {
      "cell_type": "code",
      "metadata": {
        "colab": {
          "base_uri": "https://localhost:8080/"
        },
        "id": "3_W40iRfZ0e9",
        "outputId": "03366e1c-0749-42e9-c292-306893d88ba5"
      },
      "source": [
        "entrenamientoResultado = agrupacionEntrenamiento[['Won']]\r\n",
        "entrenamientoResultado.info()"
      ],
      "execution_count": 73,
      "outputs": [
        {
          "output_type": "stream",
          "text": [
            "<class 'pandas.core.frame.DataFrame'>\n",
            "Int64Index: 9791 entries, 0 to 12803\n",
            "Data columns (total 1 columns):\n",
            " #   Column  Non-Null Count  Dtype\n",
            "---  ------  --------------  -----\n",
            " 0   Won     9791 non-null   int64\n",
            "dtypes: int64(1)\n",
            "memory usage: 153.0 KB\n"
          ],
          "name": "stdout"
        }
      ]
    },
    {
      "cell_type": "code",
      "metadata": {
        "colab": {
          "base_uri": "https://localhost:8080/"
        },
        "id": "8-ZrGbyfaHH1",
        "outputId": "e19574b1-ec13-4320-b7ab-4964aad70398"
      },
      "source": [
        "agrupacionEntrenamiento = agrupacionEntrenamiento.drop(['Won'], axis=1)\r\n",
        "agrupacionEntrenamiento.info()"
      ],
      "execution_count": 74,
      "outputs": [
        {
          "output_type": "stream",
          "text": [
            "<class 'pandas.core.frame.DataFrame'>\n",
            "Int64Index: 9791 entries, 0 to 12803\n",
            "Data columns (total 15 columns):\n",
            " #   Column                              Non-Null Count  Dtype         \n",
            "---  ------                              --------------  -----         \n",
            " 0   modificaciones                      9791 non-null   int64         \n",
            " 1   Last_Modified_Date                  9791 non-null   datetime64[ns]\n",
            " 2   Opportunity_Created_Date            9791 non-null   datetime64[ns]\n",
            " 3   Quote_Expiry_Date                   9791 non-null   object        \n",
            " 4   Pricing, Delivery_Terms_Quote_Appr  9791 non-null   int64         \n",
            " 5   Pricing, Delivery_Terms_Approved    9791 non-null   int64         \n",
            " 6   Bureaucratic_Code_0_Approval        9791 non-null   int64         \n",
            " 7   Bureaucratic_Code_0_Approved        9791 non-null   int64         \n",
            " 8   Account_Created_Date                9791 non-null   datetime64[ns]\n",
            " 9   Total_Amount                        9791 non-null   float64       \n",
            " 10  Region                              9791 non-null   category      \n",
            " 11  Territory                           9791 non-null   category      \n",
            " 12  ASP_(converted)                     9791 non-null   float64       \n",
            " 13  Product_Type                        9791 non-null   category      \n",
            " 14  Product_Category_B                  9791 non-null   category      \n",
            "dtypes: category(4), datetime64[ns](3), float64(2), int64(5), object(1)\n",
            "memory usage: 961.2+ KB\n"
          ],
          "name": "stdout"
        }
      ]
    },
    {
      "cell_type": "markdown",
      "metadata": {
        "id": "S7uqV5xvL6Zo"
      },
      "source": [
        "## Prueva"
      ]
    },
    {
      "cell_type": "code",
      "metadata": {
        "colab": {
          "base_uri": "https://localhost:8080/"
        },
        "id": "NunGAz88MAbb",
        "outputId": "5170d3a3-8f8c-49da-8639-bedfcf41853f"
      },
      "source": [
        "prueva = agrupacionTesteo.reset_index()\r\n",
        "prueva = prueva[['Opportunity_ID']]\r\n",
        "prueva['prediccion'] = 0.5\r\n",
        "prueva\r\n",
        "prueva.info()"
      ],
      "execution_count": null,
      "outputs": [
        {
          "output_type": "stream",
          "text": [
            "<class 'pandas.core.frame.DataFrame'>\n",
            "RangeIndex: 1567 entries, 0 to 1566\n",
            "Data columns (total 2 columns):\n",
            " #   Column          Non-Null Count  Dtype\n",
            "---  ------          --------------  -----\n",
            " 0   Opportunity_ID  1567 non-null   int64\n",
            " 1   prediccion      1567 non-null   int64\n",
            "dtypes: int64(2)\n",
            "memory usage: 24.6 KB\n"
          ],
          "name": "stdout"
        }
      ]
    },
    {
      "cell_type": "code",
      "metadata": {
        "colab": {
          "base_uri": "https://localhost:8080/"
        },
        "id": "awlnBfcMPa1n",
        "outputId": "1d302155-3c1f-42b6-f583-659c772ce562"
      },
      "source": [
        "prueva = agrupacionTesteo\r\n",
        "prueva['Target'] = 0.5\r\n",
        "prueva = prueva[['Target']]\r\n",
        "prueva.info()"
      ],
      "execution_count": 21,
      "outputs": [
        {
          "output_type": "stream",
          "text": [
            "<class 'pandas.core.frame.DataFrame'>\n",
            "Int64Index: 1567 entries, 10689 to 12368\n",
            "Data columns (total 1 columns):\n",
            " #   Column  Non-Null Count  Dtype  \n",
            "---  ------  --------------  -----  \n",
            " 0   Target  1567 non-null   float64\n",
            "dtypes: float64(1)\n",
            "memory usage: 24.5 KB\n"
          ],
          "name": "stdout"
        }
      ]
    },
    {
      "cell_type": "code",
      "metadata": {
        "id": "r0aMgBvBPDCg"
      },
      "source": [
        "from google.colab import files\r\n",
        "\r\n",
        "prueva.to_csv('prueva.csv')\r\n",
        "#files.download('resultado.csv')"
      ],
      "execution_count": 22,
      "outputs": []
    },
    {
      "cell_type": "markdown",
      "metadata": {
        "id": "zVBNOzCKY0VD"
      },
      "source": [
        "## Resultado"
      ]
    },
    {
      "cell_type": "code",
      "metadata": {
        "id": "bU-Rs00eY2ix"
      },
      "source": [
        "def resultado(df,prediccion):\r\n",
        "  resultado = df\r\n",
        "  resultado['Target'] = prediccion\r\n",
        "  resultado = resultado[['Target']]\r\n",
        "  resultado.to_csv('resultado.csv')\r\n",
        "  return resultado"
      ],
      "execution_count": 23,
      "outputs": []
    },
    {
      "cell_type": "markdown",
      "metadata": {
        "id": "J983upopKwQx"
      },
      "source": [
        "## Catboost"
      ]
    },
    {
      "cell_type": "code",
      "metadata": {
        "id": "4fhBQZdlK0xf"
      },
      "source": [
        "def catboost(train_data,train_labels,cat_features,eval_data):\r\n",
        "  # Inicializador de CatBoostClassifier\r\n",
        "  model = CatBoostClassifier(iterations=2,\r\n",
        "                            learning_rate=1,\r\n",
        "                            depth=8)\r\n",
        "  #parametros importantes por agregar: l2_leaf_reg, rsm\r\n",
        "  #para tipos de category: cat_features, one_hot_max_size\r\n",
        "\r\n",
        "  # Entrenamiento del modelo\r\n",
        "  model.fit(train_data, train_labels, cat_features)\r\n",
        "\r\n",
        "  # obtener prediccion\r\n",
        "  #preds_class = model.predict(eval_data)\r\n",
        "\r\n",
        "  # obtener probabilidad de prediccion\r\n",
        "  preds_proba = model.predict_proba(eval_data)\r\n",
        "\r\n",
        "  # obtener RawFormulaVal de la prediccion\r\n",
        "  #preds_raw = model.predict(eval_data, prediction_type='RawFormulaVal')\r\n",
        "\r\n",
        "  return resultado(eval_data,preds_proba)"
      ],
      "execution_count": 42,
      "outputs": []
    },
    {
      "cell_type": "code",
      "metadata": {
        "colab": {
          "base_uri": "https://localhost:8080/",
          "height": 784
        },
        "id": "DgznGL-LaXIz",
        "outputId": "cbcb0253-0c82-4e3d-9778-17d1f9fd94ba"
      },
      "source": [
        "listaDeCategoricas = ['Region','Territory','Product_Type','Product_Category_B']\r\n",
        "#listaDeCategoricas = []\r\n",
        "res = catboost(agrupacionEntrenamiento,entrenamientoResultado,listaDeCategoricas,agrupacionTesteo)\r\n",
        "res.info()"
      ],
      "execution_count": 76,
      "outputs": [
        {
          "output_type": "error",
          "ename": "CatBoostError",
          "evalue": "ignored",
          "traceback": [
            "\u001b[0;31m---------------------------------------------------------------------------\u001b[0m",
            "\u001b[0;31mCatBoostError\u001b[0m                             Traceback (most recent call last)",
            "\u001b[0;32m_catboost.pyx\u001b[0m in \u001b[0;36m_catboost.get_cat_factor_bytes_representation\u001b[0;34m()\u001b[0m\n",
            "\u001b[0;32m_catboost.pyx\u001b[0m in \u001b[0;36m_catboost.get_id_object_bytes_string_representation\u001b[0;34m()\u001b[0m\n",
            "\u001b[0;31mCatBoostError\u001b[0m: bad object for id: 2016-06-13T00:00:00.000000000",
            "\nDuring handling of the above exception, another exception occurred:\n",
            "\u001b[0;31mCatBoostError\u001b[0m                             Traceback (most recent call last)",
            "\u001b[0;32m<ipython-input-76-36b244392a58>\u001b[0m in \u001b[0;36m<module>\u001b[0;34m()\u001b[0m\n\u001b[1;32m      1\u001b[0m \u001b[0mlistaDeCategoricas\u001b[0m \u001b[0;34m=\u001b[0m \u001b[0;34m[\u001b[0m\u001b[0;34m'Region'\u001b[0m\u001b[0;34m,\u001b[0m\u001b[0;34m'Territory'\u001b[0m\u001b[0;34m,\u001b[0m\u001b[0;34m'Product_Type'\u001b[0m\u001b[0;34m,\u001b[0m\u001b[0;34m'Product_Category_B'\u001b[0m\u001b[0;34m,\u001b[0m\u001b[0;34m'Last_Modified_Date'\u001b[0m\u001b[0;34m,\u001b[0m\u001b[0;34m'Opportunity_Created_Date'\u001b[0m\u001b[0;34m,\u001b[0m\u001b[0;34m'Account_Created_Date'\u001b[0m\u001b[0;34m]\u001b[0m\u001b[0;34m\u001b[0m\u001b[0;34m\u001b[0m\u001b[0m\n\u001b[1;32m      2\u001b[0m \u001b[0;31m#listaDeCategoricas = []\u001b[0m\u001b[0;34m\u001b[0m\u001b[0;34m\u001b[0m\u001b[0;34m\u001b[0m\u001b[0m\n\u001b[0;32m----> 3\u001b[0;31m \u001b[0mres\u001b[0m \u001b[0;34m=\u001b[0m \u001b[0mcatboost\u001b[0m\u001b[0;34m(\u001b[0m\u001b[0magrupacionEntrenamiento\u001b[0m\u001b[0;34m,\u001b[0m\u001b[0mentrenamientoResultado\u001b[0m\u001b[0;34m,\u001b[0m\u001b[0mlistaDeCategoricas\u001b[0m\u001b[0;34m,\u001b[0m\u001b[0magrupacionTesteo\u001b[0m\u001b[0;34m)\u001b[0m\u001b[0;34m\u001b[0m\u001b[0;34m\u001b[0m\u001b[0m\n\u001b[0m\u001b[1;32m      4\u001b[0m \u001b[0mres\u001b[0m\u001b[0;34m.\u001b[0m\u001b[0minfo\u001b[0m\u001b[0;34m(\u001b[0m\u001b[0;34m)\u001b[0m\u001b[0;34m\u001b[0m\u001b[0;34m\u001b[0m\u001b[0m\n",
            "\u001b[0;32m<ipython-input-42-6523207f71d0>\u001b[0m in \u001b[0;36mcatboost\u001b[0;34m(train_data, train_labels, cat_features, eval_data)\u001b[0m\n\u001b[1;32m      8\u001b[0m \u001b[0;34m\u001b[0m\u001b[0m\n\u001b[1;32m      9\u001b[0m   \u001b[0;31m# Entrenamiento del modelo\u001b[0m\u001b[0;34m\u001b[0m\u001b[0;34m\u001b[0m\u001b[0;34m\u001b[0m\u001b[0m\n\u001b[0;32m---> 10\u001b[0;31m   \u001b[0mmodel\u001b[0m\u001b[0;34m.\u001b[0m\u001b[0mfit\u001b[0m\u001b[0;34m(\u001b[0m\u001b[0mtrain_data\u001b[0m\u001b[0;34m,\u001b[0m \u001b[0mtrain_labels\u001b[0m\u001b[0;34m,\u001b[0m \u001b[0mcat_features\u001b[0m\u001b[0;34m)\u001b[0m\u001b[0;34m\u001b[0m\u001b[0;34m\u001b[0m\u001b[0m\n\u001b[0m\u001b[1;32m     11\u001b[0m \u001b[0;34m\u001b[0m\u001b[0m\n\u001b[1;32m     12\u001b[0m   \u001b[0;31m# obtener prediccion\u001b[0m\u001b[0;34m\u001b[0m\u001b[0;34m\u001b[0m\u001b[0;34m\u001b[0m\u001b[0m\n",
            "\u001b[0;32m/usr/local/lib/python3.6/dist-packages/catboost/core.py\u001b[0m in \u001b[0;36mfit\u001b[0;34m(self, X, y, cat_features, text_features, embedding_features, sample_weight, baseline, use_best_model, eval_set, verbose, logging_level, plot, column_description, verbose_eval, metric_period, silent, early_stopping_rounds, save_snapshot, snapshot_file, snapshot_interval, init_model)\u001b[0m\n\u001b[1;32m   4302\u001b[0m         self._fit(X, y, cat_features, text_features, embedding_features, None, sample_weight, None, None, None, None, baseline, use_best_model,\n\u001b[1;32m   4303\u001b[0m                   \u001b[0meval_set\u001b[0m\u001b[0;34m,\u001b[0m \u001b[0mverbose\u001b[0m\u001b[0;34m,\u001b[0m \u001b[0mlogging_level\u001b[0m\u001b[0;34m,\u001b[0m \u001b[0mplot\u001b[0m\u001b[0;34m,\u001b[0m \u001b[0mcolumn_description\u001b[0m\u001b[0;34m,\u001b[0m \u001b[0mverbose_eval\u001b[0m\u001b[0;34m,\u001b[0m \u001b[0mmetric_period\u001b[0m\u001b[0;34m,\u001b[0m\u001b[0;34m\u001b[0m\u001b[0;34m\u001b[0m\u001b[0m\n\u001b[0;32m-> 4304\u001b[0;31m                   silent, early_stopping_rounds, save_snapshot, snapshot_file, snapshot_interval, init_model)\n\u001b[0m\u001b[1;32m   4305\u001b[0m         \u001b[0;32mreturn\u001b[0m \u001b[0mself\u001b[0m\u001b[0;34m\u001b[0m\u001b[0;34m\u001b[0m\u001b[0m\n\u001b[1;32m   4306\u001b[0m \u001b[0;34m\u001b[0m\u001b[0m\n",
            "\u001b[0;32m/usr/local/lib/python3.6/dist-packages/catboost/core.py\u001b[0m in \u001b[0;36m_fit\u001b[0;34m(self, X, y, cat_features, text_features, embedding_features, pairs, sample_weight, group_id, group_weight, subgroup_id, pairs_weight, baseline, use_best_model, eval_set, verbose, logging_level, plot, column_description, verbose_eval, metric_period, silent, early_stopping_rounds, save_snapshot, snapshot_file, snapshot_interval, init_model)\u001b[0m\n\u001b[1;32m   1797\u001b[0m             \u001b[0muse_best_model\u001b[0m\u001b[0;34m,\u001b[0m \u001b[0meval_set\u001b[0m\u001b[0;34m,\u001b[0m \u001b[0mverbose\u001b[0m\u001b[0;34m,\u001b[0m \u001b[0mlogging_level\u001b[0m\u001b[0;34m,\u001b[0m \u001b[0mplot\u001b[0m\u001b[0;34m,\u001b[0m\u001b[0;34m\u001b[0m\u001b[0;34m\u001b[0m\u001b[0m\n\u001b[1;32m   1798\u001b[0m             \u001b[0mcolumn_description\u001b[0m\u001b[0;34m,\u001b[0m \u001b[0mverbose_eval\u001b[0m\u001b[0;34m,\u001b[0m \u001b[0mmetric_period\u001b[0m\u001b[0;34m,\u001b[0m \u001b[0msilent\u001b[0m\u001b[0;34m,\u001b[0m \u001b[0mearly_stopping_rounds\u001b[0m\u001b[0;34m,\u001b[0m\u001b[0;34m\u001b[0m\u001b[0;34m\u001b[0m\u001b[0m\n\u001b[0;32m-> 1799\u001b[0;31m             \u001b[0msave_snapshot\u001b[0m\u001b[0;34m,\u001b[0m \u001b[0msnapshot_file\u001b[0m\u001b[0;34m,\u001b[0m \u001b[0msnapshot_interval\u001b[0m\u001b[0;34m,\u001b[0m \u001b[0minit_model\u001b[0m\u001b[0;34m\u001b[0m\u001b[0;34m\u001b[0m\u001b[0m\n\u001b[0m\u001b[1;32m   1800\u001b[0m         )\n\u001b[1;32m   1801\u001b[0m         \u001b[0mparams\u001b[0m \u001b[0;34m=\u001b[0m \u001b[0mtrain_params\u001b[0m\u001b[0;34m[\u001b[0m\u001b[0;34m\"params\"\u001b[0m\u001b[0;34m]\u001b[0m\u001b[0;34m\u001b[0m\u001b[0;34m\u001b[0m\u001b[0m\n",
            "\u001b[0;32m/usr/local/lib/python3.6/dist-packages/catboost/core.py\u001b[0m in \u001b[0;36m_prepare_train_params\u001b[0;34m(self, X, y, cat_features, text_features, embedding_features, pairs, sample_weight, group_id, group_weight, subgroup_id, pairs_weight, baseline, use_best_model, eval_set, verbose, logging_level, plot, column_description, verbose_eval, metric_period, silent, early_stopping_rounds, save_snapshot, snapshot_file, snapshot_interval, init_model)\u001b[0m\n\u001b[1;32m   1684\u001b[0m         train_pool = _build_train_pool(X, y, cat_features, text_features, embedding_features, pairs,\n\u001b[1;32m   1685\u001b[0m                                        \u001b[0msample_weight\u001b[0m\u001b[0;34m,\u001b[0m \u001b[0mgroup_id\u001b[0m\u001b[0;34m,\u001b[0m \u001b[0mgroup_weight\u001b[0m\u001b[0;34m,\u001b[0m \u001b[0msubgroup_id\u001b[0m\u001b[0;34m,\u001b[0m \u001b[0mpairs_weight\u001b[0m\u001b[0;34m,\u001b[0m\u001b[0;34m\u001b[0m\u001b[0;34m\u001b[0m\u001b[0m\n\u001b[0;32m-> 1686\u001b[0;31m                                        baseline, column_description)\n\u001b[0m\u001b[1;32m   1687\u001b[0m         \u001b[0;32mif\u001b[0m \u001b[0mtrain_pool\u001b[0m\u001b[0;34m.\u001b[0m\u001b[0mis_empty_\u001b[0m\u001b[0;34m:\u001b[0m\u001b[0;34m\u001b[0m\u001b[0;34m\u001b[0m\u001b[0m\n\u001b[1;32m   1688\u001b[0m             \u001b[0;32mraise\u001b[0m \u001b[0mCatBoostError\u001b[0m\u001b[0;34m(\u001b[0m\u001b[0;34m\"X is empty.\"\u001b[0m\u001b[0;34m)\u001b[0m\u001b[0;34m\u001b[0m\u001b[0;34m\u001b[0m\u001b[0m\n",
            "\u001b[0;32m/usr/local/lib/python3.6/dist-packages/catboost/core.py\u001b[0m in \u001b[0;36m_build_train_pool\u001b[0;34m(X, y, cat_features, text_features, embedding_features, pairs, sample_weight, group_id, group_weight, subgroup_id, pairs_weight, baseline, column_description)\u001b[0m\n\u001b[1;32m    983\u001b[0m             \u001b[0;32mraise\u001b[0m \u001b[0mCatBoostError\u001b[0m\u001b[0;34m(\u001b[0m\u001b[0;34m\"y has not initialized in fit(): X is not catboost.Pool object, y must be not None in fit().\"\u001b[0m\u001b[0;34m)\u001b[0m\u001b[0;34m\u001b[0m\u001b[0;34m\u001b[0m\u001b[0m\n\u001b[1;32m    984\u001b[0m         train_pool = Pool(X, y, cat_features=cat_features, text_features=text_features, embedding_features=embedding_features, pairs=pairs, weight=sample_weight, group_id=group_id,\n\u001b[0;32m--> 985\u001b[0;31m                           group_weight=group_weight, subgroup_id=subgroup_id, pairs_weight=pairs_weight, baseline=baseline)\n\u001b[0m\u001b[1;32m    986\u001b[0m     \u001b[0;32mreturn\u001b[0m \u001b[0mtrain_pool\u001b[0m\u001b[0;34m\u001b[0m\u001b[0;34m\u001b[0m\u001b[0m\n\u001b[1;32m    987\u001b[0m \u001b[0;34m\u001b[0m\u001b[0m\n",
            "\u001b[0;32m/usr/local/lib/python3.6/dist-packages/catboost/core.py\u001b[0m in \u001b[0;36m__init__\u001b[0;34m(self, data, label, cat_features, text_features, embedding_features, column_description, pairs, delimiter, has_header, ignore_csv_quoting, weight, group_id, group_weight, subgroup_id, pairs_weight, baseline, feature_names, thread_count)\u001b[0m\n\u001b[1;32m    453\u001b[0m                     )\n\u001b[1;32m    454\u001b[0m \u001b[0;34m\u001b[0m\u001b[0m\n\u001b[0;32m--> 455\u001b[0;31m                 \u001b[0mself\u001b[0m\u001b[0;34m.\u001b[0m\u001b[0m_init\u001b[0m\u001b[0;34m(\u001b[0m\u001b[0mdata\u001b[0m\u001b[0;34m,\u001b[0m \u001b[0mlabel\u001b[0m\u001b[0;34m,\u001b[0m \u001b[0mcat_features\u001b[0m\u001b[0;34m,\u001b[0m \u001b[0mtext_features\u001b[0m\u001b[0;34m,\u001b[0m \u001b[0membedding_features\u001b[0m\u001b[0;34m,\u001b[0m \u001b[0mpairs\u001b[0m\u001b[0;34m,\u001b[0m \u001b[0mweight\u001b[0m\u001b[0;34m,\u001b[0m \u001b[0mgroup_id\u001b[0m\u001b[0;34m,\u001b[0m \u001b[0mgroup_weight\u001b[0m\u001b[0;34m,\u001b[0m \u001b[0msubgroup_id\u001b[0m\u001b[0;34m,\u001b[0m \u001b[0mpairs_weight\u001b[0m\u001b[0;34m,\u001b[0m \u001b[0mbaseline\u001b[0m\u001b[0;34m,\u001b[0m \u001b[0mfeature_names\u001b[0m\u001b[0;34m,\u001b[0m \u001b[0mthread_count\u001b[0m\u001b[0;34m)\u001b[0m\u001b[0;34m\u001b[0m\u001b[0;34m\u001b[0m\u001b[0m\n\u001b[0m\u001b[1;32m    456\u001b[0m         \u001b[0msuper\u001b[0m\u001b[0;34m(\u001b[0m\u001b[0mPool\u001b[0m\u001b[0;34m,\u001b[0m \u001b[0mself\u001b[0m\u001b[0;34m)\u001b[0m\u001b[0;34m.\u001b[0m\u001b[0m__init__\u001b[0m\u001b[0;34m(\u001b[0m\u001b[0;34m)\u001b[0m\u001b[0;34m\u001b[0m\u001b[0;34m\u001b[0m\u001b[0m\n\u001b[1;32m    457\u001b[0m \u001b[0;34m\u001b[0m\u001b[0m\n",
            "\u001b[0;32m/usr/local/lib/python3.6/dist-packages/catboost/core.py\u001b[0m in \u001b[0;36m_init\u001b[0;34m(self, data, label, cat_features, text_features, embedding_features, pairs, weight, group_id, group_weight, subgroup_id, pairs_weight, baseline, feature_names, thread_count)\u001b[0m\n\u001b[1;32m    964\u001b[0m             \u001b[0mbaseline\u001b[0m \u001b[0;34m=\u001b[0m \u001b[0mnp\u001b[0m\u001b[0;34m.\u001b[0m\u001b[0mreshape\u001b[0m\u001b[0;34m(\u001b[0m\u001b[0mbaseline\u001b[0m\u001b[0;34m,\u001b[0m \u001b[0;34m(\u001b[0m\u001b[0msamples_count\u001b[0m\u001b[0;34m,\u001b[0m \u001b[0;34m-\u001b[0m\u001b[0;36m1\u001b[0m\u001b[0;34m)\u001b[0m\u001b[0;34m)\u001b[0m\u001b[0;34m\u001b[0m\u001b[0;34m\u001b[0m\u001b[0m\n\u001b[1;32m    965\u001b[0m             \u001b[0mself\u001b[0m\u001b[0;34m.\u001b[0m\u001b[0m_check_baseline_shape\u001b[0m\u001b[0;34m(\u001b[0m\u001b[0mbaseline\u001b[0m\u001b[0;34m,\u001b[0m \u001b[0msamples_count\u001b[0m\u001b[0;34m)\u001b[0m\u001b[0;34m\u001b[0m\u001b[0;34m\u001b[0m\u001b[0m\n\u001b[0;32m--> 966\u001b[0;31m         \u001b[0mself\u001b[0m\u001b[0;34m.\u001b[0m\u001b[0m_init_pool\u001b[0m\u001b[0;34m(\u001b[0m\u001b[0mdata\u001b[0m\u001b[0;34m,\u001b[0m \u001b[0mlabel\u001b[0m\u001b[0;34m,\u001b[0m \u001b[0mcat_features\u001b[0m\u001b[0;34m,\u001b[0m \u001b[0mtext_features\u001b[0m\u001b[0;34m,\u001b[0m \u001b[0membedding_features\u001b[0m\u001b[0;34m,\u001b[0m \u001b[0mpairs\u001b[0m\u001b[0;34m,\u001b[0m \u001b[0mweight\u001b[0m\u001b[0;34m,\u001b[0m \u001b[0mgroup_id\u001b[0m\u001b[0;34m,\u001b[0m \u001b[0mgroup_weight\u001b[0m\u001b[0;34m,\u001b[0m \u001b[0msubgroup_id\u001b[0m\u001b[0;34m,\u001b[0m \u001b[0mpairs_weight\u001b[0m\u001b[0;34m,\u001b[0m \u001b[0mbaseline\u001b[0m\u001b[0;34m,\u001b[0m \u001b[0mfeature_names\u001b[0m\u001b[0;34m,\u001b[0m \u001b[0mthread_count\u001b[0m\u001b[0;34m)\u001b[0m\u001b[0;34m\u001b[0m\u001b[0;34m\u001b[0m\u001b[0m\n\u001b[0m\u001b[1;32m    967\u001b[0m \u001b[0;34m\u001b[0m\u001b[0m\n\u001b[1;32m    968\u001b[0m \u001b[0;34m\u001b[0m\u001b[0m\n",
            "\u001b[0;32m_catboost.pyx\u001b[0m in \u001b[0;36m_catboost._PoolBase._init_pool\u001b[0;34m()\u001b[0m\n",
            "\u001b[0;32m_catboost.pyx\u001b[0m in \u001b[0;36m_catboost._PoolBase._init_pool\u001b[0;34m()\u001b[0m\n",
            "\u001b[0;32m_catboost.pyx\u001b[0m in \u001b[0;36m_catboost._PoolBase._init_features_order_layout_pool\u001b[0;34m()\u001b[0m\n",
            "\u001b[0;32m_catboost.pyx\u001b[0m in \u001b[0;36m_catboost._set_features_order_data_pd_data_frame\u001b[0;34m()\u001b[0m\n",
            "\u001b[0;32m_catboost.pyx\u001b[0m in \u001b[0;36m_catboost.get_cat_factor_bytes_representation\u001b[0;34m()\u001b[0m\n",
            "\u001b[0;31mCatBoostError\u001b[0m: Invalid type for cat_feature[non-default value idx=0,feature_idx=1]=2016-06-13T00:00:00.000000000 : cat_features must be integer or string, real number values and NaN values should be converted to string."
          ]
        }
      ]
    }
  ]
}